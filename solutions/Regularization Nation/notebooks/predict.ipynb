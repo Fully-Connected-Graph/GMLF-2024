{
 "cells": [
  {
   "cell_type": "code",
   "execution_count": 1,
   "metadata": {},
   "outputs": [],
   "source": [
    "import pandas as pd\n",
    "from autogluon.tabular import TabularPredictor"
   ]
  },
  {
   "cell_type": "code",
   "execution_count": null,
   "metadata": {},
   "outputs": [],
   "source": [
    "model_path = \"/Users/akseljoonas/Documents/mlfortnight/notebooks/recursive_leakage/AutogluonModels/deployment_model\"\n",
    "\n",
    "# Load the model\n",
    "predictor = TabularPredictor.load(model_path, verbosity=4)\n",
    "predictor._learner.persist_trainer(low_memory=False)"
   ]
  },
  {
   "cell_type": "code",
   "execution_count": 3,
   "metadata": {},
   "outputs": [],
   "source": [
    "# Load the data\n",
    "train_data = pd.read_csv(\n",
    "    \"/Users/akseljoonas/Documents/mlfortnight/notebooks/recursive_leakage/cbrt_hourcos_isweekend_pruned_3ma12_inter_-13_tempcos-cor.csv\"\n",
    ")\n",
    "submit_data = pd.read_csv(\n",
    "    \"/Users/akseljoonas/Documents/mlfortnight/notebooks/recursive_leakage/cbrt_hourcos_isweekend_pruned_3ma12_inter_-13_tempcos-cor_submit.csv\"\n",
    ")"
   ]
  },
  {
   "cell_type": "code",
   "execution_count": null,
   "metadata": {},
   "outputs": [],
   "source": [
    "predictor.model_names()"
   ]
  },
  {
   "cell_type": "code",
   "execution_count": null,
   "metadata": {},
   "outputs": [],
   "source": [
    "predictor.predict(submit_data.head(10), model=\"WeightedEnsemble_L3\")"
   ]
  },
  {
   "cell_type": "code",
   "execution_count": null,
   "metadata": {},
   "outputs": [],
   "source": [
    "feature_importance = predictor.feature_importance(train_data)\n",
    "feature_importance.to_csv(\"importance_final.csv\")\n",
    "feature_importance"
   ]
  },
  {
   "cell_type": "code",
   "execution_count": null,
   "metadata": {},
   "outputs": [],
   "source": []
  }
 ],
 "metadata": {
  "kernelspec": {
   "display_name": "mlfortnight",
   "language": "python",
   "name": "python3"
  },
  "language_info": {
   "codemirror_mode": {
    "name": "ipython",
    "version": 3
   },
   "file_extension": ".py",
   "mimetype": "text/x-python",
   "name": "python",
   "nbconvert_exporter": "python",
   "pygments_lexer": "ipython3",
   "version": "3.12.6"
  }
 },
 "nbformat": 4,
 "nbformat_minor": 2
}
