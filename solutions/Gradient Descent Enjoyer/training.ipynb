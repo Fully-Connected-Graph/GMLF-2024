{
 "cells": [
  {
   "cell_type": "code",
   "execution_count": 26,
   "metadata": {},
   "outputs": [
    {
     "name": "stdout",
     "output_type": "stream",
     "text": [
      "The autoreload extension is already loaded. To reload it, use:\n",
      "  %reload_ext autoreload\n"
     ]
    }
   ],
   "source": [
    "%load_ext autoreload\n",
    "%autoreload 2\n",
    "\n",
    "import lightgbm as lgb\n",
    "import numpy as np\n",
    "import sklearn as sk\n",
    "import pandas as pd\n",
    "\n",
    "from sklearn.ensemble import StackingRegressor\n",
    "from sklearn.linear_model import LinearRegression\n",
    "from sklearn.tree import DecisionTreeRegressor\n",
    "from sklearn.svm import SVR\n",
    "from sklearn.neighbors import KNeighborsRegressor\n",
    "from sklearn.linear_model import ElasticNet\n",
    "from sklearn.ensemble import RandomForestRegressor\n",
    "from sklearn.neural_network import MLPRegressor\n",
    "from sklearn.ensemble import IsolationForest\n",
    "from imblearn.over_sampling import SMOTENC\n",
    "import pickle\n",
    "import json\n",
    "import xgboost as xgb\n",
    "import os\n",
    "\n",
    "# grid search\n",
    "from sklearn.model_selection import GridSearchCV, KFold, StratifiedKFold\n",
    "\n",
    "from skorch import NeuralNetRegressor\n",
    "\n",
    "\n",
    "from tqdm.notebook import tqdm\n",
    "\n",
    "\n",
    "# Neural Networks\n",
    "\n",
    "from sklearn.model_selection import train_test_split\n",
    "from sklearn.metrics import mean_absolute_error\n",
    "from utils import save_result, compute_sample_weights, compute_kl_divergence, load_hyperparams, save_hyperparams"
   ]
  },
  {
   "cell_type": "code",
   "execution_count": 39,
   "metadata": {},
   "outputs": [
    {
     "name": "stdout",
     "output_type": "stream",
     "text": [
      "Loaded best hyperparameters for lgb from config/slope_removed/best_params_lgb.json.\n",
      "Loaded best hyperparameters for svr from config/slope_removed/best_params_svr.json.\n",
      "Loaded best hyperparameters for mlp from config/slope_removed/best_params_mlp.json.\n",
      "Loaded best hyperparameters for knn from config/slope_removed/best_params_knn.json.\n",
      "No existing hyperparameter file for lr. Proceeding with search.\n",
      "MAE: 2.1692718099691732\n"
     ]
    }
   ],
   "source": [
    "data_type = 'slope_removed'\n",
    "data = pd.read_pickle(f'data/{data_type}/train.pkl')\n",
    "\n",
    "test_data = pd.read_pickle(f'data/{data_type}/test.pkl')\n",
    "\n",
    "# Drop and store the ID column\n",
    "test_ids = test_data['ID']\n",
    "test_data = test_data.drop('ID', axis=1)\n",
    "\n",
    "# Drop the ID column\n",
    "data = data.drop('ID', axis=1)\n",
    "\n",
    "# One hot encode train and test data\n",
    "# Only affect categorical columns\n",
    "data = pd.get_dummies(data, drop_first=True)\n",
    "test_data = pd.get_dummies(test_data, drop_first=True)\n",
    "\n",
    "# 80% train, 20% test. Target is target\n",
    "X_train, X_test, y_train, y_test = train_test_split(data.drop('target', axis=1), data['target'], test_size=0.2, stratify=data['work_hours_1'])\n",
    "\n",
    "# iso = IsolationForest(contamination=0.01)\n",
    "# yhat = iso.fit_predict(X_train)\n",
    "# mask = yhat != -1\n",
    "# X_train, y_train = X_train[mask], y_train[mask]\n",
    "\n",
    "best_params_lgb = load_hyperparams('lgb', data_type)\n",
    "best_params_svr = load_hyperparams('svr', data_type)\n",
    "best_params_mlp = load_hyperparams('mlp', data_type)\n",
    "best_params_knn = load_hyperparams('knn', data_type)\n",
    "best_params_lr = load_hyperparams('lr', data_type)\n",
    "\n",
    "# Use lightgbm\n",
    "model1 = lgb.LGBMRegressor(\n",
    "    **best_params_lgb,\n",
    "    verbose=-1\n",
    ")\n",
    "\n",
    "model_svr = SVR(**best_params_svr)\n",
    "model_mlp = MLPRegressor(\n",
    "    **best_params_mlp\n",
    ")\n",
    "\n",
    "model_knn = KNeighborsRegressor(\n",
    "    **best_params_knn\n",
    ")\n",
    "\n",
    "estimators = [\n",
    "    ('lgb', model1),\n",
    "    ('svr', model_svr),\n",
    "    ('mlp', model_mlp),\n",
    "    ('knn', model_knn),\n",
    "]\n",
    "\n",
    "meta_model = LinearRegression(**best_params_lr)\n",
    "\n",
    "model = StackingRegressor(\n",
    "    estimators=estimators,\n",
    "    final_estimator=meta_model,\n",
    "    passthrough=True,\n",
    ")\n",
    "\n",
    "model.fit(X_train, y_train)\n",
    "\n",
    "result = model.predict(X_test)\n",
    "mae = mean_absolute_error(y_test, result)\n",
    "print(f'MAE: {mae}')\n",
    "\n",
    "save_result(mae, data_type)\n",
    "\n",
    "test_result = model.predict(test_data)\n",
    "\n",
    "# Save predictions to predictions/data_type.csv\n",
    "# There must be only be an ID and a target column\n",
    "pd.DataFrame({'ID': test_ids, 'target': test_result}).to_csv(f'predictions/{data_type}.csv', index=False)"
   ]
  },
  {
   "cell_type": "markdown",
   "metadata": {},
   "source": [
    "## Exhaustive grid search"
   ]
  },
  {
   "cell_type": "code",
   "execution_count": 30,
   "metadata": {},
   "outputs": [
    {
     "name": "stdout",
     "output_type": "stream",
     "text": [
      "Optimizing LightGBM Regressor...\n",
      "Loaded best hyperparameters for lgb from config/slope_removed/best_params_lgb.json.\n",
      "Optimizing SVR...\n",
      "Loaded best hyperparameters for svr from config/slope_removed/best_params_svr.json.\n",
      "Optimizing MLP Regressor...\n",
      "Loaded best hyperparameters for mlp from config/slope_removed/best_params_mlp.json.\n",
      "Optimizing KNN Regressor...\n",
      "Loaded best hyperparameters for knn from config/slope_removed/best_params_knn.json.\n",
      "Optimizing meta-estimator...\n",
      "No existing hyperparameter file for lr. Proceeding with search.\n",
      "Fitting 5 folds for each of 600 candidates, totalling 3000 fits\n",
      "[CV 1/5] END final_estimator__alpha=0.0001, final_estimator__fit_intercept=True, final_estimator__l1_ratio=0.1, final_estimator__max_iter=1000, final_estimator__random_state=42, final_estimator__selection=cyclic, final_estimator__tol=0.0001;, score=-2.186 total time=  16.3s\n",
      "[CV 2/5] END final_estimator__alpha=0.0001, final_estimator__fit_intercept=True, final_estimator__l1_ratio=0.1, final_estimator__max_iter=1000, final_estimator__random_state=42, final_estimator__selection=cyclic, final_estimator__tol=0.0001;, score=-2.343 total time=  14.0s\n",
      "[CV 3/5] END final_estimator__alpha=0.0001, final_estimator__fit_intercept=True, final_estimator__l1_ratio=0.1, final_estimator__max_iter=1000, final_estimator__random_state=42, final_estimator__selection=cyclic, final_estimator__tol=0.0001;, score=-2.224 total time=  13.4s\n",
      "[CV 4/5] END final_estimator__alpha=0.0001, final_estimator__fit_intercept=True, final_estimator__l1_ratio=0.1, final_estimator__max_iter=1000, final_estimator__random_state=42, final_estimator__selection=cyclic, final_estimator__tol=0.0001;, score=-2.156 total time=  15.0s\n",
      "[CV 5/5] END final_estimator__alpha=0.0001, final_estimator__fit_intercept=True, final_estimator__l1_ratio=0.1, final_estimator__max_iter=1000, final_estimator__random_state=42, final_estimator__selection=cyclic, final_estimator__tol=0.0001;, score=-2.287 total time=  18.5s\n",
      "[CV 1/5] END final_estimator__alpha=0.0001, final_estimator__fit_intercept=True, final_estimator__l1_ratio=0.1, final_estimator__max_iter=1000, final_estimator__random_state=42, final_estimator__selection=cyclic, final_estimator__tol=0.001;, score=-2.210 total time=  15.8s\n",
      "[CV 2/5] END final_estimator__alpha=0.0001, final_estimator__fit_intercept=True, final_estimator__l1_ratio=0.1, final_estimator__max_iter=1000, final_estimator__random_state=42, final_estimator__selection=cyclic, final_estimator__tol=0.001;, score=-2.332 total time=  14.5s\n",
      "[CV 3/5] END final_estimator__alpha=0.0001, final_estimator__fit_intercept=True, final_estimator__l1_ratio=0.1, final_estimator__max_iter=1000, final_estimator__random_state=42, final_estimator__selection=cyclic, final_estimator__tol=0.001;, score=-2.198 total time=  15.3s\n",
      "[CV 4/5] END final_estimator__alpha=0.0001, final_estimator__fit_intercept=True, final_estimator__l1_ratio=0.1, final_estimator__max_iter=1000, final_estimator__random_state=42, final_estimator__selection=cyclic, final_estimator__tol=0.001;, score=-2.169 total time=  12.8s\n",
      "[CV 5/5] END final_estimator__alpha=0.0001, final_estimator__fit_intercept=True, final_estimator__l1_ratio=0.1, final_estimator__max_iter=1000, final_estimator__random_state=42, final_estimator__selection=cyclic, final_estimator__tol=0.001;, score=-2.290 total time=  16.0s\n",
      "[CV 1/5] END final_estimator__alpha=0.0001, final_estimator__fit_intercept=True, final_estimator__l1_ratio=0.1, final_estimator__max_iter=1000, final_estimator__random_state=42, final_estimator__selection=cyclic, final_estimator__tol=0.01;, score=-2.226 total time=  15.2s\n",
      "[CV 2/5] END final_estimator__alpha=0.0001, final_estimator__fit_intercept=True, final_estimator__l1_ratio=0.1, final_estimator__max_iter=1000, final_estimator__random_state=42, final_estimator__selection=cyclic, final_estimator__tol=0.01;, score=-2.342 total time=  15.0s\n",
      "[CV 3/5] END final_estimator__alpha=0.0001, final_estimator__fit_intercept=True, final_estimator__l1_ratio=0.1, final_estimator__max_iter=1000, final_estimator__random_state=42, final_estimator__selection=cyclic, final_estimator__tol=0.01;, score=-2.200 total time=  16.7s\n",
      "[CV 4/5] END final_estimator__alpha=0.0001, final_estimator__fit_intercept=True, final_estimator__l1_ratio=0.1, final_estimator__max_iter=1000, final_estimator__random_state=42, final_estimator__selection=cyclic, final_estimator__tol=0.01;, score=-2.170 total time=  17.1s\n",
      "[CV 5/5] END final_estimator__alpha=0.0001, final_estimator__fit_intercept=True, final_estimator__l1_ratio=0.1, final_estimator__max_iter=1000, final_estimator__random_state=42, final_estimator__selection=cyclic, final_estimator__tol=0.01;, score=-2.292 total time=  13.6s\n",
      "[CV 1/5] END final_estimator__alpha=0.0001, final_estimator__fit_intercept=True, final_estimator__l1_ratio=0.1, final_estimator__max_iter=1000, final_estimator__random_state=42, final_estimator__selection=random, final_estimator__tol=0.0001;, score=-2.201 total time=  18.6s\n",
      "[CV 2/5] END final_estimator__alpha=0.0001, final_estimator__fit_intercept=True, final_estimator__l1_ratio=0.1, final_estimator__max_iter=1000, final_estimator__random_state=42, final_estimator__selection=random, final_estimator__tol=0.0001;, score=-2.339 total time=  18.3s\n",
      "[CV 3/5] END final_estimator__alpha=0.0001, final_estimator__fit_intercept=True, final_estimator__l1_ratio=0.1, final_estimator__max_iter=1000, final_estimator__random_state=42, final_estimator__selection=random, final_estimator__tol=0.0001;, score=-2.205 total time=  16.0s\n",
      "[CV 4/5] END final_estimator__alpha=0.0001, final_estimator__fit_intercept=True, final_estimator__l1_ratio=0.1, final_estimator__max_iter=1000, final_estimator__random_state=42, final_estimator__selection=random, final_estimator__tol=0.0001;, score=-2.155 total time=  18.7s\n",
      "[CV 5/5] END final_estimator__alpha=0.0001, final_estimator__fit_intercept=True, final_estimator__l1_ratio=0.1, final_estimator__max_iter=1000, final_estimator__random_state=42, final_estimator__selection=random, final_estimator__tol=0.0001;, score=-2.298 total time=  15.8s\n",
      "[CV 1/5] END final_estimator__alpha=0.0001, final_estimator__fit_intercept=True, final_estimator__l1_ratio=0.1, final_estimator__max_iter=1000, final_estimator__random_state=42, final_estimator__selection=random, final_estimator__tol=0.001;, score=-2.178 total time=  19.5s\n",
      "[CV 2/5] END final_estimator__alpha=0.0001, final_estimator__fit_intercept=True, final_estimator__l1_ratio=0.1, final_estimator__max_iter=1000, final_estimator__random_state=42, final_estimator__selection=random, final_estimator__tol=0.001;, score=-2.323 total time=  18.2s\n",
      "[CV 3/5] END final_estimator__alpha=0.0001, final_estimator__fit_intercept=True, final_estimator__l1_ratio=0.1, final_estimator__max_iter=1000, final_estimator__random_state=42, final_estimator__selection=random, final_estimator__tol=0.001;, score=-2.197 total time=  14.1s\n",
      "[CV 4/5] END final_estimator__alpha=0.0001, final_estimator__fit_intercept=True, final_estimator__l1_ratio=0.1, final_estimator__max_iter=1000, final_estimator__random_state=42, final_estimator__selection=random, final_estimator__tol=0.001;, score=-2.160 total time=  18.2s\n",
      "[CV 5/5] END final_estimator__alpha=0.0001, final_estimator__fit_intercept=True, final_estimator__l1_ratio=0.1, final_estimator__max_iter=1000, final_estimator__random_state=42, final_estimator__selection=random, final_estimator__tol=0.001;, score=-2.298 total time=  20.2s\n",
      "[CV 1/5] END final_estimator__alpha=0.0001, final_estimator__fit_intercept=True, final_estimator__l1_ratio=0.1, final_estimator__max_iter=1000, final_estimator__random_state=42, final_estimator__selection=random, final_estimator__tol=0.01;, score=-2.194 total time=  17.2s\n",
      "[CV 2/5] END final_estimator__alpha=0.0001, final_estimator__fit_intercept=True, final_estimator__l1_ratio=0.1, final_estimator__max_iter=1000, final_estimator__random_state=42, final_estimator__selection=random, final_estimator__tol=0.01;, score=-2.338 total time=  18.6s\n",
      "[CV 3/5] END final_estimator__alpha=0.0001, final_estimator__fit_intercept=True, final_estimator__l1_ratio=0.1, final_estimator__max_iter=1000, final_estimator__random_state=42, final_estimator__selection=random, final_estimator__tol=0.01;, score=-2.210 total time=  16.3s\n",
      "[CV 4/5] END final_estimator__alpha=0.0001, final_estimator__fit_intercept=True, final_estimator__l1_ratio=0.1, final_estimator__max_iter=1000, final_estimator__random_state=42, final_estimator__selection=random, final_estimator__tol=0.01;, score=-2.171 total time=  16.9s\n",
      "[CV 5/5] END final_estimator__alpha=0.0001, final_estimator__fit_intercept=True, final_estimator__l1_ratio=0.1, final_estimator__max_iter=1000, final_estimator__random_state=42, final_estimator__selection=random, final_estimator__tol=0.01;, score=-2.290 total time=  16.2s\n",
      "[CV 1/5] END final_estimator__alpha=0.0001, final_estimator__fit_intercept=True, final_estimator__l1_ratio=0.1, final_estimator__max_iter=2000, final_estimator__random_state=42, final_estimator__selection=cyclic, final_estimator__tol=0.0001;, score=-2.193 total time=  16.9s\n",
      "[CV 2/5] END final_estimator__alpha=0.0001, final_estimator__fit_intercept=True, final_estimator__l1_ratio=0.1, final_estimator__max_iter=2000, final_estimator__random_state=42, final_estimator__selection=cyclic, final_estimator__tol=0.0001;, score=-2.339 total time=  13.5s\n",
      "[CV 3/5] END final_estimator__alpha=0.0001, final_estimator__fit_intercept=True, final_estimator__l1_ratio=0.1, final_estimator__max_iter=2000, final_estimator__random_state=42, final_estimator__selection=cyclic, final_estimator__tol=0.0001;, score=-2.201 total time=  17.0s\n",
      "[CV 4/5] END final_estimator__alpha=0.0001, final_estimator__fit_intercept=True, final_estimator__l1_ratio=0.1, final_estimator__max_iter=2000, final_estimator__random_state=42, final_estimator__selection=cyclic, final_estimator__tol=0.0001;, score=-2.175 total time=  16.5s\n",
      "[CV 5/5] END final_estimator__alpha=0.0001, final_estimator__fit_intercept=True, final_estimator__l1_ratio=0.1, final_estimator__max_iter=2000, final_estimator__random_state=42, final_estimator__selection=cyclic, final_estimator__tol=0.0001;, score=-2.287 total time=  19.2s\n",
      "[CV 1/5] END final_estimator__alpha=0.0001, final_estimator__fit_intercept=True, final_estimator__l1_ratio=0.1, final_estimator__max_iter=2000, final_estimator__random_state=42, final_estimator__selection=cyclic, final_estimator__tol=0.001;, score=-2.190 total time=  20.8s\n",
      "[CV 2/5] END final_estimator__alpha=0.0001, final_estimator__fit_intercept=True, final_estimator__l1_ratio=0.1, final_estimator__max_iter=2000, final_estimator__random_state=42, final_estimator__selection=cyclic, final_estimator__tol=0.001;, score=-2.343 total time=  17.1s\n",
      "[CV 3/5] END final_estimator__alpha=0.0001, final_estimator__fit_intercept=True, final_estimator__l1_ratio=0.1, final_estimator__max_iter=2000, final_estimator__random_state=42, final_estimator__selection=cyclic, final_estimator__tol=0.001;, score=-2.212 total time=  15.6s\n",
      "[CV 4/5] END final_estimator__alpha=0.0001, final_estimator__fit_intercept=True, final_estimator__l1_ratio=0.1, final_estimator__max_iter=2000, final_estimator__random_state=42, final_estimator__selection=cyclic, final_estimator__tol=0.001;, score=-2.145 total time=  19.1s\n",
      "[CV 5/5] END final_estimator__alpha=0.0001, final_estimator__fit_intercept=True, final_estimator__l1_ratio=0.1, final_estimator__max_iter=2000, final_estimator__random_state=42, final_estimator__selection=cyclic, final_estimator__tol=0.001;, score=-2.292 total time=  17.4s\n",
      "[CV 1/5] END final_estimator__alpha=0.0001, final_estimator__fit_intercept=True, final_estimator__l1_ratio=0.1, final_estimator__max_iter=2000, final_estimator__random_state=42, final_estimator__selection=cyclic, final_estimator__tol=0.01;, score=-2.196 total time=  19.1s\n",
      "[CV 2/5] END final_estimator__alpha=0.0001, final_estimator__fit_intercept=True, final_estimator__l1_ratio=0.1, final_estimator__max_iter=2000, final_estimator__random_state=42, final_estimator__selection=cyclic, final_estimator__tol=0.01;, score=-2.345 total time=  14.2s\n",
      "[CV 3/5] END final_estimator__alpha=0.0001, final_estimator__fit_intercept=True, final_estimator__l1_ratio=0.1, final_estimator__max_iter=2000, final_estimator__random_state=42, final_estimator__selection=cyclic, final_estimator__tol=0.01;, score=-2.207 total time=  18.3s\n",
      "[CV 4/5] END final_estimator__alpha=0.0001, final_estimator__fit_intercept=True, final_estimator__l1_ratio=0.1, final_estimator__max_iter=2000, final_estimator__random_state=42, final_estimator__selection=cyclic, final_estimator__tol=0.01;, score=-2.174 total time=  18.3s\n",
      "[CV 5/5] END final_estimator__alpha=0.0001, final_estimator__fit_intercept=True, final_estimator__l1_ratio=0.1, final_estimator__max_iter=2000, final_estimator__random_state=42, final_estimator__selection=cyclic, final_estimator__tol=0.01;, score=-2.291 total time=  19.5s\n",
      "[CV 1/5] END final_estimator__alpha=0.0001, final_estimator__fit_intercept=True, final_estimator__l1_ratio=0.1, final_estimator__max_iter=2000, final_estimator__random_state=42, final_estimator__selection=random, final_estimator__tol=0.0001;, score=-2.194 total time=  18.8s\n",
      "[CV 2/5] END final_estimator__alpha=0.0001, final_estimator__fit_intercept=True, final_estimator__l1_ratio=0.1, final_estimator__max_iter=2000, final_estimator__random_state=42, final_estimator__selection=random, final_estimator__tol=0.0001;, score=-2.356 total time=  19.1s\n",
      "[CV 3/5] END final_estimator__alpha=0.0001, final_estimator__fit_intercept=True, final_estimator__l1_ratio=0.1, final_estimator__max_iter=2000, final_estimator__random_state=42, final_estimator__selection=random, final_estimator__tol=0.0001;, score=-2.216 total time=  18.3s\n",
      "[CV 4/5] END final_estimator__alpha=0.0001, final_estimator__fit_intercept=True, final_estimator__l1_ratio=0.1, final_estimator__max_iter=2000, final_estimator__random_state=42, final_estimator__selection=random, final_estimator__tol=0.0001;, score=-2.153 total time=  19.8s\n",
      "[CV 5/5] END final_estimator__alpha=0.0001, final_estimator__fit_intercept=True, final_estimator__l1_ratio=0.1, final_estimator__max_iter=2000, final_estimator__random_state=42, final_estimator__selection=random, final_estimator__tol=0.0001;, score=-2.288 total time=  17.7s\n",
      "[CV 1/5] END final_estimator__alpha=0.0001, final_estimator__fit_intercept=True, final_estimator__l1_ratio=0.1, final_estimator__max_iter=2000, final_estimator__random_state=42, final_estimator__selection=random, final_estimator__tol=0.001;, score=-2.172 total time=  20.0s\n",
      "[CV 2/5] END final_estimator__alpha=0.0001, final_estimator__fit_intercept=True, final_estimator__l1_ratio=0.1, final_estimator__max_iter=2000, final_estimator__random_state=42, final_estimator__selection=random, final_estimator__tol=0.001;, score=-2.345 total time=  18.8s\n",
      "[CV 3/5] END final_estimator__alpha=0.0001, final_estimator__fit_intercept=True, final_estimator__l1_ratio=0.1, final_estimator__max_iter=2000, final_estimator__random_state=42, final_estimator__selection=random, final_estimator__tol=0.001;, score=-2.206 total time=  15.6s\n",
      "[CV 4/5] END final_estimator__alpha=0.0001, final_estimator__fit_intercept=True, final_estimator__l1_ratio=0.1, final_estimator__max_iter=2000, final_estimator__random_state=42, final_estimator__selection=random, final_estimator__tol=0.001;, score=-2.185 total time=  16.9s\n",
      "[CV 5/5] END final_estimator__alpha=0.0001, final_estimator__fit_intercept=True, final_estimator__l1_ratio=0.1, final_estimator__max_iter=2000, final_estimator__random_state=42, final_estimator__selection=random, final_estimator__tol=0.001;, score=-2.276 total time=  20.5s\n",
      "[CV 1/5] END final_estimator__alpha=0.0001, final_estimator__fit_intercept=True, final_estimator__l1_ratio=0.1, final_estimator__max_iter=2000, final_estimator__random_state=42, final_estimator__selection=random, final_estimator__tol=0.01;, score=-2.198 total time=  15.7s\n",
      "[CV 2/5] END final_estimator__alpha=0.0001, final_estimator__fit_intercept=True, final_estimator__l1_ratio=0.1, final_estimator__max_iter=2000, final_estimator__random_state=42, final_estimator__selection=random, final_estimator__tol=0.01;, score=-2.330 total time=  19.7s\n",
      "[CV 3/5] END final_estimator__alpha=0.0001, final_estimator__fit_intercept=True, final_estimator__l1_ratio=0.1, final_estimator__max_iter=2000, final_estimator__random_state=42, final_estimator__selection=random, final_estimator__tol=0.01;, score=-2.193 total time=  16.3s\n",
      "[CV 4/5] END final_estimator__alpha=0.0001, final_estimator__fit_intercept=True, final_estimator__l1_ratio=0.1, final_estimator__max_iter=2000, final_estimator__random_state=42, final_estimator__selection=random, final_estimator__tol=0.01;, score=-2.165 total time=  17.4s\n",
      "[CV 5/5] END final_estimator__alpha=0.0001, final_estimator__fit_intercept=True, final_estimator__l1_ratio=0.1, final_estimator__max_iter=2000, final_estimator__random_state=42, final_estimator__selection=random, final_estimator__tol=0.01;, score=-2.281 total time=  21.0s\n",
      "[CV 1/5] END final_estimator__alpha=0.0001, final_estimator__fit_intercept=True, final_estimator__l1_ratio=0.3, final_estimator__max_iter=1000, final_estimator__random_state=42, final_estimator__selection=cyclic, final_estimator__tol=0.0001;, score=-2.188 total time=  18.3s\n",
      "[CV 2/5] END final_estimator__alpha=0.0001, final_estimator__fit_intercept=True, final_estimator__l1_ratio=0.3, final_estimator__max_iter=1000, final_estimator__random_state=42, final_estimator__selection=cyclic, final_estimator__tol=0.0001;, score=-2.344 total time=  20.1s\n",
      "[CV 3/5] END final_estimator__alpha=0.0001, final_estimator__fit_intercept=True, final_estimator__l1_ratio=0.3, final_estimator__max_iter=1000, final_estimator__random_state=42, final_estimator__selection=cyclic, final_estimator__tol=0.0001;, score=-2.204 total time=  19.1s\n",
      "[CV 4/5] END final_estimator__alpha=0.0001, final_estimator__fit_intercept=True, final_estimator__l1_ratio=0.3, final_estimator__max_iter=1000, final_estimator__random_state=42, final_estimator__selection=cyclic, final_estimator__tol=0.0001;, score=-2.169 total time=  19.3s\n",
      "[CV 5/5] END final_estimator__alpha=0.0001, final_estimator__fit_intercept=True, final_estimator__l1_ratio=0.3, final_estimator__max_iter=1000, final_estimator__random_state=42, final_estimator__selection=cyclic, final_estimator__tol=0.0001;, score=-2.283 total time=  16.6s\n",
      "[CV 1/5] END final_estimator__alpha=0.0001, final_estimator__fit_intercept=True, final_estimator__l1_ratio=0.3, final_estimator__max_iter=1000, final_estimator__random_state=42, final_estimator__selection=cyclic, final_estimator__tol=0.001;, score=-2.203 total time=  17.4s\n",
      "[CV 2/5] END final_estimator__alpha=0.0001, final_estimator__fit_intercept=True, final_estimator__l1_ratio=0.3, final_estimator__max_iter=1000, final_estimator__random_state=42, final_estimator__selection=cyclic, final_estimator__tol=0.001;, score=-2.349 total time=  20.2s\n",
      "[CV 3/5] END final_estimator__alpha=0.0001, final_estimator__fit_intercept=True, final_estimator__l1_ratio=0.3, final_estimator__max_iter=1000, final_estimator__random_state=42, final_estimator__selection=cyclic, final_estimator__tol=0.001;, score=-2.203 total time=  21.8s\n",
      "[CV 4/5] END final_estimator__alpha=0.0001, final_estimator__fit_intercept=True, final_estimator__l1_ratio=0.3, final_estimator__max_iter=1000, final_estimator__random_state=42, final_estimator__selection=cyclic, final_estimator__tol=0.001;, score=-2.168 total time=  19.3s\n",
      "[CV 5/5] END final_estimator__alpha=0.0001, final_estimator__fit_intercept=True, final_estimator__l1_ratio=0.3, final_estimator__max_iter=1000, final_estimator__random_state=42, final_estimator__selection=cyclic, final_estimator__tol=0.001;, score=-2.290 total time=  19.5s\n",
      "[CV 1/5] END final_estimator__alpha=0.0001, final_estimator__fit_intercept=True, final_estimator__l1_ratio=0.3, final_estimator__max_iter=1000, final_estimator__random_state=42, final_estimator__selection=cyclic, final_estimator__tol=0.01;, score=-2.209 total time=  20.1s\n",
      "[CV 2/5] END final_estimator__alpha=0.0001, final_estimator__fit_intercept=True, final_estimator__l1_ratio=0.3, final_estimator__max_iter=1000, final_estimator__random_state=42, final_estimator__selection=cyclic, final_estimator__tol=0.01;, score=-2.340 total time=  18.4s\n",
      "[CV 3/5] END final_estimator__alpha=0.0001, final_estimator__fit_intercept=True, final_estimator__l1_ratio=0.3, final_estimator__max_iter=1000, final_estimator__random_state=42, final_estimator__selection=cyclic, final_estimator__tol=0.01;, score=-2.190 total time=  18.3s\n",
      "[CV 4/5] END final_estimator__alpha=0.0001, final_estimator__fit_intercept=True, final_estimator__l1_ratio=0.3, final_estimator__max_iter=1000, final_estimator__random_state=42, final_estimator__selection=cyclic, final_estimator__tol=0.01;, score=-2.169 total time=  17.1s\n",
      "[CV 5/5] END final_estimator__alpha=0.0001, final_estimator__fit_intercept=True, final_estimator__l1_ratio=0.3, final_estimator__max_iter=1000, final_estimator__random_state=42, final_estimator__selection=cyclic, final_estimator__tol=0.01;, score=-2.272 total time=  19.4s\n",
      "[CV 1/5] END final_estimator__alpha=0.0001, final_estimator__fit_intercept=True, final_estimator__l1_ratio=0.3, final_estimator__max_iter=1000, final_estimator__random_state=42, final_estimator__selection=random, final_estimator__tol=0.0001;, score=-2.178 total time=  20.9s\n",
      "[CV 2/5] END final_estimator__alpha=0.0001, final_estimator__fit_intercept=True, final_estimator__l1_ratio=0.3, final_estimator__max_iter=1000, final_estimator__random_state=42, final_estimator__selection=random, final_estimator__tol=0.0001;, score=-2.335 total time=  18.4s\n",
      "[CV 3/5] END final_estimator__alpha=0.0001, final_estimator__fit_intercept=True, final_estimator__l1_ratio=0.3, final_estimator__max_iter=1000, final_estimator__random_state=42, final_estimator__selection=random, final_estimator__tol=0.0001;, score=-2.204 total time=  19.4s\n",
      "[CV 4/5] END final_estimator__alpha=0.0001, final_estimator__fit_intercept=True, final_estimator__l1_ratio=0.3, final_estimator__max_iter=1000, final_estimator__random_state=42, final_estimator__selection=random, final_estimator__tol=0.0001;, score=-2.162 total time=  23.8s\n",
      "[CV 5/5] END final_estimator__alpha=0.0001, final_estimator__fit_intercept=True, final_estimator__l1_ratio=0.3, final_estimator__max_iter=1000, final_estimator__random_state=42, final_estimator__selection=random, final_estimator__tol=0.0001;, score=-2.287 total time=  18.0s\n",
      "[CV 1/5] END final_estimator__alpha=0.0001, final_estimator__fit_intercept=True, final_estimator__l1_ratio=0.3, final_estimator__max_iter=1000, final_estimator__random_state=42, final_estimator__selection=random, final_estimator__tol=0.001;, score=-2.197 total time=  19.0s\n",
      "[CV 2/5] END final_estimator__alpha=0.0001, final_estimator__fit_intercept=True, final_estimator__l1_ratio=0.3, final_estimator__max_iter=1000, final_estimator__random_state=42, final_estimator__selection=random, final_estimator__tol=0.001;, score=-2.344 total time=  16.9s\n",
      "[CV 3/5] END final_estimator__alpha=0.0001, final_estimator__fit_intercept=True, final_estimator__l1_ratio=0.3, final_estimator__max_iter=1000, final_estimator__random_state=42, final_estimator__selection=random, final_estimator__tol=0.001;, score=-2.178 total time=  17.7s\n",
      "[CV 4/5] END final_estimator__alpha=0.0001, final_estimator__fit_intercept=True, final_estimator__l1_ratio=0.3, final_estimator__max_iter=1000, final_estimator__random_state=42, final_estimator__selection=random, final_estimator__tol=0.001;, score=-2.154 total time=  17.3s\n",
      "[CV 5/5] END final_estimator__alpha=0.0001, final_estimator__fit_intercept=True, final_estimator__l1_ratio=0.3, final_estimator__max_iter=1000, final_estimator__random_state=42, final_estimator__selection=random, final_estimator__tol=0.001;, score=-2.291 total time=  16.3s\n",
      "[CV 1/5] END final_estimator__alpha=0.0001, final_estimator__fit_intercept=True, final_estimator__l1_ratio=0.3, final_estimator__max_iter=1000, final_estimator__random_state=42, final_estimator__selection=random, final_estimator__tol=0.01;, score=-2.178 total time=  18.9s\n",
      "[CV 2/5] END final_estimator__alpha=0.0001, final_estimator__fit_intercept=True, final_estimator__l1_ratio=0.3, final_estimator__max_iter=1000, final_estimator__random_state=42, final_estimator__selection=random, final_estimator__tol=0.01;, score=-2.338 total time=  16.4s\n",
      "[CV 3/5] END final_estimator__alpha=0.0001, final_estimator__fit_intercept=True, final_estimator__l1_ratio=0.3, final_estimator__max_iter=1000, final_estimator__random_state=42, final_estimator__selection=random, final_estimator__tol=0.01;, score=-2.197 total time=  19.8s\n",
      "[CV 4/5] END final_estimator__alpha=0.0001, final_estimator__fit_intercept=True, final_estimator__l1_ratio=0.3, final_estimator__max_iter=1000, final_estimator__random_state=42, final_estimator__selection=random, final_estimator__tol=0.01;, score=-2.160 total time=  20.6s\n",
      "[CV 5/5] END final_estimator__alpha=0.0001, final_estimator__fit_intercept=True, final_estimator__l1_ratio=0.3, final_estimator__max_iter=1000, final_estimator__random_state=42, final_estimator__selection=random, final_estimator__tol=0.01;, score=-2.286 total time=  17.7s\n",
      "[CV 1/5] END final_estimator__alpha=0.0001, final_estimator__fit_intercept=True, final_estimator__l1_ratio=0.3, final_estimator__max_iter=2000, final_estimator__random_state=42, final_estimator__selection=cyclic, final_estimator__tol=0.0001;, score=-2.196 total time=  17.9s\n",
      "[CV 2/5] END final_estimator__alpha=0.0001, final_estimator__fit_intercept=True, final_estimator__l1_ratio=0.3, final_estimator__max_iter=2000, final_estimator__random_state=42, final_estimator__selection=cyclic, final_estimator__tol=0.0001;, score=-2.335 total time=  21.1s\n",
      "[CV 3/5] END final_estimator__alpha=0.0001, final_estimator__fit_intercept=True, final_estimator__l1_ratio=0.3, final_estimator__max_iter=2000, final_estimator__random_state=42, final_estimator__selection=cyclic, final_estimator__tol=0.0001;, score=-2.198 total time=  20.3s\n",
      "[CV 4/5] END final_estimator__alpha=0.0001, final_estimator__fit_intercept=True, final_estimator__l1_ratio=0.3, final_estimator__max_iter=2000, final_estimator__random_state=42, final_estimator__selection=cyclic, final_estimator__tol=0.0001;, score=-2.167 total time=  14.3s\n",
      "[CV 5/5] END final_estimator__alpha=0.0001, final_estimator__fit_intercept=True, final_estimator__l1_ratio=0.3, final_estimator__max_iter=2000, final_estimator__random_state=42, final_estimator__selection=cyclic, final_estimator__tol=0.0001;, score=-2.289 total time=  21.3s\n",
      "[CV 1/5] END final_estimator__alpha=0.0001, final_estimator__fit_intercept=True, final_estimator__l1_ratio=0.3, final_estimator__max_iter=2000, final_estimator__random_state=42, final_estimator__selection=cyclic, final_estimator__tol=0.001;, score=-2.189 total time=  23.2s\n",
      "[CV 2/5] END final_estimator__alpha=0.0001, final_estimator__fit_intercept=True, final_estimator__l1_ratio=0.3, final_estimator__max_iter=2000, final_estimator__random_state=42, final_estimator__selection=cyclic, final_estimator__tol=0.001;, score=-2.349 total time=  18.0s\n",
      "[CV 3/5] END final_estimator__alpha=0.0001, final_estimator__fit_intercept=True, final_estimator__l1_ratio=0.3, final_estimator__max_iter=2000, final_estimator__random_state=42, final_estimator__selection=cyclic, final_estimator__tol=0.001;, score=-2.209 total time=  20.1s\n",
      "[CV 4/5] END final_estimator__alpha=0.0001, final_estimator__fit_intercept=True, final_estimator__l1_ratio=0.3, final_estimator__max_iter=2000, final_estimator__random_state=42, final_estimator__selection=cyclic, final_estimator__tol=0.001;, score=-2.160 total time=  18.5s\n",
      "[CV 5/5] END final_estimator__alpha=0.0001, final_estimator__fit_intercept=True, final_estimator__l1_ratio=0.3, final_estimator__max_iter=2000, final_estimator__random_state=42, final_estimator__selection=cyclic, final_estimator__tol=0.001;, score=-2.281 total time=  19.0s\n",
      "[CV 1/5] END final_estimator__alpha=0.0001, final_estimator__fit_intercept=True, final_estimator__l1_ratio=0.3, final_estimator__max_iter=2000, final_estimator__random_state=42, final_estimator__selection=cyclic, final_estimator__tol=0.01;, score=-2.179 total time=  20.4s\n",
      "[CV 2/5] END final_estimator__alpha=0.0001, final_estimator__fit_intercept=True, final_estimator__l1_ratio=0.3, final_estimator__max_iter=2000, final_estimator__random_state=42, final_estimator__selection=cyclic, final_estimator__tol=0.01;, score=-2.346 total time=  17.6s\n",
      "[CV 3/5] END final_estimator__alpha=0.0001, final_estimator__fit_intercept=True, final_estimator__l1_ratio=0.3, final_estimator__max_iter=2000, final_estimator__random_state=42, final_estimator__selection=cyclic, final_estimator__tol=0.01;, score=-2.193 total time=  17.9s\n",
      "[CV 4/5] END final_estimator__alpha=0.0001, final_estimator__fit_intercept=True, final_estimator__l1_ratio=0.3, final_estimator__max_iter=2000, final_estimator__random_state=42, final_estimator__selection=cyclic, final_estimator__tol=0.01;, score=-2.171 total time=  21.6s\n",
      "[CV 5/5] END final_estimator__alpha=0.0001, final_estimator__fit_intercept=True, final_estimator__l1_ratio=0.3, final_estimator__max_iter=2000, final_estimator__random_state=42, final_estimator__selection=cyclic, final_estimator__tol=0.01;, score=-2.288 total time=  21.1s\n",
      "[CV 1/5] END final_estimator__alpha=0.0001, final_estimator__fit_intercept=True, final_estimator__l1_ratio=0.3, final_estimator__max_iter=2000, final_estimator__random_state=42, final_estimator__selection=random, final_estimator__tol=0.0001;, score=-2.199 total time=  14.9s\n",
      "[CV 2/5] END final_estimator__alpha=0.0001, final_estimator__fit_intercept=True, final_estimator__l1_ratio=0.3, final_estimator__max_iter=2000, final_estimator__random_state=42, final_estimator__selection=random, final_estimator__tol=0.0001;, score=-2.342 total time=  20.5s\n",
      "[CV 3/5] END final_estimator__alpha=0.0001, final_estimator__fit_intercept=True, final_estimator__l1_ratio=0.3, final_estimator__max_iter=2000, final_estimator__random_state=42, final_estimator__selection=random, final_estimator__tol=0.0001;, score=-2.210 total time=  20.4s\n",
      "[CV 4/5] END final_estimator__alpha=0.0001, final_estimator__fit_intercept=True, final_estimator__l1_ratio=0.3, final_estimator__max_iter=2000, final_estimator__random_state=42, final_estimator__selection=random, final_estimator__tol=0.0001;, score=-2.180 total time=  22.3s\n",
      "[CV 5/5] END final_estimator__alpha=0.0001, final_estimator__fit_intercept=True, final_estimator__l1_ratio=0.3, final_estimator__max_iter=2000, final_estimator__random_state=42, final_estimator__selection=random, final_estimator__tol=0.0001;, score=-2.296 total time=  18.5s\n",
      "[CV 1/5] END final_estimator__alpha=0.0001, final_estimator__fit_intercept=True, final_estimator__l1_ratio=0.3, final_estimator__max_iter=2000, final_estimator__random_state=42, final_estimator__selection=random, final_estimator__tol=0.001;, score=-2.182 total time=  18.7s\n",
      "[CV 2/5] END final_estimator__alpha=0.0001, final_estimator__fit_intercept=True, final_estimator__l1_ratio=0.3, final_estimator__max_iter=2000, final_estimator__random_state=42, final_estimator__selection=random, final_estimator__tol=0.001;, score=-2.348 total time=  21.3s\n",
      "[CV 3/5] END final_estimator__alpha=0.0001, final_estimator__fit_intercept=True, final_estimator__l1_ratio=0.3, final_estimator__max_iter=2000, final_estimator__random_state=42, final_estimator__selection=random, final_estimator__tol=0.001;, score=-2.205 total time=  21.6s\n",
      "[CV 4/5] END final_estimator__alpha=0.0001, final_estimator__fit_intercept=True, final_estimator__l1_ratio=0.3, final_estimator__max_iter=2000, final_estimator__random_state=42, final_estimator__selection=random, final_estimator__tol=0.001;, score=-2.165 total time=  17.6s\n",
      "[CV 5/5] END final_estimator__alpha=0.0001, final_estimator__fit_intercept=True, final_estimator__l1_ratio=0.3, final_estimator__max_iter=2000, final_estimator__random_state=42, final_estimator__selection=random, final_estimator__tol=0.001;, score=-2.293 total time=  18.4s\n",
      "[CV 1/5] END final_estimator__alpha=0.0001, final_estimator__fit_intercept=True, final_estimator__l1_ratio=0.3, final_estimator__max_iter=2000, final_estimator__random_state=42, final_estimator__selection=random, final_estimator__tol=0.01;, score=-2.191 total time=  21.5s\n",
      "[CV 2/5] END final_estimator__alpha=0.0001, final_estimator__fit_intercept=True, final_estimator__l1_ratio=0.3, final_estimator__max_iter=2000, final_estimator__random_state=42, final_estimator__selection=random, final_estimator__tol=0.01;, score=-2.328 total time=  20.3s\n",
      "[CV 3/5] END final_estimator__alpha=0.0001, final_estimator__fit_intercept=True, final_estimator__l1_ratio=0.3, final_estimator__max_iter=2000, final_estimator__random_state=42, final_estimator__selection=random, final_estimator__tol=0.01;, score=-2.212 total time=  18.2s\n",
      "[CV 4/5] END final_estimator__alpha=0.0001, final_estimator__fit_intercept=True, final_estimator__l1_ratio=0.3, final_estimator__max_iter=2000, final_estimator__random_state=42, final_estimator__selection=random, final_estimator__tol=0.01;, score=-2.168 total time=  19.8s\n",
      "[CV 5/5] END final_estimator__alpha=0.0001, final_estimator__fit_intercept=True, final_estimator__l1_ratio=0.3, final_estimator__max_iter=2000, final_estimator__random_state=42, final_estimator__selection=random, final_estimator__tol=0.01;, score=-2.288 total time=  19.5s\n",
      "[CV 1/5] END final_estimator__alpha=0.0001, final_estimator__fit_intercept=True, final_estimator__l1_ratio=0.5, final_estimator__max_iter=1000, final_estimator__random_state=42, final_estimator__selection=cyclic, final_estimator__tol=0.0001;, score=-2.189 total time=  22.2s\n",
      "[CV 2/5] END final_estimator__alpha=0.0001, final_estimator__fit_intercept=True, final_estimator__l1_ratio=0.5, final_estimator__max_iter=1000, final_estimator__random_state=42, final_estimator__selection=cyclic, final_estimator__tol=0.0001;, score=-2.322 total time=  25.9s\n",
      "[CV 3/5] END final_estimator__alpha=0.0001, final_estimator__fit_intercept=True, final_estimator__l1_ratio=0.5, final_estimator__max_iter=1000, final_estimator__random_state=42, final_estimator__selection=cyclic, final_estimator__tol=0.0001;, score=-2.198 total time=  22.5s\n",
      "[CV 4/5] END final_estimator__alpha=0.0001, final_estimator__fit_intercept=True, final_estimator__l1_ratio=0.5, final_estimator__max_iter=1000, final_estimator__random_state=42, final_estimator__selection=cyclic, final_estimator__tol=0.0001;, score=-2.164 total time=  19.9s\n",
      "[CV 5/5] END final_estimator__alpha=0.0001, final_estimator__fit_intercept=True, final_estimator__l1_ratio=0.5, final_estimator__max_iter=1000, final_estimator__random_state=42, final_estimator__selection=cyclic, final_estimator__tol=0.0001;, score=-2.286 total time=  19.6s\n",
      "[CV 1/5] END final_estimator__alpha=0.0001, final_estimator__fit_intercept=True, final_estimator__l1_ratio=0.5, final_estimator__max_iter=1000, final_estimator__random_state=42, final_estimator__selection=cyclic, final_estimator__tol=0.001;, score=-2.208 total time=  18.4s\n",
      "[CV 2/5] END final_estimator__alpha=0.0001, final_estimator__fit_intercept=True, final_estimator__l1_ratio=0.5, final_estimator__max_iter=1000, final_estimator__random_state=42, final_estimator__selection=cyclic, final_estimator__tol=0.001;, score=-2.345 total time=  20.1s\n",
      "[CV 3/5] END final_estimator__alpha=0.0001, final_estimator__fit_intercept=True, final_estimator__l1_ratio=0.5, final_estimator__max_iter=1000, final_estimator__random_state=42, final_estimator__selection=cyclic, final_estimator__tol=0.001;, score=-2.207 total time=  17.1s\n",
      "[CV 4/5] END final_estimator__alpha=0.0001, final_estimator__fit_intercept=True, final_estimator__l1_ratio=0.5, final_estimator__max_iter=1000, final_estimator__random_state=42, final_estimator__selection=cyclic, final_estimator__tol=0.001;, score=-2.158 total time=  19.6s\n",
      "[CV 5/5] END final_estimator__alpha=0.0001, final_estimator__fit_intercept=True, final_estimator__l1_ratio=0.5, final_estimator__max_iter=1000, final_estimator__random_state=42, final_estimator__selection=cyclic, final_estimator__tol=0.001;, score=-2.292 total time=  19.3s\n",
      "[CV 1/5] END final_estimator__alpha=0.0001, final_estimator__fit_intercept=True, final_estimator__l1_ratio=0.5, final_estimator__max_iter=1000, final_estimator__random_state=42, final_estimator__selection=cyclic, final_estimator__tol=0.01;, score=-2.188 total time=  20.5s\n",
      "[CV 2/5] END final_estimator__alpha=0.0001, final_estimator__fit_intercept=True, final_estimator__l1_ratio=0.5, final_estimator__max_iter=1000, final_estimator__random_state=42, final_estimator__selection=cyclic, final_estimator__tol=0.01;, score=-2.334 total time=  21.1s\n",
      "[CV 3/5] END final_estimator__alpha=0.0001, final_estimator__fit_intercept=True, final_estimator__l1_ratio=0.5, final_estimator__max_iter=1000, final_estimator__random_state=42, final_estimator__selection=cyclic, final_estimator__tol=0.01;, score=-2.205 total time=  19.8s\n",
      "[CV 4/5] END final_estimator__alpha=0.0001, final_estimator__fit_intercept=True, final_estimator__l1_ratio=0.5, final_estimator__max_iter=1000, final_estimator__random_state=42, final_estimator__selection=cyclic, final_estimator__tol=0.01;, score=-2.173 total time=  17.3s\n",
      "[CV 5/5] END final_estimator__alpha=0.0001, final_estimator__fit_intercept=True, final_estimator__l1_ratio=0.5, final_estimator__max_iter=1000, final_estimator__random_state=42, final_estimator__selection=cyclic, final_estimator__tol=0.01;, score=-2.295 total time=  15.1s\n",
      "[CV 1/5] END final_estimator__alpha=0.0001, final_estimator__fit_intercept=True, final_estimator__l1_ratio=0.5, final_estimator__max_iter=1000, final_estimator__random_state=42, final_estimator__selection=random, final_estimator__tol=0.0001;, score=-2.175 total time=  24.6s\n",
      "[CV 2/5] END final_estimator__alpha=0.0001, final_estimator__fit_intercept=True, final_estimator__l1_ratio=0.5, final_estimator__max_iter=1000, final_estimator__random_state=42, final_estimator__selection=random, final_estimator__tol=0.0001;, score=-2.340 total time=  17.5s\n",
      "[CV 3/5] END final_estimator__alpha=0.0001, final_estimator__fit_intercept=True, final_estimator__l1_ratio=0.5, final_estimator__max_iter=1000, final_estimator__random_state=42, final_estimator__selection=random, final_estimator__tol=0.0001;, score=-2.190 total time=  16.9s\n",
      "[CV 4/5] END final_estimator__alpha=0.0001, final_estimator__fit_intercept=True, final_estimator__l1_ratio=0.5, final_estimator__max_iter=1000, final_estimator__random_state=42, final_estimator__selection=random, final_estimator__tol=0.0001;, score=-2.182 total time=  22.6s\n",
      "[CV 5/5] END final_estimator__alpha=0.0001, final_estimator__fit_intercept=True, final_estimator__l1_ratio=0.5, final_estimator__max_iter=1000, final_estimator__random_state=42, final_estimator__selection=random, final_estimator__tol=0.0001;, score=-2.297 total time=  21.1s\n",
      "[CV 1/5] END final_estimator__alpha=0.0001, final_estimator__fit_intercept=True, final_estimator__l1_ratio=0.5, final_estimator__max_iter=1000, final_estimator__random_state=42, final_estimator__selection=random, final_estimator__tol=0.001;, score=-2.193 total time=  21.0s\n",
      "[CV 2/5] END final_estimator__alpha=0.0001, final_estimator__fit_intercept=True, final_estimator__l1_ratio=0.5, final_estimator__max_iter=1000, final_estimator__random_state=42, final_estimator__selection=random, final_estimator__tol=0.001;, score=-2.331 total time=  21.1s\n",
      "[CV 3/5] END final_estimator__alpha=0.0001, final_estimator__fit_intercept=True, final_estimator__l1_ratio=0.5, final_estimator__max_iter=1000, final_estimator__random_state=42, final_estimator__selection=random, final_estimator__tol=0.001;, score=-2.226 total time=  19.0s\n",
      "[CV 4/5] END final_estimator__alpha=0.0001, final_estimator__fit_intercept=True, final_estimator__l1_ratio=0.5, final_estimator__max_iter=1000, final_estimator__random_state=42, final_estimator__selection=random, final_estimator__tol=0.001;, score=-2.159 total time=  17.5s\n",
      "[CV 5/5] END final_estimator__alpha=0.0001, final_estimator__fit_intercept=True, final_estimator__l1_ratio=0.5, final_estimator__max_iter=1000, final_estimator__random_state=42, final_estimator__selection=random, final_estimator__tol=0.001;, score=-2.289 total time=  18.0s\n",
      "[CV 1/5] END final_estimator__alpha=0.0001, final_estimator__fit_intercept=True, final_estimator__l1_ratio=0.5, final_estimator__max_iter=1000, final_estimator__random_state=42, final_estimator__selection=random, final_estimator__tol=0.01;, score=-2.183 total time=  21.9s\n",
      "[CV 2/5] END final_estimator__alpha=0.0001, final_estimator__fit_intercept=True, final_estimator__l1_ratio=0.5, final_estimator__max_iter=1000, final_estimator__random_state=42, final_estimator__selection=random, final_estimator__tol=0.01;, score=-2.334 total time=  24.5s\n",
      "[CV 3/5] END final_estimator__alpha=0.0001, final_estimator__fit_intercept=True, final_estimator__l1_ratio=0.5, final_estimator__max_iter=1000, final_estimator__random_state=42, final_estimator__selection=random, final_estimator__tol=0.01;, score=-2.199 total time=  17.8s\n",
      "[CV 4/5] END final_estimator__alpha=0.0001, final_estimator__fit_intercept=True, final_estimator__l1_ratio=0.5, final_estimator__max_iter=1000, final_estimator__random_state=42, final_estimator__selection=random, final_estimator__tol=0.01;, score=-2.166 total time=  22.6s\n",
      "[CV 5/5] END final_estimator__alpha=0.0001, final_estimator__fit_intercept=True, final_estimator__l1_ratio=0.5, final_estimator__max_iter=1000, final_estimator__random_state=42, final_estimator__selection=random, final_estimator__tol=0.01;, score=-2.286 total time=  18.9s\n",
      "[CV 1/5] END final_estimator__alpha=0.0001, final_estimator__fit_intercept=True, final_estimator__l1_ratio=0.5, final_estimator__max_iter=2000, final_estimator__random_state=42, final_estimator__selection=cyclic, final_estimator__tol=0.0001;, score=-2.200 total time=  21.9s\n",
      "[CV 2/5] END final_estimator__alpha=0.0001, final_estimator__fit_intercept=True, final_estimator__l1_ratio=0.5, final_estimator__max_iter=2000, final_estimator__random_state=42, final_estimator__selection=cyclic, final_estimator__tol=0.0001;, score=-2.332 total time=  23.3s\n",
      "[CV 3/5] END final_estimator__alpha=0.0001, final_estimator__fit_intercept=True, final_estimator__l1_ratio=0.5, final_estimator__max_iter=2000, final_estimator__random_state=42, final_estimator__selection=cyclic, final_estimator__tol=0.0001;, score=-2.180 total time=  19.8s\n",
      "[CV 4/5] END final_estimator__alpha=0.0001, final_estimator__fit_intercept=True, final_estimator__l1_ratio=0.5, final_estimator__max_iter=2000, final_estimator__random_state=42, final_estimator__selection=cyclic, final_estimator__tol=0.0001;, score=-2.168 total time=  20.0s\n",
      "[CV 5/5] END final_estimator__alpha=0.0001, final_estimator__fit_intercept=True, final_estimator__l1_ratio=0.5, final_estimator__max_iter=2000, final_estimator__random_state=42, final_estimator__selection=cyclic, final_estimator__tol=0.0001;, score=-2.286 total time=  19.3s\n",
      "[CV 1/5] END final_estimator__alpha=0.0001, final_estimator__fit_intercept=True, final_estimator__l1_ratio=0.5, final_estimator__max_iter=2000, final_estimator__random_state=42, final_estimator__selection=cyclic, final_estimator__tol=0.001;, score=-2.187 total time=  22.2s\n",
      "[CV 2/5] END final_estimator__alpha=0.0001, final_estimator__fit_intercept=True, final_estimator__l1_ratio=0.5, final_estimator__max_iter=2000, final_estimator__random_state=42, final_estimator__selection=cyclic, final_estimator__tol=0.001;, score=-2.335 total time=  21.8s\n",
      "[CV 3/5] END final_estimator__alpha=0.0001, final_estimator__fit_intercept=True, final_estimator__l1_ratio=0.5, final_estimator__max_iter=2000, final_estimator__random_state=42, final_estimator__selection=cyclic, final_estimator__tol=0.001;, score=-2.183 total time=  20.0s\n",
      "[CV 4/5] END final_estimator__alpha=0.0001, final_estimator__fit_intercept=True, final_estimator__l1_ratio=0.5, final_estimator__max_iter=2000, final_estimator__random_state=42, final_estimator__selection=cyclic, final_estimator__tol=0.001;, score=-2.164 total time=  21.0s\n",
      "[CV 5/5] END final_estimator__alpha=0.0001, final_estimator__fit_intercept=True, final_estimator__l1_ratio=0.5, final_estimator__max_iter=2000, final_estimator__random_state=42, final_estimator__selection=cyclic, final_estimator__tol=0.001;, score=-2.287 total time=  18.7s\n",
      "[CV 1/5] END final_estimator__alpha=0.0001, final_estimator__fit_intercept=True, final_estimator__l1_ratio=0.5, final_estimator__max_iter=2000, final_estimator__random_state=42, final_estimator__selection=cyclic, final_estimator__tol=0.01;, score=-2.177 total time=  26.2s\n",
      "[CV 2/5] END final_estimator__alpha=0.0001, final_estimator__fit_intercept=True, final_estimator__l1_ratio=0.5, final_estimator__max_iter=2000, final_estimator__random_state=42, final_estimator__selection=cyclic, final_estimator__tol=0.01;, score=-2.343 total time=  16.8s\n",
      "[CV 3/5] END final_estimator__alpha=0.0001, final_estimator__fit_intercept=True, final_estimator__l1_ratio=0.5, final_estimator__max_iter=2000, final_estimator__random_state=42, final_estimator__selection=cyclic, final_estimator__tol=0.01;, score=-2.189 total time=  19.7s\n",
      "[CV 4/5] END final_estimator__alpha=0.0001, final_estimator__fit_intercept=True, final_estimator__l1_ratio=0.5, final_estimator__max_iter=2000, final_estimator__random_state=42, final_estimator__selection=cyclic, final_estimator__tol=0.01;, score=-2.155 total time=  20.1s\n",
      "[CV 5/5] END final_estimator__alpha=0.0001, final_estimator__fit_intercept=True, final_estimator__l1_ratio=0.5, final_estimator__max_iter=2000, final_estimator__random_state=42, final_estimator__selection=cyclic, final_estimator__tol=0.01;, score=-2.291 total time=  22.0s\n",
      "[CV 1/5] END final_estimator__alpha=0.0001, final_estimator__fit_intercept=True, final_estimator__l1_ratio=0.5, final_estimator__max_iter=2000, final_estimator__random_state=42, final_estimator__selection=random, final_estimator__tol=0.0001;, score=-2.191 total time=  18.7s\n",
      "[CV 2/5] END final_estimator__alpha=0.0001, final_estimator__fit_intercept=True, final_estimator__l1_ratio=0.5, final_estimator__max_iter=2000, final_estimator__random_state=42, final_estimator__selection=random, final_estimator__tol=0.0001;, score=-2.340 total time=  21.9s\n",
      "[CV 3/5] END final_estimator__alpha=0.0001, final_estimator__fit_intercept=True, final_estimator__l1_ratio=0.5, final_estimator__max_iter=2000, final_estimator__random_state=42, final_estimator__selection=random, final_estimator__tol=0.0001;, score=-2.189 total time=  21.7s\n",
      "[CV 4/5] END final_estimator__alpha=0.0001, final_estimator__fit_intercept=True, final_estimator__l1_ratio=0.5, final_estimator__max_iter=2000, final_estimator__random_state=42, final_estimator__selection=random, final_estimator__tol=0.0001;, score=-2.170 total time=  19.6s\n",
      "[CV 5/5] END final_estimator__alpha=0.0001, final_estimator__fit_intercept=True, final_estimator__l1_ratio=0.5, final_estimator__max_iter=2000, final_estimator__random_state=42, final_estimator__selection=random, final_estimator__tol=0.0001;, score=-2.272 total time=  20.0s\n",
      "[CV 1/5] END final_estimator__alpha=0.0001, final_estimator__fit_intercept=True, final_estimator__l1_ratio=0.5, final_estimator__max_iter=2000, final_estimator__random_state=42, final_estimator__selection=random, final_estimator__tol=0.001;, score=-2.165 total time=  25.9s\n",
      "[CV 2/5] END final_estimator__alpha=0.0001, final_estimator__fit_intercept=True, final_estimator__l1_ratio=0.5, final_estimator__max_iter=2000, final_estimator__random_state=42, final_estimator__selection=random, final_estimator__tol=0.001;, score=-2.327 total time=  21.7s\n",
      "[CV 3/5] END final_estimator__alpha=0.0001, final_estimator__fit_intercept=True, final_estimator__l1_ratio=0.5, final_estimator__max_iter=2000, final_estimator__random_state=42, final_estimator__selection=random, final_estimator__tol=0.001;, score=-2.203 total time=  19.3s\n",
      "[CV 4/5] END final_estimator__alpha=0.0001, final_estimator__fit_intercept=True, final_estimator__l1_ratio=0.5, final_estimator__max_iter=2000, final_estimator__random_state=42, final_estimator__selection=random, final_estimator__tol=0.001;, score=-2.169 total time=  19.4s\n",
      "[CV 5/5] END final_estimator__alpha=0.0001, final_estimator__fit_intercept=True, final_estimator__l1_ratio=0.5, final_estimator__max_iter=2000, final_estimator__random_state=42, final_estimator__selection=random, final_estimator__tol=0.001;, score=-2.284 total time=  24.7s\n",
      "[CV 1/5] END final_estimator__alpha=0.0001, final_estimator__fit_intercept=True, final_estimator__l1_ratio=0.5, final_estimator__max_iter=2000, final_estimator__random_state=42, final_estimator__selection=random, final_estimator__tol=0.01;, score=-2.175 total time=  23.6s\n",
      "[CV 2/5] END final_estimator__alpha=0.0001, final_estimator__fit_intercept=True, final_estimator__l1_ratio=0.5, final_estimator__max_iter=2000, final_estimator__random_state=42, final_estimator__selection=random, final_estimator__tol=0.01;, score=-2.333 total time=  21.0s\n",
      "[CV 3/5] END final_estimator__alpha=0.0001, final_estimator__fit_intercept=True, final_estimator__l1_ratio=0.5, final_estimator__max_iter=2000, final_estimator__random_state=42, final_estimator__selection=random, final_estimator__tol=0.01;, score=-2.198 total time=  18.0s\n",
      "[CV 4/5] END final_estimator__alpha=0.0001, final_estimator__fit_intercept=True, final_estimator__l1_ratio=0.5, final_estimator__max_iter=2000, final_estimator__random_state=42, final_estimator__selection=random, final_estimator__tol=0.01;, score=-2.156 total time=  20.5s\n",
      "[CV 5/5] END final_estimator__alpha=0.0001, final_estimator__fit_intercept=True, final_estimator__l1_ratio=0.5, final_estimator__max_iter=2000, final_estimator__random_state=42, final_estimator__selection=random, final_estimator__tol=0.01;, score=-2.282 total time=  18.5s\n",
      "[CV 1/5] END final_estimator__alpha=0.0001, final_estimator__fit_intercept=True, final_estimator__l1_ratio=0.7, final_estimator__max_iter=1000, final_estimator__random_state=42, final_estimator__selection=cyclic, final_estimator__tol=0.0001;, score=-2.191 total time=  20.6s\n",
      "[CV 2/5] END final_estimator__alpha=0.0001, final_estimator__fit_intercept=True, final_estimator__l1_ratio=0.7, final_estimator__max_iter=1000, final_estimator__random_state=42, final_estimator__selection=cyclic, final_estimator__tol=0.0001;, score=-2.329 total time=  18.1s\n",
      "[CV 3/5] END final_estimator__alpha=0.0001, final_estimator__fit_intercept=True, final_estimator__l1_ratio=0.7, final_estimator__max_iter=1000, final_estimator__random_state=42, final_estimator__selection=cyclic, final_estimator__tol=0.0001;, score=-2.197 total time=  25.0s\n",
      "[CV 4/5] END final_estimator__alpha=0.0001, final_estimator__fit_intercept=True, final_estimator__l1_ratio=0.7, final_estimator__max_iter=1000, final_estimator__random_state=42, final_estimator__selection=cyclic, final_estimator__tol=0.0001;, score=-2.165 total time=  20.7s\n",
      "[CV 5/5] END final_estimator__alpha=0.0001, final_estimator__fit_intercept=True, final_estimator__l1_ratio=0.7, final_estimator__max_iter=1000, final_estimator__random_state=42, final_estimator__selection=cyclic, final_estimator__tol=0.0001;, score=-2.299 total time=  19.4s\n",
      "[CV 1/5] END final_estimator__alpha=0.0001, final_estimator__fit_intercept=True, final_estimator__l1_ratio=0.7, final_estimator__max_iter=1000, final_estimator__random_state=42, final_estimator__selection=cyclic, final_estimator__tol=0.001;, score=-2.195 total time=  20.1s\n",
      "[CV 2/5] END final_estimator__alpha=0.0001, final_estimator__fit_intercept=True, final_estimator__l1_ratio=0.7, final_estimator__max_iter=1000, final_estimator__random_state=42, final_estimator__selection=cyclic, final_estimator__tol=0.001;, score=-2.335 total time=  21.7s\n",
      "[CV 3/5] END final_estimator__alpha=0.0001, final_estimator__fit_intercept=True, final_estimator__l1_ratio=0.7, final_estimator__max_iter=1000, final_estimator__random_state=42, final_estimator__selection=cyclic, final_estimator__tol=0.001;, score=-2.192 total time=  25.0s\n",
      "[CV 4/5] END final_estimator__alpha=0.0001, final_estimator__fit_intercept=True, final_estimator__l1_ratio=0.7, final_estimator__max_iter=1000, final_estimator__random_state=42, final_estimator__selection=cyclic, final_estimator__tol=0.001;, score=-2.175 total time=  22.7s\n",
      "[CV 5/5] END final_estimator__alpha=0.0001, final_estimator__fit_intercept=True, final_estimator__l1_ratio=0.7, final_estimator__max_iter=1000, final_estimator__random_state=42, final_estimator__selection=cyclic, final_estimator__tol=0.001;, score=-2.281 total time=  16.9s\n",
      "[CV 1/5] END final_estimator__alpha=0.0001, final_estimator__fit_intercept=True, final_estimator__l1_ratio=0.7, final_estimator__max_iter=1000, final_estimator__random_state=42, final_estimator__selection=cyclic, final_estimator__tol=0.01;, score=-2.179 total time=  25.4s\n",
      "[CV 2/5] END final_estimator__alpha=0.0001, final_estimator__fit_intercept=True, final_estimator__l1_ratio=0.7, final_estimator__max_iter=1000, final_estimator__random_state=42, final_estimator__selection=cyclic, final_estimator__tol=0.01;, score=-2.340 total time=  20.8s\n",
      "[CV 3/5] END final_estimator__alpha=0.0001, final_estimator__fit_intercept=True, final_estimator__l1_ratio=0.7, final_estimator__max_iter=1000, final_estimator__random_state=42, final_estimator__selection=cyclic, final_estimator__tol=0.01;, score=-2.186 total time=  20.0s\n",
      "[CV 4/5] END final_estimator__alpha=0.0001, final_estimator__fit_intercept=True, final_estimator__l1_ratio=0.7, final_estimator__max_iter=1000, final_estimator__random_state=42, final_estimator__selection=cyclic, final_estimator__tol=0.01;, score=-2.156 total time=  21.1s\n",
      "[CV 5/5] END final_estimator__alpha=0.0001, final_estimator__fit_intercept=True, final_estimator__l1_ratio=0.7, final_estimator__max_iter=1000, final_estimator__random_state=42, final_estimator__selection=cyclic, final_estimator__tol=0.01;, score=-2.291 total time=  20.7s\n",
      "[CV 1/5] END final_estimator__alpha=0.0001, final_estimator__fit_intercept=True, final_estimator__l1_ratio=0.7, final_estimator__max_iter=1000, final_estimator__random_state=42, final_estimator__selection=random, final_estimator__tol=0.0001;, score=-2.180 total time=  18.1s\n",
      "[CV 2/5] END final_estimator__alpha=0.0001, final_estimator__fit_intercept=True, final_estimator__l1_ratio=0.7, final_estimator__max_iter=1000, final_estimator__random_state=42, final_estimator__selection=random, final_estimator__tol=0.0001;, score=-2.360 total time=  19.6s\n",
      "[CV 3/5] END final_estimator__alpha=0.0001, final_estimator__fit_intercept=True, final_estimator__l1_ratio=0.7, final_estimator__max_iter=1000, final_estimator__random_state=42, final_estimator__selection=random, final_estimator__tol=0.0001;, score=-2.205 total time=  22.9s\n",
      "[CV 4/5] END final_estimator__alpha=0.0001, final_estimator__fit_intercept=True, final_estimator__l1_ratio=0.7, final_estimator__max_iter=1000, final_estimator__random_state=42, final_estimator__selection=random, final_estimator__tol=0.0001;, score=-2.166 total time=  20.2s\n",
      "[CV 5/5] END final_estimator__alpha=0.0001, final_estimator__fit_intercept=True, final_estimator__l1_ratio=0.7, final_estimator__max_iter=1000, final_estimator__random_state=42, final_estimator__selection=random, final_estimator__tol=0.0001;, score=-2.287 total time=  19.6s\n",
      "[CV 1/5] END final_estimator__alpha=0.0001, final_estimator__fit_intercept=True, final_estimator__l1_ratio=0.7, final_estimator__max_iter=1000, final_estimator__random_state=42, final_estimator__selection=random, final_estimator__tol=0.001;, score=-2.206 total time=  19.6s\n",
      "[CV 2/5] END final_estimator__alpha=0.0001, final_estimator__fit_intercept=True, final_estimator__l1_ratio=0.7, final_estimator__max_iter=1000, final_estimator__random_state=42, final_estimator__selection=random, final_estimator__tol=0.001;, score=-2.316 total time=  20.7s\n",
      "[CV 3/5] END final_estimator__alpha=0.0001, final_estimator__fit_intercept=True, final_estimator__l1_ratio=0.7, final_estimator__max_iter=1000, final_estimator__random_state=42, final_estimator__selection=random, final_estimator__tol=0.001;, score=-2.202 total time=  23.2s\n",
      "[CV 4/5] END final_estimator__alpha=0.0001, final_estimator__fit_intercept=True, final_estimator__l1_ratio=0.7, final_estimator__max_iter=1000, final_estimator__random_state=42, final_estimator__selection=random, final_estimator__tol=0.001;, score=-2.155 total time=  20.7s\n",
      "[CV 5/5] END final_estimator__alpha=0.0001, final_estimator__fit_intercept=True, final_estimator__l1_ratio=0.7, final_estimator__max_iter=1000, final_estimator__random_state=42, final_estimator__selection=random, final_estimator__tol=0.001;, score=-2.296 total time=  20.2s\n",
      "[CV 1/5] END final_estimator__alpha=0.0001, final_estimator__fit_intercept=True, final_estimator__l1_ratio=0.7, final_estimator__max_iter=1000, final_estimator__random_state=42, final_estimator__selection=random, final_estimator__tol=0.01;, score=-2.192 total time=  15.7s\n",
      "[CV 2/5] END final_estimator__alpha=0.0001, final_estimator__fit_intercept=True, final_estimator__l1_ratio=0.7, final_estimator__max_iter=1000, final_estimator__random_state=42, final_estimator__selection=random, final_estimator__tol=0.01;, score=-2.331 total time=  26.5s\n",
      "[CV 3/5] END final_estimator__alpha=0.0001, final_estimator__fit_intercept=True, final_estimator__l1_ratio=0.7, final_estimator__max_iter=1000, final_estimator__random_state=42, final_estimator__selection=random, final_estimator__tol=0.01;, score=-2.182 total time=  20.9s\n",
      "[CV 4/5] END final_estimator__alpha=0.0001, final_estimator__fit_intercept=True, final_estimator__l1_ratio=0.7, final_estimator__max_iter=1000, final_estimator__random_state=42, final_estimator__selection=random, final_estimator__tol=0.01;, score=-2.152 total time=  20.3s\n",
      "[CV 5/5] END final_estimator__alpha=0.0001, final_estimator__fit_intercept=True, final_estimator__l1_ratio=0.7, final_estimator__max_iter=1000, final_estimator__random_state=42, final_estimator__selection=random, final_estimator__tol=0.01;, score=-2.290 total time=  18.9s\n",
      "[CV 1/5] END final_estimator__alpha=0.0001, final_estimator__fit_intercept=True, final_estimator__l1_ratio=0.7, final_estimator__max_iter=2000, final_estimator__random_state=42, final_estimator__selection=cyclic, final_estimator__tol=0.0001;, score=-2.189 total time=  18.7s\n",
      "[CV 2/5] END final_estimator__alpha=0.0001, final_estimator__fit_intercept=True, final_estimator__l1_ratio=0.7, final_estimator__max_iter=2000, final_estimator__random_state=42, final_estimator__selection=cyclic, final_estimator__tol=0.0001;, score=-2.339 total time=  19.8s\n",
      "[CV 3/5] END final_estimator__alpha=0.0001, final_estimator__fit_intercept=True, final_estimator__l1_ratio=0.7, final_estimator__max_iter=2000, final_estimator__random_state=42, final_estimator__selection=cyclic, final_estimator__tol=0.0001;, score=-2.190 total time=  16.4s\n",
      "[CV 4/5] END final_estimator__alpha=0.0001, final_estimator__fit_intercept=True, final_estimator__l1_ratio=0.7, final_estimator__max_iter=2000, final_estimator__random_state=42, final_estimator__selection=cyclic, final_estimator__tol=0.0001;, score=-2.167 total time=  22.7s\n",
      "[CV 5/5] END final_estimator__alpha=0.0001, final_estimator__fit_intercept=True, final_estimator__l1_ratio=0.7, final_estimator__max_iter=2000, final_estimator__random_state=42, final_estimator__selection=cyclic, final_estimator__tol=0.0001;, score=-2.294 total time=  19.9s\n",
      "[CV 1/5] END final_estimator__alpha=0.0001, final_estimator__fit_intercept=True, final_estimator__l1_ratio=0.7, final_estimator__max_iter=2000, final_estimator__random_state=42, final_estimator__selection=cyclic, final_estimator__tol=0.001;, score=-2.194 total time=  22.5s\n",
      "[CV 2/5] END final_estimator__alpha=0.0001, final_estimator__fit_intercept=True, final_estimator__l1_ratio=0.7, final_estimator__max_iter=2000, final_estimator__random_state=42, final_estimator__selection=cyclic, final_estimator__tol=0.001;, score=-2.337 total time=  21.5s\n",
      "[CV 3/5] END final_estimator__alpha=0.0001, final_estimator__fit_intercept=True, final_estimator__l1_ratio=0.7, final_estimator__max_iter=2000, final_estimator__random_state=42, final_estimator__selection=cyclic, final_estimator__tol=0.001;, score=-2.201 total time=  19.3s\n",
      "[CV 4/5] END final_estimator__alpha=0.0001, final_estimator__fit_intercept=True, final_estimator__l1_ratio=0.7, final_estimator__max_iter=2000, final_estimator__random_state=42, final_estimator__selection=cyclic, final_estimator__tol=0.001;, score=-2.161 total time=  22.2s\n",
      "[CV 5/5] END final_estimator__alpha=0.0001, final_estimator__fit_intercept=True, final_estimator__l1_ratio=0.7, final_estimator__max_iter=2000, final_estimator__random_state=42, final_estimator__selection=cyclic, final_estimator__tol=0.001;, score=-2.281 total time=  19.7s\n",
      "[CV 1/5] END final_estimator__alpha=0.0001, final_estimator__fit_intercept=True, final_estimator__l1_ratio=0.7, final_estimator__max_iter=2000, final_estimator__random_state=42, final_estimator__selection=cyclic, final_estimator__tol=0.01;, score=-2.177 total time=  20.6s\n",
      "[CV 2/5] END final_estimator__alpha=0.0001, final_estimator__fit_intercept=True, final_estimator__l1_ratio=0.7, final_estimator__max_iter=2000, final_estimator__random_state=42, final_estimator__selection=cyclic, final_estimator__tol=0.01;, score=-2.342 total time=  15.4s\n",
      "[CV 3/5] END final_estimator__alpha=0.0001, final_estimator__fit_intercept=True, final_estimator__l1_ratio=0.7, final_estimator__max_iter=2000, final_estimator__random_state=42, final_estimator__selection=cyclic, final_estimator__tol=0.01;, score=-2.198 total time=  21.1s\n",
      "[CV 4/5] END final_estimator__alpha=0.0001, final_estimator__fit_intercept=True, final_estimator__l1_ratio=0.7, final_estimator__max_iter=2000, final_estimator__random_state=42, final_estimator__selection=cyclic, final_estimator__tol=0.01;, score=-2.171 total time=  19.8s\n",
      "[CV 5/5] END final_estimator__alpha=0.0001, final_estimator__fit_intercept=True, final_estimator__l1_ratio=0.7, final_estimator__max_iter=2000, final_estimator__random_state=42, final_estimator__selection=cyclic, final_estimator__tol=0.01;, score=-2.293 total time=  17.6s\n",
      "[CV 1/5] END final_estimator__alpha=0.0001, final_estimator__fit_intercept=True, final_estimator__l1_ratio=0.7, final_estimator__max_iter=2000, final_estimator__random_state=42, final_estimator__selection=random, final_estimator__tol=0.0001;, score=-2.195 total time=  12.9s\n",
      "[CV 2/5] END final_estimator__alpha=0.0001, final_estimator__fit_intercept=True, final_estimator__l1_ratio=0.7, final_estimator__max_iter=2000, final_estimator__random_state=42, final_estimator__selection=random, final_estimator__tol=0.0001;, score=-2.320 total time=  17.5s\n",
      "[CV 3/5] END final_estimator__alpha=0.0001, final_estimator__fit_intercept=True, final_estimator__l1_ratio=0.7, final_estimator__max_iter=2000, final_estimator__random_state=42, final_estimator__selection=random, final_estimator__tol=0.0001;, score=-2.202 total time=  19.8s\n",
      "[CV 4/5] END final_estimator__alpha=0.0001, final_estimator__fit_intercept=True, final_estimator__l1_ratio=0.7, final_estimator__max_iter=2000, final_estimator__random_state=42, final_estimator__selection=random, final_estimator__tol=0.0001;, score=-2.171 total time=  22.4s\n",
      "[CV 5/5] END final_estimator__alpha=0.0001, final_estimator__fit_intercept=True, final_estimator__l1_ratio=0.7, final_estimator__max_iter=2000, final_estimator__random_state=42, final_estimator__selection=random, final_estimator__tol=0.0001;, score=-2.289 total time=  15.4s\n",
      "[CV 1/5] END final_estimator__alpha=0.0001, final_estimator__fit_intercept=True, final_estimator__l1_ratio=0.7, final_estimator__max_iter=2000, final_estimator__random_state=42, final_estimator__selection=random, final_estimator__tol=0.001;, score=-2.204 total time=  19.6s\n",
      "[CV 2/5] END final_estimator__alpha=0.0001, final_estimator__fit_intercept=True, final_estimator__l1_ratio=0.7, final_estimator__max_iter=2000, final_estimator__random_state=42, final_estimator__selection=random, final_estimator__tol=0.001;, score=-2.337 total time=  23.5s\n",
      "[CV 3/5] END final_estimator__alpha=0.0001, final_estimator__fit_intercept=True, final_estimator__l1_ratio=0.7, final_estimator__max_iter=2000, final_estimator__random_state=42, final_estimator__selection=random, final_estimator__tol=0.001;, score=-2.195 total time=  26.2s\n",
      "[CV 4/5] END final_estimator__alpha=0.0001, final_estimator__fit_intercept=True, final_estimator__l1_ratio=0.7, final_estimator__max_iter=2000, final_estimator__random_state=42, final_estimator__selection=random, final_estimator__tol=0.001;, score=-2.162 total time=  15.0s\n",
      "[CV 5/5] END final_estimator__alpha=0.0001, final_estimator__fit_intercept=True, final_estimator__l1_ratio=0.7, final_estimator__max_iter=2000, final_estimator__random_state=42, final_estimator__selection=random, final_estimator__tol=0.001;, score=-2.292 total time=  14.1s\n",
      "[CV 1/5] END final_estimator__alpha=0.0001, final_estimator__fit_intercept=True, final_estimator__l1_ratio=0.7, final_estimator__max_iter=2000, final_estimator__random_state=42, final_estimator__selection=random, final_estimator__tol=0.01;, score=-2.185 total time=  21.5s\n",
      "[CV 2/5] END final_estimator__alpha=0.0001, final_estimator__fit_intercept=True, final_estimator__l1_ratio=0.7, final_estimator__max_iter=2000, final_estimator__random_state=42, final_estimator__selection=random, final_estimator__tol=0.01;, score=-2.358 total time=  19.8s\n",
      "[CV 3/5] END final_estimator__alpha=0.0001, final_estimator__fit_intercept=True, final_estimator__l1_ratio=0.7, final_estimator__max_iter=2000, final_estimator__random_state=42, final_estimator__selection=random, final_estimator__tol=0.01;, score=-2.189 total time=  17.9s\n",
      "[CV 4/5] END final_estimator__alpha=0.0001, final_estimator__fit_intercept=True, final_estimator__l1_ratio=0.7, final_estimator__max_iter=2000, final_estimator__random_state=42, final_estimator__selection=random, final_estimator__tol=0.01;, score=-2.166 total time=  15.7s\n",
      "[CV 5/5] END final_estimator__alpha=0.0001, final_estimator__fit_intercept=True, final_estimator__l1_ratio=0.7, final_estimator__max_iter=2000, final_estimator__random_state=42, final_estimator__selection=random, final_estimator__tol=0.01;, score=-2.292 total time=  18.9s\n",
      "[CV 1/5] END final_estimator__alpha=0.0001, final_estimator__fit_intercept=True, final_estimator__l1_ratio=0.9, final_estimator__max_iter=1000, final_estimator__random_state=42, final_estimator__selection=cyclic, final_estimator__tol=0.0001;, score=-2.190 total time=  20.8s\n",
      "[CV 2/5] END final_estimator__alpha=0.0001, final_estimator__fit_intercept=True, final_estimator__l1_ratio=0.9, final_estimator__max_iter=1000, final_estimator__random_state=42, final_estimator__selection=cyclic, final_estimator__tol=0.0001;, score=-2.345 total time=  17.2s\n",
      "[CV 3/5] END final_estimator__alpha=0.0001, final_estimator__fit_intercept=True, final_estimator__l1_ratio=0.9, final_estimator__max_iter=1000, final_estimator__random_state=42, final_estimator__selection=cyclic, final_estimator__tol=0.0001;, score=-2.207 total time=  17.4s\n",
      "[CV 4/5] END final_estimator__alpha=0.0001, final_estimator__fit_intercept=True, final_estimator__l1_ratio=0.9, final_estimator__max_iter=1000, final_estimator__random_state=42, final_estimator__selection=cyclic, final_estimator__tol=0.0001;, score=-2.188 total time=  22.9s\n",
      "[CV 5/5] END final_estimator__alpha=0.0001, final_estimator__fit_intercept=True, final_estimator__l1_ratio=0.9, final_estimator__max_iter=1000, final_estimator__random_state=42, final_estimator__selection=cyclic, final_estimator__tol=0.0001;, score=-2.290 total time=  18.0s\n",
      "[CV 1/5] END final_estimator__alpha=0.0001, final_estimator__fit_intercept=True, final_estimator__l1_ratio=0.9, final_estimator__max_iter=1000, final_estimator__random_state=42, final_estimator__selection=cyclic, final_estimator__tol=0.001;, score=-2.212 total time=  17.3s\n",
      "[CV 2/5] END final_estimator__alpha=0.0001, final_estimator__fit_intercept=True, final_estimator__l1_ratio=0.9, final_estimator__max_iter=1000, final_estimator__random_state=42, final_estimator__selection=cyclic, final_estimator__tol=0.001;, score=-2.361 total time=  15.4s\n",
      "[CV 3/5] END final_estimator__alpha=0.0001, final_estimator__fit_intercept=True, final_estimator__l1_ratio=0.9, final_estimator__max_iter=1000, final_estimator__random_state=42, final_estimator__selection=cyclic, final_estimator__tol=0.001;, score=-2.221 total time=  21.2s\n",
      "[CV 4/5] END final_estimator__alpha=0.0001, final_estimator__fit_intercept=True, final_estimator__l1_ratio=0.9, final_estimator__max_iter=1000, final_estimator__random_state=42, final_estimator__selection=cyclic, final_estimator__tol=0.001;, score=-2.168 total time=  19.8s\n",
      "[CV 5/5] END final_estimator__alpha=0.0001, final_estimator__fit_intercept=True, final_estimator__l1_ratio=0.9, final_estimator__max_iter=1000, final_estimator__random_state=42, final_estimator__selection=cyclic, final_estimator__tol=0.001;, score=-2.293 total time=  18.8s\n",
      "[CV 1/5] END final_estimator__alpha=0.0001, final_estimator__fit_intercept=True, final_estimator__l1_ratio=0.9, final_estimator__max_iter=1000, final_estimator__random_state=42, final_estimator__selection=cyclic, final_estimator__tol=0.01;, score=-2.208 total time=  16.6s\n",
      "[CV 2/5] END final_estimator__alpha=0.0001, final_estimator__fit_intercept=True, final_estimator__l1_ratio=0.9, final_estimator__max_iter=1000, final_estimator__random_state=42, final_estimator__selection=cyclic, final_estimator__tol=0.01;, score=-2.342 total time=  15.6s\n",
      "[CV 3/5] END final_estimator__alpha=0.0001, final_estimator__fit_intercept=True, final_estimator__l1_ratio=0.9, final_estimator__max_iter=1000, final_estimator__random_state=42, final_estimator__selection=cyclic, final_estimator__tol=0.01;, score=-2.207 total time=  16.8s\n",
      "[CV 4/5] END final_estimator__alpha=0.0001, final_estimator__fit_intercept=True, final_estimator__l1_ratio=0.9, final_estimator__max_iter=1000, final_estimator__random_state=42, final_estimator__selection=cyclic, final_estimator__tol=0.01;, score=-2.201 total time=  22.5s\n",
      "[CV 5/5] END final_estimator__alpha=0.0001, final_estimator__fit_intercept=True, final_estimator__l1_ratio=0.9, final_estimator__max_iter=1000, final_estimator__random_state=42, final_estimator__selection=cyclic, final_estimator__tol=0.01;, score=-2.289 total time=  18.9s\n",
      "[CV 1/5] END final_estimator__alpha=0.0001, final_estimator__fit_intercept=True, final_estimator__l1_ratio=0.9, final_estimator__max_iter=1000, final_estimator__random_state=42, final_estimator__selection=random, final_estimator__tol=0.0001;, score=-2.196 total time=  16.4s\n",
      "[CV 2/5] END final_estimator__alpha=0.0001, final_estimator__fit_intercept=True, final_estimator__l1_ratio=0.9, final_estimator__max_iter=1000, final_estimator__random_state=42, final_estimator__selection=random, final_estimator__tol=0.0001;, score=-2.340 total time=  22.6s\n",
      "[CV 3/5] END final_estimator__alpha=0.0001, final_estimator__fit_intercept=True, final_estimator__l1_ratio=0.9, final_estimator__max_iter=1000, final_estimator__random_state=42, final_estimator__selection=random, final_estimator__tol=0.0001;, score=-2.216 total time=  16.4s\n",
      "[CV 4/5] END final_estimator__alpha=0.0001, final_estimator__fit_intercept=True, final_estimator__l1_ratio=0.9, final_estimator__max_iter=1000, final_estimator__random_state=42, final_estimator__selection=random, final_estimator__tol=0.0001;, score=-2.150 total time=  22.3s\n",
      "[CV 5/5] END final_estimator__alpha=0.0001, final_estimator__fit_intercept=True, final_estimator__l1_ratio=0.9, final_estimator__max_iter=1000, final_estimator__random_state=42, final_estimator__selection=random, final_estimator__tol=0.0001;, score=-2.300 total time=  15.4s\n",
      "[CV 1/5] END final_estimator__alpha=0.0001, final_estimator__fit_intercept=True, final_estimator__l1_ratio=0.9, final_estimator__max_iter=1000, final_estimator__random_state=42, final_estimator__selection=random, final_estimator__tol=0.001;, score=-2.193 total time=  28.2s\n",
      "[CV 2/5] END final_estimator__alpha=0.0001, final_estimator__fit_intercept=True, final_estimator__l1_ratio=0.9, final_estimator__max_iter=1000, final_estimator__random_state=42, final_estimator__selection=random, final_estimator__tol=0.001;, score=-2.346 total time=  17.1s\n",
      "[CV 3/5] END final_estimator__alpha=0.0001, final_estimator__fit_intercept=True, final_estimator__l1_ratio=0.9, final_estimator__max_iter=1000, final_estimator__random_state=42, final_estimator__selection=random, final_estimator__tol=0.001;, score=-2.197 total time=  17.9s\n",
      "[CV 4/5] END final_estimator__alpha=0.0001, final_estimator__fit_intercept=True, final_estimator__l1_ratio=0.9, final_estimator__max_iter=1000, final_estimator__random_state=42, final_estimator__selection=random, final_estimator__tol=0.001;, score=-2.155 total time=  24.6s\n",
      "[CV 5/5] END final_estimator__alpha=0.0001, final_estimator__fit_intercept=True, final_estimator__l1_ratio=0.9, final_estimator__max_iter=1000, final_estimator__random_state=42, final_estimator__selection=random, final_estimator__tol=0.001;, score=-2.283 total time=  17.4s\n",
      "[CV 1/5] END final_estimator__alpha=0.0001, final_estimator__fit_intercept=True, final_estimator__l1_ratio=0.9, final_estimator__max_iter=1000, final_estimator__random_state=42, final_estimator__selection=random, final_estimator__tol=0.01;, score=-2.213 total time=  17.0s\n",
      "[CV 2/5] END final_estimator__alpha=0.0001, final_estimator__fit_intercept=True, final_estimator__l1_ratio=0.9, final_estimator__max_iter=1000, final_estimator__random_state=42, final_estimator__selection=random, final_estimator__tol=0.01;, score=-2.338 total time=  20.2s\n",
      "[CV 3/5] END final_estimator__alpha=0.0001, final_estimator__fit_intercept=True, final_estimator__l1_ratio=0.9, final_estimator__max_iter=1000, final_estimator__random_state=42, final_estimator__selection=random, final_estimator__tol=0.01;, score=-2.199 total time=  20.8s\n",
      "[CV 4/5] END final_estimator__alpha=0.0001, final_estimator__fit_intercept=True, final_estimator__l1_ratio=0.9, final_estimator__max_iter=1000, final_estimator__random_state=42, final_estimator__selection=random, final_estimator__tol=0.01;, score=-2.179 total time=  19.9s\n",
      "[CV 5/5] END final_estimator__alpha=0.0001, final_estimator__fit_intercept=True, final_estimator__l1_ratio=0.9, final_estimator__max_iter=1000, final_estimator__random_state=42, final_estimator__selection=random, final_estimator__tol=0.01;, score=-2.297 total time=  18.2s\n",
      "[CV 1/5] END final_estimator__alpha=0.0001, final_estimator__fit_intercept=True, final_estimator__l1_ratio=0.9, final_estimator__max_iter=2000, final_estimator__random_state=42, final_estimator__selection=cyclic, final_estimator__tol=0.0001;, score=-2.200 total time=  21.0s\n",
      "[CV 2/5] END final_estimator__alpha=0.0001, final_estimator__fit_intercept=True, final_estimator__l1_ratio=0.9, final_estimator__max_iter=2000, final_estimator__random_state=42, final_estimator__selection=cyclic, final_estimator__tol=0.0001;, score=-2.329 total time=  19.6s\n",
      "[CV 3/5] END final_estimator__alpha=0.0001, final_estimator__fit_intercept=True, final_estimator__l1_ratio=0.9, final_estimator__max_iter=2000, final_estimator__random_state=42, final_estimator__selection=cyclic, final_estimator__tol=0.0001;, score=-2.182 total time=  19.7s\n",
      "[CV 4/5] END final_estimator__alpha=0.0001, final_estimator__fit_intercept=True, final_estimator__l1_ratio=0.9, final_estimator__max_iter=2000, final_estimator__random_state=42, final_estimator__selection=cyclic, final_estimator__tol=0.0001;, score=-2.169 total time=  17.3s\n",
      "[CV 5/5] END final_estimator__alpha=0.0001, final_estimator__fit_intercept=True, final_estimator__l1_ratio=0.9, final_estimator__max_iter=2000, final_estimator__random_state=42, final_estimator__selection=cyclic, final_estimator__tol=0.0001;, score=-2.292 total time=  20.9s\n",
      "[CV 1/5] END final_estimator__alpha=0.0001, final_estimator__fit_intercept=True, final_estimator__l1_ratio=0.9, final_estimator__max_iter=2000, final_estimator__random_state=42, final_estimator__selection=cyclic, final_estimator__tol=0.001;, score=-2.197 total time=  17.5s\n",
      "[CV 2/5] END final_estimator__alpha=0.0001, final_estimator__fit_intercept=True, final_estimator__l1_ratio=0.9, final_estimator__max_iter=2000, final_estimator__random_state=42, final_estimator__selection=cyclic, final_estimator__tol=0.001;, score=-2.329 total time=  18.1s\n",
      "[CV 3/5] END final_estimator__alpha=0.0001, final_estimator__fit_intercept=True, final_estimator__l1_ratio=0.9, final_estimator__max_iter=2000, final_estimator__random_state=42, final_estimator__selection=cyclic, final_estimator__tol=0.001;, score=-2.211 total time=  20.5s\n",
      "[CV 4/5] END final_estimator__alpha=0.0001, final_estimator__fit_intercept=True, final_estimator__l1_ratio=0.9, final_estimator__max_iter=2000, final_estimator__random_state=42, final_estimator__selection=cyclic, final_estimator__tol=0.001;, score=-2.197 total time=  21.4s\n",
      "[CV 5/5] END final_estimator__alpha=0.0001, final_estimator__fit_intercept=True, final_estimator__l1_ratio=0.9, final_estimator__max_iter=2000, final_estimator__random_state=42, final_estimator__selection=cyclic, final_estimator__tol=0.001;, score=-2.268 total time=  21.7s\n",
      "[CV 1/5] END final_estimator__alpha=0.0001, final_estimator__fit_intercept=True, final_estimator__l1_ratio=0.9, final_estimator__max_iter=2000, final_estimator__random_state=42, final_estimator__selection=cyclic, final_estimator__tol=0.01;, score=-2.182 total time=  16.9s\n",
      "[CV 2/5] END final_estimator__alpha=0.0001, final_estimator__fit_intercept=True, final_estimator__l1_ratio=0.9, final_estimator__max_iter=2000, final_estimator__random_state=42, final_estimator__selection=cyclic, final_estimator__tol=0.01;, score=-2.335 total time=  14.8s\n",
      "[CV 3/5] END final_estimator__alpha=0.0001, final_estimator__fit_intercept=True, final_estimator__l1_ratio=0.9, final_estimator__max_iter=2000, final_estimator__random_state=42, final_estimator__selection=cyclic, final_estimator__tol=0.01;, score=-2.194 total time=  17.6s\n",
      "[CV 4/5] END final_estimator__alpha=0.0001, final_estimator__fit_intercept=True, final_estimator__l1_ratio=0.9, final_estimator__max_iter=2000, final_estimator__random_state=42, final_estimator__selection=cyclic, final_estimator__tol=0.01;, score=-2.170 total time=  23.6s\n",
      "[CV 5/5] END final_estimator__alpha=0.0001, final_estimator__fit_intercept=True, final_estimator__l1_ratio=0.9, final_estimator__max_iter=2000, final_estimator__random_state=42, final_estimator__selection=cyclic, final_estimator__tol=0.01;, score=-2.292 total time=  20.6s\n",
      "[CV 1/5] END final_estimator__alpha=0.0001, final_estimator__fit_intercept=True, final_estimator__l1_ratio=0.9, final_estimator__max_iter=2000, final_estimator__random_state=42, final_estimator__selection=random, final_estimator__tol=0.0001;, score=-2.190 total time=  16.9s\n",
      "[CV 2/5] END final_estimator__alpha=0.0001, final_estimator__fit_intercept=True, final_estimator__l1_ratio=0.9, final_estimator__max_iter=2000, final_estimator__random_state=42, final_estimator__selection=random, final_estimator__tol=0.0001;, score=-2.332 total time=  19.3s\n",
      "[CV 3/5] END final_estimator__alpha=0.0001, final_estimator__fit_intercept=True, final_estimator__l1_ratio=0.9, final_estimator__max_iter=2000, final_estimator__random_state=42, final_estimator__selection=random, final_estimator__tol=0.0001;, score=-2.217 total time=  21.6s\n",
      "[CV 4/5] END final_estimator__alpha=0.0001, final_estimator__fit_intercept=True, final_estimator__l1_ratio=0.9, final_estimator__max_iter=2000, final_estimator__random_state=42, final_estimator__selection=random, final_estimator__tol=0.0001;, score=-2.171 total time=  18.6s\n",
      "[CV 5/5] END final_estimator__alpha=0.0001, final_estimator__fit_intercept=True, final_estimator__l1_ratio=0.9, final_estimator__max_iter=2000, final_estimator__random_state=42, final_estimator__selection=random, final_estimator__tol=0.0001;, score=-2.294 total time=  17.0s\n",
      "[CV 1/5] END final_estimator__alpha=0.0001, final_estimator__fit_intercept=True, final_estimator__l1_ratio=0.9, final_estimator__max_iter=2000, final_estimator__random_state=42, final_estimator__selection=random, final_estimator__tol=0.001;, score=-2.188 total time=  20.9s\n",
      "[CV 2/5] END final_estimator__alpha=0.0001, final_estimator__fit_intercept=True, final_estimator__l1_ratio=0.9, final_estimator__max_iter=2000, final_estimator__random_state=42, final_estimator__selection=random, final_estimator__tol=0.001;, score=-2.351 total time=  17.1s\n",
      "[CV 3/5] END final_estimator__alpha=0.0001, final_estimator__fit_intercept=True, final_estimator__l1_ratio=0.9, final_estimator__max_iter=2000, final_estimator__random_state=42, final_estimator__selection=random, final_estimator__tol=0.001;, score=-2.191 total time=  19.4s\n",
      "[CV 4/5] END final_estimator__alpha=0.0001, final_estimator__fit_intercept=True, final_estimator__l1_ratio=0.9, final_estimator__max_iter=2000, final_estimator__random_state=42, final_estimator__selection=random, final_estimator__tol=0.001;, score=-2.162 total time=  19.8s\n",
      "[CV 5/5] END final_estimator__alpha=0.0001, final_estimator__fit_intercept=True, final_estimator__l1_ratio=0.9, final_estimator__max_iter=2000, final_estimator__random_state=42, final_estimator__selection=random, final_estimator__tol=0.001;, score=-2.295 total time=  18.0s\n",
      "[CV 1/5] END final_estimator__alpha=0.0001, final_estimator__fit_intercept=True, final_estimator__l1_ratio=0.9, final_estimator__max_iter=2000, final_estimator__random_state=42, final_estimator__selection=random, final_estimator__tol=0.01;, score=-2.202 total time=  22.2s\n",
      "[CV 2/5] END final_estimator__alpha=0.0001, final_estimator__fit_intercept=True, final_estimator__l1_ratio=0.9, final_estimator__max_iter=2000, final_estimator__random_state=42, final_estimator__selection=random, final_estimator__tol=0.01;, score=-2.321 total time=  19.3s\n",
      "[CV 3/5] END final_estimator__alpha=0.0001, final_estimator__fit_intercept=True, final_estimator__l1_ratio=0.9, final_estimator__max_iter=2000, final_estimator__random_state=42, final_estimator__selection=random, final_estimator__tol=0.01;, score=-2.193 total time=  19.8s\n",
      "[CV 4/5] END final_estimator__alpha=0.0001, final_estimator__fit_intercept=True, final_estimator__l1_ratio=0.9, final_estimator__max_iter=2000, final_estimator__random_state=42, final_estimator__selection=random, final_estimator__tol=0.01;, score=-2.163 total time=  14.9s\n",
      "[CV 5/5] END final_estimator__alpha=0.0001, final_estimator__fit_intercept=True, final_estimator__l1_ratio=0.9, final_estimator__max_iter=2000, final_estimator__random_state=42, final_estimator__selection=random, final_estimator__tol=0.01;, score=-2.293 total time=  19.6s\n"
     ]
    },
    {
     "name": "stderr",
     "output_type": "stream",
     "text": [
      "c:\\Users\\User\\.conda\\envs\\energy\\Lib\\site-packages\\sklearn\\linear_model\\_coordinate_descent.py:697: ConvergenceWarning: Objective did not converge. You might want to increase the number of iterations, check the scale of the features or consider increasing regularisation. Duality gap: 2.927e+04, tolerance: 1.615e+02\n",
      "  model = cd_fast.enet_coordinate_descent(\n"
     ]
    },
    {
     "name": "stdout",
     "output_type": "stream",
     "text": [
      "[CV 1/5] END final_estimator__alpha=0.0001, final_estimator__fit_intercept=False, final_estimator__l1_ratio=0.1, final_estimator__max_iter=1000, final_estimator__random_state=42, final_estimator__selection=cyclic, final_estimator__tol=0.0001;, score=-2.181 total time=  20.3s\n"
     ]
    },
    {
     "name": "stderr",
     "output_type": "stream",
     "text": [
      "c:\\Users\\User\\.conda\\envs\\energy\\Lib\\site-packages\\sklearn\\linear_model\\_coordinate_descent.py:697: ConvergenceWarning: Objective did not converge. You might want to increase the number of iterations, check the scale of the features or consider increasing regularisation. Duality gap: 2.796e+04, tolerance: 1.598e+02\n",
      "  model = cd_fast.enet_coordinate_descent(\n"
     ]
    },
    {
     "name": "stdout",
     "output_type": "stream",
     "text": [
      "[CV 2/5] END final_estimator__alpha=0.0001, final_estimator__fit_intercept=False, final_estimator__l1_ratio=0.1, final_estimator__max_iter=1000, final_estimator__random_state=42, final_estimator__selection=cyclic, final_estimator__tol=0.0001;, score=-2.329 total time=  21.6s\n"
     ]
    },
    {
     "name": "stderr",
     "output_type": "stream",
     "text": [
      "c:\\Users\\User\\.conda\\envs\\energy\\Lib\\site-packages\\sklearn\\linear_model\\_coordinate_descent.py:697: ConvergenceWarning: Objective did not converge. You might want to increase the number of iterations, check the scale of the features or consider increasing regularisation. Duality gap: 2.786e+04, tolerance: 1.608e+02\n",
      "  model = cd_fast.enet_coordinate_descent(\n"
     ]
    },
    {
     "name": "stdout",
     "output_type": "stream",
     "text": [
      "[CV 3/5] END final_estimator__alpha=0.0001, final_estimator__fit_intercept=False, final_estimator__l1_ratio=0.1, final_estimator__max_iter=1000, final_estimator__random_state=42, final_estimator__selection=cyclic, final_estimator__tol=0.0001;, score=-2.213 total time=  15.4s\n"
     ]
    },
    {
     "name": "stderr",
     "output_type": "stream",
     "text": [
      "c:\\Users\\User\\.conda\\envs\\energy\\Lib\\site-packages\\sklearn\\linear_model\\_coordinate_descent.py:697: ConvergenceWarning: Objective did not converge. You might want to increase the number of iterations, check the scale of the features or consider increasing regularisation. Duality gap: 2.847e+04, tolerance: 1.614e+02\n",
      "  model = cd_fast.enet_coordinate_descent(\n"
     ]
    },
    {
     "name": "stdout",
     "output_type": "stream",
     "text": [
      "[CV 4/5] END final_estimator__alpha=0.0001, final_estimator__fit_intercept=False, final_estimator__l1_ratio=0.1, final_estimator__max_iter=1000, final_estimator__random_state=42, final_estimator__selection=cyclic, final_estimator__tol=0.0001;, score=-2.158 total time=  20.0s\n"
     ]
    },
    {
     "name": "stderr",
     "output_type": "stream",
     "text": [
      "c:\\Users\\User\\.conda\\envs\\energy\\Lib\\site-packages\\sklearn\\linear_model\\_coordinate_descent.py:697: ConvergenceWarning: Objective did not converge. You might want to increase the number of iterations, check the scale of the features or consider increasing regularisation. Duality gap: 2.748e+04, tolerance: 1.609e+02\n",
      "  model = cd_fast.enet_coordinate_descent(\n"
     ]
    },
    {
     "name": "stdout",
     "output_type": "stream",
     "text": [
      "[CV 5/5] END final_estimator__alpha=0.0001, final_estimator__fit_intercept=False, final_estimator__l1_ratio=0.1, final_estimator__max_iter=1000, final_estimator__random_state=42, final_estimator__selection=cyclic, final_estimator__tol=0.0001;, score=-2.280 total time=  18.7s\n"
     ]
    },
    {
     "name": "stderr",
     "output_type": "stream",
     "text": [
      "c:\\Users\\User\\.conda\\envs\\energy\\Lib\\site-packages\\sklearn\\linear_model\\_coordinate_descent.py:697: ConvergenceWarning: Objective did not converge. You might want to increase the number of iterations, check the scale of the features or consider increasing regularisation. Duality gap: 2.932e+04, tolerance: 1.615e+03\n",
      "  model = cd_fast.enet_coordinate_descent(\n"
     ]
    },
    {
     "name": "stdout",
     "output_type": "stream",
     "text": [
      "[CV 1/5] END final_estimator__alpha=0.0001, final_estimator__fit_intercept=False, final_estimator__l1_ratio=0.1, final_estimator__max_iter=1000, final_estimator__random_state=42, final_estimator__selection=cyclic, final_estimator__tol=0.001;, score=-2.189 total time=  16.2s\n"
     ]
    },
    {
     "name": "stderr",
     "output_type": "stream",
     "text": [
      "c:\\Users\\User\\.conda\\envs\\energy\\Lib\\site-packages\\sklearn\\linear_model\\_coordinate_descent.py:697: ConvergenceWarning: Objective did not converge. You might want to increase the number of iterations, check the scale of the features or consider increasing regularisation. Duality gap: 2.807e+04, tolerance: 1.598e+03\n",
      "  model = cd_fast.enet_coordinate_descent(\n"
     ]
    },
    {
     "name": "stdout",
     "output_type": "stream",
     "text": [
      "[CV 2/5] END final_estimator__alpha=0.0001, final_estimator__fit_intercept=False, final_estimator__l1_ratio=0.1, final_estimator__max_iter=1000, final_estimator__random_state=42, final_estimator__selection=cyclic, final_estimator__tol=0.001;, score=-2.329 total time=  16.4s\n"
     ]
    },
    {
     "name": "stderr",
     "output_type": "stream",
     "text": [
      "c:\\Users\\User\\.conda\\envs\\energy\\Lib\\site-packages\\sklearn\\linear_model\\_coordinate_descent.py:697: ConvergenceWarning: Objective did not converge. You might want to increase the number of iterations, check the scale of the features or consider increasing regularisation. Duality gap: 2.795e+04, tolerance: 1.608e+03\n",
      "  model = cd_fast.enet_coordinate_descent(\n"
     ]
    },
    {
     "name": "stdout",
     "output_type": "stream",
     "text": [
      "[CV 3/5] END final_estimator__alpha=0.0001, final_estimator__fit_intercept=False, final_estimator__l1_ratio=0.1, final_estimator__max_iter=1000, final_estimator__random_state=42, final_estimator__selection=cyclic, final_estimator__tol=0.001;, score=-2.193 total time=  24.5s\n"
     ]
    },
    {
     "name": "stderr",
     "output_type": "stream",
     "text": [
      "c:\\Users\\User\\.conda\\envs\\energy\\Lib\\site-packages\\sklearn\\linear_model\\_coordinate_descent.py:697: ConvergenceWarning: Objective did not converge. You might want to increase the number of iterations, check the scale of the features or consider increasing regularisation. Duality gap: 2.837e+04, tolerance: 1.614e+03\n",
      "  model = cd_fast.enet_coordinate_descent(\n"
     ]
    },
    {
     "name": "stdout",
     "output_type": "stream",
     "text": [
      "[CV 4/5] END final_estimator__alpha=0.0001, final_estimator__fit_intercept=False, final_estimator__l1_ratio=0.1, final_estimator__max_iter=1000, final_estimator__random_state=42, final_estimator__selection=cyclic, final_estimator__tol=0.001;, score=-2.172 total time=  21.6s\n"
     ]
    },
    {
     "name": "stderr",
     "output_type": "stream",
     "text": [
      "c:\\Users\\User\\.conda\\envs\\energy\\Lib\\site-packages\\sklearn\\linear_model\\_coordinate_descent.py:697: ConvergenceWarning: Objective did not converge. You might want to increase the number of iterations, check the scale of the features or consider increasing regularisation. Duality gap: 2.747e+04, tolerance: 1.609e+03\n",
      "  model = cd_fast.enet_coordinate_descent(\n"
     ]
    },
    {
     "name": "stdout",
     "output_type": "stream",
     "text": [
      "[CV 5/5] END final_estimator__alpha=0.0001, final_estimator__fit_intercept=False, final_estimator__l1_ratio=0.1, final_estimator__max_iter=1000, final_estimator__random_state=42, final_estimator__selection=cyclic, final_estimator__tol=0.001;, score=-2.280 total time=  19.3s\n"
     ]
    },
    {
     "name": "stderr",
     "output_type": "stream",
     "text": [
      "c:\\Users\\User\\.conda\\envs\\energy\\Lib\\site-packages\\sklearn\\linear_model\\_coordinate_descent.py:697: ConvergenceWarning: Objective did not converge. You might want to increase the number of iterations, check the scale of the features or consider increasing regularisation. Duality gap: 2.924e+04, tolerance: 1.615e+04\n",
      "  model = cd_fast.enet_coordinate_descent(\n"
     ]
    },
    {
     "name": "stdout",
     "output_type": "stream",
     "text": [
      "[CV 1/5] END final_estimator__alpha=0.0001, final_estimator__fit_intercept=False, final_estimator__l1_ratio=0.1, final_estimator__max_iter=1000, final_estimator__random_state=42, final_estimator__selection=cyclic, final_estimator__tol=0.01;, score=-2.209 total time=  17.4s\n"
     ]
    },
    {
     "name": "stderr",
     "output_type": "stream",
     "text": [
      "c:\\Users\\User\\.conda\\envs\\energy\\Lib\\site-packages\\sklearn\\linear_model\\_coordinate_descent.py:697: ConvergenceWarning: Objective did not converge. You might want to increase the number of iterations, check the scale of the features or consider increasing regularisation. Duality gap: 2.795e+04, tolerance: 1.598e+04\n",
      "  model = cd_fast.enet_coordinate_descent(\n"
     ]
    },
    {
     "name": "stdout",
     "output_type": "stream",
     "text": [
      "[CV 2/5] END final_estimator__alpha=0.0001, final_estimator__fit_intercept=False, final_estimator__l1_ratio=0.1, final_estimator__max_iter=1000, final_estimator__random_state=42, final_estimator__selection=cyclic, final_estimator__tol=0.01;, score=-2.333 total time=  19.2s\n"
     ]
    },
    {
     "name": "stderr",
     "output_type": "stream",
     "text": [
      "c:\\Users\\User\\.conda\\envs\\energy\\Lib\\site-packages\\sklearn\\linear_model\\_coordinate_descent.py:697: ConvergenceWarning: Objective did not converge. You might want to increase the number of iterations, check the scale of the features or consider increasing regularisation. Duality gap: 2.792e+04, tolerance: 1.608e+04\n",
      "  model = cd_fast.enet_coordinate_descent(\n"
     ]
    },
    {
     "name": "stdout",
     "output_type": "stream",
     "text": [
      "[CV 3/5] END final_estimator__alpha=0.0001, final_estimator__fit_intercept=False, final_estimator__l1_ratio=0.1, final_estimator__max_iter=1000, final_estimator__random_state=42, final_estimator__selection=cyclic, final_estimator__tol=0.01;, score=-2.186 total time=  19.2s\n"
     ]
    },
    {
     "name": "stderr",
     "output_type": "stream",
     "text": [
      "c:\\Users\\User\\.conda\\envs\\energy\\Lib\\site-packages\\sklearn\\linear_model\\_coordinate_descent.py:697: ConvergenceWarning: Objective did not converge. You might want to increase the number of iterations, check the scale of the features or consider increasing regularisation. Duality gap: 2.858e+04, tolerance: 1.614e+04\n",
      "  model = cd_fast.enet_coordinate_descent(\n"
     ]
    },
    {
     "name": "stdout",
     "output_type": "stream",
     "text": [
      "[CV 4/5] END final_estimator__alpha=0.0001, final_estimator__fit_intercept=False, final_estimator__l1_ratio=0.1, final_estimator__max_iter=1000, final_estimator__random_state=42, final_estimator__selection=cyclic, final_estimator__tol=0.01;, score=-2.157 total time=  18.8s\n"
     ]
    },
    {
     "name": "stderr",
     "output_type": "stream",
     "text": [
      "c:\\Users\\User\\.conda\\envs\\energy\\Lib\\site-packages\\sklearn\\linear_model\\_coordinate_descent.py:697: ConvergenceWarning: Objective did not converge. You might want to increase the number of iterations, check the scale of the features or consider increasing regularisation. Duality gap: 2.738e+04, tolerance: 1.609e+04\n",
      "  model = cd_fast.enet_coordinate_descent(\n"
     ]
    },
    {
     "name": "stdout",
     "output_type": "stream",
     "text": [
      "[CV 5/5] END final_estimator__alpha=0.0001, final_estimator__fit_intercept=False, final_estimator__l1_ratio=0.1, final_estimator__max_iter=1000, final_estimator__random_state=42, final_estimator__selection=cyclic, final_estimator__tol=0.01;, score=-2.297 total time=  18.8s\n"
     ]
    },
    {
     "name": "stderr",
     "output_type": "stream",
     "text": [
      "c:\\Users\\User\\.conda\\envs\\energy\\Lib\\site-packages\\sklearn\\linear_model\\_coordinate_descent.py:697: ConvergenceWarning: Objective did not converge. You might want to increase the number of iterations, check the scale of the features or consider increasing regularisation. Duality gap: 2.927e+04, tolerance: 1.615e+02\n",
      "  model = cd_fast.enet_coordinate_descent(\n"
     ]
    },
    {
     "name": "stdout",
     "output_type": "stream",
     "text": [
      "[CV 1/5] END final_estimator__alpha=0.0001, final_estimator__fit_intercept=False, final_estimator__l1_ratio=0.1, final_estimator__max_iter=1000, final_estimator__random_state=42, final_estimator__selection=random, final_estimator__tol=0.0001;, score=-2.184 total time=  22.4s\n"
     ]
    },
    {
     "name": "stderr",
     "output_type": "stream",
     "text": [
      "c:\\Users\\User\\.conda\\envs\\energy\\Lib\\site-packages\\sklearn\\linear_model\\_coordinate_descent.py:697: ConvergenceWarning: Objective did not converge. You might want to increase the number of iterations, check the scale of the features or consider increasing regularisation. Duality gap: 2.808e+04, tolerance: 1.598e+02\n",
      "  model = cd_fast.enet_coordinate_descent(\n"
     ]
    },
    {
     "name": "stdout",
     "output_type": "stream",
     "text": [
      "[CV 2/5] END final_estimator__alpha=0.0001, final_estimator__fit_intercept=False, final_estimator__l1_ratio=0.1, final_estimator__max_iter=1000, final_estimator__random_state=42, final_estimator__selection=random, final_estimator__tol=0.0001;, score=-2.330 total time=  17.1s\n"
     ]
    },
    {
     "name": "stderr",
     "output_type": "stream",
     "text": [
      "c:\\Users\\User\\.conda\\envs\\energy\\Lib\\site-packages\\sklearn\\linear_model\\_coordinate_descent.py:697: ConvergenceWarning: Objective did not converge. You might want to increase the number of iterations, check the scale of the features or consider increasing regularisation. Duality gap: 2.795e+04, tolerance: 1.608e+02\n",
      "  model = cd_fast.enet_coordinate_descent(\n"
     ]
    },
    {
     "name": "stdout",
     "output_type": "stream",
     "text": [
      "[CV 3/5] END final_estimator__alpha=0.0001, final_estimator__fit_intercept=False, final_estimator__l1_ratio=0.1, final_estimator__max_iter=1000, final_estimator__random_state=42, final_estimator__selection=random, final_estimator__tol=0.0001;, score=-2.210 total time=  18.5s\n"
     ]
    },
    {
     "name": "stderr",
     "output_type": "stream",
     "text": [
      "c:\\Users\\User\\.conda\\envs\\energy\\Lib\\site-packages\\sklearn\\linear_model\\_coordinate_descent.py:697: ConvergenceWarning: Objective did not converge. You might want to increase the number of iterations, check the scale of the features or consider increasing regularisation. Duality gap: 2.850e+04, tolerance: 1.614e+02\n",
      "  model = cd_fast.enet_coordinate_descent(\n"
     ]
    },
    {
     "name": "stdout",
     "output_type": "stream",
     "text": [
      "[CV 4/5] END final_estimator__alpha=0.0001, final_estimator__fit_intercept=False, final_estimator__l1_ratio=0.1, final_estimator__max_iter=1000, final_estimator__random_state=42, final_estimator__selection=random, final_estimator__tol=0.0001;, score=-2.164 total time=  19.0s\n"
     ]
    },
    {
     "name": "stderr",
     "output_type": "stream",
     "text": [
      "c:\\Users\\User\\.conda\\envs\\energy\\Lib\\site-packages\\sklearn\\linear_model\\_coordinate_descent.py:697: ConvergenceWarning: Objective did not converge. You might want to increase the number of iterations, check the scale of the features or consider increasing regularisation. Duality gap: 2.729e+04, tolerance: 1.609e+02\n",
      "  model = cd_fast.enet_coordinate_descent(\n"
     ]
    },
    {
     "name": "stdout",
     "output_type": "stream",
     "text": [
      "[CV 5/5] END final_estimator__alpha=0.0001, final_estimator__fit_intercept=False, final_estimator__l1_ratio=0.1, final_estimator__max_iter=1000, final_estimator__random_state=42, final_estimator__selection=random, final_estimator__tol=0.0001;, score=-2.291 total time=  23.5s\n"
     ]
    },
    {
     "name": "stderr",
     "output_type": "stream",
     "text": [
      "c:\\Users\\User\\.conda\\envs\\energy\\Lib\\site-packages\\sklearn\\linear_model\\_coordinate_descent.py:697: ConvergenceWarning: Objective did not converge. You might want to increase the number of iterations, check the scale of the features or consider increasing regularisation. Duality gap: 2.906e+04, tolerance: 1.615e+03\n",
      "  model = cd_fast.enet_coordinate_descent(\n"
     ]
    },
    {
     "name": "stdout",
     "output_type": "stream",
     "text": [
      "[CV 1/5] END final_estimator__alpha=0.0001, final_estimator__fit_intercept=False, final_estimator__l1_ratio=0.1, final_estimator__max_iter=1000, final_estimator__random_state=42, final_estimator__selection=random, final_estimator__tol=0.001;, score=-2.222 total time=  20.1s\n"
     ]
    },
    {
     "name": "stderr",
     "output_type": "stream",
     "text": [
      "c:\\Users\\User\\.conda\\envs\\energy\\Lib\\site-packages\\sklearn\\linear_model\\_coordinate_descent.py:697: ConvergenceWarning: Objective did not converge. You might want to increase the number of iterations, check the scale of the features or consider increasing regularisation. Duality gap: 2.802e+04, tolerance: 1.598e+03\n",
      "  model = cd_fast.enet_coordinate_descent(\n"
     ]
    },
    {
     "name": "stdout",
     "output_type": "stream",
     "text": [
      "[CV 2/5] END final_estimator__alpha=0.0001, final_estimator__fit_intercept=False, final_estimator__l1_ratio=0.1, final_estimator__max_iter=1000, final_estimator__random_state=42, final_estimator__selection=random, final_estimator__tol=0.001;, score=-2.330 total time=  18.2s\n"
     ]
    },
    {
     "name": "stderr",
     "output_type": "stream",
     "text": [
      "c:\\Users\\User\\.conda\\envs\\energy\\Lib\\site-packages\\sklearn\\linear_model\\_coordinate_descent.py:697: ConvergenceWarning: Objective did not converge. You might want to increase the number of iterations, check the scale of the features or consider increasing regularisation. Duality gap: 2.784e+04, tolerance: 1.608e+03\n",
      "  model = cd_fast.enet_coordinate_descent(\n"
     ]
    },
    {
     "name": "stdout",
     "output_type": "stream",
     "text": [
      "[CV 3/5] END final_estimator__alpha=0.0001, final_estimator__fit_intercept=False, final_estimator__l1_ratio=0.1, final_estimator__max_iter=1000, final_estimator__random_state=42, final_estimator__selection=random, final_estimator__tol=0.001;, score=-2.203 total time=  19.7s\n"
     ]
    },
    {
     "name": "stderr",
     "output_type": "stream",
     "text": [
      "c:\\Users\\User\\.conda\\envs\\energy\\Lib\\site-packages\\sklearn\\linear_model\\_coordinate_descent.py:697: ConvergenceWarning: Objective did not converge. You might want to increase the number of iterations, check the scale of the features or consider increasing regularisation. Duality gap: 2.853e+04, tolerance: 1.614e+03\n",
      "  model = cd_fast.enet_coordinate_descent(\n"
     ]
    },
    {
     "name": "stdout",
     "output_type": "stream",
     "text": [
      "[CV 4/5] END final_estimator__alpha=0.0001, final_estimator__fit_intercept=False, final_estimator__l1_ratio=0.1, final_estimator__max_iter=1000, final_estimator__random_state=42, final_estimator__selection=random, final_estimator__tol=0.001;, score=-2.167 total time=  18.0s\n"
     ]
    },
    {
     "name": "stderr",
     "output_type": "stream",
     "text": [
      "c:\\Users\\User\\.conda\\envs\\energy\\Lib\\site-packages\\sklearn\\linear_model\\_coordinate_descent.py:697: ConvergenceWarning: Objective did not converge. You might want to increase the number of iterations, check the scale of the features or consider increasing regularisation. Duality gap: 2.760e+04, tolerance: 1.609e+03\n",
      "  model = cd_fast.enet_coordinate_descent(\n"
     ]
    },
    {
     "name": "stdout",
     "output_type": "stream",
     "text": [
      "[CV 5/5] END final_estimator__alpha=0.0001, final_estimator__fit_intercept=False, final_estimator__l1_ratio=0.1, final_estimator__max_iter=1000, final_estimator__random_state=42, final_estimator__selection=random, final_estimator__tol=0.001;, score=-2.298 total time=  18.3s\n"
     ]
    },
    {
     "name": "stderr",
     "output_type": "stream",
     "text": [
      "c:\\Users\\User\\.conda\\envs\\energy\\Lib\\site-packages\\sklearn\\linear_model\\_coordinate_descent.py:697: ConvergenceWarning: Objective did not converge. You might want to increase the number of iterations, check the scale of the features or consider increasing regularisation. Duality gap: 2.949e+04, tolerance: 1.615e+04\n",
      "  model = cd_fast.enet_coordinate_descent(\n"
     ]
    },
    {
     "name": "stdout",
     "output_type": "stream",
     "text": [
      "[CV 1/5] END final_estimator__alpha=0.0001, final_estimator__fit_intercept=False, final_estimator__l1_ratio=0.1, final_estimator__max_iter=1000, final_estimator__random_state=42, final_estimator__selection=random, final_estimator__tol=0.01;, score=-2.183 total time=  20.6s\n"
     ]
    },
    {
     "name": "stderr",
     "output_type": "stream",
     "text": [
      "c:\\Users\\User\\.conda\\envs\\energy\\Lib\\site-packages\\sklearn\\linear_model\\_coordinate_descent.py:697: ConvergenceWarning: Objective did not converge. You might want to increase the number of iterations, check the scale of the features or consider increasing regularisation. Duality gap: 2.806e+04, tolerance: 1.598e+04\n",
      "  model = cd_fast.enet_coordinate_descent(\n"
     ]
    },
    {
     "name": "stdout",
     "output_type": "stream",
     "text": [
      "[CV 2/5] END final_estimator__alpha=0.0001, final_estimator__fit_intercept=False, final_estimator__l1_ratio=0.1, final_estimator__max_iter=1000, final_estimator__random_state=42, final_estimator__selection=random, final_estimator__tol=0.01;, score=-2.337 total time=  18.6s\n"
     ]
    },
    {
     "name": "stderr",
     "output_type": "stream",
     "text": [
      "c:\\Users\\User\\.conda\\envs\\energy\\Lib\\site-packages\\sklearn\\linear_model\\_coordinate_descent.py:697: ConvergenceWarning: Objective did not converge. You might want to increase the number of iterations, check the scale of the features or consider increasing regularisation. Duality gap: 2.807e+04, tolerance: 1.608e+04\n",
      "  model = cd_fast.enet_coordinate_descent(\n"
     ]
    },
    {
     "name": "stdout",
     "output_type": "stream",
     "text": [
      "[CV 3/5] END final_estimator__alpha=0.0001, final_estimator__fit_intercept=False, final_estimator__l1_ratio=0.1, final_estimator__max_iter=1000, final_estimator__random_state=42, final_estimator__selection=random, final_estimator__tol=0.01;, score=-2.191 total time=  16.9s\n"
     ]
    },
    {
     "name": "stderr",
     "output_type": "stream",
     "text": [
      "c:\\Users\\User\\.conda\\envs\\energy\\Lib\\site-packages\\sklearn\\linear_model\\_coordinate_descent.py:697: ConvergenceWarning: Objective did not converge. You might want to increase the number of iterations, check the scale of the features or consider increasing regularisation. Duality gap: 2.866e+04, tolerance: 1.614e+04\n",
      "  model = cd_fast.enet_coordinate_descent(\n"
     ]
    },
    {
     "name": "stdout",
     "output_type": "stream",
     "text": [
      "[CV 4/5] END final_estimator__alpha=0.0001, final_estimator__fit_intercept=False, final_estimator__l1_ratio=0.1, final_estimator__max_iter=1000, final_estimator__random_state=42, final_estimator__selection=random, final_estimator__tol=0.01;, score=-2.152 total time=  18.9s\n"
     ]
    },
    {
     "name": "stderr",
     "output_type": "stream",
     "text": [
      "c:\\Users\\User\\.conda\\envs\\energy\\Lib\\site-packages\\sklearn\\linear_model\\_coordinate_descent.py:697: ConvergenceWarning: Objective did not converge. You might want to increase the number of iterations, check the scale of the features or consider increasing regularisation. Duality gap: 2.757e+04, tolerance: 1.609e+04\n",
      "  model = cd_fast.enet_coordinate_descent(\n"
     ]
    },
    {
     "name": "stdout",
     "output_type": "stream",
     "text": [
      "[CV 5/5] END final_estimator__alpha=0.0001, final_estimator__fit_intercept=False, final_estimator__l1_ratio=0.1, final_estimator__max_iter=1000, final_estimator__random_state=42, final_estimator__selection=random, final_estimator__tol=0.01;, score=-2.296 total time=  17.1s\n"
     ]
    },
    {
     "name": "stderr",
     "output_type": "stream",
     "text": [
      "c:\\Users\\User\\.conda\\envs\\energy\\Lib\\site-packages\\sklearn\\linear_model\\_coordinate_descent.py:697: ConvergenceWarning: Objective did not converge. You might want to increase the number of iterations, check the scale of the features or consider increasing regularisation. Duality gap: 2.630e+04, tolerance: 1.615e+02\n",
      "  model = cd_fast.enet_coordinate_descent(\n"
     ]
    },
    {
     "name": "stdout",
     "output_type": "stream",
     "text": [
      "[CV 1/5] END final_estimator__alpha=0.0001, final_estimator__fit_intercept=False, final_estimator__l1_ratio=0.1, final_estimator__max_iter=2000, final_estimator__random_state=42, final_estimator__selection=cyclic, final_estimator__tol=0.0001;, score=-2.207 total time=  17.7s\n"
     ]
    },
    {
     "name": "stderr",
     "output_type": "stream",
     "text": [
      "c:\\Users\\User\\.conda\\envs\\energy\\Lib\\site-packages\\sklearn\\linear_model\\_coordinate_descent.py:697: ConvergenceWarning: Objective did not converge. You might want to increase the number of iterations, check the scale of the features or consider increasing regularisation. Duality gap: 2.567e+04, tolerance: 1.598e+02\n",
      "  model = cd_fast.enet_coordinate_descent(\n"
     ]
    },
    {
     "name": "stdout",
     "output_type": "stream",
     "text": [
      "[CV 2/5] END final_estimator__alpha=0.0001, final_estimator__fit_intercept=False, final_estimator__l1_ratio=0.1, final_estimator__max_iter=2000, final_estimator__random_state=42, final_estimator__selection=cyclic, final_estimator__tol=0.0001;, score=-2.334 total time=  23.2s\n"
     ]
    },
    {
     "name": "stderr",
     "output_type": "stream",
     "text": [
      "c:\\Users\\User\\.conda\\envs\\energy\\Lib\\site-packages\\sklearn\\linear_model\\_coordinate_descent.py:697: ConvergenceWarning: Objective did not converge. You might want to increase the number of iterations, check the scale of the features or consider increasing regularisation. Duality gap: 2.687e+04, tolerance: 1.608e+02\n",
      "  model = cd_fast.enet_coordinate_descent(\n"
     ]
    },
    {
     "name": "stdout",
     "output_type": "stream",
     "text": [
      "[CV 3/5] END final_estimator__alpha=0.0001, final_estimator__fit_intercept=False, final_estimator__l1_ratio=0.1, final_estimator__max_iter=2000, final_estimator__random_state=42, final_estimator__selection=cyclic, final_estimator__tol=0.0001;, score=-2.180 total time=  20.4s\n"
     ]
    },
    {
     "name": "stderr",
     "output_type": "stream",
     "text": [
      "c:\\Users\\User\\.conda\\envs\\energy\\Lib\\site-packages\\sklearn\\linear_model\\_coordinate_descent.py:697: ConvergenceWarning: Objective did not converge. You might want to increase the number of iterations, check the scale of the features or consider increasing regularisation. Duality gap: 2.613e+04, tolerance: 1.614e+02\n",
      "  model = cd_fast.enet_coordinate_descent(\n"
     ]
    },
    {
     "name": "stdout",
     "output_type": "stream",
     "text": [
      "[CV 4/5] END final_estimator__alpha=0.0001, final_estimator__fit_intercept=False, final_estimator__l1_ratio=0.1, final_estimator__max_iter=2000, final_estimator__random_state=42, final_estimator__selection=cyclic, final_estimator__tol=0.0001;, score=-2.157 total time=  18.1s\n"
     ]
    },
    {
     "name": "stderr",
     "output_type": "stream",
     "text": [
      "c:\\Users\\User\\.conda\\envs\\energy\\Lib\\site-packages\\sklearn\\linear_model\\_coordinate_descent.py:697: ConvergenceWarning: Objective did not converge. You might want to increase the number of iterations, check the scale of the features or consider increasing regularisation. Duality gap: 2.580e+04, tolerance: 1.609e+02\n",
      "  model = cd_fast.enet_coordinate_descent(\n"
     ]
    },
    {
     "name": "stdout",
     "output_type": "stream",
     "text": [
      "[CV 5/5] END final_estimator__alpha=0.0001, final_estimator__fit_intercept=False, final_estimator__l1_ratio=0.1, final_estimator__max_iter=2000, final_estimator__random_state=42, final_estimator__selection=cyclic, final_estimator__tol=0.0001;, score=-2.291 total time=  19.6s\n"
     ]
    },
    {
     "name": "stderr",
     "output_type": "stream",
     "text": [
      "c:\\Users\\User\\.conda\\envs\\energy\\Lib\\site-packages\\sklearn\\linear_model\\_coordinate_descent.py:697: ConvergenceWarning: Objective did not converge. You might want to increase the number of iterations, check the scale of the features or consider increasing regularisation. Duality gap: 2.727e+04, tolerance: 1.615e+03\n",
      "  model = cd_fast.enet_coordinate_descent(\n"
     ]
    },
    {
     "name": "stdout",
     "output_type": "stream",
     "text": [
      "[CV 1/5] END final_estimator__alpha=0.0001, final_estimator__fit_intercept=False, final_estimator__l1_ratio=0.1, final_estimator__max_iter=2000, final_estimator__random_state=42, final_estimator__selection=cyclic, final_estimator__tol=0.001;, score=-2.191 total time=  17.4s\n"
     ]
    },
    {
     "name": "stderr",
     "output_type": "stream",
     "text": [
      "c:\\Users\\User\\.conda\\envs\\energy\\Lib\\site-packages\\sklearn\\linear_model\\_coordinate_descent.py:697: ConvergenceWarning: Objective did not converge. You might want to increase the number of iterations, check the scale of the features or consider increasing regularisation. Duality gap: 2.602e+04, tolerance: 1.598e+03\n",
      "  model = cd_fast.enet_coordinate_descent(\n"
     ]
    },
    {
     "name": "stdout",
     "output_type": "stream",
     "text": [
      "[CV 2/5] END final_estimator__alpha=0.0001, final_estimator__fit_intercept=False, final_estimator__l1_ratio=0.1, final_estimator__max_iter=2000, final_estimator__random_state=42, final_estimator__selection=cyclic, final_estimator__tol=0.001;, score=-2.343 total time=  19.5s\n"
     ]
    },
    {
     "name": "stderr",
     "output_type": "stream",
     "text": [
      "c:\\Users\\User\\.conda\\envs\\energy\\Lib\\site-packages\\sklearn\\linear_model\\_coordinate_descent.py:697: ConvergenceWarning: Objective did not converge. You might want to increase the number of iterations, check the scale of the features or consider increasing regularisation. Duality gap: 2.672e+04, tolerance: 1.608e+03\n",
      "  model = cd_fast.enet_coordinate_descent(\n"
     ]
    },
    {
     "name": "stdout",
     "output_type": "stream",
     "text": [
      "[CV 3/5] END final_estimator__alpha=0.0001, final_estimator__fit_intercept=False, final_estimator__l1_ratio=0.1, final_estimator__max_iter=2000, final_estimator__random_state=42, final_estimator__selection=cyclic, final_estimator__tol=0.001;, score=-2.198 total time=  19.9s\n"
     ]
    },
    {
     "name": "stderr",
     "output_type": "stream",
     "text": [
      "c:\\Users\\User\\.conda\\envs\\energy\\Lib\\site-packages\\sklearn\\linear_model\\_coordinate_descent.py:697: ConvergenceWarning: Objective did not converge. You might want to increase the number of iterations, check the scale of the features or consider increasing regularisation. Duality gap: 2.651e+04, tolerance: 1.614e+03\n",
      "  model = cd_fast.enet_coordinate_descent(\n"
     ]
    },
    {
     "name": "stdout",
     "output_type": "stream",
     "text": [
      "[CV 4/5] END final_estimator__alpha=0.0001, final_estimator__fit_intercept=False, final_estimator__l1_ratio=0.1, final_estimator__max_iter=2000, final_estimator__random_state=42, final_estimator__selection=cyclic, final_estimator__tol=0.001;, score=-2.148 total time=  17.8s\n"
     ]
    },
    {
     "name": "stderr",
     "output_type": "stream",
     "text": [
      "c:\\Users\\User\\.conda\\envs\\energy\\Lib\\site-packages\\sklearn\\linear_model\\_coordinate_descent.py:697: ConvergenceWarning: Objective did not converge. You might want to increase the number of iterations, check the scale of the features or consider increasing regularisation. Duality gap: 2.567e+04, tolerance: 1.609e+03\n",
      "  model = cd_fast.enet_coordinate_descent(\n"
     ]
    },
    {
     "name": "stdout",
     "output_type": "stream",
     "text": [
      "[CV 5/5] END final_estimator__alpha=0.0001, final_estimator__fit_intercept=False, final_estimator__l1_ratio=0.1, final_estimator__max_iter=2000, final_estimator__random_state=42, final_estimator__selection=cyclic, final_estimator__tol=0.001;, score=-2.290 total time=  20.2s\n"
     ]
    },
    {
     "name": "stderr",
     "output_type": "stream",
     "text": [
      "c:\\Users\\User\\.conda\\envs\\energy\\Lib\\site-packages\\sklearn\\linear_model\\_coordinate_descent.py:697: ConvergenceWarning: Objective did not converge. You might want to increase the number of iterations, check the scale of the features or consider increasing regularisation. Duality gap: 2.704e+04, tolerance: 1.615e+04\n",
      "  model = cd_fast.enet_coordinate_descent(\n"
     ]
    },
    {
     "name": "stdout",
     "output_type": "stream",
     "text": [
      "[CV 1/5] END final_estimator__alpha=0.0001, final_estimator__fit_intercept=False, final_estimator__l1_ratio=0.1, final_estimator__max_iter=2000, final_estimator__random_state=42, final_estimator__selection=cyclic, final_estimator__tol=0.01;, score=-2.205 total time=  18.7s\n"
     ]
    },
    {
     "name": "stderr",
     "output_type": "stream",
     "text": [
      "c:\\Users\\User\\.conda\\envs\\energy\\Lib\\site-packages\\sklearn\\linear_model\\_coordinate_descent.py:697: ConvergenceWarning: Objective did not converge. You might want to increase the number of iterations, check the scale of the features or consider increasing regularisation. Duality gap: 2.596e+04, tolerance: 1.598e+04\n",
      "  model = cd_fast.enet_coordinate_descent(\n"
     ]
    },
    {
     "name": "stdout",
     "output_type": "stream",
     "text": [
      "[CV 2/5] END final_estimator__alpha=0.0001, final_estimator__fit_intercept=False, final_estimator__l1_ratio=0.1, final_estimator__max_iter=2000, final_estimator__random_state=42, final_estimator__selection=cyclic, final_estimator__tol=0.01;, score=-2.341 total time=  15.5s\n"
     ]
    },
    {
     "name": "stderr",
     "output_type": "stream",
     "text": [
      "c:\\Users\\User\\.conda\\envs\\energy\\Lib\\site-packages\\sklearn\\linear_model\\_coordinate_descent.py:697: ConvergenceWarning: Objective did not converge. You might want to increase the number of iterations, check the scale of the features or consider increasing regularisation. Duality gap: 2.673e+04, tolerance: 1.608e+04\n",
      "  model = cd_fast.enet_coordinate_descent(\n"
     ]
    },
    {
     "name": "stdout",
     "output_type": "stream",
     "text": [
      "[CV 3/5] END final_estimator__alpha=0.0001, final_estimator__fit_intercept=False, final_estimator__l1_ratio=0.1, final_estimator__max_iter=2000, final_estimator__random_state=42, final_estimator__selection=cyclic, final_estimator__tol=0.01;, score=-2.193 total time=  20.0s\n"
     ]
    },
    {
     "name": "stderr",
     "output_type": "stream",
     "text": [
      "c:\\Users\\User\\.conda\\envs\\energy\\Lib\\site-packages\\sklearn\\linear_model\\_coordinate_descent.py:697: ConvergenceWarning: Objective did not converge. You might want to increase the number of iterations, check the scale of the features or consider increasing regularisation. Duality gap: 2.583e+04, tolerance: 1.614e+04\n",
      "  model = cd_fast.enet_coordinate_descent(\n"
     ]
    },
    {
     "name": "stdout",
     "output_type": "stream",
     "text": [
      "[CV 4/5] END final_estimator__alpha=0.0001, final_estimator__fit_intercept=False, final_estimator__l1_ratio=0.1, final_estimator__max_iter=2000, final_estimator__random_state=42, final_estimator__selection=cyclic, final_estimator__tol=0.01;, score=-2.156 total time=  22.8s\n"
     ]
    },
    {
     "name": "stderr",
     "output_type": "stream",
     "text": [
      "c:\\Users\\User\\.conda\\envs\\energy\\Lib\\site-packages\\sklearn\\linear_model\\_coordinate_descent.py:697: ConvergenceWarning: Objective did not converge. You might want to increase the number of iterations, check the scale of the features or consider increasing regularisation. Duality gap: 2.545e+04, tolerance: 1.609e+04\n",
      "  model = cd_fast.enet_coordinate_descent(\n"
     ]
    },
    {
     "name": "stdout",
     "output_type": "stream",
     "text": [
      "[CV 5/5] END final_estimator__alpha=0.0001, final_estimator__fit_intercept=False, final_estimator__l1_ratio=0.1, final_estimator__max_iter=2000, final_estimator__random_state=42, final_estimator__selection=cyclic, final_estimator__tol=0.01;, score=-2.284 total time=  23.0s\n"
     ]
    },
    {
     "name": "stderr",
     "output_type": "stream",
     "text": [
      "c:\\Users\\User\\.conda\\envs\\energy\\Lib\\site-packages\\sklearn\\linear_model\\_coordinate_descent.py:697: ConvergenceWarning: Objective did not converge. You might want to increase the number of iterations, check the scale of the features or consider increasing regularisation. Duality gap: 2.909e+04, tolerance: 1.615e+02\n",
      "  model = cd_fast.enet_coordinate_descent(\n"
     ]
    },
    {
     "name": "stdout",
     "output_type": "stream",
     "text": [
      "[CV 1/5] END final_estimator__alpha=0.0001, final_estimator__fit_intercept=False, final_estimator__l1_ratio=0.1, final_estimator__max_iter=2000, final_estimator__random_state=42, final_estimator__selection=random, final_estimator__tol=0.0001;, score=-2.205 total time=  21.3s\n"
     ]
    },
    {
     "name": "stderr",
     "output_type": "stream",
     "text": [
      "c:\\Users\\User\\.conda\\envs\\energy\\Lib\\site-packages\\sklearn\\linear_model\\_coordinate_descent.py:697: ConvergenceWarning: Objective did not converge. You might want to increase the number of iterations, check the scale of the features or consider increasing regularisation. Duality gap: 2.804e+04, tolerance: 1.598e+02\n",
      "  model = cd_fast.enet_coordinate_descent(\n"
     ]
    },
    {
     "name": "stdout",
     "output_type": "stream",
     "text": [
      "[CV 2/5] END final_estimator__alpha=0.0001, final_estimator__fit_intercept=False, final_estimator__l1_ratio=0.1, final_estimator__max_iter=2000, final_estimator__random_state=42, final_estimator__selection=random, final_estimator__tol=0.0001;, score=-2.339 total time=  18.9s\n"
     ]
    },
    {
     "name": "stderr",
     "output_type": "stream",
     "text": [
      "c:\\Users\\User\\.conda\\envs\\energy\\Lib\\site-packages\\sklearn\\linear_model\\_coordinate_descent.py:697: ConvergenceWarning: Objective did not converge. You might want to increase the number of iterations, check the scale of the features or consider increasing regularisation. Duality gap: 2.778e+04, tolerance: 1.608e+02\n",
      "  model = cd_fast.enet_coordinate_descent(\n"
     ]
    },
    {
     "name": "stdout",
     "output_type": "stream",
     "text": [
      "[CV 3/5] END final_estimator__alpha=0.0001, final_estimator__fit_intercept=False, final_estimator__l1_ratio=0.1, final_estimator__max_iter=2000, final_estimator__random_state=42, final_estimator__selection=random, final_estimator__tol=0.0001;, score=-2.225 total time=  18.4s\n"
     ]
    },
    {
     "name": "stderr",
     "output_type": "stream",
     "text": [
      "c:\\Users\\User\\.conda\\envs\\energy\\Lib\\site-packages\\sklearn\\linear_model\\_coordinate_descent.py:697: ConvergenceWarning: Objective did not converge. You might want to increase the number of iterations, check the scale of the features or consider increasing regularisation. Duality gap: 2.854e+04, tolerance: 1.614e+02\n",
      "  model = cd_fast.enet_coordinate_descent(\n"
     ]
    },
    {
     "name": "stdout",
     "output_type": "stream",
     "text": [
      "[CV 4/5] END final_estimator__alpha=0.0001, final_estimator__fit_intercept=False, final_estimator__l1_ratio=0.1, final_estimator__max_iter=2000, final_estimator__random_state=42, final_estimator__selection=random, final_estimator__tol=0.0001;, score=-2.159 total time=  20.2s\n"
     ]
    },
    {
     "name": "stderr",
     "output_type": "stream",
     "text": [
      "c:\\Users\\User\\.conda\\envs\\energy\\Lib\\site-packages\\sklearn\\linear_model\\_coordinate_descent.py:697: ConvergenceWarning: Objective did not converge. You might want to increase the number of iterations, check the scale of the features or consider increasing regularisation. Duality gap: 2.749e+04, tolerance: 1.609e+02\n",
      "  model = cd_fast.enet_coordinate_descent(\n"
     ]
    },
    {
     "name": "stdout",
     "output_type": "stream",
     "text": [
      "[CV 5/5] END final_estimator__alpha=0.0001, final_estimator__fit_intercept=False, final_estimator__l1_ratio=0.1, final_estimator__max_iter=2000, final_estimator__random_state=42, final_estimator__selection=random, final_estimator__tol=0.0001;, score=-2.300 total time=  19.2s\n"
     ]
    },
    {
     "name": "stderr",
     "output_type": "stream",
     "text": [
      "c:\\Users\\User\\.conda\\envs\\energy\\Lib\\site-packages\\sklearn\\linear_model\\_coordinate_descent.py:697: ConvergenceWarning: Objective did not converge. You might want to increase the number of iterations, check the scale of the features or consider increasing regularisation. Duality gap: 2.926e+04, tolerance: 1.615e+03\n",
      "  model = cd_fast.enet_coordinate_descent(\n"
     ]
    },
    {
     "name": "stdout",
     "output_type": "stream",
     "text": [
      "[CV 1/5] END final_estimator__alpha=0.0001, final_estimator__fit_intercept=False, final_estimator__l1_ratio=0.1, final_estimator__max_iter=2000, final_estimator__random_state=42, final_estimator__selection=random, final_estimator__tol=0.001;, score=-2.169 total time=  20.6s\n"
     ]
    },
    {
     "name": "stderr",
     "output_type": "stream",
     "text": [
      "c:\\Users\\User\\.conda\\envs\\energy\\Lib\\site-packages\\sklearn\\linear_model\\_coordinate_descent.py:697: ConvergenceWarning: Objective did not converge. You might want to increase the number of iterations, check the scale of the features or consider increasing regularisation. Duality gap: 2.816e+04, tolerance: 1.598e+03\n",
      "  model = cd_fast.enet_coordinate_descent(\n"
     ]
    },
    {
     "name": "stdout",
     "output_type": "stream",
     "text": [
      "[CV 2/5] END final_estimator__alpha=0.0001, final_estimator__fit_intercept=False, final_estimator__l1_ratio=0.1, final_estimator__max_iter=2000, final_estimator__random_state=42, final_estimator__selection=random, final_estimator__tol=0.001;, score=-2.337 total time=  19.9s\n"
     ]
    },
    {
     "name": "stderr",
     "output_type": "stream",
     "text": [
      "c:\\Users\\User\\.conda\\envs\\energy\\Lib\\site-packages\\sklearn\\linear_model\\_coordinate_descent.py:697: ConvergenceWarning: Objective did not converge. You might want to increase the number of iterations, check the scale of the features or consider increasing regularisation. Duality gap: 2.785e+04, tolerance: 1.608e+03\n",
      "  model = cd_fast.enet_coordinate_descent(\n"
     ]
    },
    {
     "name": "stdout",
     "output_type": "stream",
     "text": [
      "[CV 3/5] END final_estimator__alpha=0.0001, final_estimator__fit_intercept=False, final_estimator__l1_ratio=0.1, final_estimator__max_iter=2000, final_estimator__random_state=42, final_estimator__selection=random, final_estimator__tol=0.001;, score=-2.202 total time=  20.5s\n"
     ]
    },
    {
     "name": "stderr",
     "output_type": "stream",
     "text": [
      "c:\\Users\\User\\.conda\\envs\\energy\\Lib\\site-packages\\sklearn\\linear_model\\_coordinate_descent.py:697: ConvergenceWarning: Objective did not converge. You might want to increase the number of iterations, check the scale of the features or consider increasing regularisation. Duality gap: 2.860e+04, tolerance: 1.614e+03\n",
      "  model = cd_fast.enet_coordinate_descent(\n"
     ]
    },
    {
     "name": "stdout",
     "output_type": "stream",
     "text": [
      "[CV 4/5] END final_estimator__alpha=0.0001, final_estimator__fit_intercept=False, final_estimator__l1_ratio=0.1, final_estimator__max_iter=2000, final_estimator__random_state=42, final_estimator__selection=random, final_estimator__tol=0.001;, score=-2.171 total time=  20.8s\n"
     ]
    },
    {
     "name": "stderr",
     "output_type": "stream",
     "text": [
      "c:\\Users\\User\\.conda\\envs\\energy\\Lib\\site-packages\\sklearn\\linear_model\\_coordinate_descent.py:697: ConvergenceWarning: Objective did not converge. You might want to increase the number of iterations, check the scale of the features or consider increasing regularisation. Duality gap: 2.755e+04, tolerance: 1.609e+03\n",
      "  model = cd_fast.enet_coordinate_descent(\n"
     ]
    },
    {
     "name": "stdout",
     "output_type": "stream",
     "text": [
      "[CV 5/5] END final_estimator__alpha=0.0001, final_estimator__fit_intercept=False, final_estimator__l1_ratio=0.1, final_estimator__max_iter=2000, final_estimator__random_state=42, final_estimator__selection=random, final_estimator__tol=0.001;, score=-2.304 total time=  18.7s\n"
     ]
    },
    {
     "name": "stderr",
     "output_type": "stream",
     "text": [
      "c:\\Users\\User\\.conda\\envs\\energy\\Lib\\site-packages\\sklearn\\linear_model\\_coordinate_descent.py:697: ConvergenceWarning: Objective did not converge. You might want to increase the number of iterations, check the scale of the features or consider increasing regularisation. Duality gap: 2.917e+04, tolerance: 1.615e+04\n",
      "  model = cd_fast.enet_coordinate_descent(\n"
     ]
    },
    {
     "name": "stdout",
     "output_type": "stream",
     "text": [
      "[CV 1/5] END final_estimator__alpha=0.0001, final_estimator__fit_intercept=False, final_estimator__l1_ratio=0.1, final_estimator__max_iter=2000, final_estimator__random_state=42, final_estimator__selection=random, final_estimator__tol=0.01;, score=-2.179 total time=  24.2s\n"
     ]
    },
    {
     "name": "stderr",
     "output_type": "stream",
     "text": [
      "c:\\Users\\User\\.conda\\envs\\energy\\Lib\\site-packages\\sklearn\\linear_model\\_coordinate_descent.py:697: ConvergenceWarning: Objective did not converge. You might want to increase the number of iterations, check the scale of the features or consider increasing regularisation. Duality gap: 2.792e+04, tolerance: 1.598e+04\n",
      "  model = cd_fast.enet_coordinate_descent(\n"
     ]
    },
    {
     "name": "stdout",
     "output_type": "stream",
     "text": [
      "[CV 2/5] END final_estimator__alpha=0.0001, final_estimator__fit_intercept=False, final_estimator__l1_ratio=0.1, final_estimator__max_iter=2000, final_estimator__random_state=42, final_estimator__selection=random, final_estimator__tol=0.01;, score=-2.334 total time=  21.0s\n"
     ]
    },
    {
     "name": "stderr",
     "output_type": "stream",
     "text": [
      "c:\\Users\\User\\.conda\\envs\\energy\\Lib\\site-packages\\sklearn\\linear_model\\_coordinate_descent.py:697: ConvergenceWarning: Objective did not converge. You might want to increase the number of iterations, check the scale of the features or consider increasing regularisation. Duality gap: 2.801e+04, tolerance: 1.608e+04\n",
      "  model = cd_fast.enet_coordinate_descent(\n"
     ]
    },
    {
     "name": "stdout",
     "output_type": "stream",
     "text": [
      "[CV 3/5] END final_estimator__alpha=0.0001, final_estimator__fit_intercept=False, final_estimator__l1_ratio=0.1, final_estimator__max_iter=2000, final_estimator__random_state=42, final_estimator__selection=random, final_estimator__tol=0.01;, score=-2.185 total time=  18.9s\n"
     ]
    },
    {
     "name": "stderr",
     "output_type": "stream",
     "text": [
      "c:\\Users\\User\\.conda\\envs\\energy\\Lib\\site-packages\\sklearn\\linear_model\\_coordinate_descent.py:697: ConvergenceWarning: Objective did not converge. You might want to increase the number of iterations, check the scale of the features or consider increasing regularisation. Duality gap: 2.846e+04, tolerance: 1.614e+04\n",
      "  model = cd_fast.enet_coordinate_descent(\n"
     ]
    },
    {
     "name": "stdout",
     "output_type": "stream",
     "text": [
      "[CV 4/5] END final_estimator__alpha=0.0001, final_estimator__fit_intercept=False, final_estimator__l1_ratio=0.1, final_estimator__max_iter=2000, final_estimator__random_state=42, final_estimator__selection=random, final_estimator__tol=0.01;, score=-2.159 total time=  23.0s\n"
     ]
    },
    {
     "name": "stderr",
     "output_type": "stream",
     "text": [
      "c:\\Users\\User\\.conda\\envs\\energy\\Lib\\site-packages\\sklearn\\linear_model\\_coordinate_descent.py:697: ConvergenceWarning: Objective did not converge. You might want to increase the number of iterations, check the scale of the features or consider increasing regularisation. Duality gap: 2.736e+04, tolerance: 1.609e+04\n",
      "  model = cd_fast.enet_coordinate_descent(\n"
     ]
    },
    {
     "name": "stdout",
     "output_type": "stream",
     "text": [
      "[CV 5/5] END final_estimator__alpha=0.0001, final_estimator__fit_intercept=False, final_estimator__l1_ratio=0.1, final_estimator__max_iter=2000, final_estimator__random_state=42, final_estimator__selection=random, final_estimator__tol=0.01;, score=-2.289 total time=  23.1s\n"
     ]
    },
    {
     "name": "stderr",
     "output_type": "stream",
     "text": [
      "c:\\Users\\User\\.conda\\envs\\energy\\Lib\\site-packages\\sklearn\\linear_model\\_coordinate_descent.py:697: ConvergenceWarning: Objective did not converge. You might want to increase the number of iterations, check the scale of the features or consider increasing regularisation. Duality gap: 2.929e+04, tolerance: 1.615e+02\n",
      "  model = cd_fast.enet_coordinate_descent(\n"
     ]
    },
    {
     "name": "stdout",
     "output_type": "stream",
     "text": [
      "[CV 1/5] END final_estimator__alpha=0.0001, final_estimator__fit_intercept=False, final_estimator__l1_ratio=0.3, final_estimator__max_iter=1000, final_estimator__random_state=42, final_estimator__selection=cyclic, final_estimator__tol=0.0001;, score=-2.188 total time=  17.2s\n"
     ]
    },
    {
     "name": "stderr",
     "output_type": "stream",
     "text": [
      "c:\\Users\\User\\.conda\\envs\\energy\\Lib\\site-packages\\sklearn\\linear_model\\_coordinate_descent.py:697: ConvergenceWarning: Objective did not converge. You might want to increase the number of iterations, check the scale of the features or consider increasing regularisation. Duality gap: 2.785e+04, tolerance: 1.598e+02\n",
      "  model = cd_fast.enet_coordinate_descent(\n"
     ]
    },
    {
     "name": "stdout",
     "output_type": "stream",
     "text": [
      "[CV 2/5] END final_estimator__alpha=0.0001, final_estimator__fit_intercept=False, final_estimator__l1_ratio=0.3, final_estimator__max_iter=1000, final_estimator__random_state=42, final_estimator__selection=cyclic, final_estimator__tol=0.0001;, score=-2.345 total time=  17.9s\n"
     ]
    },
    {
     "name": "stderr",
     "output_type": "stream",
     "text": [
      "c:\\Users\\User\\.conda\\envs\\energy\\Lib\\site-packages\\sklearn\\linear_model\\_coordinate_descent.py:697: ConvergenceWarning: Objective did not converge. You might want to increase the number of iterations, check the scale of the features or consider increasing regularisation. Duality gap: 2.787e+04, tolerance: 1.608e+02\n",
      "  model = cd_fast.enet_coordinate_descent(\n"
     ]
    },
    {
     "name": "stdout",
     "output_type": "stream",
     "text": [
      "[CV 3/5] END final_estimator__alpha=0.0001, final_estimator__fit_intercept=False, final_estimator__l1_ratio=0.3, final_estimator__max_iter=1000, final_estimator__random_state=42, final_estimator__selection=cyclic, final_estimator__tol=0.0001;, score=-2.186 total time=  16.3s\n"
     ]
    },
    {
     "name": "stderr",
     "output_type": "stream",
     "text": [
      "c:\\Users\\User\\.conda\\envs\\energy\\Lib\\site-packages\\sklearn\\linear_model\\_coordinate_descent.py:697: ConvergenceWarning: Objective did not converge. You might want to increase the number of iterations, check the scale of the features or consider increasing regularisation. Duality gap: 2.836e+04, tolerance: 1.614e+02\n",
      "  model = cd_fast.enet_coordinate_descent(\n"
     ]
    },
    {
     "name": "stdout",
     "output_type": "stream",
     "text": [
      "[CV 4/5] END final_estimator__alpha=0.0001, final_estimator__fit_intercept=False, final_estimator__l1_ratio=0.3, final_estimator__max_iter=1000, final_estimator__random_state=42, final_estimator__selection=cyclic, final_estimator__tol=0.0001;, score=-2.174 total time=  21.8s\n"
     ]
    },
    {
     "name": "stderr",
     "output_type": "stream",
     "text": [
      "c:\\Users\\User\\.conda\\envs\\energy\\Lib\\site-packages\\sklearn\\linear_model\\_coordinate_descent.py:697: ConvergenceWarning: Objective did not converge. You might want to increase the number of iterations, check the scale of the features or consider increasing regularisation. Duality gap: 2.722e+04, tolerance: 1.609e+02\n",
      "  model = cd_fast.enet_coordinate_descent(\n"
     ]
    },
    {
     "name": "stdout",
     "output_type": "stream",
     "text": [
      "[CV 5/5] END final_estimator__alpha=0.0001, final_estimator__fit_intercept=False, final_estimator__l1_ratio=0.3, final_estimator__max_iter=1000, final_estimator__random_state=42, final_estimator__selection=cyclic, final_estimator__tol=0.0001;, score=-2.309 total time=  18.7s\n"
     ]
    },
    {
     "name": "stderr",
     "output_type": "stream",
     "text": [
      "c:\\Users\\User\\.conda\\envs\\energy\\Lib\\site-packages\\sklearn\\linear_model\\_coordinate_descent.py:697: ConvergenceWarning: Objective did not converge. You might want to increase the number of iterations, check the scale of the features or consider increasing regularisation. Duality gap: 2.906e+04, tolerance: 1.615e+03\n",
      "  model = cd_fast.enet_coordinate_descent(\n"
     ]
    },
    {
     "name": "stdout",
     "output_type": "stream",
     "text": [
      "[CV 1/5] END final_estimator__alpha=0.0001, final_estimator__fit_intercept=False, final_estimator__l1_ratio=0.3, final_estimator__max_iter=1000, final_estimator__random_state=42, final_estimator__selection=cyclic, final_estimator__tol=0.001;, score=-2.197 total time=  18.6s\n"
     ]
    },
    {
     "name": "stderr",
     "output_type": "stream",
     "text": [
      "c:\\Users\\User\\.conda\\envs\\energy\\Lib\\site-packages\\sklearn\\linear_model\\_coordinate_descent.py:697: ConvergenceWarning: Objective did not converge. You might want to increase the number of iterations, check the scale of the features or consider increasing regularisation. Duality gap: 2.782e+04, tolerance: 1.598e+03\n",
      "  model = cd_fast.enet_coordinate_descent(\n"
     ]
    },
    {
     "name": "stdout",
     "output_type": "stream",
     "text": [
      "[CV 2/5] END final_estimator__alpha=0.0001, final_estimator__fit_intercept=False, final_estimator__l1_ratio=0.3, final_estimator__max_iter=1000, final_estimator__random_state=42, final_estimator__selection=cyclic, final_estimator__tol=0.001;, score=-2.337 total time=  19.5s\n"
     ]
    },
    {
     "name": "stderr",
     "output_type": "stream",
     "text": [
      "c:\\Users\\User\\.conda\\envs\\energy\\Lib\\site-packages\\sklearn\\linear_model\\_coordinate_descent.py:697: ConvergenceWarning: Objective did not converge. You might want to increase the number of iterations, check the scale of the features or consider increasing regularisation. Duality gap: 2.774e+04, tolerance: 1.608e+03\n",
      "  model = cd_fast.enet_coordinate_descent(\n"
     ]
    },
    {
     "name": "stdout",
     "output_type": "stream",
     "text": [
      "[CV 3/5] END final_estimator__alpha=0.0001, final_estimator__fit_intercept=False, final_estimator__l1_ratio=0.3, final_estimator__max_iter=1000, final_estimator__random_state=42, final_estimator__selection=cyclic, final_estimator__tol=0.001;, score=-2.199 total time=  26.0s\n"
     ]
    },
    {
     "name": "stderr",
     "output_type": "stream",
     "text": [
      "c:\\Users\\User\\.conda\\envs\\energy\\Lib\\site-packages\\sklearn\\linear_model\\_coordinate_descent.py:697: ConvergenceWarning: Objective did not converge. You might want to increase the number of iterations, check the scale of the features or consider increasing regularisation. Duality gap: 2.833e+04, tolerance: 1.614e+03\n",
      "  model = cd_fast.enet_coordinate_descent(\n"
     ]
    },
    {
     "name": "stdout",
     "output_type": "stream",
     "text": [
      "[CV 4/5] END final_estimator__alpha=0.0001, final_estimator__fit_intercept=False, final_estimator__l1_ratio=0.3, final_estimator__max_iter=1000, final_estimator__random_state=42, final_estimator__selection=cyclic, final_estimator__tol=0.001;, score=-2.152 total time=  23.4s\n"
     ]
    },
    {
     "name": "stderr",
     "output_type": "stream",
     "text": [
      "c:\\Users\\User\\.conda\\envs\\energy\\Lib\\site-packages\\sklearn\\linear_model\\_coordinate_descent.py:697: ConvergenceWarning: Objective did not converge. You might want to increase the number of iterations, check the scale of the features or consider increasing regularisation. Duality gap: 2.733e+04, tolerance: 1.609e+03\n",
      "  model = cd_fast.enet_coordinate_descent(\n"
     ]
    },
    {
     "name": "stdout",
     "output_type": "stream",
     "text": [
      "[CV 5/5] END final_estimator__alpha=0.0001, final_estimator__fit_intercept=False, final_estimator__l1_ratio=0.3, final_estimator__max_iter=1000, final_estimator__random_state=42, final_estimator__selection=cyclic, final_estimator__tol=0.001;, score=-2.298 total time=  21.0s\n"
     ]
    },
    {
     "name": "stderr",
     "output_type": "stream",
     "text": [
      "c:\\Users\\User\\.conda\\envs\\energy\\Lib\\site-packages\\sklearn\\linear_model\\_coordinate_descent.py:697: ConvergenceWarning: Objective did not converge. You might want to increase the number of iterations, check the scale of the features or consider increasing regularisation. Duality gap: 2.920e+04, tolerance: 1.615e+04\n",
      "  model = cd_fast.enet_coordinate_descent(\n"
     ]
    },
    {
     "name": "stdout",
     "output_type": "stream",
     "text": [
      "[CV 1/5] END final_estimator__alpha=0.0001, final_estimator__fit_intercept=False, final_estimator__l1_ratio=0.3, final_estimator__max_iter=1000, final_estimator__random_state=42, final_estimator__selection=cyclic, final_estimator__tol=0.01;, score=-2.187 total time=  18.9s\n"
     ]
    },
    {
     "name": "stderr",
     "output_type": "stream",
     "text": [
      "c:\\Users\\User\\.conda\\envs\\energy\\Lib\\site-packages\\sklearn\\linear_model\\_coordinate_descent.py:697: ConvergenceWarning: Objective did not converge. You might want to increase the number of iterations, check the scale of the features or consider increasing regularisation. Duality gap: 2.788e+04, tolerance: 1.598e+04\n",
      "  model = cd_fast.enet_coordinate_descent(\n"
     ]
    },
    {
     "name": "stdout",
     "output_type": "stream",
     "text": [
      "[CV 2/5] END final_estimator__alpha=0.0001, final_estimator__fit_intercept=False, final_estimator__l1_ratio=0.3, final_estimator__max_iter=1000, final_estimator__random_state=42, final_estimator__selection=cyclic, final_estimator__tol=0.01;, score=-2.346 total time=  22.4s\n"
     ]
    },
    {
     "name": "stderr",
     "output_type": "stream",
     "text": [
      "c:\\Users\\User\\.conda\\envs\\energy\\Lib\\site-packages\\sklearn\\linear_model\\_coordinate_descent.py:697: ConvergenceWarning: Objective did not converge. You might want to increase the number of iterations, check the scale of the features or consider increasing regularisation. Duality gap: 2.785e+04, tolerance: 1.608e+04\n",
      "  model = cd_fast.enet_coordinate_descent(\n"
     ]
    },
    {
     "name": "stdout",
     "output_type": "stream",
     "text": [
      "[CV 3/5] END final_estimator__alpha=0.0001, final_estimator__fit_intercept=False, final_estimator__l1_ratio=0.3, final_estimator__max_iter=1000, final_estimator__random_state=42, final_estimator__selection=cyclic, final_estimator__tol=0.01;, score=-2.192 total time=  21.2s\n"
     ]
    },
    {
     "name": "stderr",
     "output_type": "stream",
     "text": [
      "c:\\Users\\User\\.conda\\envs\\energy\\Lib\\site-packages\\sklearn\\linear_model\\_coordinate_descent.py:697: ConvergenceWarning: Objective did not converge. You might want to increase the number of iterations, check the scale of the features or consider increasing regularisation. Duality gap: 2.849e+04, tolerance: 1.614e+04\n",
      "  model = cd_fast.enet_coordinate_descent(\n"
     ]
    },
    {
     "name": "stdout",
     "output_type": "stream",
     "text": [
      "[CV 4/5] END final_estimator__alpha=0.0001, final_estimator__fit_intercept=False, final_estimator__l1_ratio=0.3, final_estimator__max_iter=1000, final_estimator__random_state=42, final_estimator__selection=cyclic, final_estimator__tol=0.01;, score=-2.161 total time=  18.8s\n"
     ]
    },
    {
     "name": "stderr",
     "output_type": "stream",
     "text": [
      "c:\\Users\\User\\.conda\\envs\\energy\\Lib\\site-packages\\sklearn\\linear_model\\_coordinate_descent.py:697: ConvergenceWarning: Objective did not converge. You might want to increase the number of iterations, check the scale of the features or consider increasing regularisation. Duality gap: 2.695e+04, tolerance: 1.609e+04\n",
      "  model = cd_fast.enet_coordinate_descent(\n"
     ]
    },
    {
     "name": "stdout",
     "output_type": "stream",
     "text": [
      "[CV 5/5] END final_estimator__alpha=0.0001, final_estimator__fit_intercept=False, final_estimator__l1_ratio=0.3, final_estimator__max_iter=1000, final_estimator__random_state=42, final_estimator__selection=cyclic, final_estimator__tol=0.01;, score=-2.306 total time=  20.5s\n"
     ]
    },
    {
     "name": "stderr",
     "output_type": "stream",
     "text": [
      "c:\\Users\\User\\.conda\\envs\\energy\\Lib\\site-packages\\sklearn\\linear_model\\_coordinate_descent.py:697: ConvergenceWarning: Objective did not converge. You might want to increase the number of iterations, check the scale of the features or consider increasing regularisation. Duality gap: 2.932e+04, tolerance: 1.615e+02\n",
      "  model = cd_fast.enet_coordinate_descent(\n"
     ]
    },
    {
     "name": "stdout",
     "output_type": "stream",
     "text": [
      "[CV 1/5] END final_estimator__alpha=0.0001, final_estimator__fit_intercept=False, final_estimator__l1_ratio=0.3, final_estimator__max_iter=1000, final_estimator__random_state=42, final_estimator__selection=random, final_estimator__tol=0.0001;, score=-2.189 total time=  21.4s\n"
     ]
    },
    {
     "name": "stderr",
     "output_type": "stream",
     "text": [
      "c:\\Users\\User\\.conda\\envs\\energy\\Lib\\site-packages\\sklearn\\linear_model\\_coordinate_descent.py:697: ConvergenceWarning: Objective did not converge. You might want to increase the number of iterations, check the scale of the features or consider increasing regularisation. Duality gap: 2.797e+04, tolerance: 1.598e+02\n",
      "  model = cd_fast.enet_coordinate_descent(\n"
     ]
    },
    {
     "name": "stdout",
     "output_type": "stream",
     "text": [
      "[CV 2/5] END final_estimator__alpha=0.0001, final_estimator__fit_intercept=False, final_estimator__l1_ratio=0.3, final_estimator__max_iter=1000, final_estimator__random_state=42, final_estimator__selection=random, final_estimator__tol=0.0001;, score=-2.349 total time=  19.3s\n"
     ]
    },
    {
     "name": "stderr",
     "output_type": "stream",
     "text": [
      "c:\\Users\\User\\.conda\\envs\\energy\\Lib\\site-packages\\sklearn\\linear_model\\_coordinate_descent.py:697: ConvergenceWarning: Objective did not converge. You might want to increase the number of iterations, check the scale of the features or consider increasing regularisation. Duality gap: 2.797e+04, tolerance: 1.608e+02\n",
      "  model = cd_fast.enet_coordinate_descent(\n"
     ]
    },
    {
     "name": "stdout",
     "output_type": "stream",
     "text": [
      "[CV 3/5] END final_estimator__alpha=0.0001, final_estimator__fit_intercept=False, final_estimator__l1_ratio=0.3, final_estimator__max_iter=1000, final_estimator__random_state=42, final_estimator__selection=random, final_estimator__tol=0.0001;, score=-2.195 total time=  17.7s\n"
     ]
    },
    {
     "name": "stderr",
     "output_type": "stream",
     "text": [
      "c:\\Users\\User\\.conda\\envs\\energy\\Lib\\site-packages\\sklearn\\linear_model\\_coordinate_descent.py:697: ConvergenceWarning: Objective did not converge. You might want to increase the number of iterations, check the scale of the features or consider increasing regularisation. Duality gap: 2.864e+04, tolerance: 1.614e+02\n",
      "  model = cd_fast.enet_coordinate_descent(\n"
     ]
    },
    {
     "name": "stdout",
     "output_type": "stream",
     "text": [
      "[CV 4/5] END final_estimator__alpha=0.0001, final_estimator__fit_intercept=False, final_estimator__l1_ratio=0.3, final_estimator__max_iter=1000, final_estimator__random_state=42, final_estimator__selection=random, final_estimator__tol=0.0001;, score=-2.163 total time=  18.2s\n"
     ]
    },
    {
     "name": "stderr",
     "output_type": "stream",
     "text": [
      "c:\\Users\\User\\.conda\\envs\\energy\\Lib\\site-packages\\sklearn\\linear_model\\_coordinate_descent.py:697: ConvergenceWarning: Objective did not converge. You might want to increase the number of iterations, check the scale of the features or consider increasing regularisation. Duality gap: 2.758e+04, tolerance: 1.609e+02\n",
      "  model = cd_fast.enet_coordinate_descent(\n"
     ]
    },
    {
     "name": "stdout",
     "output_type": "stream",
     "text": [
      "[CV 5/5] END final_estimator__alpha=0.0001, final_estimator__fit_intercept=False, final_estimator__l1_ratio=0.3, final_estimator__max_iter=1000, final_estimator__random_state=42, final_estimator__selection=random, final_estimator__tol=0.0001;, score=-2.285 total time=  24.1s\n"
     ]
    },
    {
     "name": "stderr",
     "output_type": "stream",
     "text": [
      "c:\\Users\\User\\.conda\\envs\\energy\\Lib\\site-packages\\sklearn\\linear_model\\_coordinate_descent.py:697: ConvergenceWarning: Objective did not converge. You might want to increase the number of iterations, check the scale of the features or consider increasing regularisation. Duality gap: 2.935e+04, tolerance: 1.615e+03\n",
      "  model = cd_fast.enet_coordinate_descent(\n"
     ]
    },
    {
     "name": "stdout",
     "output_type": "stream",
     "text": [
      "[CV 1/5] END final_estimator__alpha=0.0001, final_estimator__fit_intercept=False, final_estimator__l1_ratio=0.3, final_estimator__max_iter=1000, final_estimator__random_state=42, final_estimator__selection=random, final_estimator__tol=0.001;, score=-2.195 total time=  19.1s\n"
     ]
    },
    {
     "name": "stderr",
     "output_type": "stream",
     "text": [
      "c:\\Users\\User\\.conda\\envs\\energy\\Lib\\site-packages\\sklearn\\linear_model\\_coordinate_descent.py:697: ConvergenceWarning: Objective did not converge. You might want to increase the number of iterations, check the scale of the features or consider increasing regularisation. Duality gap: 2.815e+04, tolerance: 1.598e+03\n",
      "  model = cd_fast.enet_coordinate_descent(\n"
     ]
    },
    {
     "name": "stdout",
     "output_type": "stream",
     "text": [
      "[CV 2/5] END final_estimator__alpha=0.0001, final_estimator__fit_intercept=False, final_estimator__l1_ratio=0.3, final_estimator__max_iter=1000, final_estimator__random_state=42, final_estimator__selection=random, final_estimator__tol=0.001;, score=-2.332 total time=  20.6s\n"
     ]
    },
    {
     "name": "stderr",
     "output_type": "stream",
     "text": [
      "c:\\Users\\User\\.conda\\envs\\energy\\Lib\\site-packages\\sklearn\\linear_model\\_coordinate_descent.py:697: ConvergenceWarning: Objective did not converge. You might want to increase the number of iterations, check the scale of the features or consider increasing regularisation. Duality gap: 2.800e+04, tolerance: 1.608e+03\n",
      "  model = cd_fast.enet_coordinate_descent(\n"
     ]
    },
    {
     "name": "stdout",
     "output_type": "stream",
     "text": [
      "[CV 3/5] END final_estimator__alpha=0.0001, final_estimator__fit_intercept=False, final_estimator__l1_ratio=0.3, final_estimator__max_iter=1000, final_estimator__random_state=42, final_estimator__selection=random, final_estimator__tol=0.001;, score=-2.211 total time=  16.7s\n"
     ]
    },
    {
     "name": "stderr",
     "output_type": "stream",
     "text": [
      "c:\\Users\\User\\.conda\\envs\\energy\\Lib\\site-packages\\sklearn\\linear_model\\_coordinate_descent.py:697: ConvergenceWarning: Objective did not converge. You might want to increase the number of iterations, check the scale of the features or consider increasing regularisation. Duality gap: 2.864e+04, tolerance: 1.614e+03\n",
      "  model = cd_fast.enet_coordinate_descent(\n"
     ]
    },
    {
     "name": "stdout",
     "output_type": "stream",
     "text": [
      "[CV 4/5] END final_estimator__alpha=0.0001, final_estimator__fit_intercept=False, final_estimator__l1_ratio=0.3, final_estimator__max_iter=1000, final_estimator__random_state=42, final_estimator__selection=random, final_estimator__tol=0.001;, score=-2.170 total time=  22.0s\n"
     ]
    },
    {
     "name": "stderr",
     "output_type": "stream",
     "text": [
      "c:\\Users\\User\\.conda\\envs\\energy\\Lib\\site-packages\\sklearn\\linear_model\\_coordinate_descent.py:697: ConvergenceWarning: Objective did not converge. You might want to increase the number of iterations, check the scale of the features or consider increasing regularisation. Duality gap: 2.747e+04, tolerance: 1.609e+03\n",
      "  model = cd_fast.enet_coordinate_descent(\n"
     ]
    },
    {
     "name": "stdout",
     "output_type": "stream",
     "text": [
      "[CV 5/5] END final_estimator__alpha=0.0001, final_estimator__fit_intercept=False, final_estimator__l1_ratio=0.3, final_estimator__max_iter=1000, final_estimator__random_state=42, final_estimator__selection=random, final_estimator__tol=0.001;, score=-2.303 total time=  18.8s\n"
     ]
    },
    {
     "name": "stderr",
     "output_type": "stream",
     "text": [
      "c:\\Users\\User\\.conda\\envs\\energy\\Lib\\site-packages\\sklearn\\linear_model\\_coordinate_descent.py:697: ConvergenceWarning: Objective did not converge. You might want to increase the number of iterations, check the scale of the features or consider increasing regularisation. Duality gap: 2.938e+04, tolerance: 1.615e+04\n",
      "  model = cd_fast.enet_coordinate_descent(\n"
     ]
    },
    {
     "name": "stdout",
     "output_type": "stream",
     "text": [
      "[CV 1/5] END final_estimator__alpha=0.0001, final_estimator__fit_intercept=False, final_estimator__l1_ratio=0.3, final_estimator__max_iter=1000, final_estimator__random_state=42, final_estimator__selection=random, final_estimator__tol=0.01;, score=-2.173 total time=  19.3s\n"
     ]
    },
    {
     "name": "stderr",
     "output_type": "stream",
     "text": [
      "c:\\Users\\User\\.conda\\envs\\energy\\Lib\\site-packages\\sklearn\\linear_model\\_coordinate_descent.py:697: ConvergenceWarning: Objective did not converge. You might want to increase the number of iterations, check the scale of the features or consider increasing regularisation. Duality gap: 2.796e+04, tolerance: 1.598e+04\n",
      "  model = cd_fast.enet_coordinate_descent(\n"
     ]
    },
    {
     "name": "stdout",
     "output_type": "stream",
     "text": [
      "[CV 2/5] END final_estimator__alpha=0.0001, final_estimator__fit_intercept=False, final_estimator__l1_ratio=0.3, final_estimator__max_iter=1000, final_estimator__random_state=42, final_estimator__selection=random, final_estimator__tol=0.01;, score=-2.322 total time=  21.1s\n"
     ]
    },
    {
     "name": "stderr",
     "output_type": "stream",
     "text": [
      "c:\\Users\\User\\.conda\\envs\\energy\\Lib\\site-packages\\sklearn\\linear_model\\_coordinate_descent.py:697: ConvergenceWarning: Objective did not converge. You might want to increase the number of iterations, check the scale of the features or consider increasing regularisation. Duality gap: 2.802e+04, tolerance: 1.608e+04\n",
      "  model = cd_fast.enet_coordinate_descent(\n"
     ]
    },
    {
     "name": "stdout",
     "output_type": "stream",
     "text": [
      "[CV 3/5] END final_estimator__alpha=0.0001, final_estimator__fit_intercept=False, final_estimator__l1_ratio=0.3, final_estimator__max_iter=1000, final_estimator__random_state=42, final_estimator__selection=random, final_estimator__tol=0.01;, score=-2.211 total time=  21.0s\n"
     ]
    },
    {
     "name": "stderr",
     "output_type": "stream",
     "text": [
      "c:\\Users\\User\\.conda\\envs\\energy\\Lib\\site-packages\\sklearn\\linear_model\\_coordinate_descent.py:697: ConvergenceWarning: Objective did not converge. You might want to increase the number of iterations, check the scale of the features or consider increasing regularisation. Duality gap: 2.856e+04, tolerance: 1.614e+04\n",
      "  model = cd_fast.enet_coordinate_descent(\n"
     ]
    },
    {
     "name": "stdout",
     "output_type": "stream",
     "text": [
      "[CV 4/5] END final_estimator__alpha=0.0001, final_estimator__fit_intercept=False, final_estimator__l1_ratio=0.3, final_estimator__max_iter=1000, final_estimator__random_state=42, final_estimator__selection=random, final_estimator__tol=0.01;, score=-2.162 total time=  20.6s\n"
     ]
    },
    {
     "name": "stderr",
     "output_type": "stream",
     "text": [
      "c:\\Users\\User\\.conda\\envs\\energy\\Lib\\site-packages\\sklearn\\linear_model\\_coordinate_descent.py:697: ConvergenceWarning: Objective did not converge. You might want to increase the number of iterations, check the scale of the features or consider increasing regularisation. Duality gap: 2.734e+04, tolerance: 1.609e+04\n",
      "  model = cd_fast.enet_coordinate_descent(\n"
     ]
    },
    {
     "name": "stdout",
     "output_type": "stream",
     "text": [
      "[CV 5/5] END final_estimator__alpha=0.0001, final_estimator__fit_intercept=False, final_estimator__l1_ratio=0.3, final_estimator__max_iter=1000, final_estimator__random_state=42, final_estimator__selection=random, final_estimator__tol=0.01;, score=-2.286 total time=  20.9s\n"
     ]
    },
    {
     "name": "stderr",
     "output_type": "stream",
     "text": [
      "c:\\Users\\User\\.conda\\envs\\energy\\Lib\\site-packages\\sklearn\\linear_model\\_coordinate_descent.py:697: ConvergenceWarning: Objective did not converge. You might want to increase the number of iterations, check the scale of the features or consider increasing regularisation. Duality gap: 2.304e+04, tolerance: 1.615e+02\n",
      "  model = cd_fast.enet_coordinate_descent(\n"
     ]
    },
    {
     "name": "stdout",
     "output_type": "stream",
     "text": [
      "[CV 1/5] END final_estimator__alpha=0.0001, final_estimator__fit_intercept=False, final_estimator__l1_ratio=0.3, final_estimator__max_iter=2000, final_estimator__random_state=42, final_estimator__selection=cyclic, final_estimator__tol=0.0001;, score=-2.194 total time=  20.4s\n"
     ]
    },
    {
     "name": "stderr",
     "output_type": "stream",
     "text": [
      "c:\\Users\\User\\.conda\\envs\\energy\\Lib\\site-packages\\sklearn\\linear_model\\_coordinate_descent.py:697: ConvergenceWarning: Objective did not converge. You might want to increase the number of iterations, check the scale of the features or consider increasing regularisation. Duality gap: 2.298e+04, tolerance: 1.598e+02\n",
      "  model = cd_fast.enet_coordinate_descent(\n"
     ]
    },
    {
     "name": "stdout",
     "output_type": "stream",
     "text": [
      "[CV 2/5] END final_estimator__alpha=0.0001, final_estimator__fit_intercept=False, final_estimator__l1_ratio=0.3, final_estimator__max_iter=2000, final_estimator__random_state=42, final_estimator__selection=cyclic, final_estimator__tol=0.0001;, score=-2.351 total time=  18.5s\n"
     ]
    },
    {
     "name": "stderr",
     "output_type": "stream",
     "text": [
      "c:\\Users\\User\\.conda\\envs\\energy\\Lib\\site-packages\\sklearn\\linear_model\\_coordinate_descent.py:697: ConvergenceWarning: Objective did not converge. You might want to increase the number of iterations, check the scale of the features or consider increasing regularisation. Duality gap: 2.280e+04, tolerance: 1.608e+02\n",
      "  model = cd_fast.enet_coordinate_descent(\n"
     ]
    },
    {
     "name": "stdout",
     "output_type": "stream",
     "text": [
      "[CV 3/5] END final_estimator__alpha=0.0001, final_estimator__fit_intercept=False, final_estimator__l1_ratio=0.3, final_estimator__max_iter=2000, final_estimator__random_state=42, final_estimator__selection=cyclic, final_estimator__tol=0.0001;, score=-2.192 total time=  23.2s\n"
     ]
    },
    {
     "name": "stderr",
     "output_type": "stream",
     "text": [
      "c:\\Users\\User\\.conda\\envs\\energy\\Lib\\site-packages\\sklearn\\linear_model\\_coordinate_descent.py:697: ConvergenceWarning: Objective did not converge. You might want to increase the number of iterations, check the scale of the features or consider increasing regularisation. Duality gap: 2.284e+04, tolerance: 1.614e+02\n",
      "  model = cd_fast.enet_coordinate_descent(\n"
     ]
    },
    {
     "name": "stdout",
     "output_type": "stream",
     "text": [
      "[CV 4/5] END final_estimator__alpha=0.0001, final_estimator__fit_intercept=False, final_estimator__l1_ratio=0.3, final_estimator__max_iter=2000, final_estimator__random_state=42, final_estimator__selection=cyclic, final_estimator__tol=0.0001;, score=-2.155 total time=  25.5s\n"
     ]
    },
    {
     "name": "stderr",
     "output_type": "stream",
     "text": [
      "c:\\Users\\User\\.conda\\envs\\energy\\Lib\\site-packages\\sklearn\\linear_model\\_coordinate_descent.py:697: ConvergenceWarning: Objective did not converge. You might want to increase the number of iterations, check the scale of the features or consider increasing regularisation. Duality gap: 2.117e+04, tolerance: 1.609e+02\n",
      "  model = cd_fast.enet_coordinate_descent(\n"
     ]
    },
    {
     "name": "stdout",
     "output_type": "stream",
     "text": [
      "[CV 5/5] END final_estimator__alpha=0.0001, final_estimator__fit_intercept=False, final_estimator__l1_ratio=0.3, final_estimator__max_iter=2000, final_estimator__random_state=42, final_estimator__selection=cyclic, final_estimator__tol=0.0001;, score=-2.292 total time=  19.0s\n"
     ]
    },
    {
     "name": "stderr",
     "output_type": "stream",
     "text": [
      "c:\\Users\\User\\.conda\\envs\\energy\\Lib\\site-packages\\sklearn\\linear_model\\_coordinate_descent.py:697: ConvergenceWarning: Objective did not converge. You might want to increase the number of iterations, check the scale of the features or consider increasing regularisation. Duality gap: 2.223e+04, tolerance: 1.615e+03\n",
      "  model = cd_fast.enet_coordinate_descent(\n"
     ]
    },
    {
     "name": "stdout",
     "output_type": "stream",
     "text": [
      "[CV 1/5] END final_estimator__alpha=0.0001, final_estimator__fit_intercept=False, final_estimator__l1_ratio=0.3, final_estimator__max_iter=2000, final_estimator__random_state=42, final_estimator__selection=cyclic, final_estimator__tol=0.001;, score=-2.176 total time=  26.7s\n"
     ]
    },
    {
     "name": "stderr",
     "output_type": "stream",
     "text": [
      "c:\\Users\\User\\.conda\\envs\\energy\\Lib\\site-packages\\sklearn\\linear_model\\_coordinate_descent.py:697: ConvergenceWarning: Objective did not converge. You might want to increase the number of iterations, check the scale of the features or consider increasing regularisation. Duality gap: 2.339e+04, tolerance: 1.598e+03\n",
      "  model = cd_fast.enet_coordinate_descent(\n"
     ]
    },
    {
     "name": "stdout",
     "output_type": "stream",
     "text": [
      "[CV 2/5] END final_estimator__alpha=0.0001, final_estimator__fit_intercept=False, final_estimator__l1_ratio=0.3, final_estimator__max_iter=2000, final_estimator__random_state=42, final_estimator__selection=cyclic, final_estimator__tol=0.001;, score=-2.347 total time=  21.4s\n"
     ]
    },
    {
     "name": "stderr",
     "output_type": "stream",
     "text": [
      "c:\\Users\\User\\.conda\\envs\\energy\\Lib\\site-packages\\sklearn\\linear_model\\_coordinate_descent.py:697: ConvergenceWarning: Objective did not converge. You might want to increase the number of iterations, check the scale of the features or consider increasing regularisation. Duality gap: 2.493e+04, tolerance: 1.608e+03\n",
      "  model = cd_fast.enet_coordinate_descent(\n"
     ]
    },
    {
     "name": "stdout",
     "output_type": "stream",
     "text": [
      "[CV 3/5] END final_estimator__alpha=0.0001, final_estimator__fit_intercept=False, final_estimator__l1_ratio=0.3, final_estimator__max_iter=2000, final_estimator__random_state=42, final_estimator__selection=cyclic, final_estimator__tol=0.001;, score=-2.230 total time=  20.6s\n"
     ]
    },
    {
     "name": "stderr",
     "output_type": "stream",
     "text": [
      "c:\\Users\\User\\.conda\\envs\\energy\\Lib\\site-packages\\sklearn\\linear_model\\_coordinate_descent.py:697: ConvergenceWarning: Objective did not converge. You might want to increase the number of iterations, check the scale of the features or consider increasing regularisation. Duality gap: 2.286e+04, tolerance: 1.614e+03\n",
      "  model = cd_fast.enet_coordinate_descent(\n"
     ]
    },
    {
     "name": "stdout",
     "output_type": "stream",
     "text": [
      "[CV 4/5] END final_estimator__alpha=0.0001, final_estimator__fit_intercept=False, final_estimator__l1_ratio=0.3, final_estimator__max_iter=2000, final_estimator__random_state=42, final_estimator__selection=cyclic, final_estimator__tol=0.001;, score=-2.163 total time=  18.4s\n"
     ]
    },
    {
     "name": "stderr",
     "output_type": "stream",
     "text": [
      "c:\\Users\\User\\.conda\\envs\\energy\\Lib\\site-packages\\sklearn\\linear_model\\_coordinate_descent.py:697: ConvergenceWarning: Objective did not converge. You might want to increase the number of iterations, check the scale of the features or consider increasing regularisation. Duality gap: 2.208e+04, tolerance: 1.609e+03\n",
      "  model = cd_fast.enet_coordinate_descent(\n"
     ]
    },
    {
     "name": "stdout",
     "output_type": "stream",
     "text": [
      "[CV 5/5] END final_estimator__alpha=0.0001, final_estimator__fit_intercept=False, final_estimator__l1_ratio=0.3, final_estimator__max_iter=2000, final_estimator__random_state=42, final_estimator__selection=cyclic, final_estimator__tol=0.001;, score=-2.292 total time=  20.7s\n"
     ]
    },
    {
     "name": "stderr",
     "output_type": "stream",
     "text": [
      "c:\\Users\\User\\.conda\\envs\\energy\\Lib\\site-packages\\sklearn\\linear_model\\_coordinate_descent.py:697: ConvergenceWarning: Objective did not converge. You might want to increase the number of iterations, check the scale of the features or consider increasing regularisation. Duality gap: 1.882e+04, tolerance: 1.615e+04\n",
      "  model = cd_fast.enet_coordinate_descent(\n"
     ]
    },
    {
     "name": "stdout",
     "output_type": "stream",
     "text": [
      "[CV 1/5] END final_estimator__alpha=0.0001, final_estimator__fit_intercept=False, final_estimator__l1_ratio=0.3, final_estimator__max_iter=2000, final_estimator__random_state=42, final_estimator__selection=cyclic, final_estimator__tol=0.01;, score=-2.197 total time=  21.6s\n"
     ]
    },
    {
     "name": "stderr",
     "output_type": "stream",
     "text": [
      "c:\\Users\\User\\.conda\\envs\\energy\\Lib\\site-packages\\sklearn\\linear_model\\_coordinate_descent.py:697: ConvergenceWarning: Objective did not converge. You might want to increase the number of iterations, check the scale of the features or consider increasing regularisation. Duality gap: 2.219e+04, tolerance: 1.598e+04\n",
      "  model = cd_fast.enet_coordinate_descent(\n"
     ]
    },
    {
     "name": "stdout",
     "output_type": "stream",
     "text": [
      "[CV 2/5] END final_estimator__alpha=0.0001, final_estimator__fit_intercept=False, final_estimator__l1_ratio=0.3, final_estimator__max_iter=2000, final_estimator__random_state=42, final_estimator__selection=cyclic, final_estimator__tol=0.01;, score=-2.340 total time=  22.4s\n"
     ]
    },
    {
     "name": "stderr",
     "output_type": "stream",
     "text": [
      "c:\\Users\\User\\.conda\\envs\\energy\\Lib\\site-packages\\sklearn\\linear_model\\_coordinate_descent.py:697: ConvergenceWarning: Objective did not converge. You might want to increase the number of iterations, check the scale of the features or consider increasing regularisation. Duality gap: 2.394e+04, tolerance: 1.608e+04\n",
      "  model = cd_fast.enet_coordinate_descent(\n"
     ]
    },
    {
     "name": "stdout",
     "output_type": "stream",
     "text": [
      "[CV 3/5] END final_estimator__alpha=0.0001, final_estimator__fit_intercept=False, final_estimator__l1_ratio=0.3, final_estimator__max_iter=2000, final_estimator__random_state=42, final_estimator__selection=cyclic, final_estimator__tol=0.01;, score=-2.178 total time=  20.4s\n"
     ]
    },
    {
     "name": "stderr",
     "output_type": "stream",
     "text": [
      "c:\\Users\\User\\.conda\\envs\\energy\\Lib\\site-packages\\sklearn\\linear_model\\_coordinate_descent.py:697: ConvergenceWarning: Objective did not converge. You might want to increase the number of iterations, check the scale of the features or consider increasing regularisation. Duality gap: 2.227e+04, tolerance: 1.614e+04\n",
      "  model = cd_fast.enet_coordinate_descent(\n"
     ]
    },
    {
     "name": "stdout",
     "output_type": "stream",
     "text": [
      "[CV 4/5] END final_estimator__alpha=0.0001, final_estimator__fit_intercept=False, final_estimator__l1_ratio=0.3, final_estimator__max_iter=2000, final_estimator__random_state=42, final_estimator__selection=cyclic, final_estimator__tol=0.01;, score=-2.171 total time=  21.0s\n"
     ]
    },
    {
     "name": "stderr",
     "output_type": "stream",
     "text": [
      "c:\\Users\\User\\.conda\\envs\\energy\\Lib\\site-packages\\sklearn\\linear_model\\_coordinate_descent.py:697: ConvergenceWarning: Objective did not converge. You might want to increase the number of iterations, check the scale of the features or consider increasing regularisation. Duality gap: 2.207e+04, tolerance: 1.609e+04\n",
      "  model = cd_fast.enet_coordinate_descent(\n"
     ]
    },
    {
     "name": "stdout",
     "output_type": "stream",
     "text": [
      "[CV 5/5] END final_estimator__alpha=0.0001, final_estimator__fit_intercept=False, final_estimator__l1_ratio=0.3, final_estimator__max_iter=2000, final_estimator__random_state=42, final_estimator__selection=cyclic, final_estimator__tol=0.01;, score=-2.280 total time=  23.4s\n"
     ]
    },
    {
     "name": "stderr",
     "output_type": "stream",
     "text": [
      "c:\\Users\\User\\.conda\\envs\\energy\\Lib\\site-packages\\sklearn\\linear_model\\_coordinate_descent.py:697: ConvergenceWarning: Objective did not converge. You might want to increase the number of iterations, check the scale of the features or consider increasing regularisation. Duality gap: 2.914e+04, tolerance: 1.615e+02\n",
      "  model = cd_fast.enet_coordinate_descent(\n"
     ]
    },
    {
     "name": "stdout",
     "output_type": "stream",
     "text": [
      "[CV 1/5] END final_estimator__alpha=0.0001, final_estimator__fit_intercept=False, final_estimator__l1_ratio=0.3, final_estimator__max_iter=2000, final_estimator__random_state=42, final_estimator__selection=random, final_estimator__tol=0.0001;, score=-2.174 total time=  20.5s\n"
     ]
    },
    {
     "name": "stderr",
     "output_type": "stream",
     "text": [
      "c:\\Users\\User\\.conda\\envs\\energy\\Lib\\site-packages\\sklearn\\linear_model\\_coordinate_descent.py:697: ConvergenceWarning: Objective did not converge. You might want to increase the number of iterations, check the scale of the features or consider increasing regularisation. Duality gap: 2.779e+04, tolerance: 1.598e+02\n",
      "  model = cd_fast.enet_coordinate_descent(\n"
     ]
    },
    {
     "name": "stdout",
     "output_type": "stream",
     "text": [
      "[CV 2/5] END final_estimator__alpha=0.0001, final_estimator__fit_intercept=False, final_estimator__l1_ratio=0.3, final_estimator__max_iter=2000, final_estimator__random_state=42, final_estimator__selection=random, final_estimator__tol=0.0001;, score=-2.330 total time=  21.0s\n"
     ]
    },
    {
     "name": "stderr",
     "output_type": "stream",
     "text": [
      "c:\\Users\\User\\.conda\\envs\\energy\\Lib\\site-packages\\sklearn\\linear_model\\_coordinate_descent.py:697: ConvergenceWarning: Objective did not converge. You might want to increase the number of iterations, check the scale of the features or consider increasing regularisation. Duality gap: 2.784e+04, tolerance: 1.608e+02\n",
      "  model = cd_fast.enet_coordinate_descent(\n"
     ]
    },
    {
     "name": "stdout",
     "output_type": "stream",
     "text": [
      "[CV 3/5] END final_estimator__alpha=0.0001, final_estimator__fit_intercept=False, final_estimator__l1_ratio=0.3, final_estimator__max_iter=2000, final_estimator__random_state=42, final_estimator__selection=random, final_estimator__tol=0.0001;, score=-2.208 total time=  20.9s\n"
     ]
    },
    {
     "name": "stderr",
     "output_type": "stream",
     "text": [
      "c:\\Users\\User\\.conda\\envs\\energy\\Lib\\site-packages\\sklearn\\linear_model\\_coordinate_descent.py:697: ConvergenceWarning: Objective did not converge. You might want to increase the number of iterations, check the scale of the features or consider increasing regularisation. Duality gap: 2.833e+04, tolerance: 1.614e+02\n",
      "  model = cd_fast.enet_coordinate_descent(\n"
     ]
    },
    {
     "name": "stdout",
     "output_type": "stream",
     "text": [
      "[CV 4/5] END final_estimator__alpha=0.0001, final_estimator__fit_intercept=False, final_estimator__l1_ratio=0.3, final_estimator__max_iter=2000, final_estimator__random_state=42, final_estimator__selection=random, final_estimator__tol=0.0001;, score=-2.171 total time=  19.3s\n"
     ]
    },
    {
     "name": "stderr",
     "output_type": "stream",
     "text": [
      "c:\\Users\\User\\.conda\\envs\\energy\\Lib\\site-packages\\sklearn\\linear_model\\_coordinate_descent.py:697: ConvergenceWarning: Objective did not converge. You might want to increase the number of iterations, check the scale of the features or consider increasing regularisation. Duality gap: 2.745e+04, tolerance: 1.609e+02\n",
      "  model = cd_fast.enet_coordinate_descent(\n"
     ]
    },
    {
     "name": "stdout",
     "output_type": "stream",
     "text": [
      "[CV 5/5] END final_estimator__alpha=0.0001, final_estimator__fit_intercept=False, final_estimator__l1_ratio=0.3, final_estimator__max_iter=2000, final_estimator__random_state=42, final_estimator__selection=random, final_estimator__tol=0.0001;, score=-2.297 total time=  18.2s\n"
     ]
    },
    {
     "name": "stderr",
     "output_type": "stream",
     "text": [
      "c:\\Users\\User\\.conda\\envs\\energy\\Lib\\site-packages\\sklearn\\linear_model\\_coordinate_descent.py:697: ConvergenceWarning: Objective did not converge. You might want to increase the number of iterations, check the scale of the features or consider increasing regularisation. Duality gap: 2.918e+04, tolerance: 1.615e+03\n",
      "  model = cd_fast.enet_coordinate_descent(\n"
     ]
    },
    {
     "name": "stdout",
     "output_type": "stream",
     "text": [
      "[CV 1/5] END final_estimator__alpha=0.0001, final_estimator__fit_intercept=False, final_estimator__l1_ratio=0.3, final_estimator__max_iter=2000, final_estimator__random_state=42, final_estimator__selection=random, final_estimator__tol=0.001;, score=-2.183 total time=  21.9s\n"
     ]
    },
    {
     "name": "stderr",
     "output_type": "stream",
     "text": [
      "c:\\Users\\User\\.conda\\envs\\energy\\Lib\\site-packages\\sklearn\\linear_model\\_coordinate_descent.py:697: ConvergenceWarning: Objective did not converge. You might want to increase the number of iterations, check the scale of the features or consider increasing regularisation. Duality gap: 2.784e+04, tolerance: 1.598e+03\n",
      "  model = cd_fast.enet_coordinate_descent(\n"
     ]
    },
    {
     "name": "stdout",
     "output_type": "stream",
     "text": [
      "[CV 2/5] END final_estimator__alpha=0.0001, final_estimator__fit_intercept=False, final_estimator__l1_ratio=0.3, final_estimator__max_iter=2000, final_estimator__random_state=42, final_estimator__selection=random, final_estimator__tol=0.001;, score=-2.344 total time=  21.2s\n"
     ]
    },
    {
     "name": "stderr",
     "output_type": "stream",
     "text": [
      "c:\\Users\\User\\.conda\\envs\\energy\\Lib\\site-packages\\sklearn\\linear_model\\_coordinate_descent.py:697: ConvergenceWarning: Objective did not converge. You might want to increase the number of iterations, check the scale of the features or consider increasing regularisation. Duality gap: 2.788e+04, tolerance: 1.608e+03\n",
      "  model = cd_fast.enet_coordinate_descent(\n"
     ]
    },
    {
     "name": "stdout",
     "output_type": "stream",
     "text": [
      "[CV 3/5] END final_estimator__alpha=0.0001, final_estimator__fit_intercept=False, final_estimator__l1_ratio=0.3, final_estimator__max_iter=2000, final_estimator__random_state=42, final_estimator__selection=random, final_estimator__tol=0.001;, score=-2.198 total time=  21.0s\n"
     ]
    },
    {
     "name": "stderr",
     "output_type": "stream",
     "text": [
      "c:\\Users\\User\\.conda\\envs\\energy\\Lib\\site-packages\\sklearn\\linear_model\\_coordinate_descent.py:697: ConvergenceWarning: Objective did not converge. You might want to increase the number of iterations, check the scale of the features or consider increasing regularisation. Duality gap: 2.851e+04, tolerance: 1.614e+03\n",
      "  model = cd_fast.enet_coordinate_descent(\n"
     ]
    },
    {
     "name": "stdout",
     "output_type": "stream",
     "text": [
      "[CV 4/5] END final_estimator__alpha=0.0001, final_estimator__fit_intercept=False, final_estimator__l1_ratio=0.3, final_estimator__max_iter=2000, final_estimator__random_state=42, final_estimator__selection=random, final_estimator__tol=0.001;, score=-2.175 total time=  18.7s\n"
     ]
    },
    {
     "name": "stderr",
     "output_type": "stream",
     "text": [
      "c:\\Users\\User\\.conda\\envs\\energy\\Lib\\site-packages\\sklearn\\linear_model\\_coordinate_descent.py:697: ConvergenceWarning: Objective did not converge. You might want to increase the number of iterations, check the scale of the features or consider increasing regularisation. Duality gap: 2.741e+04, tolerance: 1.609e+03\n",
      "  model = cd_fast.enet_coordinate_descent(\n"
     ]
    },
    {
     "name": "stdout",
     "output_type": "stream",
     "text": [
      "[CV 5/5] END final_estimator__alpha=0.0001, final_estimator__fit_intercept=False, final_estimator__l1_ratio=0.3, final_estimator__max_iter=2000, final_estimator__random_state=42, final_estimator__selection=random, final_estimator__tol=0.001;, score=-2.295 total time=  16.3s\n"
     ]
    },
    {
     "name": "stderr",
     "output_type": "stream",
     "text": [
      "c:\\Users\\User\\.conda\\envs\\energy\\Lib\\site-packages\\sklearn\\linear_model\\_coordinate_descent.py:697: ConvergenceWarning: Objective did not converge. You might want to increase the number of iterations, check the scale of the features or consider increasing regularisation. Duality gap: 2.908e+04, tolerance: 1.615e+04\n",
      "  model = cd_fast.enet_coordinate_descent(\n"
     ]
    },
    {
     "name": "stdout",
     "output_type": "stream",
     "text": [
      "[CV 1/5] END final_estimator__alpha=0.0001, final_estimator__fit_intercept=False, final_estimator__l1_ratio=0.3, final_estimator__max_iter=2000, final_estimator__random_state=42, final_estimator__selection=random, final_estimator__tol=0.01;, score=-2.196 total time=  19.9s\n"
     ]
    },
    {
     "name": "stderr",
     "output_type": "stream",
     "text": [
      "c:\\Users\\User\\.conda\\envs\\energy\\Lib\\site-packages\\sklearn\\linear_model\\_coordinate_descent.py:697: ConvergenceWarning: Objective did not converge. You might want to increase the number of iterations, check the scale of the features or consider increasing regularisation. Duality gap: 2.804e+04, tolerance: 1.598e+04\n",
      "  model = cd_fast.enet_coordinate_descent(\n"
     ]
    },
    {
     "name": "stdout",
     "output_type": "stream",
     "text": [
      "[CV 2/5] END final_estimator__alpha=0.0001, final_estimator__fit_intercept=False, final_estimator__l1_ratio=0.3, final_estimator__max_iter=2000, final_estimator__random_state=42, final_estimator__selection=random, final_estimator__tol=0.01;, score=-2.332 total time=  20.1s\n"
     ]
    },
    {
     "name": "stderr",
     "output_type": "stream",
     "text": [
      "c:\\Users\\User\\.conda\\envs\\energy\\Lib\\site-packages\\sklearn\\linear_model\\_coordinate_descent.py:697: ConvergenceWarning: Objective did not converge. You might want to increase the number of iterations, check the scale of the features or consider increasing regularisation. Duality gap: 2.775e+04, tolerance: 1.608e+04\n",
      "  model = cd_fast.enet_coordinate_descent(\n"
     ]
    },
    {
     "name": "stdout",
     "output_type": "stream",
     "text": [
      "[CV 3/5] END final_estimator__alpha=0.0001, final_estimator__fit_intercept=False, final_estimator__l1_ratio=0.3, final_estimator__max_iter=2000, final_estimator__random_state=42, final_estimator__selection=random, final_estimator__tol=0.01;, score=-2.209 total time=  18.8s\n"
     ]
    },
    {
     "name": "stderr",
     "output_type": "stream",
     "text": [
      "c:\\Users\\User\\.conda\\envs\\energy\\Lib\\site-packages\\sklearn\\linear_model\\_coordinate_descent.py:697: ConvergenceWarning: Objective did not converge. You might want to increase the number of iterations, check the scale of the features or consider increasing regularisation. Duality gap: 2.821e+04, tolerance: 1.614e+04\n",
      "  model = cd_fast.enet_coordinate_descent(\n"
     ]
    },
    {
     "name": "stdout",
     "output_type": "stream",
     "text": [
      "[CV 4/5] END final_estimator__alpha=0.0001, final_estimator__fit_intercept=False, final_estimator__l1_ratio=0.3, final_estimator__max_iter=2000, final_estimator__random_state=42, final_estimator__selection=random, final_estimator__tol=0.01;, score=-2.179 total time=  20.8s\n"
     ]
    },
    {
     "name": "stderr",
     "output_type": "stream",
     "text": [
      "c:\\Users\\User\\.conda\\envs\\energy\\Lib\\site-packages\\sklearn\\linear_model\\_coordinate_descent.py:697: ConvergenceWarning: Objective did not converge. You might want to increase the number of iterations, check the scale of the features or consider increasing regularisation. Duality gap: 2.726e+04, tolerance: 1.609e+04\n",
      "  model = cd_fast.enet_coordinate_descent(\n"
     ]
    },
    {
     "name": "stdout",
     "output_type": "stream",
     "text": [
      "[CV 5/5] END final_estimator__alpha=0.0001, final_estimator__fit_intercept=False, final_estimator__l1_ratio=0.3, final_estimator__max_iter=2000, final_estimator__random_state=42, final_estimator__selection=random, final_estimator__tol=0.01;, score=-2.296 total time=  22.8s\n"
     ]
    },
    {
     "name": "stderr",
     "output_type": "stream",
     "text": [
      "c:\\Users\\User\\.conda\\envs\\energy\\Lib\\site-packages\\sklearn\\linear_model\\_coordinate_descent.py:697: ConvergenceWarning: Objective did not converge. You might want to increase the number of iterations, check the scale of the features or consider increasing regularisation. Duality gap: 2.913e+04, tolerance: 1.615e+02\n",
      "  model = cd_fast.enet_coordinate_descent(\n"
     ]
    },
    {
     "name": "stdout",
     "output_type": "stream",
     "text": [
      "[CV 1/5] END final_estimator__alpha=0.0001, final_estimator__fit_intercept=False, final_estimator__l1_ratio=0.5, final_estimator__max_iter=1000, final_estimator__random_state=42, final_estimator__selection=cyclic, final_estimator__tol=0.0001;, score=-2.185 total time=  19.7s\n"
     ]
    },
    {
     "name": "stderr",
     "output_type": "stream",
     "text": [
      "c:\\Users\\User\\.conda\\envs\\energy\\Lib\\site-packages\\sklearn\\linear_model\\_coordinate_descent.py:697: ConvergenceWarning: Objective did not converge. You might want to increase the number of iterations, check the scale of the features or consider increasing regularisation. Duality gap: 2.762e+04, tolerance: 1.598e+02\n",
      "  model = cd_fast.enet_coordinate_descent(\n"
     ]
    },
    {
     "name": "stdout",
     "output_type": "stream",
     "text": [
      "[CV 2/5] END final_estimator__alpha=0.0001, final_estimator__fit_intercept=False, final_estimator__l1_ratio=0.5, final_estimator__max_iter=1000, final_estimator__random_state=42, final_estimator__selection=cyclic, final_estimator__tol=0.0001;, score=-2.319 total time=  22.5s\n"
     ]
    },
    {
     "name": "stderr",
     "output_type": "stream",
     "text": [
      "c:\\Users\\User\\.conda\\envs\\energy\\Lib\\site-packages\\sklearn\\linear_model\\_coordinate_descent.py:697: ConvergenceWarning: Objective did not converge. You might want to increase the number of iterations, check the scale of the features or consider increasing regularisation. Duality gap: 2.773e+04, tolerance: 1.608e+02\n",
      "  model = cd_fast.enet_coordinate_descent(\n"
     ]
    },
    {
     "name": "stdout",
     "output_type": "stream",
     "text": [
      "[CV 3/5] END final_estimator__alpha=0.0001, final_estimator__fit_intercept=False, final_estimator__l1_ratio=0.5, final_estimator__max_iter=1000, final_estimator__random_state=42, final_estimator__selection=cyclic, final_estimator__tol=0.0001;, score=-2.189 total time=  17.9s\n"
     ]
    },
    {
     "name": "stderr",
     "output_type": "stream",
     "text": [
      "c:\\Users\\User\\.conda\\envs\\energy\\Lib\\site-packages\\sklearn\\linear_model\\_coordinate_descent.py:697: ConvergenceWarning: Objective did not converge. You might want to increase the number of iterations, check the scale of the features or consider increasing regularisation. Duality gap: 2.841e+04, tolerance: 1.614e+02\n",
      "  model = cd_fast.enet_coordinate_descent(\n"
     ]
    },
    {
     "name": "stdout",
     "output_type": "stream",
     "text": [
      "[CV 4/5] END final_estimator__alpha=0.0001, final_estimator__fit_intercept=False, final_estimator__l1_ratio=0.5, final_estimator__max_iter=1000, final_estimator__random_state=42, final_estimator__selection=cyclic, final_estimator__tol=0.0001;, score=-2.169 total time=  18.3s\n"
     ]
    },
    {
     "name": "stderr",
     "output_type": "stream",
     "text": [
      "c:\\Users\\User\\.conda\\envs\\energy\\Lib\\site-packages\\sklearn\\linear_model\\_coordinate_descent.py:697: ConvergenceWarning: Objective did not converge. You might want to increase the number of iterations, check the scale of the features or consider increasing regularisation. Duality gap: 2.731e+04, tolerance: 1.609e+02\n",
      "  model = cd_fast.enet_coordinate_descent(\n"
     ]
    },
    {
     "name": "stdout",
     "output_type": "stream",
     "text": [
      "[CV 5/5] END final_estimator__alpha=0.0001, final_estimator__fit_intercept=False, final_estimator__l1_ratio=0.5, final_estimator__max_iter=1000, final_estimator__random_state=42, final_estimator__selection=cyclic, final_estimator__tol=0.0001;, score=-2.291 total time=  22.2s\n"
     ]
    },
    {
     "name": "stderr",
     "output_type": "stream",
     "text": [
      "c:\\Users\\User\\.conda\\envs\\energy\\Lib\\site-packages\\sklearn\\linear_model\\_coordinate_descent.py:697: ConvergenceWarning: Objective did not converge. You might want to increase the number of iterations, check the scale of the features or consider increasing regularisation. Duality gap: 2.891e+04, tolerance: 1.615e+03\n",
      "  model = cd_fast.enet_coordinate_descent(\n"
     ]
    },
    {
     "name": "stdout",
     "output_type": "stream",
     "text": [
      "[CV 1/5] END final_estimator__alpha=0.0001, final_estimator__fit_intercept=False, final_estimator__l1_ratio=0.5, final_estimator__max_iter=1000, final_estimator__random_state=42, final_estimator__selection=cyclic, final_estimator__tol=0.001;, score=-2.196 total time=  20.1s\n"
     ]
    },
    {
     "name": "stderr",
     "output_type": "stream",
     "text": [
      "c:\\Users\\User\\.conda\\envs\\energy\\Lib\\site-packages\\sklearn\\linear_model\\_coordinate_descent.py:697: ConvergenceWarning: Objective did not converge. You might want to increase the number of iterations, check the scale of the features or consider increasing regularisation. Duality gap: 2.765e+04, tolerance: 1.598e+03\n",
      "  model = cd_fast.enet_coordinate_descent(\n"
     ]
    },
    {
     "name": "stdout",
     "output_type": "stream",
     "text": [
      "[CV 2/5] END final_estimator__alpha=0.0001, final_estimator__fit_intercept=False, final_estimator__l1_ratio=0.5, final_estimator__max_iter=1000, final_estimator__random_state=42, final_estimator__selection=cyclic, final_estimator__tol=0.001;, score=-2.344 total time=  23.6s\n"
     ]
    },
    {
     "name": "stderr",
     "output_type": "stream",
     "text": [
      "c:\\Users\\User\\.conda\\envs\\energy\\Lib\\site-packages\\sklearn\\linear_model\\_coordinate_descent.py:697: ConvergenceWarning: Objective did not converge. You might want to increase the number of iterations, check the scale of the features or consider increasing regularisation. Duality gap: 2.768e+04, tolerance: 1.608e+03\n",
      "  model = cd_fast.enet_coordinate_descent(\n"
     ]
    },
    {
     "name": "stdout",
     "output_type": "stream",
     "text": [
      "[CV 3/5] END final_estimator__alpha=0.0001, final_estimator__fit_intercept=False, final_estimator__l1_ratio=0.5, final_estimator__max_iter=1000, final_estimator__random_state=42, final_estimator__selection=cyclic, final_estimator__tol=0.001;, score=-2.194 total time=  20.7s\n"
     ]
    },
    {
     "name": "stderr",
     "output_type": "stream",
     "text": [
      "c:\\Users\\User\\.conda\\envs\\energy\\Lib\\site-packages\\sklearn\\linear_model\\_coordinate_descent.py:697: ConvergenceWarning: Objective did not converge. You might want to increase the number of iterations, check the scale of the features or consider increasing regularisation. Duality gap: 2.817e+04, tolerance: 1.614e+03\n",
      "  model = cd_fast.enet_coordinate_descent(\n"
     ]
    },
    {
     "name": "stdout",
     "output_type": "stream",
     "text": [
      "[CV 4/5] END final_estimator__alpha=0.0001, final_estimator__fit_intercept=False, final_estimator__l1_ratio=0.5, final_estimator__max_iter=1000, final_estimator__random_state=42, final_estimator__selection=cyclic, final_estimator__tol=0.001;, score=-2.160 total time=  20.0s\n"
     ]
    },
    {
     "name": "stderr",
     "output_type": "stream",
     "text": [
      "c:\\Users\\User\\.conda\\envs\\energy\\Lib\\site-packages\\sklearn\\linear_model\\_coordinate_descent.py:697: ConvergenceWarning: Objective did not converge. You might want to increase the number of iterations, check the scale of the features or consider increasing regularisation. Duality gap: 2.715e+04, tolerance: 1.609e+03\n",
      "  model = cd_fast.enet_coordinate_descent(\n"
     ]
    },
    {
     "name": "stdout",
     "output_type": "stream",
     "text": [
      "[CV 5/5] END final_estimator__alpha=0.0001, final_estimator__fit_intercept=False, final_estimator__l1_ratio=0.5, final_estimator__max_iter=1000, final_estimator__random_state=42, final_estimator__selection=cyclic, final_estimator__tol=0.001;, score=-2.280 total time=  19.2s\n"
     ]
    },
    {
     "name": "stderr",
     "output_type": "stream",
     "text": [
      "c:\\Users\\User\\.conda\\envs\\energy\\Lib\\site-packages\\sklearn\\linear_model\\_coordinate_descent.py:697: ConvergenceWarning: Objective did not converge. You might want to increase the number of iterations, check the scale of the features or consider increasing regularisation. Duality gap: 2.892e+04, tolerance: 1.615e+04\n",
      "  model = cd_fast.enet_coordinate_descent(\n"
     ]
    },
    {
     "name": "stdout",
     "output_type": "stream",
     "text": [
      "[CV 1/5] END final_estimator__alpha=0.0001, final_estimator__fit_intercept=False, final_estimator__l1_ratio=0.5, final_estimator__max_iter=1000, final_estimator__random_state=42, final_estimator__selection=cyclic, final_estimator__tol=0.01;, score=-2.185 total time=  22.2s\n"
     ]
    },
    {
     "name": "stderr",
     "output_type": "stream",
     "text": [
      "c:\\Users\\User\\.conda\\envs\\energy\\Lib\\site-packages\\sklearn\\linear_model\\_coordinate_descent.py:697: ConvergenceWarning: Objective did not converge. You might want to increase the number of iterations, check the scale of the features or consider increasing regularisation. Duality gap: 2.769e+04, tolerance: 1.598e+04\n",
      "  model = cd_fast.enet_coordinate_descent(\n"
     ]
    },
    {
     "name": "stdout",
     "output_type": "stream",
     "text": [
      "[CV 2/5] END final_estimator__alpha=0.0001, final_estimator__fit_intercept=False, final_estimator__l1_ratio=0.5, final_estimator__max_iter=1000, final_estimator__random_state=42, final_estimator__selection=cyclic, final_estimator__tol=0.01;, score=-2.328 total time=  21.0s\n"
     ]
    },
    {
     "name": "stderr",
     "output_type": "stream",
     "text": [
      "c:\\Users\\User\\.conda\\envs\\energy\\Lib\\site-packages\\sklearn\\linear_model\\_coordinate_descent.py:697: ConvergenceWarning: Objective did not converge. You might want to increase the number of iterations, check the scale of the features or consider increasing regularisation. Duality gap: 2.776e+04, tolerance: 1.608e+04\n",
      "  model = cd_fast.enet_coordinate_descent(\n"
     ]
    },
    {
     "name": "stdout",
     "output_type": "stream",
     "text": [
      "[CV 3/5] END final_estimator__alpha=0.0001, final_estimator__fit_intercept=False, final_estimator__l1_ratio=0.5, final_estimator__max_iter=1000, final_estimator__random_state=42, final_estimator__selection=cyclic, final_estimator__tol=0.01;, score=-2.204 total time=  21.4s\n"
     ]
    },
    {
     "name": "stderr",
     "output_type": "stream",
     "text": [
      "c:\\Users\\User\\.conda\\envs\\energy\\Lib\\site-packages\\sklearn\\linear_model\\_coordinate_descent.py:697: ConvergenceWarning: Objective did not converge. You might want to increase the number of iterations, check the scale of the features or consider increasing regularisation. Duality gap: 2.815e+04, tolerance: 1.614e+04\n",
      "  model = cd_fast.enet_coordinate_descent(\n"
     ]
    },
    {
     "name": "stdout",
     "output_type": "stream",
     "text": [
      "[CV 4/5] END final_estimator__alpha=0.0001, final_estimator__fit_intercept=False, final_estimator__l1_ratio=0.5, final_estimator__max_iter=1000, final_estimator__random_state=42, final_estimator__selection=cyclic, final_estimator__tol=0.01;, score=-2.154 total time=  16.6s\n"
     ]
    },
    {
     "name": "stderr",
     "output_type": "stream",
     "text": [
      "c:\\Users\\User\\.conda\\envs\\energy\\Lib\\site-packages\\sklearn\\linear_model\\_coordinate_descent.py:697: ConvergenceWarning: Objective did not converge. You might want to increase the number of iterations, check the scale of the features or consider increasing regularisation. Duality gap: 2.715e+04, tolerance: 1.609e+04\n",
      "  model = cd_fast.enet_coordinate_descent(\n"
     ]
    },
    {
     "name": "stdout",
     "output_type": "stream",
     "text": [
      "[CV 5/5] END final_estimator__alpha=0.0001, final_estimator__fit_intercept=False, final_estimator__l1_ratio=0.5, final_estimator__max_iter=1000, final_estimator__random_state=42, final_estimator__selection=cyclic, final_estimator__tol=0.01;, score=-2.297 total time=  17.7s\n"
     ]
    },
    {
     "name": "stderr",
     "output_type": "stream",
     "text": [
      "c:\\Users\\User\\.conda\\envs\\energy\\Lib\\site-packages\\sklearn\\linear_model\\_coordinate_descent.py:697: ConvergenceWarning: Objective did not converge. You might want to increase the number of iterations, check the scale of the features or consider increasing regularisation. Duality gap: 2.947e+04, tolerance: 1.615e+02\n",
      "  model = cd_fast.enet_coordinate_descent(\n"
     ]
    },
    {
     "name": "stdout",
     "output_type": "stream",
     "text": [
      "[CV 1/5] END final_estimator__alpha=0.0001, final_estimator__fit_intercept=False, final_estimator__l1_ratio=0.5, final_estimator__max_iter=1000, final_estimator__random_state=42, final_estimator__selection=random, final_estimator__tol=0.0001;, score=-2.201 total time=  18.6s\n"
     ]
    },
    {
     "name": "stderr",
     "output_type": "stream",
     "text": [
      "c:\\Users\\User\\.conda\\envs\\energy\\Lib\\site-packages\\sklearn\\linear_model\\_coordinate_descent.py:697: ConvergenceWarning: Objective did not converge. You might want to increase the number of iterations, check the scale of the features or consider increasing regularisation. Duality gap: 2.806e+04, tolerance: 1.598e+02\n",
      "  model = cd_fast.enet_coordinate_descent(\n"
     ]
    },
    {
     "name": "stdout",
     "output_type": "stream",
     "text": [
      "[CV 2/5] END final_estimator__alpha=0.0001, final_estimator__fit_intercept=False, final_estimator__l1_ratio=0.5, final_estimator__max_iter=1000, final_estimator__random_state=42, final_estimator__selection=random, final_estimator__tol=0.0001;, score=-2.339 total time=  21.4s\n"
     ]
    },
    {
     "name": "stderr",
     "output_type": "stream",
     "text": [
      "c:\\Users\\User\\.conda\\envs\\energy\\Lib\\site-packages\\sklearn\\linear_model\\_coordinate_descent.py:697: ConvergenceWarning: Objective did not converge. You might want to increase the number of iterations, check the scale of the features or consider increasing regularisation. Duality gap: 2.767e+04, tolerance: 1.608e+02\n",
      "  model = cd_fast.enet_coordinate_descent(\n"
     ]
    },
    {
     "name": "stdout",
     "output_type": "stream",
     "text": [
      "[CV 3/5] END final_estimator__alpha=0.0001, final_estimator__fit_intercept=False, final_estimator__l1_ratio=0.5, final_estimator__max_iter=1000, final_estimator__random_state=42, final_estimator__selection=random, final_estimator__tol=0.0001;, score=-2.217 total time=  20.1s\n"
     ]
    },
    {
     "name": "stderr",
     "output_type": "stream",
     "text": [
      "c:\\Users\\User\\.conda\\envs\\energy\\Lib\\site-packages\\sklearn\\linear_model\\_coordinate_descent.py:697: ConvergenceWarning: Objective did not converge. You might want to increase the number of iterations, check the scale of the features or consider increasing regularisation. Duality gap: 2.857e+04, tolerance: 1.614e+02\n",
      "  model = cd_fast.enet_coordinate_descent(\n"
     ]
    },
    {
     "name": "stdout",
     "output_type": "stream",
     "text": [
      "[CV 4/5] END final_estimator__alpha=0.0001, final_estimator__fit_intercept=False, final_estimator__l1_ratio=0.5, final_estimator__max_iter=1000, final_estimator__random_state=42, final_estimator__selection=random, final_estimator__tol=0.0001;, score=-2.167 total time=  15.6s\n"
     ]
    },
    {
     "name": "stderr",
     "output_type": "stream",
     "text": [
      "c:\\Users\\User\\.conda\\envs\\energy\\Lib\\site-packages\\sklearn\\linear_model\\_coordinate_descent.py:697: ConvergenceWarning: Objective did not converge. You might want to increase the number of iterations, check the scale of the features or consider increasing regularisation. Duality gap: 2.755e+04, tolerance: 1.609e+02\n",
      "  model = cd_fast.enet_coordinate_descent(\n"
     ]
    },
    {
     "name": "stdout",
     "output_type": "stream",
     "text": [
      "[CV 5/5] END final_estimator__alpha=0.0001, final_estimator__fit_intercept=False, final_estimator__l1_ratio=0.5, final_estimator__max_iter=1000, final_estimator__random_state=42, final_estimator__selection=random, final_estimator__tol=0.0001;, score=-2.307 total time=  19.9s\n"
     ]
    },
    {
     "name": "stderr",
     "output_type": "stream",
     "text": [
      "c:\\Users\\User\\.conda\\envs\\energy\\Lib\\site-packages\\sklearn\\linear_model\\_coordinate_descent.py:697: ConvergenceWarning: Objective did not converge. You might want to increase the number of iterations, check the scale of the features or consider increasing regularisation. Duality gap: 2.932e+04, tolerance: 1.615e+03\n",
      "  model = cd_fast.enet_coordinate_descent(\n"
     ]
    },
    {
     "name": "stdout",
     "output_type": "stream",
     "text": [
      "[CV 1/5] END final_estimator__alpha=0.0001, final_estimator__fit_intercept=False, final_estimator__l1_ratio=0.5, final_estimator__max_iter=1000, final_estimator__random_state=42, final_estimator__selection=random, final_estimator__tol=0.001;, score=-2.175 total time=  20.4s\n"
     ]
    },
    {
     "name": "stderr",
     "output_type": "stream",
     "text": [
      "c:\\Users\\User\\.conda\\envs\\energy\\Lib\\site-packages\\sklearn\\linear_model\\_coordinate_descent.py:697: ConvergenceWarning: Objective did not converge. You might want to increase the number of iterations, check the scale of the features or consider increasing regularisation. Duality gap: 2.822e+04, tolerance: 1.598e+03\n",
      "  model = cd_fast.enet_coordinate_descent(\n"
     ]
    },
    {
     "name": "stdout",
     "output_type": "stream",
     "text": [
      "[CV 2/5] END final_estimator__alpha=0.0001, final_estimator__fit_intercept=False, final_estimator__l1_ratio=0.5, final_estimator__max_iter=1000, final_estimator__random_state=42, final_estimator__selection=random, final_estimator__tol=0.001;, score=-2.334 total time=  17.4s\n"
     ]
    },
    {
     "name": "stderr",
     "output_type": "stream",
     "text": [
      "c:\\Users\\User\\.conda\\envs\\energy\\Lib\\site-packages\\sklearn\\linear_model\\_coordinate_descent.py:697: ConvergenceWarning: Objective did not converge. You might want to increase the number of iterations, check the scale of the features or consider increasing regularisation. Duality gap: 2.777e+04, tolerance: 1.608e+03\n",
      "  model = cd_fast.enet_coordinate_descent(\n"
     ]
    },
    {
     "name": "stdout",
     "output_type": "stream",
     "text": [
      "[CV 3/5] END final_estimator__alpha=0.0001, final_estimator__fit_intercept=False, final_estimator__l1_ratio=0.5, final_estimator__max_iter=1000, final_estimator__random_state=42, final_estimator__selection=random, final_estimator__tol=0.001;, score=-2.207 total time=  16.5s\n"
     ]
    },
    {
     "name": "stderr",
     "output_type": "stream",
     "text": [
      "c:\\Users\\User\\.conda\\envs\\energy\\Lib\\site-packages\\sklearn\\linear_model\\_coordinate_descent.py:697: ConvergenceWarning: Objective did not converge. You might want to increase the number of iterations, check the scale of the features or consider increasing regularisation. Duality gap: 2.844e+04, tolerance: 1.614e+03\n",
      "  model = cd_fast.enet_coordinate_descent(\n"
     ]
    },
    {
     "name": "stdout",
     "output_type": "stream",
     "text": [
      "[CV 4/5] END final_estimator__alpha=0.0001, final_estimator__fit_intercept=False, final_estimator__l1_ratio=0.5, final_estimator__max_iter=1000, final_estimator__random_state=42, final_estimator__selection=random, final_estimator__tol=0.001;, score=-2.168 total time=  18.2s\n"
     ]
    },
    {
     "name": "stderr",
     "output_type": "stream",
     "text": [
      "c:\\Users\\User\\.conda\\envs\\energy\\Lib\\site-packages\\sklearn\\linear_model\\_coordinate_descent.py:697: ConvergenceWarning: Objective did not converge. You might want to increase the number of iterations, check the scale of the features or consider increasing regularisation. Duality gap: 2.755e+04, tolerance: 1.609e+03\n",
      "  model = cd_fast.enet_coordinate_descent(\n"
     ]
    },
    {
     "name": "stdout",
     "output_type": "stream",
     "text": [
      "[CV 5/5] END final_estimator__alpha=0.0001, final_estimator__fit_intercept=False, final_estimator__l1_ratio=0.5, final_estimator__max_iter=1000, final_estimator__random_state=42, final_estimator__selection=random, final_estimator__tol=0.001;, score=-2.295 total time=  18.9s\n"
     ]
    },
    {
     "name": "stderr",
     "output_type": "stream",
     "text": [
      "c:\\Users\\User\\.conda\\envs\\energy\\Lib\\site-packages\\sklearn\\linear_model\\_coordinate_descent.py:697: ConvergenceWarning: Objective did not converge. You might want to increase the number of iterations, check the scale of the features or consider increasing regularisation. Duality gap: 2.909e+04, tolerance: 1.615e+04\n",
      "  model = cd_fast.enet_coordinate_descent(\n"
     ]
    },
    {
     "name": "stdout",
     "output_type": "stream",
     "text": [
      "[CV 1/5] END final_estimator__alpha=0.0001, final_estimator__fit_intercept=False, final_estimator__l1_ratio=0.5, final_estimator__max_iter=1000, final_estimator__random_state=42, final_estimator__selection=random, final_estimator__tol=0.01;, score=-2.187 total time=  23.6s\n"
     ]
    },
    {
     "name": "stderr",
     "output_type": "stream",
     "text": [
      "c:\\Users\\User\\.conda\\envs\\energy\\Lib\\site-packages\\sklearn\\linear_model\\_coordinate_descent.py:697: ConvergenceWarning: Objective did not converge. You might want to increase the number of iterations, check the scale of the features or consider increasing regularisation. Duality gap: 2.803e+04, tolerance: 1.598e+04\n",
      "  model = cd_fast.enet_coordinate_descent(\n"
     ]
    },
    {
     "name": "stdout",
     "output_type": "stream",
     "text": [
      "[CV 2/5] END final_estimator__alpha=0.0001, final_estimator__fit_intercept=False, final_estimator__l1_ratio=0.5, final_estimator__max_iter=1000, final_estimator__random_state=42, final_estimator__selection=random, final_estimator__tol=0.01;, score=-2.323 total time=  16.3s\n"
     ]
    },
    {
     "name": "stderr",
     "output_type": "stream",
     "text": [
      "c:\\Users\\User\\.conda\\envs\\energy\\Lib\\site-packages\\sklearn\\linear_model\\_coordinate_descent.py:697: ConvergenceWarning: Objective did not converge. You might want to increase the number of iterations, check the scale of the features or consider increasing regularisation. Duality gap: 2.799e+04, tolerance: 1.608e+04\n",
      "  model = cd_fast.enet_coordinate_descent(\n"
     ]
    },
    {
     "name": "stdout",
     "output_type": "stream",
     "text": [
      "[CV 3/5] END final_estimator__alpha=0.0001, final_estimator__fit_intercept=False, final_estimator__l1_ratio=0.5, final_estimator__max_iter=1000, final_estimator__random_state=42, final_estimator__selection=random, final_estimator__tol=0.01;, score=-2.192 total time=  20.4s\n"
     ]
    },
    {
     "name": "stderr",
     "output_type": "stream",
     "text": [
      "c:\\Users\\User\\.conda\\envs\\energy\\Lib\\site-packages\\sklearn\\linear_model\\_coordinate_descent.py:697: ConvergenceWarning: Objective did not converge. You might want to increase the number of iterations, check the scale of the features or consider increasing regularisation. Duality gap: 2.852e+04, tolerance: 1.614e+04\n",
      "  model = cd_fast.enet_coordinate_descent(\n"
     ]
    },
    {
     "name": "stdout",
     "output_type": "stream",
     "text": [
      "[CV 4/5] END final_estimator__alpha=0.0001, final_estimator__fit_intercept=False, final_estimator__l1_ratio=0.5, final_estimator__max_iter=1000, final_estimator__random_state=42, final_estimator__selection=random, final_estimator__tol=0.01;, score=-2.142 total time=  19.2s\n"
     ]
    },
    {
     "name": "stderr",
     "output_type": "stream",
     "text": [
      "c:\\Users\\User\\.conda\\envs\\energy\\Lib\\site-packages\\sklearn\\linear_model\\_coordinate_descent.py:697: ConvergenceWarning: Objective did not converge. You might want to increase the number of iterations, check the scale of the features or consider increasing regularisation. Duality gap: 2.736e+04, tolerance: 1.609e+04\n",
      "  model = cd_fast.enet_coordinate_descent(\n"
     ]
    },
    {
     "name": "stdout",
     "output_type": "stream",
     "text": [
      "[CV 5/5] END final_estimator__alpha=0.0001, final_estimator__fit_intercept=False, final_estimator__l1_ratio=0.5, final_estimator__max_iter=1000, final_estimator__random_state=42, final_estimator__selection=random, final_estimator__tol=0.01;, score=-2.293 total time=  20.4s\n"
     ]
    },
    {
     "name": "stderr",
     "output_type": "stream",
     "text": [
      "c:\\Users\\User\\.conda\\envs\\energy\\Lib\\site-packages\\sklearn\\linear_model\\_coordinate_descent.py:697: ConvergenceWarning: Objective did not converge. You might want to increase the number of iterations, check the scale of the features or consider increasing regularisation. Duality gap: 1.900e+04, tolerance: 1.615e+02\n",
      "  model = cd_fast.enet_coordinate_descent(\n"
     ]
    },
    {
     "name": "stdout",
     "output_type": "stream",
     "text": [
      "[CV 1/5] END final_estimator__alpha=0.0001, final_estimator__fit_intercept=False, final_estimator__l1_ratio=0.5, final_estimator__max_iter=2000, final_estimator__random_state=42, final_estimator__selection=cyclic, final_estimator__tol=0.0001;, score=-2.196 total time=  18.7s\n"
     ]
    },
    {
     "name": "stderr",
     "output_type": "stream",
     "text": [
      "c:\\Users\\User\\.conda\\envs\\energy\\Lib\\site-packages\\sklearn\\linear_model\\_coordinate_descent.py:697: ConvergenceWarning: Objective did not converge. You might want to increase the number of iterations, check the scale of the features or consider increasing regularisation. Duality gap: 1.954e+04, tolerance: 1.598e+02\n",
      "  model = cd_fast.enet_coordinate_descent(\n"
     ]
    },
    {
     "name": "stdout",
     "output_type": "stream",
     "text": [
      "[CV 2/5] END final_estimator__alpha=0.0001, final_estimator__fit_intercept=False, final_estimator__l1_ratio=0.5, final_estimator__max_iter=2000, final_estimator__random_state=42, final_estimator__selection=cyclic, final_estimator__tol=0.0001;, score=-2.336 total time=  21.4s\n"
     ]
    },
    {
     "name": "stderr",
     "output_type": "stream",
     "text": [
      "c:\\Users\\User\\.conda\\envs\\energy\\Lib\\site-packages\\sklearn\\linear_model\\_coordinate_descent.py:697: ConvergenceWarning: Objective did not converge. You might want to increase the number of iterations, check the scale of the features or consider increasing regularisation. Duality gap: 2.317e+04, tolerance: 1.608e+02\n",
      "  model = cd_fast.enet_coordinate_descent(\n"
     ]
    },
    {
     "name": "stdout",
     "output_type": "stream",
     "text": [
      "[CV 3/5] END final_estimator__alpha=0.0001, final_estimator__fit_intercept=False, final_estimator__l1_ratio=0.5, final_estimator__max_iter=2000, final_estimator__random_state=42, final_estimator__selection=cyclic, final_estimator__tol=0.0001;, score=-2.179 total time=  24.6s\n"
     ]
    },
    {
     "name": "stderr",
     "output_type": "stream",
     "text": [
      "c:\\Users\\User\\.conda\\envs\\energy\\Lib\\site-packages\\sklearn\\linear_model\\_coordinate_descent.py:697: ConvergenceWarning: Objective did not converge. You might want to increase the number of iterations, check the scale of the features or consider increasing regularisation. Duality gap: 1.812e+04, tolerance: 1.614e+02\n",
      "  model = cd_fast.enet_coordinate_descent(\n"
     ]
    },
    {
     "name": "stdout",
     "output_type": "stream",
     "text": [
      "[CV 4/5] END final_estimator__alpha=0.0001, final_estimator__fit_intercept=False, final_estimator__l1_ratio=0.5, final_estimator__max_iter=2000, final_estimator__random_state=42, final_estimator__selection=cyclic, final_estimator__tol=0.0001;, score=-2.172 total time=  19.2s\n"
     ]
    },
    {
     "name": "stderr",
     "output_type": "stream",
     "text": [
      "c:\\Users\\User\\.conda\\envs\\energy\\Lib\\site-packages\\sklearn\\linear_model\\_coordinate_descent.py:697: ConvergenceWarning: Objective did not converge. You might want to increase the number of iterations, check the scale of the features or consider increasing regularisation. Duality gap: 1.832e+04, tolerance: 1.609e+02\n",
      "  model = cd_fast.enet_coordinate_descent(\n"
     ]
    },
    {
     "name": "stdout",
     "output_type": "stream",
     "text": [
      "[CV 5/5] END final_estimator__alpha=0.0001, final_estimator__fit_intercept=False, final_estimator__l1_ratio=0.5, final_estimator__max_iter=2000, final_estimator__random_state=42, final_estimator__selection=cyclic, final_estimator__tol=0.0001;, score=-2.287 total time=  18.4s\n"
     ]
    },
    {
     "name": "stderr",
     "output_type": "stream",
     "text": [
      "c:\\Users\\User\\.conda\\envs\\energy\\Lib\\site-packages\\sklearn\\linear_model\\_coordinate_descent.py:697: ConvergenceWarning: Objective did not converge. You might want to increase the number of iterations, check the scale of the features or consider increasing regularisation. Duality gap: 1.674e+04, tolerance: 1.615e+03\n",
      "  model = cd_fast.enet_coordinate_descent(\n"
     ]
    },
    {
     "name": "stdout",
     "output_type": "stream",
     "text": [
      "[CV 1/5] END final_estimator__alpha=0.0001, final_estimator__fit_intercept=False, final_estimator__l1_ratio=0.5, final_estimator__max_iter=2000, final_estimator__random_state=42, final_estimator__selection=cyclic, final_estimator__tol=0.001;, score=-2.192 total time=  23.4s\n"
     ]
    },
    {
     "name": "stderr",
     "output_type": "stream",
     "text": [
      "c:\\Users\\User\\.conda\\envs\\energy\\Lib\\site-packages\\sklearn\\linear_model\\_coordinate_descent.py:697: ConvergenceWarning: Objective did not converge. You might want to increase the number of iterations, check the scale of the features or consider increasing regularisation. Duality gap: 1.979e+04, tolerance: 1.598e+03\n",
      "  model = cd_fast.enet_coordinate_descent(\n"
     ]
    },
    {
     "name": "stdout",
     "output_type": "stream",
     "text": [
      "[CV 2/5] END final_estimator__alpha=0.0001, final_estimator__fit_intercept=False, final_estimator__l1_ratio=0.5, final_estimator__max_iter=2000, final_estimator__random_state=42, final_estimator__selection=cyclic, final_estimator__tol=0.001;, score=-2.346 total time=  19.8s\n"
     ]
    },
    {
     "name": "stderr",
     "output_type": "stream",
     "text": [
      "c:\\Users\\User\\.conda\\envs\\energy\\Lib\\site-packages\\sklearn\\linear_model\\_coordinate_descent.py:697: ConvergenceWarning: Objective did not converge. You might want to increase the number of iterations, check the scale of the features or consider increasing regularisation. Duality gap: 2.190e+04, tolerance: 1.608e+03\n",
      "  model = cd_fast.enet_coordinate_descent(\n"
     ]
    },
    {
     "name": "stdout",
     "output_type": "stream",
     "text": [
      "[CV 3/5] END final_estimator__alpha=0.0001, final_estimator__fit_intercept=False, final_estimator__l1_ratio=0.5, final_estimator__max_iter=2000, final_estimator__random_state=42, final_estimator__selection=cyclic, final_estimator__tol=0.001;, score=-2.202 total time=  22.2s\n"
     ]
    },
    {
     "name": "stderr",
     "output_type": "stream",
     "text": [
      "c:\\Users\\User\\.conda\\envs\\energy\\Lib\\site-packages\\sklearn\\linear_model\\_coordinate_descent.py:697: ConvergenceWarning: Objective did not converge. You might want to increase the number of iterations, check the scale of the features or consider increasing regularisation. Duality gap: 1.885e+04, tolerance: 1.614e+03\n",
      "  model = cd_fast.enet_coordinate_descent(\n"
     ]
    },
    {
     "name": "stdout",
     "output_type": "stream",
     "text": [
      "[CV 4/5] END final_estimator__alpha=0.0001, final_estimator__fit_intercept=False, final_estimator__l1_ratio=0.5, final_estimator__max_iter=2000, final_estimator__random_state=42, final_estimator__selection=cyclic, final_estimator__tol=0.001;, score=-2.187 total time=  17.9s\n"
     ]
    },
    {
     "name": "stderr",
     "output_type": "stream",
     "text": [
      "c:\\Users\\User\\.conda\\envs\\energy\\Lib\\site-packages\\sklearn\\linear_model\\_coordinate_descent.py:697: ConvergenceWarning: Objective did not converge. You might want to increase the number of iterations, check the scale of the features or consider increasing regularisation. Duality gap: 1.877e+04, tolerance: 1.609e+03\n",
      "  model = cd_fast.enet_coordinate_descent(\n"
     ]
    },
    {
     "name": "stdout",
     "output_type": "stream",
     "text": [
      "[CV 5/5] END final_estimator__alpha=0.0001, final_estimator__fit_intercept=False, final_estimator__l1_ratio=0.5, final_estimator__max_iter=2000, final_estimator__random_state=42, final_estimator__selection=cyclic, final_estimator__tol=0.001;, score=-2.289 total time=  22.8s\n"
     ]
    },
    {
     "name": "stderr",
     "output_type": "stream",
     "text": [
      "c:\\Users\\User\\.conda\\envs\\energy\\Lib\\site-packages\\sklearn\\linear_model\\_coordinate_descent.py:697: ConvergenceWarning: Objective did not converge. You might want to increase the number of iterations, check the scale of the features or consider increasing regularisation. Duality gap: 2.287e+04, tolerance: 1.615e+04\n",
      "  model = cd_fast.enet_coordinate_descent(\n"
     ]
    },
    {
     "name": "stdout",
     "output_type": "stream",
     "text": [
      "[CV 1/5] END final_estimator__alpha=0.0001, final_estimator__fit_intercept=False, final_estimator__l1_ratio=0.5, final_estimator__max_iter=2000, final_estimator__random_state=42, final_estimator__selection=cyclic, final_estimator__tol=0.01;, score=-2.150 total time=  28.7s\n",
      "[CV 2/5] END final_estimator__alpha=0.0001, final_estimator__fit_intercept=False, final_estimator__l1_ratio=0.5, final_estimator__max_iter=2000, final_estimator__random_state=42, final_estimator__selection=cyclic, final_estimator__tol=0.01;, score=-2.329 total time=  19.8s\n"
     ]
    },
    {
     "name": "stderr",
     "output_type": "stream",
     "text": [
      "c:\\Users\\User\\.conda\\envs\\energy\\Lib\\site-packages\\sklearn\\linear_model\\_coordinate_descent.py:697: ConvergenceWarning: Objective did not converge. You might want to increase the number of iterations, check the scale of the features or consider increasing regularisation. Duality gap: 2.012e+04, tolerance: 1.608e+04\n",
      "  model = cd_fast.enet_coordinate_descent(\n"
     ]
    },
    {
     "name": "stdout",
     "output_type": "stream",
     "text": [
      "[CV 3/5] END final_estimator__alpha=0.0001, final_estimator__fit_intercept=False, final_estimator__l1_ratio=0.5, final_estimator__max_iter=2000, final_estimator__random_state=42, final_estimator__selection=cyclic, final_estimator__tol=0.01;, score=-2.186 total time=  22.7s\n"
     ]
    },
    {
     "name": "stderr",
     "output_type": "stream",
     "text": [
      "c:\\Users\\User\\.conda\\envs\\energy\\Lib\\site-packages\\sklearn\\linear_model\\_coordinate_descent.py:697: ConvergenceWarning: Objective did not converge. You might want to increase the number of iterations, check the scale of the features or consider increasing regularisation. Duality gap: 1.777e+04, tolerance: 1.614e+04\n",
      "  model = cd_fast.enet_coordinate_descent(\n"
     ]
    },
    {
     "name": "stdout",
     "output_type": "stream",
     "text": [
      "[CV 4/5] END final_estimator__alpha=0.0001, final_estimator__fit_intercept=False, final_estimator__l1_ratio=0.5, final_estimator__max_iter=2000, final_estimator__random_state=42, final_estimator__selection=cyclic, final_estimator__tol=0.01;, score=-2.173 total time=  17.5s\n"
     ]
    },
    {
     "name": "stderr",
     "output_type": "stream",
     "text": [
      "c:\\Users\\User\\.conda\\envs\\energy\\Lib\\site-packages\\sklearn\\linear_model\\_coordinate_descent.py:697: ConvergenceWarning: Objective did not converge. You might want to increase the number of iterations, check the scale of the features or consider increasing regularisation. Duality gap: 1.885e+04, tolerance: 1.609e+04\n",
      "  model = cd_fast.enet_coordinate_descent(\n"
     ]
    },
    {
     "name": "stdout",
     "output_type": "stream",
     "text": [
      "[CV 5/5] END final_estimator__alpha=0.0001, final_estimator__fit_intercept=False, final_estimator__l1_ratio=0.5, final_estimator__max_iter=2000, final_estimator__random_state=42, final_estimator__selection=cyclic, final_estimator__tol=0.01;, score=-2.297 total time=  21.9s\n"
     ]
    },
    {
     "name": "stderr",
     "output_type": "stream",
     "text": [
      "c:\\Users\\User\\.conda\\envs\\energy\\Lib\\site-packages\\sklearn\\linear_model\\_coordinate_descent.py:697: ConvergenceWarning: Objective did not converge. You might want to increase the number of iterations, check the scale of the features or consider increasing regularisation. Duality gap: 2.902e+04, tolerance: 1.615e+02\n",
      "  model = cd_fast.enet_coordinate_descent(\n"
     ]
    },
    {
     "name": "stdout",
     "output_type": "stream",
     "text": [
      "[CV 1/5] END final_estimator__alpha=0.0001, final_estimator__fit_intercept=False, final_estimator__l1_ratio=0.5, final_estimator__max_iter=2000, final_estimator__random_state=42, final_estimator__selection=random, final_estimator__tol=0.0001;, score=-2.219 total time=  17.9s\n"
     ]
    },
    {
     "name": "stderr",
     "output_type": "stream",
     "text": [
      "c:\\Users\\User\\.conda\\envs\\energy\\Lib\\site-packages\\sklearn\\linear_model\\_coordinate_descent.py:697: ConvergenceWarning: Objective did not converge. You might want to increase the number of iterations, check the scale of the features or consider increasing regularisation. Duality gap: 2.778e+04, tolerance: 1.598e+02\n",
      "  model = cd_fast.enet_coordinate_descent(\n"
     ]
    },
    {
     "name": "stdout",
     "output_type": "stream",
     "text": [
      "[CV 2/5] END final_estimator__alpha=0.0001, final_estimator__fit_intercept=False, final_estimator__l1_ratio=0.5, final_estimator__max_iter=2000, final_estimator__random_state=42, final_estimator__selection=random, final_estimator__tol=0.0001;, score=-2.330 total time=  18.5s\n"
     ]
    },
    {
     "name": "stderr",
     "output_type": "stream",
     "text": [
      "c:\\Users\\User\\.conda\\envs\\energy\\Lib\\site-packages\\sklearn\\linear_model\\_coordinate_descent.py:697: ConvergenceWarning: Objective did not converge. You might want to increase the number of iterations, check the scale of the features or consider increasing regularisation. Duality gap: 2.765e+04, tolerance: 1.608e+02\n",
      "  model = cd_fast.enet_coordinate_descent(\n"
     ]
    },
    {
     "name": "stdout",
     "output_type": "stream",
     "text": [
      "[CV 3/5] END final_estimator__alpha=0.0001, final_estimator__fit_intercept=False, final_estimator__l1_ratio=0.5, final_estimator__max_iter=2000, final_estimator__random_state=42, final_estimator__selection=random, final_estimator__tol=0.0001;, score=-2.198 total time=  19.6s\n"
     ]
    },
    {
     "name": "stderr",
     "output_type": "stream",
     "text": [
      "c:\\Users\\User\\.conda\\envs\\energy\\Lib\\site-packages\\sklearn\\linear_model\\_coordinate_descent.py:697: ConvergenceWarning: Objective did not converge. You might want to increase the number of iterations, check the scale of the features or consider increasing regularisation. Duality gap: 2.815e+04, tolerance: 1.614e+02\n",
      "  model = cd_fast.enet_coordinate_descent(\n"
     ]
    },
    {
     "name": "stdout",
     "output_type": "stream",
     "text": [
      "[CV 4/5] END final_estimator__alpha=0.0001, final_estimator__fit_intercept=False, final_estimator__l1_ratio=0.5, final_estimator__max_iter=2000, final_estimator__random_state=42, final_estimator__selection=random, final_estimator__tol=0.0001;, score=-2.151 total time=  21.6s\n"
     ]
    },
    {
     "name": "stderr",
     "output_type": "stream",
     "text": [
      "c:\\Users\\User\\.conda\\envs\\energy\\Lib\\site-packages\\sklearn\\linear_model\\_coordinate_descent.py:697: ConvergenceWarning: Objective did not converge. You might want to increase the number of iterations, check the scale of the features or consider increasing regularisation. Duality gap: 2.733e+04, tolerance: 1.609e+02\n",
      "  model = cd_fast.enet_coordinate_descent(\n"
     ]
    },
    {
     "name": "stdout",
     "output_type": "stream",
     "text": [
      "[CV 5/5] END final_estimator__alpha=0.0001, final_estimator__fit_intercept=False, final_estimator__l1_ratio=0.5, final_estimator__max_iter=2000, final_estimator__random_state=42, final_estimator__selection=random, final_estimator__tol=0.0001;, score=-2.302 total time=  18.0s\n"
     ]
    },
    {
     "name": "stderr",
     "output_type": "stream",
     "text": [
      "c:\\Users\\User\\.conda\\envs\\energy\\Lib\\site-packages\\sklearn\\linear_model\\_coordinate_descent.py:697: ConvergenceWarning: Objective did not converge. You might want to increase the number of iterations, check the scale of the features or consider increasing regularisation. Duality gap: 2.909e+04, tolerance: 1.615e+03\n",
      "  model = cd_fast.enet_coordinate_descent(\n"
     ]
    },
    {
     "name": "stdout",
     "output_type": "stream",
     "text": [
      "[CV 1/5] END final_estimator__alpha=0.0001, final_estimator__fit_intercept=False, final_estimator__l1_ratio=0.5, final_estimator__max_iter=2000, final_estimator__random_state=42, final_estimator__selection=random, final_estimator__tol=0.001;, score=-2.185 total time=  22.0s\n"
     ]
    },
    {
     "name": "stderr",
     "output_type": "stream",
     "text": [
      "c:\\Users\\User\\.conda\\envs\\energy\\Lib\\site-packages\\sklearn\\linear_model\\_coordinate_descent.py:697: ConvergenceWarning: Objective did not converge. You might want to increase the number of iterations, check the scale of the features or consider increasing regularisation. Duality gap: 2.771e+04, tolerance: 1.598e+03\n",
      "  model = cd_fast.enet_coordinate_descent(\n"
     ]
    },
    {
     "name": "stdout",
     "output_type": "stream",
     "text": [
      "[CV 2/5] END final_estimator__alpha=0.0001, final_estimator__fit_intercept=False, final_estimator__l1_ratio=0.5, final_estimator__max_iter=2000, final_estimator__random_state=42, final_estimator__selection=random, final_estimator__tol=0.001;, score=-2.336 total time=  20.2s\n"
     ]
    },
    {
     "name": "stderr",
     "output_type": "stream",
     "text": [
      "c:\\Users\\User\\.conda\\envs\\energy\\Lib\\site-packages\\sklearn\\linear_model\\_coordinate_descent.py:697: ConvergenceWarning: Objective did not converge. You might want to increase the number of iterations, check the scale of the features or consider increasing regularisation. Duality gap: 2.763e+04, tolerance: 1.608e+03\n",
      "  model = cd_fast.enet_coordinate_descent(\n"
     ]
    },
    {
     "name": "stdout",
     "output_type": "stream",
     "text": [
      "[CV 3/5] END final_estimator__alpha=0.0001, final_estimator__fit_intercept=False, final_estimator__l1_ratio=0.5, final_estimator__max_iter=2000, final_estimator__random_state=42, final_estimator__selection=random, final_estimator__tol=0.001;, score=-2.194 total time=  20.9s\n"
     ]
    },
    {
     "name": "stderr",
     "output_type": "stream",
     "text": [
      "c:\\Users\\User\\.conda\\envs\\energy\\Lib\\site-packages\\sklearn\\linear_model\\_coordinate_descent.py:697: ConvergenceWarning: Objective did not converge. You might want to increase the number of iterations, check the scale of the features or consider increasing regularisation. Duality gap: 2.838e+04, tolerance: 1.614e+03\n",
      "  model = cd_fast.enet_coordinate_descent(\n"
     ]
    },
    {
     "name": "stdout",
     "output_type": "stream",
     "text": [
      "[CV 4/5] END final_estimator__alpha=0.0001, final_estimator__fit_intercept=False, final_estimator__l1_ratio=0.5, final_estimator__max_iter=2000, final_estimator__random_state=42, final_estimator__selection=random, final_estimator__tol=0.001;, score=-2.154 total time=  22.5s\n"
     ]
    },
    {
     "name": "stderr",
     "output_type": "stream",
     "text": [
      "c:\\Users\\User\\.conda\\envs\\energy\\Lib\\site-packages\\sklearn\\linear_model\\_coordinate_descent.py:697: ConvergenceWarning: Objective did not converge. You might want to increase the number of iterations, check the scale of the features or consider increasing regularisation. Duality gap: 2.739e+04, tolerance: 1.609e+03\n",
      "  model = cd_fast.enet_coordinate_descent(\n"
     ]
    },
    {
     "name": "stdout",
     "output_type": "stream",
     "text": [
      "[CV 5/5] END final_estimator__alpha=0.0001, final_estimator__fit_intercept=False, final_estimator__l1_ratio=0.5, final_estimator__max_iter=2000, final_estimator__random_state=42, final_estimator__selection=random, final_estimator__tol=0.001;, score=-2.285 total time=  20.9s\n"
     ]
    },
    {
     "name": "stderr",
     "output_type": "stream",
     "text": [
      "c:\\Users\\User\\.conda\\envs\\energy\\Lib\\site-packages\\sklearn\\linear_model\\_coordinate_descent.py:697: ConvergenceWarning: Objective did not converge. You might want to increase the number of iterations, check the scale of the features or consider increasing regularisation. Duality gap: 2.905e+04, tolerance: 1.615e+04\n",
      "  model = cd_fast.enet_coordinate_descent(\n"
     ]
    },
    {
     "name": "stdout",
     "output_type": "stream",
     "text": [
      "[CV 1/5] END final_estimator__alpha=0.0001, final_estimator__fit_intercept=False, final_estimator__l1_ratio=0.5, final_estimator__max_iter=2000, final_estimator__random_state=42, final_estimator__selection=random, final_estimator__tol=0.01;, score=-2.188 total time=  19.2s\n"
     ]
    },
    {
     "name": "stderr",
     "output_type": "stream",
     "text": [
      "c:\\Users\\User\\.conda\\envs\\energy\\Lib\\site-packages\\sklearn\\linear_model\\_coordinate_descent.py:697: ConvergenceWarning: Objective did not converge. You might want to increase the number of iterations, check the scale of the features or consider increasing regularisation. Duality gap: 2.787e+04, tolerance: 1.598e+04\n",
      "  model = cd_fast.enet_coordinate_descent(\n"
     ]
    },
    {
     "name": "stdout",
     "output_type": "stream",
     "text": [
      "[CV 2/5] END final_estimator__alpha=0.0001, final_estimator__fit_intercept=False, final_estimator__l1_ratio=0.5, final_estimator__max_iter=2000, final_estimator__random_state=42, final_estimator__selection=random, final_estimator__tol=0.01;, score=-2.342 total time=  16.7s\n"
     ]
    },
    {
     "name": "stderr",
     "output_type": "stream",
     "text": [
      "c:\\Users\\User\\.conda\\envs\\energy\\Lib\\site-packages\\sklearn\\linear_model\\_coordinate_descent.py:697: ConvergenceWarning: Objective did not converge. You might want to increase the number of iterations, check the scale of the features or consider increasing regularisation. Duality gap: 2.760e+04, tolerance: 1.608e+04\n",
      "  model = cd_fast.enet_coordinate_descent(\n"
     ]
    },
    {
     "name": "stdout",
     "output_type": "stream",
     "text": [
      "[CV 3/5] END final_estimator__alpha=0.0001, final_estimator__fit_intercept=False, final_estimator__l1_ratio=0.5, final_estimator__max_iter=2000, final_estimator__random_state=42, final_estimator__selection=random, final_estimator__tol=0.01;, score=-2.208 total time=  19.3s\n"
     ]
    },
    {
     "name": "stderr",
     "output_type": "stream",
     "text": [
      "c:\\Users\\User\\.conda\\envs\\energy\\Lib\\site-packages\\sklearn\\linear_model\\_coordinate_descent.py:697: ConvergenceWarning: Objective did not converge. You might want to increase the number of iterations, check the scale of the features or consider increasing regularisation. Duality gap: 2.833e+04, tolerance: 1.614e+04\n",
      "  model = cd_fast.enet_coordinate_descent(\n"
     ]
    },
    {
     "name": "stdout",
     "output_type": "stream",
     "text": [
      "[CV 4/5] END final_estimator__alpha=0.0001, final_estimator__fit_intercept=False, final_estimator__l1_ratio=0.5, final_estimator__max_iter=2000, final_estimator__random_state=42, final_estimator__selection=random, final_estimator__tol=0.01;, score=-2.168 total time=  19.6s\n"
     ]
    },
    {
     "name": "stderr",
     "output_type": "stream",
     "text": [
      "c:\\Users\\User\\.conda\\envs\\energy\\Lib\\site-packages\\sklearn\\linear_model\\_coordinate_descent.py:697: ConvergenceWarning: Objective did not converge. You might want to increase the number of iterations, check the scale of the features or consider increasing regularisation. Duality gap: 2.745e+04, tolerance: 1.609e+04\n",
      "  model = cd_fast.enet_coordinate_descent(\n"
     ]
    },
    {
     "name": "stdout",
     "output_type": "stream",
     "text": [
      "[CV 5/5] END final_estimator__alpha=0.0001, final_estimator__fit_intercept=False, final_estimator__l1_ratio=0.5, final_estimator__max_iter=2000, final_estimator__random_state=42, final_estimator__selection=random, final_estimator__tol=0.01;, score=-2.293 total time=  16.8s\n"
     ]
    },
    {
     "name": "stderr",
     "output_type": "stream",
     "text": [
      "c:\\Users\\User\\.conda\\envs\\energy\\Lib\\site-packages\\sklearn\\linear_model\\_coordinate_descent.py:697: ConvergenceWarning: Objective did not converge. You might want to increase the number of iterations, check the scale of the features or consider increasing regularisation. Duality gap: 2.878e+04, tolerance: 1.615e+02\n",
      "  model = cd_fast.enet_coordinate_descent(\n"
     ]
    },
    {
     "name": "stdout",
     "output_type": "stream",
     "text": [
      "[CV 1/5] END final_estimator__alpha=0.0001, final_estimator__fit_intercept=False, final_estimator__l1_ratio=0.7, final_estimator__max_iter=1000, final_estimator__random_state=42, final_estimator__selection=cyclic, final_estimator__tol=0.0001;, score=-2.188 total time=  26.3s\n"
     ]
    },
    {
     "name": "stderr",
     "output_type": "stream",
     "text": [
      "c:\\Users\\User\\.conda\\envs\\energy\\Lib\\site-packages\\sklearn\\linear_model\\_coordinate_descent.py:697: ConvergenceWarning: Objective did not converge. You might want to increase the number of iterations, check the scale of the features or consider increasing regularisation. Duality gap: 2.769e+04, tolerance: 1.598e+02\n",
      "  model = cd_fast.enet_coordinate_descent(\n"
     ]
    },
    {
     "name": "stdout",
     "output_type": "stream",
     "text": [
      "[CV 2/5] END final_estimator__alpha=0.0001, final_estimator__fit_intercept=False, final_estimator__l1_ratio=0.7, final_estimator__max_iter=1000, final_estimator__random_state=42, final_estimator__selection=cyclic, final_estimator__tol=0.0001;, score=-2.331 total time=  22.4s\n"
     ]
    },
    {
     "name": "stderr",
     "output_type": "stream",
     "text": [
      "c:\\Users\\User\\.conda\\envs\\energy\\Lib\\site-packages\\sklearn\\linear_model\\_coordinate_descent.py:697: ConvergenceWarning: Objective did not converge. You might want to increase the number of iterations, check the scale of the features or consider increasing regularisation. Duality gap: 2.759e+04, tolerance: 1.608e+02\n",
      "  model = cd_fast.enet_coordinate_descent(\n"
     ]
    },
    {
     "name": "stdout",
     "output_type": "stream",
     "text": [
      "[CV 3/5] END final_estimator__alpha=0.0001, final_estimator__fit_intercept=False, final_estimator__l1_ratio=0.7, final_estimator__max_iter=1000, final_estimator__random_state=42, final_estimator__selection=cyclic, final_estimator__tol=0.0001;, score=-2.203 total time=  19.9s\n"
     ]
    },
    {
     "name": "stderr",
     "output_type": "stream",
     "text": [
      "c:\\Users\\User\\.conda\\envs\\energy\\Lib\\site-packages\\sklearn\\linear_model\\_coordinate_descent.py:697: ConvergenceWarning: Objective did not converge. You might want to increase the number of iterations, check the scale of the features or consider increasing regularisation. Duality gap: 2.793e+04, tolerance: 1.614e+02\n",
      "  model = cd_fast.enet_coordinate_descent(\n"
     ]
    },
    {
     "name": "stdout",
     "output_type": "stream",
     "text": [
      "[CV 4/5] END final_estimator__alpha=0.0001, final_estimator__fit_intercept=False, final_estimator__l1_ratio=0.7, final_estimator__max_iter=1000, final_estimator__random_state=42, final_estimator__selection=cyclic, final_estimator__tol=0.0001;, score=-2.177 total time=  19.0s\n"
     ]
    },
    {
     "name": "stderr",
     "output_type": "stream",
     "text": [
      "c:\\Users\\User\\.conda\\envs\\energy\\Lib\\site-packages\\sklearn\\linear_model\\_coordinate_descent.py:697: ConvergenceWarning: Objective did not converge. You might want to increase the number of iterations, check the scale of the features or consider increasing regularisation. Duality gap: 2.714e+04, tolerance: 1.609e+02\n",
      "  model = cd_fast.enet_coordinate_descent(\n"
     ]
    },
    {
     "name": "stdout",
     "output_type": "stream",
     "text": [
      "[CV 5/5] END final_estimator__alpha=0.0001, final_estimator__fit_intercept=False, final_estimator__l1_ratio=0.7, final_estimator__max_iter=1000, final_estimator__random_state=42, final_estimator__selection=cyclic, final_estimator__tol=0.0001;, score=-2.287 total time=  19.3s\n"
     ]
    },
    {
     "name": "stderr",
     "output_type": "stream",
     "text": [
      "c:\\Users\\User\\.conda\\envs\\energy\\Lib\\site-packages\\sklearn\\linear_model\\_coordinate_descent.py:697: ConvergenceWarning: Objective did not converge. You might want to increase the number of iterations, check the scale of the features or consider increasing regularisation. Duality gap: 2.884e+04, tolerance: 1.615e+03\n",
      "  model = cd_fast.enet_coordinate_descent(\n"
     ]
    },
    {
     "name": "stdout",
     "output_type": "stream",
     "text": [
      "[CV 1/5] END final_estimator__alpha=0.0001, final_estimator__fit_intercept=False, final_estimator__l1_ratio=0.7, final_estimator__max_iter=1000, final_estimator__random_state=42, final_estimator__selection=cyclic, final_estimator__tol=0.001;, score=-2.190 total time=  18.9s\n"
     ]
    },
    {
     "name": "stderr",
     "output_type": "stream",
     "text": [
      "c:\\Users\\User\\.conda\\envs\\energy\\Lib\\site-packages\\sklearn\\linear_model\\_coordinate_descent.py:697: ConvergenceWarning: Objective did not converge. You might want to increase the number of iterations, check the scale of the features or consider increasing regularisation. Duality gap: 2.764e+04, tolerance: 1.598e+03\n",
      "  model = cd_fast.enet_coordinate_descent(\n"
     ]
    },
    {
     "name": "stdout",
     "output_type": "stream",
     "text": [
      "[CV 2/5] END final_estimator__alpha=0.0001, final_estimator__fit_intercept=False, final_estimator__l1_ratio=0.7, final_estimator__max_iter=1000, final_estimator__random_state=42, final_estimator__selection=cyclic, final_estimator__tol=0.001;, score=-2.351 total time=  23.2s\n"
     ]
    },
    {
     "name": "stderr",
     "output_type": "stream",
     "text": [
      "c:\\Users\\User\\.conda\\envs\\energy\\Lib\\site-packages\\sklearn\\linear_model\\_coordinate_descent.py:697: ConvergenceWarning: Objective did not converge. You might want to increase the number of iterations, check the scale of the features or consider increasing regularisation. Duality gap: 2.763e+04, tolerance: 1.608e+03\n",
      "  model = cd_fast.enet_coordinate_descent(\n"
     ]
    },
    {
     "name": "stdout",
     "output_type": "stream",
     "text": [
      "[CV 3/5] END final_estimator__alpha=0.0001, final_estimator__fit_intercept=False, final_estimator__l1_ratio=0.7, final_estimator__max_iter=1000, final_estimator__random_state=42, final_estimator__selection=cyclic, final_estimator__tol=0.001;, score=-2.206 total time=  18.5s\n"
     ]
    },
    {
     "name": "stderr",
     "output_type": "stream",
     "text": [
      "c:\\Users\\User\\.conda\\envs\\energy\\Lib\\site-packages\\sklearn\\linear_model\\_coordinate_descent.py:697: ConvergenceWarning: Objective did not converge. You might want to increase the number of iterations, check the scale of the features or consider increasing regularisation. Duality gap: 2.809e+04, tolerance: 1.614e+03\n",
      "  model = cd_fast.enet_coordinate_descent(\n"
     ]
    },
    {
     "name": "stdout",
     "output_type": "stream",
     "text": [
      "[CV 4/5] END final_estimator__alpha=0.0001, final_estimator__fit_intercept=False, final_estimator__l1_ratio=0.7, final_estimator__max_iter=1000, final_estimator__random_state=42, final_estimator__selection=cyclic, final_estimator__tol=0.001;, score=-2.152 total time=  23.1s\n"
     ]
    },
    {
     "name": "stderr",
     "output_type": "stream",
     "text": [
      "c:\\Users\\User\\.conda\\envs\\energy\\Lib\\site-packages\\sklearn\\linear_model\\_coordinate_descent.py:697: ConvergenceWarning: Objective did not converge. You might want to increase the number of iterations, check the scale of the features or consider increasing regularisation. Duality gap: 2.724e+04, tolerance: 1.609e+03\n",
      "  model = cd_fast.enet_coordinate_descent(\n"
     ]
    },
    {
     "name": "stdout",
     "output_type": "stream",
     "text": [
      "[CV 5/5] END final_estimator__alpha=0.0001, final_estimator__fit_intercept=False, final_estimator__l1_ratio=0.7, final_estimator__max_iter=1000, final_estimator__random_state=42, final_estimator__selection=cyclic, final_estimator__tol=0.001;, score=-2.294 total time=  19.9s\n"
     ]
    },
    {
     "name": "stderr",
     "output_type": "stream",
     "text": [
      "c:\\Users\\User\\.conda\\envs\\energy\\Lib\\site-packages\\sklearn\\linear_model\\_coordinate_descent.py:697: ConvergenceWarning: Objective did not converge. You might want to increase the number of iterations, check the scale of the features or consider increasing regularisation. Duality gap: 2.899e+04, tolerance: 1.615e+04\n",
      "  model = cd_fast.enet_coordinate_descent(\n"
     ]
    },
    {
     "name": "stdout",
     "output_type": "stream",
     "text": [
      "[CV 1/5] END final_estimator__alpha=0.0001, final_estimator__fit_intercept=False, final_estimator__l1_ratio=0.7, final_estimator__max_iter=1000, final_estimator__random_state=42, final_estimator__selection=cyclic, final_estimator__tol=0.01;, score=-2.181 total time=  21.7s\n"
     ]
    },
    {
     "name": "stderr",
     "output_type": "stream",
     "text": [
      "c:\\Users\\User\\.conda\\envs\\energy\\Lib\\site-packages\\sklearn\\linear_model\\_coordinate_descent.py:697: ConvergenceWarning: Objective did not converge. You might want to increase the number of iterations, check the scale of the features or consider increasing regularisation. Duality gap: 2.764e+04, tolerance: 1.598e+04\n",
      "  model = cd_fast.enet_coordinate_descent(\n"
     ]
    },
    {
     "name": "stdout",
     "output_type": "stream",
     "text": [
      "[CV 2/5] END final_estimator__alpha=0.0001, final_estimator__fit_intercept=False, final_estimator__l1_ratio=0.7, final_estimator__max_iter=1000, final_estimator__random_state=42, final_estimator__selection=cyclic, final_estimator__tol=0.01;, score=-2.338 total time=  18.7s\n"
     ]
    },
    {
     "name": "stderr",
     "output_type": "stream",
     "text": [
      "c:\\Users\\User\\.conda\\envs\\energy\\Lib\\site-packages\\sklearn\\linear_model\\_coordinate_descent.py:697: ConvergenceWarning: Objective did not converge. You might want to increase the number of iterations, check the scale of the features or consider increasing regularisation. Duality gap: 2.751e+04, tolerance: 1.608e+04\n",
      "  model = cd_fast.enet_coordinate_descent(\n"
     ]
    },
    {
     "name": "stdout",
     "output_type": "stream",
     "text": [
      "[CV 3/5] END final_estimator__alpha=0.0001, final_estimator__fit_intercept=False, final_estimator__l1_ratio=0.7, final_estimator__max_iter=1000, final_estimator__random_state=42, final_estimator__selection=cyclic, final_estimator__tol=0.01;, score=-2.192 total time=  21.4s\n"
     ]
    },
    {
     "name": "stderr",
     "output_type": "stream",
     "text": [
      "c:\\Users\\User\\.conda\\envs\\energy\\Lib\\site-packages\\sklearn\\linear_model\\_coordinate_descent.py:697: ConvergenceWarning: Objective did not converge. You might want to increase the number of iterations, check the scale of the features or consider increasing regularisation. Duality gap: 2.798e+04, tolerance: 1.614e+04\n",
      "  model = cd_fast.enet_coordinate_descent(\n"
     ]
    },
    {
     "name": "stdout",
     "output_type": "stream",
     "text": [
      "[CV 4/5] END final_estimator__alpha=0.0001, final_estimator__fit_intercept=False, final_estimator__l1_ratio=0.7, final_estimator__max_iter=1000, final_estimator__random_state=42, final_estimator__selection=cyclic, final_estimator__tol=0.01;, score=-2.174 total time=  19.8s\n"
     ]
    },
    {
     "name": "stderr",
     "output_type": "stream",
     "text": [
      "c:\\Users\\User\\.conda\\envs\\energy\\Lib\\site-packages\\sklearn\\linear_model\\_coordinate_descent.py:697: ConvergenceWarning: Objective did not converge. You might want to increase the number of iterations, check the scale of the features or consider increasing regularisation. Duality gap: 2.726e+04, tolerance: 1.609e+04\n",
      "  model = cd_fast.enet_coordinate_descent(\n"
     ]
    },
    {
     "name": "stdout",
     "output_type": "stream",
     "text": [
      "[CV 5/5] END final_estimator__alpha=0.0001, final_estimator__fit_intercept=False, final_estimator__l1_ratio=0.7, final_estimator__max_iter=1000, final_estimator__random_state=42, final_estimator__selection=cyclic, final_estimator__tol=0.01;, score=-2.291 total time=  23.6s\n"
     ]
    },
    {
     "name": "stderr",
     "output_type": "stream",
     "text": [
      "c:\\Users\\User\\.conda\\envs\\energy\\Lib\\site-packages\\sklearn\\linear_model\\_coordinate_descent.py:697: ConvergenceWarning: Objective did not converge. You might want to increase the number of iterations, check the scale of the features or consider increasing regularisation. Duality gap: 2.920e+04, tolerance: 1.615e+02\n",
      "  model = cd_fast.enet_coordinate_descent(\n"
     ]
    },
    {
     "name": "stdout",
     "output_type": "stream",
     "text": [
      "[CV 1/5] END final_estimator__alpha=0.0001, final_estimator__fit_intercept=False, final_estimator__l1_ratio=0.7, final_estimator__max_iter=1000, final_estimator__random_state=42, final_estimator__selection=random, final_estimator__tol=0.0001;, score=-2.194 total time=  19.4s\n"
     ]
    },
    {
     "name": "stderr",
     "output_type": "stream",
     "text": [
      "c:\\Users\\User\\.conda\\envs\\energy\\Lib\\site-packages\\sklearn\\linear_model\\_coordinate_descent.py:697: ConvergenceWarning: Objective did not converge. You might want to increase the number of iterations, check the scale of the features or consider increasing regularisation. Duality gap: 2.789e+04, tolerance: 1.598e+02\n",
      "  model = cd_fast.enet_coordinate_descent(\n"
     ]
    },
    {
     "name": "stdout",
     "output_type": "stream",
     "text": [
      "[CV 2/5] END final_estimator__alpha=0.0001, final_estimator__fit_intercept=False, final_estimator__l1_ratio=0.7, final_estimator__max_iter=1000, final_estimator__random_state=42, final_estimator__selection=random, final_estimator__tol=0.0001;, score=-2.356 total time=  20.0s\n"
     ]
    },
    {
     "name": "stderr",
     "output_type": "stream",
     "text": [
      "c:\\Users\\User\\.conda\\envs\\energy\\Lib\\site-packages\\sklearn\\linear_model\\_coordinate_descent.py:697: ConvergenceWarning: Objective did not converge. You might want to increase the number of iterations, check the scale of the features or consider increasing regularisation. Duality gap: 2.769e+04, tolerance: 1.608e+02\n",
      "  model = cd_fast.enet_coordinate_descent(\n"
     ]
    },
    {
     "name": "stdout",
     "output_type": "stream",
     "text": [
      "[CV 3/5] END final_estimator__alpha=0.0001, final_estimator__fit_intercept=False, final_estimator__l1_ratio=0.7, final_estimator__max_iter=1000, final_estimator__random_state=42, final_estimator__selection=random, final_estimator__tol=0.0001;, score=-2.223 total time=  24.7s\n"
     ]
    },
    {
     "name": "stderr",
     "output_type": "stream",
     "text": [
      "c:\\Users\\User\\.conda\\envs\\energy\\Lib\\site-packages\\sklearn\\linear_model\\_coordinate_descent.py:697: ConvergenceWarning: Objective did not converge. You might want to increase the number of iterations, check the scale of the features or consider increasing regularisation. Duality gap: 2.829e+04, tolerance: 1.614e+02\n",
      "  model = cd_fast.enet_coordinate_descent(\n"
     ]
    },
    {
     "name": "stdout",
     "output_type": "stream",
     "text": [
      "[CV 4/5] END final_estimator__alpha=0.0001, final_estimator__fit_intercept=False, final_estimator__l1_ratio=0.7, final_estimator__max_iter=1000, final_estimator__random_state=42, final_estimator__selection=random, final_estimator__tol=0.0001;, score=-2.173 total time=  24.6s\n"
     ]
    },
    {
     "name": "stderr",
     "output_type": "stream",
     "text": [
      "c:\\Users\\User\\.conda\\envs\\energy\\Lib\\site-packages\\sklearn\\linear_model\\_coordinate_descent.py:697: ConvergenceWarning: Objective did not converge. You might want to increase the number of iterations, check the scale of the features or consider increasing regularisation. Duality gap: 2.733e+04, tolerance: 1.609e+02\n",
      "  model = cd_fast.enet_coordinate_descent(\n"
     ]
    },
    {
     "name": "stdout",
     "output_type": "stream",
     "text": [
      "[CV 5/5] END final_estimator__alpha=0.0001, final_estimator__fit_intercept=False, final_estimator__l1_ratio=0.7, final_estimator__max_iter=1000, final_estimator__random_state=42, final_estimator__selection=random, final_estimator__tol=0.0001;, score=-2.313 total time=  18.5s\n"
     ]
    },
    {
     "name": "stderr",
     "output_type": "stream",
     "text": [
      "c:\\Users\\User\\.conda\\envs\\energy\\Lib\\site-packages\\sklearn\\linear_model\\_coordinate_descent.py:697: ConvergenceWarning: Objective did not converge. You might want to increase the number of iterations, check the scale of the features or consider increasing regularisation. Duality gap: 2.927e+04, tolerance: 1.615e+03\n",
      "  model = cd_fast.enet_coordinate_descent(\n"
     ]
    },
    {
     "name": "stdout",
     "output_type": "stream",
     "text": [
      "[CV 1/5] END final_estimator__alpha=0.0001, final_estimator__fit_intercept=False, final_estimator__l1_ratio=0.7, final_estimator__max_iter=1000, final_estimator__random_state=42, final_estimator__selection=random, final_estimator__tol=0.001;, score=-2.184 total time=  21.6s\n"
     ]
    },
    {
     "name": "stderr",
     "output_type": "stream",
     "text": [
      "c:\\Users\\User\\.conda\\envs\\energy\\Lib\\site-packages\\sklearn\\linear_model\\_coordinate_descent.py:697: ConvergenceWarning: Objective did not converge. You might want to increase the number of iterations, check the scale of the features or consider increasing regularisation. Duality gap: 2.793e+04, tolerance: 1.598e+03\n",
      "  model = cd_fast.enet_coordinate_descent(\n"
     ]
    },
    {
     "name": "stdout",
     "output_type": "stream",
     "text": [
      "[CV 2/5] END final_estimator__alpha=0.0001, final_estimator__fit_intercept=False, final_estimator__l1_ratio=0.7, final_estimator__max_iter=1000, final_estimator__random_state=42, final_estimator__selection=random, final_estimator__tol=0.001;, score=-2.331 total time=  24.7s\n"
     ]
    },
    {
     "name": "stderr",
     "output_type": "stream",
     "text": [
      "c:\\Users\\User\\.conda\\envs\\energy\\Lib\\site-packages\\sklearn\\linear_model\\_coordinate_descent.py:697: ConvergenceWarning: Objective did not converge. You might want to increase the number of iterations, check the scale of the features or consider increasing regularisation. Duality gap: 2.787e+04, tolerance: 1.608e+03\n",
      "  model = cd_fast.enet_coordinate_descent(\n"
     ]
    },
    {
     "name": "stdout",
     "output_type": "stream",
     "text": [
      "[CV 3/5] END final_estimator__alpha=0.0001, final_estimator__fit_intercept=False, final_estimator__l1_ratio=0.7, final_estimator__max_iter=1000, final_estimator__random_state=42, final_estimator__selection=random, final_estimator__tol=0.001;, score=-2.195 total time=  22.0s\n"
     ]
    },
    {
     "name": "stderr",
     "output_type": "stream",
     "text": [
      "c:\\Users\\User\\.conda\\envs\\energy\\Lib\\site-packages\\sklearn\\linear_model\\_coordinate_descent.py:697: ConvergenceWarning: Objective did not converge. You might want to increase the number of iterations, check the scale of the features or consider increasing regularisation. Duality gap: 2.847e+04, tolerance: 1.614e+03\n",
      "  model = cd_fast.enet_coordinate_descent(\n"
     ]
    },
    {
     "name": "stdout",
     "output_type": "stream",
     "text": [
      "[CV 4/5] END final_estimator__alpha=0.0001, final_estimator__fit_intercept=False, final_estimator__l1_ratio=0.7, final_estimator__max_iter=1000, final_estimator__random_state=42, final_estimator__selection=random, final_estimator__tol=0.001;, score=-2.175 total time=  19.0s\n"
     ]
    },
    {
     "name": "stderr",
     "output_type": "stream",
     "text": [
      "c:\\Users\\User\\.conda\\envs\\energy\\Lib\\site-packages\\sklearn\\linear_model\\_coordinate_descent.py:697: ConvergenceWarning: Objective did not converge. You might want to increase the number of iterations, check the scale of the features or consider increasing regularisation. Duality gap: 2.755e+04, tolerance: 1.609e+03\n",
      "  model = cd_fast.enet_coordinate_descent(\n"
     ]
    },
    {
     "name": "stdout",
     "output_type": "stream",
     "text": [
      "[CV 5/5] END final_estimator__alpha=0.0001, final_estimator__fit_intercept=False, final_estimator__l1_ratio=0.7, final_estimator__max_iter=1000, final_estimator__random_state=42, final_estimator__selection=random, final_estimator__tol=0.001;, score=-2.271 total time=  24.0s\n"
     ]
    },
    {
     "name": "stderr",
     "output_type": "stream",
     "text": [
      "c:\\Users\\User\\.conda\\envs\\energy\\Lib\\site-packages\\sklearn\\linear_model\\_coordinate_descent.py:697: ConvergenceWarning: Objective did not converge. You might want to increase the number of iterations, check the scale of the features or consider increasing regularisation. Duality gap: 2.920e+04, tolerance: 1.615e+04\n",
      "  model = cd_fast.enet_coordinate_descent(\n"
     ]
    },
    {
     "name": "stdout",
     "output_type": "stream",
     "text": [
      "[CV 1/5] END final_estimator__alpha=0.0001, final_estimator__fit_intercept=False, final_estimator__l1_ratio=0.7, final_estimator__max_iter=1000, final_estimator__random_state=42, final_estimator__selection=random, final_estimator__tol=0.01;, score=-2.180 total time=  21.8s\n"
     ]
    },
    {
     "name": "stderr",
     "output_type": "stream",
     "text": [
      "c:\\Users\\User\\.conda\\envs\\energy\\Lib\\site-packages\\sklearn\\linear_model\\_coordinate_descent.py:697: ConvergenceWarning: Objective did not converge. You might want to increase the number of iterations, check the scale of the features or consider increasing regularisation. Duality gap: 2.799e+04, tolerance: 1.598e+04\n",
      "  model = cd_fast.enet_coordinate_descent(\n"
     ]
    },
    {
     "name": "stdout",
     "output_type": "stream",
     "text": [
      "[CV 2/5] END final_estimator__alpha=0.0001, final_estimator__fit_intercept=False, final_estimator__l1_ratio=0.7, final_estimator__max_iter=1000, final_estimator__random_state=42, final_estimator__selection=random, final_estimator__tol=0.01;, score=-2.329 total time=  22.9s\n"
     ]
    },
    {
     "name": "stderr",
     "output_type": "stream",
     "text": [
      "c:\\Users\\User\\.conda\\envs\\energy\\Lib\\site-packages\\sklearn\\linear_model\\_coordinate_descent.py:697: ConvergenceWarning: Objective did not converge. You might want to increase the number of iterations, check the scale of the features or consider increasing regularisation. Duality gap: 2.794e+04, tolerance: 1.608e+04\n",
      "  model = cd_fast.enet_coordinate_descent(\n"
     ]
    },
    {
     "name": "stdout",
     "output_type": "stream",
     "text": [
      "[CV 3/5] END final_estimator__alpha=0.0001, final_estimator__fit_intercept=False, final_estimator__l1_ratio=0.7, final_estimator__max_iter=1000, final_estimator__random_state=42, final_estimator__selection=random, final_estimator__tol=0.01;, score=-2.201 total time=  17.6s\n"
     ]
    },
    {
     "name": "stderr",
     "output_type": "stream",
     "text": [
      "c:\\Users\\User\\.conda\\envs\\energy\\Lib\\site-packages\\sklearn\\linear_model\\_coordinate_descent.py:697: ConvergenceWarning: Objective did not converge. You might want to increase the number of iterations, check the scale of the features or consider increasing regularisation. Duality gap: 2.860e+04, tolerance: 1.614e+04\n",
      "  model = cd_fast.enet_coordinate_descent(\n"
     ]
    },
    {
     "name": "stdout",
     "output_type": "stream",
     "text": [
      "[CV 4/5] END final_estimator__alpha=0.0001, final_estimator__fit_intercept=False, final_estimator__l1_ratio=0.7, final_estimator__max_iter=1000, final_estimator__random_state=42, final_estimator__selection=random, final_estimator__tol=0.01;, score=-2.165 total time=  17.1s\n"
     ]
    },
    {
     "name": "stderr",
     "output_type": "stream",
     "text": [
      "c:\\Users\\User\\.conda\\envs\\energy\\Lib\\site-packages\\sklearn\\linear_model\\_coordinate_descent.py:697: ConvergenceWarning: Objective did not converge. You might want to increase the number of iterations, check the scale of the features or consider increasing regularisation. Duality gap: 2.749e+04, tolerance: 1.609e+04\n",
      "  model = cd_fast.enet_coordinate_descent(\n"
     ]
    },
    {
     "name": "stdout",
     "output_type": "stream",
     "text": [
      "[CV 5/5] END final_estimator__alpha=0.0001, final_estimator__fit_intercept=False, final_estimator__l1_ratio=0.7, final_estimator__max_iter=1000, final_estimator__random_state=42, final_estimator__selection=random, final_estimator__tol=0.01;, score=-2.282 total time=  18.6s\n"
     ]
    },
    {
     "name": "stderr",
     "output_type": "stream",
     "text": [
      "c:\\Users\\User\\.conda\\envs\\energy\\Lib\\site-packages\\sklearn\\linear_model\\_coordinate_descent.py:697: ConvergenceWarning: Objective did not converge. You might want to increase the number of iterations, check the scale of the features or consider increasing regularisation. Duality gap: 1.323e+04, tolerance: 1.615e+02\n",
      "  model = cd_fast.enet_coordinate_descent(\n"
     ]
    },
    {
     "name": "stdout",
     "output_type": "stream",
     "text": [
      "[CV 1/5] END final_estimator__alpha=0.0001, final_estimator__fit_intercept=False, final_estimator__l1_ratio=0.7, final_estimator__max_iter=2000, final_estimator__random_state=42, final_estimator__selection=cyclic, final_estimator__tol=0.0001;, score=-2.173 total time=  22.2s\n"
     ]
    },
    {
     "name": "stderr",
     "output_type": "stream",
     "text": [
      "c:\\Users\\User\\.conda\\envs\\energy\\Lib\\site-packages\\sklearn\\linear_model\\_coordinate_descent.py:697: ConvergenceWarning: Objective did not converge. You might want to increase the number of iterations, check the scale of the features or consider increasing regularisation. Duality gap: 2.024e+04, tolerance: 1.598e+02\n",
      "  model = cd_fast.enet_coordinate_descent(\n"
     ]
    },
    {
     "name": "stdout",
     "output_type": "stream",
     "text": [
      "[CV 2/5] END final_estimator__alpha=0.0001, final_estimator__fit_intercept=False, final_estimator__l1_ratio=0.7, final_estimator__max_iter=2000, final_estimator__random_state=42, final_estimator__selection=cyclic, final_estimator__tol=0.0001;, score=-2.343 total time=  21.0s\n"
     ]
    },
    {
     "name": "stderr",
     "output_type": "stream",
     "text": [
      "c:\\Users\\User\\.conda\\envs\\energy\\Lib\\site-packages\\sklearn\\linear_model\\_coordinate_descent.py:697: ConvergenceWarning: Objective did not converge. You might want to increase the number of iterations, check the scale of the features or consider increasing regularisation. Duality gap: 1.970e+04, tolerance: 1.608e+02\n",
      "  model = cd_fast.enet_coordinate_descent(\n"
     ]
    },
    {
     "name": "stdout",
     "output_type": "stream",
     "text": [
      "[CV 3/5] END final_estimator__alpha=0.0001, final_estimator__fit_intercept=False, final_estimator__l1_ratio=0.7, final_estimator__max_iter=2000, final_estimator__random_state=42, final_estimator__selection=cyclic, final_estimator__tol=0.0001;, score=-2.206 total time=  19.6s\n"
     ]
    },
    {
     "name": "stderr",
     "output_type": "stream",
     "text": [
      "c:\\Users\\User\\.conda\\envs\\energy\\Lib\\site-packages\\sklearn\\linear_model\\_coordinate_descent.py:697: ConvergenceWarning: Objective did not converge. You might want to increase the number of iterations, check the scale of the features or consider increasing regularisation. Duality gap: 1.818e+04, tolerance: 1.614e+02\n",
      "  model = cd_fast.enet_coordinate_descent(\n"
     ]
    },
    {
     "name": "stdout",
     "output_type": "stream",
     "text": [
      "[CV 4/5] END final_estimator__alpha=0.0001, final_estimator__fit_intercept=False, final_estimator__l1_ratio=0.7, final_estimator__max_iter=2000, final_estimator__random_state=42, final_estimator__selection=cyclic, final_estimator__tol=0.0001;, score=-2.179 total time=  13.4s\n"
     ]
    },
    {
     "name": "stderr",
     "output_type": "stream",
     "text": [
      "c:\\Users\\User\\.conda\\envs\\energy\\Lib\\site-packages\\sklearn\\linear_model\\_coordinate_descent.py:697: ConvergenceWarning: Objective did not converge. You might want to increase the number of iterations, check the scale of the features or consider increasing regularisation. Duality gap: 1.772e+04, tolerance: 1.609e+02\n",
      "  model = cd_fast.enet_coordinate_descent(\n"
     ]
    },
    {
     "name": "stdout",
     "output_type": "stream",
     "text": [
      "[CV 5/5] END final_estimator__alpha=0.0001, final_estimator__fit_intercept=False, final_estimator__l1_ratio=0.7, final_estimator__max_iter=2000, final_estimator__random_state=42, final_estimator__selection=cyclic, final_estimator__tol=0.0001;, score=-2.291 total time=  23.3s\n"
     ]
    },
    {
     "name": "stderr",
     "output_type": "stream",
     "text": [
      "c:\\Users\\User\\.conda\\envs\\energy\\Lib\\site-packages\\sklearn\\linear_model\\_coordinate_descent.py:697: ConvergenceWarning: Objective did not converge. You might want to increase the number of iterations, check the scale of the features or consider increasing regularisation. Duality gap: 1.769e+04, tolerance: 1.615e+03\n",
      "  model = cd_fast.enet_coordinate_descent(\n"
     ]
    },
    {
     "name": "stdout",
     "output_type": "stream",
     "text": [
      "[CV 1/5] END final_estimator__alpha=0.0001, final_estimator__fit_intercept=False, final_estimator__l1_ratio=0.7, final_estimator__max_iter=2000, final_estimator__random_state=42, final_estimator__selection=cyclic, final_estimator__tol=0.001;, score=-2.169 total time=  23.8s\n"
     ]
    },
    {
     "name": "stderr",
     "output_type": "stream",
     "text": [
      "c:\\Users\\User\\.conda\\envs\\energy\\Lib\\site-packages\\sklearn\\linear_model\\_coordinate_descent.py:697: ConvergenceWarning: Objective did not converge. You might want to increase the number of iterations, check the scale of the features or consider increasing regularisation. Duality gap: 1.694e+04, tolerance: 1.598e+03\n",
      "  model = cd_fast.enet_coordinate_descent(\n"
     ]
    },
    {
     "name": "stdout",
     "output_type": "stream",
     "text": [
      "[CV 2/5] END final_estimator__alpha=0.0001, final_estimator__fit_intercept=False, final_estimator__l1_ratio=0.7, final_estimator__max_iter=2000, final_estimator__random_state=42, final_estimator__selection=cyclic, final_estimator__tol=0.001;, score=-2.342 total time=  22.6s\n"
     ]
    },
    {
     "name": "stderr",
     "output_type": "stream",
     "text": [
      "c:\\Users\\User\\.conda\\envs\\energy\\Lib\\site-packages\\sklearn\\linear_model\\_coordinate_descent.py:697: ConvergenceWarning: Objective did not converge. You might want to increase the number of iterations, check the scale of the features or consider increasing regularisation. Duality gap: 1.878e+04, tolerance: 1.608e+03\n",
      "  model = cd_fast.enet_coordinate_descent(\n"
     ]
    },
    {
     "name": "stdout",
     "output_type": "stream",
     "text": [
      "[CV 3/5] END final_estimator__alpha=0.0001, final_estimator__fit_intercept=False, final_estimator__l1_ratio=0.7, final_estimator__max_iter=2000, final_estimator__random_state=42, final_estimator__selection=cyclic, final_estimator__tol=0.001;, score=-2.197 total time=  19.4s\n"
     ]
    },
    {
     "name": "stderr",
     "output_type": "stream",
     "text": [
      "c:\\Users\\User\\.conda\\envs\\energy\\Lib\\site-packages\\sklearn\\linear_model\\_coordinate_descent.py:697: ConvergenceWarning: Objective did not converge. You might want to increase the number of iterations, check the scale of the features or consider increasing regularisation. Duality gap: 1.752e+04, tolerance: 1.614e+03\n",
      "  model = cd_fast.enet_coordinate_descent(\n"
     ]
    },
    {
     "name": "stdout",
     "output_type": "stream",
     "text": [
      "[CV 4/5] END final_estimator__alpha=0.0001, final_estimator__fit_intercept=False, final_estimator__l1_ratio=0.7, final_estimator__max_iter=2000, final_estimator__random_state=42, final_estimator__selection=cyclic, final_estimator__tol=0.001;, score=-2.168 total time=  22.5s\n"
     ]
    },
    {
     "name": "stderr",
     "output_type": "stream",
     "text": [
      "c:\\Users\\User\\.conda\\envs\\energy\\Lib\\site-packages\\sklearn\\linear_model\\_coordinate_descent.py:697: ConvergenceWarning: Objective did not converge. You might want to increase the number of iterations, check the scale of the features or consider increasing regularisation. Duality gap: 1.779e+04, tolerance: 1.609e+03\n",
      "  model = cd_fast.enet_coordinate_descent(\n"
     ]
    },
    {
     "name": "stdout",
     "output_type": "stream",
     "text": [
      "[CV 5/5] END final_estimator__alpha=0.0001, final_estimator__fit_intercept=False, final_estimator__l1_ratio=0.7, final_estimator__max_iter=2000, final_estimator__random_state=42, final_estimator__selection=cyclic, final_estimator__tol=0.001;, score=-2.290 total time=  19.2s\n"
     ]
    },
    {
     "name": "stderr",
     "output_type": "stream",
     "text": [
      "c:\\Users\\User\\.conda\\envs\\energy\\Lib\\site-packages\\sklearn\\linear_model\\_coordinate_descent.py:697: ConvergenceWarning: Objective did not converge. You might want to increase the number of iterations, check the scale of the features or consider increasing regularisation. Duality gap: 1.979e+04, tolerance: 1.615e+04\n",
      "  model = cd_fast.enet_coordinate_descent(\n"
     ]
    },
    {
     "name": "stdout",
     "output_type": "stream",
     "text": [
      "[CV 1/5] END final_estimator__alpha=0.0001, final_estimator__fit_intercept=False, final_estimator__l1_ratio=0.7, final_estimator__max_iter=2000, final_estimator__random_state=42, final_estimator__selection=cyclic, final_estimator__tol=0.01;, score=-2.183 total time=  19.4s\n",
      "[CV 2/5] END final_estimator__alpha=0.0001, final_estimator__fit_intercept=False, final_estimator__l1_ratio=0.7, final_estimator__max_iter=2000, final_estimator__random_state=42, final_estimator__selection=cyclic, final_estimator__tol=0.01;, score=-2.340 total time=  17.8s\n"
     ]
    },
    {
     "name": "stderr",
     "output_type": "stream",
     "text": [
      "c:\\Users\\User\\.conda\\envs\\energy\\Lib\\site-packages\\sklearn\\linear_model\\_coordinate_descent.py:697: ConvergenceWarning: Objective did not converge. You might want to increase the number of iterations, check the scale of the features or consider increasing regularisation. Duality gap: 2.224e+04, tolerance: 1.608e+04\n",
      "  model = cd_fast.enet_coordinate_descent(\n"
     ]
    },
    {
     "name": "stdout",
     "output_type": "stream",
     "text": [
      "[CV 3/5] END final_estimator__alpha=0.0001, final_estimator__fit_intercept=False, final_estimator__l1_ratio=0.7, final_estimator__max_iter=2000, final_estimator__random_state=42, final_estimator__selection=cyclic, final_estimator__tol=0.01;, score=-2.197 total time=  19.1s\n",
      "[CV 4/5] END final_estimator__alpha=0.0001, final_estimator__fit_intercept=False, final_estimator__l1_ratio=0.7, final_estimator__max_iter=2000, final_estimator__random_state=42, final_estimator__selection=cyclic, final_estimator__tol=0.01;, score=-2.178 total time=  18.4s\n"
     ]
    },
    {
     "name": "stderr",
     "output_type": "stream",
     "text": [
      "c:\\Users\\User\\.conda\\envs\\energy\\Lib\\site-packages\\sklearn\\linear_model\\_coordinate_descent.py:697: ConvergenceWarning: Objective did not converge. You might want to increase the number of iterations, check the scale of the features or consider increasing regularisation. Duality gap: 1.773e+04, tolerance: 1.609e+04\n",
      "  model = cd_fast.enet_coordinate_descent(\n"
     ]
    },
    {
     "name": "stdout",
     "output_type": "stream",
     "text": [
      "[CV 5/5] END final_estimator__alpha=0.0001, final_estimator__fit_intercept=False, final_estimator__l1_ratio=0.7, final_estimator__max_iter=2000, final_estimator__random_state=42, final_estimator__selection=cyclic, final_estimator__tol=0.01;, score=-2.277 total time=  23.3s\n"
     ]
    },
    {
     "name": "stderr",
     "output_type": "stream",
     "text": [
      "c:\\Users\\User\\.conda\\envs\\energy\\Lib\\site-packages\\sklearn\\linear_model\\_coordinate_descent.py:697: ConvergenceWarning: Objective did not converge. You might want to increase the number of iterations, check the scale of the features or consider increasing regularisation. Duality gap: 2.876e+04, tolerance: 1.615e+02\n",
      "  model = cd_fast.enet_coordinate_descent(\n"
     ]
    },
    {
     "name": "stdout",
     "output_type": "stream",
     "text": [
      "[CV 1/5] END final_estimator__alpha=0.0001, final_estimator__fit_intercept=False, final_estimator__l1_ratio=0.7, final_estimator__max_iter=2000, final_estimator__random_state=42, final_estimator__selection=random, final_estimator__tol=0.0001;, score=-2.174 total time=  17.6s\n"
     ]
    },
    {
     "name": "stderr",
     "output_type": "stream",
     "text": [
      "c:\\Users\\User\\.conda\\envs\\energy\\Lib\\site-packages\\sklearn\\linear_model\\_coordinate_descent.py:697: ConvergenceWarning: Objective did not converge. You might want to increase the number of iterations, check the scale of the features or consider increasing regularisation. Duality gap: 2.757e+04, tolerance: 1.598e+02\n",
      "  model = cd_fast.enet_coordinate_descent(\n"
     ]
    },
    {
     "name": "stdout",
     "output_type": "stream",
     "text": [
      "[CV 2/5] END final_estimator__alpha=0.0001, final_estimator__fit_intercept=False, final_estimator__l1_ratio=0.7, final_estimator__max_iter=2000, final_estimator__random_state=42, final_estimator__selection=random, final_estimator__tol=0.0001;, score=-2.335 total time=  22.2s\n"
     ]
    },
    {
     "name": "stderr",
     "output_type": "stream",
     "text": [
      "c:\\Users\\User\\.conda\\envs\\energy\\Lib\\site-packages\\sklearn\\linear_model\\_coordinate_descent.py:697: ConvergenceWarning: Objective did not converge. You might want to increase the number of iterations, check the scale of the features or consider increasing regularisation. Duality gap: 2.748e+04, tolerance: 1.608e+02\n",
      "  model = cd_fast.enet_coordinate_descent(\n"
     ]
    },
    {
     "name": "stdout",
     "output_type": "stream",
     "text": [
      "[CV 3/5] END final_estimator__alpha=0.0001, final_estimator__fit_intercept=False, final_estimator__l1_ratio=0.7, final_estimator__max_iter=2000, final_estimator__random_state=42, final_estimator__selection=random, final_estimator__tol=0.0001;, score=-2.210 total time=  21.3s\n"
     ]
    },
    {
     "name": "stderr",
     "output_type": "stream",
     "text": [
      "c:\\Users\\User\\.conda\\envs\\energy\\Lib\\site-packages\\sklearn\\linear_model\\_coordinate_descent.py:697: ConvergenceWarning: Objective did not converge. You might want to increase the number of iterations, check the scale of the features or consider increasing regularisation. Duality gap: 2.815e+04, tolerance: 1.614e+02\n",
      "  model = cd_fast.enet_coordinate_descent(\n"
     ]
    },
    {
     "name": "stdout",
     "output_type": "stream",
     "text": [
      "[CV 4/5] END final_estimator__alpha=0.0001, final_estimator__fit_intercept=False, final_estimator__l1_ratio=0.7, final_estimator__max_iter=2000, final_estimator__random_state=42, final_estimator__selection=random, final_estimator__tol=0.0001;, score=-2.156 total time=  22.2s\n"
     ]
    },
    {
     "name": "stderr",
     "output_type": "stream",
     "text": [
      "c:\\Users\\User\\.conda\\envs\\energy\\Lib\\site-packages\\sklearn\\linear_model\\_coordinate_descent.py:697: ConvergenceWarning: Objective did not converge. You might want to increase the number of iterations, check the scale of the features or consider increasing regularisation. Duality gap: 2.713e+04, tolerance: 1.609e+02\n",
      "  model = cd_fast.enet_coordinate_descent(\n"
     ]
    },
    {
     "name": "stdout",
     "output_type": "stream",
     "text": [
      "[CV 5/5] END final_estimator__alpha=0.0001, final_estimator__fit_intercept=False, final_estimator__l1_ratio=0.7, final_estimator__max_iter=2000, final_estimator__random_state=42, final_estimator__selection=random, final_estimator__tol=0.0001;, score=-2.288 total time=  14.3s\n"
     ]
    },
    {
     "name": "stderr",
     "output_type": "stream",
     "text": [
      "c:\\Users\\User\\.conda\\envs\\energy\\Lib\\site-packages\\sklearn\\linear_model\\_coordinate_descent.py:697: ConvergenceWarning: Objective did not converge. You might want to increase the number of iterations, check the scale of the features or consider increasing regularisation. Duality gap: 2.878e+04, tolerance: 1.615e+03\n",
      "  model = cd_fast.enet_coordinate_descent(\n"
     ]
    },
    {
     "name": "stdout",
     "output_type": "stream",
     "text": [
      "[CV 1/5] END final_estimator__alpha=0.0001, final_estimator__fit_intercept=False, final_estimator__l1_ratio=0.7, final_estimator__max_iter=2000, final_estimator__random_state=42, final_estimator__selection=random, final_estimator__tol=0.001;, score=-2.228 total time=  22.3s\n"
     ]
    },
    {
     "name": "stderr",
     "output_type": "stream",
     "text": [
      "c:\\Users\\User\\.conda\\envs\\energy\\Lib\\site-packages\\sklearn\\linear_model\\_coordinate_descent.py:697: ConvergenceWarning: Objective did not converge. You might want to increase the number of iterations, check the scale of the features or consider increasing regularisation. Duality gap: 2.773e+04, tolerance: 1.598e+03\n",
      "  model = cd_fast.enet_coordinate_descent(\n"
     ]
    },
    {
     "name": "stdout",
     "output_type": "stream",
     "text": [
      "[CV 2/5] END final_estimator__alpha=0.0001, final_estimator__fit_intercept=False, final_estimator__l1_ratio=0.7, final_estimator__max_iter=2000, final_estimator__random_state=42, final_estimator__selection=random, final_estimator__tol=0.001;, score=-2.338 total time=  20.3s\n"
     ]
    },
    {
     "name": "stderr",
     "output_type": "stream",
     "text": [
      "c:\\Users\\User\\.conda\\envs\\energy\\Lib\\site-packages\\sklearn\\linear_model\\_coordinate_descent.py:697: ConvergenceWarning: Objective did not converge. You might want to increase the number of iterations, check the scale of the features or consider increasing regularisation. Duality gap: 2.768e+04, tolerance: 1.608e+03\n",
      "  model = cd_fast.enet_coordinate_descent(\n"
     ]
    },
    {
     "name": "stdout",
     "output_type": "stream",
     "text": [
      "[CV 3/5] END final_estimator__alpha=0.0001, final_estimator__fit_intercept=False, final_estimator__l1_ratio=0.7, final_estimator__max_iter=2000, final_estimator__random_state=42, final_estimator__selection=random, final_estimator__tol=0.001;, score=-2.204 total time=  16.4s\n"
     ]
    },
    {
     "name": "stderr",
     "output_type": "stream",
     "text": [
      "c:\\Users\\User\\.conda\\envs\\energy\\Lib\\site-packages\\sklearn\\linear_model\\_coordinate_descent.py:697: ConvergenceWarning: Objective did not converge. You might want to increase the number of iterations, check the scale of the features or consider increasing regularisation. Duality gap: 2.817e+04, tolerance: 1.614e+03\n",
      "  model = cd_fast.enet_coordinate_descent(\n"
     ]
    },
    {
     "name": "stdout",
     "output_type": "stream",
     "text": [
      "[CV 4/5] END final_estimator__alpha=0.0001, final_estimator__fit_intercept=False, final_estimator__l1_ratio=0.7, final_estimator__max_iter=2000, final_estimator__random_state=42, final_estimator__selection=random, final_estimator__tol=0.001;, score=-2.166 total time=  15.5s\n"
     ]
    },
    {
     "name": "stderr",
     "output_type": "stream",
     "text": [
      "c:\\Users\\User\\.conda\\envs\\energy\\Lib\\site-packages\\sklearn\\linear_model\\_coordinate_descent.py:697: ConvergenceWarning: Objective did not converge. You might want to increase the number of iterations, check the scale of the features or consider increasing regularisation. Duality gap: 2.719e+04, tolerance: 1.609e+03\n",
      "  model = cd_fast.enet_coordinate_descent(\n"
     ]
    },
    {
     "name": "stdout",
     "output_type": "stream",
     "text": [
      "[CV 5/5] END final_estimator__alpha=0.0001, final_estimator__fit_intercept=False, final_estimator__l1_ratio=0.7, final_estimator__max_iter=2000, final_estimator__random_state=42, final_estimator__selection=random, final_estimator__tol=0.001;, score=-2.279 total time=  21.6s\n"
     ]
    },
    {
     "name": "stderr",
     "output_type": "stream",
     "text": [
      "c:\\Users\\User\\.conda\\envs\\energy\\Lib\\site-packages\\sklearn\\linear_model\\_coordinate_descent.py:697: ConvergenceWarning: Objective did not converge. You might want to increase the number of iterations, check the scale of the features or consider increasing regularisation. Duality gap: 2.886e+04, tolerance: 1.615e+04\n",
      "  model = cd_fast.enet_coordinate_descent(\n"
     ]
    },
    {
     "name": "stdout",
     "output_type": "stream",
     "text": [
      "[CV 1/5] END final_estimator__alpha=0.0001, final_estimator__fit_intercept=False, final_estimator__l1_ratio=0.7, final_estimator__max_iter=2000, final_estimator__random_state=42, final_estimator__selection=random, final_estimator__tol=0.01;, score=-2.181 total time=  21.9s\n"
     ]
    },
    {
     "name": "stderr",
     "output_type": "stream",
     "text": [
      "c:\\Users\\User\\.conda\\envs\\energy\\Lib\\site-packages\\sklearn\\linear_model\\_coordinate_descent.py:697: ConvergenceWarning: Objective did not converge. You might want to increase the number of iterations, check the scale of the features or consider increasing regularisation. Duality gap: 2.764e+04, tolerance: 1.598e+04\n",
      "  model = cd_fast.enet_coordinate_descent(\n"
     ]
    },
    {
     "name": "stdout",
     "output_type": "stream",
     "text": [
      "[CV 2/5] END final_estimator__alpha=0.0001, final_estimator__fit_intercept=False, final_estimator__l1_ratio=0.7, final_estimator__max_iter=2000, final_estimator__random_state=42, final_estimator__selection=random, final_estimator__tol=0.01;, score=-2.338 total time=  22.2s\n"
     ]
    },
    {
     "name": "stderr",
     "output_type": "stream",
     "text": [
      "c:\\Users\\User\\.conda\\envs\\energy\\Lib\\site-packages\\sklearn\\linear_model\\_coordinate_descent.py:697: ConvergenceWarning: Objective did not converge. You might want to increase the number of iterations, check the scale of the features or consider increasing regularisation. Duality gap: 2.745e+04, tolerance: 1.608e+04\n",
      "  model = cd_fast.enet_coordinate_descent(\n"
     ]
    },
    {
     "name": "stdout",
     "output_type": "stream",
     "text": [
      "[CV 3/5] END final_estimator__alpha=0.0001, final_estimator__fit_intercept=False, final_estimator__l1_ratio=0.7, final_estimator__max_iter=2000, final_estimator__random_state=42, final_estimator__selection=random, final_estimator__tol=0.01;, score=-2.191 total time=  20.3s\n"
     ]
    },
    {
     "name": "stderr",
     "output_type": "stream",
     "text": [
      "c:\\Users\\User\\.conda\\envs\\energy\\Lib\\site-packages\\sklearn\\linear_model\\_coordinate_descent.py:697: ConvergenceWarning: Objective did not converge. You might want to increase the number of iterations, check the scale of the features or consider increasing regularisation. Duality gap: 2.821e+04, tolerance: 1.614e+04\n",
      "  model = cd_fast.enet_coordinate_descent(\n"
     ]
    },
    {
     "name": "stdout",
     "output_type": "stream",
     "text": [
      "[CV 4/5] END final_estimator__alpha=0.0001, final_estimator__fit_intercept=False, final_estimator__l1_ratio=0.7, final_estimator__max_iter=2000, final_estimator__random_state=42, final_estimator__selection=random, final_estimator__tol=0.01;, score=-2.176 total time=  21.7s\n"
     ]
    },
    {
     "name": "stderr",
     "output_type": "stream",
     "text": [
      "c:\\Users\\User\\.conda\\envs\\energy\\Lib\\site-packages\\sklearn\\linear_model\\_coordinate_descent.py:697: ConvergenceWarning: Objective did not converge. You might want to increase the number of iterations, check the scale of the features or consider increasing regularisation. Duality gap: 2.714e+04, tolerance: 1.609e+04\n",
      "  model = cd_fast.enet_coordinate_descent(\n"
     ]
    },
    {
     "name": "stdout",
     "output_type": "stream",
     "text": [
      "[CV 5/5] END final_estimator__alpha=0.0001, final_estimator__fit_intercept=False, final_estimator__l1_ratio=0.7, final_estimator__max_iter=2000, final_estimator__random_state=42, final_estimator__selection=random, final_estimator__tol=0.01;, score=-2.289 total time=  24.4s\n"
     ]
    },
    {
     "name": "stderr",
     "output_type": "stream",
     "text": [
      "c:\\Users\\User\\.conda\\envs\\energy\\Lib\\site-packages\\sklearn\\linear_model\\_coordinate_descent.py:697: ConvergenceWarning: Objective did not converge. You might want to increase the number of iterations, check the scale of the features or consider increasing regularisation. Duality gap: 2.871e+04, tolerance: 1.615e+02\n",
      "  model = cd_fast.enet_coordinate_descent(\n"
     ]
    },
    {
     "name": "stdout",
     "output_type": "stream",
     "text": [
      "[CV 1/5] END final_estimator__alpha=0.0001, final_estimator__fit_intercept=False, final_estimator__l1_ratio=0.9, final_estimator__max_iter=1000, final_estimator__random_state=42, final_estimator__selection=cyclic, final_estimator__tol=0.0001;, score=-2.201 total time=  19.4s\n"
     ]
    },
    {
     "name": "stderr",
     "output_type": "stream",
     "text": [
      "c:\\Users\\User\\.conda\\envs\\energy\\Lib\\site-packages\\sklearn\\linear_model\\_coordinate_descent.py:697: ConvergenceWarning: Objective did not converge. You might want to increase the number of iterations, check the scale of the features or consider increasing regularisation. Duality gap: 2.752e+04, tolerance: 1.598e+02\n",
      "  model = cd_fast.enet_coordinate_descent(\n"
     ]
    },
    {
     "name": "stdout",
     "output_type": "stream",
     "text": [
      "[CV 2/5] END final_estimator__alpha=0.0001, final_estimator__fit_intercept=False, final_estimator__l1_ratio=0.9, final_estimator__max_iter=1000, final_estimator__random_state=42, final_estimator__selection=cyclic, final_estimator__tol=0.0001;, score=-2.339 total time=  16.3s\n"
     ]
    },
    {
     "name": "stderr",
     "output_type": "stream",
     "text": [
      "c:\\Users\\User\\.conda\\envs\\energy\\Lib\\site-packages\\sklearn\\linear_model\\_coordinate_descent.py:697: ConvergenceWarning: Objective did not converge. You might want to increase the number of iterations, check the scale of the features or consider increasing regularisation. Duality gap: 2.743e+04, tolerance: 1.608e+02\n",
      "  model = cd_fast.enet_coordinate_descent(\n"
     ]
    },
    {
     "name": "stdout",
     "output_type": "stream",
     "text": [
      "[CV 3/5] END final_estimator__alpha=0.0001, final_estimator__fit_intercept=False, final_estimator__l1_ratio=0.9, final_estimator__max_iter=1000, final_estimator__random_state=42, final_estimator__selection=cyclic, final_estimator__tol=0.0001;, score=-2.206 total time=  18.5s\n"
     ]
    },
    {
     "name": "stderr",
     "output_type": "stream",
     "text": [
      "c:\\Users\\User\\.conda\\envs\\energy\\Lib\\site-packages\\sklearn\\linear_model\\_coordinate_descent.py:697: ConvergenceWarning: Objective did not converge. You might want to increase the number of iterations, check the scale of the features or consider increasing regularisation. Duality gap: 2.801e+04, tolerance: 1.614e+02\n",
      "  model = cd_fast.enet_coordinate_descent(\n"
     ]
    },
    {
     "name": "stdout",
     "output_type": "stream",
     "text": [
      "[CV 4/5] END final_estimator__alpha=0.0001, final_estimator__fit_intercept=False, final_estimator__l1_ratio=0.9, final_estimator__max_iter=1000, final_estimator__random_state=42, final_estimator__selection=cyclic, final_estimator__tol=0.0001;, score=-2.161 total time=  20.2s\n"
     ]
    },
    {
     "name": "stderr",
     "output_type": "stream",
     "text": [
      "c:\\Users\\User\\.conda\\envs\\energy\\Lib\\site-packages\\sklearn\\linear_model\\_coordinate_descent.py:697: ConvergenceWarning: Objective did not converge. You might want to increase the number of iterations, check the scale of the features or consider increasing regularisation. Duality gap: 2.694e+04, tolerance: 1.609e+02\n",
      "  model = cd_fast.enet_coordinate_descent(\n"
     ]
    },
    {
     "name": "stdout",
     "output_type": "stream",
     "text": [
      "[CV 5/5] END final_estimator__alpha=0.0001, final_estimator__fit_intercept=False, final_estimator__l1_ratio=0.9, final_estimator__max_iter=1000, final_estimator__random_state=42, final_estimator__selection=cyclic, final_estimator__tol=0.0001;, score=-2.290 total time=  21.3s\n"
     ]
    },
    {
     "name": "stderr",
     "output_type": "stream",
     "text": [
      "c:\\Users\\User\\.conda\\envs\\energy\\Lib\\site-packages\\sklearn\\linear_model\\_coordinate_descent.py:697: ConvergenceWarning: Objective did not converge. You might want to increase the number of iterations, check the scale of the features or consider increasing regularisation. Duality gap: 2.865e+04, tolerance: 1.615e+03\n",
      "  model = cd_fast.enet_coordinate_descent(\n"
     ]
    },
    {
     "name": "stdout",
     "output_type": "stream",
     "text": [
      "[CV 1/5] END final_estimator__alpha=0.0001, final_estimator__fit_intercept=False, final_estimator__l1_ratio=0.9, final_estimator__max_iter=1000, final_estimator__random_state=42, final_estimator__selection=cyclic, final_estimator__tol=0.001;, score=-2.195 total time=  16.8s\n"
     ]
    },
    {
     "name": "stderr",
     "output_type": "stream",
     "text": [
      "c:\\Users\\User\\.conda\\envs\\energy\\Lib\\site-packages\\sklearn\\linear_model\\_coordinate_descent.py:697: ConvergenceWarning: Objective did not converge. You might want to increase the number of iterations, check the scale of the features or consider increasing regularisation. Duality gap: 2.731e+04, tolerance: 1.598e+03\n",
      "  model = cd_fast.enet_coordinate_descent(\n"
     ]
    },
    {
     "name": "stdout",
     "output_type": "stream",
     "text": [
      "[CV 2/5] END final_estimator__alpha=0.0001, final_estimator__fit_intercept=False, final_estimator__l1_ratio=0.9, final_estimator__max_iter=1000, final_estimator__random_state=42, final_estimator__selection=cyclic, final_estimator__tol=0.001;, score=-2.348 total time=  21.5s\n"
     ]
    },
    {
     "name": "stderr",
     "output_type": "stream",
     "text": [
      "c:\\Users\\User\\.conda\\envs\\energy\\Lib\\site-packages\\sklearn\\linear_model\\_coordinate_descent.py:697: ConvergenceWarning: Objective did not converge. You might want to increase the number of iterations, check the scale of the features or consider increasing regularisation. Duality gap: 2.754e+04, tolerance: 1.608e+03\n",
      "  model = cd_fast.enet_coordinate_descent(\n"
     ]
    },
    {
     "name": "stdout",
     "output_type": "stream",
     "text": [
      "[CV 3/5] END final_estimator__alpha=0.0001, final_estimator__fit_intercept=False, final_estimator__l1_ratio=0.9, final_estimator__max_iter=1000, final_estimator__random_state=42, final_estimator__selection=cyclic, final_estimator__tol=0.001;, score=-2.204 total time=  19.1s\n"
     ]
    },
    {
     "name": "stderr",
     "output_type": "stream",
     "text": [
      "c:\\Users\\User\\.conda\\envs\\energy\\Lib\\site-packages\\sklearn\\linear_model\\_coordinate_descent.py:697: ConvergenceWarning: Objective did not converge. You might want to increase the number of iterations, check the scale of the features or consider increasing regularisation. Duality gap: 2.796e+04, tolerance: 1.614e+03\n",
      "  model = cd_fast.enet_coordinate_descent(\n"
     ]
    },
    {
     "name": "stdout",
     "output_type": "stream",
     "text": [
      "[CV 4/5] END final_estimator__alpha=0.0001, final_estimator__fit_intercept=False, final_estimator__l1_ratio=0.9, final_estimator__max_iter=1000, final_estimator__random_state=42, final_estimator__selection=cyclic, final_estimator__tol=0.001;, score=-2.169 total time=  23.4s\n"
     ]
    },
    {
     "name": "stderr",
     "output_type": "stream",
     "text": [
      "c:\\Users\\User\\.conda\\envs\\energy\\Lib\\site-packages\\sklearn\\linear_model\\_coordinate_descent.py:697: ConvergenceWarning: Objective did not converge. You might want to increase the number of iterations, check the scale of the features or consider increasing regularisation. Duality gap: 2.715e+04, tolerance: 1.609e+03\n",
      "  model = cd_fast.enet_coordinate_descent(\n"
     ]
    },
    {
     "name": "stdout",
     "output_type": "stream",
     "text": [
      "[CV 5/5] END final_estimator__alpha=0.0001, final_estimator__fit_intercept=False, final_estimator__l1_ratio=0.9, final_estimator__max_iter=1000, final_estimator__random_state=42, final_estimator__selection=cyclic, final_estimator__tol=0.001;, score=-2.279 total time=  19.5s\n"
     ]
    },
    {
     "name": "stderr",
     "output_type": "stream",
     "text": [
      "c:\\Users\\User\\.conda\\envs\\energy\\Lib\\site-packages\\sklearn\\linear_model\\_coordinate_descent.py:697: ConvergenceWarning: Objective did not converge. You might want to increase the number of iterations, check the scale of the features or consider increasing regularisation. Duality gap: 2.874e+04, tolerance: 1.615e+04\n",
      "  model = cd_fast.enet_coordinate_descent(\n"
     ]
    },
    {
     "name": "stdout",
     "output_type": "stream",
     "text": [
      "[CV 1/5] END final_estimator__alpha=0.0001, final_estimator__fit_intercept=False, final_estimator__l1_ratio=0.9, final_estimator__max_iter=1000, final_estimator__random_state=42, final_estimator__selection=cyclic, final_estimator__tol=0.01;, score=-2.186 total time=  18.9s\n"
     ]
    },
    {
     "name": "stderr",
     "output_type": "stream",
     "text": [
      "c:\\Users\\User\\.conda\\envs\\energy\\Lib\\site-packages\\sklearn\\linear_model\\_coordinate_descent.py:697: ConvergenceWarning: Objective did not converge. You might want to increase the number of iterations, check the scale of the features or consider increasing regularisation. Duality gap: 2.750e+04, tolerance: 1.598e+04\n",
      "  model = cd_fast.enet_coordinate_descent(\n"
     ]
    },
    {
     "name": "stdout",
     "output_type": "stream",
     "text": [
      "[CV 2/5] END final_estimator__alpha=0.0001, final_estimator__fit_intercept=False, final_estimator__l1_ratio=0.9, final_estimator__max_iter=1000, final_estimator__random_state=42, final_estimator__selection=cyclic, final_estimator__tol=0.01;, score=-2.347 total time=  20.1s\n"
     ]
    },
    {
     "name": "stderr",
     "output_type": "stream",
     "text": [
      "c:\\Users\\User\\.conda\\envs\\energy\\Lib\\site-packages\\sklearn\\linear_model\\_coordinate_descent.py:697: ConvergenceWarning: Objective did not converge. You might want to increase the number of iterations, check the scale of the features or consider increasing regularisation. Duality gap: 2.731e+04, tolerance: 1.608e+04\n",
      "  model = cd_fast.enet_coordinate_descent(\n"
     ]
    },
    {
     "name": "stdout",
     "output_type": "stream",
     "text": [
      "[CV 3/5] END final_estimator__alpha=0.0001, final_estimator__fit_intercept=False, final_estimator__l1_ratio=0.9, final_estimator__max_iter=1000, final_estimator__random_state=42, final_estimator__selection=cyclic, final_estimator__tol=0.01;, score=-2.212 total time=  26.0s\n"
     ]
    },
    {
     "name": "stderr",
     "output_type": "stream",
     "text": [
      "c:\\Users\\User\\.conda\\envs\\energy\\Lib\\site-packages\\sklearn\\linear_model\\_coordinate_descent.py:697: ConvergenceWarning: Objective did not converge. You might want to increase the number of iterations, check the scale of the features or consider increasing regularisation. Duality gap: 2.814e+04, tolerance: 1.614e+04\n",
      "  model = cd_fast.enet_coordinate_descent(\n"
     ]
    },
    {
     "name": "stdout",
     "output_type": "stream",
     "text": [
      "[CV 4/5] END final_estimator__alpha=0.0001, final_estimator__fit_intercept=False, final_estimator__l1_ratio=0.9, final_estimator__max_iter=1000, final_estimator__random_state=42, final_estimator__selection=cyclic, final_estimator__tol=0.01;, score=-2.160 total time=  19.8s\n"
     ]
    },
    {
     "name": "stderr",
     "output_type": "stream",
     "text": [
      "c:\\Users\\User\\.conda\\envs\\energy\\Lib\\site-packages\\sklearn\\linear_model\\_coordinate_descent.py:697: ConvergenceWarning: Objective did not converge. You might want to increase the number of iterations, check the scale of the features or consider increasing regularisation. Duality gap: 2.685e+04, tolerance: 1.609e+04\n",
      "  model = cd_fast.enet_coordinate_descent(\n"
     ]
    },
    {
     "name": "stdout",
     "output_type": "stream",
     "text": [
      "[CV 5/5] END final_estimator__alpha=0.0001, final_estimator__fit_intercept=False, final_estimator__l1_ratio=0.9, final_estimator__max_iter=1000, final_estimator__random_state=42, final_estimator__selection=cyclic, final_estimator__tol=0.01;, score=-2.289 total time=  20.9s\n"
     ]
    },
    {
     "name": "stderr",
     "output_type": "stream",
     "text": [
      "c:\\Users\\User\\.conda\\envs\\energy\\Lib\\site-packages\\sklearn\\linear_model\\_coordinate_descent.py:697: ConvergenceWarning: Objective did not converge. You might want to increase the number of iterations, check the scale of the features or consider increasing regularisation. Duality gap: 2.931e+04, tolerance: 1.615e+02\n",
      "  model = cd_fast.enet_coordinate_descent(\n"
     ]
    },
    {
     "name": "stdout",
     "output_type": "stream",
     "text": [
      "[CV 1/5] END final_estimator__alpha=0.0001, final_estimator__fit_intercept=False, final_estimator__l1_ratio=0.9, final_estimator__max_iter=1000, final_estimator__random_state=42, final_estimator__selection=random, final_estimator__tol=0.0001;, score=-2.185 total time=  16.7s\n"
     ]
    },
    {
     "name": "stderr",
     "output_type": "stream",
     "text": [
      "c:\\Users\\User\\.conda\\envs\\energy\\Lib\\site-packages\\sklearn\\linear_model\\_coordinate_descent.py:697: ConvergenceWarning: Objective did not converge. You might want to increase the number of iterations, check the scale of the features or consider increasing regularisation. Duality gap: 2.814e+04, tolerance: 1.598e+02\n",
      "  model = cd_fast.enet_coordinate_descent(\n"
     ]
    },
    {
     "name": "stdout",
     "output_type": "stream",
     "text": [
      "[CV 2/5] END final_estimator__alpha=0.0001, final_estimator__fit_intercept=False, final_estimator__l1_ratio=0.9, final_estimator__max_iter=1000, final_estimator__random_state=42, final_estimator__selection=random, final_estimator__tol=0.0001;, score=-2.338 total time=  23.8s\n"
     ]
    },
    {
     "name": "stderr",
     "output_type": "stream",
     "text": [
      "c:\\Users\\User\\.conda\\envs\\energy\\Lib\\site-packages\\sklearn\\linear_model\\_coordinate_descent.py:697: ConvergenceWarning: Objective did not converge. You might want to increase the number of iterations, check the scale of the features or consider increasing regularisation. Duality gap: 2.772e+04, tolerance: 1.608e+02\n",
      "  model = cd_fast.enet_coordinate_descent(\n"
     ]
    },
    {
     "name": "stdout",
     "output_type": "stream",
     "text": [
      "[CV 3/5] END final_estimator__alpha=0.0001, final_estimator__fit_intercept=False, final_estimator__l1_ratio=0.9, final_estimator__max_iter=1000, final_estimator__random_state=42, final_estimator__selection=random, final_estimator__tol=0.0001;, score=-2.187 total time=  18.3s\n"
     ]
    },
    {
     "name": "stderr",
     "output_type": "stream",
     "text": [
      "c:\\Users\\User\\.conda\\envs\\energy\\Lib\\site-packages\\sklearn\\linear_model\\_coordinate_descent.py:697: ConvergenceWarning: Objective did not converge. You might want to increase the number of iterations, check the scale of the features or consider increasing regularisation. Duality gap: 2.862e+04, tolerance: 1.614e+02\n",
      "  model = cd_fast.enet_coordinate_descent(\n"
     ]
    },
    {
     "name": "stdout",
     "output_type": "stream",
     "text": [
      "[CV 4/5] END final_estimator__alpha=0.0001, final_estimator__fit_intercept=False, final_estimator__l1_ratio=0.9, final_estimator__max_iter=1000, final_estimator__random_state=42, final_estimator__selection=random, final_estimator__tol=0.0001;, score=-2.187 total time=  17.7s\n"
     ]
    },
    {
     "name": "stderr",
     "output_type": "stream",
     "text": [
      "c:\\Users\\User\\.conda\\envs\\energy\\Lib\\site-packages\\sklearn\\linear_model\\_coordinate_descent.py:697: ConvergenceWarning: Objective did not converge. You might want to increase the number of iterations, check the scale of the features or consider increasing regularisation. Duality gap: 2.748e+04, tolerance: 1.609e+02\n",
      "  model = cd_fast.enet_coordinate_descent(\n"
     ]
    },
    {
     "name": "stdout",
     "output_type": "stream",
     "text": [
      "[CV 5/5] END final_estimator__alpha=0.0001, final_estimator__fit_intercept=False, final_estimator__l1_ratio=0.9, final_estimator__max_iter=1000, final_estimator__random_state=42, final_estimator__selection=random, final_estimator__tol=0.0001;, score=-2.296 total time=  19.1s\n"
     ]
    },
    {
     "name": "stderr",
     "output_type": "stream",
     "text": [
      "c:\\Users\\User\\.conda\\envs\\energy\\Lib\\site-packages\\sklearn\\linear_model\\_coordinate_descent.py:697: ConvergenceWarning: Objective did not converge. You might want to increase the number of iterations, check the scale of the features or consider increasing regularisation. Duality gap: 2.919e+04, tolerance: 1.615e+03\n",
      "  model = cd_fast.enet_coordinate_descent(\n"
     ]
    },
    {
     "name": "stdout",
     "output_type": "stream",
     "text": [
      "[CV 1/5] END final_estimator__alpha=0.0001, final_estimator__fit_intercept=False, final_estimator__l1_ratio=0.9, final_estimator__max_iter=1000, final_estimator__random_state=42, final_estimator__selection=random, final_estimator__tol=0.001;, score=-2.193 total time=  21.3s\n"
     ]
    },
    {
     "name": "stderr",
     "output_type": "stream",
     "text": [
      "c:\\Users\\User\\.conda\\envs\\energy\\Lib\\site-packages\\sklearn\\linear_model\\_coordinate_descent.py:697: ConvergenceWarning: Objective did not converge. You might want to increase the number of iterations, check the scale of the features or consider increasing regularisation. Duality gap: 2.786e+04, tolerance: 1.598e+03\n",
      "  model = cd_fast.enet_coordinate_descent(\n"
     ]
    },
    {
     "name": "stdout",
     "output_type": "stream",
     "text": [
      "[CV 2/5] END final_estimator__alpha=0.0001, final_estimator__fit_intercept=False, final_estimator__l1_ratio=0.9, final_estimator__max_iter=1000, final_estimator__random_state=42, final_estimator__selection=random, final_estimator__tol=0.001;, score=-2.326 total time=  21.1s\n"
     ]
    },
    {
     "name": "stderr",
     "output_type": "stream",
     "text": [
      "c:\\Users\\User\\.conda\\envs\\energy\\Lib\\site-packages\\sklearn\\linear_model\\_coordinate_descent.py:697: ConvergenceWarning: Objective did not converge. You might want to increase the number of iterations, check the scale of the features or consider increasing regularisation. Duality gap: 2.783e+04, tolerance: 1.608e+03\n",
      "  model = cd_fast.enet_coordinate_descent(\n"
     ]
    },
    {
     "name": "stdout",
     "output_type": "stream",
     "text": [
      "[CV 3/5] END final_estimator__alpha=0.0001, final_estimator__fit_intercept=False, final_estimator__l1_ratio=0.9, final_estimator__max_iter=1000, final_estimator__random_state=42, final_estimator__selection=random, final_estimator__tol=0.001;, score=-2.221 total time=  21.0s\n"
     ]
    },
    {
     "name": "stderr",
     "output_type": "stream",
     "text": [
      "c:\\Users\\User\\.conda\\envs\\energy\\Lib\\site-packages\\sklearn\\linear_model\\_coordinate_descent.py:697: ConvergenceWarning: Objective did not converge. You might want to increase the number of iterations, check the scale of the features or consider increasing regularisation. Duality gap: 2.830e+04, tolerance: 1.614e+03\n",
      "  model = cd_fast.enet_coordinate_descent(\n"
     ]
    },
    {
     "name": "stdout",
     "output_type": "stream",
     "text": [
      "[CV 4/5] END final_estimator__alpha=0.0001, final_estimator__fit_intercept=False, final_estimator__l1_ratio=0.9, final_estimator__max_iter=1000, final_estimator__random_state=42, final_estimator__selection=random, final_estimator__tol=0.001;, score=-2.177 total time=  25.4s\n"
     ]
    },
    {
     "name": "stderr",
     "output_type": "stream",
     "text": [
      "c:\\Users\\User\\.conda\\envs\\energy\\Lib\\site-packages\\sklearn\\linear_model\\_coordinate_descent.py:697: ConvergenceWarning: Objective did not converge. You might want to increase the number of iterations, check the scale of the features or consider increasing regularisation. Duality gap: 2.724e+04, tolerance: 1.609e+03\n",
      "  model = cd_fast.enet_coordinate_descent(\n"
     ]
    },
    {
     "name": "stdout",
     "output_type": "stream",
     "text": [
      "[CV 5/5] END final_estimator__alpha=0.0001, final_estimator__fit_intercept=False, final_estimator__l1_ratio=0.9, final_estimator__max_iter=1000, final_estimator__random_state=42, final_estimator__selection=random, final_estimator__tol=0.001;, score=-2.291 total time=  21.4s\n"
     ]
    },
    {
     "name": "stderr",
     "output_type": "stream",
     "text": [
      "c:\\Users\\User\\.conda\\envs\\energy\\Lib\\site-packages\\sklearn\\linear_model\\_coordinate_descent.py:697: ConvergenceWarning: Objective did not converge. You might want to increase the number of iterations, check the scale of the features or consider increasing regularisation. Duality gap: 2.921e+04, tolerance: 1.615e+04\n",
      "  model = cd_fast.enet_coordinate_descent(\n"
     ]
    },
    {
     "name": "stdout",
     "output_type": "stream",
     "text": [
      "[CV 1/5] END final_estimator__alpha=0.0001, final_estimator__fit_intercept=False, final_estimator__l1_ratio=0.9, final_estimator__max_iter=1000, final_estimator__random_state=42, final_estimator__selection=random, final_estimator__tol=0.01;, score=-2.163 total time=  21.2s\n"
     ]
    },
    {
     "name": "stderr",
     "output_type": "stream",
     "text": [
      "c:\\Users\\User\\.conda\\envs\\energy\\Lib\\site-packages\\sklearn\\linear_model\\_coordinate_descent.py:697: ConvergenceWarning: Objective did not converge. You might want to increase the number of iterations, check the scale of the features or consider increasing regularisation. Duality gap: 2.796e+04, tolerance: 1.598e+04\n",
      "  model = cd_fast.enet_coordinate_descent(\n"
     ]
    },
    {
     "name": "stdout",
     "output_type": "stream",
     "text": [
      "[CV 2/5] END final_estimator__alpha=0.0001, final_estimator__fit_intercept=False, final_estimator__l1_ratio=0.9, final_estimator__max_iter=1000, final_estimator__random_state=42, final_estimator__selection=random, final_estimator__tol=0.01;, score=-2.332 total time=  19.2s\n"
     ]
    },
    {
     "name": "stderr",
     "output_type": "stream",
     "text": [
      "c:\\Users\\User\\.conda\\envs\\energy\\Lib\\site-packages\\sklearn\\linear_model\\_coordinate_descent.py:697: ConvergenceWarning: Objective did not converge. You might want to increase the number of iterations, check the scale of the features or consider increasing regularisation. Duality gap: 2.780e+04, tolerance: 1.608e+04\n",
      "  model = cd_fast.enet_coordinate_descent(\n"
     ]
    },
    {
     "name": "stdout",
     "output_type": "stream",
     "text": [
      "[CV 3/5] END final_estimator__alpha=0.0001, final_estimator__fit_intercept=False, final_estimator__l1_ratio=0.9, final_estimator__max_iter=1000, final_estimator__random_state=42, final_estimator__selection=random, final_estimator__tol=0.01;, score=-2.201 total time=  22.9s\n"
     ]
    },
    {
     "name": "stderr",
     "output_type": "stream",
     "text": [
      "c:\\Users\\User\\.conda\\envs\\energy\\Lib\\site-packages\\sklearn\\linear_model\\_coordinate_descent.py:697: ConvergenceWarning: Objective did not converge. You might want to increase the number of iterations, check the scale of the features or consider increasing regularisation. Duality gap: 2.848e+04, tolerance: 1.614e+04\n",
      "  model = cd_fast.enet_coordinate_descent(\n"
     ]
    },
    {
     "name": "stdout",
     "output_type": "stream",
     "text": [
      "[CV 4/5] END final_estimator__alpha=0.0001, final_estimator__fit_intercept=False, final_estimator__l1_ratio=0.9, final_estimator__max_iter=1000, final_estimator__random_state=42, final_estimator__selection=random, final_estimator__tol=0.01;, score=-2.174 total time=  20.5s\n"
     ]
    },
    {
     "name": "stderr",
     "output_type": "stream",
     "text": [
      "c:\\Users\\User\\.conda\\envs\\energy\\Lib\\site-packages\\sklearn\\linear_model\\_coordinate_descent.py:697: ConvergenceWarning: Objective did not converge. You might want to increase the number of iterations, check the scale of the features or consider increasing regularisation. Duality gap: 2.747e+04, tolerance: 1.609e+04\n",
      "  model = cd_fast.enet_coordinate_descent(\n"
     ]
    },
    {
     "name": "stdout",
     "output_type": "stream",
     "text": [
      "[CV 5/5] END final_estimator__alpha=0.0001, final_estimator__fit_intercept=False, final_estimator__l1_ratio=0.9, final_estimator__max_iter=1000, final_estimator__random_state=42, final_estimator__selection=random, final_estimator__tol=0.01;, score=-2.285 total time=  17.4s\n"
     ]
    },
    {
     "name": "stderr",
     "output_type": "stream",
     "text": [
      "c:\\Users\\User\\.conda\\envs\\energy\\Lib\\site-packages\\sklearn\\linear_model\\_coordinate_descent.py:697: ConvergenceWarning: Objective did not converge. You might want to increase the number of iterations, check the scale of the features or consider increasing regularisation. Duality gap: 1.371e+04, tolerance: 1.615e+02\n",
      "  model = cd_fast.enet_coordinate_descent(\n"
     ]
    },
    {
     "name": "stdout",
     "output_type": "stream",
     "text": [
      "[CV 1/5] END final_estimator__alpha=0.0001, final_estimator__fit_intercept=False, final_estimator__l1_ratio=0.9, final_estimator__max_iter=2000, final_estimator__random_state=42, final_estimator__selection=cyclic, final_estimator__tol=0.0001;, score=-2.172 total time=  22.9s\n"
     ]
    },
    {
     "name": "stderr",
     "output_type": "stream",
     "text": [
      "c:\\Users\\User\\.conda\\envs\\energy\\Lib\\site-packages\\sklearn\\linear_model\\_coordinate_descent.py:697: ConvergenceWarning: Objective did not converge. You might want to increase the number of iterations, check the scale of the features or consider increasing regularisation. Duality gap: 1.854e+04, tolerance: 1.598e+02\n",
      "  model = cd_fast.enet_coordinate_descent(\n"
     ]
    },
    {
     "name": "stdout",
     "output_type": "stream",
     "text": [
      "[CV 2/5] END final_estimator__alpha=0.0001, final_estimator__fit_intercept=False, final_estimator__l1_ratio=0.9, final_estimator__max_iter=2000, final_estimator__random_state=42, final_estimator__selection=cyclic, final_estimator__tol=0.0001;, score=-2.338 total time=  19.3s\n"
     ]
    },
    {
     "name": "stderr",
     "output_type": "stream",
     "text": [
      "c:\\Users\\User\\.conda\\envs\\energy\\Lib\\site-packages\\sklearn\\linear_model\\_coordinate_descent.py:697: ConvergenceWarning: Objective did not converge. You might want to increase the number of iterations, check the scale of the features or consider increasing regularisation. Duality gap: 1.694e+04, tolerance: 1.608e+02\n",
      "  model = cd_fast.enet_coordinate_descent(\n"
     ]
    },
    {
     "name": "stdout",
     "output_type": "stream",
     "text": [
      "[CV 3/5] END final_estimator__alpha=0.0001, final_estimator__fit_intercept=False, final_estimator__l1_ratio=0.9, final_estimator__max_iter=2000, final_estimator__random_state=42, final_estimator__selection=cyclic, final_estimator__tol=0.0001;, score=-2.179 total time=  20.5s\n"
     ]
    },
    {
     "name": "stderr",
     "output_type": "stream",
     "text": [
      "c:\\Users\\User\\.conda\\envs\\energy\\Lib\\site-packages\\sklearn\\linear_model\\_coordinate_descent.py:697: ConvergenceWarning: Objective did not converge. You might want to increase the number of iterations, check the scale of the features or consider increasing regularisation. Duality gap: 1.670e+04, tolerance: 1.614e+02\n",
      "  model = cd_fast.enet_coordinate_descent(\n"
     ]
    },
    {
     "name": "stdout",
     "output_type": "stream",
     "text": [
      "[CV 4/5] END final_estimator__alpha=0.0001, final_estimator__fit_intercept=False, final_estimator__l1_ratio=0.9, final_estimator__max_iter=2000, final_estimator__random_state=42, final_estimator__selection=cyclic, final_estimator__tol=0.0001;, score=-2.180 total time=  17.9s\n"
     ]
    },
    {
     "name": "stderr",
     "output_type": "stream",
     "text": [
      "c:\\Users\\User\\.conda\\envs\\energy\\Lib\\site-packages\\sklearn\\linear_model\\_coordinate_descent.py:697: ConvergenceWarning: Objective did not converge. You might want to increase the number of iterations, check the scale of the features or consider increasing regularisation. Duality gap: 1.193e+04, tolerance: 1.609e+02\n",
      "  model = cd_fast.enet_coordinate_descent(\n"
     ]
    },
    {
     "name": "stdout",
     "output_type": "stream",
     "text": [
      "[CV 5/5] END final_estimator__alpha=0.0001, final_estimator__fit_intercept=False, final_estimator__l1_ratio=0.9, final_estimator__max_iter=2000, final_estimator__random_state=42, final_estimator__selection=cyclic, final_estimator__tol=0.0001;, score=-2.280 total time=  23.5s\n"
     ]
    },
    {
     "name": "stderr",
     "output_type": "stream",
     "text": [
      "c:\\Users\\User\\.conda\\envs\\energy\\Lib\\site-packages\\sklearn\\linear_model\\_coordinate_descent.py:697: ConvergenceWarning: Objective did not converge. You might want to increase the number of iterations, check the scale of the features or consider increasing regularisation. Duality gap: 1.534e+04, tolerance: 1.615e+03\n",
      "  model = cd_fast.enet_coordinate_descent(\n"
     ]
    },
    {
     "name": "stdout",
     "output_type": "stream",
     "text": [
      "[CV 1/5] END final_estimator__alpha=0.0001, final_estimator__fit_intercept=False, final_estimator__l1_ratio=0.9, final_estimator__max_iter=2000, final_estimator__random_state=42, final_estimator__selection=cyclic, final_estimator__tol=0.001;, score=-2.191 total time=  20.0s\n"
     ]
    },
    {
     "name": "stderr",
     "output_type": "stream",
     "text": [
      "c:\\Users\\User\\.conda\\envs\\energy\\Lib\\site-packages\\sklearn\\linear_model\\_coordinate_descent.py:697: ConvergenceWarning: Objective did not converge. You might want to increase the number of iterations, check the scale of the features or consider increasing regularisation. Duality gap: 1.128e+04, tolerance: 1.598e+03\n",
      "  model = cd_fast.enet_coordinate_descent(\n"
     ]
    },
    {
     "name": "stdout",
     "output_type": "stream",
     "text": [
      "[CV 2/5] END final_estimator__alpha=0.0001, final_estimator__fit_intercept=False, final_estimator__l1_ratio=0.9, final_estimator__max_iter=2000, final_estimator__random_state=42, final_estimator__selection=cyclic, final_estimator__tol=0.001;, score=-2.353 total time=  19.5s\n"
     ]
    },
    {
     "name": "stderr",
     "output_type": "stream",
     "text": [
      "c:\\Users\\User\\.conda\\envs\\energy\\Lib\\site-packages\\sklearn\\linear_model\\_coordinate_descent.py:697: ConvergenceWarning: Objective did not converge. You might want to increase the number of iterations, check the scale of the features or consider increasing regularisation. Duality gap: 2.018e+04, tolerance: 1.608e+03\n",
      "  model = cd_fast.enet_coordinate_descent(\n"
     ]
    },
    {
     "name": "stdout",
     "output_type": "stream",
     "text": [
      "[CV 3/5] END final_estimator__alpha=0.0001, final_estimator__fit_intercept=False, final_estimator__l1_ratio=0.9, final_estimator__max_iter=2000, final_estimator__random_state=42, final_estimator__selection=cyclic, final_estimator__tol=0.001;, score=-2.208 total time=  15.8s\n"
     ]
    },
    {
     "name": "stderr",
     "output_type": "stream",
     "text": [
      "c:\\Users\\User\\.conda\\envs\\energy\\Lib\\site-packages\\sklearn\\linear_model\\_coordinate_descent.py:697: ConvergenceWarning: Objective did not converge. You might want to increase the number of iterations, check the scale of the features or consider increasing regularisation. Duality gap: 1.492e+04, tolerance: 1.614e+03\n",
      "  model = cd_fast.enet_coordinate_descent(\n"
     ]
    },
    {
     "name": "stdout",
     "output_type": "stream",
     "text": [
      "[CV 4/5] END final_estimator__alpha=0.0001, final_estimator__fit_intercept=False, final_estimator__l1_ratio=0.9, final_estimator__max_iter=2000, final_estimator__random_state=42, final_estimator__selection=cyclic, final_estimator__tol=0.001;, score=-2.176 total time=  19.7s\n"
     ]
    },
    {
     "name": "stderr",
     "output_type": "stream",
     "text": [
      "c:\\Users\\User\\.conda\\envs\\energy\\Lib\\site-packages\\sklearn\\linear_model\\_coordinate_descent.py:697: ConvergenceWarning: Objective did not converge. You might want to increase the number of iterations, check the scale of the features or consider increasing regularisation. Duality gap: 1.399e+04, tolerance: 1.609e+03\n",
      "  model = cd_fast.enet_coordinate_descent(\n"
     ]
    },
    {
     "name": "stdout",
     "output_type": "stream",
     "text": [
      "[CV 5/5] END final_estimator__alpha=0.0001, final_estimator__fit_intercept=False, final_estimator__l1_ratio=0.9, final_estimator__max_iter=2000, final_estimator__random_state=42, final_estimator__selection=cyclic, final_estimator__tol=0.001;, score=-2.292 total time=  17.5s\n",
      "[CV 1/5] END final_estimator__alpha=0.0001, final_estimator__fit_intercept=False, final_estimator__l1_ratio=0.9, final_estimator__max_iter=2000, final_estimator__random_state=42, final_estimator__selection=cyclic, final_estimator__tol=0.01;, score=-2.211 total time=  22.1s\n",
      "[CV 2/5] END final_estimator__alpha=0.0001, final_estimator__fit_intercept=False, final_estimator__l1_ratio=0.9, final_estimator__max_iter=2000, final_estimator__random_state=42, final_estimator__selection=cyclic, final_estimator__tol=0.01;, score=-2.347 total time=  21.2s\n"
     ]
    },
    {
     "name": "stderr",
     "output_type": "stream",
     "text": [
      "c:\\Users\\User\\.conda\\envs\\energy\\Lib\\site-packages\\sklearn\\linear_model\\_coordinate_descent.py:697: ConvergenceWarning: Objective did not converge. You might want to increase the number of iterations, check the scale of the features or consider increasing regularisation. Duality gap: 1.763e+04, tolerance: 1.608e+04\n",
      "  model = cd_fast.enet_coordinate_descent(\n"
     ]
    },
    {
     "name": "stdout",
     "output_type": "stream",
     "text": [
      "[CV 3/5] END final_estimator__alpha=0.0001, final_estimator__fit_intercept=False, final_estimator__l1_ratio=0.9, final_estimator__max_iter=2000, final_estimator__random_state=42, final_estimator__selection=cyclic, final_estimator__tol=0.01;, score=-2.205 total time=  23.5s\n",
      "[CV 4/5] END final_estimator__alpha=0.0001, final_estimator__fit_intercept=False, final_estimator__l1_ratio=0.9, final_estimator__max_iter=2000, final_estimator__random_state=42, final_estimator__selection=cyclic, final_estimator__tol=0.01;, score=-2.149 total time=  17.8s\n",
      "[CV 5/5] END final_estimator__alpha=0.0001, final_estimator__fit_intercept=False, final_estimator__l1_ratio=0.9, final_estimator__max_iter=2000, final_estimator__random_state=42, final_estimator__selection=cyclic, final_estimator__tol=0.01;, score=-2.300 total time=  22.6s\n"
     ]
    },
    {
     "name": "stderr",
     "output_type": "stream",
     "text": [
      "c:\\Users\\User\\.conda\\envs\\energy\\Lib\\site-packages\\sklearn\\linear_model\\_coordinate_descent.py:697: ConvergenceWarning: Objective did not converge. You might want to increase the number of iterations, check the scale of the features or consider increasing regularisation. Duality gap: 2.869e+04, tolerance: 1.615e+02\n",
      "  model = cd_fast.enet_coordinate_descent(\n"
     ]
    },
    {
     "name": "stdout",
     "output_type": "stream",
     "text": [
      "[CV 1/5] END final_estimator__alpha=0.0001, final_estimator__fit_intercept=False, final_estimator__l1_ratio=0.9, final_estimator__max_iter=2000, final_estimator__random_state=42, final_estimator__selection=random, final_estimator__tol=0.0001;, score=-2.202 total time=  17.7s\n"
     ]
    },
    {
     "name": "stderr",
     "output_type": "stream",
     "text": [
      "c:\\Users\\User\\.conda\\envs\\energy\\Lib\\site-packages\\sklearn\\linear_model\\_coordinate_descent.py:697: ConvergenceWarning: Objective did not converge. You might want to increase the number of iterations, check the scale of the features or consider increasing regularisation. Duality gap: 2.751e+04, tolerance: 1.598e+02\n",
      "  model = cd_fast.enet_coordinate_descent(\n"
     ]
    },
    {
     "name": "stdout",
     "output_type": "stream",
     "text": [
      "[CV 2/5] END final_estimator__alpha=0.0001, final_estimator__fit_intercept=False, final_estimator__l1_ratio=0.9, final_estimator__max_iter=2000, final_estimator__random_state=42, final_estimator__selection=random, final_estimator__tol=0.0001;, score=-2.345 total time=  18.7s\n"
     ]
    },
    {
     "name": "stderr",
     "output_type": "stream",
     "text": [
      "c:\\Users\\User\\.conda\\envs\\energy\\Lib\\site-packages\\sklearn\\linear_model\\_coordinate_descent.py:697: ConvergenceWarning: Objective did not converge. You might want to increase the number of iterations, check the scale of the features or consider increasing regularisation. Duality gap: 2.740e+04, tolerance: 1.608e+02\n",
      "  model = cd_fast.enet_coordinate_descent(\n"
     ]
    },
    {
     "name": "stdout",
     "output_type": "stream",
     "text": [
      "[CV 3/5] END final_estimator__alpha=0.0001, final_estimator__fit_intercept=False, final_estimator__l1_ratio=0.9, final_estimator__max_iter=2000, final_estimator__random_state=42, final_estimator__selection=random, final_estimator__tol=0.0001;, score=-2.205 total time=  17.6s\n"
     ]
    },
    {
     "name": "stderr",
     "output_type": "stream",
     "text": [
      "c:\\Users\\User\\.conda\\envs\\energy\\Lib\\site-packages\\sklearn\\linear_model\\_coordinate_descent.py:697: ConvergenceWarning: Objective did not converge. You might want to increase the number of iterations, check the scale of the features or consider increasing regularisation. Duality gap: 2.814e+04, tolerance: 1.614e+02\n",
      "  model = cd_fast.enet_coordinate_descent(\n"
     ]
    },
    {
     "name": "stdout",
     "output_type": "stream",
     "text": [
      "[CV 4/5] END final_estimator__alpha=0.0001, final_estimator__fit_intercept=False, final_estimator__l1_ratio=0.9, final_estimator__max_iter=2000, final_estimator__random_state=42, final_estimator__selection=random, final_estimator__tol=0.0001;, score=-2.153 total time=  20.2s\n"
     ]
    },
    {
     "name": "stderr",
     "output_type": "stream",
     "text": [
      "c:\\Users\\User\\.conda\\envs\\energy\\Lib\\site-packages\\sklearn\\linear_model\\_coordinate_descent.py:697: ConvergenceWarning: Objective did not converge. You might want to increase the number of iterations, check the scale of the features or consider increasing regularisation. Duality gap: 2.699e+04, tolerance: 1.609e+02\n",
      "  model = cd_fast.enet_coordinate_descent(\n"
     ]
    },
    {
     "name": "stdout",
     "output_type": "stream",
     "text": [
      "[CV 5/5] END final_estimator__alpha=0.0001, final_estimator__fit_intercept=False, final_estimator__l1_ratio=0.9, final_estimator__max_iter=2000, final_estimator__random_state=42, final_estimator__selection=random, final_estimator__tol=0.0001;, score=-2.290 total time=  17.6s\n"
     ]
    },
    {
     "name": "stderr",
     "output_type": "stream",
     "text": [
      "c:\\Users\\User\\.conda\\envs\\energy\\Lib\\site-packages\\sklearn\\linear_model\\_coordinate_descent.py:697: ConvergenceWarning: Objective did not converge. You might want to increase the number of iterations, check the scale of the features or consider increasing regularisation. Duality gap: 2.876e+04, tolerance: 1.615e+03\n",
      "  model = cd_fast.enet_coordinate_descent(\n"
     ]
    },
    {
     "name": "stdout",
     "output_type": "stream",
     "text": [
      "[CV 1/5] END final_estimator__alpha=0.0001, final_estimator__fit_intercept=False, final_estimator__l1_ratio=0.9, final_estimator__max_iter=2000, final_estimator__random_state=42, final_estimator__selection=random, final_estimator__tol=0.001;, score=-2.188 total time=  21.6s\n"
     ]
    },
    {
     "name": "stderr",
     "output_type": "stream",
     "text": [
      "c:\\Users\\User\\.conda\\envs\\energy\\Lib\\site-packages\\sklearn\\linear_model\\_coordinate_descent.py:697: ConvergenceWarning: Objective did not converge. You might want to increase the number of iterations, check the scale of the features or consider increasing regularisation. Duality gap: 2.761e+04, tolerance: 1.598e+03\n",
      "  model = cd_fast.enet_coordinate_descent(\n"
     ]
    },
    {
     "name": "stdout",
     "output_type": "stream",
     "text": [
      "[CV 2/5] END final_estimator__alpha=0.0001, final_estimator__fit_intercept=False, final_estimator__l1_ratio=0.9, final_estimator__max_iter=2000, final_estimator__random_state=42, final_estimator__selection=random, final_estimator__tol=0.001;, score=-2.318 total time=  17.5s\n"
     ]
    },
    {
     "name": "stderr",
     "output_type": "stream",
     "text": [
      "c:\\Users\\User\\.conda\\envs\\energy\\Lib\\site-packages\\sklearn\\linear_model\\_coordinate_descent.py:697: ConvergenceWarning: Objective did not converge. You might want to increase the number of iterations, check the scale of the features or consider increasing regularisation. Duality gap: 2.743e+04, tolerance: 1.608e+03\n",
      "  model = cd_fast.enet_coordinate_descent(\n"
     ]
    },
    {
     "name": "stdout",
     "output_type": "stream",
     "text": [
      "[CV 3/5] END final_estimator__alpha=0.0001, final_estimator__fit_intercept=False, final_estimator__l1_ratio=0.9, final_estimator__max_iter=2000, final_estimator__random_state=42, final_estimator__selection=random, final_estimator__tol=0.001;, score=-2.202 total time=  22.3s\n"
     ]
    },
    {
     "name": "stderr",
     "output_type": "stream",
     "text": [
      "c:\\Users\\User\\.conda\\envs\\energy\\Lib\\site-packages\\sklearn\\linear_model\\_coordinate_descent.py:697: ConvergenceWarning: Objective did not converge. You might want to increase the number of iterations, check the scale of the features or consider increasing regularisation. Duality gap: 2.803e+04, tolerance: 1.614e+03\n",
      "  model = cd_fast.enet_coordinate_descent(\n"
     ]
    },
    {
     "name": "stdout",
     "output_type": "stream",
     "text": [
      "[CV 4/5] END final_estimator__alpha=0.0001, final_estimator__fit_intercept=False, final_estimator__l1_ratio=0.9, final_estimator__max_iter=2000, final_estimator__random_state=42, final_estimator__selection=random, final_estimator__tol=0.001;, score=-2.191 total time=  21.1s\n"
     ]
    },
    {
     "name": "stderr",
     "output_type": "stream",
     "text": [
      "c:\\Users\\User\\.conda\\envs\\energy\\Lib\\site-packages\\sklearn\\linear_model\\_coordinate_descent.py:697: ConvergenceWarning: Objective did not converge. You might want to increase the number of iterations, check the scale of the features or consider increasing regularisation. Duality gap: 2.709e+04, tolerance: 1.609e+03\n",
      "  model = cd_fast.enet_coordinate_descent(\n"
     ]
    },
    {
     "name": "stdout",
     "output_type": "stream",
     "text": [
      "[CV 5/5] END final_estimator__alpha=0.0001, final_estimator__fit_intercept=False, final_estimator__l1_ratio=0.9, final_estimator__max_iter=2000, final_estimator__random_state=42, final_estimator__selection=random, final_estimator__tol=0.001;, score=-2.285 total time=  21.6s\n"
     ]
    },
    {
     "name": "stderr",
     "output_type": "stream",
     "text": [
      "c:\\Users\\User\\.conda\\envs\\energy\\Lib\\site-packages\\sklearn\\linear_model\\_coordinate_descent.py:697: ConvergenceWarning: Objective did not converge. You might want to increase the number of iterations, check the scale of the features or consider increasing regularisation. Duality gap: 2.881e+04, tolerance: 1.615e+04\n",
      "  model = cd_fast.enet_coordinate_descent(\n"
     ]
    },
    {
     "name": "stdout",
     "output_type": "stream",
     "text": [
      "[CV 1/5] END final_estimator__alpha=0.0001, final_estimator__fit_intercept=False, final_estimator__l1_ratio=0.9, final_estimator__max_iter=2000, final_estimator__random_state=42, final_estimator__selection=random, final_estimator__tol=0.01;, score=-2.196 total time=  16.9s\n"
     ]
    },
    {
     "name": "stderr",
     "output_type": "stream",
     "text": [
      "c:\\Users\\User\\.conda\\envs\\energy\\Lib\\site-packages\\sklearn\\linear_model\\_coordinate_descent.py:697: ConvergenceWarning: Objective did not converge. You might want to increase the number of iterations, check the scale of the features or consider increasing regularisation. Duality gap: 2.746e+04, tolerance: 1.598e+04\n",
      "  model = cd_fast.enet_coordinate_descent(\n"
     ]
    },
    {
     "name": "stdout",
     "output_type": "stream",
     "text": [
      "[CV 2/5] END final_estimator__alpha=0.0001, final_estimator__fit_intercept=False, final_estimator__l1_ratio=0.9, final_estimator__max_iter=2000, final_estimator__random_state=42, final_estimator__selection=random, final_estimator__tol=0.01;, score=-2.342 total time=  23.6s\n"
     ]
    },
    {
     "name": "stderr",
     "output_type": "stream",
     "text": [
      "c:\\Users\\User\\.conda\\envs\\energy\\Lib\\site-packages\\sklearn\\linear_model\\_coordinate_descent.py:697: ConvergenceWarning: Objective did not converge. You might want to increase the number of iterations, check the scale of the features or consider increasing regularisation. Duality gap: 2.755e+04, tolerance: 1.608e+04\n",
      "  model = cd_fast.enet_coordinate_descent(\n"
     ]
    },
    {
     "name": "stdout",
     "output_type": "stream",
     "text": [
      "[CV 3/5] END final_estimator__alpha=0.0001, final_estimator__fit_intercept=False, final_estimator__l1_ratio=0.9, final_estimator__max_iter=2000, final_estimator__random_state=42, final_estimator__selection=random, final_estimator__tol=0.01;, score=-2.199 total time=  19.8s\n"
     ]
    },
    {
     "name": "stderr",
     "output_type": "stream",
     "text": [
      "c:\\Users\\User\\.conda\\envs\\energy\\Lib\\site-packages\\sklearn\\linear_model\\_coordinate_descent.py:697: ConvergenceWarning: Objective did not converge. You might want to increase the number of iterations, check the scale of the features or consider increasing regularisation. Duality gap: 2.824e+04, tolerance: 1.614e+04\n",
      "  model = cd_fast.enet_coordinate_descent(\n"
     ]
    },
    {
     "name": "stdout",
     "output_type": "stream",
     "text": [
      "[CV 4/5] END final_estimator__alpha=0.0001, final_estimator__fit_intercept=False, final_estimator__l1_ratio=0.9, final_estimator__max_iter=2000, final_estimator__random_state=42, final_estimator__selection=random, final_estimator__tol=0.01;, score=-2.168 total time=  17.9s\n"
     ]
    },
    {
     "name": "stderr",
     "output_type": "stream",
     "text": [
      "c:\\Users\\User\\.conda\\envs\\energy\\Lib\\site-packages\\sklearn\\linear_model\\_coordinate_descent.py:697: ConvergenceWarning: Objective did not converge. You might want to increase the number of iterations, check the scale of the features or consider increasing regularisation. Duality gap: 2.716e+04, tolerance: 1.609e+04\n",
      "  model = cd_fast.enet_coordinate_descent(\n"
     ]
    },
    {
     "name": "stdout",
     "output_type": "stream",
     "text": [
      "[CV 5/5] END final_estimator__alpha=0.0001, final_estimator__fit_intercept=False, final_estimator__l1_ratio=0.9, final_estimator__max_iter=2000, final_estimator__random_state=42, final_estimator__selection=random, final_estimator__tol=0.01;, score=-2.301 total time=  17.4s\n",
      "[CV 1/5] END final_estimator__alpha=0.001, final_estimator__fit_intercept=True, final_estimator__l1_ratio=0.1, final_estimator__max_iter=1000, final_estimator__random_state=42, final_estimator__selection=cyclic, final_estimator__tol=0.0001;, score=-2.198 total time=  22.2s\n",
      "[CV 2/5] END final_estimator__alpha=0.001, final_estimator__fit_intercept=True, final_estimator__l1_ratio=0.1, final_estimator__max_iter=1000, final_estimator__random_state=42, final_estimator__selection=cyclic, final_estimator__tol=0.0001;, score=-2.341 total time=  19.7s\n",
      "[CV 3/5] END final_estimator__alpha=0.001, final_estimator__fit_intercept=True, final_estimator__l1_ratio=0.1, final_estimator__max_iter=1000, final_estimator__random_state=42, final_estimator__selection=cyclic, final_estimator__tol=0.0001;, score=-2.210 total time=  20.4s\n",
      "[CV 4/5] END final_estimator__alpha=0.001, final_estimator__fit_intercept=True, final_estimator__l1_ratio=0.1, final_estimator__max_iter=1000, final_estimator__random_state=42, final_estimator__selection=cyclic, final_estimator__tol=0.0001;, score=-2.158 total time=  16.6s\n",
      "[CV 5/5] END final_estimator__alpha=0.001, final_estimator__fit_intercept=True, final_estimator__l1_ratio=0.1, final_estimator__max_iter=1000, final_estimator__random_state=42, final_estimator__selection=cyclic, final_estimator__tol=0.0001;, score=-2.288 total time=  23.1s\n",
      "[CV 1/5] END final_estimator__alpha=0.001, final_estimator__fit_intercept=True, final_estimator__l1_ratio=0.1, final_estimator__max_iter=1000, final_estimator__random_state=42, final_estimator__selection=cyclic, final_estimator__tol=0.001;, score=-2.180 total time=  23.3s\n",
      "[CV 2/5] END final_estimator__alpha=0.001, final_estimator__fit_intercept=True, final_estimator__l1_ratio=0.1, final_estimator__max_iter=1000, final_estimator__random_state=42, final_estimator__selection=cyclic, final_estimator__tol=0.001;, score=-2.325 total time=  20.4s\n",
      "[CV 3/5] END final_estimator__alpha=0.001, final_estimator__fit_intercept=True, final_estimator__l1_ratio=0.1, final_estimator__max_iter=1000, final_estimator__random_state=42, final_estimator__selection=cyclic, final_estimator__tol=0.001;, score=-2.171 total time=  19.6s\n",
      "[CV 4/5] END final_estimator__alpha=0.001, final_estimator__fit_intercept=True, final_estimator__l1_ratio=0.1, final_estimator__max_iter=1000, final_estimator__random_state=42, final_estimator__selection=cyclic, final_estimator__tol=0.001;, score=-2.156 total time=  25.2s\n",
      "[CV 5/5] END final_estimator__alpha=0.001, final_estimator__fit_intercept=True, final_estimator__l1_ratio=0.1, final_estimator__max_iter=1000, final_estimator__random_state=42, final_estimator__selection=cyclic, final_estimator__tol=0.001;, score=-2.284 total time=  19.0s\n",
      "[CV 1/5] END final_estimator__alpha=0.001, final_estimator__fit_intercept=True, final_estimator__l1_ratio=0.1, final_estimator__max_iter=1000, final_estimator__random_state=42, final_estimator__selection=cyclic, final_estimator__tol=0.01;, score=-2.193 total time=  24.4s\n",
      "[CV 2/5] END final_estimator__alpha=0.001, final_estimator__fit_intercept=True, final_estimator__l1_ratio=0.1, final_estimator__max_iter=1000, final_estimator__random_state=42, final_estimator__selection=cyclic, final_estimator__tol=0.01;, score=-2.349 total time=  16.2s\n",
      "[CV 3/5] END final_estimator__alpha=0.001, final_estimator__fit_intercept=True, final_estimator__l1_ratio=0.1, final_estimator__max_iter=1000, final_estimator__random_state=42, final_estimator__selection=cyclic, final_estimator__tol=0.01;, score=-2.212 total time=  19.2s\n",
      "[CV 4/5] END final_estimator__alpha=0.001, final_estimator__fit_intercept=True, final_estimator__l1_ratio=0.1, final_estimator__max_iter=1000, final_estimator__random_state=42, final_estimator__selection=cyclic, final_estimator__tol=0.01;, score=-2.186 total time=  16.0s\n",
      "[CV 5/5] END final_estimator__alpha=0.001, final_estimator__fit_intercept=True, final_estimator__l1_ratio=0.1, final_estimator__max_iter=1000, final_estimator__random_state=42, final_estimator__selection=cyclic, final_estimator__tol=0.01;, score=-2.292 total time=  16.9s\n",
      "[CV 1/5] END final_estimator__alpha=0.001, final_estimator__fit_intercept=True, final_estimator__l1_ratio=0.1, final_estimator__max_iter=1000, final_estimator__random_state=42, final_estimator__selection=random, final_estimator__tol=0.0001;, score=-2.204 total time=  16.4s\n",
      "[CV 2/5] END final_estimator__alpha=0.001, final_estimator__fit_intercept=True, final_estimator__l1_ratio=0.1, final_estimator__max_iter=1000, final_estimator__random_state=42, final_estimator__selection=random, final_estimator__tol=0.0001;, score=-2.328 total time=  20.1s\n",
      "[CV 3/5] END final_estimator__alpha=0.001, final_estimator__fit_intercept=True, final_estimator__l1_ratio=0.1, final_estimator__max_iter=1000, final_estimator__random_state=42, final_estimator__selection=random, final_estimator__tol=0.0001;, score=-2.203 total time=  19.2s\n",
      "[CV 4/5] END final_estimator__alpha=0.001, final_estimator__fit_intercept=True, final_estimator__l1_ratio=0.1, final_estimator__max_iter=1000, final_estimator__random_state=42, final_estimator__selection=random, final_estimator__tol=0.0001;, score=-2.168 total time=  20.8s\n",
      "[CV 5/5] END final_estimator__alpha=0.001, final_estimator__fit_intercept=True, final_estimator__l1_ratio=0.1, final_estimator__max_iter=1000, final_estimator__random_state=42, final_estimator__selection=random, final_estimator__tol=0.0001;, score=-2.285 total time=  17.8s\n",
      "[CV 1/5] END final_estimator__alpha=0.001, final_estimator__fit_intercept=True, final_estimator__l1_ratio=0.1, final_estimator__max_iter=1000, final_estimator__random_state=42, final_estimator__selection=random, final_estimator__tol=0.001;, score=-2.196 total time=  24.8s\n",
      "[CV 2/5] END final_estimator__alpha=0.001, final_estimator__fit_intercept=True, final_estimator__l1_ratio=0.1, final_estimator__max_iter=1000, final_estimator__random_state=42, final_estimator__selection=random, final_estimator__tol=0.001;, score=-2.357 total time=  22.4s\n",
      "[CV 3/5] END final_estimator__alpha=0.001, final_estimator__fit_intercept=True, final_estimator__l1_ratio=0.1, final_estimator__max_iter=1000, final_estimator__random_state=42, final_estimator__selection=random, final_estimator__tol=0.001;, score=-2.194 total time=  19.1s\n",
      "[CV 4/5] END final_estimator__alpha=0.001, final_estimator__fit_intercept=True, final_estimator__l1_ratio=0.1, final_estimator__max_iter=1000, final_estimator__random_state=42, final_estimator__selection=random, final_estimator__tol=0.001;, score=-2.159 total time=  17.9s\n",
      "[CV 5/5] END final_estimator__alpha=0.001, final_estimator__fit_intercept=True, final_estimator__l1_ratio=0.1, final_estimator__max_iter=1000, final_estimator__random_state=42, final_estimator__selection=random, final_estimator__tol=0.001;, score=-2.282 total time=  20.0s\n",
      "[CV 1/5] END final_estimator__alpha=0.001, final_estimator__fit_intercept=True, final_estimator__l1_ratio=0.1, final_estimator__max_iter=1000, final_estimator__random_state=42, final_estimator__selection=random, final_estimator__tol=0.01;, score=-2.190 total time=  19.9s\n",
      "[CV 2/5] END final_estimator__alpha=0.001, final_estimator__fit_intercept=True, final_estimator__l1_ratio=0.1, final_estimator__max_iter=1000, final_estimator__random_state=42, final_estimator__selection=random, final_estimator__tol=0.01;, score=-2.330 total time=  25.0s\n",
      "[CV 3/5] END final_estimator__alpha=0.001, final_estimator__fit_intercept=True, final_estimator__l1_ratio=0.1, final_estimator__max_iter=1000, final_estimator__random_state=42, final_estimator__selection=random, final_estimator__tol=0.01;, score=-2.196 total time=  18.1s\n",
      "[CV 4/5] END final_estimator__alpha=0.001, final_estimator__fit_intercept=True, final_estimator__l1_ratio=0.1, final_estimator__max_iter=1000, final_estimator__random_state=42, final_estimator__selection=random, final_estimator__tol=0.01;, score=-2.164 total time=  18.3s\n",
      "[CV 5/5] END final_estimator__alpha=0.001, final_estimator__fit_intercept=True, final_estimator__l1_ratio=0.1, final_estimator__max_iter=1000, final_estimator__random_state=42, final_estimator__selection=random, final_estimator__tol=0.01;, score=-2.291 total time=  18.2s\n",
      "[CV 1/5] END final_estimator__alpha=0.001, final_estimator__fit_intercept=True, final_estimator__l1_ratio=0.1, final_estimator__max_iter=2000, final_estimator__random_state=42, final_estimator__selection=cyclic, final_estimator__tol=0.0001;, score=-2.195 total time=  25.1s\n",
      "[CV 2/5] END final_estimator__alpha=0.001, final_estimator__fit_intercept=True, final_estimator__l1_ratio=0.1, final_estimator__max_iter=2000, final_estimator__random_state=42, final_estimator__selection=cyclic, final_estimator__tol=0.0001;, score=-2.332 total time=  20.4s\n",
      "[CV 3/5] END final_estimator__alpha=0.001, final_estimator__fit_intercept=True, final_estimator__l1_ratio=0.1, final_estimator__max_iter=2000, final_estimator__random_state=42, final_estimator__selection=cyclic, final_estimator__tol=0.0001;, score=-2.191 total time=  25.1s\n",
      "[CV 4/5] END final_estimator__alpha=0.001, final_estimator__fit_intercept=True, final_estimator__l1_ratio=0.1, final_estimator__max_iter=2000, final_estimator__random_state=42, final_estimator__selection=cyclic, final_estimator__tol=0.0001;, score=-2.166 total time=  19.2s\n",
      "[CV 5/5] END final_estimator__alpha=0.001, final_estimator__fit_intercept=True, final_estimator__l1_ratio=0.1, final_estimator__max_iter=2000, final_estimator__random_state=42, final_estimator__selection=cyclic, final_estimator__tol=0.0001;, score=-2.284 total time=  26.8s\n",
      "[CV 1/5] END final_estimator__alpha=0.001, final_estimator__fit_intercept=True, final_estimator__l1_ratio=0.1, final_estimator__max_iter=2000, final_estimator__random_state=42, final_estimator__selection=cyclic, final_estimator__tol=0.001;, score=-2.184 total time=  21.7s\n",
      "[CV 2/5] END final_estimator__alpha=0.001, final_estimator__fit_intercept=True, final_estimator__l1_ratio=0.1, final_estimator__max_iter=2000, final_estimator__random_state=42, final_estimator__selection=cyclic, final_estimator__tol=0.001;, score=-2.340 total time=  22.7s\n",
      "[CV 3/5] END final_estimator__alpha=0.001, final_estimator__fit_intercept=True, final_estimator__l1_ratio=0.1, final_estimator__max_iter=2000, final_estimator__random_state=42, final_estimator__selection=cyclic, final_estimator__tol=0.001;, score=-2.201 total time=  20.9s\n",
      "[CV 4/5] END final_estimator__alpha=0.001, final_estimator__fit_intercept=True, final_estimator__l1_ratio=0.1, final_estimator__max_iter=2000, final_estimator__random_state=42, final_estimator__selection=cyclic, final_estimator__tol=0.001;, score=-2.166 total time=  18.9s\n",
      "[CV 5/5] END final_estimator__alpha=0.001, final_estimator__fit_intercept=True, final_estimator__l1_ratio=0.1, final_estimator__max_iter=2000, final_estimator__random_state=42, final_estimator__selection=cyclic, final_estimator__tol=0.001;, score=-2.309 total time=  20.0s\n",
      "[CV 1/5] END final_estimator__alpha=0.001, final_estimator__fit_intercept=True, final_estimator__l1_ratio=0.1, final_estimator__max_iter=2000, final_estimator__random_state=42, final_estimator__selection=cyclic, final_estimator__tol=0.01;, score=-2.174 total time=  23.5s\n",
      "[CV 2/5] END final_estimator__alpha=0.001, final_estimator__fit_intercept=True, final_estimator__l1_ratio=0.1, final_estimator__max_iter=2000, final_estimator__random_state=42, final_estimator__selection=cyclic, final_estimator__tol=0.01;, score=-2.327 total time=  20.9s\n",
      "[CV 3/5] END final_estimator__alpha=0.001, final_estimator__fit_intercept=True, final_estimator__l1_ratio=0.1, final_estimator__max_iter=2000, final_estimator__random_state=42, final_estimator__selection=cyclic, final_estimator__tol=0.01;, score=-2.204 total time=  24.2s\n",
      "[CV 4/5] END final_estimator__alpha=0.001, final_estimator__fit_intercept=True, final_estimator__l1_ratio=0.1, final_estimator__max_iter=2000, final_estimator__random_state=42, final_estimator__selection=cyclic, final_estimator__tol=0.01;, score=-2.167 total time=  16.5s\n",
      "[CV 5/5] END final_estimator__alpha=0.001, final_estimator__fit_intercept=True, final_estimator__l1_ratio=0.1, final_estimator__max_iter=2000, final_estimator__random_state=42, final_estimator__selection=cyclic, final_estimator__tol=0.01;, score=-2.281 total time=  23.3s\n",
      "[CV 1/5] END final_estimator__alpha=0.001, final_estimator__fit_intercept=True, final_estimator__l1_ratio=0.1, final_estimator__max_iter=2000, final_estimator__random_state=42, final_estimator__selection=random, final_estimator__tol=0.0001;, score=-2.193 total time=  18.3s\n",
      "[CV 2/5] END final_estimator__alpha=0.001, final_estimator__fit_intercept=True, final_estimator__l1_ratio=0.1, final_estimator__max_iter=2000, final_estimator__random_state=42, final_estimator__selection=random, final_estimator__tol=0.0001;, score=-2.356 total time=  18.2s\n",
      "[CV 3/5] END final_estimator__alpha=0.001, final_estimator__fit_intercept=True, final_estimator__l1_ratio=0.1, final_estimator__max_iter=2000, final_estimator__random_state=42, final_estimator__selection=random, final_estimator__tol=0.0001;, score=-2.217 total time=  18.8s\n",
      "[CV 4/5] END final_estimator__alpha=0.001, final_estimator__fit_intercept=True, final_estimator__l1_ratio=0.1, final_estimator__max_iter=2000, final_estimator__random_state=42, final_estimator__selection=random, final_estimator__tol=0.0001;, score=-2.159 total time=  17.8s\n",
      "[CV 5/5] END final_estimator__alpha=0.001, final_estimator__fit_intercept=True, final_estimator__l1_ratio=0.1, final_estimator__max_iter=2000, final_estimator__random_state=42, final_estimator__selection=random, final_estimator__tol=0.0001;, score=-2.285 total time=  17.5s\n",
      "[CV 1/5] END final_estimator__alpha=0.001, final_estimator__fit_intercept=True, final_estimator__l1_ratio=0.1, final_estimator__max_iter=2000, final_estimator__random_state=42, final_estimator__selection=random, final_estimator__tol=0.001;, score=-2.186 total time=  21.8s\n",
      "[CV 2/5] END final_estimator__alpha=0.001, final_estimator__fit_intercept=True, final_estimator__l1_ratio=0.1, final_estimator__max_iter=2000, final_estimator__random_state=42, final_estimator__selection=random, final_estimator__tol=0.001;, score=-2.349 total time=  22.5s\n",
      "[CV 3/5] END final_estimator__alpha=0.001, final_estimator__fit_intercept=True, final_estimator__l1_ratio=0.1, final_estimator__max_iter=2000, final_estimator__random_state=42, final_estimator__selection=random, final_estimator__tol=0.001;, score=-2.195 total time=  19.8s\n",
      "[CV 4/5] END final_estimator__alpha=0.001, final_estimator__fit_intercept=True, final_estimator__l1_ratio=0.1, final_estimator__max_iter=2000, final_estimator__random_state=42, final_estimator__selection=random, final_estimator__tol=0.001;, score=-2.165 total time=  19.5s\n",
      "[CV 5/5] END final_estimator__alpha=0.001, final_estimator__fit_intercept=True, final_estimator__l1_ratio=0.1, final_estimator__max_iter=2000, final_estimator__random_state=42, final_estimator__selection=random, final_estimator__tol=0.001;, score=-2.303 total time=  18.7s\n",
      "[CV 1/5] END final_estimator__alpha=0.001, final_estimator__fit_intercept=True, final_estimator__l1_ratio=0.1, final_estimator__max_iter=2000, final_estimator__random_state=42, final_estimator__selection=random, final_estimator__tol=0.01;, score=-2.211 total time=  18.7s\n",
      "[CV 2/5] END final_estimator__alpha=0.001, final_estimator__fit_intercept=True, final_estimator__l1_ratio=0.1, final_estimator__max_iter=2000, final_estimator__random_state=42, final_estimator__selection=random, final_estimator__tol=0.01;, score=-2.340 total time=  21.8s\n",
      "[CV 3/5] END final_estimator__alpha=0.001, final_estimator__fit_intercept=True, final_estimator__l1_ratio=0.1, final_estimator__max_iter=2000, final_estimator__random_state=42, final_estimator__selection=random, final_estimator__tol=0.01;, score=-2.190 total time=  20.0s\n",
      "[CV 4/5] END final_estimator__alpha=0.001, final_estimator__fit_intercept=True, final_estimator__l1_ratio=0.1, final_estimator__max_iter=2000, final_estimator__random_state=42, final_estimator__selection=random, final_estimator__tol=0.01;, score=-2.159 total time=  18.5s\n",
      "[CV 5/5] END final_estimator__alpha=0.001, final_estimator__fit_intercept=True, final_estimator__l1_ratio=0.1, final_estimator__max_iter=2000, final_estimator__random_state=42, final_estimator__selection=random, final_estimator__tol=0.01;, score=-2.290 total time=  20.3s\n",
      "[CV 1/5] END final_estimator__alpha=0.001, final_estimator__fit_intercept=True, final_estimator__l1_ratio=0.3, final_estimator__max_iter=1000, final_estimator__random_state=42, final_estimator__selection=cyclic, final_estimator__tol=0.0001;, score=-2.197 total time=  25.3s\n",
      "[CV 2/5] END final_estimator__alpha=0.001, final_estimator__fit_intercept=True, final_estimator__l1_ratio=0.3, final_estimator__max_iter=1000, final_estimator__random_state=42, final_estimator__selection=cyclic, final_estimator__tol=0.0001;, score=-2.349 total time=  20.0s\n",
      "[CV 3/5] END final_estimator__alpha=0.001, final_estimator__fit_intercept=True, final_estimator__l1_ratio=0.3, final_estimator__max_iter=1000, final_estimator__random_state=42, final_estimator__selection=cyclic, final_estimator__tol=0.0001;, score=-2.200 total time=  23.2s\n",
      "[CV 4/5] END final_estimator__alpha=0.001, final_estimator__fit_intercept=True, final_estimator__l1_ratio=0.3, final_estimator__max_iter=1000, final_estimator__random_state=42, final_estimator__selection=cyclic, final_estimator__tol=0.0001;, score=-2.165 total time=  19.3s\n",
      "[CV 5/5] END final_estimator__alpha=0.001, final_estimator__fit_intercept=True, final_estimator__l1_ratio=0.3, final_estimator__max_iter=1000, final_estimator__random_state=42, final_estimator__selection=cyclic, final_estimator__tol=0.0001;, score=-2.298 total time=  22.4s\n",
      "[CV 1/5] END final_estimator__alpha=0.001, final_estimator__fit_intercept=True, final_estimator__l1_ratio=0.3, final_estimator__max_iter=1000, final_estimator__random_state=42, final_estimator__selection=cyclic, final_estimator__tol=0.001;, score=-2.188 total time=  21.0s\n",
      "[CV 2/5] END final_estimator__alpha=0.001, final_estimator__fit_intercept=True, final_estimator__l1_ratio=0.3, final_estimator__max_iter=1000, final_estimator__random_state=42, final_estimator__selection=cyclic, final_estimator__tol=0.001;, score=-2.347 total time=  17.1s\n",
      "[CV 3/5] END final_estimator__alpha=0.001, final_estimator__fit_intercept=True, final_estimator__l1_ratio=0.3, final_estimator__max_iter=1000, final_estimator__random_state=42, final_estimator__selection=cyclic, final_estimator__tol=0.001;, score=-2.218 total time=  22.6s\n",
      "[CV 4/5] END final_estimator__alpha=0.001, final_estimator__fit_intercept=True, final_estimator__l1_ratio=0.3, final_estimator__max_iter=1000, final_estimator__random_state=42, final_estimator__selection=cyclic, final_estimator__tol=0.001;, score=-2.163 total time=  20.9s\n",
      "[CV 5/5] END final_estimator__alpha=0.001, final_estimator__fit_intercept=True, final_estimator__l1_ratio=0.3, final_estimator__max_iter=1000, final_estimator__random_state=42, final_estimator__selection=cyclic, final_estimator__tol=0.001;, score=-2.278 total time=  20.6s\n",
      "[CV 1/5] END final_estimator__alpha=0.001, final_estimator__fit_intercept=True, final_estimator__l1_ratio=0.3, final_estimator__max_iter=1000, final_estimator__random_state=42, final_estimator__selection=cyclic, final_estimator__tol=0.01;, score=-2.172 total time=  20.1s\n",
      "[CV 2/5] END final_estimator__alpha=0.001, final_estimator__fit_intercept=True, final_estimator__l1_ratio=0.3, final_estimator__max_iter=1000, final_estimator__random_state=42, final_estimator__selection=cyclic, final_estimator__tol=0.01;, score=-2.336 total time=  18.7s\n",
      "[CV 3/5] END final_estimator__alpha=0.001, final_estimator__fit_intercept=True, final_estimator__l1_ratio=0.3, final_estimator__max_iter=1000, final_estimator__random_state=42, final_estimator__selection=cyclic, final_estimator__tol=0.01;, score=-2.198 total time=  18.9s\n",
      "[CV 4/5] END final_estimator__alpha=0.001, final_estimator__fit_intercept=True, final_estimator__l1_ratio=0.3, final_estimator__max_iter=1000, final_estimator__random_state=42, final_estimator__selection=cyclic, final_estimator__tol=0.01;, score=-2.178 total time=  20.9s\n",
      "[CV 5/5] END final_estimator__alpha=0.001, final_estimator__fit_intercept=True, final_estimator__l1_ratio=0.3, final_estimator__max_iter=1000, final_estimator__random_state=42, final_estimator__selection=cyclic, final_estimator__tol=0.01;, score=-2.280 total time=  18.2s\n",
      "[CV 1/5] END final_estimator__alpha=0.001, final_estimator__fit_intercept=True, final_estimator__l1_ratio=0.3, final_estimator__max_iter=1000, final_estimator__random_state=42, final_estimator__selection=random, final_estimator__tol=0.0001;, score=-2.188 total time=  17.9s\n",
      "[CV 2/5] END final_estimator__alpha=0.001, final_estimator__fit_intercept=True, final_estimator__l1_ratio=0.3, final_estimator__max_iter=1000, final_estimator__random_state=42, final_estimator__selection=random, final_estimator__tol=0.0001;, score=-2.328 total time=  23.9s\n",
      "[CV 3/5] END final_estimator__alpha=0.001, final_estimator__fit_intercept=True, final_estimator__l1_ratio=0.3, final_estimator__max_iter=1000, final_estimator__random_state=42, final_estimator__selection=random, final_estimator__tol=0.0001;, score=-2.206 total time=  19.6s\n",
      "[CV 4/5] END final_estimator__alpha=0.001, final_estimator__fit_intercept=True, final_estimator__l1_ratio=0.3, final_estimator__max_iter=1000, final_estimator__random_state=42, final_estimator__selection=random, final_estimator__tol=0.0001;, score=-2.167 total time=  19.1s\n",
      "[CV 5/5] END final_estimator__alpha=0.001, final_estimator__fit_intercept=True, final_estimator__l1_ratio=0.3, final_estimator__max_iter=1000, final_estimator__random_state=42, final_estimator__selection=random, final_estimator__tol=0.0001;, score=-2.281 total time=  17.8s\n",
      "[CV 1/5] END final_estimator__alpha=0.001, final_estimator__fit_intercept=True, final_estimator__l1_ratio=0.3, final_estimator__max_iter=1000, final_estimator__random_state=42, final_estimator__selection=random, final_estimator__tol=0.001;, score=-2.227 total time=  22.2s\n",
      "[CV 2/5] END final_estimator__alpha=0.001, final_estimator__fit_intercept=True, final_estimator__l1_ratio=0.3, final_estimator__max_iter=1000, final_estimator__random_state=42, final_estimator__selection=random, final_estimator__tol=0.001;, score=-2.339 total time=  19.8s\n",
      "[CV 3/5] END final_estimator__alpha=0.001, final_estimator__fit_intercept=True, final_estimator__l1_ratio=0.3, final_estimator__max_iter=1000, final_estimator__random_state=42, final_estimator__selection=random, final_estimator__tol=0.001;, score=-2.207 total time=  21.2s\n",
      "[CV 4/5] END final_estimator__alpha=0.001, final_estimator__fit_intercept=True, final_estimator__l1_ratio=0.3, final_estimator__max_iter=1000, final_estimator__random_state=42, final_estimator__selection=random, final_estimator__tol=0.001;, score=-2.162 total time=  19.7s\n",
      "[CV 5/5] END final_estimator__alpha=0.001, final_estimator__fit_intercept=True, final_estimator__l1_ratio=0.3, final_estimator__max_iter=1000, final_estimator__random_state=42, final_estimator__selection=random, final_estimator__tol=0.001;, score=-2.287 total time=  26.4s\n",
      "[CV 1/5] END final_estimator__alpha=0.001, final_estimator__fit_intercept=True, final_estimator__l1_ratio=0.3, final_estimator__max_iter=1000, final_estimator__random_state=42, final_estimator__selection=random, final_estimator__tol=0.01;, score=-2.199 total time=  24.5s\n",
      "[CV 2/5] END final_estimator__alpha=0.001, final_estimator__fit_intercept=True, final_estimator__l1_ratio=0.3, final_estimator__max_iter=1000, final_estimator__random_state=42, final_estimator__selection=random, final_estimator__tol=0.01;, score=-2.353 total time=  17.8s\n",
      "[CV 3/5] END final_estimator__alpha=0.001, final_estimator__fit_intercept=True, final_estimator__l1_ratio=0.3, final_estimator__max_iter=1000, final_estimator__random_state=42, final_estimator__selection=random, final_estimator__tol=0.01;, score=-2.193 total time=  25.3s\n",
      "[CV 4/5] END final_estimator__alpha=0.001, final_estimator__fit_intercept=True, final_estimator__l1_ratio=0.3, final_estimator__max_iter=1000, final_estimator__random_state=42, final_estimator__selection=random, final_estimator__tol=0.01;, score=-2.168 total time=  21.8s\n",
      "[CV 5/5] END final_estimator__alpha=0.001, final_estimator__fit_intercept=True, final_estimator__l1_ratio=0.3, final_estimator__max_iter=1000, final_estimator__random_state=42, final_estimator__selection=random, final_estimator__tol=0.01;, score=-2.281 total time=  20.7s\n",
      "[CV 1/5] END final_estimator__alpha=0.001, final_estimator__fit_intercept=True, final_estimator__l1_ratio=0.3, final_estimator__max_iter=2000, final_estimator__random_state=42, final_estimator__selection=cyclic, final_estimator__tol=0.0001;, score=-2.182 total time=  25.3s\n",
      "[CV 2/5] END final_estimator__alpha=0.001, final_estimator__fit_intercept=True, final_estimator__l1_ratio=0.3, final_estimator__max_iter=2000, final_estimator__random_state=42, final_estimator__selection=cyclic, final_estimator__tol=0.0001;, score=-2.329 total time=  22.4s\n",
      "[CV 3/5] END final_estimator__alpha=0.001, final_estimator__fit_intercept=True, final_estimator__l1_ratio=0.3, final_estimator__max_iter=2000, final_estimator__random_state=42, final_estimator__selection=cyclic, final_estimator__tol=0.0001;, score=-2.203 total time=  20.7s\n",
      "[CV 4/5] END final_estimator__alpha=0.001, final_estimator__fit_intercept=True, final_estimator__l1_ratio=0.3, final_estimator__max_iter=2000, final_estimator__random_state=42, final_estimator__selection=cyclic, final_estimator__tol=0.0001;, score=-2.172 total time=  20.0s\n",
      "[CV 5/5] END final_estimator__alpha=0.001, final_estimator__fit_intercept=True, final_estimator__l1_ratio=0.3, final_estimator__max_iter=2000, final_estimator__random_state=42, final_estimator__selection=cyclic, final_estimator__tol=0.0001;, score=-2.300 total time=  20.4s\n",
      "[CV 1/5] END final_estimator__alpha=0.001, final_estimator__fit_intercept=True, final_estimator__l1_ratio=0.3, final_estimator__max_iter=2000, final_estimator__random_state=42, final_estimator__selection=cyclic, final_estimator__tol=0.001;, score=-2.204 total time=  18.9s\n",
      "[CV 2/5] END final_estimator__alpha=0.001, final_estimator__fit_intercept=True, final_estimator__l1_ratio=0.3, final_estimator__max_iter=2000, final_estimator__random_state=42, final_estimator__selection=cyclic, final_estimator__tol=0.001;, score=-2.331 total time=  23.9s\n",
      "[CV 3/5] END final_estimator__alpha=0.001, final_estimator__fit_intercept=True, final_estimator__l1_ratio=0.3, final_estimator__max_iter=2000, final_estimator__random_state=42, final_estimator__selection=cyclic, final_estimator__tol=0.001;, score=-2.174 total time=  20.5s\n",
      "[CV 4/5] END final_estimator__alpha=0.001, final_estimator__fit_intercept=True, final_estimator__l1_ratio=0.3, final_estimator__max_iter=2000, final_estimator__random_state=42, final_estimator__selection=cyclic, final_estimator__tol=0.001;, score=-2.167 total time=  19.9s\n",
      "[CV 5/5] END final_estimator__alpha=0.001, final_estimator__fit_intercept=True, final_estimator__l1_ratio=0.3, final_estimator__max_iter=2000, final_estimator__random_state=42, final_estimator__selection=cyclic, final_estimator__tol=0.001;, score=-2.277 total time=  22.2s\n",
      "[CV 1/5] END final_estimator__alpha=0.001, final_estimator__fit_intercept=True, final_estimator__l1_ratio=0.3, final_estimator__max_iter=2000, final_estimator__random_state=42, final_estimator__selection=cyclic, final_estimator__tol=0.01;, score=-2.188 total time=  20.6s\n",
      "[CV 2/5] END final_estimator__alpha=0.001, final_estimator__fit_intercept=True, final_estimator__l1_ratio=0.3, final_estimator__max_iter=2000, final_estimator__random_state=42, final_estimator__selection=cyclic, final_estimator__tol=0.01;, score=-2.349 total time=  22.5s\n",
      "[CV 3/5] END final_estimator__alpha=0.001, final_estimator__fit_intercept=True, final_estimator__l1_ratio=0.3, final_estimator__max_iter=2000, final_estimator__random_state=42, final_estimator__selection=cyclic, final_estimator__tol=0.01;, score=-2.215 total time=  21.5s\n",
      "[CV 4/5] END final_estimator__alpha=0.001, final_estimator__fit_intercept=True, final_estimator__l1_ratio=0.3, final_estimator__max_iter=2000, final_estimator__random_state=42, final_estimator__selection=cyclic, final_estimator__tol=0.01;, score=-2.149 total time=  19.6s\n",
      "[CV 5/5] END final_estimator__alpha=0.001, final_estimator__fit_intercept=True, final_estimator__l1_ratio=0.3, final_estimator__max_iter=2000, final_estimator__random_state=42, final_estimator__selection=cyclic, final_estimator__tol=0.01;, score=-2.291 total time=  20.1s\n",
      "[CV 1/5] END final_estimator__alpha=0.001, final_estimator__fit_intercept=True, final_estimator__l1_ratio=0.3, final_estimator__max_iter=2000, final_estimator__random_state=42, final_estimator__selection=random, final_estimator__tol=0.0001;, score=-2.210 total time=  17.5s\n",
      "[CV 2/5] END final_estimator__alpha=0.001, final_estimator__fit_intercept=True, final_estimator__l1_ratio=0.3, final_estimator__max_iter=2000, final_estimator__random_state=42, final_estimator__selection=random, final_estimator__tol=0.0001;, score=-2.355 total time=  22.9s\n",
      "[CV 3/5] END final_estimator__alpha=0.001, final_estimator__fit_intercept=True, final_estimator__l1_ratio=0.3, final_estimator__max_iter=2000, final_estimator__random_state=42, final_estimator__selection=random, final_estimator__tol=0.0001;, score=-2.196 total time=  17.8s\n",
      "[CV 4/5] END final_estimator__alpha=0.001, final_estimator__fit_intercept=True, final_estimator__l1_ratio=0.3, final_estimator__max_iter=2000, final_estimator__random_state=42, final_estimator__selection=random, final_estimator__tol=0.0001;, score=-2.154 total time=  23.0s\n",
      "[CV 5/5] END final_estimator__alpha=0.001, final_estimator__fit_intercept=True, final_estimator__l1_ratio=0.3, final_estimator__max_iter=2000, final_estimator__random_state=42, final_estimator__selection=random, final_estimator__tol=0.0001;, score=-2.302 total time=  20.7s\n",
      "[CV 1/5] END final_estimator__alpha=0.001, final_estimator__fit_intercept=True, final_estimator__l1_ratio=0.3, final_estimator__max_iter=2000, final_estimator__random_state=42, final_estimator__selection=random, final_estimator__tol=0.001;, score=-2.202 total time=  17.8s\n",
      "[CV 2/5] END final_estimator__alpha=0.001, final_estimator__fit_intercept=True, final_estimator__l1_ratio=0.3, final_estimator__max_iter=2000, final_estimator__random_state=42, final_estimator__selection=random, final_estimator__tol=0.001;, score=-2.345 total time=  20.1s\n",
      "[CV 3/5] END final_estimator__alpha=0.001, final_estimator__fit_intercept=True, final_estimator__l1_ratio=0.3, final_estimator__max_iter=2000, final_estimator__random_state=42, final_estimator__selection=random, final_estimator__tol=0.001;, score=-2.217 total time=  24.6s\n",
      "[CV 4/5] END final_estimator__alpha=0.001, final_estimator__fit_intercept=True, final_estimator__l1_ratio=0.3, final_estimator__max_iter=2000, final_estimator__random_state=42, final_estimator__selection=random, final_estimator__tol=0.001;, score=-2.163 total time=  24.4s\n",
      "[CV 5/5] END final_estimator__alpha=0.001, final_estimator__fit_intercept=True, final_estimator__l1_ratio=0.3, final_estimator__max_iter=2000, final_estimator__random_state=42, final_estimator__selection=random, final_estimator__tol=0.001;, score=-2.293 total time=  17.6s\n",
      "[CV 1/5] END final_estimator__alpha=0.001, final_estimator__fit_intercept=True, final_estimator__l1_ratio=0.3, final_estimator__max_iter=2000, final_estimator__random_state=42, final_estimator__selection=random, final_estimator__tol=0.01;, score=-2.183 total time=  20.8s\n",
      "[CV 2/5] END final_estimator__alpha=0.001, final_estimator__fit_intercept=True, final_estimator__l1_ratio=0.3, final_estimator__max_iter=2000, final_estimator__random_state=42, final_estimator__selection=random, final_estimator__tol=0.01;, score=-2.330 total time=  21.1s\n",
      "[CV 3/5] END final_estimator__alpha=0.001, final_estimator__fit_intercept=True, final_estimator__l1_ratio=0.3, final_estimator__max_iter=2000, final_estimator__random_state=42, final_estimator__selection=random, final_estimator__tol=0.01;, score=-2.212 total time=  22.5s\n",
      "[CV 4/5] END final_estimator__alpha=0.001, final_estimator__fit_intercept=True, final_estimator__l1_ratio=0.3, final_estimator__max_iter=2000, final_estimator__random_state=42, final_estimator__selection=random, final_estimator__tol=0.01;, score=-2.186 total time=  18.4s\n",
      "[CV 5/5] END final_estimator__alpha=0.001, final_estimator__fit_intercept=True, final_estimator__l1_ratio=0.3, final_estimator__max_iter=2000, final_estimator__random_state=42, final_estimator__selection=random, final_estimator__tol=0.01;, score=-2.298 total time=  21.3s\n",
      "[CV 1/5] END final_estimator__alpha=0.001, final_estimator__fit_intercept=True, final_estimator__l1_ratio=0.5, final_estimator__max_iter=1000, final_estimator__random_state=42, final_estimator__selection=cyclic, final_estimator__tol=0.0001;, score=-2.215 total time=  20.3s\n",
      "[CV 2/5] END final_estimator__alpha=0.001, final_estimator__fit_intercept=True, final_estimator__l1_ratio=0.5, final_estimator__max_iter=1000, final_estimator__random_state=42, final_estimator__selection=cyclic, final_estimator__tol=0.0001;, score=-2.334 total time=  18.5s\n",
      "[CV 3/5] END final_estimator__alpha=0.001, final_estimator__fit_intercept=True, final_estimator__l1_ratio=0.5, final_estimator__max_iter=1000, final_estimator__random_state=42, final_estimator__selection=cyclic, final_estimator__tol=0.0001;, score=-2.208 total time=  19.6s\n",
      "[CV 4/5] END final_estimator__alpha=0.001, final_estimator__fit_intercept=True, final_estimator__l1_ratio=0.5, final_estimator__max_iter=1000, final_estimator__random_state=42, final_estimator__selection=cyclic, final_estimator__tol=0.0001;, score=-2.168 total time=  21.9s\n",
      "[CV 5/5] END final_estimator__alpha=0.001, final_estimator__fit_intercept=True, final_estimator__l1_ratio=0.5, final_estimator__max_iter=1000, final_estimator__random_state=42, final_estimator__selection=cyclic, final_estimator__tol=0.0001;, score=-2.284 total time=  22.2s\n",
      "[CV 1/5] END final_estimator__alpha=0.001, final_estimator__fit_intercept=True, final_estimator__l1_ratio=0.5, final_estimator__max_iter=1000, final_estimator__random_state=42, final_estimator__selection=cyclic, final_estimator__tol=0.001;, score=-2.193 total time=  19.6s\n",
      "[CV 2/5] END final_estimator__alpha=0.001, final_estimator__fit_intercept=True, final_estimator__l1_ratio=0.5, final_estimator__max_iter=1000, final_estimator__random_state=42, final_estimator__selection=cyclic, final_estimator__tol=0.001;, score=-2.342 total time=  19.3s\n",
      "[CV 3/5] END final_estimator__alpha=0.001, final_estimator__fit_intercept=True, final_estimator__l1_ratio=0.5, final_estimator__max_iter=1000, final_estimator__random_state=42, final_estimator__selection=cyclic, final_estimator__tol=0.001;, score=-2.204 total time=  19.1s\n",
      "[CV 4/5] END final_estimator__alpha=0.001, final_estimator__fit_intercept=True, final_estimator__l1_ratio=0.5, final_estimator__max_iter=1000, final_estimator__random_state=42, final_estimator__selection=cyclic, final_estimator__tol=0.001;, score=-2.149 total time=  22.9s\n",
      "[CV 5/5] END final_estimator__alpha=0.001, final_estimator__fit_intercept=True, final_estimator__l1_ratio=0.5, final_estimator__max_iter=1000, final_estimator__random_state=42, final_estimator__selection=cyclic, final_estimator__tol=0.001;, score=-2.300 total time=  22.1s\n",
      "[CV 1/5] END final_estimator__alpha=0.001, final_estimator__fit_intercept=True, final_estimator__l1_ratio=0.5, final_estimator__max_iter=1000, final_estimator__random_state=42, final_estimator__selection=cyclic, final_estimator__tol=0.01;, score=-2.176 total time=  20.6s\n",
      "[CV 2/5] END final_estimator__alpha=0.001, final_estimator__fit_intercept=True, final_estimator__l1_ratio=0.5, final_estimator__max_iter=1000, final_estimator__random_state=42, final_estimator__selection=cyclic, final_estimator__tol=0.01;, score=-2.345 total time=  20.4s\n",
      "[CV 3/5] END final_estimator__alpha=0.001, final_estimator__fit_intercept=True, final_estimator__l1_ratio=0.5, final_estimator__max_iter=1000, final_estimator__random_state=42, final_estimator__selection=cyclic, final_estimator__tol=0.01;, score=-2.191 total time=  24.7s\n",
      "[CV 4/5] END final_estimator__alpha=0.001, final_estimator__fit_intercept=True, final_estimator__l1_ratio=0.5, final_estimator__max_iter=1000, final_estimator__random_state=42, final_estimator__selection=cyclic, final_estimator__tol=0.01;, score=-2.173 total time=  19.8s\n",
      "[CV 5/5] END final_estimator__alpha=0.001, final_estimator__fit_intercept=True, final_estimator__l1_ratio=0.5, final_estimator__max_iter=1000, final_estimator__random_state=42, final_estimator__selection=cyclic, final_estimator__tol=0.01;, score=-2.298 total time=  25.8s\n",
      "[CV 1/5] END final_estimator__alpha=0.001, final_estimator__fit_intercept=True, final_estimator__l1_ratio=0.5, final_estimator__max_iter=1000, final_estimator__random_state=42, final_estimator__selection=random, final_estimator__tol=0.0001;, score=-2.205 total time=  18.7s\n",
      "[CV 2/5] END final_estimator__alpha=0.001, final_estimator__fit_intercept=True, final_estimator__l1_ratio=0.5, final_estimator__max_iter=1000, final_estimator__random_state=42, final_estimator__selection=random, final_estimator__tol=0.0001;, score=-2.326 total time=  26.7s\n",
      "[CV 3/5] END final_estimator__alpha=0.001, final_estimator__fit_intercept=True, final_estimator__l1_ratio=0.5, final_estimator__max_iter=1000, final_estimator__random_state=42, final_estimator__selection=random, final_estimator__tol=0.0001;, score=-2.198 total time=  20.0s\n",
      "[CV 4/5] END final_estimator__alpha=0.001, final_estimator__fit_intercept=True, final_estimator__l1_ratio=0.5, final_estimator__max_iter=1000, final_estimator__random_state=42, final_estimator__selection=random, final_estimator__tol=0.0001;, score=-2.149 total time=  20.6s\n",
      "[CV 5/5] END final_estimator__alpha=0.001, final_estimator__fit_intercept=True, final_estimator__l1_ratio=0.5, final_estimator__max_iter=1000, final_estimator__random_state=42, final_estimator__selection=random, final_estimator__tol=0.0001;, score=-2.292 total time=  20.3s\n",
      "[CV 1/5] END final_estimator__alpha=0.001, final_estimator__fit_intercept=True, final_estimator__l1_ratio=0.5, final_estimator__max_iter=1000, final_estimator__random_state=42, final_estimator__selection=random, final_estimator__tol=0.001;, score=-2.178 total time=  27.6s\n",
      "[CV 2/5] END final_estimator__alpha=0.001, final_estimator__fit_intercept=True, final_estimator__l1_ratio=0.5, final_estimator__max_iter=1000, final_estimator__random_state=42, final_estimator__selection=random, final_estimator__tol=0.001;, score=-2.344 total time=  20.4s\n",
      "[CV 3/5] END final_estimator__alpha=0.001, final_estimator__fit_intercept=True, final_estimator__l1_ratio=0.5, final_estimator__max_iter=1000, final_estimator__random_state=42, final_estimator__selection=random, final_estimator__tol=0.001;, score=-2.203 total time=  20.2s\n",
      "[CV 4/5] END final_estimator__alpha=0.001, final_estimator__fit_intercept=True, final_estimator__l1_ratio=0.5, final_estimator__max_iter=1000, final_estimator__random_state=42, final_estimator__selection=random, final_estimator__tol=0.001;, score=-2.180 total time=  19.8s\n",
      "[CV 5/5] END final_estimator__alpha=0.001, final_estimator__fit_intercept=True, final_estimator__l1_ratio=0.5, final_estimator__max_iter=1000, final_estimator__random_state=42, final_estimator__selection=random, final_estimator__tol=0.001;, score=-2.296 total time=  23.2s\n",
      "[CV 1/5] END final_estimator__alpha=0.001, final_estimator__fit_intercept=True, final_estimator__l1_ratio=0.5, final_estimator__max_iter=1000, final_estimator__random_state=42, final_estimator__selection=random, final_estimator__tol=0.01;, score=-2.179 total time=  20.6s\n",
      "[CV 2/5] END final_estimator__alpha=0.001, final_estimator__fit_intercept=True, final_estimator__l1_ratio=0.5, final_estimator__max_iter=1000, final_estimator__random_state=42, final_estimator__selection=random, final_estimator__tol=0.01;, score=-2.332 total time=  21.5s\n",
      "[CV 3/5] END final_estimator__alpha=0.001, final_estimator__fit_intercept=True, final_estimator__l1_ratio=0.5, final_estimator__max_iter=1000, final_estimator__random_state=42, final_estimator__selection=random, final_estimator__tol=0.01;, score=-2.214 total time=  21.5s\n",
      "[CV 4/5] END final_estimator__alpha=0.001, final_estimator__fit_intercept=True, final_estimator__l1_ratio=0.5, final_estimator__max_iter=1000, final_estimator__random_state=42, final_estimator__selection=random, final_estimator__tol=0.01;, score=-2.195 total time=  23.5s\n",
      "[CV 5/5] END final_estimator__alpha=0.001, final_estimator__fit_intercept=True, final_estimator__l1_ratio=0.5, final_estimator__max_iter=1000, final_estimator__random_state=42, final_estimator__selection=random, final_estimator__tol=0.01;, score=-2.288 total time=  22.9s\n",
      "[CV 1/5] END final_estimator__alpha=0.001, final_estimator__fit_intercept=True, final_estimator__l1_ratio=0.5, final_estimator__max_iter=2000, final_estimator__random_state=42, final_estimator__selection=cyclic, final_estimator__tol=0.0001;, score=-2.181 total time=  21.0s\n",
      "[CV 2/5] END final_estimator__alpha=0.001, final_estimator__fit_intercept=True, final_estimator__l1_ratio=0.5, final_estimator__max_iter=2000, final_estimator__random_state=42, final_estimator__selection=cyclic, final_estimator__tol=0.0001;, score=-2.326 total time=  19.0s\n",
      "[CV 3/5] END final_estimator__alpha=0.001, final_estimator__fit_intercept=True, final_estimator__l1_ratio=0.5, final_estimator__max_iter=2000, final_estimator__random_state=42, final_estimator__selection=cyclic, final_estimator__tol=0.0001;, score=-2.187 total time=  19.2s\n",
      "[CV 4/5] END final_estimator__alpha=0.001, final_estimator__fit_intercept=True, final_estimator__l1_ratio=0.5, final_estimator__max_iter=2000, final_estimator__random_state=42, final_estimator__selection=cyclic, final_estimator__tol=0.0001;, score=-2.166 total time=  18.6s\n",
      "[CV 5/5] END final_estimator__alpha=0.001, final_estimator__fit_intercept=True, final_estimator__l1_ratio=0.5, final_estimator__max_iter=2000, final_estimator__random_state=42, final_estimator__selection=cyclic, final_estimator__tol=0.0001;, score=-2.285 total time=  20.0s\n",
      "[CV 1/5] END final_estimator__alpha=0.001, final_estimator__fit_intercept=True, final_estimator__l1_ratio=0.5, final_estimator__max_iter=2000, final_estimator__random_state=42, final_estimator__selection=cyclic, final_estimator__tol=0.001;, score=-2.179 total time=  21.9s\n",
      "[CV 2/5] END final_estimator__alpha=0.001, final_estimator__fit_intercept=True, final_estimator__l1_ratio=0.5, final_estimator__max_iter=2000, final_estimator__random_state=42, final_estimator__selection=cyclic, final_estimator__tol=0.001;, score=-2.339 total time=  21.6s\n",
      "[CV 3/5] END final_estimator__alpha=0.001, final_estimator__fit_intercept=True, final_estimator__l1_ratio=0.5, final_estimator__max_iter=2000, final_estimator__random_state=42, final_estimator__selection=cyclic, final_estimator__tol=0.001;, score=-2.198 total time=  21.1s\n",
      "[CV 4/5] END final_estimator__alpha=0.001, final_estimator__fit_intercept=True, final_estimator__l1_ratio=0.5, final_estimator__max_iter=2000, final_estimator__random_state=42, final_estimator__selection=cyclic, final_estimator__tol=0.001;, score=-2.167 total time=  23.3s\n",
      "[CV 5/5] END final_estimator__alpha=0.001, final_estimator__fit_intercept=True, final_estimator__l1_ratio=0.5, final_estimator__max_iter=2000, final_estimator__random_state=42, final_estimator__selection=cyclic, final_estimator__tol=0.001;, score=-2.293 total time=  20.2s\n",
      "[CV 1/5] END final_estimator__alpha=0.001, final_estimator__fit_intercept=True, final_estimator__l1_ratio=0.5, final_estimator__max_iter=2000, final_estimator__random_state=42, final_estimator__selection=cyclic, final_estimator__tol=0.01;, score=-2.189 total time=  24.8s\n",
      "[CV 2/5] END final_estimator__alpha=0.001, final_estimator__fit_intercept=True, final_estimator__l1_ratio=0.5, final_estimator__max_iter=2000, final_estimator__random_state=42, final_estimator__selection=cyclic, final_estimator__tol=0.01;, score=-2.338 total time=  22.2s\n",
      "[CV 3/5] END final_estimator__alpha=0.001, final_estimator__fit_intercept=True, final_estimator__l1_ratio=0.5, final_estimator__max_iter=2000, final_estimator__random_state=42, final_estimator__selection=cyclic, final_estimator__tol=0.01;, score=-2.190 total time=  20.6s\n",
      "[CV 4/5] END final_estimator__alpha=0.001, final_estimator__fit_intercept=True, final_estimator__l1_ratio=0.5, final_estimator__max_iter=2000, final_estimator__random_state=42, final_estimator__selection=cyclic, final_estimator__tol=0.01;, score=-2.159 total time=  23.8s\n",
      "[CV 5/5] END final_estimator__alpha=0.001, final_estimator__fit_intercept=True, final_estimator__l1_ratio=0.5, final_estimator__max_iter=2000, final_estimator__random_state=42, final_estimator__selection=cyclic, final_estimator__tol=0.01;, score=-2.317 total time=  26.9s\n",
      "[CV 1/5] END final_estimator__alpha=0.001, final_estimator__fit_intercept=True, final_estimator__l1_ratio=0.5, final_estimator__max_iter=2000, final_estimator__random_state=42, final_estimator__selection=random, final_estimator__tol=0.0001;, score=-2.171 total time=  25.2s\n",
      "[CV 2/5] END final_estimator__alpha=0.001, final_estimator__fit_intercept=True, final_estimator__l1_ratio=0.5, final_estimator__max_iter=2000, final_estimator__random_state=42, final_estimator__selection=random, final_estimator__tol=0.0001;, score=-2.335 total time=  21.3s\n",
      "[CV 3/5] END final_estimator__alpha=0.001, final_estimator__fit_intercept=True, final_estimator__l1_ratio=0.5, final_estimator__max_iter=2000, final_estimator__random_state=42, final_estimator__selection=random, final_estimator__tol=0.0001;, score=-2.192 total time=  18.5s\n",
      "[CV 4/5] END final_estimator__alpha=0.001, final_estimator__fit_intercept=True, final_estimator__l1_ratio=0.5, final_estimator__max_iter=2000, final_estimator__random_state=42, final_estimator__selection=random, final_estimator__tol=0.0001;, score=-2.154 total time=  27.4s\n",
      "[CV 5/5] END final_estimator__alpha=0.001, final_estimator__fit_intercept=True, final_estimator__l1_ratio=0.5, final_estimator__max_iter=2000, final_estimator__random_state=42, final_estimator__selection=random, final_estimator__tol=0.0001;, score=-2.284 total time=  22.4s\n",
      "[CV 1/5] END final_estimator__alpha=0.001, final_estimator__fit_intercept=True, final_estimator__l1_ratio=0.5, final_estimator__max_iter=2000, final_estimator__random_state=42, final_estimator__selection=random, final_estimator__tol=0.001;, score=-2.206 total time=  24.2s\n",
      "[CV 2/5] END final_estimator__alpha=0.001, final_estimator__fit_intercept=True, final_estimator__l1_ratio=0.5, final_estimator__max_iter=2000, final_estimator__random_state=42, final_estimator__selection=random, final_estimator__tol=0.001;, score=-2.342 total time=  18.3s\n",
      "[CV 3/5] END final_estimator__alpha=0.001, final_estimator__fit_intercept=True, final_estimator__l1_ratio=0.5, final_estimator__max_iter=2000, final_estimator__random_state=42, final_estimator__selection=random, final_estimator__tol=0.001;, score=-2.197 total time=  19.4s\n",
      "[CV 4/5] END final_estimator__alpha=0.001, final_estimator__fit_intercept=True, final_estimator__l1_ratio=0.5, final_estimator__max_iter=2000, final_estimator__random_state=42, final_estimator__selection=random, final_estimator__tol=0.001;, score=-2.150 total time=  21.0s\n",
      "[CV 5/5] END final_estimator__alpha=0.001, final_estimator__fit_intercept=True, final_estimator__l1_ratio=0.5, final_estimator__max_iter=2000, final_estimator__random_state=42, final_estimator__selection=random, final_estimator__tol=0.001;, score=-2.297 total time=  19.7s\n",
      "[CV 1/5] END final_estimator__alpha=0.001, final_estimator__fit_intercept=True, final_estimator__l1_ratio=0.5, final_estimator__max_iter=2000, final_estimator__random_state=42, final_estimator__selection=random, final_estimator__tol=0.01;, score=-2.168 total time=  22.7s\n",
      "[CV 2/5] END final_estimator__alpha=0.001, final_estimator__fit_intercept=True, final_estimator__l1_ratio=0.5, final_estimator__max_iter=2000, final_estimator__random_state=42, final_estimator__selection=random, final_estimator__tol=0.01;, score=-2.323 total time=  21.3s\n",
      "[CV 3/5] END final_estimator__alpha=0.001, final_estimator__fit_intercept=True, final_estimator__l1_ratio=0.5, final_estimator__max_iter=2000, final_estimator__random_state=42, final_estimator__selection=random, final_estimator__tol=0.01;, score=-2.221 total time=  13.9s\n",
      "[CV 4/5] END final_estimator__alpha=0.001, final_estimator__fit_intercept=True, final_estimator__l1_ratio=0.5, final_estimator__max_iter=2000, final_estimator__random_state=42, final_estimator__selection=random, final_estimator__tol=0.01;, score=-2.165 total time=  21.0s\n",
      "[CV 5/5] END final_estimator__alpha=0.001, final_estimator__fit_intercept=True, final_estimator__l1_ratio=0.5, final_estimator__max_iter=2000, final_estimator__random_state=42, final_estimator__selection=random, final_estimator__tol=0.01;, score=-2.283 total time=  22.3s\n",
      "[CV 1/5] END final_estimator__alpha=0.001, final_estimator__fit_intercept=True, final_estimator__l1_ratio=0.7, final_estimator__max_iter=1000, final_estimator__random_state=42, final_estimator__selection=cyclic, final_estimator__tol=0.0001;, score=-2.204 total time=  21.7s\n",
      "[CV 2/5] END final_estimator__alpha=0.001, final_estimator__fit_intercept=True, final_estimator__l1_ratio=0.7, final_estimator__max_iter=1000, final_estimator__random_state=42, final_estimator__selection=cyclic, final_estimator__tol=0.0001;, score=-2.343 total time=  18.2s\n",
      "[CV 3/5] END final_estimator__alpha=0.001, final_estimator__fit_intercept=True, final_estimator__l1_ratio=0.7, final_estimator__max_iter=1000, final_estimator__random_state=42, final_estimator__selection=cyclic, final_estimator__tol=0.0001;, score=-2.202 total time=  23.9s\n",
      "[CV 4/5] END final_estimator__alpha=0.001, final_estimator__fit_intercept=True, final_estimator__l1_ratio=0.7, final_estimator__max_iter=1000, final_estimator__random_state=42, final_estimator__selection=cyclic, final_estimator__tol=0.0001;, score=-2.161 total time=  21.3s\n",
      "[CV 5/5] END final_estimator__alpha=0.001, final_estimator__fit_intercept=True, final_estimator__l1_ratio=0.7, final_estimator__max_iter=1000, final_estimator__random_state=42, final_estimator__selection=cyclic, final_estimator__tol=0.0001;, score=-2.292 total time=  18.0s\n",
      "[CV 1/5] END final_estimator__alpha=0.001, final_estimator__fit_intercept=True, final_estimator__l1_ratio=0.7, final_estimator__max_iter=1000, final_estimator__random_state=42, final_estimator__selection=cyclic, final_estimator__tol=0.001;, score=-2.206 total time=  18.8s\n",
      "[CV 2/5] END final_estimator__alpha=0.001, final_estimator__fit_intercept=True, final_estimator__l1_ratio=0.7, final_estimator__max_iter=1000, final_estimator__random_state=42, final_estimator__selection=cyclic, final_estimator__tol=0.001;, score=-2.334 total time=  17.2s\n",
      "[CV 3/5] END final_estimator__alpha=0.001, final_estimator__fit_intercept=True, final_estimator__l1_ratio=0.7, final_estimator__max_iter=1000, final_estimator__random_state=42, final_estimator__selection=cyclic, final_estimator__tol=0.001;, score=-2.207 total time=  18.2s\n",
      "[CV 4/5] END final_estimator__alpha=0.001, final_estimator__fit_intercept=True, final_estimator__l1_ratio=0.7, final_estimator__max_iter=1000, final_estimator__random_state=42, final_estimator__selection=cyclic, final_estimator__tol=0.001;, score=-2.169 total time=  22.7s\n",
      "[CV 5/5] END final_estimator__alpha=0.001, final_estimator__fit_intercept=True, final_estimator__l1_ratio=0.7, final_estimator__max_iter=1000, final_estimator__random_state=42, final_estimator__selection=cyclic, final_estimator__tol=0.001;, score=-2.287 total time=  21.1s\n",
      "[CV 1/5] END final_estimator__alpha=0.001, final_estimator__fit_intercept=True, final_estimator__l1_ratio=0.7, final_estimator__max_iter=1000, final_estimator__random_state=42, final_estimator__selection=cyclic, final_estimator__tol=0.01;, score=-2.171 total time=  22.3s\n",
      "[CV 2/5] END final_estimator__alpha=0.001, final_estimator__fit_intercept=True, final_estimator__l1_ratio=0.7, final_estimator__max_iter=1000, final_estimator__random_state=42, final_estimator__selection=cyclic, final_estimator__tol=0.01;, score=-2.335 total time=  16.1s\n",
      "[CV 3/5] END final_estimator__alpha=0.001, final_estimator__fit_intercept=True, final_estimator__l1_ratio=0.7, final_estimator__max_iter=1000, final_estimator__random_state=42, final_estimator__selection=cyclic, final_estimator__tol=0.01;, score=-2.192 total time=  18.9s\n",
      "[CV 4/5] END final_estimator__alpha=0.001, final_estimator__fit_intercept=True, final_estimator__l1_ratio=0.7, final_estimator__max_iter=1000, final_estimator__random_state=42, final_estimator__selection=cyclic, final_estimator__tol=0.01;, score=-2.162 total time=  18.6s\n",
      "[CV 5/5] END final_estimator__alpha=0.001, final_estimator__fit_intercept=True, final_estimator__l1_ratio=0.7, final_estimator__max_iter=1000, final_estimator__random_state=42, final_estimator__selection=cyclic, final_estimator__tol=0.01;, score=-2.305 total time=  21.9s\n",
      "[CV 1/5] END final_estimator__alpha=0.001, final_estimator__fit_intercept=True, final_estimator__l1_ratio=0.7, final_estimator__max_iter=1000, final_estimator__random_state=42, final_estimator__selection=random, final_estimator__tol=0.0001;, score=-2.186 total time=  17.9s\n",
      "[CV 2/5] END final_estimator__alpha=0.001, final_estimator__fit_intercept=True, final_estimator__l1_ratio=0.7, final_estimator__max_iter=1000, final_estimator__random_state=42, final_estimator__selection=random, final_estimator__tol=0.0001;, score=-2.349 total time=  19.8s\n",
      "[CV 3/5] END final_estimator__alpha=0.001, final_estimator__fit_intercept=True, final_estimator__l1_ratio=0.7, final_estimator__max_iter=1000, final_estimator__random_state=42, final_estimator__selection=random, final_estimator__tol=0.0001;, score=-2.197 total time=  20.9s\n",
      "[CV 4/5] END final_estimator__alpha=0.001, final_estimator__fit_intercept=True, final_estimator__l1_ratio=0.7, final_estimator__max_iter=1000, final_estimator__random_state=42, final_estimator__selection=random, final_estimator__tol=0.0001;, score=-2.175 total time=  17.5s\n",
      "[CV 5/5] END final_estimator__alpha=0.001, final_estimator__fit_intercept=True, final_estimator__l1_ratio=0.7, final_estimator__max_iter=1000, final_estimator__random_state=42, final_estimator__selection=random, final_estimator__tol=0.0001;, score=-2.293 total time=  16.0s\n",
      "[CV 1/5] END final_estimator__alpha=0.001, final_estimator__fit_intercept=True, final_estimator__l1_ratio=0.7, final_estimator__max_iter=1000, final_estimator__random_state=42, final_estimator__selection=random, final_estimator__tol=0.001;, score=-2.194 total time=  23.8s\n",
      "[CV 2/5] END final_estimator__alpha=0.001, final_estimator__fit_intercept=True, final_estimator__l1_ratio=0.7, final_estimator__max_iter=1000, final_estimator__random_state=42, final_estimator__selection=random, final_estimator__tol=0.001;, score=-2.348 total time=  21.3s\n",
      "[CV 3/5] END final_estimator__alpha=0.001, final_estimator__fit_intercept=True, final_estimator__l1_ratio=0.7, final_estimator__max_iter=1000, final_estimator__random_state=42, final_estimator__selection=random, final_estimator__tol=0.001;, score=-2.198 total time=  18.1s\n",
      "[CV 4/5] END final_estimator__alpha=0.001, final_estimator__fit_intercept=True, final_estimator__l1_ratio=0.7, final_estimator__max_iter=1000, final_estimator__random_state=42, final_estimator__selection=random, final_estimator__tol=0.001;, score=-2.173 total time=  18.4s\n",
      "[CV 5/5] END final_estimator__alpha=0.001, final_estimator__fit_intercept=True, final_estimator__l1_ratio=0.7, final_estimator__max_iter=1000, final_estimator__random_state=42, final_estimator__selection=random, final_estimator__tol=0.001;, score=-2.289 total time=  19.6s\n",
      "[CV 1/5] END final_estimator__alpha=0.001, final_estimator__fit_intercept=True, final_estimator__l1_ratio=0.7, final_estimator__max_iter=1000, final_estimator__random_state=42, final_estimator__selection=random, final_estimator__tol=0.01;, score=-2.165 total time=  25.5s\n",
      "[CV 2/5] END final_estimator__alpha=0.001, final_estimator__fit_intercept=True, final_estimator__l1_ratio=0.7, final_estimator__max_iter=1000, final_estimator__random_state=42, final_estimator__selection=random, final_estimator__tol=0.01;, score=-2.317 total time=  16.4s\n",
      "[CV 3/5] END final_estimator__alpha=0.001, final_estimator__fit_intercept=True, final_estimator__l1_ratio=0.7, final_estimator__max_iter=1000, final_estimator__random_state=42, final_estimator__selection=random, final_estimator__tol=0.01;, score=-2.194 total time=  16.3s\n",
      "[CV 4/5] END final_estimator__alpha=0.001, final_estimator__fit_intercept=True, final_estimator__l1_ratio=0.7, final_estimator__max_iter=1000, final_estimator__random_state=42, final_estimator__selection=random, final_estimator__tol=0.01;, score=-2.176 total time=  21.0s\n",
      "[CV 5/5] END final_estimator__alpha=0.001, final_estimator__fit_intercept=True, final_estimator__l1_ratio=0.7, final_estimator__max_iter=1000, final_estimator__random_state=42, final_estimator__selection=random, final_estimator__tol=0.01;, score=-2.286 total time=  21.5s\n",
      "[CV 1/5] END final_estimator__alpha=0.001, final_estimator__fit_intercept=True, final_estimator__l1_ratio=0.7, final_estimator__max_iter=2000, final_estimator__random_state=42, final_estimator__selection=cyclic, final_estimator__tol=0.0001;, score=-2.195 total time=  24.0s\n",
      "[CV 2/5] END final_estimator__alpha=0.001, final_estimator__fit_intercept=True, final_estimator__l1_ratio=0.7, final_estimator__max_iter=2000, final_estimator__random_state=42, final_estimator__selection=cyclic, final_estimator__tol=0.0001;, score=-2.335 total time=  19.9s\n",
      "[CV 3/5] END final_estimator__alpha=0.001, final_estimator__fit_intercept=True, final_estimator__l1_ratio=0.7, final_estimator__max_iter=2000, final_estimator__random_state=42, final_estimator__selection=cyclic, final_estimator__tol=0.0001;, score=-2.210 total time=  23.5s\n",
      "[CV 4/5] END final_estimator__alpha=0.001, final_estimator__fit_intercept=True, final_estimator__l1_ratio=0.7, final_estimator__max_iter=2000, final_estimator__random_state=42, final_estimator__selection=cyclic, final_estimator__tol=0.0001;, score=-2.161 total time=  17.9s\n",
      "[CV 5/5] END final_estimator__alpha=0.001, final_estimator__fit_intercept=True, final_estimator__l1_ratio=0.7, final_estimator__max_iter=2000, final_estimator__random_state=42, final_estimator__selection=cyclic, final_estimator__tol=0.0001;, score=-2.277 total time=  21.6s\n",
      "[CV 1/5] END final_estimator__alpha=0.001, final_estimator__fit_intercept=True, final_estimator__l1_ratio=0.7, final_estimator__max_iter=2000, final_estimator__random_state=42, final_estimator__selection=cyclic, final_estimator__tol=0.001;, score=-2.202 total time=  18.3s\n",
      "[CV 2/5] END final_estimator__alpha=0.001, final_estimator__fit_intercept=True, final_estimator__l1_ratio=0.7, final_estimator__max_iter=2000, final_estimator__random_state=42, final_estimator__selection=cyclic, final_estimator__tol=0.001;, score=-2.329 total time=  21.9s\n",
      "[CV 3/5] END final_estimator__alpha=0.001, final_estimator__fit_intercept=True, final_estimator__l1_ratio=0.7, final_estimator__max_iter=2000, final_estimator__random_state=42, final_estimator__selection=cyclic, final_estimator__tol=0.001;, score=-2.185 total time=  22.6s\n",
      "[CV 4/5] END final_estimator__alpha=0.001, final_estimator__fit_intercept=True, final_estimator__l1_ratio=0.7, final_estimator__max_iter=2000, final_estimator__random_state=42, final_estimator__selection=cyclic, final_estimator__tol=0.001;, score=-2.156 total time=  21.0s\n",
      "[CV 5/5] END final_estimator__alpha=0.001, final_estimator__fit_intercept=True, final_estimator__l1_ratio=0.7, final_estimator__max_iter=2000, final_estimator__random_state=42, final_estimator__selection=cyclic, final_estimator__tol=0.001;, score=-2.294 total time=  17.8s\n",
      "[CV 1/5] END final_estimator__alpha=0.001, final_estimator__fit_intercept=True, final_estimator__l1_ratio=0.7, final_estimator__max_iter=2000, final_estimator__random_state=42, final_estimator__selection=cyclic, final_estimator__tol=0.01;, score=-2.190 total time=  22.6s\n",
      "[CV 2/5] END final_estimator__alpha=0.001, final_estimator__fit_intercept=True, final_estimator__l1_ratio=0.7, final_estimator__max_iter=2000, final_estimator__random_state=42, final_estimator__selection=cyclic, final_estimator__tol=0.01;, score=-2.347 total time=  20.9s\n",
      "[CV 3/5] END final_estimator__alpha=0.001, final_estimator__fit_intercept=True, final_estimator__l1_ratio=0.7, final_estimator__max_iter=2000, final_estimator__random_state=42, final_estimator__selection=cyclic, final_estimator__tol=0.01;, score=-2.182 total time=  22.2s\n",
      "[CV 4/5] END final_estimator__alpha=0.001, final_estimator__fit_intercept=True, final_estimator__l1_ratio=0.7, final_estimator__max_iter=2000, final_estimator__random_state=42, final_estimator__selection=cyclic, final_estimator__tol=0.01;, score=-2.164 total time=  16.6s\n",
      "[CV 5/5] END final_estimator__alpha=0.001, final_estimator__fit_intercept=True, final_estimator__l1_ratio=0.7, final_estimator__max_iter=2000, final_estimator__random_state=42, final_estimator__selection=cyclic, final_estimator__tol=0.01;, score=-2.302 total time=  18.4s\n",
      "[CV 1/5] END final_estimator__alpha=0.001, final_estimator__fit_intercept=True, final_estimator__l1_ratio=0.7, final_estimator__max_iter=2000, final_estimator__random_state=42, final_estimator__selection=random, final_estimator__tol=0.0001;, score=-2.205 total time=  21.0s\n",
      "[CV 2/5] END final_estimator__alpha=0.001, final_estimator__fit_intercept=True, final_estimator__l1_ratio=0.7, final_estimator__max_iter=2000, final_estimator__random_state=42, final_estimator__selection=random, final_estimator__tol=0.0001;, score=-2.332 total time=  21.4s\n",
      "[CV 3/5] END final_estimator__alpha=0.001, final_estimator__fit_intercept=True, final_estimator__l1_ratio=0.7, final_estimator__max_iter=2000, final_estimator__random_state=42, final_estimator__selection=random, final_estimator__tol=0.0001;, score=-2.199 total time=  18.9s\n",
      "[CV 4/5] END final_estimator__alpha=0.001, final_estimator__fit_intercept=True, final_estimator__l1_ratio=0.7, final_estimator__max_iter=2000, final_estimator__random_state=42, final_estimator__selection=random, final_estimator__tol=0.0001;, score=-2.161 total time=  18.7s\n",
      "[CV 5/5] END final_estimator__alpha=0.001, final_estimator__fit_intercept=True, final_estimator__l1_ratio=0.7, final_estimator__max_iter=2000, final_estimator__random_state=42, final_estimator__selection=random, final_estimator__tol=0.0001;, score=-2.286 total time=  23.8s\n",
      "[CV 1/5] END final_estimator__alpha=0.001, final_estimator__fit_intercept=True, final_estimator__l1_ratio=0.7, final_estimator__max_iter=2000, final_estimator__random_state=42, final_estimator__selection=random, final_estimator__tol=0.001;, score=-2.181 total time=  24.0s\n",
      "[CV 2/5] END final_estimator__alpha=0.001, final_estimator__fit_intercept=True, final_estimator__l1_ratio=0.7, final_estimator__max_iter=2000, final_estimator__random_state=42, final_estimator__selection=random, final_estimator__tol=0.001;, score=-2.331 total time=  19.3s\n",
      "[CV 3/5] END final_estimator__alpha=0.001, final_estimator__fit_intercept=True, final_estimator__l1_ratio=0.7, final_estimator__max_iter=2000, final_estimator__random_state=42, final_estimator__selection=random, final_estimator__tol=0.001;, score=-2.221 total time=  22.2s\n",
      "[CV 4/5] END final_estimator__alpha=0.001, final_estimator__fit_intercept=True, final_estimator__l1_ratio=0.7, final_estimator__max_iter=2000, final_estimator__random_state=42, final_estimator__selection=random, final_estimator__tol=0.001;, score=-2.165 total time=  18.2s\n",
      "[CV 5/5] END final_estimator__alpha=0.001, final_estimator__fit_intercept=True, final_estimator__l1_ratio=0.7, final_estimator__max_iter=2000, final_estimator__random_state=42, final_estimator__selection=random, final_estimator__tol=0.001;, score=-2.288 total time=  21.2s\n",
      "[CV 1/5] END final_estimator__alpha=0.001, final_estimator__fit_intercept=True, final_estimator__l1_ratio=0.7, final_estimator__max_iter=2000, final_estimator__random_state=42, final_estimator__selection=random, final_estimator__tol=0.01;, score=-2.187 total time=  19.7s\n",
      "[CV 2/5] END final_estimator__alpha=0.001, final_estimator__fit_intercept=True, final_estimator__l1_ratio=0.7, final_estimator__max_iter=2000, final_estimator__random_state=42, final_estimator__selection=random, final_estimator__tol=0.01;, score=-2.325 total time=  24.0s\n",
      "[CV 3/5] END final_estimator__alpha=0.001, final_estimator__fit_intercept=True, final_estimator__l1_ratio=0.7, final_estimator__max_iter=2000, final_estimator__random_state=42, final_estimator__selection=random, final_estimator__tol=0.01;, score=-2.230 total time=  19.9s\n",
      "[CV 4/5] END final_estimator__alpha=0.001, final_estimator__fit_intercept=True, final_estimator__l1_ratio=0.7, final_estimator__max_iter=2000, final_estimator__random_state=42, final_estimator__selection=random, final_estimator__tol=0.01;, score=-2.171 total time=  18.0s\n",
      "[CV 5/5] END final_estimator__alpha=0.001, final_estimator__fit_intercept=True, final_estimator__l1_ratio=0.7, final_estimator__max_iter=2000, final_estimator__random_state=42, final_estimator__selection=random, final_estimator__tol=0.01;, score=-2.285 total time=  19.6s\n",
      "[CV 1/5] END final_estimator__alpha=0.001, final_estimator__fit_intercept=True, final_estimator__l1_ratio=0.9, final_estimator__max_iter=1000, final_estimator__random_state=42, final_estimator__selection=cyclic, final_estimator__tol=0.0001;, score=-2.176 total time=  22.3s\n",
      "[CV 2/5] END final_estimator__alpha=0.001, final_estimator__fit_intercept=True, final_estimator__l1_ratio=0.9, final_estimator__max_iter=1000, final_estimator__random_state=42, final_estimator__selection=cyclic, final_estimator__tol=0.0001;, score=-2.338 total time=  17.2s\n",
      "[CV 3/5] END final_estimator__alpha=0.001, final_estimator__fit_intercept=True, final_estimator__l1_ratio=0.9, final_estimator__max_iter=1000, final_estimator__random_state=42, final_estimator__selection=cyclic, final_estimator__tol=0.0001;, score=-2.184 total time=  20.8s\n",
      "[CV 4/5] END final_estimator__alpha=0.001, final_estimator__fit_intercept=True, final_estimator__l1_ratio=0.9, final_estimator__max_iter=1000, final_estimator__random_state=42, final_estimator__selection=cyclic, final_estimator__tol=0.0001;, score=-2.163 total time=  18.0s\n",
      "[CV 5/5] END final_estimator__alpha=0.001, final_estimator__fit_intercept=True, final_estimator__l1_ratio=0.9, final_estimator__max_iter=1000, final_estimator__random_state=42, final_estimator__selection=cyclic, final_estimator__tol=0.0001;, score=-2.288 total time=  20.0s\n",
      "[CV 1/5] END final_estimator__alpha=0.001, final_estimator__fit_intercept=True, final_estimator__l1_ratio=0.9, final_estimator__max_iter=1000, final_estimator__random_state=42, final_estimator__selection=cyclic, final_estimator__tol=0.001;, score=-2.202 total time=  19.0s\n",
      "[CV 2/5] END final_estimator__alpha=0.001, final_estimator__fit_intercept=True, final_estimator__l1_ratio=0.9, final_estimator__max_iter=1000, final_estimator__random_state=42, final_estimator__selection=cyclic, final_estimator__tol=0.001;, score=-2.337 total time=  17.7s\n",
      "[CV 3/5] END final_estimator__alpha=0.001, final_estimator__fit_intercept=True, final_estimator__l1_ratio=0.9, final_estimator__max_iter=1000, final_estimator__random_state=42, final_estimator__selection=cyclic, final_estimator__tol=0.001;, score=-2.209 total time=  21.2s\n",
      "[CV 4/5] END final_estimator__alpha=0.001, final_estimator__fit_intercept=True, final_estimator__l1_ratio=0.9, final_estimator__max_iter=1000, final_estimator__random_state=42, final_estimator__selection=cyclic, final_estimator__tol=0.001;, score=-2.157 total time=  19.3s\n",
      "[CV 5/5] END final_estimator__alpha=0.001, final_estimator__fit_intercept=True, final_estimator__l1_ratio=0.9, final_estimator__max_iter=1000, final_estimator__random_state=42, final_estimator__selection=cyclic, final_estimator__tol=0.001;, score=-2.283 total time=  20.0s\n",
      "[CV 1/5] END final_estimator__alpha=0.001, final_estimator__fit_intercept=True, final_estimator__l1_ratio=0.9, final_estimator__max_iter=1000, final_estimator__random_state=42, final_estimator__selection=cyclic, final_estimator__tol=0.01;, score=-2.187 total time=  21.1s\n",
      "[CV 2/5] END final_estimator__alpha=0.001, final_estimator__fit_intercept=True, final_estimator__l1_ratio=0.9, final_estimator__max_iter=1000, final_estimator__random_state=42, final_estimator__selection=cyclic, final_estimator__tol=0.01;, score=-2.335 total time=  21.0s\n",
      "[CV 3/5] END final_estimator__alpha=0.001, final_estimator__fit_intercept=True, final_estimator__l1_ratio=0.9, final_estimator__max_iter=1000, final_estimator__random_state=42, final_estimator__selection=cyclic, final_estimator__tol=0.01;, score=-2.204 total time=  25.5s\n",
      "[CV 4/5] END final_estimator__alpha=0.001, final_estimator__fit_intercept=True, final_estimator__l1_ratio=0.9, final_estimator__max_iter=1000, final_estimator__random_state=42, final_estimator__selection=cyclic, final_estimator__tol=0.01;, score=-2.165 total time=  22.8s\n",
      "[CV 5/5] END final_estimator__alpha=0.001, final_estimator__fit_intercept=True, final_estimator__l1_ratio=0.9, final_estimator__max_iter=1000, final_estimator__random_state=42, final_estimator__selection=cyclic, final_estimator__tol=0.01;, score=-2.288 total time=  18.4s\n",
      "[CV 1/5] END final_estimator__alpha=0.001, final_estimator__fit_intercept=True, final_estimator__l1_ratio=0.9, final_estimator__max_iter=1000, final_estimator__random_state=42, final_estimator__selection=random, final_estimator__tol=0.0001;, score=-2.182 total time=  21.1s\n",
      "[CV 2/5] END final_estimator__alpha=0.001, final_estimator__fit_intercept=True, final_estimator__l1_ratio=0.9, final_estimator__max_iter=1000, final_estimator__random_state=42, final_estimator__selection=random, final_estimator__tol=0.0001;, score=-2.341 total time=  19.3s\n",
      "[CV 3/5] END final_estimator__alpha=0.001, final_estimator__fit_intercept=True, final_estimator__l1_ratio=0.9, final_estimator__max_iter=1000, final_estimator__random_state=42, final_estimator__selection=random, final_estimator__tol=0.0001;, score=-2.201 total time=  22.2s\n",
      "[CV 4/5] END final_estimator__alpha=0.001, final_estimator__fit_intercept=True, final_estimator__l1_ratio=0.9, final_estimator__max_iter=1000, final_estimator__random_state=42, final_estimator__selection=random, final_estimator__tol=0.0001;, score=-2.168 total time=  21.2s\n",
      "[CV 5/5] END final_estimator__alpha=0.001, final_estimator__fit_intercept=True, final_estimator__l1_ratio=0.9, final_estimator__max_iter=1000, final_estimator__random_state=42, final_estimator__selection=random, final_estimator__tol=0.0001;, score=-2.286 total time=  16.9s\n",
      "[CV 1/5] END final_estimator__alpha=0.001, final_estimator__fit_intercept=True, final_estimator__l1_ratio=0.9, final_estimator__max_iter=1000, final_estimator__random_state=42, final_estimator__selection=random, final_estimator__tol=0.001;, score=-2.175 total time=  24.6s\n",
      "[CV 2/5] END final_estimator__alpha=0.001, final_estimator__fit_intercept=True, final_estimator__l1_ratio=0.9, final_estimator__max_iter=1000, final_estimator__random_state=42, final_estimator__selection=random, final_estimator__tol=0.001;, score=-2.338 total time=  22.6s\n",
      "[CV 3/5] END final_estimator__alpha=0.001, final_estimator__fit_intercept=True, final_estimator__l1_ratio=0.9, final_estimator__max_iter=1000, final_estimator__random_state=42, final_estimator__selection=random, final_estimator__tol=0.001;, score=-2.188 total time=  23.1s\n",
      "[CV 4/5] END final_estimator__alpha=0.001, final_estimator__fit_intercept=True, final_estimator__l1_ratio=0.9, final_estimator__max_iter=1000, final_estimator__random_state=42, final_estimator__selection=random, final_estimator__tol=0.001;, score=-2.162 total time=  18.7s\n",
      "[CV 5/5] END final_estimator__alpha=0.001, final_estimator__fit_intercept=True, final_estimator__l1_ratio=0.9, final_estimator__max_iter=1000, final_estimator__random_state=42, final_estimator__selection=random, final_estimator__tol=0.001;, score=-2.289 total time=  18.5s\n",
      "[CV 1/5] END final_estimator__alpha=0.001, final_estimator__fit_intercept=True, final_estimator__l1_ratio=0.9, final_estimator__max_iter=1000, final_estimator__random_state=42, final_estimator__selection=random, final_estimator__tol=0.01;, score=-2.211 total time=  22.6s\n",
      "[CV 2/5] END final_estimator__alpha=0.001, final_estimator__fit_intercept=True, final_estimator__l1_ratio=0.9, final_estimator__max_iter=1000, final_estimator__random_state=42, final_estimator__selection=random, final_estimator__tol=0.01;, score=-2.324 total time=  26.4s\n",
      "[CV 3/5] END final_estimator__alpha=0.001, final_estimator__fit_intercept=True, final_estimator__l1_ratio=0.9, final_estimator__max_iter=1000, final_estimator__random_state=42, final_estimator__selection=random, final_estimator__tol=0.01;, score=-2.224 total time=  20.9s\n",
      "[CV 4/5] END final_estimator__alpha=0.001, final_estimator__fit_intercept=True, final_estimator__l1_ratio=0.9, final_estimator__max_iter=1000, final_estimator__random_state=42, final_estimator__selection=random, final_estimator__tol=0.01;, score=-2.168 total time=  23.3s\n",
      "[CV 5/5] END final_estimator__alpha=0.001, final_estimator__fit_intercept=True, final_estimator__l1_ratio=0.9, final_estimator__max_iter=1000, final_estimator__random_state=42, final_estimator__selection=random, final_estimator__tol=0.01;, score=-2.280 total time=  20.7s\n",
      "[CV 1/5] END final_estimator__alpha=0.001, final_estimator__fit_intercept=True, final_estimator__l1_ratio=0.9, final_estimator__max_iter=2000, final_estimator__random_state=42, final_estimator__selection=cyclic, final_estimator__tol=0.0001;, score=-2.187 total time=  19.6s\n",
      "[CV 2/5] END final_estimator__alpha=0.001, final_estimator__fit_intercept=True, final_estimator__l1_ratio=0.9, final_estimator__max_iter=2000, final_estimator__random_state=42, final_estimator__selection=cyclic, final_estimator__tol=0.0001;, score=-2.360 total time=  16.9s\n",
      "[CV 3/5] END final_estimator__alpha=0.001, final_estimator__fit_intercept=True, final_estimator__l1_ratio=0.9, final_estimator__max_iter=2000, final_estimator__random_state=42, final_estimator__selection=cyclic, final_estimator__tol=0.0001;, score=-2.194 total time=  19.4s\n",
      "[CV 4/5] END final_estimator__alpha=0.001, final_estimator__fit_intercept=True, final_estimator__l1_ratio=0.9, final_estimator__max_iter=2000, final_estimator__random_state=42, final_estimator__selection=cyclic, final_estimator__tol=0.0001;, score=-2.167 total time=  23.6s\n",
      "[CV 5/5] END final_estimator__alpha=0.001, final_estimator__fit_intercept=True, final_estimator__l1_ratio=0.9, final_estimator__max_iter=2000, final_estimator__random_state=42, final_estimator__selection=cyclic, final_estimator__tol=0.0001;, score=-2.283 total time=  21.8s\n",
      "[CV 1/5] END final_estimator__alpha=0.001, final_estimator__fit_intercept=True, final_estimator__l1_ratio=0.9, final_estimator__max_iter=2000, final_estimator__random_state=42, final_estimator__selection=cyclic, final_estimator__tol=0.001;, score=-2.184 total time=  18.0s\n",
      "[CV 2/5] END final_estimator__alpha=0.001, final_estimator__fit_intercept=True, final_estimator__l1_ratio=0.9, final_estimator__max_iter=2000, final_estimator__random_state=42, final_estimator__selection=cyclic, final_estimator__tol=0.001;, score=-2.335 total time=  23.0s\n",
      "[CV 3/5] END final_estimator__alpha=0.001, final_estimator__fit_intercept=True, final_estimator__l1_ratio=0.9, final_estimator__max_iter=2000, final_estimator__random_state=42, final_estimator__selection=cyclic, final_estimator__tol=0.001;, score=-2.187 total time=  22.5s\n",
      "[CV 4/5] END final_estimator__alpha=0.001, final_estimator__fit_intercept=True, final_estimator__l1_ratio=0.9, final_estimator__max_iter=2000, final_estimator__random_state=42, final_estimator__selection=cyclic, final_estimator__tol=0.001;, score=-2.176 total time=  19.3s\n",
      "[CV 5/5] END final_estimator__alpha=0.001, final_estimator__fit_intercept=True, final_estimator__l1_ratio=0.9, final_estimator__max_iter=2000, final_estimator__random_state=42, final_estimator__selection=cyclic, final_estimator__tol=0.001;, score=-2.292 total time=  16.1s\n",
      "[CV 1/5] END final_estimator__alpha=0.001, final_estimator__fit_intercept=True, final_estimator__l1_ratio=0.9, final_estimator__max_iter=2000, final_estimator__random_state=42, final_estimator__selection=cyclic, final_estimator__tol=0.01;, score=-2.176 total time=  22.8s\n",
      "[CV 2/5] END final_estimator__alpha=0.001, final_estimator__fit_intercept=True, final_estimator__l1_ratio=0.9, final_estimator__max_iter=2000, final_estimator__random_state=42, final_estimator__selection=cyclic, final_estimator__tol=0.01;, score=-2.330 total time=  24.9s\n",
      "[CV 3/5] END final_estimator__alpha=0.001, final_estimator__fit_intercept=True, final_estimator__l1_ratio=0.9, final_estimator__max_iter=2000, final_estimator__random_state=42, final_estimator__selection=cyclic, final_estimator__tol=0.01;, score=-2.209 total time=  21.8s\n",
      "[CV 4/5] END final_estimator__alpha=0.001, final_estimator__fit_intercept=True, final_estimator__l1_ratio=0.9, final_estimator__max_iter=2000, final_estimator__random_state=42, final_estimator__selection=cyclic, final_estimator__tol=0.01;, score=-2.169 total time=  21.1s\n",
      "[CV 5/5] END final_estimator__alpha=0.001, final_estimator__fit_intercept=True, final_estimator__l1_ratio=0.9, final_estimator__max_iter=2000, final_estimator__random_state=42, final_estimator__selection=cyclic, final_estimator__tol=0.01;, score=-2.287 total time=  23.1s\n",
      "[CV 1/5] END final_estimator__alpha=0.001, final_estimator__fit_intercept=True, final_estimator__l1_ratio=0.9, final_estimator__max_iter=2000, final_estimator__random_state=42, final_estimator__selection=random, final_estimator__tol=0.0001;, score=-2.200 total time=  22.5s\n",
      "[CV 2/5] END final_estimator__alpha=0.001, final_estimator__fit_intercept=True, final_estimator__l1_ratio=0.9, final_estimator__max_iter=2000, final_estimator__random_state=42, final_estimator__selection=random, final_estimator__tol=0.0001;, score=-2.341 total time=  17.4s\n",
      "[CV 3/5] END final_estimator__alpha=0.001, final_estimator__fit_intercept=True, final_estimator__l1_ratio=0.9, final_estimator__max_iter=2000, final_estimator__random_state=42, final_estimator__selection=random, final_estimator__tol=0.0001;, score=-2.189 total time=  19.8s\n",
      "[CV 4/5] END final_estimator__alpha=0.001, final_estimator__fit_intercept=True, final_estimator__l1_ratio=0.9, final_estimator__max_iter=2000, final_estimator__random_state=42, final_estimator__selection=random, final_estimator__tol=0.0001;, score=-2.159 total time=  22.6s\n",
      "[CV 5/5] END final_estimator__alpha=0.001, final_estimator__fit_intercept=True, final_estimator__l1_ratio=0.9, final_estimator__max_iter=2000, final_estimator__random_state=42, final_estimator__selection=random, final_estimator__tol=0.0001;, score=-2.289 total time=  22.8s\n",
      "[CV 1/5] END final_estimator__alpha=0.001, final_estimator__fit_intercept=True, final_estimator__l1_ratio=0.9, final_estimator__max_iter=2000, final_estimator__random_state=42, final_estimator__selection=random, final_estimator__tol=0.001;, score=-2.178 total time=  21.5s\n",
      "[CV 2/5] END final_estimator__alpha=0.001, final_estimator__fit_intercept=True, final_estimator__l1_ratio=0.9, final_estimator__max_iter=2000, final_estimator__random_state=42, final_estimator__selection=random, final_estimator__tol=0.001;, score=-2.337 total time=  20.5s\n",
      "[CV 3/5] END final_estimator__alpha=0.001, final_estimator__fit_intercept=True, final_estimator__l1_ratio=0.9, final_estimator__max_iter=2000, final_estimator__random_state=42, final_estimator__selection=random, final_estimator__tol=0.001;, score=-2.197 total time=  21.4s\n",
      "[CV 4/5] END final_estimator__alpha=0.001, final_estimator__fit_intercept=True, final_estimator__l1_ratio=0.9, final_estimator__max_iter=2000, final_estimator__random_state=42, final_estimator__selection=random, final_estimator__tol=0.001;, score=-2.164 total time=  18.3s\n",
      "[CV 5/5] END final_estimator__alpha=0.001, final_estimator__fit_intercept=True, final_estimator__l1_ratio=0.9, final_estimator__max_iter=2000, final_estimator__random_state=42, final_estimator__selection=random, final_estimator__tol=0.001;, score=-2.296 total time=  19.3s\n",
      "[CV 1/5] END final_estimator__alpha=0.001, final_estimator__fit_intercept=True, final_estimator__l1_ratio=0.9, final_estimator__max_iter=2000, final_estimator__random_state=42, final_estimator__selection=random, final_estimator__tol=0.01;, score=-2.238 total time=  21.1s\n",
      "[CV 2/5] END final_estimator__alpha=0.001, final_estimator__fit_intercept=True, final_estimator__l1_ratio=0.9, final_estimator__max_iter=2000, final_estimator__random_state=42, final_estimator__selection=random, final_estimator__tol=0.01;, score=-2.350 total time=  19.0s\n",
      "[CV 3/5] END final_estimator__alpha=0.001, final_estimator__fit_intercept=True, final_estimator__l1_ratio=0.9, final_estimator__max_iter=2000, final_estimator__random_state=42, final_estimator__selection=random, final_estimator__tol=0.01;, score=-2.200 total time=  21.6s\n",
      "[CV 4/5] END final_estimator__alpha=0.001, final_estimator__fit_intercept=True, final_estimator__l1_ratio=0.9, final_estimator__max_iter=2000, final_estimator__random_state=42, final_estimator__selection=random, final_estimator__tol=0.01;, score=-2.159 total time=  19.8s\n",
      "[CV 5/5] END final_estimator__alpha=0.001, final_estimator__fit_intercept=True, final_estimator__l1_ratio=0.9, final_estimator__max_iter=2000, final_estimator__random_state=42, final_estimator__selection=random, final_estimator__tol=0.01;, score=-2.290 total time=  19.0s\n"
     ]
    },
    {
     "name": "stderr",
     "output_type": "stream",
     "text": [
      "c:\\Users\\User\\.conda\\envs\\energy\\Lib\\site-packages\\sklearn\\linear_model\\_coordinate_descent.py:697: ConvergenceWarning: Objective did not converge. You might want to increase the number of iterations, check the scale of the features or consider increasing regularisation. Duality gap: 2.851e+04, tolerance: 1.615e+02\n",
      "  model = cd_fast.enet_coordinate_descent(\n"
     ]
    },
    {
     "name": "stdout",
     "output_type": "stream",
     "text": [
      "[CV 1/5] END final_estimator__alpha=0.001, final_estimator__fit_intercept=False, final_estimator__l1_ratio=0.1, final_estimator__max_iter=1000, final_estimator__random_state=42, final_estimator__selection=cyclic, final_estimator__tol=0.0001;, score=-2.216 total time=  20.1s\n"
     ]
    },
    {
     "name": "stderr",
     "output_type": "stream",
     "text": [
      "c:\\Users\\User\\.conda\\envs\\energy\\Lib\\site-packages\\sklearn\\linear_model\\_coordinate_descent.py:697: ConvergenceWarning: Objective did not converge. You might want to increase the number of iterations, check the scale of the features or consider increasing regularisation. Duality gap: 2.740e+04, tolerance: 1.598e+02\n",
      "  model = cd_fast.enet_coordinate_descent(\n"
     ]
    },
    {
     "name": "stdout",
     "output_type": "stream",
     "text": [
      "[CV 2/5] END final_estimator__alpha=0.001, final_estimator__fit_intercept=False, final_estimator__l1_ratio=0.1, final_estimator__max_iter=1000, final_estimator__random_state=42, final_estimator__selection=cyclic, final_estimator__tol=0.0001;, score=-2.339 total time=  24.7s\n"
     ]
    },
    {
     "name": "stderr",
     "output_type": "stream",
     "text": [
      "c:\\Users\\User\\.conda\\envs\\energy\\Lib\\site-packages\\sklearn\\linear_model\\_coordinate_descent.py:697: ConvergenceWarning: Objective did not converge. You might want to increase the number of iterations, check the scale of the features or consider increasing regularisation. Duality gap: 2.721e+04, tolerance: 1.608e+02\n",
      "  model = cd_fast.enet_coordinate_descent(\n"
     ]
    },
    {
     "name": "stdout",
     "output_type": "stream",
     "text": [
      "[CV 3/5] END final_estimator__alpha=0.001, final_estimator__fit_intercept=False, final_estimator__l1_ratio=0.1, final_estimator__max_iter=1000, final_estimator__random_state=42, final_estimator__selection=cyclic, final_estimator__tol=0.0001;, score=-2.191 total time=  20.2s\n"
     ]
    },
    {
     "name": "stderr",
     "output_type": "stream",
     "text": [
      "c:\\Users\\User\\.conda\\envs\\energy\\Lib\\site-packages\\sklearn\\linear_model\\_coordinate_descent.py:697: ConvergenceWarning: Objective did not converge. You might want to increase the number of iterations, check the scale of the features or consider increasing regularisation. Duality gap: 2.809e+04, tolerance: 1.614e+02\n",
      "  model = cd_fast.enet_coordinate_descent(\n"
     ]
    },
    {
     "name": "stdout",
     "output_type": "stream",
     "text": [
      "[CV 4/5] END final_estimator__alpha=0.001, final_estimator__fit_intercept=False, final_estimator__l1_ratio=0.1, final_estimator__max_iter=1000, final_estimator__random_state=42, final_estimator__selection=cyclic, final_estimator__tol=0.0001;, score=-2.165 total time=  19.7s\n"
     ]
    },
    {
     "name": "stderr",
     "output_type": "stream",
     "text": [
      "c:\\Users\\User\\.conda\\envs\\energy\\Lib\\site-packages\\sklearn\\linear_model\\_coordinate_descent.py:697: ConvergenceWarning: Objective did not converge. You might want to increase the number of iterations, check the scale of the features or consider increasing regularisation. Duality gap: 2.675e+04, tolerance: 1.609e+02\n",
      "  model = cd_fast.enet_coordinate_descent(\n"
     ]
    },
    {
     "name": "stdout",
     "output_type": "stream",
     "text": [
      "[CV 5/5] END final_estimator__alpha=0.001, final_estimator__fit_intercept=False, final_estimator__l1_ratio=0.1, final_estimator__max_iter=1000, final_estimator__random_state=42, final_estimator__selection=cyclic, final_estimator__tol=0.0001;, score=-2.291 total time=  18.9s\n"
     ]
    },
    {
     "name": "stderr",
     "output_type": "stream",
     "text": [
      "c:\\Users\\User\\.conda\\envs\\energy\\Lib\\site-packages\\sklearn\\linear_model\\_coordinate_descent.py:697: ConvergenceWarning: Objective did not converge. You might want to increase the number of iterations, check the scale of the features or consider increasing regularisation. Duality gap: 2.847e+04, tolerance: 1.615e+03\n",
      "  model = cd_fast.enet_coordinate_descent(\n"
     ]
    },
    {
     "name": "stdout",
     "output_type": "stream",
     "text": [
      "[CV 1/5] END final_estimator__alpha=0.001, final_estimator__fit_intercept=False, final_estimator__l1_ratio=0.1, final_estimator__max_iter=1000, final_estimator__random_state=42, final_estimator__selection=cyclic, final_estimator__tol=0.001;, score=-2.170 total time=  23.6s\n"
     ]
    },
    {
     "name": "stderr",
     "output_type": "stream",
     "text": [
      "c:\\Users\\User\\.conda\\envs\\energy\\Lib\\site-packages\\sklearn\\linear_model\\_coordinate_descent.py:697: ConvergenceWarning: Objective did not converge. You might want to increase the number of iterations, check the scale of the features or consider increasing regularisation. Duality gap: 2.726e+04, tolerance: 1.598e+03\n",
      "  model = cd_fast.enet_coordinate_descent(\n"
     ]
    },
    {
     "name": "stdout",
     "output_type": "stream",
     "text": [
      "[CV 2/5] END final_estimator__alpha=0.001, final_estimator__fit_intercept=False, final_estimator__l1_ratio=0.1, final_estimator__max_iter=1000, final_estimator__random_state=42, final_estimator__selection=cyclic, final_estimator__tol=0.001;, score=-2.345 total time=  18.3s\n"
     ]
    },
    {
     "name": "stderr",
     "output_type": "stream",
     "text": [
      "c:\\Users\\User\\.conda\\envs\\energy\\Lib\\site-packages\\sklearn\\linear_model\\_coordinate_descent.py:697: ConvergenceWarning: Objective did not converge. You might want to increase the number of iterations, check the scale of the features or consider increasing regularisation. Duality gap: 2.742e+04, tolerance: 1.608e+03\n",
      "  model = cd_fast.enet_coordinate_descent(\n"
     ]
    },
    {
     "name": "stdout",
     "output_type": "stream",
     "text": [
      "[CV 3/5] END final_estimator__alpha=0.001, final_estimator__fit_intercept=False, final_estimator__l1_ratio=0.1, final_estimator__max_iter=1000, final_estimator__random_state=42, final_estimator__selection=cyclic, final_estimator__tol=0.001;, score=-2.194 total time=  19.3s\n"
     ]
    },
    {
     "name": "stderr",
     "output_type": "stream",
     "text": [
      "c:\\Users\\User\\.conda\\envs\\energy\\Lib\\site-packages\\sklearn\\linear_model\\_coordinate_descent.py:697: ConvergenceWarning: Objective did not converge. You might want to increase the number of iterations, check the scale of the features or consider increasing regularisation. Duality gap: 2.789e+04, tolerance: 1.614e+03\n",
      "  model = cd_fast.enet_coordinate_descent(\n"
     ]
    },
    {
     "name": "stdout",
     "output_type": "stream",
     "text": [
      "[CV 4/5] END final_estimator__alpha=0.001, final_estimator__fit_intercept=False, final_estimator__l1_ratio=0.1, final_estimator__max_iter=1000, final_estimator__random_state=42, final_estimator__selection=cyclic, final_estimator__tol=0.001;, score=-2.161 total time=  21.2s\n"
     ]
    },
    {
     "name": "stderr",
     "output_type": "stream",
     "text": [
      "c:\\Users\\User\\.conda\\envs\\energy\\Lib\\site-packages\\sklearn\\linear_model\\_coordinate_descent.py:697: ConvergenceWarning: Objective did not converge. You might want to increase the number of iterations, check the scale of the features or consider increasing regularisation. Duality gap: 2.689e+04, tolerance: 1.609e+03\n",
      "  model = cd_fast.enet_coordinate_descent(\n"
     ]
    },
    {
     "name": "stdout",
     "output_type": "stream",
     "text": [
      "[CV 5/5] END final_estimator__alpha=0.001, final_estimator__fit_intercept=False, final_estimator__l1_ratio=0.1, final_estimator__max_iter=1000, final_estimator__random_state=42, final_estimator__selection=cyclic, final_estimator__tol=0.001;, score=-2.284 total time=  21.1s\n"
     ]
    },
    {
     "name": "stderr",
     "output_type": "stream",
     "text": [
      "c:\\Users\\User\\.conda\\envs\\energy\\Lib\\site-packages\\sklearn\\linear_model\\_coordinate_descent.py:697: ConvergenceWarning: Objective did not converge. You might want to increase the number of iterations, check the scale of the features or consider increasing regularisation. Duality gap: 2.846e+04, tolerance: 1.615e+04\n",
      "  model = cd_fast.enet_coordinate_descent(\n"
     ]
    },
    {
     "name": "stdout",
     "output_type": "stream",
     "text": [
      "[CV 1/5] END final_estimator__alpha=0.001, final_estimator__fit_intercept=False, final_estimator__l1_ratio=0.1, final_estimator__max_iter=1000, final_estimator__random_state=42, final_estimator__selection=cyclic, final_estimator__tol=0.01;, score=-2.194 total time=  25.0s\n"
     ]
    },
    {
     "name": "stderr",
     "output_type": "stream",
     "text": [
      "c:\\Users\\User\\.conda\\envs\\energy\\Lib\\site-packages\\sklearn\\linear_model\\_coordinate_descent.py:697: ConvergenceWarning: Objective did not converge. You might want to increase the number of iterations, check the scale of the features or consider increasing regularisation. Duality gap: 2.729e+04, tolerance: 1.598e+04\n",
      "  model = cd_fast.enet_coordinate_descent(\n"
     ]
    },
    {
     "name": "stdout",
     "output_type": "stream",
     "text": [
      "[CV 2/5] END final_estimator__alpha=0.001, final_estimator__fit_intercept=False, final_estimator__l1_ratio=0.1, final_estimator__max_iter=1000, final_estimator__random_state=42, final_estimator__selection=cyclic, final_estimator__tol=0.01;, score=-2.335 total time=  18.5s\n"
     ]
    },
    {
     "name": "stderr",
     "output_type": "stream",
     "text": [
      "c:\\Users\\User\\.conda\\envs\\energy\\Lib\\site-packages\\sklearn\\linear_model\\_coordinate_descent.py:697: ConvergenceWarning: Objective did not converge. You might want to increase the number of iterations, check the scale of the features or consider increasing regularisation. Duality gap: 2.733e+04, tolerance: 1.608e+04\n",
      "  model = cd_fast.enet_coordinate_descent(\n"
     ]
    },
    {
     "name": "stdout",
     "output_type": "stream",
     "text": [
      "[CV 3/5] END final_estimator__alpha=0.001, final_estimator__fit_intercept=False, final_estimator__l1_ratio=0.1, final_estimator__max_iter=1000, final_estimator__random_state=42, final_estimator__selection=cyclic, final_estimator__tol=0.01;, score=-2.188 total time=  20.4s\n"
     ]
    },
    {
     "name": "stderr",
     "output_type": "stream",
     "text": [
      "c:\\Users\\User\\.conda\\envs\\energy\\Lib\\site-packages\\sklearn\\linear_model\\_coordinate_descent.py:697: ConvergenceWarning: Objective did not converge. You might want to increase the number of iterations, check the scale of the features or consider increasing regularisation. Duality gap: 2.797e+04, tolerance: 1.614e+04\n",
      "  model = cd_fast.enet_coordinate_descent(\n"
     ]
    },
    {
     "name": "stdout",
     "output_type": "stream",
     "text": [
      "[CV 4/5] END final_estimator__alpha=0.001, final_estimator__fit_intercept=False, final_estimator__l1_ratio=0.1, final_estimator__max_iter=1000, final_estimator__random_state=42, final_estimator__selection=cyclic, final_estimator__tol=0.01;, score=-2.158 total time=  20.7s\n"
     ]
    },
    {
     "name": "stderr",
     "output_type": "stream",
     "text": [
      "c:\\Users\\User\\.conda\\envs\\energy\\Lib\\site-packages\\sklearn\\linear_model\\_coordinate_descent.py:697: ConvergenceWarning: Objective did not converge. You might want to increase the number of iterations, check the scale of the features or consider increasing regularisation. Duality gap: 2.697e+04, tolerance: 1.609e+04\n",
      "  model = cd_fast.enet_coordinate_descent(\n"
     ]
    },
    {
     "name": "stdout",
     "output_type": "stream",
     "text": [
      "[CV 5/5] END final_estimator__alpha=0.001, final_estimator__fit_intercept=False, final_estimator__l1_ratio=0.1, final_estimator__max_iter=1000, final_estimator__random_state=42, final_estimator__selection=cyclic, final_estimator__tol=0.01;, score=-2.285 total time=  21.1s\n"
     ]
    },
    {
     "name": "stderr",
     "output_type": "stream",
     "text": [
      "c:\\Users\\User\\.conda\\envs\\energy\\Lib\\site-packages\\sklearn\\linear_model\\_coordinate_descent.py:697: ConvergenceWarning: Objective did not converge. You might want to increase the number of iterations, check the scale of the features or consider increasing regularisation. Duality gap: 2.904e+04, tolerance: 1.615e+02\n",
      "  model = cd_fast.enet_coordinate_descent(\n"
     ]
    },
    {
     "name": "stdout",
     "output_type": "stream",
     "text": [
      "[CV 1/5] END final_estimator__alpha=0.001, final_estimator__fit_intercept=False, final_estimator__l1_ratio=0.1, final_estimator__max_iter=1000, final_estimator__random_state=42, final_estimator__selection=random, final_estimator__tol=0.0001;, score=-2.208 total time=  22.2s\n"
     ]
    },
    {
     "name": "stderr",
     "output_type": "stream",
     "text": [
      "c:\\Users\\User\\.conda\\envs\\energy\\Lib\\site-packages\\sklearn\\linear_model\\_coordinate_descent.py:697: ConvergenceWarning: Objective did not converge. You might want to increase the number of iterations, check the scale of the features or consider increasing regularisation. Duality gap: 2.797e+04, tolerance: 1.598e+02\n",
      "  model = cd_fast.enet_coordinate_descent(\n"
     ]
    },
    {
     "name": "stdout",
     "output_type": "stream",
     "text": [
      "[CV 2/5] END final_estimator__alpha=0.001, final_estimator__fit_intercept=False, final_estimator__l1_ratio=0.1, final_estimator__max_iter=1000, final_estimator__random_state=42, final_estimator__selection=random, final_estimator__tol=0.0001;, score=-2.330 total time=  21.2s\n"
     ]
    },
    {
     "name": "stderr",
     "output_type": "stream",
     "text": [
      "c:\\Users\\User\\.conda\\envs\\energy\\Lib\\site-packages\\sklearn\\linear_model\\_coordinate_descent.py:697: ConvergenceWarning: Objective did not converge. You might want to increase the number of iterations, check the scale of the features or consider increasing regularisation. Duality gap: 2.776e+04, tolerance: 1.608e+02\n",
      "  model = cd_fast.enet_coordinate_descent(\n"
     ]
    },
    {
     "name": "stdout",
     "output_type": "stream",
     "text": [
      "[CV 3/5] END final_estimator__alpha=0.001, final_estimator__fit_intercept=False, final_estimator__l1_ratio=0.1, final_estimator__max_iter=1000, final_estimator__random_state=42, final_estimator__selection=random, final_estimator__tol=0.0001;, score=-2.190 total time=  22.2s\n"
     ]
    },
    {
     "name": "stderr",
     "output_type": "stream",
     "text": [
      "c:\\Users\\User\\.conda\\envs\\energy\\Lib\\site-packages\\sklearn\\linear_model\\_coordinate_descent.py:697: ConvergenceWarning: Objective did not converge. You might want to increase the number of iterations, check the scale of the features or consider increasing regularisation. Duality gap: 2.851e+04, tolerance: 1.614e+02\n",
      "  model = cd_fast.enet_coordinate_descent(\n"
     ]
    },
    {
     "name": "stdout",
     "output_type": "stream",
     "text": [
      "[CV 4/5] END final_estimator__alpha=0.001, final_estimator__fit_intercept=False, final_estimator__l1_ratio=0.1, final_estimator__max_iter=1000, final_estimator__random_state=42, final_estimator__selection=random, final_estimator__tol=0.0001;, score=-2.183 total time=  18.1s\n"
     ]
    },
    {
     "name": "stderr",
     "output_type": "stream",
     "text": [
      "c:\\Users\\User\\.conda\\envs\\energy\\Lib\\site-packages\\sklearn\\linear_model\\_coordinate_descent.py:697: ConvergenceWarning: Objective did not converge. You might want to increase the number of iterations, check the scale of the features or consider increasing regularisation. Duality gap: 2.741e+04, tolerance: 1.609e+02\n",
      "  model = cd_fast.enet_coordinate_descent(\n"
     ]
    },
    {
     "name": "stdout",
     "output_type": "stream",
     "text": [
      "[CV 5/5] END final_estimator__alpha=0.001, final_estimator__fit_intercept=False, final_estimator__l1_ratio=0.1, final_estimator__max_iter=1000, final_estimator__random_state=42, final_estimator__selection=random, final_estimator__tol=0.0001;, score=-2.281 total time=  21.8s\n"
     ]
    },
    {
     "name": "stderr",
     "output_type": "stream",
     "text": [
      "c:\\Users\\User\\.conda\\envs\\energy\\Lib\\site-packages\\sklearn\\linear_model\\_coordinate_descent.py:697: ConvergenceWarning: Objective did not converge. You might want to increase the number of iterations, check the scale of the features or consider increasing regularisation. Duality gap: 2.910e+04, tolerance: 1.615e+03\n",
      "  model = cd_fast.enet_coordinate_descent(\n"
     ]
    },
    {
     "name": "stdout",
     "output_type": "stream",
     "text": [
      "[CV 1/5] END final_estimator__alpha=0.001, final_estimator__fit_intercept=False, final_estimator__l1_ratio=0.1, final_estimator__max_iter=1000, final_estimator__random_state=42, final_estimator__selection=random, final_estimator__tol=0.001;, score=-2.194 total time=  25.6s\n"
     ]
    },
    {
     "name": "stderr",
     "output_type": "stream",
     "text": [
      "c:\\Users\\User\\.conda\\envs\\energy\\Lib\\site-packages\\sklearn\\linear_model\\_coordinate_descent.py:697: ConvergenceWarning: Objective did not converge. You might want to increase the number of iterations, check the scale of the features or consider increasing regularisation. Duality gap: 2.788e+04, tolerance: 1.598e+03\n",
      "  model = cd_fast.enet_coordinate_descent(\n"
     ]
    },
    {
     "name": "stdout",
     "output_type": "stream",
     "text": [
      "[CV 2/5] END final_estimator__alpha=0.001, final_estimator__fit_intercept=False, final_estimator__l1_ratio=0.1, final_estimator__max_iter=1000, final_estimator__random_state=42, final_estimator__selection=random, final_estimator__tol=0.001;, score=-2.352 total time=  20.4s\n"
     ]
    },
    {
     "name": "stderr",
     "output_type": "stream",
     "text": [
      "c:\\Users\\User\\.conda\\envs\\energy\\Lib\\site-packages\\sklearn\\linear_model\\_coordinate_descent.py:697: ConvergenceWarning: Objective did not converge. You might want to increase the number of iterations, check the scale of the features or consider increasing regularisation. Duality gap: 2.785e+04, tolerance: 1.608e+03\n",
      "  model = cd_fast.enet_coordinate_descent(\n"
     ]
    },
    {
     "name": "stdout",
     "output_type": "stream",
     "text": [
      "[CV 3/5] END final_estimator__alpha=0.001, final_estimator__fit_intercept=False, final_estimator__l1_ratio=0.1, final_estimator__max_iter=1000, final_estimator__random_state=42, final_estimator__selection=random, final_estimator__tol=0.001;, score=-2.200 total time=  23.8s\n"
     ]
    },
    {
     "name": "stderr",
     "output_type": "stream",
     "text": [
      "c:\\Users\\User\\.conda\\envs\\energy\\Lib\\site-packages\\sklearn\\linear_model\\_coordinate_descent.py:697: ConvergenceWarning: Objective did not converge. You might want to increase the number of iterations, check the scale of the features or consider increasing regularisation. Duality gap: 2.851e+04, tolerance: 1.614e+03\n",
      "  model = cd_fast.enet_coordinate_descent(\n"
     ]
    },
    {
     "name": "stdout",
     "output_type": "stream",
     "text": [
      "[CV 4/5] END final_estimator__alpha=0.001, final_estimator__fit_intercept=False, final_estimator__l1_ratio=0.1, final_estimator__max_iter=1000, final_estimator__random_state=42, final_estimator__selection=random, final_estimator__tol=0.001;, score=-2.163 total time=  20.5s\n"
     ]
    },
    {
     "name": "stderr",
     "output_type": "stream",
     "text": [
      "c:\\Users\\User\\.conda\\envs\\energy\\Lib\\site-packages\\sklearn\\linear_model\\_coordinate_descent.py:697: ConvergenceWarning: Objective did not converge. You might want to increase the number of iterations, check the scale of the features or consider increasing regularisation. Duality gap: 2.735e+04, tolerance: 1.609e+03\n",
      "  model = cd_fast.enet_coordinate_descent(\n"
     ]
    },
    {
     "name": "stdout",
     "output_type": "stream",
     "text": [
      "[CV 5/5] END final_estimator__alpha=0.001, final_estimator__fit_intercept=False, final_estimator__l1_ratio=0.1, final_estimator__max_iter=1000, final_estimator__random_state=42, final_estimator__selection=random, final_estimator__tol=0.001;, score=-2.294 total time=  22.4s\n"
     ]
    },
    {
     "name": "stderr",
     "output_type": "stream",
     "text": [
      "c:\\Users\\User\\.conda\\envs\\energy\\Lib\\site-packages\\sklearn\\linear_model\\_coordinate_descent.py:697: ConvergenceWarning: Objective did not converge. You might want to increase the number of iterations, check the scale of the features or consider increasing regularisation. Duality gap: 2.923e+04, tolerance: 1.615e+04\n",
      "  model = cd_fast.enet_coordinate_descent(\n"
     ]
    },
    {
     "name": "stdout",
     "output_type": "stream",
     "text": [
      "[CV 1/5] END final_estimator__alpha=0.001, final_estimator__fit_intercept=False, final_estimator__l1_ratio=0.1, final_estimator__max_iter=1000, final_estimator__random_state=42, final_estimator__selection=random, final_estimator__tol=0.01;, score=-2.203 total time=  21.1s\n"
     ]
    },
    {
     "name": "stderr",
     "output_type": "stream",
     "text": [
      "c:\\Users\\User\\.conda\\envs\\energy\\Lib\\site-packages\\sklearn\\linear_model\\_coordinate_descent.py:697: ConvergenceWarning: Objective did not converge. You might want to increase the number of iterations, check the scale of the features or consider increasing regularisation. Duality gap: 2.795e+04, tolerance: 1.598e+04\n",
      "  model = cd_fast.enet_coordinate_descent(\n"
     ]
    },
    {
     "name": "stdout",
     "output_type": "stream",
     "text": [
      "[CV 2/5] END final_estimator__alpha=0.001, final_estimator__fit_intercept=False, final_estimator__l1_ratio=0.1, final_estimator__max_iter=1000, final_estimator__random_state=42, final_estimator__selection=random, final_estimator__tol=0.01;, score=-2.330 total time=  21.8s\n"
     ]
    },
    {
     "name": "stderr",
     "output_type": "stream",
     "text": [
      "c:\\Users\\User\\.conda\\envs\\energy\\Lib\\site-packages\\sklearn\\linear_model\\_coordinate_descent.py:697: ConvergenceWarning: Objective did not converge. You might want to increase the number of iterations, check the scale of the features or consider increasing regularisation. Duality gap: 2.789e+04, tolerance: 1.608e+04\n",
      "  model = cd_fast.enet_coordinate_descent(\n"
     ]
    },
    {
     "name": "stdout",
     "output_type": "stream",
     "text": [
      "[CV 3/5] END final_estimator__alpha=0.001, final_estimator__fit_intercept=False, final_estimator__l1_ratio=0.1, final_estimator__max_iter=1000, final_estimator__random_state=42, final_estimator__selection=random, final_estimator__tol=0.01;, score=-2.211 total time=  20.1s\n"
     ]
    },
    {
     "name": "stderr",
     "output_type": "stream",
     "text": [
      "c:\\Users\\User\\.conda\\envs\\energy\\Lib\\site-packages\\sklearn\\linear_model\\_coordinate_descent.py:697: ConvergenceWarning: Objective did not converge. You might want to increase the number of iterations, check the scale of the features or consider increasing regularisation. Duality gap: 2.845e+04, tolerance: 1.614e+04\n",
      "  model = cd_fast.enet_coordinate_descent(\n"
     ]
    },
    {
     "name": "stdout",
     "output_type": "stream",
     "text": [
      "[CV 4/5] END final_estimator__alpha=0.001, final_estimator__fit_intercept=False, final_estimator__l1_ratio=0.1, final_estimator__max_iter=1000, final_estimator__random_state=42, final_estimator__selection=random, final_estimator__tol=0.01;, score=-2.154 total time=  20.2s\n"
     ]
    },
    {
     "name": "stderr",
     "output_type": "stream",
     "text": [
      "c:\\Users\\User\\.conda\\envs\\energy\\Lib\\site-packages\\sklearn\\linear_model\\_coordinate_descent.py:697: ConvergenceWarning: Objective did not converge. You might want to increase the number of iterations, check the scale of the features or consider increasing regularisation. Duality gap: 2.750e+04, tolerance: 1.609e+04\n",
      "  model = cd_fast.enet_coordinate_descent(\n"
     ]
    },
    {
     "name": "stdout",
     "output_type": "stream",
     "text": [
      "[CV 5/5] END final_estimator__alpha=0.001, final_estimator__fit_intercept=False, final_estimator__l1_ratio=0.1, final_estimator__max_iter=1000, final_estimator__random_state=42, final_estimator__selection=random, final_estimator__tol=0.01;, score=-2.295 total time=  19.3s\n"
     ]
    },
    {
     "name": "stderr",
     "output_type": "stream",
     "text": [
      "c:\\Users\\User\\.conda\\envs\\energy\\Lib\\site-packages\\sklearn\\linear_model\\_coordinate_descent.py:697: ConvergenceWarning: Objective did not converge. You might want to increase the number of iterations, check the scale of the features or consider increasing regularisation. Duality gap: 1.291e+04, tolerance: 1.615e+02\n",
      "  model = cd_fast.enet_coordinate_descent(\n"
     ]
    },
    {
     "name": "stdout",
     "output_type": "stream",
     "text": [
      "[CV 1/5] END final_estimator__alpha=0.001, final_estimator__fit_intercept=False, final_estimator__l1_ratio=0.1, final_estimator__max_iter=2000, final_estimator__random_state=42, final_estimator__selection=cyclic, final_estimator__tol=0.0001;, score=-2.185 total time=  21.8s\n"
     ]
    },
    {
     "name": "stderr",
     "output_type": "stream",
     "text": [
      "c:\\Users\\User\\.conda\\envs\\energy\\Lib\\site-packages\\sklearn\\linear_model\\_coordinate_descent.py:697: ConvergenceWarning: Objective did not converge. You might want to increase the number of iterations, check the scale of the features or consider increasing regularisation. Duality gap: 1.211e+04, tolerance: 1.598e+02\n",
      "  model = cd_fast.enet_coordinate_descent(\n"
     ]
    },
    {
     "name": "stdout",
     "output_type": "stream",
     "text": [
      "[CV 2/5] END final_estimator__alpha=0.001, final_estimator__fit_intercept=False, final_estimator__l1_ratio=0.1, final_estimator__max_iter=2000, final_estimator__random_state=42, final_estimator__selection=cyclic, final_estimator__tol=0.0001;, score=-2.339 total time=  20.3s\n"
     ]
    },
    {
     "name": "stderr",
     "output_type": "stream",
     "text": [
      "c:\\Users\\User\\.conda\\envs\\energy\\Lib\\site-packages\\sklearn\\linear_model\\_coordinate_descent.py:697: ConvergenceWarning: Objective did not converge. You might want to increase the number of iterations, check the scale of the features or consider increasing regularisation. Duality gap: 1.768e+04, tolerance: 1.608e+02\n",
      "  model = cd_fast.enet_coordinate_descent(\n"
     ]
    },
    {
     "name": "stdout",
     "output_type": "stream",
     "text": [
      "[CV 3/5] END final_estimator__alpha=0.001, final_estimator__fit_intercept=False, final_estimator__l1_ratio=0.1, final_estimator__max_iter=2000, final_estimator__random_state=42, final_estimator__selection=cyclic, final_estimator__tol=0.0001;, score=-2.201 total time=  18.4s\n"
     ]
    },
    {
     "name": "stderr",
     "output_type": "stream",
     "text": [
      "c:\\Users\\User\\.conda\\envs\\energy\\Lib\\site-packages\\sklearn\\linear_model\\_coordinate_descent.py:697: ConvergenceWarning: Objective did not converge. You might want to increase the number of iterations, check the scale of the features or consider increasing regularisation. Duality gap: 1.278e+04, tolerance: 1.614e+02\n",
      "  model = cd_fast.enet_coordinate_descent(\n"
     ]
    },
    {
     "name": "stdout",
     "output_type": "stream",
     "text": [
      "[CV 4/5] END final_estimator__alpha=0.001, final_estimator__fit_intercept=False, final_estimator__l1_ratio=0.1, final_estimator__max_iter=2000, final_estimator__random_state=42, final_estimator__selection=cyclic, final_estimator__tol=0.0001;, score=-2.182 total time=  24.4s\n"
     ]
    },
    {
     "name": "stderr",
     "output_type": "stream",
     "text": [
      "c:\\Users\\User\\.conda\\envs\\energy\\Lib\\site-packages\\sklearn\\linear_model\\_coordinate_descent.py:697: ConvergenceWarning: Objective did not converge. You might want to increase the number of iterations, check the scale of the features or consider increasing regularisation. Duality gap: 1.639e+04, tolerance: 1.609e+02\n",
      "  model = cd_fast.enet_coordinate_descent(\n"
     ]
    },
    {
     "name": "stdout",
     "output_type": "stream",
     "text": [
      "[CV 5/5] END final_estimator__alpha=0.001, final_estimator__fit_intercept=False, final_estimator__l1_ratio=0.1, final_estimator__max_iter=2000, final_estimator__random_state=42, final_estimator__selection=cyclic, final_estimator__tol=0.0001;, score=-2.271 total time=  21.7s\n"
     ]
    },
    {
     "name": "stderr",
     "output_type": "stream",
     "text": [
      "c:\\Users\\User\\.conda\\envs\\energy\\Lib\\site-packages\\sklearn\\linear_model\\_coordinate_descent.py:697: ConvergenceWarning: Objective did not converge. You might want to increase the number of iterations, check the scale of the features or consider increasing regularisation. Duality gap: 1.647e+04, tolerance: 1.615e+03\n",
      "  model = cd_fast.enet_coordinate_descent(\n"
     ]
    },
    {
     "name": "stdout",
     "output_type": "stream",
     "text": [
      "[CV 1/5] END final_estimator__alpha=0.001, final_estimator__fit_intercept=False, final_estimator__l1_ratio=0.1, final_estimator__max_iter=2000, final_estimator__random_state=42, final_estimator__selection=cyclic, final_estimator__tol=0.001;, score=-2.189 total time=  19.2s\n"
     ]
    },
    {
     "name": "stderr",
     "output_type": "stream",
     "text": [
      "c:\\Users\\User\\.conda\\envs\\energy\\Lib\\site-packages\\sklearn\\linear_model\\_coordinate_descent.py:697: ConvergenceWarning: Objective did not converge. You might want to increase the number of iterations, check the scale of the features or consider increasing regularisation. Duality gap: 1.080e+04, tolerance: 1.598e+03\n",
      "  model = cd_fast.enet_coordinate_descent(\n"
     ]
    },
    {
     "name": "stdout",
     "output_type": "stream",
     "text": [
      "[CV 2/5] END final_estimator__alpha=0.001, final_estimator__fit_intercept=False, final_estimator__l1_ratio=0.1, final_estimator__max_iter=2000, final_estimator__random_state=42, final_estimator__selection=cyclic, final_estimator__tol=0.001;, score=-2.345 total time=  18.1s\n"
     ]
    },
    {
     "name": "stderr",
     "output_type": "stream",
     "text": [
      "c:\\Users\\User\\.conda\\envs\\energy\\Lib\\site-packages\\sklearn\\linear_model\\_coordinate_descent.py:697: ConvergenceWarning: Objective did not converge. You might want to increase the number of iterations, check the scale of the features or consider increasing regularisation. Duality gap: 1.750e+04, tolerance: 1.608e+03\n",
      "  model = cd_fast.enet_coordinate_descent(\n"
     ]
    },
    {
     "name": "stdout",
     "output_type": "stream",
     "text": [
      "[CV 3/5] END final_estimator__alpha=0.001, final_estimator__fit_intercept=False, final_estimator__l1_ratio=0.1, final_estimator__max_iter=2000, final_estimator__random_state=42, final_estimator__selection=cyclic, final_estimator__tol=0.001;, score=-2.183 total time=  20.9s\n"
     ]
    },
    {
     "name": "stderr",
     "output_type": "stream",
     "text": [
      "c:\\Users\\User\\.conda\\envs\\energy\\Lib\\site-packages\\sklearn\\linear_model\\_coordinate_descent.py:697: ConvergenceWarning: Objective did not converge. You might want to increase the number of iterations, check the scale of the features or consider increasing regularisation. Duality gap: 1.353e+04, tolerance: 1.614e+03\n",
      "  model = cd_fast.enet_coordinate_descent(\n"
     ]
    },
    {
     "name": "stdout",
     "output_type": "stream",
     "text": [
      "[CV 4/5] END final_estimator__alpha=0.001, final_estimator__fit_intercept=False, final_estimator__l1_ratio=0.1, final_estimator__max_iter=2000, final_estimator__random_state=42, final_estimator__selection=cyclic, final_estimator__tol=0.001;, score=-2.145 total time=  23.8s\n"
     ]
    },
    {
     "name": "stderr",
     "output_type": "stream",
     "text": [
      "c:\\Users\\User\\.conda\\envs\\energy\\Lib\\site-packages\\sklearn\\linear_model\\_coordinate_descent.py:697: ConvergenceWarning: Objective did not converge. You might want to increase the number of iterations, check the scale of the features or consider increasing regularisation. Duality gap: 1.438e+04, tolerance: 1.609e+03\n",
      "  model = cd_fast.enet_coordinate_descent(\n"
     ]
    },
    {
     "name": "stdout",
     "output_type": "stream",
     "text": [
      "[CV 5/5] END final_estimator__alpha=0.001, final_estimator__fit_intercept=False, final_estimator__l1_ratio=0.1, final_estimator__max_iter=2000, final_estimator__random_state=42, final_estimator__selection=cyclic, final_estimator__tol=0.001;, score=-2.282 total time=  18.7s\n",
      "[CV 1/5] END final_estimator__alpha=0.001, final_estimator__fit_intercept=False, final_estimator__l1_ratio=0.1, final_estimator__max_iter=2000, final_estimator__random_state=42, final_estimator__selection=cyclic, final_estimator__tol=0.01;, score=-2.184 total time=  21.0s\n",
      "[CV 2/5] END final_estimator__alpha=0.001, final_estimator__fit_intercept=False, final_estimator__l1_ratio=0.1, final_estimator__max_iter=2000, final_estimator__random_state=42, final_estimator__selection=cyclic, final_estimator__tol=0.01;, score=-2.349 total time=  18.3s\n"
     ]
    },
    {
     "name": "stderr",
     "output_type": "stream",
     "text": [
      "c:\\Users\\User\\.conda\\envs\\energy\\Lib\\site-packages\\sklearn\\linear_model\\_coordinate_descent.py:697: ConvergenceWarning: Objective did not converge. You might want to increase the number of iterations, check the scale of the features or consider increasing regularisation. Duality gap: 1.864e+04, tolerance: 1.608e+04\n",
      "  model = cd_fast.enet_coordinate_descent(\n"
     ]
    },
    {
     "name": "stdout",
     "output_type": "stream",
     "text": [
      "[CV 3/5] END final_estimator__alpha=0.001, final_estimator__fit_intercept=False, final_estimator__l1_ratio=0.1, final_estimator__max_iter=2000, final_estimator__random_state=42, final_estimator__selection=cyclic, final_estimator__tol=0.01;, score=-2.208 total time=  21.4s\n",
      "[CV 4/5] END final_estimator__alpha=0.001, final_estimator__fit_intercept=False, final_estimator__l1_ratio=0.1, final_estimator__max_iter=2000, final_estimator__random_state=42, final_estimator__selection=cyclic, final_estimator__tol=0.01;, score=-2.162 total time=  23.2s\n",
      "[CV 5/5] END final_estimator__alpha=0.001, final_estimator__fit_intercept=False, final_estimator__l1_ratio=0.1, final_estimator__max_iter=2000, final_estimator__random_state=42, final_estimator__selection=cyclic, final_estimator__tol=0.01;, score=-2.297 total time=  21.3s\n"
     ]
    },
    {
     "name": "stderr",
     "output_type": "stream",
     "text": [
      "c:\\Users\\User\\.conda\\envs\\energy\\Lib\\site-packages\\sklearn\\linear_model\\_coordinate_descent.py:697: ConvergenceWarning: Objective did not converge. You might want to increase the number of iterations, check the scale of the features or consider increasing regularisation. Duality gap: 2.870e+04, tolerance: 1.615e+02\n",
      "  model = cd_fast.enet_coordinate_descent(\n"
     ]
    },
    {
     "name": "stdout",
     "output_type": "stream",
     "text": [
      "[CV 1/5] END final_estimator__alpha=0.001, final_estimator__fit_intercept=False, final_estimator__l1_ratio=0.1, final_estimator__max_iter=2000, final_estimator__random_state=42, final_estimator__selection=random, final_estimator__tol=0.0001;, score=-2.189 total time=  14.5s\n"
     ]
    },
    {
     "name": "stderr",
     "output_type": "stream",
     "text": [
      "c:\\Users\\User\\.conda\\envs\\energy\\Lib\\site-packages\\sklearn\\linear_model\\_coordinate_descent.py:697: ConvergenceWarning: Objective did not converge. You might want to increase the number of iterations, check the scale of the features or consider increasing regularisation. Duality gap: 2.755e+04, tolerance: 1.598e+02\n",
      "  model = cd_fast.enet_coordinate_descent(\n"
     ]
    },
    {
     "name": "stdout",
     "output_type": "stream",
     "text": [
      "[CV 2/5] END final_estimator__alpha=0.001, final_estimator__fit_intercept=False, final_estimator__l1_ratio=0.1, final_estimator__max_iter=2000, final_estimator__random_state=42, final_estimator__selection=random, final_estimator__tol=0.0001;, score=-2.330 total time=  21.2s\n"
     ]
    },
    {
     "name": "stderr",
     "output_type": "stream",
     "text": [
      "c:\\Users\\User\\.conda\\envs\\energy\\Lib\\site-packages\\sklearn\\linear_model\\_coordinate_descent.py:697: ConvergenceWarning: Objective did not converge. You might want to increase the number of iterations, check the scale of the features or consider increasing regularisation. Duality gap: 2.755e+04, tolerance: 1.608e+02\n",
      "  model = cd_fast.enet_coordinate_descent(\n"
     ]
    },
    {
     "name": "stdout",
     "output_type": "stream",
     "text": [
      "[CV 3/5] END final_estimator__alpha=0.001, final_estimator__fit_intercept=False, final_estimator__l1_ratio=0.1, final_estimator__max_iter=2000, final_estimator__random_state=42, final_estimator__selection=random, final_estimator__tol=0.0001;, score=-2.186 total time=  21.6s\n"
     ]
    },
    {
     "name": "stderr",
     "output_type": "stream",
     "text": [
      "c:\\Users\\User\\.conda\\envs\\energy\\Lib\\site-packages\\sklearn\\linear_model\\_coordinate_descent.py:697: ConvergenceWarning: Objective did not converge. You might want to increase the number of iterations, check the scale of the features or consider increasing regularisation. Duality gap: 2.797e+04, tolerance: 1.614e+02\n",
      "  model = cd_fast.enet_coordinate_descent(\n"
     ]
    },
    {
     "name": "stdout",
     "output_type": "stream",
     "text": [
      "[CV 4/5] END final_estimator__alpha=0.001, final_estimator__fit_intercept=False, final_estimator__l1_ratio=0.1, final_estimator__max_iter=2000, final_estimator__random_state=42, final_estimator__selection=random, final_estimator__tol=0.0001;, score=-2.171 total time=  20.8s\n"
     ]
    },
    {
     "name": "stderr",
     "output_type": "stream",
     "text": [
      "c:\\Users\\User\\.conda\\envs\\energy\\Lib\\site-packages\\sklearn\\linear_model\\_coordinate_descent.py:697: ConvergenceWarning: Objective did not converge. You might want to increase the number of iterations, check the scale of the features or consider increasing regularisation. Duality gap: 2.690e+04, tolerance: 1.609e+02\n",
      "  model = cd_fast.enet_coordinate_descent(\n"
     ]
    },
    {
     "name": "stdout",
     "output_type": "stream",
     "text": [
      "[CV 5/5] END final_estimator__alpha=0.001, final_estimator__fit_intercept=False, final_estimator__l1_ratio=0.1, final_estimator__max_iter=2000, final_estimator__random_state=42, final_estimator__selection=random, final_estimator__tol=0.0001;, score=-2.290 total time=  20.8s\n"
     ]
    },
    {
     "name": "stderr",
     "output_type": "stream",
     "text": [
      "c:\\Users\\User\\.conda\\envs\\energy\\Lib\\site-packages\\sklearn\\linear_model\\_coordinate_descent.py:697: ConvergenceWarning: Objective did not converge. You might want to increase the number of iterations, check the scale of the features or consider increasing regularisation. Duality gap: 2.877e+04, tolerance: 1.615e+03\n",
      "  model = cd_fast.enet_coordinate_descent(\n"
     ]
    },
    {
     "name": "stdout",
     "output_type": "stream",
     "text": [
      "[CV 1/5] END final_estimator__alpha=0.001, final_estimator__fit_intercept=False, final_estimator__l1_ratio=0.1, final_estimator__max_iter=2000, final_estimator__random_state=42, final_estimator__selection=random, final_estimator__tol=0.001;, score=-2.179 total time=  20.8s\n"
     ]
    },
    {
     "name": "stderr",
     "output_type": "stream",
     "text": [
      "c:\\Users\\User\\.conda\\envs\\energy\\Lib\\site-packages\\sklearn\\linear_model\\_coordinate_descent.py:697: ConvergenceWarning: Objective did not converge. You might want to increase the number of iterations, check the scale of the features or consider increasing regularisation. Duality gap: 2.752e+04, tolerance: 1.598e+03\n",
      "  model = cd_fast.enet_coordinate_descent(\n"
     ]
    },
    {
     "name": "stdout",
     "output_type": "stream",
     "text": [
      "[CV 2/5] END final_estimator__alpha=0.001, final_estimator__fit_intercept=False, final_estimator__l1_ratio=0.1, final_estimator__max_iter=2000, final_estimator__random_state=42, final_estimator__selection=random, final_estimator__tol=0.001;, score=-2.327 total time=  25.7s\n"
     ]
    },
    {
     "name": "stderr",
     "output_type": "stream",
     "text": [
      "c:\\Users\\User\\.conda\\envs\\energy\\Lib\\site-packages\\sklearn\\linear_model\\_coordinate_descent.py:697: ConvergenceWarning: Objective did not converge. You might want to increase the number of iterations, check the scale of the features or consider increasing regularisation. Duality gap: 2.756e+04, tolerance: 1.608e+03\n",
      "  model = cd_fast.enet_coordinate_descent(\n"
     ]
    },
    {
     "name": "stdout",
     "output_type": "stream",
     "text": [
      "[CV 3/5] END final_estimator__alpha=0.001, final_estimator__fit_intercept=False, final_estimator__l1_ratio=0.1, final_estimator__max_iter=2000, final_estimator__random_state=42, final_estimator__selection=random, final_estimator__tol=0.001;, score=-2.206 total time=  20.9s\n"
     ]
    },
    {
     "name": "stderr",
     "output_type": "stream",
     "text": [
      "c:\\Users\\User\\.conda\\envs\\energy\\Lib\\site-packages\\sklearn\\linear_model\\_coordinate_descent.py:697: ConvergenceWarning: Objective did not converge. You might want to increase the number of iterations, check the scale of the features or consider increasing regularisation. Duality gap: 2.809e+04, tolerance: 1.614e+03\n",
      "  model = cd_fast.enet_coordinate_descent(\n"
     ]
    },
    {
     "name": "stdout",
     "output_type": "stream",
     "text": [
      "[CV 4/5] END final_estimator__alpha=0.001, final_estimator__fit_intercept=False, final_estimator__l1_ratio=0.1, final_estimator__max_iter=2000, final_estimator__random_state=42, final_estimator__selection=random, final_estimator__tol=0.001;, score=-2.170 total time=  18.5s\n"
     ]
    },
    {
     "name": "stderr",
     "output_type": "stream",
     "text": [
      "c:\\Users\\User\\.conda\\envs\\energy\\Lib\\site-packages\\sklearn\\linear_model\\_coordinate_descent.py:697: ConvergenceWarning: Objective did not converge. You might want to increase the number of iterations, check the scale of the features or consider increasing regularisation. Duality gap: 2.706e+04, tolerance: 1.609e+03\n",
      "  model = cd_fast.enet_coordinate_descent(\n"
     ]
    },
    {
     "name": "stdout",
     "output_type": "stream",
     "text": [
      "[CV 5/5] END final_estimator__alpha=0.001, final_estimator__fit_intercept=False, final_estimator__l1_ratio=0.1, final_estimator__max_iter=2000, final_estimator__random_state=42, final_estimator__selection=random, final_estimator__tol=0.001;, score=-2.291 total time=  22.2s\n"
     ]
    },
    {
     "name": "stderr",
     "output_type": "stream",
     "text": [
      "c:\\Users\\User\\.conda\\envs\\energy\\Lib\\site-packages\\sklearn\\linear_model\\_coordinate_descent.py:697: ConvergenceWarning: Objective did not converge. You might want to increase the number of iterations, check the scale of the features or consider increasing regularisation. Duality gap: 2.871e+04, tolerance: 1.615e+04\n",
      "  model = cd_fast.enet_coordinate_descent(\n"
     ]
    },
    {
     "name": "stdout",
     "output_type": "stream",
     "text": [
      "[CV 1/5] END final_estimator__alpha=0.001, final_estimator__fit_intercept=False, final_estimator__l1_ratio=0.1, final_estimator__max_iter=2000, final_estimator__random_state=42, final_estimator__selection=random, final_estimator__tol=0.01;, score=-2.191 total time=  25.0s\n"
     ]
    },
    {
     "name": "stderr",
     "output_type": "stream",
     "text": [
      "c:\\Users\\User\\.conda\\envs\\energy\\Lib\\site-packages\\sklearn\\linear_model\\_coordinate_descent.py:697: ConvergenceWarning: Objective did not converge. You might want to increase the number of iterations, check the scale of the features or consider increasing regularisation. Duality gap: 2.767e+04, tolerance: 1.598e+04\n",
      "  model = cd_fast.enet_coordinate_descent(\n"
     ]
    },
    {
     "name": "stdout",
     "output_type": "stream",
     "text": [
      "[CV 2/5] END final_estimator__alpha=0.001, final_estimator__fit_intercept=False, final_estimator__l1_ratio=0.1, final_estimator__max_iter=2000, final_estimator__random_state=42, final_estimator__selection=random, final_estimator__tol=0.01;, score=-2.335 total time=  19.7s\n"
     ]
    },
    {
     "name": "stderr",
     "output_type": "stream",
     "text": [
      "c:\\Users\\User\\.conda\\envs\\energy\\Lib\\site-packages\\sklearn\\linear_model\\_coordinate_descent.py:697: ConvergenceWarning: Objective did not converge. You might want to increase the number of iterations, check the scale of the features or consider increasing regularisation. Duality gap: 2.744e+04, tolerance: 1.608e+04\n",
      "  model = cd_fast.enet_coordinate_descent(\n"
     ]
    },
    {
     "name": "stdout",
     "output_type": "stream",
     "text": [
      "[CV 3/5] END final_estimator__alpha=0.001, final_estimator__fit_intercept=False, final_estimator__l1_ratio=0.1, final_estimator__max_iter=2000, final_estimator__random_state=42, final_estimator__selection=random, final_estimator__tol=0.01;, score=-2.194 total time=  18.7s\n"
     ]
    },
    {
     "name": "stderr",
     "output_type": "stream",
     "text": [
      "c:\\Users\\User\\.conda\\envs\\energy\\Lib\\site-packages\\sklearn\\linear_model\\_coordinate_descent.py:697: ConvergenceWarning: Objective did not converge. You might want to increase the number of iterations, check the scale of the features or consider increasing regularisation. Duality gap: 2.790e+04, tolerance: 1.614e+04\n",
      "  model = cd_fast.enet_coordinate_descent(\n"
     ]
    },
    {
     "name": "stdout",
     "output_type": "stream",
     "text": [
      "[CV 4/5] END final_estimator__alpha=0.001, final_estimator__fit_intercept=False, final_estimator__l1_ratio=0.1, final_estimator__max_iter=2000, final_estimator__random_state=42, final_estimator__selection=random, final_estimator__tol=0.01;, score=-2.165 total time=  17.4s\n"
     ]
    },
    {
     "name": "stderr",
     "output_type": "stream",
     "text": [
      "c:\\Users\\User\\.conda\\envs\\energy\\Lib\\site-packages\\sklearn\\linear_model\\_coordinate_descent.py:697: ConvergenceWarning: Objective did not converge. You might want to increase the number of iterations, check the scale of the features or consider increasing regularisation. Duality gap: 2.706e+04, tolerance: 1.609e+04\n",
      "  model = cd_fast.enet_coordinate_descent(\n"
     ]
    },
    {
     "name": "stdout",
     "output_type": "stream",
     "text": [
      "[CV 5/5] END final_estimator__alpha=0.001, final_estimator__fit_intercept=False, final_estimator__l1_ratio=0.1, final_estimator__max_iter=2000, final_estimator__random_state=42, final_estimator__selection=random, final_estimator__tol=0.01;, score=-2.282 total time=  23.2s\n"
     ]
    },
    {
     "name": "stderr",
     "output_type": "stream",
     "text": [
      "c:\\Users\\User\\.conda\\envs\\energy\\Lib\\site-packages\\sklearn\\linear_model\\_coordinate_descent.py:697: ConvergenceWarning: Objective did not converge. You might want to increase the number of iterations, check the scale of the features or consider increasing regularisation. Duality gap: 2.740e+04, tolerance: 1.615e+02\n",
      "  model = cd_fast.enet_coordinate_descent(\n"
     ]
    },
    {
     "name": "stdout",
     "output_type": "stream",
     "text": [
      "[CV 1/5] END final_estimator__alpha=0.001, final_estimator__fit_intercept=False, final_estimator__l1_ratio=0.3, final_estimator__max_iter=1000, final_estimator__random_state=42, final_estimator__selection=cyclic, final_estimator__tol=0.0001;, score=-2.205 total time=  26.2s\n"
     ]
    },
    {
     "name": "stderr",
     "output_type": "stream",
     "text": [
      "c:\\Users\\User\\.conda\\envs\\energy\\Lib\\site-packages\\sklearn\\linear_model\\_coordinate_descent.py:697: ConvergenceWarning: Objective did not converge. You might want to increase the number of iterations, check the scale of the features or consider increasing regularisation. Duality gap: 2.636e+04, tolerance: 1.598e+02\n",
      "  model = cd_fast.enet_coordinate_descent(\n"
     ]
    },
    {
     "name": "stdout",
     "output_type": "stream",
     "text": [
      "[CV 2/5] END final_estimator__alpha=0.001, final_estimator__fit_intercept=False, final_estimator__l1_ratio=0.3, final_estimator__max_iter=1000, final_estimator__random_state=42, final_estimator__selection=cyclic, final_estimator__tol=0.0001;, score=-2.334 total time=  16.1s\n"
     ]
    },
    {
     "name": "stderr",
     "output_type": "stream",
     "text": [
      "c:\\Users\\User\\.conda\\envs\\energy\\Lib\\site-packages\\sklearn\\linear_model\\_coordinate_descent.py:697: ConvergenceWarning: Objective did not converge. You might want to increase the number of iterations, check the scale of the features or consider increasing regularisation. Duality gap: 2.617e+04, tolerance: 1.608e+02\n",
      "  model = cd_fast.enet_coordinate_descent(\n"
     ]
    },
    {
     "name": "stdout",
     "output_type": "stream",
     "text": [
      "[CV 3/5] END final_estimator__alpha=0.001, final_estimator__fit_intercept=False, final_estimator__l1_ratio=0.3, final_estimator__max_iter=1000, final_estimator__random_state=42, final_estimator__selection=cyclic, final_estimator__tol=0.0001;, score=-2.197 total time=  25.9s\n"
     ]
    },
    {
     "name": "stderr",
     "output_type": "stream",
     "text": [
      "c:\\Users\\User\\.conda\\envs\\energy\\Lib\\site-packages\\sklearn\\linear_model\\_coordinate_descent.py:697: ConvergenceWarning: Objective did not converge. You might want to increase the number of iterations, check the scale of the features or consider increasing regularisation. Duality gap: 2.629e+04, tolerance: 1.614e+02\n",
      "  model = cd_fast.enet_coordinate_descent(\n"
     ]
    },
    {
     "name": "stdout",
     "output_type": "stream",
     "text": [
      "[CV 4/5] END final_estimator__alpha=0.001, final_estimator__fit_intercept=False, final_estimator__l1_ratio=0.3, final_estimator__max_iter=1000, final_estimator__random_state=42, final_estimator__selection=cyclic, final_estimator__tol=0.0001;, score=-2.156 total time=  24.4s\n"
     ]
    },
    {
     "name": "stderr",
     "output_type": "stream",
     "text": [
      "c:\\Users\\User\\.conda\\envs\\energy\\Lib\\site-packages\\sklearn\\linear_model\\_coordinate_descent.py:697: ConvergenceWarning: Objective did not converge. You might want to increase the number of iterations, check the scale of the features or consider increasing regularisation. Duality gap: 2.559e+04, tolerance: 1.609e+02\n",
      "  model = cd_fast.enet_coordinate_descent(\n"
     ]
    },
    {
     "name": "stdout",
     "output_type": "stream",
     "text": [
      "[CV 5/5] END final_estimator__alpha=0.001, final_estimator__fit_intercept=False, final_estimator__l1_ratio=0.3, final_estimator__max_iter=1000, final_estimator__random_state=42, final_estimator__selection=cyclic, final_estimator__tol=0.0001;, score=-2.293 total time=  23.4s\n"
     ]
    },
    {
     "name": "stderr",
     "output_type": "stream",
     "text": [
      "c:\\Users\\User\\.conda\\envs\\energy\\Lib\\site-packages\\sklearn\\linear_model\\_coordinate_descent.py:697: ConvergenceWarning: Objective did not converge. You might want to increase the number of iterations, check the scale of the features or consider increasing regularisation. Duality gap: 2.744e+04, tolerance: 1.615e+03\n",
      "  model = cd_fast.enet_coordinate_descent(\n"
     ]
    },
    {
     "name": "stdout",
     "output_type": "stream",
     "text": [
      "[CV 1/5] END final_estimator__alpha=0.001, final_estimator__fit_intercept=False, final_estimator__l1_ratio=0.3, final_estimator__max_iter=1000, final_estimator__random_state=42, final_estimator__selection=cyclic, final_estimator__tol=0.001;, score=-2.208 total time=  19.7s\n"
     ]
    },
    {
     "name": "stderr",
     "output_type": "stream",
     "text": [
      "c:\\Users\\User\\.conda\\envs\\energy\\Lib\\site-packages\\sklearn\\linear_model\\_coordinate_descent.py:697: ConvergenceWarning: Objective did not converge. You might want to increase the number of iterations, check the scale of the features or consider increasing regularisation. Duality gap: 2.625e+04, tolerance: 1.598e+03\n",
      "  model = cd_fast.enet_coordinate_descent(\n"
     ]
    },
    {
     "name": "stdout",
     "output_type": "stream",
     "text": [
      "[CV 2/5] END final_estimator__alpha=0.001, final_estimator__fit_intercept=False, final_estimator__l1_ratio=0.3, final_estimator__max_iter=1000, final_estimator__random_state=42, final_estimator__selection=cyclic, final_estimator__tol=0.001;, score=-2.326 total time=  18.5s\n"
     ]
    },
    {
     "name": "stderr",
     "output_type": "stream",
     "text": [
      "c:\\Users\\User\\.conda\\envs\\energy\\Lib\\site-packages\\sklearn\\linear_model\\_coordinate_descent.py:697: ConvergenceWarning: Objective did not converge. You might want to increase the number of iterations, check the scale of the features or consider increasing regularisation. Duality gap: 2.601e+04, tolerance: 1.608e+03\n",
      "  model = cd_fast.enet_coordinate_descent(\n"
     ]
    },
    {
     "name": "stdout",
     "output_type": "stream",
     "text": [
      "[CV 3/5] END final_estimator__alpha=0.001, final_estimator__fit_intercept=False, final_estimator__l1_ratio=0.3, final_estimator__max_iter=1000, final_estimator__random_state=42, final_estimator__selection=cyclic, final_estimator__tol=0.001;, score=-2.226 total time=  17.2s\n"
     ]
    },
    {
     "name": "stderr",
     "output_type": "stream",
     "text": [
      "c:\\Users\\User\\.conda\\envs\\energy\\Lib\\site-packages\\sklearn\\linear_model\\_coordinate_descent.py:697: ConvergenceWarning: Objective did not converge. You might want to increase the number of iterations, check the scale of the features or consider increasing regularisation. Duality gap: 2.714e+04, tolerance: 1.614e+03\n",
      "  model = cd_fast.enet_coordinate_descent(\n"
     ]
    },
    {
     "name": "stdout",
     "output_type": "stream",
     "text": [
      "[CV 4/5] END final_estimator__alpha=0.001, final_estimator__fit_intercept=False, final_estimator__l1_ratio=0.3, final_estimator__max_iter=1000, final_estimator__random_state=42, final_estimator__selection=cyclic, final_estimator__tol=0.001;, score=-2.166 total time=  18.7s\n"
     ]
    },
    {
     "name": "stderr",
     "output_type": "stream",
     "text": [
      "c:\\Users\\User\\.conda\\envs\\energy\\Lib\\site-packages\\sklearn\\linear_model\\_coordinate_descent.py:697: ConvergenceWarning: Objective did not converge. You might want to increase the number of iterations, check the scale of the features or consider increasing regularisation. Duality gap: 2.583e+04, tolerance: 1.609e+03\n",
      "  model = cd_fast.enet_coordinate_descent(\n"
     ]
    },
    {
     "name": "stdout",
     "output_type": "stream",
     "text": [
      "[CV 5/5] END final_estimator__alpha=0.001, final_estimator__fit_intercept=False, final_estimator__l1_ratio=0.3, final_estimator__max_iter=1000, final_estimator__random_state=42, final_estimator__selection=cyclic, final_estimator__tol=0.001;, score=-2.281 total time=  16.9s\n"
     ]
    },
    {
     "name": "stderr",
     "output_type": "stream",
     "text": [
      "c:\\Users\\User\\.conda\\envs\\energy\\Lib\\site-packages\\sklearn\\linear_model\\_coordinate_descent.py:697: ConvergenceWarning: Objective did not converge. You might want to increase the number of iterations, check the scale of the features or consider increasing regularisation. Duality gap: 2.745e+04, tolerance: 1.615e+04\n",
      "  model = cd_fast.enet_coordinate_descent(\n"
     ]
    },
    {
     "name": "stdout",
     "output_type": "stream",
     "text": [
      "[CV 1/5] END final_estimator__alpha=0.001, final_estimator__fit_intercept=False, final_estimator__l1_ratio=0.3, final_estimator__max_iter=1000, final_estimator__random_state=42, final_estimator__selection=cyclic, final_estimator__tol=0.01;, score=-2.182 total time=  24.1s\n"
     ]
    },
    {
     "name": "stderr",
     "output_type": "stream",
     "text": [
      "c:\\Users\\User\\.conda\\envs\\energy\\Lib\\site-packages\\sklearn\\linear_model\\_coordinate_descent.py:697: ConvergenceWarning: Objective did not converge. You might want to increase the number of iterations, check the scale of the features or consider increasing regularisation. Duality gap: 2.614e+04, tolerance: 1.598e+04\n",
      "  model = cd_fast.enet_coordinate_descent(\n"
     ]
    },
    {
     "name": "stdout",
     "output_type": "stream",
     "text": [
      "[CV 2/5] END final_estimator__alpha=0.001, final_estimator__fit_intercept=False, final_estimator__l1_ratio=0.3, final_estimator__max_iter=1000, final_estimator__random_state=42, final_estimator__selection=cyclic, final_estimator__tol=0.01;, score=-2.354 total time=  20.0s\n"
     ]
    },
    {
     "name": "stderr",
     "output_type": "stream",
     "text": [
      "c:\\Users\\User\\.conda\\envs\\energy\\Lib\\site-packages\\sklearn\\linear_model\\_coordinate_descent.py:697: ConvergenceWarning: Objective did not converge. You might want to increase the number of iterations, check the scale of the features or consider increasing regularisation. Duality gap: 2.630e+04, tolerance: 1.608e+04\n",
      "  model = cd_fast.enet_coordinate_descent(\n"
     ]
    },
    {
     "name": "stdout",
     "output_type": "stream",
     "text": [
      "[CV 3/5] END final_estimator__alpha=0.001, final_estimator__fit_intercept=False, final_estimator__l1_ratio=0.3, final_estimator__max_iter=1000, final_estimator__random_state=42, final_estimator__selection=cyclic, final_estimator__tol=0.01;, score=-2.197 total time=  20.2s\n"
     ]
    },
    {
     "name": "stderr",
     "output_type": "stream",
     "text": [
      "c:\\Users\\User\\.conda\\envs\\energy\\Lib\\site-packages\\sklearn\\linear_model\\_coordinate_descent.py:697: ConvergenceWarning: Objective did not converge. You might want to increase the number of iterations, check the scale of the features or consider increasing regularisation. Duality gap: 2.642e+04, tolerance: 1.614e+04\n",
      "  model = cd_fast.enet_coordinate_descent(\n"
     ]
    },
    {
     "name": "stdout",
     "output_type": "stream",
     "text": [
      "[CV 4/5] END final_estimator__alpha=0.001, final_estimator__fit_intercept=False, final_estimator__l1_ratio=0.3, final_estimator__max_iter=1000, final_estimator__random_state=42, final_estimator__selection=cyclic, final_estimator__tol=0.01;, score=-2.151 total time=  24.2s\n"
     ]
    },
    {
     "name": "stderr",
     "output_type": "stream",
     "text": [
      "c:\\Users\\User\\.conda\\envs\\energy\\Lib\\site-packages\\sklearn\\linear_model\\_coordinate_descent.py:697: ConvergenceWarning: Objective did not converge. You might want to increase the number of iterations, check the scale of the features or consider increasing regularisation. Duality gap: 2.580e+04, tolerance: 1.609e+04\n",
      "  model = cd_fast.enet_coordinate_descent(\n"
     ]
    },
    {
     "name": "stdout",
     "output_type": "stream",
     "text": [
      "[CV 5/5] END final_estimator__alpha=0.001, final_estimator__fit_intercept=False, final_estimator__l1_ratio=0.3, final_estimator__max_iter=1000, final_estimator__random_state=42, final_estimator__selection=cyclic, final_estimator__tol=0.01;, score=-2.290 total time=  23.3s\n"
     ]
    },
    {
     "name": "stderr",
     "output_type": "stream",
     "text": [
      "c:\\Users\\User\\.conda\\envs\\energy\\Lib\\site-packages\\sklearn\\linear_model\\_coordinate_descent.py:697: ConvergenceWarning: Objective did not converge. You might want to increase the number of iterations, check the scale of the features or consider increasing regularisation. Duality gap: 2.890e+04, tolerance: 1.615e+02\n",
      "  model = cd_fast.enet_coordinate_descent(\n"
     ]
    },
    {
     "name": "stdout",
     "output_type": "stream",
     "text": [
      "[CV 1/5] END final_estimator__alpha=0.001, final_estimator__fit_intercept=False, final_estimator__l1_ratio=0.3, final_estimator__max_iter=1000, final_estimator__random_state=42, final_estimator__selection=random, final_estimator__tol=0.0001;, score=-2.159 total time=  18.0s\n"
     ]
    },
    {
     "name": "stderr",
     "output_type": "stream",
     "text": [
      "c:\\Users\\User\\.conda\\envs\\energy\\Lib\\site-packages\\sklearn\\linear_model\\_coordinate_descent.py:697: ConvergenceWarning: Objective did not converge. You might want to increase the number of iterations, check the scale of the features or consider increasing regularisation. Duality gap: 2.759e+04, tolerance: 1.598e+02\n",
      "  model = cd_fast.enet_coordinate_descent(\n"
     ]
    },
    {
     "name": "stdout",
     "output_type": "stream",
     "text": [
      "[CV 2/5] END final_estimator__alpha=0.001, final_estimator__fit_intercept=False, final_estimator__l1_ratio=0.3, final_estimator__max_iter=1000, final_estimator__random_state=42, final_estimator__selection=random, final_estimator__tol=0.0001;, score=-2.363 total time=  19.8s\n"
     ]
    },
    {
     "name": "stderr",
     "output_type": "stream",
     "text": [
      "c:\\Users\\User\\.conda\\envs\\energy\\Lib\\site-packages\\sklearn\\linear_model\\_coordinate_descent.py:697: ConvergenceWarning: Objective did not converge. You might want to increase the number of iterations, check the scale of the features or consider increasing regularisation. Duality gap: 2.749e+04, tolerance: 1.608e+02\n",
      "  model = cd_fast.enet_coordinate_descent(\n"
     ]
    },
    {
     "name": "stdout",
     "output_type": "stream",
     "text": [
      "[CV 3/5] END final_estimator__alpha=0.001, final_estimator__fit_intercept=False, final_estimator__l1_ratio=0.3, final_estimator__max_iter=1000, final_estimator__random_state=42, final_estimator__selection=random, final_estimator__tol=0.0001;, score=-2.209 total time=  25.1s\n"
     ]
    },
    {
     "name": "stderr",
     "output_type": "stream",
     "text": [
      "c:\\Users\\User\\.conda\\envs\\energy\\Lib\\site-packages\\sklearn\\linear_model\\_coordinate_descent.py:697: ConvergenceWarning: Objective did not converge. You might want to increase the number of iterations, check the scale of the features or consider increasing regularisation. Duality gap: 2.819e+04, tolerance: 1.614e+02\n",
      "  model = cd_fast.enet_coordinate_descent(\n"
     ]
    },
    {
     "name": "stdout",
     "output_type": "stream",
     "text": [
      "[CV 4/5] END final_estimator__alpha=0.001, final_estimator__fit_intercept=False, final_estimator__l1_ratio=0.3, final_estimator__max_iter=1000, final_estimator__random_state=42, final_estimator__selection=random, final_estimator__tol=0.0001;, score=-2.164 total time=  17.5s\n"
     ]
    },
    {
     "name": "stderr",
     "output_type": "stream",
     "text": [
      "c:\\Users\\User\\.conda\\envs\\energy\\Lib\\site-packages\\sklearn\\linear_model\\_coordinate_descent.py:697: ConvergenceWarning: Objective did not converge. You might want to increase the number of iterations, check the scale of the features or consider increasing regularisation. Duality gap: 2.719e+04, tolerance: 1.609e+02\n",
      "  model = cd_fast.enet_coordinate_descent(\n"
     ]
    },
    {
     "name": "stdout",
     "output_type": "stream",
     "text": [
      "[CV 5/5] END final_estimator__alpha=0.001, final_estimator__fit_intercept=False, final_estimator__l1_ratio=0.3, final_estimator__max_iter=1000, final_estimator__random_state=42, final_estimator__selection=random, final_estimator__tol=0.0001;, score=-2.293 total time=  21.9s\n"
     ]
    },
    {
     "name": "stderr",
     "output_type": "stream",
     "text": [
      "c:\\Users\\User\\.conda\\envs\\energy\\Lib\\site-packages\\sklearn\\linear_model\\_coordinate_descent.py:697: ConvergenceWarning: Objective did not converge. You might want to increase the number of iterations, check the scale of the features or consider increasing regularisation. Duality gap: 2.900e+04, tolerance: 1.615e+03\n",
      "  model = cd_fast.enet_coordinate_descent(\n"
     ]
    },
    {
     "name": "stdout",
     "output_type": "stream",
     "text": [
      "[CV 1/5] END final_estimator__alpha=0.001, final_estimator__fit_intercept=False, final_estimator__l1_ratio=0.3, final_estimator__max_iter=1000, final_estimator__random_state=42, final_estimator__selection=random, final_estimator__tol=0.001;, score=-2.173 total time=  21.8s\n"
     ]
    },
    {
     "name": "stderr",
     "output_type": "stream",
     "text": [
      "c:\\Users\\User\\.conda\\envs\\energy\\Lib\\site-packages\\sklearn\\linear_model\\_coordinate_descent.py:697: ConvergenceWarning: Objective did not converge. You might want to increase the number of iterations, check the scale of the features or consider increasing regularisation. Duality gap: 2.786e+04, tolerance: 1.598e+03\n",
      "  model = cd_fast.enet_coordinate_descent(\n"
     ]
    },
    {
     "name": "stdout",
     "output_type": "stream",
     "text": [
      "[CV 2/5] END final_estimator__alpha=0.001, final_estimator__fit_intercept=False, final_estimator__l1_ratio=0.3, final_estimator__max_iter=1000, final_estimator__random_state=42, final_estimator__selection=random, final_estimator__tol=0.001;, score=-2.330 total time=  19.1s\n"
     ]
    },
    {
     "name": "stderr",
     "output_type": "stream",
     "text": [
      "c:\\Users\\User\\.conda\\envs\\energy\\Lib\\site-packages\\sklearn\\linear_model\\_coordinate_descent.py:697: ConvergenceWarning: Objective did not converge. You might want to increase the number of iterations, check the scale of the features or consider increasing regularisation. Duality gap: 2.764e+04, tolerance: 1.608e+03\n",
      "  model = cd_fast.enet_coordinate_descent(\n"
     ]
    },
    {
     "name": "stdout",
     "output_type": "stream",
     "text": [
      "[CV 3/5] END final_estimator__alpha=0.001, final_estimator__fit_intercept=False, final_estimator__l1_ratio=0.3, final_estimator__max_iter=1000, final_estimator__random_state=42, final_estimator__selection=random, final_estimator__tol=0.001;, score=-2.211 total time=  18.3s\n"
     ]
    },
    {
     "name": "stderr",
     "output_type": "stream",
     "text": [
      "c:\\Users\\User\\.conda\\envs\\energy\\Lib\\site-packages\\sklearn\\linear_model\\_coordinate_descent.py:697: ConvergenceWarning: Objective did not converge. You might want to increase the number of iterations, check the scale of the features or consider increasing regularisation. Duality gap: 2.815e+04, tolerance: 1.614e+03\n",
      "  model = cd_fast.enet_coordinate_descent(\n"
     ]
    },
    {
     "name": "stdout",
     "output_type": "stream",
     "text": [
      "[CV 4/5] END final_estimator__alpha=0.001, final_estimator__fit_intercept=False, final_estimator__l1_ratio=0.3, final_estimator__max_iter=1000, final_estimator__random_state=42, final_estimator__selection=random, final_estimator__tol=0.001;, score=-2.168 total time=  19.0s\n"
     ]
    },
    {
     "name": "stderr",
     "output_type": "stream",
     "text": [
      "c:\\Users\\User\\.conda\\envs\\energy\\Lib\\site-packages\\sklearn\\linear_model\\_coordinate_descent.py:697: ConvergenceWarning: Objective did not converge. You might want to increase the number of iterations, check the scale of the features or consider increasing regularisation. Duality gap: 2.712e+04, tolerance: 1.609e+03\n",
      "  model = cd_fast.enet_coordinate_descent(\n"
     ]
    },
    {
     "name": "stdout",
     "output_type": "stream",
     "text": [
      "[CV 5/5] END final_estimator__alpha=0.001, final_estimator__fit_intercept=False, final_estimator__l1_ratio=0.3, final_estimator__max_iter=1000, final_estimator__random_state=42, final_estimator__selection=random, final_estimator__tol=0.001;, score=-2.291 total time=  21.5s\n"
     ]
    },
    {
     "name": "stderr",
     "output_type": "stream",
     "text": [
      "c:\\Users\\User\\.conda\\envs\\energy\\Lib\\site-packages\\sklearn\\linear_model\\_coordinate_descent.py:697: ConvergenceWarning: Objective did not converge. You might want to increase the number of iterations, check the scale of the features or consider increasing regularisation. Duality gap: 2.905e+04, tolerance: 1.615e+04\n",
      "  model = cd_fast.enet_coordinate_descent(\n"
     ]
    },
    {
     "name": "stdout",
     "output_type": "stream",
     "text": [
      "[CV 1/5] END final_estimator__alpha=0.001, final_estimator__fit_intercept=False, final_estimator__l1_ratio=0.3, final_estimator__max_iter=1000, final_estimator__random_state=42, final_estimator__selection=random, final_estimator__tol=0.01;, score=-2.189 total time=  20.0s\n"
     ]
    },
    {
     "name": "stderr",
     "output_type": "stream",
     "text": [
      "c:\\Users\\User\\.conda\\envs\\energy\\Lib\\site-packages\\sklearn\\linear_model\\_coordinate_descent.py:697: ConvergenceWarning: Objective did not converge. You might want to increase the number of iterations, check the scale of the features or consider increasing regularisation. Duality gap: 2.783e+04, tolerance: 1.598e+04\n",
      "  model = cd_fast.enet_coordinate_descent(\n"
     ]
    },
    {
     "name": "stdout",
     "output_type": "stream",
     "text": [
      "[CV 2/5] END final_estimator__alpha=0.001, final_estimator__fit_intercept=False, final_estimator__l1_ratio=0.3, final_estimator__max_iter=1000, final_estimator__random_state=42, final_estimator__selection=random, final_estimator__tol=0.01;, score=-2.342 total time=  13.7s\n"
     ]
    },
    {
     "name": "stderr",
     "output_type": "stream",
     "text": [
      "c:\\Users\\User\\.conda\\envs\\energy\\Lib\\site-packages\\sklearn\\linear_model\\_coordinate_descent.py:697: ConvergenceWarning: Objective did not converge. You might want to increase the number of iterations, check the scale of the features or consider increasing regularisation. Duality gap: 2.748e+04, tolerance: 1.608e+04\n",
      "  model = cd_fast.enet_coordinate_descent(\n"
     ]
    },
    {
     "name": "stdout",
     "output_type": "stream",
     "text": [
      "[CV 3/5] END final_estimator__alpha=0.001, final_estimator__fit_intercept=False, final_estimator__l1_ratio=0.3, final_estimator__max_iter=1000, final_estimator__random_state=42, final_estimator__selection=random, final_estimator__tol=0.01;, score=-2.232 total time=  19.4s\n"
     ]
    },
    {
     "name": "stderr",
     "output_type": "stream",
     "text": [
      "c:\\Users\\User\\.conda\\envs\\energy\\Lib\\site-packages\\sklearn\\linear_model\\_coordinate_descent.py:697: ConvergenceWarning: Objective did not converge. You might want to increase the number of iterations, check the scale of the features or consider increasing regularisation. Duality gap: 2.814e+04, tolerance: 1.614e+04\n",
      "  model = cd_fast.enet_coordinate_descent(\n"
     ]
    },
    {
     "name": "stdout",
     "output_type": "stream",
     "text": [
      "[CV 4/5] END final_estimator__alpha=0.001, final_estimator__fit_intercept=False, final_estimator__l1_ratio=0.3, final_estimator__max_iter=1000, final_estimator__random_state=42, final_estimator__selection=random, final_estimator__tol=0.01;, score=-2.172 total time=  23.7s\n"
     ]
    },
    {
     "name": "stderr",
     "output_type": "stream",
     "text": [
      "c:\\Users\\User\\.conda\\envs\\energy\\Lib\\site-packages\\sklearn\\linear_model\\_coordinate_descent.py:697: ConvergenceWarning: Objective did not converge. You might want to increase the number of iterations, check the scale of the features or consider increasing regularisation. Duality gap: 2.706e+04, tolerance: 1.609e+04\n",
      "  model = cd_fast.enet_coordinate_descent(\n"
     ]
    },
    {
     "name": "stdout",
     "output_type": "stream",
     "text": [
      "[CV 5/5] END final_estimator__alpha=0.001, final_estimator__fit_intercept=False, final_estimator__l1_ratio=0.3, final_estimator__max_iter=1000, final_estimator__random_state=42, final_estimator__selection=random, final_estimator__tol=0.01;, score=-2.285 total time=  22.5s\n"
     ]
    },
    {
     "name": "stderr",
     "output_type": "stream",
     "text": [
      "c:\\Users\\User\\.conda\\envs\\energy\\Lib\\site-packages\\sklearn\\linear_model\\_coordinate_descent.py:697: ConvergenceWarning: Objective did not converge. You might want to increase the number of iterations, check the scale of the features or consider increasing regularisation. Duality gap: 6.150e+03, tolerance: 1.615e+02\n",
      "  model = cd_fast.enet_coordinate_descent(\n"
     ]
    },
    {
     "name": "stdout",
     "output_type": "stream",
     "text": [
      "[CV 1/5] END final_estimator__alpha=0.001, final_estimator__fit_intercept=False, final_estimator__l1_ratio=0.3, final_estimator__max_iter=2000, final_estimator__random_state=42, final_estimator__selection=cyclic, final_estimator__tol=0.0001;, score=-2.179 total time=  17.0s\n"
     ]
    },
    {
     "name": "stderr",
     "output_type": "stream",
     "text": [
      "c:\\Users\\User\\.conda\\envs\\energy\\Lib\\site-packages\\sklearn\\linear_model\\_coordinate_descent.py:697: ConvergenceWarning: Objective did not converge. You might want to increase the number of iterations, check the scale of the features or consider increasing regularisation. Duality gap: 3.964e+03, tolerance: 1.598e+02\n",
      "  model = cd_fast.enet_coordinate_descent(\n"
     ]
    },
    {
     "name": "stdout",
     "output_type": "stream",
     "text": [
      "[CV 2/5] END final_estimator__alpha=0.001, final_estimator__fit_intercept=False, final_estimator__l1_ratio=0.3, final_estimator__max_iter=2000, final_estimator__random_state=42, final_estimator__selection=cyclic, final_estimator__tol=0.0001;, score=-2.322 total time=  26.0s\n"
     ]
    },
    {
     "name": "stderr",
     "output_type": "stream",
     "text": [
      "c:\\Users\\User\\.conda\\envs\\energy\\Lib\\site-packages\\sklearn\\linear_model\\_coordinate_descent.py:697: ConvergenceWarning: Objective did not converge. You might want to increase the number of iterations, check the scale of the features or consider increasing regularisation. Duality gap: 1.009e+04, tolerance: 1.608e+02\n",
      "  model = cd_fast.enet_coordinate_descent(\n"
     ]
    },
    {
     "name": "stdout",
     "output_type": "stream",
     "text": [
      "[CV 3/5] END final_estimator__alpha=0.001, final_estimator__fit_intercept=False, final_estimator__l1_ratio=0.3, final_estimator__max_iter=2000, final_estimator__random_state=42, final_estimator__selection=cyclic, final_estimator__tol=0.0001;, score=-2.201 total time=  22.8s\n"
     ]
    },
    {
     "name": "stderr",
     "output_type": "stream",
     "text": [
      "c:\\Users\\User\\.conda\\envs\\energy\\Lib\\site-packages\\sklearn\\linear_model\\_coordinate_descent.py:697: ConvergenceWarning: Objective did not converge. You might want to increase the number of iterations, check the scale of the features or consider increasing regularisation. Duality gap: 4.542e+03, tolerance: 1.614e+02\n",
      "  model = cd_fast.enet_coordinate_descent(\n"
     ]
    },
    {
     "name": "stdout",
     "output_type": "stream",
     "text": [
      "[CV 4/5] END final_estimator__alpha=0.001, final_estimator__fit_intercept=False, final_estimator__l1_ratio=0.3, final_estimator__max_iter=2000, final_estimator__random_state=42, final_estimator__selection=cyclic, final_estimator__tol=0.0001;, score=-2.166 total time=  21.7s\n"
     ]
    },
    {
     "name": "stderr",
     "output_type": "stream",
     "text": [
      "c:\\Users\\User\\.conda\\envs\\energy\\Lib\\site-packages\\sklearn\\linear_model\\_coordinate_descent.py:697: ConvergenceWarning: Objective did not converge. You might want to increase the number of iterations, check the scale of the features or consider increasing regularisation. Duality gap: 5.852e+03, tolerance: 1.609e+02\n",
      "  model = cd_fast.enet_coordinate_descent(\n"
     ]
    },
    {
     "name": "stdout",
     "output_type": "stream",
     "text": [
      "[CV 5/5] END final_estimator__alpha=0.001, final_estimator__fit_intercept=False, final_estimator__l1_ratio=0.3, final_estimator__max_iter=2000, final_estimator__random_state=42, final_estimator__selection=cyclic, final_estimator__tol=0.0001;, score=-2.297 total time=  16.9s\n"
     ]
    },
    {
     "name": "stderr",
     "output_type": "stream",
     "text": [
      "c:\\Users\\User\\.conda\\envs\\energy\\Lib\\site-packages\\sklearn\\linear_model\\_coordinate_descent.py:697: ConvergenceWarning: Objective did not converge. You might want to increase the number of iterations, check the scale of the features or consider increasing regularisation. Duality gap: 4.912e+03, tolerance: 1.615e+03\n",
      "  model = cd_fast.enet_coordinate_descent(\n"
     ]
    },
    {
     "name": "stdout",
     "output_type": "stream",
     "text": [
      "[CV 1/5] END final_estimator__alpha=0.001, final_estimator__fit_intercept=False, final_estimator__l1_ratio=0.3, final_estimator__max_iter=2000, final_estimator__random_state=42, final_estimator__selection=cyclic, final_estimator__tol=0.001;, score=-2.191 total time=  21.7s\n"
     ]
    },
    {
     "name": "stderr",
     "output_type": "stream",
     "text": [
      "c:\\Users\\User\\.conda\\envs\\energy\\Lib\\site-packages\\sklearn\\linear_model\\_coordinate_descent.py:697: ConvergenceWarning: Objective did not converge. You might want to increase the number of iterations, check the scale of the features or consider increasing regularisation. Duality gap: 4.735e+03, tolerance: 1.598e+03\n",
      "  model = cd_fast.enet_coordinate_descent(\n"
     ]
    },
    {
     "name": "stdout",
     "output_type": "stream",
     "text": [
      "[CV 2/5] END final_estimator__alpha=0.001, final_estimator__fit_intercept=False, final_estimator__l1_ratio=0.3, final_estimator__max_iter=2000, final_estimator__random_state=42, final_estimator__selection=cyclic, final_estimator__tol=0.001;, score=-2.340 total time=  25.7s\n"
     ]
    },
    {
     "name": "stderr",
     "output_type": "stream",
     "text": [
      "c:\\Users\\User\\.conda\\envs\\energy\\Lib\\site-packages\\sklearn\\linear_model\\_coordinate_descent.py:697: ConvergenceWarning: Objective did not converge. You might want to increase the number of iterations, check the scale of the features or consider increasing regularisation. Duality gap: 1.036e+04, tolerance: 1.608e+03\n",
      "  model = cd_fast.enet_coordinate_descent(\n"
     ]
    },
    {
     "name": "stdout",
     "output_type": "stream",
     "text": [
      "[CV 3/5] END final_estimator__alpha=0.001, final_estimator__fit_intercept=False, final_estimator__l1_ratio=0.3, final_estimator__max_iter=2000, final_estimator__random_state=42, final_estimator__selection=cyclic, final_estimator__tol=0.001;, score=-2.182 total time=  21.0s\n"
     ]
    },
    {
     "name": "stderr",
     "output_type": "stream",
     "text": [
      "c:\\Users\\User\\.conda\\envs\\energy\\Lib\\site-packages\\sklearn\\linear_model\\_coordinate_descent.py:697: ConvergenceWarning: Objective did not converge. You might want to increase the number of iterations, check the scale of the features or consider increasing regularisation. Duality gap: 4.715e+03, tolerance: 1.614e+03\n",
      "  model = cd_fast.enet_coordinate_descent(\n"
     ]
    },
    {
     "name": "stdout",
     "output_type": "stream",
     "text": [
      "[CV 4/5] END final_estimator__alpha=0.001, final_estimator__fit_intercept=False, final_estimator__l1_ratio=0.3, final_estimator__max_iter=2000, final_estimator__random_state=42, final_estimator__selection=cyclic, final_estimator__tol=0.001;, score=-2.166 total time=  14.8s\n"
     ]
    },
    {
     "name": "stderr",
     "output_type": "stream",
     "text": [
      "c:\\Users\\User\\.conda\\envs\\energy\\Lib\\site-packages\\sklearn\\linear_model\\_coordinate_descent.py:697: ConvergenceWarning: Objective did not converge. You might want to increase the number of iterations, check the scale of the features or consider increasing regularisation. Duality gap: 5.611e+03, tolerance: 1.609e+03\n",
      "  model = cd_fast.enet_coordinate_descent(\n"
     ]
    },
    {
     "name": "stdout",
     "output_type": "stream",
     "text": [
      "[CV 5/5] END final_estimator__alpha=0.001, final_estimator__fit_intercept=False, final_estimator__l1_ratio=0.3, final_estimator__max_iter=2000, final_estimator__random_state=42, final_estimator__selection=cyclic, final_estimator__tol=0.001;, score=-2.294 total time=  19.0s\n",
      "[CV 1/5] END final_estimator__alpha=0.001, final_estimator__fit_intercept=False, final_estimator__l1_ratio=0.3, final_estimator__max_iter=2000, final_estimator__random_state=42, final_estimator__selection=cyclic, final_estimator__tol=0.01;, score=-2.215 total time=  24.2s\n",
      "[CV 2/5] END final_estimator__alpha=0.001, final_estimator__fit_intercept=False, final_estimator__l1_ratio=0.3, final_estimator__max_iter=2000, final_estimator__random_state=42, final_estimator__selection=cyclic, final_estimator__tol=0.01;, score=-2.338 total time=  21.3s\n",
      "[CV 3/5] END final_estimator__alpha=0.001, final_estimator__fit_intercept=False, final_estimator__l1_ratio=0.3, final_estimator__max_iter=2000, final_estimator__random_state=42, final_estimator__selection=cyclic, final_estimator__tol=0.01;, score=-2.188 total time=  16.9s\n",
      "[CV 4/5] END final_estimator__alpha=0.001, final_estimator__fit_intercept=False, final_estimator__l1_ratio=0.3, final_estimator__max_iter=2000, final_estimator__random_state=42, final_estimator__selection=cyclic, final_estimator__tol=0.01;, score=-2.155 total time=  19.6s\n",
      "[CV 5/5] END final_estimator__alpha=0.001, final_estimator__fit_intercept=False, final_estimator__l1_ratio=0.3, final_estimator__max_iter=2000, final_estimator__random_state=42, final_estimator__selection=cyclic, final_estimator__tol=0.01;, score=-2.287 total time=  25.7s\n"
     ]
    },
    {
     "name": "stderr",
     "output_type": "stream",
     "text": [
      "c:\\Users\\User\\.conda\\envs\\energy\\Lib\\site-packages\\sklearn\\linear_model\\_coordinate_descent.py:697: ConvergenceWarning: Objective did not converge. You might want to increase the number of iterations, check the scale of the features or consider increasing regularisation. Duality gap: 2.757e+04, tolerance: 1.615e+02\n",
      "  model = cd_fast.enet_coordinate_descent(\n"
     ]
    },
    {
     "name": "stdout",
     "output_type": "stream",
     "text": [
      "[CV 1/5] END final_estimator__alpha=0.001, final_estimator__fit_intercept=False, final_estimator__l1_ratio=0.3, final_estimator__max_iter=2000, final_estimator__random_state=42, final_estimator__selection=random, final_estimator__tol=0.0001;, score=-2.188 total time=  24.5s\n"
     ]
    },
    {
     "name": "stderr",
     "output_type": "stream",
     "text": [
      "c:\\Users\\User\\.conda\\envs\\energy\\Lib\\site-packages\\sklearn\\linear_model\\_coordinate_descent.py:697: ConvergenceWarning: Objective did not converge. You might want to increase the number of iterations, check the scale of the features or consider increasing regularisation. Duality gap: 2.638e+04, tolerance: 1.598e+02\n",
      "  model = cd_fast.enet_coordinate_descent(\n"
     ]
    },
    {
     "name": "stdout",
     "output_type": "stream",
     "text": [
      "[CV 2/5] END final_estimator__alpha=0.001, final_estimator__fit_intercept=False, final_estimator__l1_ratio=0.3, final_estimator__max_iter=2000, final_estimator__random_state=42, final_estimator__selection=random, final_estimator__tol=0.0001;, score=-2.320 total time=  20.9s\n"
     ]
    },
    {
     "name": "stderr",
     "output_type": "stream",
     "text": [
      "c:\\Users\\User\\.conda\\envs\\energy\\Lib\\site-packages\\sklearn\\linear_model\\_coordinate_descent.py:697: ConvergenceWarning: Objective did not converge. You might want to increase the number of iterations, check the scale of the features or consider increasing regularisation. Duality gap: 2.622e+04, tolerance: 1.608e+02\n",
      "  model = cd_fast.enet_coordinate_descent(\n"
     ]
    },
    {
     "name": "stdout",
     "output_type": "stream",
     "text": [
      "[CV 3/5] END final_estimator__alpha=0.001, final_estimator__fit_intercept=False, final_estimator__l1_ratio=0.3, final_estimator__max_iter=2000, final_estimator__random_state=42, final_estimator__selection=random, final_estimator__tol=0.0001;, score=-2.190 total time=  20.0s\n"
     ]
    },
    {
     "name": "stderr",
     "output_type": "stream",
     "text": [
      "c:\\Users\\User\\.conda\\envs\\energy\\Lib\\site-packages\\sklearn\\linear_model\\_coordinate_descent.py:697: ConvergenceWarning: Objective did not converge. You might want to increase the number of iterations, check the scale of the features or consider increasing regularisation. Duality gap: 2.680e+04, tolerance: 1.614e+02\n",
      "  model = cd_fast.enet_coordinate_descent(\n"
     ]
    },
    {
     "name": "stdout",
     "output_type": "stream",
     "text": [
      "[CV 4/5] END final_estimator__alpha=0.001, final_estimator__fit_intercept=False, final_estimator__l1_ratio=0.3, final_estimator__max_iter=2000, final_estimator__random_state=42, final_estimator__selection=random, final_estimator__tol=0.0001;, score=-2.165 total time=  22.3s\n"
     ]
    },
    {
     "name": "stderr",
     "output_type": "stream",
     "text": [
      "c:\\Users\\User\\.conda\\envs\\energy\\Lib\\site-packages\\sklearn\\linear_model\\_coordinate_descent.py:697: ConvergenceWarning: Objective did not converge. You might want to increase the number of iterations, check the scale of the features or consider increasing regularisation. Duality gap: 2.604e+04, tolerance: 1.609e+02\n",
      "  model = cd_fast.enet_coordinate_descent(\n"
     ]
    },
    {
     "name": "stdout",
     "output_type": "stream",
     "text": [
      "[CV 5/5] END final_estimator__alpha=0.001, final_estimator__fit_intercept=False, final_estimator__l1_ratio=0.3, final_estimator__max_iter=2000, final_estimator__random_state=42, final_estimator__selection=random, final_estimator__tol=0.0001;, score=-2.283 total time=  20.4s\n"
     ]
    },
    {
     "name": "stderr",
     "output_type": "stream",
     "text": [
      "c:\\Users\\User\\.conda\\envs\\energy\\Lib\\site-packages\\sklearn\\linear_model\\_coordinate_descent.py:697: ConvergenceWarning: Objective did not converge. You might want to increase the number of iterations, check the scale of the features or consider increasing regularisation. Duality gap: 2.750e+04, tolerance: 1.615e+03\n",
      "  model = cd_fast.enet_coordinate_descent(\n"
     ]
    },
    {
     "name": "stdout",
     "output_type": "stream",
     "text": [
      "[CV 1/5] END final_estimator__alpha=0.001, final_estimator__fit_intercept=False, final_estimator__l1_ratio=0.3, final_estimator__max_iter=2000, final_estimator__random_state=42, final_estimator__selection=random, final_estimator__tol=0.001;, score=-2.208 total time=  18.5s\n"
     ]
    },
    {
     "name": "stderr",
     "output_type": "stream",
     "text": [
      "c:\\Users\\User\\.conda\\envs\\energy\\Lib\\site-packages\\sklearn\\linear_model\\_coordinate_descent.py:697: ConvergenceWarning: Objective did not converge. You might want to increase the number of iterations, check the scale of the features or consider increasing regularisation. Duality gap: 2.630e+04, tolerance: 1.598e+03\n",
      "  model = cd_fast.enet_coordinate_descent(\n"
     ]
    },
    {
     "name": "stdout",
     "output_type": "stream",
     "text": [
      "[CV 2/5] END final_estimator__alpha=0.001, final_estimator__fit_intercept=False, final_estimator__l1_ratio=0.3, final_estimator__max_iter=2000, final_estimator__random_state=42, final_estimator__selection=random, final_estimator__tol=0.001;, score=-2.321 total time=  21.4s\n"
     ]
    },
    {
     "name": "stderr",
     "output_type": "stream",
     "text": [
      "c:\\Users\\User\\.conda\\envs\\energy\\Lib\\site-packages\\sklearn\\linear_model\\_coordinate_descent.py:697: ConvergenceWarning: Objective did not converge. You might want to increase the number of iterations, check the scale of the features or consider increasing regularisation. Duality gap: 2.624e+04, tolerance: 1.608e+03\n",
      "  model = cd_fast.enet_coordinate_descent(\n"
     ]
    },
    {
     "name": "stdout",
     "output_type": "stream",
     "text": [
      "[CV 3/5] END final_estimator__alpha=0.001, final_estimator__fit_intercept=False, final_estimator__l1_ratio=0.3, final_estimator__max_iter=2000, final_estimator__random_state=42, final_estimator__selection=random, final_estimator__tol=0.001;, score=-2.214 total time=  21.9s\n"
     ]
    },
    {
     "name": "stderr",
     "output_type": "stream",
     "text": [
      "c:\\Users\\User\\.conda\\envs\\energy\\Lib\\site-packages\\sklearn\\linear_model\\_coordinate_descent.py:697: ConvergenceWarning: Objective did not converge. You might want to increase the number of iterations, check the scale of the features or consider increasing regularisation. Duality gap: 2.701e+04, tolerance: 1.614e+03\n",
      "  model = cd_fast.enet_coordinate_descent(\n"
     ]
    },
    {
     "name": "stdout",
     "output_type": "stream",
     "text": [
      "[CV 4/5] END final_estimator__alpha=0.001, final_estimator__fit_intercept=False, final_estimator__l1_ratio=0.3, final_estimator__max_iter=2000, final_estimator__random_state=42, final_estimator__selection=random, final_estimator__tol=0.001;, score=-2.171 total time=  21.1s\n"
     ]
    },
    {
     "name": "stderr",
     "output_type": "stream",
     "text": [
      "c:\\Users\\User\\.conda\\envs\\energy\\Lib\\site-packages\\sklearn\\linear_model\\_coordinate_descent.py:697: ConvergenceWarning: Objective did not converge. You might want to increase the number of iterations, check the scale of the features or consider increasing regularisation. Duality gap: 2.609e+04, tolerance: 1.609e+03\n",
      "  model = cd_fast.enet_coordinate_descent(\n"
     ]
    },
    {
     "name": "stdout",
     "output_type": "stream",
     "text": [
      "[CV 5/5] END final_estimator__alpha=0.001, final_estimator__fit_intercept=False, final_estimator__l1_ratio=0.3, final_estimator__max_iter=2000, final_estimator__random_state=42, final_estimator__selection=random, final_estimator__tol=0.001;, score=-2.283 total time=  19.3s\n"
     ]
    },
    {
     "name": "stderr",
     "output_type": "stream",
     "text": [
      "c:\\Users\\User\\.conda\\envs\\energy\\Lib\\site-packages\\sklearn\\linear_model\\_coordinate_descent.py:697: ConvergenceWarning: Objective did not converge. You might want to increase the number of iterations, check the scale of the features or consider increasing regularisation. Duality gap: 2.778e+04, tolerance: 1.615e+04\n",
      "  model = cd_fast.enet_coordinate_descent(\n"
     ]
    },
    {
     "name": "stdout",
     "output_type": "stream",
     "text": [
      "[CV 1/5] END final_estimator__alpha=0.001, final_estimator__fit_intercept=False, final_estimator__l1_ratio=0.3, final_estimator__max_iter=2000, final_estimator__random_state=42, final_estimator__selection=random, final_estimator__tol=0.01;, score=-2.198 total time=  24.5s\n"
     ]
    },
    {
     "name": "stderr",
     "output_type": "stream",
     "text": [
      "c:\\Users\\User\\.conda\\envs\\energy\\Lib\\site-packages\\sklearn\\linear_model\\_coordinate_descent.py:697: ConvergenceWarning: Objective did not converge. You might want to increase the number of iterations, check the scale of the features or consider increasing regularisation. Duality gap: 2.660e+04, tolerance: 1.598e+04\n",
      "  model = cd_fast.enet_coordinate_descent(\n"
     ]
    },
    {
     "name": "stdout",
     "output_type": "stream",
     "text": [
      "[CV 2/5] END final_estimator__alpha=0.001, final_estimator__fit_intercept=False, final_estimator__l1_ratio=0.3, final_estimator__max_iter=2000, final_estimator__random_state=42, final_estimator__selection=random, final_estimator__tol=0.01;, score=-2.338 total time=  22.6s\n"
     ]
    },
    {
     "name": "stderr",
     "output_type": "stream",
     "text": [
      "c:\\Users\\User\\.conda\\envs\\energy\\Lib\\site-packages\\sklearn\\linear_model\\_coordinate_descent.py:697: ConvergenceWarning: Objective did not converge. You might want to increase the number of iterations, check the scale of the features or consider increasing regularisation. Duality gap: 2.630e+04, tolerance: 1.608e+04\n",
      "  model = cd_fast.enet_coordinate_descent(\n"
     ]
    },
    {
     "name": "stdout",
     "output_type": "stream",
     "text": [
      "[CV 3/5] END final_estimator__alpha=0.001, final_estimator__fit_intercept=False, final_estimator__l1_ratio=0.3, final_estimator__max_iter=2000, final_estimator__random_state=42, final_estimator__selection=random, final_estimator__tol=0.01;, score=-2.202 total time=  24.0s\n"
     ]
    },
    {
     "name": "stderr",
     "output_type": "stream",
     "text": [
      "c:\\Users\\User\\.conda\\envs\\energy\\Lib\\site-packages\\sklearn\\linear_model\\_coordinate_descent.py:697: ConvergenceWarning: Objective did not converge. You might want to increase the number of iterations, check the scale of the features or consider increasing regularisation. Duality gap: 2.681e+04, tolerance: 1.614e+04\n",
      "  model = cd_fast.enet_coordinate_descent(\n"
     ]
    },
    {
     "name": "stdout",
     "output_type": "stream",
     "text": [
      "[CV 4/5] END final_estimator__alpha=0.001, final_estimator__fit_intercept=False, final_estimator__l1_ratio=0.3, final_estimator__max_iter=2000, final_estimator__random_state=42, final_estimator__selection=random, final_estimator__tol=0.01;, score=-2.148 total time=  22.6s\n"
     ]
    },
    {
     "name": "stderr",
     "output_type": "stream",
     "text": [
      "c:\\Users\\User\\.conda\\envs\\energy\\Lib\\site-packages\\sklearn\\linear_model\\_coordinate_descent.py:697: ConvergenceWarning: Objective did not converge. You might want to increase the number of iterations, check the scale of the features or consider increasing regularisation. Duality gap: 2.586e+04, tolerance: 1.609e+04\n",
      "  model = cd_fast.enet_coordinate_descent(\n"
     ]
    },
    {
     "name": "stdout",
     "output_type": "stream",
     "text": [
      "[CV 5/5] END final_estimator__alpha=0.001, final_estimator__fit_intercept=False, final_estimator__l1_ratio=0.3, final_estimator__max_iter=2000, final_estimator__random_state=42, final_estimator__selection=random, final_estimator__tol=0.01;, score=-2.276 total time=  21.2s\n"
     ]
    },
    {
     "name": "stderr",
     "output_type": "stream",
     "text": [
      "c:\\Users\\User\\.conda\\envs\\energy\\Lib\\site-packages\\sklearn\\linear_model\\_coordinate_descent.py:697: ConvergenceWarning: Objective did not converge. You might want to increase the number of iterations, check the scale of the features or consider increasing regularisation. Duality gap: 2.607e+04, tolerance: 1.615e+02\n",
      "  model = cd_fast.enet_coordinate_descent(\n"
     ]
    },
    {
     "name": "stdout",
     "output_type": "stream",
     "text": [
      "[CV 1/5] END final_estimator__alpha=0.001, final_estimator__fit_intercept=False, final_estimator__l1_ratio=0.5, final_estimator__max_iter=1000, final_estimator__random_state=42, final_estimator__selection=cyclic, final_estimator__tol=0.0001;, score=-2.200 total time=  20.6s\n"
     ]
    },
    {
     "name": "stderr",
     "output_type": "stream",
     "text": [
      "c:\\Users\\User\\.conda\\envs\\energy\\Lib\\site-packages\\sklearn\\linear_model\\_coordinate_descent.py:697: ConvergenceWarning: Objective did not converge. You might want to increase the number of iterations, check the scale of the features or consider increasing regularisation. Duality gap: 2.462e+04, tolerance: 1.598e+02\n",
      "  model = cd_fast.enet_coordinate_descent(\n"
     ]
    },
    {
     "name": "stdout",
     "output_type": "stream",
     "text": [
      "[CV 2/5] END final_estimator__alpha=0.001, final_estimator__fit_intercept=False, final_estimator__l1_ratio=0.5, final_estimator__max_iter=1000, final_estimator__random_state=42, final_estimator__selection=cyclic, final_estimator__tol=0.0001;, score=-2.324 total time=  19.9s\n"
     ]
    },
    {
     "name": "stderr",
     "output_type": "stream",
     "text": [
      "c:\\Users\\User\\.conda\\envs\\energy\\Lib\\site-packages\\sklearn\\linear_model\\_coordinate_descent.py:697: ConvergenceWarning: Objective did not converge. You might want to increase the number of iterations, check the scale of the features or consider increasing regularisation. Duality gap: 2.531e+04, tolerance: 1.608e+02\n",
      "  model = cd_fast.enet_coordinate_descent(\n"
     ]
    },
    {
     "name": "stdout",
     "output_type": "stream",
     "text": [
      "[CV 3/5] END final_estimator__alpha=0.001, final_estimator__fit_intercept=False, final_estimator__l1_ratio=0.5, final_estimator__max_iter=1000, final_estimator__random_state=42, final_estimator__selection=cyclic, final_estimator__tol=0.0001;, score=-2.190 total time=  16.3s\n"
     ]
    },
    {
     "name": "stderr",
     "output_type": "stream",
     "text": [
      "c:\\Users\\User\\.conda\\envs\\energy\\Lib\\site-packages\\sklearn\\linear_model\\_coordinate_descent.py:697: ConvergenceWarning: Objective did not converge. You might want to increase the number of iterations, check the scale of the features or consider increasing regularisation. Duality gap: 2.581e+04, tolerance: 1.614e+02\n",
      "  model = cd_fast.enet_coordinate_descent(\n"
     ]
    },
    {
     "name": "stdout",
     "output_type": "stream",
     "text": [
      "[CV 4/5] END final_estimator__alpha=0.001, final_estimator__fit_intercept=False, final_estimator__l1_ratio=0.5, final_estimator__max_iter=1000, final_estimator__random_state=42, final_estimator__selection=cyclic, final_estimator__tol=0.0001;, score=-2.157 total time=  22.9s\n"
     ]
    },
    {
     "name": "stderr",
     "output_type": "stream",
     "text": [
      "c:\\Users\\User\\.conda\\envs\\energy\\Lib\\site-packages\\sklearn\\linear_model\\_coordinate_descent.py:697: ConvergenceWarning: Objective did not converge. You might want to increase the number of iterations, check the scale of the features or consider increasing regularisation. Duality gap: 2.378e+04, tolerance: 1.609e+02\n",
      "  model = cd_fast.enet_coordinate_descent(\n"
     ]
    },
    {
     "name": "stdout",
     "output_type": "stream",
     "text": [
      "[CV 5/5] END final_estimator__alpha=0.001, final_estimator__fit_intercept=False, final_estimator__l1_ratio=0.5, final_estimator__max_iter=1000, final_estimator__random_state=42, final_estimator__selection=cyclic, final_estimator__tol=0.0001;, score=-2.279 total time=  22.8s\n"
     ]
    },
    {
     "name": "stderr",
     "output_type": "stream",
     "text": [
      "c:\\Users\\User\\.conda\\envs\\energy\\Lib\\site-packages\\sklearn\\linear_model\\_coordinate_descent.py:697: ConvergenceWarning: Objective did not converge. You might want to increase the number of iterations, check the scale of the features or consider increasing regularisation. Duality gap: 2.594e+04, tolerance: 1.615e+03\n",
      "  model = cd_fast.enet_coordinate_descent(\n"
     ]
    },
    {
     "name": "stdout",
     "output_type": "stream",
     "text": [
      "[CV 1/5] END final_estimator__alpha=0.001, final_estimator__fit_intercept=False, final_estimator__l1_ratio=0.5, final_estimator__max_iter=1000, final_estimator__random_state=42, final_estimator__selection=cyclic, final_estimator__tol=0.001;, score=-2.175 total time=  24.9s\n"
     ]
    },
    {
     "name": "stderr",
     "output_type": "stream",
     "text": [
      "c:\\Users\\User\\.conda\\envs\\energy\\Lib\\site-packages\\sklearn\\linear_model\\_coordinate_descent.py:697: ConvergenceWarning: Objective did not converge. You might want to increase the number of iterations, check the scale of the features or consider increasing regularisation. Duality gap: 2.493e+04, tolerance: 1.598e+03\n",
      "  model = cd_fast.enet_coordinate_descent(\n"
     ]
    },
    {
     "name": "stdout",
     "output_type": "stream",
     "text": [
      "[CV 2/5] END final_estimator__alpha=0.001, final_estimator__fit_intercept=False, final_estimator__l1_ratio=0.5, final_estimator__max_iter=1000, final_estimator__random_state=42, final_estimator__selection=cyclic, final_estimator__tol=0.001;, score=-2.320 total time=  18.7s\n"
     ]
    },
    {
     "name": "stderr",
     "output_type": "stream",
     "text": [
      "c:\\Users\\User\\.conda\\envs\\energy\\Lib\\site-packages\\sklearn\\linear_model\\_coordinate_descent.py:697: ConvergenceWarning: Objective did not converge. You might want to increase the number of iterations, check the scale of the features or consider increasing regularisation. Duality gap: 2.444e+04, tolerance: 1.608e+03\n",
      "  model = cd_fast.enet_coordinate_descent(\n"
     ]
    },
    {
     "name": "stdout",
     "output_type": "stream",
     "text": [
      "[CV 3/5] END final_estimator__alpha=0.001, final_estimator__fit_intercept=False, final_estimator__l1_ratio=0.5, final_estimator__max_iter=1000, final_estimator__random_state=42, final_estimator__selection=cyclic, final_estimator__tol=0.001;, score=-2.195 total time=  22.8s\n"
     ]
    },
    {
     "name": "stderr",
     "output_type": "stream",
     "text": [
      "c:\\Users\\User\\.conda\\envs\\energy\\Lib\\site-packages\\sklearn\\linear_model\\_coordinate_descent.py:697: ConvergenceWarning: Objective did not converge. You might want to increase the number of iterations, check the scale of the features or consider increasing regularisation. Duality gap: 2.514e+04, tolerance: 1.614e+03\n",
      "  model = cd_fast.enet_coordinate_descent(\n"
     ]
    },
    {
     "name": "stdout",
     "output_type": "stream",
     "text": [
      "[CV 4/5] END final_estimator__alpha=0.001, final_estimator__fit_intercept=False, final_estimator__l1_ratio=0.5, final_estimator__max_iter=1000, final_estimator__random_state=42, final_estimator__selection=cyclic, final_estimator__tol=0.001;, score=-2.165 total time=  21.2s\n"
     ]
    },
    {
     "name": "stderr",
     "output_type": "stream",
     "text": [
      "c:\\Users\\User\\.conda\\envs\\energy\\Lib\\site-packages\\sklearn\\linear_model\\_coordinate_descent.py:697: ConvergenceWarning: Objective did not converge. You might want to increase the number of iterations, check the scale of the features or consider increasing regularisation. Duality gap: 2.449e+04, tolerance: 1.609e+03\n",
      "  model = cd_fast.enet_coordinate_descent(\n"
     ]
    },
    {
     "name": "stdout",
     "output_type": "stream",
     "text": [
      "[CV 5/5] END final_estimator__alpha=0.001, final_estimator__fit_intercept=False, final_estimator__l1_ratio=0.5, final_estimator__max_iter=1000, final_estimator__random_state=42, final_estimator__selection=cyclic, final_estimator__tol=0.001;, score=-2.283 total time=  19.9s\n"
     ]
    },
    {
     "name": "stderr",
     "output_type": "stream",
     "text": [
      "c:\\Users\\User\\.conda\\envs\\energy\\Lib\\site-packages\\sklearn\\linear_model\\_coordinate_descent.py:697: ConvergenceWarning: Objective did not converge. You might want to increase the number of iterations, check the scale of the features or consider increasing regularisation. Duality gap: 2.604e+04, tolerance: 1.615e+04\n",
      "  model = cd_fast.enet_coordinate_descent(\n"
     ]
    },
    {
     "name": "stdout",
     "output_type": "stream",
     "text": [
      "[CV 1/5] END final_estimator__alpha=0.001, final_estimator__fit_intercept=False, final_estimator__l1_ratio=0.5, final_estimator__max_iter=1000, final_estimator__random_state=42, final_estimator__selection=cyclic, final_estimator__tol=0.01;, score=-2.175 total time=  18.5s\n"
     ]
    },
    {
     "name": "stderr",
     "output_type": "stream",
     "text": [
      "c:\\Users\\User\\.conda\\envs\\energy\\Lib\\site-packages\\sklearn\\linear_model\\_coordinate_descent.py:697: ConvergenceWarning: Objective did not converge. You might want to increase the number of iterations, check the scale of the features or consider increasing regularisation. Duality gap: 2.490e+04, tolerance: 1.598e+04\n",
      "  model = cd_fast.enet_coordinate_descent(\n"
     ]
    },
    {
     "name": "stdout",
     "output_type": "stream",
     "text": [
      "[CV 2/5] END final_estimator__alpha=0.001, final_estimator__fit_intercept=False, final_estimator__l1_ratio=0.5, final_estimator__max_iter=1000, final_estimator__random_state=42, final_estimator__selection=cyclic, final_estimator__tol=0.01;, score=-2.334 total time=  24.7s\n"
     ]
    },
    {
     "name": "stderr",
     "output_type": "stream",
     "text": [
      "c:\\Users\\User\\.conda\\envs\\energy\\Lib\\site-packages\\sklearn\\linear_model\\_coordinate_descent.py:697: ConvergenceWarning: Objective did not converge. You might want to increase the number of iterations, check the scale of the features or consider increasing regularisation. Duality gap: 2.531e+04, tolerance: 1.608e+04\n",
      "  model = cd_fast.enet_coordinate_descent(\n"
     ]
    },
    {
     "name": "stdout",
     "output_type": "stream",
     "text": [
      "[CV 3/5] END final_estimator__alpha=0.001, final_estimator__fit_intercept=False, final_estimator__l1_ratio=0.5, final_estimator__max_iter=1000, final_estimator__random_state=42, final_estimator__selection=cyclic, final_estimator__tol=0.01;, score=-2.202 total time=  20.8s\n"
     ]
    },
    {
     "name": "stderr",
     "output_type": "stream",
     "text": [
      "c:\\Users\\User\\.conda\\envs\\energy\\Lib\\site-packages\\sklearn\\linear_model\\_coordinate_descent.py:697: ConvergenceWarning: Objective did not converge. You might want to increase the number of iterations, check the scale of the features or consider increasing regularisation. Duality gap: 2.544e+04, tolerance: 1.614e+04\n",
      "  model = cd_fast.enet_coordinate_descent(\n"
     ]
    },
    {
     "name": "stdout",
     "output_type": "stream",
     "text": [
      "[CV 4/5] END final_estimator__alpha=0.001, final_estimator__fit_intercept=False, final_estimator__l1_ratio=0.5, final_estimator__max_iter=1000, final_estimator__random_state=42, final_estimator__selection=cyclic, final_estimator__tol=0.01;, score=-2.168 total time=  21.5s\n"
     ]
    },
    {
     "name": "stderr",
     "output_type": "stream",
     "text": [
      "c:\\Users\\User\\.conda\\envs\\energy\\Lib\\site-packages\\sklearn\\linear_model\\_coordinate_descent.py:697: ConvergenceWarning: Objective did not converge. You might want to increase the number of iterations, check the scale of the features or consider increasing regularisation. Duality gap: 2.451e+04, tolerance: 1.609e+04\n",
      "  model = cd_fast.enet_coordinate_descent(\n"
     ]
    },
    {
     "name": "stdout",
     "output_type": "stream",
     "text": [
      "[CV 5/5] END final_estimator__alpha=0.001, final_estimator__fit_intercept=False, final_estimator__l1_ratio=0.5, final_estimator__max_iter=1000, final_estimator__random_state=42, final_estimator__selection=cyclic, final_estimator__tol=0.01;, score=-2.300 total time=  17.6s\n"
     ]
    },
    {
     "name": "stderr",
     "output_type": "stream",
     "text": [
      "c:\\Users\\User\\.conda\\envs\\energy\\Lib\\site-packages\\sklearn\\linear_model\\_coordinate_descent.py:697: ConvergenceWarning: Objective did not converge. You might want to increase the number of iterations, check the scale of the features or consider increasing regularisation. Duality gap: 2.880e+04, tolerance: 1.615e+02\n",
      "  model = cd_fast.enet_coordinate_descent(\n"
     ]
    },
    {
     "name": "stdout",
     "output_type": "stream",
     "text": [
      "[CV 1/5] END final_estimator__alpha=0.001, final_estimator__fit_intercept=False, final_estimator__l1_ratio=0.5, final_estimator__max_iter=1000, final_estimator__random_state=42, final_estimator__selection=random, final_estimator__tol=0.0001;, score=-2.203 total time=  19.8s\n"
     ]
    },
    {
     "name": "stderr",
     "output_type": "stream",
     "text": [
      "c:\\Users\\User\\.conda\\envs\\energy\\Lib\\site-packages\\sklearn\\linear_model\\_coordinate_descent.py:697: ConvergenceWarning: Objective did not converge. You might want to increase the number of iterations, check the scale of the features or consider increasing regularisation. Duality gap: 2.747e+04, tolerance: 1.598e+02\n",
      "  model = cd_fast.enet_coordinate_descent(\n"
     ]
    },
    {
     "name": "stdout",
     "output_type": "stream",
     "text": [
      "[CV 2/5] END final_estimator__alpha=0.001, final_estimator__fit_intercept=False, final_estimator__l1_ratio=0.5, final_estimator__max_iter=1000, final_estimator__random_state=42, final_estimator__selection=random, final_estimator__tol=0.0001;, score=-2.348 total time=  19.8s\n"
     ]
    },
    {
     "name": "stderr",
     "output_type": "stream",
     "text": [
      "c:\\Users\\User\\.conda\\envs\\energy\\Lib\\site-packages\\sklearn\\linear_model\\_coordinate_descent.py:697: ConvergenceWarning: Objective did not converge. You might want to increase the number of iterations, check the scale of the features or consider increasing regularisation. Duality gap: 2.749e+04, tolerance: 1.608e+02\n",
      "  model = cd_fast.enet_coordinate_descent(\n"
     ]
    },
    {
     "name": "stdout",
     "output_type": "stream",
     "text": [
      "[CV 3/5] END final_estimator__alpha=0.001, final_estimator__fit_intercept=False, final_estimator__l1_ratio=0.5, final_estimator__max_iter=1000, final_estimator__random_state=42, final_estimator__selection=random, final_estimator__tol=0.0001;, score=-2.211 total time=  21.3s\n"
     ]
    },
    {
     "name": "stderr",
     "output_type": "stream",
     "text": [
      "c:\\Users\\User\\.conda\\envs\\energy\\Lib\\site-packages\\sklearn\\linear_model\\_coordinate_descent.py:697: ConvergenceWarning: Objective did not converge. You might want to increase the number of iterations, check the scale of the features or consider increasing regularisation. Duality gap: 2.798e+04, tolerance: 1.614e+02\n",
      "  model = cd_fast.enet_coordinate_descent(\n"
     ]
    },
    {
     "name": "stdout",
     "output_type": "stream",
     "text": [
      "[CV 4/5] END final_estimator__alpha=0.001, final_estimator__fit_intercept=False, final_estimator__l1_ratio=0.5, final_estimator__max_iter=1000, final_estimator__random_state=42, final_estimator__selection=random, final_estimator__tol=0.0001;, score=-2.154 total time=  18.7s\n"
     ]
    },
    {
     "name": "stderr",
     "output_type": "stream",
     "text": [
      "c:\\Users\\User\\.conda\\envs\\energy\\Lib\\site-packages\\sklearn\\linear_model\\_coordinate_descent.py:697: ConvergenceWarning: Objective did not converge. You might want to increase the number of iterations, check the scale of the features or consider increasing regularisation. Duality gap: 2.689e+04, tolerance: 1.609e+02\n",
      "  model = cd_fast.enet_coordinate_descent(\n"
     ]
    },
    {
     "name": "stdout",
     "output_type": "stream",
     "text": [
      "[CV 5/5] END final_estimator__alpha=0.001, final_estimator__fit_intercept=False, final_estimator__l1_ratio=0.5, final_estimator__max_iter=1000, final_estimator__random_state=42, final_estimator__selection=random, final_estimator__tol=0.0001;, score=-2.297 total time=  22.3s\n"
     ]
    },
    {
     "name": "stderr",
     "output_type": "stream",
     "text": [
      "c:\\Users\\User\\.conda\\envs\\energy\\Lib\\site-packages\\sklearn\\linear_model\\_coordinate_descent.py:697: ConvergenceWarning: Objective did not converge. You might want to increase the number of iterations, check the scale of the features or consider increasing regularisation. Duality gap: 2.878e+04, tolerance: 1.615e+03\n",
      "  model = cd_fast.enet_coordinate_descent(\n"
     ]
    },
    {
     "name": "stdout",
     "output_type": "stream",
     "text": [
      "[CV 1/5] END final_estimator__alpha=0.001, final_estimator__fit_intercept=False, final_estimator__l1_ratio=0.5, final_estimator__max_iter=1000, final_estimator__random_state=42, final_estimator__selection=random, final_estimator__tol=0.001;, score=-2.203 total time=  23.4s\n"
     ]
    },
    {
     "name": "stderr",
     "output_type": "stream",
     "text": [
      "c:\\Users\\User\\.conda\\envs\\energy\\Lib\\site-packages\\sklearn\\linear_model\\_coordinate_descent.py:697: ConvergenceWarning: Objective did not converge. You might want to increase the number of iterations, check the scale of the features or consider increasing regularisation. Duality gap: 2.757e+04, tolerance: 1.598e+03\n",
      "  model = cd_fast.enet_coordinate_descent(\n"
     ]
    },
    {
     "name": "stdout",
     "output_type": "stream",
     "text": [
      "[CV 2/5] END final_estimator__alpha=0.001, final_estimator__fit_intercept=False, final_estimator__l1_ratio=0.5, final_estimator__max_iter=1000, final_estimator__random_state=42, final_estimator__selection=random, final_estimator__tol=0.001;, score=-2.325 total time=  25.0s\n"
     ]
    },
    {
     "name": "stderr",
     "output_type": "stream",
     "text": [
      "c:\\Users\\User\\.conda\\envs\\energy\\Lib\\site-packages\\sklearn\\linear_model\\_coordinate_descent.py:697: ConvergenceWarning: Objective did not converge. You might want to increase the number of iterations, check the scale of the features or consider increasing regularisation. Duality gap: 2.738e+04, tolerance: 1.608e+03\n",
      "  model = cd_fast.enet_coordinate_descent(\n"
     ]
    },
    {
     "name": "stdout",
     "output_type": "stream",
     "text": [
      "[CV 3/5] END final_estimator__alpha=0.001, final_estimator__fit_intercept=False, final_estimator__l1_ratio=0.5, final_estimator__max_iter=1000, final_estimator__random_state=42, final_estimator__selection=random, final_estimator__tol=0.001;, score=-2.203 total time=  16.7s\n"
     ]
    },
    {
     "name": "stderr",
     "output_type": "stream",
     "text": [
      "c:\\Users\\User\\.conda\\envs\\energy\\Lib\\site-packages\\sklearn\\linear_model\\_coordinate_descent.py:697: ConvergenceWarning: Objective did not converge. You might want to increase the number of iterations, check the scale of the features or consider increasing regularisation. Duality gap: 2.809e+04, tolerance: 1.614e+03\n",
      "  model = cd_fast.enet_coordinate_descent(\n"
     ]
    },
    {
     "name": "stdout",
     "output_type": "stream",
     "text": [
      "[CV 4/5] END final_estimator__alpha=0.001, final_estimator__fit_intercept=False, final_estimator__l1_ratio=0.5, final_estimator__max_iter=1000, final_estimator__random_state=42, final_estimator__selection=random, final_estimator__tol=0.001;, score=-2.178 total time=  23.5s\n"
     ]
    },
    {
     "name": "stderr",
     "output_type": "stream",
     "text": [
      "c:\\Users\\User\\.conda\\envs\\energy\\Lib\\site-packages\\sklearn\\linear_model\\_coordinate_descent.py:697: ConvergenceWarning: Objective did not converge. You might want to increase the number of iterations, check the scale of the features or consider increasing regularisation. Duality gap: 2.679e+04, tolerance: 1.609e+03\n",
      "  model = cd_fast.enet_coordinate_descent(\n"
     ]
    },
    {
     "name": "stdout",
     "output_type": "stream",
     "text": [
      "[CV 5/5] END final_estimator__alpha=0.001, final_estimator__fit_intercept=False, final_estimator__l1_ratio=0.5, final_estimator__max_iter=1000, final_estimator__random_state=42, final_estimator__selection=random, final_estimator__tol=0.001;, score=-2.286 total time=  21.0s\n"
     ]
    },
    {
     "name": "stderr",
     "output_type": "stream",
     "text": [
      "c:\\Users\\User\\.conda\\envs\\energy\\Lib\\site-packages\\sklearn\\linear_model\\_coordinate_descent.py:697: ConvergenceWarning: Objective did not converge. You might want to increase the number of iterations, check the scale of the features or consider increasing regularisation. Duality gap: 2.893e+04, tolerance: 1.615e+04\n",
      "  model = cd_fast.enet_coordinate_descent(\n"
     ]
    },
    {
     "name": "stdout",
     "output_type": "stream",
     "text": [
      "[CV 1/5] END final_estimator__alpha=0.001, final_estimator__fit_intercept=False, final_estimator__l1_ratio=0.5, final_estimator__max_iter=1000, final_estimator__random_state=42, final_estimator__selection=random, final_estimator__tol=0.01;, score=-2.182 total time=  18.5s\n"
     ]
    },
    {
     "name": "stderr",
     "output_type": "stream",
     "text": [
      "c:\\Users\\User\\.conda\\envs\\energy\\Lib\\site-packages\\sklearn\\linear_model\\_coordinate_descent.py:697: ConvergenceWarning: Objective did not converge. You might want to increase the number of iterations, check the scale of the features or consider increasing regularisation. Duality gap: 2.747e+04, tolerance: 1.598e+04\n",
      "  model = cd_fast.enet_coordinate_descent(\n"
     ]
    },
    {
     "name": "stdout",
     "output_type": "stream",
     "text": [
      "[CV 2/5] END final_estimator__alpha=0.001, final_estimator__fit_intercept=False, final_estimator__l1_ratio=0.5, final_estimator__max_iter=1000, final_estimator__random_state=42, final_estimator__selection=random, final_estimator__tol=0.01;, score=-2.332 total time=  23.6s\n"
     ]
    },
    {
     "name": "stderr",
     "output_type": "stream",
     "text": [
      "c:\\Users\\User\\.conda\\envs\\energy\\Lib\\site-packages\\sklearn\\linear_model\\_coordinate_descent.py:697: ConvergenceWarning: Objective did not converge. You might want to increase the number of iterations, check the scale of the features or consider increasing regularisation. Duality gap: 2.734e+04, tolerance: 1.608e+04\n",
      "  model = cd_fast.enet_coordinate_descent(\n"
     ]
    },
    {
     "name": "stdout",
     "output_type": "stream",
     "text": [
      "[CV 3/5] END final_estimator__alpha=0.001, final_estimator__fit_intercept=False, final_estimator__l1_ratio=0.5, final_estimator__max_iter=1000, final_estimator__random_state=42, final_estimator__selection=random, final_estimator__tol=0.01;, score=-2.203 total time=  18.6s\n"
     ]
    },
    {
     "name": "stderr",
     "output_type": "stream",
     "text": [
      "c:\\Users\\User\\.conda\\envs\\energy\\Lib\\site-packages\\sklearn\\linear_model\\_coordinate_descent.py:697: ConvergenceWarning: Objective did not converge. You might want to increase the number of iterations, check the scale of the features or consider increasing regularisation. Duality gap: 2.797e+04, tolerance: 1.614e+04\n",
      "  model = cd_fast.enet_coordinate_descent(\n"
     ]
    },
    {
     "name": "stdout",
     "output_type": "stream",
     "text": [
      "[CV 4/5] END final_estimator__alpha=0.001, final_estimator__fit_intercept=False, final_estimator__l1_ratio=0.5, final_estimator__max_iter=1000, final_estimator__random_state=42, final_estimator__selection=random, final_estimator__tol=0.01;, score=-2.154 total time=  20.8s\n"
     ]
    },
    {
     "name": "stderr",
     "output_type": "stream",
     "text": [
      "c:\\Users\\User\\.conda\\envs\\energy\\Lib\\site-packages\\sklearn\\linear_model\\_coordinate_descent.py:697: ConvergenceWarning: Objective did not converge. You might want to increase the number of iterations, check the scale of the features or consider increasing regularisation. Duality gap: 2.697e+04, tolerance: 1.609e+04\n",
      "  model = cd_fast.enet_coordinate_descent(\n"
     ]
    },
    {
     "name": "stdout",
     "output_type": "stream",
     "text": [
      "[CV 5/5] END final_estimator__alpha=0.001, final_estimator__fit_intercept=False, final_estimator__l1_ratio=0.5, final_estimator__max_iter=1000, final_estimator__random_state=42, final_estimator__selection=random, final_estimator__tol=0.01;, score=-2.289 total time=  17.7s\n"
     ]
    },
    {
     "name": "stderr",
     "output_type": "stream",
     "text": [
      "c:\\Users\\User\\.conda\\envs\\energy\\Lib\\site-packages\\sklearn\\linear_model\\_coordinate_descent.py:697: ConvergenceWarning: Objective did not converge. You might want to increase the number of iterations, check the scale of the features or consider increasing regularisation. Duality gap: 2.307e+03, tolerance: 1.615e+02\n",
      "  model = cd_fast.enet_coordinate_descent(\n"
     ]
    },
    {
     "name": "stdout",
     "output_type": "stream",
     "text": [
      "[CV 1/5] END final_estimator__alpha=0.001, final_estimator__fit_intercept=False, final_estimator__l1_ratio=0.5, final_estimator__max_iter=2000, final_estimator__random_state=42, final_estimator__selection=cyclic, final_estimator__tol=0.0001;, score=-2.179 total time=  25.3s\n"
     ]
    },
    {
     "name": "stderr",
     "output_type": "stream",
     "text": [
      "c:\\Users\\User\\.conda\\envs\\energy\\Lib\\site-packages\\sklearn\\linear_model\\_coordinate_descent.py:697: ConvergenceWarning: Objective did not converge. You might want to increase the number of iterations, check the scale of the features or consider increasing regularisation. Duality gap: 2.213e+03, tolerance: 1.598e+02\n",
      "  model = cd_fast.enet_coordinate_descent(\n"
     ]
    },
    {
     "name": "stdout",
     "output_type": "stream",
     "text": [
      "[CV 2/5] END final_estimator__alpha=0.001, final_estimator__fit_intercept=False, final_estimator__l1_ratio=0.5, final_estimator__max_iter=2000, final_estimator__random_state=42, final_estimator__selection=cyclic, final_estimator__tol=0.0001;, score=-2.339 total time=  21.2s\n"
     ]
    },
    {
     "name": "stderr",
     "output_type": "stream",
     "text": [
      "c:\\Users\\User\\.conda\\envs\\energy\\Lib\\site-packages\\sklearn\\linear_model\\_coordinate_descent.py:697: ConvergenceWarning: Objective did not converge. You might want to increase the number of iterations, check the scale of the features or consider increasing regularisation. Duality gap: 6.835e+03, tolerance: 1.608e+02\n",
      "  model = cd_fast.enet_coordinate_descent(\n"
     ]
    },
    {
     "name": "stdout",
     "output_type": "stream",
     "text": [
      "[CV 3/5] END final_estimator__alpha=0.001, final_estimator__fit_intercept=False, final_estimator__l1_ratio=0.5, final_estimator__max_iter=2000, final_estimator__random_state=42, final_estimator__selection=cyclic, final_estimator__tol=0.0001;, score=-2.192 total time=  21.8s\n"
     ]
    },
    {
     "name": "stderr",
     "output_type": "stream",
     "text": [
      "c:\\Users\\User\\.conda\\envs\\energy\\Lib\\site-packages\\sklearn\\linear_model\\_coordinate_descent.py:697: ConvergenceWarning: Objective did not converge. You might want to increase the number of iterations, check the scale of the features or consider increasing regularisation. Duality gap: 2.315e+03, tolerance: 1.614e+02\n",
      "  model = cd_fast.enet_coordinate_descent(\n"
     ]
    },
    {
     "name": "stdout",
     "output_type": "stream",
     "text": [
      "[CV 4/5] END final_estimator__alpha=0.001, final_estimator__fit_intercept=False, final_estimator__l1_ratio=0.5, final_estimator__max_iter=2000, final_estimator__random_state=42, final_estimator__selection=cyclic, final_estimator__tol=0.0001;, score=-2.161 total time=  18.7s\n"
     ]
    },
    {
     "name": "stderr",
     "output_type": "stream",
     "text": [
      "c:\\Users\\User\\.conda\\envs\\energy\\Lib\\site-packages\\sklearn\\linear_model\\_coordinate_descent.py:697: ConvergenceWarning: Objective did not converge. You might want to increase the number of iterations, check the scale of the features or consider increasing regularisation. Duality gap: 2.817e+03, tolerance: 1.609e+02\n",
      "  model = cd_fast.enet_coordinate_descent(\n"
     ]
    },
    {
     "name": "stdout",
     "output_type": "stream",
     "text": [
      "[CV 5/5] END final_estimator__alpha=0.001, final_estimator__fit_intercept=False, final_estimator__l1_ratio=0.5, final_estimator__max_iter=2000, final_estimator__random_state=42, final_estimator__selection=cyclic, final_estimator__tol=0.0001;, score=-2.293 total time=  23.9s\n"
     ]
    },
    {
     "name": "stderr",
     "output_type": "stream",
     "text": [
      "c:\\Users\\User\\.conda\\envs\\energy\\Lib\\site-packages\\sklearn\\linear_model\\_coordinate_descent.py:697: ConvergenceWarning: Objective did not converge. You might want to increase the number of iterations, check the scale of the features or consider increasing regularisation. Duality gap: 2.045e+03, tolerance: 1.615e+03\n",
      "  model = cd_fast.enet_coordinate_descent(\n"
     ]
    },
    {
     "name": "stdout",
     "output_type": "stream",
     "text": [
      "[CV 1/5] END final_estimator__alpha=0.001, final_estimator__fit_intercept=False, final_estimator__l1_ratio=0.5, final_estimator__max_iter=2000, final_estimator__random_state=42, final_estimator__selection=cyclic, final_estimator__tol=0.001;, score=-2.177 total time=  20.3s\n"
     ]
    },
    {
     "name": "stderr",
     "output_type": "stream",
     "text": [
      "c:\\Users\\User\\.conda\\envs\\energy\\Lib\\site-packages\\sklearn\\linear_model\\_coordinate_descent.py:697: ConvergenceWarning: Objective did not converge. You might want to increase the number of iterations, check the scale of the features or consider increasing regularisation. Duality gap: 4.174e+03, tolerance: 1.598e+03\n",
      "  model = cd_fast.enet_coordinate_descent(\n"
     ]
    },
    {
     "name": "stdout",
     "output_type": "stream",
     "text": [
      "[CV 2/5] END final_estimator__alpha=0.001, final_estimator__fit_intercept=False, final_estimator__l1_ratio=0.5, final_estimator__max_iter=2000, final_estimator__random_state=42, final_estimator__selection=cyclic, final_estimator__tol=0.001;, score=-2.335 total time=  20.3s\n"
     ]
    },
    {
     "name": "stderr",
     "output_type": "stream",
     "text": [
      "c:\\Users\\User\\.conda\\envs\\energy\\Lib\\site-packages\\sklearn\\linear_model\\_coordinate_descent.py:697: ConvergenceWarning: Objective did not converge. You might want to increase the number of iterations, check the scale of the features or consider increasing regularisation. Duality gap: 3.029e+03, tolerance: 1.608e+03\n",
      "  model = cd_fast.enet_coordinate_descent(\n"
     ]
    },
    {
     "name": "stdout",
     "output_type": "stream",
     "text": [
      "[CV 3/5] END final_estimator__alpha=0.001, final_estimator__fit_intercept=False, final_estimator__l1_ratio=0.5, final_estimator__max_iter=2000, final_estimator__random_state=42, final_estimator__selection=cyclic, final_estimator__tol=0.001;, score=-2.197 total time=  22.5s\n"
     ]
    },
    {
     "name": "stderr",
     "output_type": "stream",
     "text": [
      "c:\\Users\\User\\.conda\\envs\\energy\\Lib\\site-packages\\sklearn\\linear_model\\_coordinate_descent.py:697: ConvergenceWarning: Objective did not converge. You might want to increase the number of iterations, check the scale of the features or consider increasing regularisation. Duality gap: 2.876e+03, tolerance: 1.614e+03\n",
      "  model = cd_fast.enet_coordinate_descent(\n"
     ]
    },
    {
     "name": "stdout",
     "output_type": "stream",
     "text": [
      "[CV 4/5] END final_estimator__alpha=0.001, final_estimator__fit_intercept=False, final_estimator__l1_ratio=0.5, final_estimator__max_iter=2000, final_estimator__random_state=42, final_estimator__selection=cyclic, final_estimator__tol=0.001;, score=-2.159 total time=  27.1s\n"
     ]
    },
    {
     "name": "stderr",
     "output_type": "stream",
     "text": [
      "c:\\Users\\User\\.conda\\envs\\energy\\Lib\\site-packages\\sklearn\\linear_model\\_coordinate_descent.py:697: ConvergenceWarning: Objective did not converge. You might want to increase the number of iterations, check the scale of the features or consider increasing regularisation. Duality gap: 2.276e+03, tolerance: 1.609e+03\n",
      "  model = cd_fast.enet_coordinate_descent(\n"
     ]
    },
    {
     "name": "stdout",
     "output_type": "stream",
     "text": [
      "[CV 5/5] END final_estimator__alpha=0.001, final_estimator__fit_intercept=False, final_estimator__l1_ratio=0.5, final_estimator__max_iter=2000, final_estimator__random_state=42, final_estimator__selection=cyclic, final_estimator__tol=0.001;, score=-2.294 total time=  21.3s\n",
      "[CV 1/5] END final_estimator__alpha=0.001, final_estimator__fit_intercept=False, final_estimator__l1_ratio=0.5, final_estimator__max_iter=2000, final_estimator__random_state=42, final_estimator__selection=cyclic, final_estimator__tol=0.01;, score=-2.196 total time=  21.6s\n",
      "[CV 2/5] END final_estimator__alpha=0.001, final_estimator__fit_intercept=False, final_estimator__l1_ratio=0.5, final_estimator__max_iter=2000, final_estimator__random_state=42, final_estimator__selection=cyclic, final_estimator__tol=0.01;, score=-2.334 total time=  15.0s\n",
      "[CV 3/5] END final_estimator__alpha=0.001, final_estimator__fit_intercept=False, final_estimator__l1_ratio=0.5, final_estimator__max_iter=2000, final_estimator__random_state=42, final_estimator__selection=cyclic, final_estimator__tol=0.01;, score=-2.215 total time=  22.6s\n",
      "[CV 4/5] END final_estimator__alpha=0.001, final_estimator__fit_intercept=False, final_estimator__l1_ratio=0.5, final_estimator__max_iter=2000, final_estimator__random_state=42, final_estimator__selection=cyclic, final_estimator__tol=0.01;, score=-2.170 total time=  23.2s\n",
      "[CV 5/5] END final_estimator__alpha=0.001, final_estimator__fit_intercept=False, final_estimator__l1_ratio=0.5, final_estimator__max_iter=2000, final_estimator__random_state=42, final_estimator__selection=cyclic, final_estimator__tol=0.01;, score=-2.290 total time=  25.7s\n"
     ]
    },
    {
     "name": "stderr",
     "output_type": "stream",
     "text": [
      "c:\\Users\\User\\.conda\\envs\\energy\\Lib\\site-packages\\sklearn\\linear_model\\_coordinate_descent.py:697: ConvergenceWarning: Objective did not converge. You might want to increase the number of iterations, check the scale of the features or consider increasing regularisation. Duality gap: 2.642e+04, tolerance: 1.615e+02\n",
      "  model = cd_fast.enet_coordinate_descent(\n"
     ]
    },
    {
     "name": "stdout",
     "output_type": "stream",
     "text": [
      "[CV 1/5] END final_estimator__alpha=0.001, final_estimator__fit_intercept=False, final_estimator__l1_ratio=0.5, final_estimator__max_iter=2000, final_estimator__random_state=42, final_estimator__selection=random, final_estimator__tol=0.0001;, score=-2.178 total time=  21.1s\n"
     ]
    },
    {
     "name": "stderr",
     "output_type": "stream",
     "text": [
      "c:\\Users\\User\\.conda\\envs\\energy\\Lib\\site-packages\\sklearn\\linear_model\\_coordinate_descent.py:697: ConvergenceWarning: Objective did not converge. You might want to increase the number of iterations, check the scale of the features or consider increasing regularisation. Duality gap: 2.518e+04, tolerance: 1.598e+02\n",
      "  model = cd_fast.enet_coordinate_descent(\n"
     ]
    },
    {
     "name": "stdout",
     "output_type": "stream",
     "text": [
      "[CV 2/5] END final_estimator__alpha=0.001, final_estimator__fit_intercept=False, final_estimator__l1_ratio=0.5, final_estimator__max_iter=2000, final_estimator__random_state=42, final_estimator__selection=random, final_estimator__tol=0.0001;, score=-2.330 total time=  22.0s\n"
     ]
    },
    {
     "name": "stderr",
     "output_type": "stream",
     "text": [
      "c:\\Users\\User\\.conda\\envs\\energy\\Lib\\site-packages\\sklearn\\linear_model\\_coordinate_descent.py:697: ConvergenceWarning: Objective did not converge. You might want to increase the number of iterations, check the scale of the features or consider increasing regularisation. Duality gap: 2.530e+04, tolerance: 1.608e+02\n",
      "  model = cd_fast.enet_coordinate_descent(\n"
     ]
    },
    {
     "name": "stdout",
     "output_type": "stream",
     "text": [
      "[CV 3/5] END final_estimator__alpha=0.001, final_estimator__fit_intercept=False, final_estimator__l1_ratio=0.5, final_estimator__max_iter=2000, final_estimator__random_state=42, final_estimator__selection=random, final_estimator__tol=0.0001;, score=-2.212 total time=  20.6s\n"
     ]
    },
    {
     "name": "stderr",
     "output_type": "stream",
     "text": [
      "c:\\Users\\User\\.conda\\envs\\energy\\Lib\\site-packages\\sklearn\\linear_model\\_coordinate_descent.py:697: ConvergenceWarning: Objective did not converge. You might want to increase the number of iterations, check the scale of the features or consider increasing regularisation. Duality gap: 2.588e+04, tolerance: 1.614e+02\n",
      "  model = cd_fast.enet_coordinate_descent(\n"
     ]
    },
    {
     "name": "stdout",
     "output_type": "stream",
     "text": [
      "[CV 4/5] END final_estimator__alpha=0.001, final_estimator__fit_intercept=False, final_estimator__l1_ratio=0.5, final_estimator__max_iter=2000, final_estimator__random_state=42, final_estimator__selection=random, final_estimator__tol=0.0001;, score=-2.183 total time=  22.0s\n"
     ]
    },
    {
     "name": "stderr",
     "output_type": "stream",
     "text": [
      "c:\\Users\\User\\.conda\\envs\\energy\\Lib\\site-packages\\sklearn\\linear_model\\_coordinate_descent.py:697: ConvergenceWarning: Objective did not converge. You might want to increase the number of iterations, check the scale of the features or consider increasing regularisation. Duality gap: 2.503e+04, tolerance: 1.609e+02\n",
      "  model = cd_fast.enet_coordinate_descent(\n"
     ]
    },
    {
     "name": "stdout",
     "output_type": "stream",
     "text": [
      "[CV 5/5] END final_estimator__alpha=0.001, final_estimator__fit_intercept=False, final_estimator__l1_ratio=0.5, final_estimator__max_iter=2000, final_estimator__random_state=42, final_estimator__selection=random, final_estimator__tol=0.0001;, score=-2.298 total time=  17.8s\n"
     ]
    },
    {
     "name": "stderr",
     "output_type": "stream",
     "text": [
      "c:\\Users\\User\\.conda\\envs\\energy\\Lib\\site-packages\\sklearn\\linear_model\\_coordinate_descent.py:697: ConvergenceWarning: Objective did not converge. You might want to increase the number of iterations, check the scale of the features or consider increasing regularisation. Duality gap: 2.628e+04, tolerance: 1.615e+03\n",
      "  model = cd_fast.enet_coordinate_descent(\n"
     ]
    },
    {
     "name": "stdout",
     "output_type": "stream",
     "text": [
      "[CV 1/5] END final_estimator__alpha=0.001, final_estimator__fit_intercept=False, final_estimator__l1_ratio=0.5, final_estimator__max_iter=2000, final_estimator__random_state=42, final_estimator__selection=random, final_estimator__tol=0.001;, score=-2.171 total time=  26.7s\n"
     ]
    },
    {
     "name": "stderr",
     "output_type": "stream",
     "text": [
      "c:\\Users\\User\\.conda\\envs\\energy\\Lib\\site-packages\\sklearn\\linear_model\\_coordinate_descent.py:697: ConvergenceWarning: Objective did not converge. You might want to increase the number of iterations, check the scale of the features or consider increasing regularisation. Duality gap: 2.523e+04, tolerance: 1.598e+03\n",
      "  model = cd_fast.enet_coordinate_descent(\n"
     ]
    },
    {
     "name": "stdout",
     "output_type": "stream",
     "text": [
      "[CV 2/5] END final_estimator__alpha=0.001, final_estimator__fit_intercept=False, final_estimator__l1_ratio=0.5, final_estimator__max_iter=2000, final_estimator__random_state=42, final_estimator__selection=random, final_estimator__tol=0.001;, score=-2.336 total time=  21.9s\n"
     ]
    },
    {
     "name": "stderr",
     "output_type": "stream",
     "text": [
      "c:\\Users\\User\\.conda\\envs\\energy\\Lib\\site-packages\\sklearn\\linear_model\\_coordinate_descent.py:697: ConvergenceWarning: Objective did not converge. You might want to increase the number of iterations, check the scale of the features or consider increasing regularisation. Duality gap: 2.521e+04, tolerance: 1.608e+03\n",
      "  model = cd_fast.enet_coordinate_descent(\n"
     ]
    },
    {
     "name": "stdout",
     "output_type": "stream",
     "text": [
      "[CV 3/5] END final_estimator__alpha=0.001, final_estimator__fit_intercept=False, final_estimator__l1_ratio=0.5, final_estimator__max_iter=2000, final_estimator__random_state=42, final_estimator__selection=random, final_estimator__tol=0.001;, score=-2.191 total time=  20.2s\n"
     ]
    },
    {
     "name": "stderr",
     "output_type": "stream",
     "text": [
      "c:\\Users\\User\\.conda\\envs\\energy\\Lib\\site-packages\\sklearn\\linear_model\\_coordinate_descent.py:697: ConvergenceWarning: Objective did not converge. You might want to increase the number of iterations, check the scale of the features or consider increasing regularisation. Duality gap: 2.561e+04, tolerance: 1.614e+03\n",
      "  model = cd_fast.enet_coordinate_descent(\n"
     ]
    },
    {
     "name": "stdout",
     "output_type": "stream",
     "text": [
      "[CV 4/5] END final_estimator__alpha=0.001, final_estimator__fit_intercept=False, final_estimator__l1_ratio=0.5, final_estimator__max_iter=2000, final_estimator__random_state=42, final_estimator__selection=random, final_estimator__tol=0.001;, score=-2.166 total time=  22.7s\n"
     ]
    },
    {
     "name": "stderr",
     "output_type": "stream",
     "text": [
      "c:\\Users\\User\\.conda\\envs\\energy\\Lib\\site-packages\\sklearn\\linear_model\\_coordinate_descent.py:697: ConvergenceWarning: Objective did not converge. You might want to increase the number of iterations, check the scale of the features or consider increasing regularisation. Duality gap: 2.472e+04, tolerance: 1.609e+03\n",
      "  model = cd_fast.enet_coordinate_descent(\n"
     ]
    },
    {
     "name": "stdout",
     "output_type": "stream",
     "text": [
      "[CV 5/5] END final_estimator__alpha=0.001, final_estimator__fit_intercept=False, final_estimator__l1_ratio=0.5, final_estimator__max_iter=2000, final_estimator__random_state=42, final_estimator__selection=random, final_estimator__tol=0.001;, score=-2.281 total time=  21.0s\n"
     ]
    },
    {
     "name": "stderr",
     "output_type": "stream",
     "text": [
      "c:\\Users\\User\\.conda\\envs\\energy\\Lib\\site-packages\\sklearn\\linear_model\\_coordinate_descent.py:697: ConvergenceWarning: Objective did not converge. You might want to increase the number of iterations, check the scale of the features or consider increasing regularisation. Duality gap: 2.627e+04, tolerance: 1.615e+04\n",
      "  model = cd_fast.enet_coordinate_descent(\n"
     ]
    },
    {
     "name": "stdout",
     "output_type": "stream",
     "text": [
      "[CV 1/5] END final_estimator__alpha=0.001, final_estimator__fit_intercept=False, final_estimator__l1_ratio=0.5, final_estimator__max_iter=2000, final_estimator__random_state=42, final_estimator__selection=random, final_estimator__tol=0.01;, score=-2.162 total time=  23.9s\n"
     ]
    },
    {
     "name": "stderr",
     "output_type": "stream",
     "text": [
      "c:\\Users\\User\\.conda\\envs\\energy\\Lib\\site-packages\\sklearn\\linear_model\\_coordinate_descent.py:697: ConvergenceWarning: Objective did not converge. You might want to increase the number of iterations, check the scale of the features or consider increasing regularisation. Duality gap: 2.523e+04, tolerance: 1.598e+04\n",
      "  model = cd_fast.enet_coordinate_descent(\n"
     ]
    },
    {
     "name": "stdout",
     "output_type": "stream",
     "text": [
      "[CV 2/5] END final_estimator__alpha=0.001, final_estimator__fit_intercept=False, final_estimator__l1_ratio=0.5, final_estimator__max_iter=2000, final_estimator__random_state=42, final_estimator__selection=random, final_estimator__tol=0.01;, score=-2.327 total time=  18.5s\n"
     ]
    },
    {
     "name": "stderr",
     "output_type": "stream",
     "text": [
      "c:\\Users\\User\\.conda\\envs\\energy\\Lib\\site-packages\\sklearn\\linear_model\\_coordinate_descent.py:697: ConvergenceWarning: Objective did not converge. You might want to increase the number of iterations, check the scale of the features or consider increasing regularisation. Duality gap: 2.518e+04, tolerance: 1.608e+04\n",
      "  model = cd_fast.enet_coordinate_descent(\n"
     ]
    },
    {
     "name": "stdout",
     "output_type": "stream",
     "text": [
      "[CV 3/5] END final_estimator__alpha=0.001, final_estimator__fit_intercept=False, final_estimator__l1_ratio=0.5, final_estimator__max_iter=2000, final_estimator__random_state=42, final_estimator__selection=random, final_estimator__tol=0.01;, score=-2.223 total time=  17.0s\n"
     ]
    },
    {
     "name": "stderr",
     "output_type": "stream",
     "text": [
      "c:\\Users\\User\\.conda\\envs\\energy\\Lib\\site-packages\\sklearn\\linear_model\\_coordinate_descent.py:697: ConvergenceWarning: Objective did not converge. You might want to increase the number of iterations, check the scale of the features or consider increasing regularisation. Duality gap: 2.564e+04, tolerance: 1.614e+04\n",
      "  model = cd_fast.enet_coordinate_descent(\n"
     ]
    },
    {
     "name": "stdout",
     "output_type": "stream",
     "text": [
      "[CV 4/5] END final_estimator__alpha=0.001, final_estimator__fit_intercept=False, final_estimator__l1_ratio=0.5, final_estimator__max_iter=2000, final_estimator__random_state=42, final_estimator__selection=random, final_estimator__tol=0.01;, score=-2.168 total time=  19.7s\n"
     ]
    },
    {
     "name": "stderr",
     "output_type": "stream",
     "text": [
      "c:\\Users\\User\\.conda\\envs\\energy\\Lib\\site-packages\\sklearn\\linear_model\\_coordinate_descent.py:697: ConvergenceWarning: Objective did not converge. You might want to increase the number of iterations, check the scale of the features or consider increasing regularisation. Duality gap: 2.473e+04, tolerance: 1.609e+04\n",
      "  model = cd_fast.enet_coordinate_descent(\n"
     ]
    },
    {
     "name": "stdout",
     "output_type": "stream",
     "text": [
      "[CV 5/5] END final_estimator__alpha=0.001, final_estimator__fit_intercept=False, final_estimator__l1_ratio=0.5, final_estimator__max_iter=2000, final_estimator__random_state=42, final_estimator__selection=random, final_estimator__tol=0.01;, score=-2.278 total time=  21.9s\n"
     ]
    },
    {
     "name": "stderr",
     "output_type": "stream",
     "text": [
      "c:\\Users\\User\\.conda\\envs\\energy\\Lib\\site-packages\\sklearn\\linear_model\\_coordinate_descent.py:697: ConvergenceWarning: Objective did not converge. You might want to increase the number of iterations, check the scale of the features or consider increasing regularisation. Duality gap: 2.461e+04, tolerance: 1.615e+02\n",
      "  model = cd_fast.enet_coordinate_descent(\n"
     ]
    },
    {
     "name": "stdout",
     "output_type": "stream",
     "text": [
      "[CV 1/5] END final_estimator__alpha=0.001, final_estimator__fit_intercept=False, final_estimator__l1_ratio=0.7, final_estimator__max_iter=1000, final_estimator__random_state=42, final_estimator__selection=cyclic, final_estimator__tol=0.0001;, score=-2.209 total time=  24.5s\n"
     ]
    },
    {
     "name": "stderr",
     "output_type": "stream",
     "text": [
      "c:\\Users\\User\\.conda\\envs\\energy\\Lib\\site-packages\\sklearn\\linear_model\\_coordinate_descent.py:697: ConvergenceWarning: Objective did not converge. You might want to increase the number of iterations, check the scale of the features or consider increasing regularisation. Duality gap: 2.371e+04, tolerance: 1.598e+02\n",
      "  model = cd_fast.enet_coordinate_descent(\n"
     ]
    },
    {
     "name": "stdout",
     "output_type": "stream",
     "text": [
      "[CV 2/5] END final_estimator__alpha=0.001, final_estimator__fit_intercept=False, final_estimator__l1_ratio=0.7, final_estimator__max_iter=1000, final_estimator__random_state=42, final_estimator__selection=cyclic, final_estimator__tol=0.0001;, score=-2.334 total time=  17.6s\n"
     ]
    },
    {
     "name": "stderr",
     "output_type": "stream",
     "text": [
      "c:\\Users\\User\\.conda\\envs\\energy\\Lib\\site-packages\\sklearn\\linear_model\\_coordinate_descent.py:697: ConvergenceWarning: Objective did not converge. You might want to increase the number of iterations, check the scale of the features or consider increasing regularisation. Duality gap: 2.419e+04, tolerance: 1.608e+02\n",
      "  model = cd_fast.enet_coordinate_descent(\n"
     ]
    },
    {
     "name": "stdout",
     "output_type": "stream",
     "text": [
      "[CV 3/5] END final_estimator__alpha=0.001, final_estimator__fit_intercept=False, final_estimator__l1_ratio=0.7, final_estimator__max_iter=1000, final_estimator__random_state=42, final_estimator__selection=cyclic, final_estimator__tol=0.0001;, score=-2.188 total time=  18.4s\n"
     ]
    },
    {
     "name": "stderr",
     "output_type": "stream",
     "text": [
      "c:\\Users\\User\\.conda\\envs\\energy\\Lib\\site-packages\\sklearn\\linear_model\\_coordinate_descent.py:697: ConvergenceWarning: Objective did not converge. You might want to increase the number of iterations, check the scale of the features or consider increasing regularisation. Duality gap: 2.410e+04, tolerance: 1.614e+02\n",
      "  model = cd_fast.enet_coordinate_descent(\n"
     ]
    },
    {
     "name": "stdout",
     "output_type": "stream",
     "text": [
      "[CV 4/5] END final_estimator__alpha=0.001, final_estimator__fit_intercept=False, final_estimator__l1_ratio=0.7, final_estimator__max_iter=1000, final_estimator__random_state=42, final_estimator__selection=cyclic, final_estimator__tol=0.0001;, score=-2.162 total time=  21.2s\n"
     ]
    },
    {
     "name": "stderr",
     "output_type": "stream",
     "text": [
      "c:\\Users\\User\\.conda\\envs\\energy\\Lib\\site-packages\\sklearn\\linear_model\\_coordinate_descent.py:697: ConvergenceWarning: Objective did not converge. You might want to increase the number of iterations, check the scale of the features or consider increasing regularisation. Duality gap: 2.402e+04, tolerance: 1.609e+02\n",
      "  model = cd_fast.enet_coordinate_descent(\n"
     ]
    },
    {
     "name": "stdout",
     "output_type": "stream",
     "text": [
      "[CV 5/5] END final_estimator__alpha=0.001, final_estimator__fit_intercept=False, final_estimator__l1_ratio=0.7, final_estimator__max_iter=1000, final_estimator__random_state=42, final_estimator__selection=cyclic, final_estimator__tol=0.0001;, score=-2.286 total time=  24.8s\n"
     ]
    },
    {
     "name": "stderr",
     "output_type": "stream",
     "text": [
      "c:\\Users\\User\\.conda\\envs\\energy\\Lib\\site-packages\\sklearn\\linear_model\\_coordinate_descent.py:697: ConvergenceWarning: Objective did not converge. You might want to increase the number of iterations, check the scale of the features or consider increasing regularisation. Duality gap: 2.471e+04, tolerance: 1.615e+03\n",
      "  model = cd_fast.enet_coordinate_descent(\n"
     ]
    },
    {
     "name": "stdout",
     "output_type": "stream",
     "text": [
      "[CV 1/5] END final_estimator__alpha=0.001, final_estimator__fit_intercept=False, final_estimator__l1_ratio=0.7, final_estimator__max_iter=1000, final_estimator__random_state=42, final_estimator__selection=cyclic, final_estimator__tol=0.001;, score=-2.209 total time=  15.6s\n"
     ]
    },
    {
     "name": "stderr",
     "output_type": "stream",
     "text": [
      "c:\\Users\\User\\.conda\\envs\\energy\\Lib\\site-packages\\sklearn\\linear_model\\_coordinate_descent.py:697: ConvergenceWarning: Objective did not converge. You might want to increase the number of iterations, check the scale of the features or consider increasing regularisation. Duality gap: 2.338e+04, tolerance: 1.598e+03\n",
      "  model = cd_fast.enet_coordinate_descent(\n"
     ]
    },
    {
     "name": "stdout",
     "output_type": "stream",
     "text": [
      "[CV 2/5] END final_estimator__alpha=0.001, final_estimator__fit_intercept=False, final_estimator__l1_ratio=0.7, final_estimator__max_iter=1000, final_estimator__random_state=42, final_estimator__selection=cyclic, final_estimator__tol=0.001;, score=-2.354 total time=  21.5s\n"
     ]
    },
    {
     "name": "stderr",
     "output_type": "stream",
     "text": [
      "c:\\Users\\User\\.conda\\envs\\energy\\Lib\\site-packages\\sklearn\\linear_model\\_coordinate_descent.py:697: ConvergenceWarning: Objective did not converge. You might want to increase the number of iterations, check the scale of the features or consider increasing regularisation. Duality gap: 2.411e+04, tolerance: 1.608e+03\n",
      "  model = cd_fast.enet_coordinate_descent(\n"
     ]
    },
    {
     "name": "stdout",
     "output_type": "stream",
     "text": [
      "[CV 3/5] END final_estimator__alpha=0.001, final_estimator__fit_intercept=False, final_estimator__l1_ratio=0.7, final_estimator__max_iter=1000, final_estimator__random_state=42, final_estimator__selection=cyclic, final_estimator__tol=0.001;, score=-2.192 total time=  19.1s\n"
     ]
    },
    {
     "name": "stderr",
     "output_type": "stream",
     "text": [
      "c:\\Users\\User\\.conda\\envs\\energy\\Lib\\site-packages\\sklearn\\linear_model\\_coordinate_descent.py:697: ConvergenceWarning: Objective did not converge. You might want to increase the number of iterations, check the scale of the features or consider increasing regularisation. Duality gap: 2.441e+04, tolerance: 1.614e+03\n",
      "  model = cd_fast.enet_coordinate_descent(\n"
     ]
    },
    {
     "name": "stdout",
     "output_type": "stream",
     "text": [
      "[CV 4/5] END final_estimator__alpha=0.001, final_estimator__fit_intercept=False, final_estimator__l1_ratio=0.7, final_estimator__max_iter=1000, final_estimator__random_state=42, final_estimator__selection=cyclic, final_estimator__tol=0.001;, score=-2.159 total time=  20.1s\n"
     ]
    },
    {
     "name": "stderr",
     "output_type": "stream",
     "text": [
      "c:\\Users\\User\\.conda\\envs\\energy\\Lib\\site-packages\\sklearn\\linear_model\\_coordinate_descent.py:697: ConvergenceWarning: Objective did not converge. You might want to increase the number of iterations, check the scale of the features or consider increasing regularisation. Duality gap: 2.394e+04, tolerance: 1.609e+03\n",
      "  model = cd_fast.enet_coordinate_descent(\n"
     ]
    },
    {
     "name": "stdout",
     "output_type": "stream",
     "text": [
      "[CV 5/5] END final_estimator__alpha=0.001, final_estimator__fit_intercept=False, final_estimator__l1_ratio=0.7, final_estimator__max_iter=1000, final_estimator__random_state=42, final_estimator__selection=cyclic, final_estimator__tol=0.001;, score=-2.290 total time=  17.0s\n"
     ]
    },
    {
     "name": "stderr",
     "output_type": "stream",
     "text": [
      "c:\\Users\\User\\.conda\\envs\\energy\\Lib\\site-packages\\sklearn\\linear_model\\_coordinate_descent.py:697: ConvergenceWarning: Objective did not converge. You might want to increase the number of iterations, check the scale of the features or consider increasing regularisation. Duality gap: 2.424e+04, tolerance: 1.615e+04\n",
      "  model = cd_fast.enet_coordinate_descent(\n"
     ]
    },
    {
     "name": "stdout",
     "output_type": "stream",
     "text": [
      "[CV 1/5] END final_estimator__alpha=0.001, final_estimator__fit_intercept=False, final_estimator__l1_ratio=0.7, final_estimator__max_iter=1000, final_estimator__random_state=42, final_estimator__selection=cyclic, final_estimator__tol=0.01;, score=-2.178 total time=  21.2s\n"
     ]
    },
    {
     "name": "stderr",
     "output_type": "stream",
     "text": [
      "c:\\Users\\User\\.conda\\envs\\energy\\Lib\\site-packages\\sklearn\\linear_model\\_coordinate_descent.py:697: ConvergenceWarning: Objective did not converge. You might want to increase the number of iterations, check the scale of the features or consider increasing regularisation. Duality gap: 2.369e+04, tolerance: 1.598e+04\n",
      "  model = cd_fast.enet_coordinate_descent(\n"
     ]
    },
    {
     "name": "stdout",
     "output_type": "stream",
     "text": [
      "[CV 2/5] END final_estimator__alpha=0.001, final_estimator__fit_intercept=False, final_estimator__l1_ratio=0.7, final_estimator__max_iter=1000, final_estimator__random_state=42, final_estimator__selection=cyclic, final_estimator__tol=0.01;, score=-2.325 total time=  25.6s\n"
     ]
    },
    {
     "name": "stderr",
     "output_type": "stream",
     "text": [
      "c:\\Users\\User\\.conda\\envs\\energy\\Lib\\site-packages\\sklearn\\linear_model\\_coordinate_descent.py:697: ConvergenceWarning: Objective did not converge. You might want to increase the number of iterations, check the scale of the features or consider increasing regularisation. Duality gap: 2.392e+04, tolerance: 1.608e+04\n",
      "  model = cd_fast.enet_coordinate_descent(\n"
     ]
    },
    {
     "name": "stdout",
     "output_type": "stream",
     "text": [
      "[CV 3/5] END final_estimator__alpha=0.001, final_estimator__fit_intercept=False, final_estimator__l1_ratio=0.7, final_estimator__max_iter=1000, final_estimator__random_state=42, final_estimator__selection=cyclic, final_estimator__tol=0.01;, score=-2.202 total time=  24.1s\n"
     ]
    },
    {
     "name": "stderr",
     "output_type": "stream",
     "text": [
      "c:\\Users\\User\\.conda\\envs\\energy\\Lib\\site-packages\\sklearn\\linear_model\\_coordinate_descent.py:697: ConvergenceWarning: Objective did not converge. You might want to increase the number of iterations, check the scale of the features or consider increasing regularisation. Duality gap: 2.469e+04, tolerance: 1.614e+04\n",
      "  model = cd_fast.enet_coordinate_descent(\n"
     ]
    },
    {
     "name": "stdout",
     "output_type": "stream",
     "text": [
      "[CV 4/5] END final_estimator__alpha=0.001, final_estimator__fit_intercept=False, final_estimator__l1_ratio=0.7, final_estimator__max_iter=1000, final_estimator__random_state=42, final_estimator__selection=cyclic, final_estimator__tol=0.01;, score=-2.151 total time=  20.1s\n"
     ]
    },
    {
     "name": "stderr",
     "output_type": "stream",
     "text": [
      "c:\\Users\\User\\.conda\\envs\\energy\\Lib\\site-packages\\sklearn\\linear_model\\_coordinate_descent.py:697: ConvergenceWarning: Objective did not converge. You might want to increase the number of iterations, check the scale of the features or consider increasing regularisation. Duality gap: 2.356e+04, tolerance: 1.609e+04\n",
      "  model = cd_fast.enet_coordinate_descent(\n"
     ]
    },
    {
     "name": "stdout",
     "output_type": "stream",
     "text": [
      "[CV 5/5] END final_estimator__alpha=0.001, final_estimator__fit_intercept=False, final_estimator__l1_ratio=0.7, final_estimator__max_iter=1000, final_estimator__random_state=42, final_estimator__selection=cyclic, final_estimator__tol=0.01;, score=-2.288 total time=  17.2s\n"
     ]
    },
    {
     "name": "stderr",
     "output_type": "stream",
     "text": [
      "c:\\Users\\User\\.conda\\envs\\energy\\Lib\\site-packages\\sklearn\\linear_model\\_coordinate_descent.py:697: ConvergenceWarning: Objective did not converge. You might want to increase the number of iterations, check the scale of the features or consider increasing regularisation. Duality gap: 2.852e+04, tolerance: 1.615e+02\n",
      "  model = cd_fast.enet_coordinate_descent(\n"
     ]
    },
    {
     "name": "stdout",
     "output_type": "stream",
     "text": [
      "[CV 1/5] END final_estimator__alpha=0.001, final_estimator__fit_intercept=False, final_estimator__l1_ratio=0.7, final_estimator__max_iter=1000, final_estimator__random_state=42, final_estimator__selection=random, final_estimator__tol=0.0001;, score=-2.188 total time=  20.8s\n"
     ]
    },
    {
     "name": "stderr",
     "output_type": "stream",
     "text": [
      "c:\\Users\\User\\.conda\\envs\\energy\\Lib\\site-packages\\sklearn\\linear_model\\_coordinate_descent.py:697: ConvergenceWarning: Objective did not converge. You might want to increase the number of iterations, check the scale of the features or consider increasing regularisation. Duality gap: 2.735e+04, tolerance: 1.598e+02\n",
      "  model = cd_fast.enet_coordinate_descent(\n"
     ]
    },
    {
     "name": "stdout",
     "output_type": "stream",
     "text": [
      "[CV 2/5] END final_estimator__alpha=0.001, final_estimator__fit_intercept=False, final_estimator__l1_ratio=0.7, final_estimator__max_iter=1000, final_estimator__random_state=42, final_estimator__selection=random, final_estimator__tol=0.0001;, score=-2.339 total time=  21.5s\n"
     ]
    },
    {
     "name": "stderr",
     "output_type": "stream",
     "text": [
      "c:\\Users\\User\\.conda\\envs\\energy\\Lib\\site-packages\\sklearn\\linear_model\\_coordinate_descent.py:697: ConvergenceWarning: Objective did not converge. You might want to increase the number of iterations, check the scale of the features or consider increasing regularisation. Duality gap: 2.715e+04, tolerance: 1.608e+02\n",
      "  model = cd_fast.enet_coordinate_descent(\n"
     ]
    },
    {
     "name": "stdout",
     "output_type": "stream",
     "text": [
      "[CV 3/5] END final_estimator__alpha=0.001, final_estimator__fit_intercept=False, final_estimator__l1_ratio=0.7, final_estimator__max_iter=1000, final_estimator__random_state=42, final_estimator__selection=random, final_estimator__tol=0.0001;, score=-2.196 total time=  16.0s\n"
     ]
    },
    {
     "name": "stderr",
     "output_type": "stream",
     "text": [
      "c:\\Users\\User\\.conda\\envs\\energy\\Lib\\site-packages\\sklearn\\linear_model\\_coordinate_descent.py:697: ConvergenceWarning: Objective did not converge. You might want to increase the number of iterations, check the scale of the features or consider increasing regularisation. Duality gap: 2.778e+04, tolerance: 1.614e+02\n",
      "  model = cd_fast.enet_coordinate_descent(\n"
     ]
    },
    {
     "name": "stdout",
     "output_type": "stream",
     "text": [
      "[CV 4/5] END final_estimator__alpha=0.001, final_estimator__fit_intercept=False, final_estimator__l1_ratio=0.7, final_estimator__max_iter=1000, final_estimator__random_state=42, final_estimator__selection=random, final_estimator__tol=0.0001;, score=-2.163 total time=  18.3s\n"
     ]
    },
    {
     "name": "stderr",
     "output_type": "stream",
     "text": [
      "c:\\Users\\User\\.conda\\envs\\energy\\Lib\\site-packages\\sklearn\\linear_model\\_coordinate_descent.py:697: ConvergenceWarning: Objective did not converge. You might want to increase the number of iterations, check the scale of the features or consider increasing regularisation. Duality gap: 2.682e+04, tolerance: 1.609e+02\n",
      "  model = cd_fast.enet_coordinate_descent(\n"
     ]
    },
    {
     "name": "stdout",
     "output_type": "stream",
     "text": [
      "[CV 5/5] END final_estimator__alpha=0.001, final_estimator__fit_intercept=False, final_estimator__l1_ratio=0.7, final_estimator__max_iter=1000, final_estimator__random_state=42, final_estimator__selection=random, final_estimator__tol=0.0001;, score=-2.296 total time=  21.2s\n"
     ]
    },
    {
     "name": "stderr",
     "output_type": "stream",
     "text": [
      "c:\\Users\\User\\.conda\\envs\\energy\\Lib\\site-packages\\sklearn\\linear_model\\_coordinate_descent.py:697: ConvergenceWarning: Objective did not converge. You might want to increase the number of iterations, check the scale of the features or consider increasing regularisation. Duality gap: 2.861e+04, tolerance: 1.615e+03\n",
      "  model = cd_fast.enet_coordinate_descent(\n"
     ]
    },
    {
     "name": "stdout",
     "output_type": "stream",
     "text": [
      "[CV 1/5] END final_estimator__alpha=0.001, final_estimator__fit_intercept=False, final_estimator__l1_ratio=0.7, final_estimator__max_iter=1000, final_estimator__random_state=42, final_estimator__selection=random, final_estimator__tol=0.001;, score=-2.187 total time=  22.3s\n"
     ]
    },
    {
     "name": "stderr",
     "output_type": "stream",
     "text": [
      "c:\\Users\\User\\.conda\\envs\\energy\\Lib\\site-packages\\sklearn\\linear_model\\_coordinate_descent.py:697: ConvergenceWarning: Objective did not converge. You might want to increase the number of iterations, check the scale of the features or consider increasing regularisation. Duality gap: 2.726e+04, tolerance: 1.598e+03\n",
      "  model = cd_fast.enet_coordinate_descent(\n"
     ]
    },
    {
     "name": "stdout",
     "output_type": "stream",
     "text": [
      "[CV 2/5] END final_estimator__alpha=0.001, final_estimator__fit_intercept=False, final_estimator__l1_ratio=0.7, final_estimator__max_iter=1000, final_estimator__random_state=42, final_estimator__selection=random, final_estimator__tol=0.001;, score=-2.333 total time=  17.2s\n"
     ]
    },
    {
     "name": "stderr",
     "output_type": "stream",
     "text": [
      "c:\\Users\\User\\.conda\\envs\\energy\\Lib\\site-packages\\sklearn\\linear_model\\_coordinate_descent.py:697: ConvergenceWarning: Objective did not converge. You might want to increase the number of iterations, check the scale of the features or consider increasing regularisation. Duality gap: 2.722e+04, tolerance: 1.608e+03\n",
      "  model = cd_fast.enet_coordinate_descent(\n"
     ]
    },
    {
     "name": "stdout",
     "output_type": "stream",
     "text": [
      "[CV 3/5] END final_estimator__alpha=0.001, final_estimator__fit_intercept=False, final_estimator__l1_ratio=0.7, final_estimator__max_iter=1000, final_estimator__random_state=42, final_estimator__selection=random, final_estimator__tol=0.001;, score=-2.202 total time=  22.5s\n"
     ]
    },
    {
     "name": "stderr",
     "output_type": "stream",
     "text": [
      "c:\\Users\\User\\.conda\\envs\\energy\\Lib\\site-packages\\sklearn\\linear_model\\_coordinate_descent.py:697: ConvergenceWarning: Objective did not converge. You might want to increase the number of iterations, check the scale of the features or consider increasing regularisation. Duality gap: 2.767e+04, tolerance: 1.614e+03\n",
      "  model = cd_fast.enet_coordinate_descent(\n"
     ]
    },
    {
     "name": "stdout",
     "output_type": "stream",
     "text": [
      "[CV 4/5] END final_estimator__alpha=0.001, final_estimator__fit_intercept=False, final_estimator__l1_ratio=0.7, final_estimator__max_iter=1000, final_estimator__random_state=42, final_estimator__selection=random, final_estimator__tol=0.001;, score=-2.173 total time=  24.9s\n"
     ]
    },
    {
     "name": "stderr",
     "output_type": "stream",
     "text": [
      "c:\\Users\\User\\.conda\\envs\\energy\\Lib\\site-packages\\sklearn\\linear_model\\_coordinate_descent.py:697: ConvergenceWarning: Objective did not converge. You might want to increase the number of iterations, check the scale of the features or consider increasing regularisation. Duality gap: 2.676e+04, tolerance: 1.609e+03\n",
      "  model = cd_fast.enet_coordinate_descent(\n"
     ]
    },
    {
     "name": "stdout",
     "output_type": "stream",
     "text": [
      "[CV 5/5] END final_estimator__alpha=0.001, final_estimator__fit_intercept=False, final_estimator__l1_ratio=0.7, final_estimator__max_iter=1000, final_estimator__random_state=42, final_estimator__selection=random, final_estimator__tol=0.001;, score=-2.288 total time=  18.8s\n"
     ]
    },
    {
     "name": "stderr",
     "output_type": "stream",
     "text": [
      "c:\\Users\\User\\.conda\\envs\\energy\\Lib\\site-packages\\sklearn\\linear_model\\_coordinate_descent.py:697: ConvergenceWarning: Objective did not converge. You might want to increase the number of iterations, check the scale of the features or consider increasing regularisation. Duality gap: 2.853e+04, tolerance: 1.615e+04\n",
      "  model = cd_fast.enet_coordinate_descent(\n"
     ]
    },
    {
     "name": "stdout",
     "output_type": "stream",
     "text": [
      "[CV 1/5] END final_estimator__alpha=0.001, final_estimator__fit_intercept=False, final_estimator__l1_ratio=0.7, final_estimator__max_iter=1000, final_estimator__random_state=42, final_estimator__selection=random, final_estimator__tol=0.01;, score=-2.194 total time=  18.9s\n"
     ]
    },
    {
     "name": "stderr",
     "output_type": "stream",
     "text": [
      "c:\\Users\\User\\.conda\\envs\\energy\\Lib\\site-packages\\sklearn\\linear_model\\_coordinate_descent.py:697: ConvergenceWarning: Objective did not converge. You might want to increase the number of iterations, check the scale of the features or consider increasing regularisation. Duality gap: 2.737e+04, tolerance: 1.598e+04\n",
      "  model = cd_fast.enet_coordinate_descent(\n"
     ]
    },
    {
     "name": "stdout",
     "output_type": "stream",
     "text": [
      "[CV 2/5] END final_estimator__alpha=0.001, final_estimator__fit_intercept=False, final_estimator__l1_ratio=0.7, final_estimator__max_iter=1000, final_estimator__random_state=42, final_estimator__selection=random, final_estimator__tol=0.01;, score=-2.327 total time=  16.3s\n"
     ]
    },
    {
     "name": "stderr",
     "output_type": "stream",
     "text": [
      "c:\\Users\\User\\.conda\\envs\\energy\\Lib\\site-packages\\sklearn\\linear_model\\_coordinate_descent.py:697: ConvergenceWarning: Objective did not converge. You might want to increase the number of iterations, check the scale of the features or consider increasing regularisation. Duality gap: 2.707e+04, tolerance: 1.608e+04\n",
      "  model = cd_fast.enet_coordinate_descent(\n"
     ]
    },
    {
     "name": "stdout",
     "output_type": "stream",
     "text": [
      "[CV 3/5] END final_estimator__alpha=0.001, final_estimator__fit_intercept=False, final_estimator__l1_ratio=0.7, final_estimator__max_iter=1000, final_estimator__random_state=42, final_estimator__selection=random, final_estimator__tol=0.01;, score=-2.208 total time=  19.8s\n"
     ]
    },
    {
     "name": "stderr",
     "output_type": "stream",
     "text": [
      "c:\\Users\\User\\.conda\\envs\\energy\\Lib\\site-packages\\sklearn\\linear_model\\_coordinate_descent.py:697: ConvergenceWarning: Objective did not converge. You might want to increase the number of iterations, check the scale of the features or consider increasing regularisation. Duality gap: 2.785e+04, tolerance: 1.614e+04\n",
      "  model = cd_fast.enet_coordinate_descent(\n"
     ]
    },
    {
     "name": "stdout",
     "output_type": "stream",
     "text": [
      "[CV 4/5] END final_estimator__alpha=0.001, final_estimator__fit_intercept=False, final_estimator__l1_ratio=0.7, final_estimator__max_iter=1000, final_estimator__random_state=42, final_estimator__selection=random, final_estimator__tol=0.01;, score=-2.165 total time=  22.2s\n"
     ]
    },
    {
     "name": "stderr",
     "output_type": "stream",
     "text": [
      "c:\\Users\\User\\.conda\\envs\\energy\\Lib\\site-packages\\sklearn\\linear_model\\_coordinate_descent.py:697: ConvergenceWarning: Objective did not converge. You might want to increase the number of iterations, check the scale of the features or consider increasing regularisation. Duality gap: 2.667e+04, tolerance: 1.609e+04\n",
      "  model = cd_fast.enet_coordinate_descent(\n"
     ]
    },
    {
     "name": "stdout",
     "output_type": "stream",
     "text": [
      "[CV 5/5] END final_estimator__alpha=0.001, final_estimator__fit_intercept=False, final_estimator__l1_ratio=0.7, final_estimator__max_iter=1000, final_estimator__random_state=42, final_estimator__selection=random, final_estimator__tol=0.01;, score=-2.281 total time=  20.3s\n"
     ]
    },
    {
     "name": "stderr",
     "output_type": "stream",
     "text": [
      "c:\\Users\\User\\.conda\\envs\\energy\\Lib\\site-packages\\sklearn\\linear_model\\_coordinate_descent.py:697: ConvergenceWarning: Objective did not converge. You might want to increase the number of iterations, check the scale of the features or consider increasing regularisation. Duality gap: 1.208e+03, tolerance: 1.615e+02\n",
      "  model = cd_fast.enet_coordinate_descent(\n"
     ]
    },
    {
     "name": "stdout",
     "output_type": "stream",
     "text": [
      "[CV 1/5] END final_estimator__alpha=0.001, final_estimator__fit_intercept=False, final_estimator__l1_ratio=0.7, final_estimator__max_iter=2000, final_estimator__random_state=42, final_estimator__selection=cyclic, final_estimator__tol=0.0001;, score=-2.219 total time=  21.9s\n"
     ]
    },
    {
     "name": "stderr",
     "output_type": "stream",
     "text": [
      "c:\\Users\\User\\.conda\\envs\\energy\\Lib\\site-packages\\sklearn\\linear_model\\_coordinate_descent.py:697: ConvergenceWarning: Objective did not converge. You might want to increase the number of iterations, check the scale of the features or consider increasing regularisation. Duality gap: 1.502e+03, tolerance: 1.598e+02\n",
      "  model = cd_fast.enet_coordinate_descent(\n"
     ]
    },
    {
     "name": "stdout",
     "output_type": "stream",
     "text": [
      "[CV 2/5] END final_estimator__alpha=0.001, final_estimator__fit_intercept=False, final_estimator__l1_ratio=0.7, final_estimator__max_iter=2000, final_estimator__random_state=42, final_estimator__selection=cyclic, final_estimator__tol=0.0001;, score=-2.325 total time=  20.9s\n"
     ]
    },
    {
     "name": "stderr",
     "output_type": "stream",
     "text": [
      "c:\\Users\\User\\.conda\\envs\\energy\\Lib\\site-packages\\sklearn\\linear_model\\_coordinate_descent.py:697: ConvergenceWarning: Objective did not converge. You might want to increase the number of iterations, check the scale of the features or consider increasing regularisation. Duality gap: 5.522e+03, tolerance: 1.608e+02\n",
      "  model = cd_fast.enet_coordinate_descent(\n"
     ]
    },
    {
     "name": "stdout",
     "output_type": "stream",
     "text": [
      "[CV 3/5] END final_estimator__alpha=0.001, final_estimator__fit_intercept=False, final_estimator__l1_ratio=0.7, final_estimator__max_iter=2000, final_estimator__random_state=42, final_estimator__selection=cyclic, final_estimator__tol=0.0001;, score=-2.210 total time=  21.0s\n"
     ]
    },
    {
     "name": "stderr",
     "output_type": "stream",
     "text": [
      "c:\\Users\\User\\.conda\\envs\\energy\\Lib\\site-packages\\sklearn\\linear_model\\_coordinate_descent.py:697: ConvergenceWarning: Objective did not converge. You might want to increase the number of iterations, check the scale of the features or consider increasing regularisation. Duality gap: 1.891e+03, tolerance: 1.614e+02\n",
      "  model = cd_fast.enet_coordinate_descent(\n"
     ]
    },
    {
     "name": "stdout",
     "output_type": "stream",
     "text": [
      "[CV 4/5] END final_estimator__alpha=0.001, final_estimator__fit_intercept=False, final_estimator__l1_ratio=0.7, final_estimator__max_iter=2000, final_estimator__random_state=42, final_estimator__selection=cyclic, final_estimator__tol=0.0001;, score=-2.166 total time=  20.2s\n"
     ]
    },
    {
     "name": "stderr",
     "output_type": "stream",
     "text": [
      "c:\\Users\\User\\.conda\\envs\\energy\\Lib\\site-packages\\sklearn\\linear_model\\_coordinate_descent.py:697: ConvergenceWarning: Objective did not converge. You might want to increase the number of iterations, check the scale of the features or consider increasing regularisation. Duality gap: 1.806e+03, tolerance: 1.609e+02\n",
      "  model = cd_fast.enet_coordinate_descent(\n"
     ]
    },
    {
     "name": "stdout",
     "output_type": "stream",
     "text": [
      "[CV 5/5] END final_estimator__alpha=0.001, final_estimator__fit_intercept=False, final_estimator__l1_ratio=0.7, final_estimator__max_iter=2000, final_estimator__random_state=42, final_estimator__selection=cyclic, final_estimator__tol=0.0001;, score=-2.292 total time=  18.0s\n",
      "[CV 1/5] END final_estimator__alpha=0.001, final_estimator__fit_intercept=False, final_estimator__l1_ratio=0.7, final_estimator__max_iter=2000, final_estimator__random_state=42, final_estimator__selection=cyclic, final_estimator__tol=0.001;, score=-2.236 total time=  23.1s\n"
     ]
    },
    {
     "name": "stderr",
     "output_type": "stream",
     "text": [
      "c:\\Users\\User\\.conda\\envs\\energy\\Lib\\site-packages\\sklearn\\linear_model\\_coordinate_descent.py:697: ConvergenceWarning: Objective did not converge. You might want to increase the number of iterations, check the scale of the features or consider increasing regularisation. Duality gap: 2.796e+03, tolerance: 1.598e+03\n",
      "  model = cd_fast.enet_coordinate_descent(\n"
     ]
    },
    {
     "name": "stdout",
     "output_type": "stream",
     "text": [
      "[CV 2/5] END final_estimator__alpha=0.001, final_estimator__fit_intercept=False, final_estimator__l1_ratio=0.7, final_estimator__max_iter=2000, final_estimator__random_state=42, final_estimator__selection=cyclic, final_estimator__tol=0.001;, score=-2.336 total time=  21.7s\n"
     ]
    },
    {
     "name": "stderr",
     "output_type": "stream",
     "text": [
      "c:\\Users\\User\\.conda\\envs\\energy\\Lib\\site-packages\\sklearn\\linear_model\\_coordinate_descent.py:697: ConvergenceWarning: Objective did not converge. You might want to increase the number of iterations, check the scale of the features or consider increasing regularisation. Duality gap: 3.090e+03, tolerance: 1.608e+03\n",
      "  model = cd_fast.enet_coordinate_descent(\n"
     ]
    },
    {
     "name": "stdout",
     "output_type": "stream",
     "text": [
      "[CV 3/5] END final_estimator__alpha=0.001, final_estimator__fit_intercept=False, final_estimator__l1_ratio=0.7, final_estimator__max_iter=2000, final_estimator__random_state=42, final_estimator__selection=cyclic, final_estimator__tol=0.001;, score=-2.196 total time=  21.6s\n",
      "[CV 4/5] END final_estimator__alpha=0.001, final_estimator__fit_intercept=False, final_estimator__l1_ratio=0.7, final_estimator__max_iter=2000, final_estimator__random_state=42, final_estimator__selection=cyclic, final_estimator__tol=0.001;, score=-2.175 total time=  18.5s\n",
      "[CV 5/5] END final_estimator__alpha=0.001, final_estimator__fit_intercept=False, final_estimator__l1_ratio=0.7, final_estimator__max_iter=2000, final_estimator__random_state=42, final_estimator__selection=cyclic, final_estimator__tol=0.001;, score=-2.284 total time=  23.8s\n",
      "[CV 1/5] END final_estimator__alpha=0.001, final_estimator__fit_intercept=False, final_estimator__l1_ratio=0.7, final_estimator__max_iter=2000, final_estimator__random_state=42, final_estimator__selection=cyclic, final_estimator__tol=0.01;, score=-2.212 total time=  19.9s\n",
      "[CV 2/5] END final_estimator__alpha=0.001, final_estimator__fit_intercept=False, final_estimator__l1_ratio=0.7, final_estimator__max_iter=2000, final_estimator__random_state=42, final_estimator__selection=cyclic, final_estimator__tol=0.01;, score=-2.325 total time=  21.0s\n",
      "[CV 3/5] END final_estimator__alpha=0.001, final_estimator__fit_intercept=False, final_estimator__l1_ratio=0.7, final_estimator__max_iter=2000, final_estimator__random_state=42, final_estimator__selection=cyclic, final_estimator__tol=0.01;, score=-2.210 total time=  20.1s\n",
      "[CV 4/5] END final_estimator__alpha=0.001, final_estimator__fit_intercept=False, final_estimator__l1_ratio=0.7, final_estimator__max_iter=2000, final_estimator__random_state=42, final_estimator__selection=cyclic, final_estimator__tol=0.01;, score=-2.166 total time=  23.0s\n",
      "[CV 5/5] END final_estimator__alpha=0.001, final_estimator__fit_intercept=False, final_estimator__l1_ratio=0.7, final_estimator__max_iter=2000, final_estimator__random_state=42, final_estimator__selection=cyclic, final_estimator__tol=0.01;, score=-2.289 total time=  24.3s\n"
     ]
    },
    {
     "name": "stderr",
     "output_type": "stream",
     "text": [
      "c:\\Users\\User\\.conda\\envs\\energy\\Lib\\site-packages\\sklearn\\linear_model\\_coordinate_descent.py:697: ConvergenceWarning: Objective did not converge. You might want to increase the number of iterations, check the scale of the features or consider increasing regularisation. Duality gap: 2.545e+04, tolerance: 1.615e+02\n",
      "  model = cd_fast.enet_coordinate_descent(\n"
     ]
    },
    {
     "name": "stdout",
     "output_type": "stream",
     "text": [
      "[CV 1/5] END final_estimator__alpha=0.001, final_estimator__fit_intercept=False, final_estimator__l1_ratio=0.7, final_estimator__max_iter=2000, final_estimator__random_state=42, final_estimator__selection=random, final_estimator__tol=0.0001;, score=-2.183 total time=  26.9s\n"
     ]
    },
    {
     "name": "stderr",
     "output_type": "stream",
     "text": [
      "c:\\Users\\User\\.conda\\envs\\energy\\Lib\\site-packages\\sklearn\\linear_model\\_coordinate_descent.py:697: ConvergenceWarning: Objective did not converge. You might want to increase the number of iterations, check the scale of the features or consider increasing regularisation. Duality gap: 2.424e+04, tolerance: 1.598e+02\n",
      "  model = cd_fast.enet_coordinate_descent(\n"
     ]
    },
    {
     "name": "stdout",
     "output_type": "stream",
     "text": [
      "[CV 2/5] END final_estimator__alpha=0.001, final_estimator__fit_intercept=False, final_estimator__l1_ratio=0.7, final_estimator__max_iter=2000, final_estimator__random_state=42, final_estimator__selection=random, final_estimator__tol=0.0001;, score=-2.334 total time=  17.3s\n"
     ]
    },
    {
     "name": "stderr",
     "output_type": "stream",
     "text": [
      "c:\\Users\\User\\.conda\\envs\\energy\\Lib\\site-packages\\sklearn\\linear_model\\_coordinate_descent.py:697: ConvergenceWarning: Objective did not converge. You might want to increase the number of iterations, check the scale of the features or consider increasing regularisation. Duality gap: 2.401e+04, tolerance: 1.608e+02\n",
      "  model = cd_fast.enet_coordinate_descent(\n"
     ]
    },
    {
     "name": "stdout",
     "output_type": "stream",
     "text": [
      "[CV 3/5] END final_estimator__alpha=0.001, final_estimator__fit_intercept=False, final_estimator__l1_ratio=0.7, final_estimator__max_iter=2000, final_estimator__random_state=42, final_estimator__selection=random, final_estimator__tol=0.0001;, score=-2.191 total time=  17.6s\n"
     ]
    },
    {
     "name": "stderr",
     "output_type": "stream",
     "text": [
      "c:\\Users\\User\\.conda\\envs\\energy\\Lib\\site-packages\\sklearn\\linear_model\\_coordinate_descent.py:697: ConvergenceWarning: Objective did not converge. You might want to increase the number of iterations, check the scale of the features or consider increasing regularisation. Duality gap: 2.450e+04, tolerance: 1.614e+02\n",
      "  model = cd_fast.enet_coordinate_descent(\n"
     ]
    },
    {
     "name": "stdout",
     "output_type": "stream",
     "text": [
      "[CV 4/5] END final_estimator__alpha=0.001, final_estimator__fit_intercept=False, final_estimator__l1_ratio=0.7, final_estimator__max_iter=2000, final_estimator__random_state=42, final_estimator__selection=random, final_estimator__tol=0.0001;, score=-2.174 total time=  23.5s\n"
     ]
    },
    {
     "name": "stderr",
     "output_type": "stream",
     "text": [
      "c:\\Users\\User\\.conda\\envs\\energy\\Lib\\site-packages\\sklearn\\linear_model\\_coordinate_descent.py:697: ConvergenceWarning: Objective did not converge. You might want to increase the number of iterations, check the scale of the features or consider increasing regularisation. Duality gap: 2.359e+04, tolerance: 1.609e+02\n",
      "  model = cd_fast.enet_coordinate_descent(\n"
     ]
    },
    {
     "name": "stdout",
     "output_type": "stream",
     "text": [
      "[CV 5/5] END final_estimator__alpha=0.001, final_estimator__fit_intercept=False, final_estimator__l1_ratio=0.7, final_estimator__max_iter=2000, final_estimator__random_state=42, final_estimator__selection=random, final_estimator__tol=0.0001;, score=-2.287 total time=  22.0s\n"
     ]
    },
    {
     "name": "stderr",
     "output_type": "stream",
     "text": [
      "c:\\Users\\User\\.conda\\envs\\energy\\Lib\\site-packages\\sklearn\\linear_model\\_coordinate_descent.py:697: ConvergenceWarning: Objective did not converge. You might want to increase the number of iterations, check the scale of the features or consider increasing regularisation. Duality gap: 2.510e+04, tolerance: 1.615e+03\n",
      "  model = cd_fast.enet_coordinate_descent(\n"
     ]
    },
    {
     "name": "stdout",
     "output_type": "stream",
     "text": [
      "[CV 1/5] END final_estimator__alpha=0.001, final_estimator__fit_intercept=False, final_estimator__l1_ratio=0.7, final_estimator__max_iter=2000, final_estimator__random_state=42, final_estimator__selection=random, final_estimator__tol=0.001;, score=-2.183 total time=  21.5s\n"
     ]
    },
    {
     "name": "stderr",
     "output_type": "stream",
     "text": [
      "c:\\Users\\User\\.conda\\envs\\energy\\Lib\\site-packages\\sklearn\\linear_model\\_coordinate_descent.py:697: ConvergenceWarning: Objective did not converge. You might want to increase the number of iterations, check the scale of the features or consider increasing regularisation. Duality gap: 2.411e+04, tolerance: 1.598e+03\n",
      "  model = cd_fast.enet_coordinate_descent(\n"
     ]
    },
    {
     "name": "stdout",
     "output_type": "stream",
     "text": [
      "[CV 2/5] END final_estimator__alpha=0.001, final_estimator__fit_intercept=False, final_estimator__l1_ratio=0.7, final_estimator__max_iter=2000, final_estimator__random_state=42, final_estimator__selection=random, final_estimator__tol=0.001;, score=-2.345 total time=  21.0s\n"
     ]
    },
    {
     "name": "stderr",
     "output_type": "stream",
     "text": [
      "c:\\Users\\User\\.conda\\envs\\energy\\Lib\\site-packages\\sklearn\\linear_model\\_coordinate_descent.py:697: ConvergenceWarning: Objective did not converge. You might want to increase the number of iterations, check the scale of the features or consider increasing regularisation. Duality gap: 2.415e+04, tolerance: 1.608e+03\n",
      "  model = cd_fast.enet_coordinate_descent(\n"
     ]
    },
    {
     "name": "stdout",
     "output_type": "stream",
     "text": [
      "[CV 3/5] END final_estimator__alpha=0.001, final_estimator__fit_intercept=False, final_estimator__l1_ratio=0.7, final_estimator__max_iter=2000, final_estimator__random_state=42, final_estimator__selection=random, final_estimator__tol=0.001;, score=-2.191 total time=  23.5s\n"
     ]
    },
    {
     "name": "stderr",
     "output_type": "stream",
     "text": [
      "c:\\Users\\User\\.conda\\envs\\energy\\Lib\\site-packages\\sklearn\\linear_model\\_coordinate_descent.py:697: ConvergenceWarning: Objective did not converge. You might want to increase the number of iterations, check the scale of the features or consider increasing regularisation. Duality gap: 2.455e+04, tolerance: 1.614e+03\n",
      "  model = cd_fast.enet_coordinate_descent(\n"
     ]
    },
    {
     "name": "stdout",
     "output_type": "stream",
     "text": [
      "[CV 4/5] END final_estimator__alpha=0.001, final_estimator__fit_intercept=False, final_estimator__l1_ratio=0.7, final_estimator__max_iter=2000, final_estimator__random_state=42, final_estimator__selection=random, final_estimator__tol=0.001;, score=-2.157 total time=  17.9s\n"
     ]
    },
    {
     "name": "stderr",
     "output_type": "stream",
     "text": [
      "c:\\Users\\User\\.conda\\envs\\energy\\Lib\\site-packages\\sklearn\\linear_model\\_coordinate_descent.py:697: ConvergenceWarning: Objective did not converge. You might want to increase the number of iterations, check the scale of the features or consider increasing regularisation. Duality gap: 2.395e+04, tolerance: 1.609e+03\n",
      "  model = cd_fast.enet_coordinate_descent(\n"
     ]
    },
    {
     "name": "stdout",
     "output_type": "stream",
     "text": [
      "[CV 5/5] END final_estimator__alpha=0.001, final_estimator__fit_intercept=False, final_estimator__l1_ratio=0.7, final_estimator__max_iter=2000, final_estimator__random_state=42, final_estimator__selection=random, final_estimator__tol=0.001;, score=-2.289 total time=  17.8s\n"
     ]
    },
    {
     "name": "stderr",
     "output_type": "stream",
     "text": [
      "c:\\Users\\User\\.conda\\envs\\energy\\Lib\\site-packages\\sklearn\\linear_model\\_coordinate_descent.py:697: ConvergenceWarning: Objective did not converge. You might want to increase the number of iterations, check the scale of the features or consider increasing regularisation. Duality gap: 2.539e+04, tolerance: 1.615e+04\n",
      "  model = cd_fast.enet_coordinate_descent(\n"
     ]
    },
    {
     "name": "stdout",
     "output_type": "stream",
     "text": [
      "[CV 1/5] END final_estimator__alpha=0.001, final_estimator__fit_intercept=False, final_estimator__l1_ratio=0.7, final_estimator__max_iter=2000, final_estimator__random_state=42, final_estimator__selection=random, final_estimator__tol=0.01;, score=-2.210 total time=  22.4s\n"
     ]
    },
    {
     "name": "stderr",
     "output_type": "stream",
     "text": [
      "c:\\Users\\User\\.conda\\envs\\energy\\Lib\\site-packages\\sklearn\\linear_model\\_coordinate_descent.py:697: ConvergenceWarning: Objective did not converge. You might want to increase the number of iterations, check the scale of the features or consider increasing regularisation. Duality gap: 2.408e+04, tolerance: 1.598e+04\n",
      "  model = cd_fast.enet_coordinate_descent(\n"
     ]
    },
    {
     "name": "stdout",
     "output_type": "stream",
     "text": [
      "[CV 2/5] END final_estimator__alpha=0.001, final_estimator__fit_intercept=False, final_estimator__l1_ratio=0.7, final_estimator__max_iter=2000, final_estimator__random_state=42, final_estimator__selection=random, final_estimator__tol=0.01;, score=-2.333 total time=  20.1s\n"
     ]
    },
    {
     "name": "stderr",
     "output_type": "stream",
     "text": [
      "c:\\Users\\User\\.conda\\envs\\energy\\Lib\\site-packages\\sklearn\\linear_model\\_coordinate_descent.py:697: ConvergenceWarning: Objective did not converge. You might want to increase the number of iterations, check the scale of the features or consider increasing regularisation. Duality gap: 2.405e+04, tolerance: 1.608e+04\n",
      "  model = cd_fast.enet_coordinate_descent(\n"
     ]
    },
    {
     "name": "stdout",
     "output_type": "stream",
     "text": [
      "[CV 3/5] END final_estimator__alpha=0.001, final_estimator__fit_intercept=False, final_estimator__l1_ratio=0.7, final_estimator__max_iter=2000, final_estimator__random_state=42, final_estimator__selection=random, final_estimator__tol=0.01;, score=-2.194 total time=  19.7s\n"
     ]
    },
    {
     "name": "stderr",
     "output_type": "stream",
     "text": [
      "c:\\Users\\User\\.conda\\envs\\energy\\Lib\\site-packages\\sklearn\\linear_model\\_coordinate_descent.py:697: ConvergenceWarning: Objective did not converge. You might want to increase the number of iterations, check the scale of the features or consider increasing regularisation. Duality gap: 2.453e+04, tolerance: 1.614e+04\n",
      "  model = cd_fast.enet_coordinate_descent(\n"
     ]
    },
    {
     "name": "stdout",
     "output_type": "stream",
     "text": [
      "[CV 4/5] END final_estimator__alpha=0.001, final_estimator__fit_intercept=False, final_estimator__l1_ratio=0.7, final_estimator__max_iter=2000, final_estimator__random_state=42, final_estimator__selection=random, final_estimator__tol=0.01;, score=-2.164 total time=  20.1s\n"
     ]
    },
    {
     "name": "stderr",
     "output_type": "stream",
     "text": [
      "c:\\Users\\User\\.conda\\envs\\energy\\Lib\\site-packages\\sklearn\\linear_model\\_coordinate_descent.py:697: ConvergenceWarning: Objective did not converge. You might want to increase the number of iterations, check the scale of the features or consider increasing regularisation. Duality gap: 2.359e+04, tolerance: 1.609e+04\n",
      "  model = cd_fast.enet_coordinate_descent(\n"
     ]
    },
    {
     "name": "stdout",
     "output_type": "stream",
     "text": [
      "[CV 5/5] END final_estimator__alpha=0.001, final_estimator__fit_intercept=False, final_estimator__l1_ratio=0.7, final_estimator__max_iter=2000, final_estimator__random_state=42, final_estimator__selection=random, final_estimator__tol=0.01;, score=-2.285 total time=  19.9s\n"
     ]
    },
    {
     "name": "stderr",
     "output_type": "stream",
     "text": [
      "c:\\Users\\User\\.conda\\envs\\energy\\Lib\\site-packages\\sklearn\\linear_model\\_coordinate_descent.py:697: ConvergenceWarning: Objective did not converge. You might want to increase the number of iterations, check the scale of the features or consider increasing regularisation. Duality gap: 2.197e+04, tolerance: 1.615e+02\n",
      "  model = cd_fast.enet_coordinate_descent(\n"
     ]
    },
    {
     "name": "stdout",
     "output_type": "stream",
     "text": [
      "[CV 1/5] END final_estimator__alpha=0.001, final_estimator__fit_intercept=False, final_estimator__l1_ratio=0.9, final_estimator__max_iter=1000, final_estimator__random_state=42, final_estimator__selection=cyclic, final_estimator__tol=0.0001;, score=-2.199 total time=  22.6s\n"
     ]
    },
    {
     "name": "stderr",
     "output_type": "stream",
     "text": [
      "c:\\Users\\User\\.conda\\envs\\energy\\Lib\\site-packages\\sklearn\\linear_model\\_coordinate_descent.py:697: ConvergenceWarning: Objective did not converge. You might want to increase the number of iterations, check the scale of the features or consider increasing regularisation. Duality gap: 2.331e+04, tolerance: 1.598e+02\n",
      "  model = cd_fast.enet_coordinate_descent(\n"
     ]
    },
    {
     "name": "stdout",
     "output_type": "stream",
     "text": [
      "[CV 2/5] END final_estimator__alpha=0.001, final_estimator__fit_intercept=False, final_estimator__l1_ratio=0.9, final_estimator__max_iter=1000, final_estimator__random_state=42, final_estimator__selection=cyclic, final_estimator__tol=0.0001;, score=-2.333 total time=  19.0s\n"
     ]
    },
    {
     "name": "stderr",
     "output_type": "stream",
     "text": [
      "c:\\Users\\User\\.conda\\envs\\energy\\Lib\\site-packages\\sklearn\\linear_model\\_coordinate_descent.py:697: ConvergenceWarning: Objective did not converge. You might want to increase the number of iterations, check the scale of the features or consider increasing regularisation. Duality gap: 2.291e+04, tolerance: 1.608e+02\n",
      "  model = cd_fast.enet_coordinate_descent(\n"
     ]
    },
    {
     "name": "stdout",
     "output_type": "stream",
     "text": [
      "[CV 3/5] END final_estimator__alpha=0.001, final_estimator__fit_intercept=False, final_estimator__l1_ratio=0.9, final_estimator__max_iter=1000, final_estimator__random_state=42, final_estimator__selection=cyclic, final_estimator__tol=0.0001;, score=-2.225 total time=  26.1s\n"
     ]
    },
    {
     "name": "stderr",
     "output_type": "stream",
     "text": [
      "c:\\Users\\User\\.conda\\envs\\energy\\Lib\\site-packages\\sklearn\\linear_model\\_coordinate_descent.py:697: ConvergenceWarning: Objective did not converge. You might want to increase the number of iterations, check the scale of the features or consider increasing regularisation. Duality gap: 2.370e+04, tolerance: 1.614e+02\n",
      "  model = cd_fast.enet_coordinate_descent(\n"
     ]
    },
    {
     "name": "stdout",
     "output_type": "stream",
     "text": [
      "[CV 4/5] END final_estimator__alpha=0.001, final_estimator__fit_intercept=False, final_estimator__l1_ratio=0.9, final_estimator__max_iter=1000, final_estimator__random_state=42, final_estimator__selection=cyclic, final_estimator__tol=0.0001;, score=-2.163 total time=  26.1s\n"
     ]
    },
    {
     "name": "stderr",
     "output_type": "stream",
     "text": [
      "c:\\Users\\User\\.conda\\envs\\energy\\Lib\\site-packages\\sklearn\\linear_model\\_coordinate_descent.py:697: ConvergenceWarning: Objective did not converge. You might want to increase the number of iterations, check the scale of the features or consider increasing regularisation. Duality gap: 2.328e+04, tolerance: 1.609e+02\n",
      "  model = cd_fast.enet_coordinate_descent(\n"
     ]
    },
    {
     "name": "stdout",
     "output_type": "stream",
     "text": [
      "[CV 5/5] END final_estimator__alpha=0.001, final_estimator__fit_intercept=False, final_estimator__l1_ratio=0.9, final_estimator__max_iter=1000, final_estimator__random_state=42, final_estimator__selection=cyclic, final_estimator__tol=0.0001;, score=-2.294 total time=  19.4s\n"
     ]
    },
    {
     "name": "stderr",
     "output_type": "stream",
     "text": [
      "c:\\Users\\User\\.conda\\envs\\energy\\Lib\\site-packages\\sklearn\\linear_model\\_coordinate_descent.py:697: ConvergenceWarning: Objective did not converge. You might want to increase the number of iterations, check the scale of the features or consider increasing regularisation. Duality gap: 2.372e+04, tolerance: 1.615e+03\n",
      "  model = cd_fast.enet_coordinate_descent(\n"
     ]
    },
    {
     "name": "stdout",
     "output_type": "stream",
     "text": [
      "[CV 1/5] END final_estimator__alpha=0.001, final_estimator__fit_intercept=False, final_estimator__l1_ratio=0.9, final_estimator__max_iter=1000, final_estimator__random_state=42, final_estimator__selection=cyclic, final_estimator__tol=0.001;, score=-2.222 total time=  18.4s\n"
     ]
    },
    {
     "name": "stderr",
     "output_type": "stream",
     "text": [
      "c:\\Users\\User\\.conda\\envs\\energy\\Lib\\site-packages\\sklearn\\linear_model\\_coordinate_descent.py:697: ConvergenceWarning: Objective did not converge. You might want to increase the number of iterations, check the scale of the features or consider increasing regularisation. Duality gap: 2.194e+04, tolerance: 1.598e+03\n",
      "  model = cd_fast.enet_coordinate_descent(\n"
     ]
    },
    {
     "name": "stdout",
     "output_type": "stream",
     "text": [
      "[CV 2/5] END final_estimator__alpha=0.001, final_estimator__fit_intercept=False, final_estimator__l1_ratio=0.9, final_estimator__max_iter=1000, final_estimator__random_state=42, final_estimator__selection=cyclic, final_estimator__tol=0.001;, score=-2.331 total time=  17.2s\n"
     ]
    },
    {
     "name": "stderr",
     "output_type": "stream",
     "text": [
      "c:\\Users\\User\\.conda\\envs\\energy\\Lib\\site-packages\\sklearn\\linear_model\\_coordinate_descent.py:697: ConvergenceWarning: Objective did not converge. You might want to increase the number of iterations, check the scale of the features or consider increasing regularisation. Duality gap: 2.394e+04, tolerance: 1.608e+03\n",
      "  model = cd_fast.enet_coordinate_descent(\n"
     ]
    },
    {
     "name": "stdout",
     "output_type": "stream",
     "text": [
      "[CV 3/5] END final_estimator__alpha=0.001, final_estimator__fit_intercept=False, final_estimator__l1_ratio=0.9, final_estimator__max_iter=1000, final_estimator__random_state=42, final_estimator__selection=cyclic, final_estimator__tol=0.001;, score=-2.195 total time=  23.1s\n"
     ]
    },
    {
     "name": "stderr",
     "output_type": "stream",
     "text": [
      "c:\\Users\\User\\.conda\\envs\\energy\\Lib\\site-packages\\sklearn\\linear_model\\_coordinate_descent.py:697: ConvergenceWarning: Objective did not converge. You might want to increase the number of iterations, check the scale of the features or consider increasing regularisation. Duality gap: 2.386e+04, tolerance: 1.614e+03\n",
      "  model = cd_fast.enet_coordinate_descent(\n"
     ]
    },
    {
     "name": "stdout",
     "output_type": "stream",
     "text": [
      "[CV 4/5] END final_estimator__alpha=0.001, final_estimator__fit_intercept=False, final_estimator__l1_ratio=0.9, final_estimator__max_iter=1000, final_estimator__random_state=42, final_estimator__selection=cyclic, final_estimator__tol=0.001;, score=-2.156 total time=  23.8s\n"
     ]
    },
    {
     "name": "stderr",
     "output_type": "stream",
     "text": [
      "c:\\Users\\User\\.conda\\envs\\energy\\Lib\\site-packages\\sklearn\\linear_model\\_coordinate_descent.py:697: ConvergenceWarning: Objective did not converge. You might want to increase the number of iterations, check the scale of the features or consider increasing regularisation. Duality gap: 2.270e+04, tolerance: 1.609e+03\n",
      "  model = cd_fast.enet_coordinate_descent(\n"
     ]
    },
    {
     "name": "stdout",
     "output_type": "stream",
     "text": [
      "[CV 5/5] END final_estimator__alpha=0.001, final_estimator__fit_intercept=False, final_estimator__l1_ratio=0.9, final_estimator__max_iter=1000, final_estimator__random_state=42, final_estimator__selection=cyclic, final_estimator__tol=0.001;, score=-2.281 total time=  20.2s\n"
     ]
    },
    {
     "name": "stderr",
     "output_type": "stream",
     "text": [
      "c:\\Users\\User\\.conda\\envs\\energy\\Lib\\site-packages\\sklearn\\linear_model\\_coordinate_descent.py:697: ConvergenceWarning: Objective did not converge. You might want to increase the number of iterations, check the scale of the features or consider increasing regularisation. Duality gap: 2.417e+04, tolerance: 1.615e+04\n",
      "  model = cd_fast.enet_coordinate_descent(\n"
     ]
    },
    {
     "name": "stdout",
     "output_type": "stream",
     "text": [
      "[CV 1/5] END final_estimator__alpha=0.001, final_estimator__fit_intercept=False, final_estimator__l1_ratio=0.9, final_estimator__max_iter=1000, final_estimator__random_state=42, final_estimator__selection=cyclic, final_estimator__tol=0.01;, score=-2.203 total time=  17.7s\n"
     ]
    },
    {
     "name": "stderr",
     "output_type": "stream",
     "text": [
      "c:\\Users\\User\\.conda\\envs\\energy\\Lib\\site-packages\\sklearn\\linear_model\\_coordinate_descent.py:697: ConvergenceWarning: Objective did not converge. You might want to increase the number of iterations, check the scale of the features or consider increasing regularisation. Duality gap: 2.226e+04, tolerance: 1.598e+04\n",
      "  model = cd_fast.enet_coordinate_descent(\n"
     ]
    },
    {
     "name": "stdout",
     "output_type": "stream",
     "text": [
      "[CV 2/5] END final_estimator__alpha=0.001, final_estimator__fit_intercept=False, final_estimator__l1_ratio=0.9, final_estimator__max_iter=1000, final_estimator__random_state=42, final_estimator__selection=cyclic, final_estimator__tol=0.01;, score=-2.338 total time=  19.8s\n"
     ]
    },
    {
     "name": "stderr",
     "output_type": "stream",
     "text": [
      "c:\\Users\\User\\.conda\\envs\\energy\\Lib\\site-packages\\sklearn\\linear_model\\_coordinate_descent.py:697: ConvergenceWarning: Objective did not converge. You might want to increase the number of iterations, check the scale of the features or consider increasing regularisation. Duality gap: 2.292e+04, tolerance: 1.608e+04\n",
      "  model = cd_fast.enet_coordinate_descent(\n"
     ]
    },
    {
     "name": "stdout",
     "output_type": "stream",
     "text": [
      "[CV 3/5] END final_estimator__alpha=0.001, final_estimator__fit_intercept=False, final_estimator__l1_ratio=0.9, final_estimator__max_iter=1000, final_estimator__random_state=42, final_estimator__selection=cyclic, final_estimator__tol=0.01;, score=-2.199 total time=  20.1s\n"
     ]
    },
    {
     "name": "stderr",
     "output_type": "stream",
     "text": [
      "c:\\Users\\User\\.conda\\envs\\energy\\Lib\\site-packages\\sklearn\\linear_model\\_coordinate_descent.py:697: ConvergenceWarning: Objective did not converge. You might want to increase the number of iterations, check the scale of the features or consider increasing regularisation. Duality gap: 2.359e+04, tolerance: 1.614e+04\n",
      "  model = cd_fast.enet_coordinate_descent(\n"
     ]
    },
    {
     "name": "stdout",
     "output_type": "stream",
     "text": [
      "[CV 4/5] END final_estimator__alpha=0.001, final_estimator__fit_intercept=False, final_estimator__l1_ratio=0.9, final_estimator__max_iter=1000, final_estimator__random_state=42, final_estimator__selection=cyclic, final_estimator__tol=0.01;, score=-2.175 total time=  17.6s\n"
     ]
    },
    {
     "name": "stderr",
     "output_type": "stream",
     "text": [
      "c:\\Users\\User\\.conda\\envs\\energy\\Lib\\site-packages\\sklearn\\linear_model\\_coordinate_descent.py:697: ConvergenceWarning: Objective did not converge. You might want to increase the number of iterations, check the scale of the features or consider increasing regularisation. Duality gap: 2.206e+04, tolerance: 1.609e+04\n",
      "  model = cd_fast.enet_coordinate_descent(\n"
     ]
    },
    {
     "name": "stdout",
     "output_type": "stream",
     "text": [
      "[CV 5/5] END final_estimator__alpha=0.001, final_estimator__fit_intercept=False, final_estimator__l1_ratio=0.9, final_estimator__max_iter=1000, final_estimator__random_state=42, final_estimator__selection=cyclic, final_estimator__tol=0.01;, score=-2.299 total time=  20.0s\n"
     ]
    },
    {
     "name": "stderr",
     "output_type": "stream",
     "text": [
      "c:\\Users\\User\\.conda\\envs\\energy\\Lib\\site-packages\\sklearn\\linear_model\\_coordinate_descent.py:697: ConvergenceWarning: Objective did not converge. You might want to increase the number of iterations, check the scale of the features or consider increasing regularisation. Duality gap: 2.837e+04, tolerance: 1.615e+02\n",
      "  model = cd_fast.enet_coordinate_descent(\n"
     ]
    },
    {
     "name": "stdout",
     "output_type": "stream",
     "text": [
      "[CV 1/5] END final_estimator__alpha=0.001, final_estimator__fit_intercept=False, final_estimator__l1_ratio=0.9, final_estimator__max_iter=1000, final_estimator__random_state=42, final_estimator__selection=random, final_estimator__tol=0.0001;, score=-2.186 total time=  23.2s\n"
     ]
    },
    {
     "name": "stderr",
     "output_type": "stream",
     "text": [
      "c:\\Users\\User\\.conda\\envs\\energy\\Lib\\site-packages\\sklearn\\linear_model\\_coordinate_descent.py:697: ConvergenceWarning: Objective did not converge. You might want to increase the number of iterations, check the scale of the features or consider increasing regularisation. Duality gap: 2.707e+04, tolerance: 1.598e+02\n",
      "  model = cd_fast.enet_coordinate_descent(\n"
     ]
    },
    {
     "name": "stdout",
     "output_type": "stream",
     "text": [
      "[CV 2/5] END final_estimator__alpha=0.001, final_estimator__fit_intercept=False, final_estimator__l1_ratio=0.9, final_estimator__max_iter=1000, final_estimator__random_state=42, final_estimator__selection=random, final_estimator__tol=0.0001;, score=-2.309 total time=  20.3s\n"
     ]
    },
    {
     "name": "stderr",
     "output_type": "stream",
     "text": [
      "c:\\Users\\User\\.conda\\envs\\energy\\Lib\\site-packages\\sklearn\\linear_model\\_coordinate_descent.py:697: ConvergenceWarning: Objective did not converge. You might want to increase the number of iterations, check the scale of the features or consider increasing regularisation. Duality gap: 2.691e+04, tolerance: 1.608e+02\n",
      "  model = cd_fast.enet_coordinate_descent(\n"
     ]
    },
    {
     "name": "stdout",
     "output_type": "stream",
     "text": [
      "[CV 3/5] END final_estimator__alpha=0.001, final_estimator__fit_intercept=False, final_estimator__l1_ratio=0.9, final_estimator__max_iter=1000, final_estimator__random_state=42, final_estimator__selection=random, final_estimator__tol=0.0001;, score=-2.193 total time=  18.3s\n"
     ]
    },
    {
     "name": "stderr",
     "output_type": "stream",
     "text": [
      "c:\\Users\\User\\.conda\\envs\\energy\\Lib\\site-packages\\sklearn\\linear_model\\_coordinate_descent.py:697: ConvergenceWarning: Objective did not converge. You might want to increase the number of iterations, check the scale of the features or consider increasing regularisation. Duality gap: 2.764e+04, tolerance: 1.614e+02\n",
      "  model = cd_fast.enet_coordinate_descent(\n"
     ]
    },
    {
     "name": "stdout",
     "output_type": "stream",
     "text": [
      "[CV 4/5] END final_estimator__alpha=0.001, final_estimator__fit_intercept=False, final_estimator__l1_ratio=0.9, final_estimator__max_iter=1000, final_estimator__random_state=42, final_estimator__selection=random, final_estimator__tol=0.0001;, score=-2.167 total time=  19.2s\n"
     ]
    },
    {
     "name": "stderr",
     "output_type": "stream",
     "text": [
      "c:\\Users\\User\\.conda\\envs\\energy\\Lib\\site-packages\\sklearn\\linear_model\\_coordinate_descent.py:697: ConvergenceWarning: Objective did not converge. You might want to increase the number of iterations, check the scale of the features or consider increasing regularisation. Duality gap: 2.648e+04, tolerance: 1.609e+02\n",
      "  model = cd_fast.enet_coordinate_descent(\n"
     ]
    },
    {
     "name": "stdout",
     "output_type": "stream",
     "text": [
      "[CV 5/5] END final_estimator__alpha=0.001, final_estimator__fit_intercept=False, final_estimator__l1_ratio=0.9, final_estimator__max_iter=1000, final_estimator__random_state=42, final_estimator__selection=random, final_estimator__tol=0.0001;, score=-2.286 total time=  24.5s\n"
     ]
    },
    {
     "name": "stderr",
     "output_type": "stream",
     "text": [
      "c:\\Users\\User\\.conda\\envs\\energy\\Lib\\site-packages\\sklearn\\linear_model\\_coordinate_descent.py:697: ConvergenceWarning: Objective did not converge. You might want to increase the number of iterations, check the scale of the features or consider increasing regularisation. Duality gap: 2.821e+04, tolerance: 1.615e+03\n",
      "  model = cd_fast.enet_coordinate_descent(\n"
     ]
    },
    {
     "name": "stdout",
     "output_type": "stream",
     "text": [
      "[CV 1/5] END final_estimator__alpha=0.001, final_estimator__fit_intercept=False, final_estimator__l1_ratio=0.9, final_estimator__max_iter=1000, final_estimator__random_state=42, final_estimator__selection=random, final_estimator__tol=0.001;, score=-2.194 total time=  25.8s\n"
     ]
    },
    {
     "name": "stderr",
     "output_type": "stream",
     "text": [
      "c:\\Users\\User\\.conda\\envs\\energy\\Lib\\site-packages\\sklearn\\linear_model\\_coordinate_descent.py:697: ConvergenceWarning: Objective did not converge. You might want to increase the number of iterations, check the scale of the features or consider increasing regularisation. Duality gap: 2.712e+04, tolerance: 1.598e+03\n",
      "  model = cd_fast.enet_coordinate_descent(\n"
     ]
    },
    {
     "name": "stdout",
     "output_type": "stream",
     "text": [
      "[CV 2/5] END final_estimator__alpha=0.001, final_estimator__fit_intercept=False, final_estimator__l1_ratio=0.9, final_estimator__max_iter=1000, final_estimator__random_state=42, final_estimator__selection=random, final_estimator__tol=0.001;, score=-2.326 total time=  23.1s\n"
     ]
    },
    {
     "name": "stderr",
     "output_type": "stream",
     "text": [
      "c:\\Users\\User\\.conda\\envs\\energy\\Lib\\site-packages\\sklearn\\linear_model\\_coordinate_descent.py:697: ConvergenceWarning: Objective did not converge. You might want to increase the number of iterations, check the scale of the features or consider increasing regularisation. Duality gap: 2.681e+04, tolerance: 1.608e+03\n",
      "  model = cd_fast.enet_coordinate_descent(\n"
     ]
    },
    {
     "name": "stdout",
     "output_type": "stream",
     "text": [
      "[CV 3/5] END final_estimator__alpha=0.001, final_estimator__fit_intercept=False, final_estimator__l1_ratio=0.9, final_estimator__max_iter=1000, final_estimator__random_state=42, final_estimator__selection=random, final_estimator__tol=0.001;, score=-2.210 total time=  19.6s\n"
     ]
    },
    {
     "name": "stderr",
     "output_type": "stream",
     "text": [
      "c:\\Users\\User\\.conda\\envs\\energy\\Lib\\site-packages\\sklearn\\linear_model\\_coordinate_descent.py:697: ConvergenceWarning: Objective did not converge. You might want to increase the number of iterations, check the scale of the features or consider increasing regularisation. Duality gap: 2.757e+04, tolerance: 1.614e+03\n",
      "  model = cd_fast.enet_coordinate_descent(\n"
     ]
    },
    {
     "name": "stdout",
     "output_type": "stream",
     "text": [
      "[CV 4/5] END final_estimator__alpha=0.001, final_estimator__fit_intercept=False, final_estimator__l1_ratio=0.9, final_estimator__max_iter=1000, final_estimator__random_state=42, final_estimator__selection=random, final_estimator__tol=0.001;, score=-2.171 total time=  18.8s\n"
     ]
    },
    {
     "name": "stderr",
     "output_type": "stream",
     "text": [
      "c:\\Users\\User\\.conda\\envs\\energy\\Lib\\site-packages\\sklearn\\linear_model\\_coordinate_descent.py:697: ConvergenceWarning: Objective did not converge. You might want to increase the number of iterations, check the scale of the features or consider increasing regularisation. Duality gap: 2.642e+04, tolerance: 1.609e+03\n",
      "  model = cd_fast.enet_coordinate_descent(\n"
     ]
    },
    {
     "name": "stdout",
     "output_type": "stream",
     "text": [
      "[CV 5/5] END final_estimator__alpha=0.001, final_estimator__fit_intercept=False, final_estimator__l1_ratio=0.9, final_estimator__max_iter=1000, final_estimator__random_state=42, final_estimator__selection=random, final_estimator__tol=0.001;, score=-2.284 total time=  22.9s\n"
     ]
    },
    {
     "name": "stderr",
     "output_type": "stream",
     "text": [
      "c:\\Users\\User\\.conda\\envs\\energy\\Lib\\site-packages\\sklearn\\linear_model\\_coordinate_descent.py:697: ConvergenceWarning: Objective did not converge. You might want to increase the number of iterations, check the scale of the features or consider increasing regularisation. Duality gap: 2.832e+04, tolerance: 1.615e+04\n",
      "  model = cd_fast.enet_coordinate_descent(\n"
     ]
    },
    {
     "name": "stdout",
     "output_type": "stream",
     "text": [
      "[CV 1/5] END final_estimator__alpha=0.001, final_estimator__fit_intercept=False, final_estimator__l1_ratio=0.9, final_estimator__max_iter=1000, final_estimator__random_state=42, final_estimator__selection=random, final_estimator__tol=0.01;, score=-2.185 total time=  20.5s\n"
     ]
    },
    {
     "name": "stderr",
     "output_type": "stream",
     "text": [
      "c:\\Users\\User\\.conda\\envs\\energy\\Lib\\site-packages\\sklearn\\linear_model\\_coordinate_descent.py:697: ConvergenceWarning: Objective did not converge. You might want to increase the number of iterations, check the scale of the features or consider increasing regularisation. Duality gap: 2.700e+04, tolerance: 1.598e+04\n",
      "  model = cd_fast.enet_coordinate_descent(\n"
     ]
    },
    {
     "name": "stdout",
     "output_type": "stream",
     "text": [
      "[CV 2/5] END final_estimator__alpha=0.001, final_estimator__fit_intercept=False, final_estimator__l1_ratio=0.9, final_estimator__max_iter=1000, final_estimator__random_state=42, final_estimator__selection=random, final_estimator__tol=0.01;, score=-2.321 total time=  22.3s\n"
     ]
    },
    {
     "name": "stderr",
     "output_type": "stream",
     "text": [
      "c:\\Users\\User\\.conda\\envs\\energy\\Lib\\site-packages\\sklearn\\linear_model\\_coordinate_descent.py:697: ConvergenceWarning: Objective did not converge. You might want to increase the number of iterations, check the scale of the features or consider increasing regularisation. Duality gap: 2.677e+04, tolerance: 1.608e+04\n",
      "  model = cd_fast.enet_coordinate_descent(\n"
     ]
    },
    {
     "name": "stdout",
     "output_type": "stream",
     "text": [
      "[CV 3/5] END final_estimator__alpha=0.001, final_estimator__fit_intercept=False, final_estimator__l1_ratio=0.9, final_estimator__max_iter=1000, final_estimator__random_state=42, final_estimator__selection=random, final_estimator__tol=0.01;, score=-2.183 total time=  24.9s\n"
     ]
    },
    {
     "name": "stderr",
     "output_type": "stream",
     "text": [
      "c:\\Users\\User\\.conda\\envs\\energy\\Lib\\site-packages\\sklearn\\linear_model\\_coordinate_descent.py:697: ConvergenceWarning: Objective did not converge. You might want to increase the number of iterations, check the scale of the features or consider increasing regularisation. Duality gap: 2.755e+04, tolerance: 1.614e+04\n",
      "  model = cd_fast.enet_coordinate_descent(\n"
     ]
    },
    {
     "name": "stdout",
     "output_type": "stream",
     "text": [
      "[CV 4/5] END final_estimator__alpha=0.001, final_estimator__fit_intercept=False, final_estimator__l1_ratio=0.9, final_estimator__max_iter=1000, final_estimator__random_state=42, final_estimator__selection=random, final_estimator__tol=0.01;, score=-2.161 total time=  19.8s\n"
     ]
    },
    {
     "name": "stderr",
     "output_type": "stream",
     "text": [
      "c:\\Users\\User\\.conda\\envs\\energy\\Lib\\site-packages\\sklearn\\linear_model\\_coordinate_descent.py:697: ConvergenceWarning: Objective did not converge. You might want to increase the number of iterations, check the scale of the features or consider increasing regularisation. Duality gap: 2.654e+04, tolerance: 1.609e+04\n",
      "  model = cd_fast.enet_coordinate_descent(\n"
     ]
    },
    {
     "name": "stdout",
     "output_type": "stream",
     "text": [
      "[CV 5/5] END final_estimator__alpha=0.001, final_estimator__fit_intercept=False, final_estimator__l1_ratio=0.9, final_estimator__max_iter=1000, final_estimator__random_state=42, final_estimator__selection=random, final_estimator__tol=0.01;, score=-2.286 total time=  22.3s\n"
     ]
    },
    {
     "name": "stderr",
     "output_type": "stream",
     "text": [
      "c:\\Users\\User\\.conda\\envs\\energy\\Lib\\site-packages\\sklearn\\linear_model\\_coordinate_descent.py:697: ConvergenceWarning: Objective did not converge. You might want to increase the number of iterations, check the scale of the features or consider increasing regularisation. Duality gap: 8.720e+02, tolerance: 1.615e+02\n",
      "  model = cd_fast.enet_coordinate_descent(\n"
     ]
    },
    {
     "name": "stdout",
     "output_type": "stream",
     "text": [
      "[CV 1/5] END final_estimator__alpha=0.001, final_estimator__fit_intercept=False, final_estimator__l1_ratio=0.9, final_estimator__max_iter=2000, final_estimator__random_state=42, final_estimator__selection=cyclic, final_estimator__tol=0.0001;, score=-2.185 total time=  23.7s\n"
     ]
    },
    {
     "name": "stderr",
     "output_type": "stream",
     "text": [
      "c:\\Users\\User\\.conda\\envs\\energy\\Lib\\site-packages\\sklearn\\linear_model\\_coordinate_descent.py:697: ConvergenceWarning: Objective did not converge. You might want to increase the number of iterations, check the scale of the features or consider increasing regularisation. Duality gap: 1.658e+03, tolerance: 1.598e+02\n",
      "  model = cd_fast.enet_coordinate_descent(\n"
     ]
    },
    {
     "name": "stdout",
     "output_type": "stream",
     "text": [
      "[CV 2/5] END final_estimator__alpha=0.001, final_estimator__fit_intercept=False, final_estimator__l1_ratio=0.9, final_estimator__max_iter=2000, final_estimator__random_state=42, final_estimator__selection=cyclic, final_estimator__tol=0.0001;, score=-2.333 total time=  18.3s\n"
     ]
    },
    {
     "name": "stderr",
     "output_type": "stream",
     "text": [
      "c:\\Users\\User\\.conda\\envs\\energy\\Lib\\site-packages\\sklearn\\linear_model\\_coordinate_descent.py:697: ConvergenceWarning: Objective did not converge. You might want to increase the number of iterations, check the scale of the features or consider increasing regularisation. Duality gap: 2.843e+03, tolerance: 1.608e+02\n",
      "  model = cd_fast.enet_coordinate_descent(\n"
     ]
    },
    {
     "name": "stdout",
     "output_type": "stream",
     "text": [
      "[CV 3/5] END final_estimator__alpha=0.001, final_estimator__fit_intercept=False, final_estimator__l1_ratio=0.9, final_estimator__max_iter=2000, final_estimator__random_state=42, final_estimator__selection=cyclic, final_estimator__tol=0.0001;, score=-2.204 total time=  29.2s\n"
     ]
    },
    {
     "name": "stderr",
     "output_type": "stream",
     "text": [
      "c:\\Users\\User\\.conda\\envs\\energy\\Lib\\site-packages\\sklearn\\linear_model\\_coordinate_descent.py:697: ConvergenceWarning: Objective did not converge. You might want to increase the number of iterations, check the scale of the features or consider increasing regularisation. Duality gap: 9.349e+02, tolerance: 1.614e+02\n",
      "  model = cd_fast.enet_coordinate_descent(\n"
     ]
    },
    {
     "name": "stdout",
     "output_type": "stream",
     "text": [
      "[CV 4/5] END final_estimator__alpha=0.001, final_estimator__fit_intercept=False, final_estimator__l1_ratio=0.9, final_estimator__max_iter=2000, final_estimator__random_state=42, final_estimator__selection=cyclic, final_estimator__tol=0.0001;, score=-2.173 total time=  18.2s\n"
     ]
    },
    {
     "name": "stderr",
     "output_type": "stream",
     "text": [
      "c:\\Users\\User\\.conda\\envs\\energy\\Lib\\site-packages\\sklearn\\linear_model\\_coordinate_descent.py:697: ConvergenceWarning: Objective did not converge. You might want to increase the number of iterations, check the scale of the features or consider increasing regularisation. Duality gap: 1.217e+03, tolerance: 1.609e+02\n",
      "  model = cd_fast.enet_coordinate_descent(\n"
     ]
    },
    {
     "name": "stdout",
     "output_type": "stream",
     "text": [
      "[CV 5/5] END final_estimator__alpha=0.001, final_estimator__fit_intercept=False, final_estimator__l1_ratio=0.9, final_estimator__max_iter=2000, final_estimator__random_state=42, final_estimator__selection=cyclic, final_estimator__tol=0.0001;, score=-2.281 total time=  16.1s\n",
      "[CV 1/5] END final_estimator__alpha=0.001, final_estimator__fit_intercept=False, final_estimator__l1_ratio=0.9, final_estimator__max_iter=2000, final_estimator__random_state=42, final_estimator__selection=cyclic, final_estimator__tol=0.001;, score=-2.188 total time=  20.9s\n",
      "[CV 2/5] END final_estimator__alpha=0.001, final_estimator__fit_intercept=False, final_estimator__l1_ratio=0.9, final_estimator__max_iter=2000, final_estimator__random_state=42, final_estimator__selection=cyclic, final_estimator__tol=0.001;, score=-2.328 total time=  22.4s\n"
     ]
    },
    {
     "name": "stderr",
     "output_type": "stream",
     "text": [
      "c:\\Users\\User\\.conda\\envs\\energy\\Lib\\site-packages\\sklearn\\linear_model\\_coordinate_descent.py:697: ConvergenceWarning: Objective did not converge. You might want to increase the number of iterations, check the scale of the features or consider increasing regularisation. Duality gap: 3.021e+03, tolerance: 1.608e+03\n",
      "  model = cd_fast.enet_coordinate_descent(\n"
     ]
    },
    {
     "name": "stdout",
     "output_type": "stream",
     "text": [
      "[CV 3/5] END final_estimator__alpha=0.001, final_estimator__fit_intercept=False, final_estimator__l1_ratio=0.9, final_estimator__max_iter=2000, final_estimator__random_state=42, final_estimator__selection=cyclic, final_estimator__tol=0.001;, score=-2.202 total time=  19.1s\n",
      "[CV 4/5] END final_estimator__alpha=0.001, final_estimator__fit_intercept=False, final_estimator__l1_ratio=0.9, final_estimator__max_iter=2000, final_estimator__random_state=42, final_estimator__selection=cyclic, final_estimator__tol=0.001;, score=-2.164 total time=  15.3s\n",
      "[CV 5/5] END final_estimator__alpha=0.001, final_estimator__fit_intercept=False, final_estimator__l1_ratio=0.9, final_estimator__max_iter=2000, final_estimator__random_state=42, final_estimator__selection=cyclic, final_estimator__tol=0.001;, score=-2.294 total time=  24.1s\n",
      "[CV 1/5] END final_estimator__alpha=0.001, final_estimator__fit_intercept=False, final_estimator__l1_ratio=0.9, final_estimator__max_iter=2000, final_estimator__random_state=42, final_estimator__selection=cyclic, final_estimator__tol=0.01;, score=-2.211 total time=  22.1s\n",
      "[CV 2/5] END final_estimator__alpha=0.001, final_estimator__fit_intercept=False, final_estimator__l1_ratio=0.9, final_estimator__max_iter=2000, final_estimator__random_state=42, final_estimator__selection=cyclic, final_estimator__tol=0.01;, score=-2.348 total time=  18.0s\n",
      "[CV 3/5] END final_estimator__alpha=0.001, final_estimator__fit_intercept=False, final_estimator__l1_ratio=0.9, final_estimator__max_iter=2000, final_estimator__random_state=42, final_estimator__selection=cyclic, final_estimator__tol=0.01;, score=-2.181 total time=  16.0s\n",
      "[CV 4/5] END final_estimator__alpha=0.001, final_estimator__fit_intercept=False, final_estimator__l1_ratio=0.9, final_estimator__max_iter=2000, final_estimator__random_state=42, final_estimator__selection=cyclic, final_estimator__tol=0.01;, score=-2.161 total time=  19.5s\n",
      "[CV 5/5] END final_estimator__alpha=0.001, final_estimator__fit_intercept=False, final_estimator__l1_ratio=0.9, final_estimator__max_iter=2000, final_estimator__random_state=42, final_estimator__selection=cyclic, final_estimator__tol=0.01;, score=-2.278 total time=  20.8s\n"
     ]
    },
    {
     "name": "stderr",
     "output_type": "stream",
     "text": [
      "c:\\Users\\User\\.conda\\envs\\energy\\Lib\\site-packages\\sklearn\\linear_model\\_coordinate_descent.py:697: ConvergenceWarning: Objective did not converge. You might want to increase the number of iterations, check the scale of the features or consider increasing regularisation. Duality gap: 2.411e+04, tolerance: 1.615e+02\n",
      "  model = cd_fast.enet_coordinate_descent(\n"
     ]
    },
    {
     "name": "stdout",
     "output_type": "stream",
     "text": [
      "[CV 1/5] END final_estimator__alpha=0.001, final_estimator__fit_intercept=False, final_estimator__l1_ratio=0.9, final_estimator__max_iter=2000, final_estimator__random_state=42, final_estimator__selection=random, final_estimator__tol=0.0001;, score=-2.194 total time=  20.9s\n"
     ]
    },
    {
     "name": "stderr",
     "output_type": "stream",
     "text": [
      "c:\\Users\\User\\.conda\\envs\\energy\\Lib\\site-packages\\sklearn\\linear_model\\_coordinate_descent.py:697: ConvergenceWarning: Objective did not converge. You might want to increase the number of iterations, check the scale of the features or consider increasing regularisation. Duality gap: 2.296e+04, tolerance: 1.598e+02\n",
      "  model = cd_fast.enet_coordinate_descent(\n"
     ]
    },
    {
     "name": "stdout",
     "output_type": "stream",
     "text": [
      "[CV 2/5] END final_estimator__alpha=0.001, final_estimator__fit_intercept=False, final_estimator__l1_ratio=0.9, final_estimator__max_iter=2000, final_estimator__random_state=42, final_estimator__selection=random, final_estimator__tol=0.0001;, score=-2.341 total time=  21.5s\n"
     ]
    },
    {
     "name": "stderr",
     "output_type": "stream",
     "text": [
      "c:\\Users\\User\\.conda\\envs\\energy\\Lib\\site-packages\\sklearn\\linear_model\\_coordinate_descent.py:697: ConvergenceWarning: Objective did not converge. You might want to increase the number of iterations, check the scale of the features or consider increasing regularisation. Duality gap: 2.274e+04, tolerance: 1.608e+02\n",
      "  model = cd_fast.enet_coordinate_descent(\n"
     ]
    },
    {
     "name": "stdout",
     "output_type": "stream",
     "text": [
      "[CV 3/5] END final_estimator__alpha=0.001, final_estimator__fit_intercept=False, final_estimator__l1_ratio=0.9, final_estimator__max_iter=2000, final_estimator__random_state=42, final_estimator__selection=random, final_estimator__tol=0.0001;, score=-2.208 total time=  22.3s\n"
     ]
    },
    {
     "name": "stderr",
     "output_type": "stream",
     "text": [
      "c:\\Users\\User\\.conda\\envs\\energy\\Lib\\site-packages\\sklearn\\linear_model\\_coordinate_descent.py:697: ConvergenceWarning: Objective did not converge. You might want to increase the number of iterations, check the scale of the features or consider increasing regularisation. Duality gap: 2.317e+04, tolerance: 1.614e+02\n",
      "  model = cd_fast.enet_coordinate_descent(\n"
     ]
    },
    {
     "name": "stdout",
     "output_type": "stream",
     "text": [
      "[CV 4/5] END final_estimator__alpha=0.001, final_estimator__fit_intercept=False, final_estimator__l1_ratio=0.9, final_estimator__max_iter=2000, final_estimator__random_state=42, final_estimator__selection=random, final_estimator__tol=0.0001;, score=-2.155 total time=  24.3s\n"
     ]
    },
    {
     "name": "stderr",
     "output_type": "stream",
     "text": [
      "c:\\Users\\User\\.conda\\envs\\energy\\Lib\\site-packages\\sklearn\\linear_model\\_coordinate_descent.py:697: ConvergenceWarning: Objective did not converge. You might want to increase the number of iterations, check the scale of the features or consider increasing regularisation. Duality gap: 2.260e+04, tolerance: 1.609e+02\n",
      "  model = cd_fast.enet_coordinate_descent(\n"
     ]
    },
    {
     "name": "stdout",
     "output_type": "stream",
     "text": [
      "[CV 5/5] END final_estimator__alpha=0.001, final_estimator__fit_intercept=False, final_estimator__l1_ratio=0.9, final_estimator__max_iter=2000, final_estimator__random_state=42, final_estimator__selection=random, final_estimator__tol=0.0001;, score=-2.287 total time=  19.4s\n"
     ]
    },
    {
     "name": "stderr",
     "output_type": "stream",
     "text": [
      "c:\\Users\\User\\.conda\\envs\\energy\\Lib\\site-packages\\sklearn\\linear_model\\_coordinate_descent.py:697: ConvergenceWarning: Objective did not converge. You might want to increase the number of iterations, check the scale of the features or consider increasing regularisation. Duality gap: 2.364e+04, tolerance: 1.615e+03\n",
      "  model = cd_fast.enet_coordinate_descent(\n"
     ]
    },
    {
     "name": "stdout",
     "output_type": "stream",
     "text": [
      "[CV 1/5] END final_estimator__alpha=0.001, final_estimator__fit_intercept=False, final_estimator__l1_ratio=0.9, final_estimator__max_iter=2000, final_estimator__random_state=42, final_estimator__selection=random, final_estimator__tol=0.001;, score=-2.192 total time=  18.4s\n"
     ]
    },
    {
     "name": "stderr",
     "output_type": "stream",
     "text": [
      "c:\\Users\\User\\.conda\\envs\\energy\\Lib\\site-packages\\sklearn\\linear_model\\_coordinate_descent.py:697: ConvergenceWarning: Objective did not converge. You might want to increase the number of iterations, check the scale of the features or consider increasing regularisation. Duality gap: 2.326e+04, tolerance: 1.598e+03\n",
      "  model = cd_fast.enet_coordinate_descent(\n"
     ]
    },
    {
     "name": "stdout",
     "output_type": "stream",
     "text": [
      "[CV 2/5] END final_estimator__alpha=0.001, final_estimator__fit_intercept=False, final_estimator__l1_ratio=0.9, final_estimator__max_iter=2000, final_estimator__random_state=42, final_estimator__selection=random, final_estimator__tol=0.001;, score=-2.329 total time=  19.2s\n"
     ]
    },
    {
     "name": "stderr",
     "output_type": "stream",
     "text": [
      "c:\\Users\\User\\.conda\\envs\\energy\\Lib\\site-packages\\sklearn\\linear_model\\_coordinate_descent.py:697: ConvergenceWarning: Objective did not converge. You might want to increase the number of iterations, check the scale of the features or consider increasing regularisation. Duality gap: 2.286e+04, tolerance: 1.608e+03\n",
      "  model = cd_fast.enet_coordinate_descent(\n"
     ]
    },
    {
     "name": "stdout",
     "output_type": "stream",
     "text": [
      "[CV 3/5] END final_estimator__alpha=0.001, final_estimator__fit_intercept=False, final_estimator__l1_ratio=0.9, final_estimator__max_iter=2000, final_estimator__random_state=42, final_estimator__selection=random, final_estimator__tol=0.001;, score=-2.198 total time=  21.0s\n"
     ]
    },
    {
     "name": "stderr",
     "output_type": "stream",
     "text": [
      "c:\\Users\\User\\.conda\\envs\\energy\\Lib\\site-packages\\sklearn\\linear_model\\_coordinate_descent.py:697: ConvergenceWarning: Objective did not converge. You might want to increase the number of iterations, check the scale of the features or consider increasing regularisation. Duality gap: 2.351e+04, tolerance: 1.614e+03\n",
      "  model = cd_fast.enet_coordinate_descent(\n"
     ]
    },
    {
     "name": "stdout",
     "output_type": "stream",
     "text": [
      "[CV 4/5] END final_estimator__alpha=0.001, final_estimator__fit_intercept=False, final_estimator__l1_ratio=0.9, final_estimator__max_iter=2000, final_estimator__random_state=42, final_estimator__selection=random, final_estimator__tol=0.001;, score=-2.162 total time=  19.5s\n"
     ]
    },
    {
     "name": "stderr",
     "output_type": "stream",
     "text": [
      "c:\\Users\\User\\.conda\\envs\\energy\\Lib\\site-packages\\sklearn\\linear_model\\_coordinate_descent.py:697: ConvergenceWarning: Objective did not converge. You might want to increase the number of iterations, check the scale of the features or consider increasing regularisation. Duality gap: 2.263e+04, tolerance: 1.609e+03\n",
      "  model = cd_fast.enet_coordinate_descent(\n"
     ]
    },
    {
     "name": "stdout",
     "output_type": "stream",
     "text": [
      "[CV 5/5] END final_estimator__alpha=0.001, final_estimator__fit_intercept=False, final_estimator__l1_ratio=0.9, final_estimator__max_iter=2000, final_estimator__random_state=42, final_estimator__selection=random, final_estimator__tol=0.001;, score=-2.285 total time=  18.5s\n"
     ]
    },
    {
     "name": "stderr",
     "output_type": "stream",
     "text": [
      "c:\\Users\\User\\.conda\\envs\\energy\\Lib\\site-packages\\sklearn\\linear_model\\_coordinate_descent.py:697: ConvergenceWarning: Objective did not converge. You might want to increase the number of iterations, check the scale of the features or consider increasing regularisation. Duality gap: 2.395e+04, tolerance: 1.615e+04\n",
      "  model = cd_fast.enet_coordinate_descent(\n"
     ]
    },
    {
     "name": "stdout",
     "output_type": "stream",
     "text": [
      "[CV 1/5] END final_estimator__alpha=0.001, final_estimator__fit_intercept=False, final_estimator__l1_ratio=0.9, final_estimator__max_iter=2000, final_estimator__random_state=42, final_estimator__selection=random, final_estimator__tol=0.01;, score=-2.166 total time=  25.0s\n"
     ]
    },
    {
     "name": "stderr",
     "output_type": "stream",
     "text": [
      "c:\\Users\\User\\.conda\\envs\\energy\\Lib\\site-packages\\sklearn\\linear_model\\_coordinate_descent.py:697: ConvergenceWarning: Objective did not converge. You might want to increase the number of iterations, check the scale of the features or consider increasing regularisation. Duality gap: 2.326e+04, tolerance: 1.598e+04\n",
      "  model = cd_fast.enet_coordinate_descent(\n"
     ]
    },
    {
     "name": "stdout",
     "output_type": "stream",
     "text": [
      "[CV 2/5] END final_estimator__alpha=0.001, final_estimator__fit_intercept=False, final_estimator__l1_ratio=0.9, final_estimator__max_iter=2000, final_estimator__random_state=42, final_estimator__selection=random, final_estimator__tol=0.01;, score=-2.349 total time=  20.4s\n"
     ]
    },
    {
     "name": "stderr",
     "output_type": "stream",
     "text": [
      "c:\\Users\\User\\.conda\\envs\\energy\\Lib\\site-packages\\sklearn\\linear_model\\_coordinate_descent.py:697: ConvergenceWarning: Objective did not converge. You might want to increase the number of iterations, check the scale of the features or consider increasing regularisation. Duality gap: 2.312e+04, tolerance: 1.608e+04\n",
      "  model = cd_fast.enet_coordinate_descent(\n"
     ]
    },
    {
     "name": "stdout",
     "output_type": "stream",
     "text": [
      "[CV 3/5] END final_estimator__alpha=0.001, final_estimator__fit_intercept=False, final_estimator__l1_ratio=0.9, final_estimator__max_iter=2000, final_estimator__random_state=42, final_estimator__selection=random, final_estimator__tol=0.01;, score=-2.191 total time=  19.9s\n"
     ]
    },
    {
     "name": "stderr",
     "output_type": "stream",
     "text": [
      "c:\\Users\\User\\.conda\\envs\\energy\\Lib\\site-packages\\sklearn\\linear_model\\_coordinate_descent.py:697: ConvergenceWarning: Objective did not converge. You might want to increase the number of iterations, check the scale of the features or consider increasing regularisation. Duality gap: 2.306e+04, tolerance: 1.614e+04\n",
      "  model = cd_fast.enet_coordinate_descent(\n"
     ]
    },
    {
     "name": "stdout",
     "output_type": "stream",
     "text": [
      "[CV 4/5] END final_estimator__alpha=0.001, final_estimator__fit_intercept=False, final_estimator__l1_ratio=0.9, final_estimator__max_iter=2000, final_estimator__random_state=42, final_estimator__selection=random, final_estimator__tol=0.01;, score=-2.164 total time=  17.8s\n"
     ]
    },
    {
     "name": "stderr",
     "output_type": "stream",
     "text": [
      "c:\\Users\\User\\.conda\\envs\\energy\\Lib\\site-packages\\sklearn\\linear_model\\_coordinate_descent.py:697: ConvergenceWarning: Objective did not converge. You might want to increase the number of iterations, check the scale of the features or consider increasing regularisation. Duality gap: 2.235e+04, tolerance: 1.609e+04\n",
      "  model = cd_fast.enet_coordinate_descent(\n"
     ]
    },
    {
     "name": "stdout",
     "output_type": "stream",
     "text": [
      "[CV 5/5] END final_estimator__alpha=0.001, final_estimator__fit_intercept=False, final_estimator__l1_ratio=0.9, final_estimator__max_iter=2000, final_estimator__random_state=42, final_estimator__selection=random, final_estimator__tol=0.01;, score=-2.288 total time=  16.2s\n",
      "[CV 1/5] END final_estimator__alpha=0.01, final_estimator__fit_intercept=True, final_estimator__l1_ratio=0.1, final_estimator__max_iter=1000, final_estimator__random_state=42, final_estimator__selection=cyclic, final_estimator__tol=0.0001;, score=-2.178 total time=  19.1s\n",
      "[CV 2/5] END final_estimator__alpha=0.01, final_estimator__fit_intercept=True, final_estimator__l1_ratio=0.1, final_estimator__max_iter=1000, final_estimator__random_state=42, final_estimator__selection=cyclic, final_estimator__tol=0.0001;, score=-2.323 total time=  21.5s\n",
      "[CV 3/5] END final_estimator__alpha=0.01, final_estimator__fit_intercept=True, final_estimator__l1_ratio=0.1, final_estimator__max_iter=1000, final_estimator__random_state=42, final_estimator__selection=cyclic, final_estimator__tol=0.0001;, score=-2.191 total time=  17.1s\n",
      "[CV 4/5] END final_estimator__alpha=0.01, final_estimator__fit_intercept=True, final_estimator__l1_ratio=0.1, final_estimator__max_iter=1000, final_estimator__random_state=42, final_estimator__selection=cyclic, final_estimator__tol=0.0001;, score=-2.150 total time=  17.3s\n",
      "[CV 5/5] END final_estimator__alpha=0.01, final_estimator__fit_intercept=True, final_estimator__l1_ratio=0.1, final_estimator__max_iter=1000, final_estimator__random_state=42, final_estimator__selection=cyclic, final_estimator__tol=0.0001;, score=-2.283 total time=  20.0s\n",
      "[CV 1/5] END final_estimator__alpha=0.01, final_estimator__fit_intercept=True, final_estimator__l1_ratio=0.1, final_estimator__max_iter=1000, final_estimator__random_state=42, final_estimator__selection=cyclic, final_estimator__tol=0.001;, score=-2.193 total time=  19.8s\n",
      "[CV 2/5] END final_estimator__alpha=0.01, final_estimator__fit_intercept=True, final_estimator__l1_ratio=0.1, final_estimator__max_iter=1000, final_estimator__random_state=42, final_estimator__selection=cyclic, final_estimator__tol=0.001;, score=-2.330 total time=  21.1s\n",
      "[CV 3/5] END final_estimator__alpha=0.01, final_estimator__fit_intercept=True, final_estimator__l1_ratio=0.1, final_estimator__max_iter=1000, final_estimator__random_state=42, final_estimator__selection=cyclic, final_estimator__tol=0.001;, score=-2.223 total time=  15.6s\n",
      "[CV 4/5] END final_estimator__alpha=0.01, final_estimator__fit_intercept=True, final_estimator__l1_ratio=0.1, final_estimator__max_iter=1000, final_estimator__random_state=42, final_estimator__selection=cyclic, final_estimator__tol=0.001;, score=-2.161 total time=  21.0s\n",
      "[CV 5/5] END final_estimator__alpha=0.01, final_estimator__fit_intercept=True, final_estimator__l1_ratio=0.1, final_estimator__max_iter=1000, final_estimator__random_state=42, final_estimator__selection=cyclic, final_estimator__tol=0.001;, score=-2.282 total time=  17.0s\n",
      "[CV 1/5] END final_estimator__alpha=0.01, final_estimator__fit_intercept=True, final_estimator__l1_ratio=0.1, final_estimator__max_iter=1000, final_estimator__random_state=42, final_estimator__selection=cyclic, final_estimator__tol=0.01;, score=-2.185 total time=  17.1s\n",
      "[CV 2/5] END final_estimator__alpha=0.01, final_estimator__fit_intercept=True, final_estimator__l1_ratio=0.1, final_estimator__max_iter=1000, final_estimator__random_state=42, final_estimator__selection=cyclic, final_estimator__tol=0.01;, score=-2.345 total time=  18.2s\n",
      "[CV 3/5] END final_estimator__alpha=0.01, final_estimator__fit_intercept=True, final_estimator__l1_ratio=0.1, final_estimator__max_iter=1000, final_estimator__random_state=42, final_estimator__selection=cyclic, final_estimator__tol=0.01;, score=-2.191 total time=  14.2s\n",
      "[CV 4/5] END final_estimator__alpha=0.01, final_estimator__fit_intercept=True, final_estimator__l1_ratio=0.1, final_estimator__max_iter=1000, final_estimator__random_state=42, final_estimator__selection=cyclic, final_estimator__tol=0.01;, score=-2.170 total time=  19.2s\n",
      "[CV 5/5] END final_estimator__alpha=0.01, final_estimator__fit_intercept=True, final_estimator__l1_ratio=0.1, final_estimator__max_iter=1000, final_estimator__random_state=42, final_estimator__selection=cyclic, final_estimator__tol=0.01;, score=-2.308 total time=  17.4s\n",
      "[CV 1/5] END final_estimator__alpha=0.01, final_estimator__fit_intercept=True, final_estimator__l1_ratio=0.1, final_estimator__max_iter=1000, final_estimator__random_state=42, final_estimator__selection=random, final_estimator__tol=0.0001;, score=-2.178 total time=  22.8s\n",
      "[CV 2/5] END final_estimator__alpha=0.01, final_estimator__fit_intercept=True, final_estimator__l1_ratio=0.1, final_estimator__max_iter=1000, final_estimator__random_state=42, final_estimator__selection=random, final_estimator__tol=0.0001;, score=-2.324 total time=  17.3s\n",
      "[CV 3/5] END final_estimator__alpha=0.01, final_estimator__fit_intercept=True, final_estimator__l1_ratio=0.1, final_estimator__max_iter=1000, final_estimator__random_state=42, final_estimator__selection=random, final_estimator__tol=0.0001;, score=-2.200 total time=  22.8s\n",
      "[CV 4/5] END final_estimator__alpha=0.01, final_estimator__fit_intercept=True, final_estimator__l1_ratio=0.1, final_estimator__max_iter=1000, final_estimator__random_state=42, final_estimator__selection=random, final_estimator__tol=0.0001;, score=-2.164 total time=  21.2s\n",
      "[CV 5/5] END final_estimator__alpha=0.01, final_estimator__fit_intercept=True, final_estimator__l1_ratio=0.1, final_estimator__max_iter=1000, final_estimator__random_state=42, final_estimator__selection=random, final_estimator__tol=0.0001;, score=-2.293 total time=  20.6s\n",
      "[CV 1/5] END final_estimator__alpha=0.01, final_estimator__fit_intercept=True, final_estimator__l1_ratio=0.1, final_estimator__max_iter=1000, final_estimator__random_state=42, final_estimator__selection=random, final_estimator__tol=0.001;, score=-2.184 total time=  19.8s\n",
      "[CV 2/5] END final_estimator__alpha=0.01, final_estimator__fit_intercept=True, final_estimator__l1_ratio=0.1, final_estimator__max_iter=1000, final_estimator__random_state=42, final_estimator__selection=random, final_estimator__tol=0.001;, score=-2.332 total time=  19.1s\n",
      "[CV 3/5] END final_estimator__alpha=0.01, final_estimator__fit_intercept=True, final_estimator__l1_ratio=0.1, final_estimator__max_iter=1000, final_estimator__random_state=42, final_estimator__selection=random, final_estimator__tol=0.001;, score=-2.210 total time=  16.4s\n",
      "[CV 4/5] END final_estimator__alpha=0.01, final_estimator__fit_intercept=True, final_estimator__l1_ratio=0.1, final_estimator__max_iter=1000, final_estimator__random_state=42, final_estimator__selection=random, final_estimator__tol=0.001;, score=-2.162 total time=  20.8s\n",
      "[CV 5/5] END final_estimator__alpha=0.01, final_estimator__fit_intercept=True, final_estimator__l1_ratio=0.1, final_estimator__max_iter=1000, final_estimator__random_state=42, final_estimator__selection=random, final_estimator__tol=0.001;, score=-2.281 total time=  15.9s\n",
      "[CV 1/5] END final_estimator__alpha=0.01, final_estimator__fit_intercept=True, final_estimator__l1_ratio=0.1, final_estimator__max_iter=1000, final_estimator__random_state=42, final_estimator__selection=random, final_estimator__tol=0.01;, score=-2.201 total time=  20.0s\n",
      "[CV 2/5] END final_estimator__alpha=0.01, final_estimator__fit_intercept=True, final_estimator__l1_ratio=0.1, final_estimator__max_iter=1000, final_estimator__random_state=42, final_estimator__selection=random, final_estimator__tol=0.01;, score=-2.322 total time=  17.7s\n",
      "[CV 3/5] END final_estimator__alpha=0.01, final_estimator__fit_intercept=True, final_estimator__l1_ratio=0.1, final_estimator__max_iter=1000, final_estimator__random_state=42, final_estimator__selection=random, final_estimator__tol=0.01;, score=-2.205 total time=  18.7s\n",
      "[CV 4/5] END final_estimator__alpha=0.01, final_estimator__fit_intercept=True, final_estimator__l1_ratio=0.1, final_estimator__max_iter=1000, final_estimator__random_state=42, final_estimator__selection=random, final_estimator__tol=0.01;, score=-2.167 total time=  17.3s\n",
      "[CV 5/5] END final_estimator__alpha=0.01, final_estimator__fit_intercept=True, final_estimator__l1_ratio=0.1, final_estimator__max_iter=1000, final_estimator__random_state=42, final_estimator__selection=random, final_estimator__tol=0.01;, score=-2.295 total time=  19.2s\n",
      "[CV 1/5] END final_estimator__alpha=0.01, final_estimator__fit_intercept=True, final_estimator__l1_ratio=0.1, final_estimator__max_iter=2000, final_estimator__random_state=42, final_estimator__selection=cyclic, final_estimator__tol=0.0001;, score=-2.184 total time=  15.8s\n",
      "[CV 2/5] END final_estimator__alpha=0.01, final_estimator__fit_intercept=True, final_estimator__l1_ratio=0.1, final_estimator__max_iter=2000, final_estimator__random_state=42, final_estimator__selection=cyclic, final_estimator__tol=0.0001;, score=-2.329 total time=  18.9s\n",
      "[CV 3/5] END final_estimator__alpha=0.01, final_estimator__fit_intercept=True, final_estimator__l1_ratio=0.1, final_estimator__max_iter=2000, final_estimator__random_state=42, final_estimator__selection=cyclic, final_estimator__tol=0.0001;, score=-2.207 total time=  17.3s\n",
      "[CV 4/5] END final_estimator__alpha=0.01, final_estimator__fit_intercept=True, final_estimator__l1_ratio=0.1, final_estimator__max_iter=2000, final_estimator__random_state=42, final_estimator__selection=cyclic, final_estimator__tol=0.0001;, score=-2.169 total time=  20.6s\n",
      "[CV 5/5] END final_estimator__alpha=0.01, final_estimator__fit_intercept=True, final_estimator__l1_ratio=0.1, final_estimator__max_iter=2000, final_estimator__random_state=42, final_estimator__selection=cyclic, final_estimator__tol=0.0001;, score=-2.291 total time=  16.5s\n",
      "[CV 1/5] END final_estimator__alpha=0.01, final_estimator__fit_intercept=True, final_estimator__l1_ratio=0.1, final_estimator__max_iter=2000, final_estimator__random_state=42, final_estimator__selection=cyclic, final_estimator__tol=0.001;, score=-2.195 total time=  22.7s\n",
      "[CV 2/5] END final_estimator__alpha=0.01, final_estimator__fit_intercept=True, final_estimator__l1_ratio=0.1, final_estimator__max_iter=2000, final_estimator__random_state=42, final_estimator__selection=cyclic, final_estimator__tol=0.001;, score=-2.331 total time=  17.3s\n",
      "[CV 3/5] END final_estimator__alpha=0.01, final_estimator__fit_intercept=True, final_estimator__l1_ratio=0.1, final_estimator__max_iter=2000, final_estimator__random_state=42, final_estimator__selection=cyclic, final_estimator__tol=0.001;, score=-2.195 total time=  18.5s\n",
      "[CV 4/5] END final_estimator__alpha=0.01, final_estimator__fit_intercept=True, final_estimator__l1_ratio=0.1, final_estimator__max_iter=2000, final_estimator__random_state=42, final_estimator__selection=cyclic, final_estimator__tol=0.001;, score=-2.173 total time=  17.4s\n",
      "[CV 5/5] END final_estimator__alpha=0.01, final_estimator__fit_intercept=True, final_estimator__l1_ratio=0.1, final_estimator__max_iter=2000, final_estimator__random_state=42, final_estimator__selection=cyclic, final_estimator__tol=0.001;, score=-2.292 total time=  21.1s\n",
      "[CV 1/5] END final_estimator__alpha=0.01, final_estimator__fit_intercept=True, final_estimator__l1_ratio=0.1, final_estimator__max_iter=2000, final_estimator__random_state=42, final_estimator__selection=cyclic, final_estimator__tol=0.01;, score=-2.184 total time=  20.0s\n",
      "[CV 2/5] END final_estimator__alpha=0.01, final_estimator__fit_intercept=True, final_estimator__l1_ratio=0.1, final_estimator__max_iter=2000, final_estimator__random_state=42, final_estimator__selection=cyclic, final_estimator__tol=0.01;, score=-2.349 total time=  20.9s\n",
      "[CV 3/5] END final_estimator__alpha=0.01, final_estimator__fit_intercept=True, final_estimator__l1_ratio=0.1, final_estimator__max_iter=2000, final_estimator__random_state=42, final_estimator__selection=cyclic, final_estimator__tol=0.01;, score=-2.191 total time=  17.4s\n",
      "[CV 4/5] END final_estimator__alpha=0.01, final_estimator__fit_intercept=True, final_estimator__l1_ratio=0.1, final_estimator__max_iter=2000, final_estimator__random_state=42, final_estimator__selection=cyclic, final_estimator__tol=0.01;, score=-2.168 total time=  20.3s\n",
      "[CV 5/5] END final_estimator__alpha=0.01, final_estimator__fit_intercept=True, final_estimator__l1_ratio=0.1, final_estimator__max_iter=2000, final_estimator__random_state=42, final_estimator__selection=cyclic, final_estimator__tol=0.01;, score=-2.290 total time=  17.6s\n",
      "[CV 1/5] END final_estimator__alpha=0.01, final_estimator__fit_intercept=True, final_estimator__l1_ratio=0.1, final_estimator__max_iter=2000, final_estimator__random_state=42, final_estimator__selection=random, final_estimator__tol=0.0001;, score=-2.204 total time=  17.2s\n",
      "[CV 2/5] END final_estimator__alpha=0.01, final_estimator__fit_intercept=True, final_estimator__l1_ratio=0.1, final_estimator__max_iter=2000, final_estimator__random_state=42, final_estimator__selection=random, final_estimator__tol=0.0001;, score=-2.321 total time=  22.3s\n",
      "[CV 3/5] END final_estimator__alpha=0.01, final_estimator__fit_intercept=True, final_estimator__l1_ratio=0.1, final_estimator__max_iter=2000, final_estimator__random_state=42, final_estimator__selection=random, final_estimator__tol=0.0001;, score=-2.183 total time=  18.2s\n",
      "[CV 4/5] END final_estimator__alpha=0.01, final_estimator__fit_intercept=True, final_estimator__l1_ratio=0.1, final_estimator__max_iter=2000, final_estimator__random_state=42, final_estimator__selection=random, final_estimator__tol=0.0001;, score=-2.154 total time=  19.8s\n",
      "[CV 5/5] END final_estimator__alpha=0.01, final_estimator__fit_intercept=True, final_estimator__l1_ratio=0.1, final_estimator__max_iter=2000, final_estimator__random_state=42, final_estimator__selection=random, final_estimator__tol=0.0001;, score=-2.289 total time=  20.2s\n",
      "[CV 1/5] END final_estimator__alpha=0.01, final_estimator__fit_intercept=True, final_estimator__l1_ratio=0.1, final_estimator__max_iter=2000, final_estimator__random_state=42, final_estimator__selection=random, final_estimator__tol=0.001;, score=-2.177 total time=  19.7s\n",
      "[CV 2/5] END final_estimator__alpha=0.01, final_estimator__fit_intercept=True, final_estimator__l1_ratio=0.1, final_estimator__max_iter=2000, final_estimator__random_state=42, final_estimator__selection=random, final_estimator__tol=0.001;, score=-2.334 total time=  17.9s\n",
      "[CV 3/5] END final_estimator__alpha=0.01, final_estimator__fit_intercept=True, final_estimator__l1_ratio=0.1, final_estimator__max_iter=2000, final_estimator__random_state=42, final_estimator__selection=random, final_estimator__tol=0.001;, score=-2.200 total time=  20.9s\n",
      "[CV 4/5] END final_estimator__alpha=0.01, final_estimator__fit_intercept=True, final_estimator__l1_ratio=0.1, final_estimator__max_iter=2000, final_estimator__random_state=42, final_estimator__selection=random, final_estimator__tol=0.001;, score=-2.164 total time=  18.2s\n",
      "[CV 5/5] END final_estimator__alpha=0.01, final_estimator__fit_intercept=True, final_estimator__l1_ratio=0.1, final_estimator__max_iter=2000, final_estimator__random_state=42, final_estimator__selection=random, final_estimator__tol=0.001;, score=-2.297 total time=  20.2s\n",
      "[CV 1/5] END final_estimator__alpha=0.01, final_estimator__fit_intercept=True, final_estimator__l1_ratio=0.1, final_estimator__max_iter=2000, final_estimator__random_state=42, final_estimator__selection=random, final_estimator__tol=0.01;, score=-2.175 total time=  21.0s\n",
      "[CV 2/5] END final_estimator__alpha=0.01, final_estimator__fit_intercept=True, final_estimator__l1_ratio=0.1, final_estimator__max_iter=2000, final_estimator__random_state=42, final_estimator__selection=random, final_estimator__tol=0.01;, score=-2.327 total time=  21.9s\n",
      "[CV 3/5] END final_estimator__alpha=0.01, final_estimator__fit_intercept=True, final_estimator__l1_ratio=0.1, final_estimator__max_iter=2000, final_estimator__random_state=42, final_estimator__selection=random, final_estimator__tol=0.01;, score=-2.194 total time=  18.7s\n",
      "[CV 4/5] END final_estimator__alpha=0.01, final_estimator__fit_intercept=True, final_estimator__l1_ratio=0.1, final_estimator__max_iter=2000, final_estimator__random_state=42, final_estimator__selection=random, final_estimator__tol=0.01;, score=-2.167 total time=  21.4s\n",
      "[CV 5/5] END final_estimator__alpha=0.01, final_estimator__fit_intercept=True, final_estimator__l1_ratio=0.1, final_estimator__max_iter=2000, final_estimator__random_state=42, final_estimator__selection=random, final_estimator__tol=0.01;, score=-2.302 total time=  21.5s\n",
      "[CV 1/5] END final_estimator__alpha=0.01, final_estimator__fit_intercept=True, final_estimator__l1_ratio=0.3, final_estimator__max_iter=1000, final_estimator__random_state=42, final_estimator__selection=cyclic, final_estimator__tol=0.0001;, score=-2.208 total time=  20.4s\n",
      "[CV 2/5] END final_estimator__alpha=0.01, final_estimator__fit_intercept=True, final_estimator__l1_ratio=0.3, final_estimator__max_iter=1000, final_estimator__random_state=42, final_estimator__selection=cyclic, final_estimator__tol=0.0001;, score=-2.335 total time=  18.6s\n",
      "[CV 3/5] END final_estimator__alpha=0.01, final_estimator__fit_intercept=True, final_estimator__l1_ratio=0.3, final_estimator__max_iter=1000, final_estimator__random_state=42, final_estimator__selection=cyclic, final_estimator__tol=0.0001;, score=-2.190 total time=  20.0s\n",
      "[CV 4/5] END final_estimator__alpha=0.01, final_estimator__fit_intercept=True, final_estimator__l1_ratio=0.3, final_estimator__max_iter=1000, final_estimator__random_state=42, final_estimator__selection=cyclic, final_estimator__tol=0.0001;, score=-2.171 total time=  20.3s\n",
      "[CV 5/5] END final_estimator__alpha=0.01, final_estimator__fit_intercept=True, final_estimator__l1_ratio=0.3, final_estimator__max_iter=1000, final_estimator__random_state=42, final_estimator__selection=cyclic, final_estimator__tol=0.0001;, score=-2.290 total time=  19.2s\n",
      "[CV 1/5] END final_estimator__alpha=0.01, final_estimator__fit_intercept=True, final_estimator__l1_ratio=0.3, final_estimator__max_iter=1000, final_estimator__random_state=42, final_estimator__selection=cyclic, final_estimator__tol=0.001;, score=-2.193 total time=  20.8s\n",
      "[CV 2/5] END final_estimator__alpha=0.01, final_estimator__fit_intercept=True, final_estimator__l1_ratio=0.3, final_estimator__max_iter=1000, final_estimator__random_state=42, final_estimator__selection=cyclic, final_estimator__tol=0.001;, score=-2.354 total time=  20.4s\n",
      "[CV 3/5] END final_estimator__alpha=0.01, final_estimator__fit_intercept=True, final_estimator__l1_ratio=0.3, final_estimator__max_iter=1000, final_estimator__random_state=42, final_estimator__selection=cyclic, final_estimator__tol=0.001;, score=-2.194 total time=  17.4s\n",
      "[CV 4/5] END final_estimator__alpha=0.01, final_estimator__fit_intercept=True, final_estimator__l1_ratio=0.3, final_estimator__max_iter=1000, final_estimator__random_state=42, final_estimator__selection=cyclic, final_estimator__tol=0.001;, score=-2.159 total time=  19.2s\n",
      "[CV 5/5] END final_estimator__alpha=0.01, final_estimator__fit_intercept=True, final_estimator__l1_ratio=0.3, final_estimator__max_iter=1000, final_estimator__random_state=42, final_estimator__selection=cyclic, final_estimator__tol=0.001;, score=-2.295 total time=  24.2s\n",
      "[CV 1/5] END final_estimator__alpha=0.01, final_estimator__fit_intercept=True, final_estimator__l1_ratio=0.3, final_estimator__max_iter=1000, final_estimator__random_state=42, final_estimator__selection=cyclic, final_estimator__tol=0.01;, score=-2.186 total time=  20.3s\n",
      "[CV 2/5] END final_estimator__alpha=0.01, final_estimator__fit_intercept=True, final_estimator__l1_ratio=0.3, final_estimator__max_iter=1000, final_estimator__random_state=42, final_estimator__selection=cyclic, final_estimator__tol=0.01;, score=-2.356 total time=  17.5s\n",
      "[CV 3/5] END final_estimator__alpha=0.01, final_estimator__fit_intercept=True, final_estimator__l1_ratio=0.3, final_estimator__max_iter=1000, final_estimator__random_state=42, final_estimator__selection=cyclic, final_estimator__tol=0.01;, score=-2.214 total time=  17.8s\n",
      "[CV 4/5] END final_estimator__alpha=0.01, final_estimator__fit_intercept=True, final_estimator__l1_ratio=0.3, final_estimator__max_iter=1000, final_estimator__random_state=42, final_estimator__selection=cyclic, final_estimator__tol=0.01;, score=-2.154 total time=  22.3s\n",
      "[CV 5/5] END final_estimator__alpha=0.01, final_estimator__fit_intercept=True, final_estimator__l1_ratio=0.3, final_estimator__max_iter=1000, final_estimator__random_state=42, final_estimator__selection=cyclic, final_estimator__tol=0.01;, score=-2.287 total time=  18.7s\n",
      "[CV 1/5] END final_estimator__alpha=0.01, final_estimator__fit_intercept=True, final_estimator__l1_ratio=0.3, final_estimator__max_iter=1000, final_estimator__random_state=42, final_estimator__selection=random, final_estimator__tol=0.0001;, score=-2.204 total time=  17.6s\n",
      "[CV 2/5] END final_estimator__alpha=0.01, final_estimator__fit_intercept=True, final_estimator__l1_ratio=0.3, final_estimator__max_iter=1000, final_estimator__random_state=42, final_estimator__selection=random, final_estimator__tol=0.0001;, score=-2.330 total time=  19.5s\n",
      "[CV 3/5] END final_estimator__alpha=0.01, final_estimator__fit_intercept=True, final_estimator__l1_ratio=0.3, final_estimator__max_iter=1000, final_estimator__random_state=42, final_estimator__selection=random, final_estimator__tol=0.0001;, score=-2.209 total time=  20.4s\n",
      "[CV 4/5] END final_estimator__alpha=0.01, final_estimator__fit_intercept=True, final_estimator__l1_ratio=0.3, final_estimator__max_iter=1000, final_estimator__random_state=42, final_estimator__selection=random, final_estimator__tol=0.0001;, score=-2.164 total time=  22.5s\n",
      "[CV 5/5] END final_estimator__alpha=0.01, final_estimator__fit_intercept=True, final_estimator__l1_ratio=0.3, final_estimator__max_iter=1000, final_estimator__random_state=42, final_estimator__selection=random, final_estimator__tol=0.0001;, score=-2.305 total time=  14.4s\n",
      "[CV 1/5] END final_estimator__alpha=0.01, final_estimator__fit_intercept=True, final_estimator__l1_ratio=0.3, final_estimator__max_iter=1000, final_estimator__random_state=42, final_estimator__selection=random, final_estimator__tol=0.001;, score=-2.190 total time=  24.1s\n",
      "[CV 2/5] END final_estimator__alpha=0.01, final_estimator__fit_intercept=True, final_estimator__l1_ratio=0.3, final_estimator__max_iter=1000, final_estimator__random_state=42, final_estimator__selection=random, final_estimator__tol=0.001;, score=-2.332 total time=  21.0s\n",
      "[CV 3/5] END final_estimator__alpha=0.01, final_estimator__fit_intercept=True, final_estimator__l1_ratio=0.3, final_estimator__max_iter=1000, final_estimator__random_state=42, final_estimator__selection=random, final_estimator__tol=0.001;, score=-2.209 total time=  20.7s\n",
      "[CV 4/5] END final_estimator__alpha=0.01, final_estimator__fit_intercept=True, final_estimator__l1_ratio=0.3, final_estimator__max_iter=1000, final_estimator__random_state=42, final_estimator__selection=random, final_estimator__tol=0.001;, score=-2.151 total time=  21.3s\n",
      "[CV 5/5] END final_estimator__alpha=0.01, final_estimator__fit_intercept=True, final_estimator__l1_ratio=0.3, final_estimator__max_iter=1000, final_estimator__random_state=42, final_estimator__selection=random, final_estimator__tol=0.001;, score=-2.289 total time=  16.4s\n",
      "[CV 1/5] END final_estimator__alpha=0.01, final_estimator__fit_intercept=True, final_estimator__l1_ratio=0.3, final_estimator__max_iter=1000, final_estimator__random_state=42, final_estimator__selection=random, final_estimator__tol=0.01;, score=-2.183 total time=  21.5s\n",
      "[CV 2/5] END final_estimator__alpha=0.01, final_estimator__fit_intercept=True, final_estimator__l1_ratio=0.3, final_estimator__max_iter=1000, final_estimator__random_state=42, final_estimator__selection=random, final_estimator__tol=0.01;, score=-2.354 total time=  19.4s\n",
      "[CV 3/5] END final_estimator__alpha=0.01, final_estimator__fit_intercept=True, final_estimator__l1_ratio=0.3, final_estimator__max_iter=1000, final_estimator__random_state=42, final_estimator__selection=random, final_estimator__tol=0.01;, score=-2.184 total time=  19.9s\n",
      "[CV 4/5] END final_estimator__alpha=0.01, final_estimator__fit_intercept=True, final_estimator__l1_ratio=0.3, final_estimator__max_iter=1000, final_estimator__random_state=42, final_estimator__selection=random, final_estimator__tol=0.01;, score=-2.159 total time=  17.3s\n",
      "[CV 5/5] END final_estimator__alpha=0.01, final_estimator__fit_intercept=True, final_estimator__l1_ratio=0.3, final_estimator__max_iter=1000, final_estimator__random_state=42, final_estimator__selection=random, final_estimator__tol=0.01;, score=-2.283 total time=  15.6s\n",
      "[CV 1/5] END final_estimator__alpha=0.01, final_estimator__fit_intercept=True, final_estimator__l1_ratio=0.3, final_estimator__max_iter=2000, final_estimator__random_state=42, final_estimator__selection=cyclic, final_estimator__tol=0.0001;, score=-2.189 total time=  20.1s\n",
      "[CV 2/5] END final_estimator__alpha=0.01, final_estimator__fit_intercept=True, final_estimator__l1_ratio=0.3, final_estimator__max_iter=2000, final_estimator__random_state=42, final_estimator__selection=cyclic, final_estimator__tol=0.0001;, score=-2.338 total time=  20.4s\n",
      "[CV 3/5] END final_estimator__alpha=0.01, final_estimator__fit_intercept=True, final_estimator__l1_ratio=0.3, final_estimator__max_iter=2000, final_estimator__random_state=42, final_estimator__selection=cyclic, final_estimator__tol=0.0001;, score=-2.200 total time=  24.8s\n",
      "[CV 4/5] END final_estimator__alpha=0.01, final_estimator__fit_intercept=True, final_estimator__l1_ratio=0.3, final_estimator__max_iter=2000, final_estimator__random_state=42, final_estimator__selection=cyclic, final_estimator__tol=0.0001;, score=-2.168 total time=  21.4s\n",
      "[CV 5/5] END final_estimator__alpha=0.01, final_estimator__fit_intercept=True, final_estimator__l1_ratio=0.3, final_estimator__max_iter=2000, final_estimator__random_state=42, final_estimator__selection=cyclic, final_estimator__tol=0.0001;, score=-2.289 total time=  20.9s\n",
      "[CV 1/5] END final_estimator__alpha=0.01, final_estimator__fit_intercept=True, final_estimator__l1_ratio=0.3, final_estimator__max_iter=2000, final_estimator__random_state=42, final_estimator__selection=cyclic, final_estimator__tol=0.001;, score=-2.218 total time=  19.5s\n",
      "[CV 2/5] END final_estimator__alpha=0.01, final_estimator__fit_intercept=True, final_estimator__l1_ratio=0.3, final_estimator__max_iter=2000, final_estimator__random_state=42, final_estimator__selection=cyclic, final_estimator__tol=0.001;, score=-2.334 total time=  20.9s\n",
      "[CV 3/5] END final_estimator__alpha=0.01, final_estimator__fit_intercept=True, final_estimator__l1_ratio=0.3, final_estimator__max_iter=2000, final_estimator__random_state=42, final_estimator__selection=cyclic, final_estimator__tol=0.001;, score=-2.199 total time=  20.3s\n",
      "[CV 4/5] END final_estimator__alpha=0.01, final_estimator__fit_intercept=True, final_estimator__l1_ratio=0.3, final_estimator__max_iter=2000, final_estimator__random_state=42, final_estimator__selection=cyclic, final_estimator__tol=0.001;, score=-2.159 total time=  17.9s\n",
      "[CV 5/5] END final_estimator__alpha=0.01, final_estimator__fit_intercept=True, final_estimator__l1_ratio=0.3, final_estimator__max_iter=2000, final_estimator__random_state=42, final_estimator__selection=cyclic, final_estimator__tol=0.001;, score=-2.287 total time=  17.1s\n",
      "[CV 1/5] END final_estimator__alpha=0.01, final_estimator__fit_intercept=True, final_estimator__l1_ratio=0.3, final_estimator__max_iter=2000, final_estimator__random_state=42, final_estimator__selection=cyclic, final_estimator__tol=0.01;, score=-2.181 total time=  21.8s\n",
      "[CV 2/5] END final_estimator__alpha=0.01, final_estimator__fit_intercept=True, final_estimator__l1_ratio=0.3, final_estimator__max_iter=2000, final_estimator__random_state=42, final_estimator__selection=cyclic, final_estimator__tol=0.01;, score=-2.333 total time=  19.4s\n",
      "[CV 3/5] END final_estimator__alpha=0.01, final_estimator__fit_intercept=True, final_estimator__l1_ratio=0.3, final_estimator__max_iter=2000, final_estimator__random_state=42, final_estimator__selection=cyclic, final_estimator__tol=0.01;, score=-2.189 total time=  19.6s\n",
      "[CV 4/5] END final_estimator__alpha=0.01, final_estimator__fit_intercept=True, final_estimator__l1_ratio=0.3, final_estimator__max_iter=2000, final_estimator__random_state=42, final_estimator__selection=cyclic, final_estimator__tol=0.01;, score=-2.199 total time=  23.1s\n",
      "[CV 5/5] END final_estimator__alpha=0.01, final_estimator__fit_intercept=True, final_estimator__l1_ratio=0.3, final_estimator__max_iter=2000, final_estimator__random_state=42, final_estimator__selection=cyclic, final_estimator__tol=0.01;, score=-2.290 total time=  23.1s\n",
      "[CV 1/5] END final_estimator__alpha=0.01, final_estimator__fit_intercept=True, final_estimator__l1_ratio=0.3, final_estimator__max_iter=2000, final_estimator__random_state=42, final_estimator__selection=random, final_estimator__tol=0.0001;, score=-2.186 total time=  18.4s\n",
      "[CV 2/5] END final_estimator__alpha=0.01, final_estimator__fit_intercept=True, final_estimator__l1_ratio=0.3, final_estimator__max_iter=2000, final_estimator__random_state=42, final_estimator__selection=random, final_estimator__tol=0.0001;, score=-2.356 total time=  19.6s\n",
      "[CV 3/5] END final_estimator__alpha=0.01, final_estimator__fit_intercept=True, final_estimator__l1_ratio=0.3, final_estimator__max_iter=2000, final_estimator__random_state=42, final_estimator__selection=random, final_estimator__tol=0.0001;, score=-2.199 total time=  17.6s\n",
      "[CV 4/5] END final_estimator__alpha=0.01, final_estimator__fit_intercept=True, final_estimator__l1_ratio=0.3, final_estimator__max_iter=2000, final_estimator__random_state=42, final_estimator__selection=random, final_estimator__tol=0.0001;, score=-2.158 total time=  20.2s\n",
      "[CV 5/5] END final_estimator__alpha=0.01, final_estimator__fit_intercept=True, final_estimator__l1_ratio=0.3, final_estimator__max_iter=2000, final_estimator__random_state=42, final_estimator__selection=random, final_estimator__tol=0.0001;, score=-2.287 total time=  25.3s\n",
      "[CV 1/5] END final_estimator__alpha=0.01, final_estimator__fit_intercept=True, final_estimator__l1_ratio=0.3, final_estimator__max_iter=2000, final_estimator__random_state=42, final_estimator__selection=random, final_estimator__tol=0.001;, score=-2.192 total time=  19.2s\n",
      "[CV 2/5] END final_estimator__alpha=0.01, final_estimator__fit_intercept=True, final_estimator__l1_ratio=0.3, final_estimator__max_iter=2000, final_estimator__random_state=42, final_estimator__selection=random, final_estimator__tol=0.001;, score=-2.337 total time=  16.7s\n",
      "[CV 3/5] END final_estimator__alpha=0.01, final_estimator__fit_intercept=True, final_estimator__l1_ratio=0.3, final_estimator__max_iter=2000, final_estimator__random_state=42, final_estimator__selection=random, final_estimator__tol=0.001;, score=-2.195 total time=  18.6s\n",
      "[CV 4/5] END final_estimator__alpha=0.01, final_estimator__fit_intercept=True, final_estimator__l1_ratio=0.3, final_estimator__max_iter=2000, final_estimator__random_state=42, final_estimator__selection=random, final_estimator__tol=0.001;, score=-2.168 total time=  23.1s\n",
      "[CV 5/5] END final_estimator__alpha=0.01, final_estimator__fit_intercept=True, final_estimator__l1_ratio=0.3, final_estimator__max_iter=2000, final_estimator__random_state=42, final_estimator__selection=random, final_estimator__tol=0.001;, score=-2.290 total time=  21.1s\n",
      "[CV 1/5] END final_estimator__alpha=0.01, final_estimator__fit_intercept=True, final_estimator__l1_ratio=0.3, final_estimator__max_iter=2000, final_estimator__random_state=42, final_estimator__selection=random, final_estimator__tol=0.01;, score=-2.184 total time=  18.5s\n",
      "[CV 2/5] END final_estimator__alpha=0.01, final_estimator__fit_intercept=True, final_estimator__l1_ratio=0.3, final_estimator__max_iter=2000, final_estimator__random_state=42, final_estimator__selection=random, final_estimator__tol=0.01;, score=-2.340 total time=  19.7s\n",
      "[CV 3/5] END final_estimator__alpha=0.01, final_estimator__fit_intercept=True, final_estimator__l1_ratio=0.3, final_estimator__max_iter=2000, final_estimator__random_state=42, final_estimator__selection=random, final_estimator__tol=0.01;, score=-2.202 total time=  20.2s\n",
      "[CV 4/5] END final_estimator__alpha=0.01, final_estimator__fit_intercept=True, final_estimator__l1_ratio=0.3, final_estimator__max_iter=2000, final_estimator__random_state=42, final_estimator__selection=random, final_estimator__tol=0.01;, score=-2.159 total time=  23.1s\n",
      "[CV 5/5] END final_estimator__alpha=0.01, final_estimator__fit_intercept=True, final_estimator__l1_ratio=0.3, final_estimator__max_iter=2000, final_estimator__random_state=42, final_estimator__selection=random, final_estimator__tol=0.01;, score=-2.282 total time=  18.8s\n",
      "[CV 1/5] END final_estimator__alpha=0.01, final_estimator__fit_intercept=True, final_estimator__l1_ratio=0.5, final_estimator__max_iter=1000, final_estimator__random_state=42, final_estimator__selection=cyclic, final_estimator__tol=0.0001;, score=-2.208 total time=  21.5s\n",
      "[CV 2/5] END final_estimator__alpha=0.01, final_estimator__fit_intercept=True, final_estimator__l1_ratio=0.5, final_estimator__max_iter=1000, final_estimator__random_state=42, final_estimator__selection=cyclic, final_estimator__tol=0.0001;, score=-2.332 total time=  20.3s\n",
      "[CV 3/5] END final_estimator__alpha=0.01, final_estimator__fit_intercept=True, final_estimator__l1_ratio=0.5, final_estimator__max_iter=1000, final_estimator__random_state=42, final_estimator__selection=cyclic, final_estimator__tol=0.0001;, score=-2.194 total time=  19.1s\n",
      "[CV 4/5] END final_estimator__alpha=0.01, final_estimator__fit_intercept=True, final_estimator__l1_ratio=0.5, final_estimator__max_iter=1000, final_estimator__random_state=42, final_estimator__selection=cyclic, final_estimator__tol=0.0001;, score=-2.150 total time=  20.8s\n",
      "[CV 5/5] END final_estimator__alpha=0.01, final_estimator__fit_intercept=True, final_estimator__l1_ratio=0.5, final_estimator__max_iter=1000, final_estimator__random_state=42, final_estimator__selection=cyclic, final_estimator__tol=0.0001;, score=-2.285 total time=  17.8s\n",
      "[CV 1/5] END final_estimator__alpha=0.01, final_estimator__fit_intercept=True, final_estimator__l1_ratio=0.5, final_estimator__max_iter=1000, final_estimator__random_state=42, final_estimator__selection=cyclic, final_estimator__tol=0.001;, score=-2.198 total time=  24.5s\n",
      "[CV 2/5] END final_estimator__alpha=0.01, final_estimator__fit_intercept=True, final_estimator__l1_ratio=0.5, final_estimator__max_iter=1000, final_estimator__random_state=42, final_estimator__selection=cyclic, final_estimator__tol=0.001;, score=-2.333 total time=  21.5s\n",
      "[CV 3/5] END final_estimator__alpha=0.01, final_estimator__fit_intercept=True, final_estimator__l1_ratio=0.5, final_estimator__max_iter=1000, final_estimator__random_state=42, final_estimator__selection=cyclic, final_estimator__tol=0.001;, score=-2.203 total time=  19.3s\n",
      "[CV 4/5] END final_estimator__alpha=0.01, final_estimator__fit_intercept=True, final_estimator__l1_ratio=0.5, final_estimator__max_iter=1000, final_estimator__random_state=42, final_estimator__selection=cyclic, final_estimator__tol=0.001;, score=-2.157 total time=  22.5s\n",
      "[CV 5/5] END final_estimator__alpha=0.01, final_estimator__fit_intercept=True, final_estimator__l1_ratio=0.5, final_estimator__max_iter=1000, final_estimator__random_state=42, final_estimator__selection=cyclic, final_estimator__tol=0.001;, score=-2.289 total time=  18.7s\n",
      "[CV 1/5] END final_estimator__alpha=0.01, final_estimator__fit_intercept=True, final_estimator__l1_ratio=0.5, final_estimator__max_iter=1000, final_estimator__random_state=42, final_estimator__selection=cyclic, final_estimator__tol=0.01;, score=-2.195 total time=  16.0s\n",
      "[CV 2/5] END final_estimator__alpha=0.01, final_estimator__fit_intercept=True, final_estimator__l1_ratio=0.5, final_estimator__max_iter=1000, final_estimator__random_state=42, final_estimator__selection=cyclic, final_estimator__tol=0.01;, score=-2.336 total time=  20.9s\n",
      "[CV 3/5] END final_estimator__alpha=0.01, final_estimator__fit_intercept=True, final_estimator__l1_ratio=0.5, final_estimator__max_iter=1000, final_estimator__random_state=42, final_estimator__selection=cyclic, final_estimator__tol=0.01;, score=-2.224 total time=  21.1s\n",
      "[CV 4/5] END final_estimator__alpha=0.01, final_estimator__fit_intercept=True, final_estimator__l1_ratio=0.5, final_estimator__max_iter=1000, final_estimator__random_state=42, final_estimator__selection=cyclic, final_estimator__tol=0.01;, score=-2.177 total time=  21.5s\n",
      "[CV 5/5] END final_estimator__alpha=0.01, final_estimator__fit_intercept=True, final_estimator__l1_ratio=0.5, final_estimator__max_iter=1000, final_estimator__random_state=42, final_estimator__selection=cyclic, final_estimator__tol=0.01;, score=-2.286 total time=  14.4s\n",
      "[CV 1/5] END final_estimator__alpha=0.01, final_estimator__fit_intercept=True, final_estimator__l1_ratio=0.5, final_estimator__max_iter=1000, final_estimator__random_state=42, final_estimator__selection=random, final_estimator__tol=0.0001;, score=-2.178 total time=  24.9s\n",
      "[CV 2/5] END final_estimator__alpha=0.01, final_estimator__fit_intercept=True, final_estimator__l1_ratio=0.5, final_estimator__max_iter=1000, final_estimator__random_state=42, final_estimator__selection=random, final_estimator__tol=0.0001;, score=-2.332 total time=  21.5s\n",
      "[CV 3/5] END final_estimator__alpha=0.01, final_estimator__fit_intercept=True, final_estimator__l1_ratio=0.5, final_estimator__max_iter=1000, final_estimator__random_state=42, final_estimator__selection=random, final_estimator__tol=0.0001;, score=-2.215 total time=  16.3s\n",
      "[CV 4/5] END final_estimator__alpha=0.01, final_estimator__fit_intercept=True, final_estimator__l1_ratio=0.5, final_estimator__max_iter=1000, final_estimator__random_state=42, final_estimator__selection=random, final_estimator__tol=0.0001;, score=-2.173 total time=  18.7s\n",
      "[CV 5/5] END final_estimator__alpha=0.01, final_estimator__fit_intercept=True, final_estimator__l1_ratio=0.5, final_estimator__max_iter=1000, final_estimator__random_state=42, final_estimator__selection=random, final_estimator__tol=0.0001;, score=-2.299 total time=  19.1s\n",
      "[CV 1/5] END final_estimator__alpha=0.01, final_estimator__fit_intercept=True, final_estimator__l1_ratio=0.5, final_estimator__max_iter=1000, final_estimator__random_state=42, final_estimator__selection=random, final_estimator__tol=0.001;, score=-2.190 total time=  18.4s\n",
      "[CV 2/5] END final_estimator__alpha=0.01, final_estimator__fit_intercept=True, final_estimator__l1_ratio=0.5, final_estimator__max_iter=1000, final_estimator__random_state=42, final_estimator__selection=random, final_estimator__tol=0.001;, score=-2.358 total time=  17.5s\n",
      "[CV 3/5] END final_estimator__alpha=0.01, final_estimator__fit_intercept=True, final_estimator__l1_ratio=0.5, final_estimator__max_iter=1000, final_estimator__random_state=42, final_estimator__selection=random, final_estimator__tol=0.001;, score=-2.198 total time=  18.9s\n",
      "[CV 4/5] END final_estimator__alpha=0.01, final_estimator__fit_intercept=True, final_estimator__l1_ratio=0.5, final_estimator__max_iter=1000, final_estimator__random_state=42, final_estimator__selection=random, final_estimator__tol=0.001;, score=-2.149 total time=  18.4s\n",
      "[CV 5/5] END final_estimator__alpha=0.01, final_estimator__fit_intercept=True, final_estimator__l1_ratio=0.5, final_estimator__max_iter=1000, final_estimator__random_state=42, final_estimator__selection=random, final_estimator__tol=0.001;, score=-2.292 total time=  20.9s\n",
      "[CV 1/5] END final_estimator__alpha=0.01, final_estimator__fit_intercept=True, final_estimator__l1_ratio=0.5, final_estimator__max_iter=1000, final_estimator__random_state=42, final_estimator__selection=random, final_estimator__tol=0.01;, score=-2.191 total time=  20.5s\n",
      "[CV 2/5] END final_estimator__alpha=0.01, final_estimator__fit_intercept=True, final_estimator__l1_ratio=0.5, final_estimator__max_iter=1000, final_estimator__random_state=42, final_estimator__selection=random, final_estimator__tol=0.01;, score=-2.354 total time=  15.2s\n",
      "[CV 3/5] END final_estimator__alpha=0.01, final_estimator__fit_intercept=True, final_estimator__l1_ratio=0.5, final_estimator__max_iter=1000, final_estimator__random_state=42, final_estimator__selection=random, final_estimator__tol=0.01;, score=-2.199 total time=  23.9s\n",
      "[CV 4/5] END final_estimator__alpha=0.01, final_estimator__fit_intercept=True, final_estimator__l1_ratio=0.5, final_estimator__max_iter=1000, final_estimator__random_state=42, final_estimator__selection=random, final_estimator__tol=0.01;, score=-2.147 total time=  24.9s\n",
      "[CV 5/5] END final_estimator__alpha=0.01, final_estimator__fit_intercept=True, final_estimator__l1_ratio=0.5, final_estimator__max_iter=1000, final_estimator__random_state=42, final_estimator__selection=random, final_estimator__tol=0.01;, score=-2.287 total time=  20.8s\n",
      "[CV 1/5] END final_estimator__alpha=0.01, final_estimator__fit_intercept=True, final_estimator__l1_ratio=0.5, final_estimator__max_iter=2000, final_estimator__random_state=42, final_estimator__selection=cyclic, final_estimator__tol=0.0001;, score=-2.208 total time=  15.7s\n",
      "[CV 2/5] END final_estimator__alpha=0.01, final_estimator__fit_intercept=True, final_estimator__l1_ratio=0.5, final_estimator__max_iter=2000, final_estimator__random_state=42, final_estimator__selection=cyclic, final_estimator__tol=0.0001;, score=-2.332 total time=  19.5s\n",
      "[CV 3/5] END final_estimator__alpha=0.01, final_estimator__fit_intercept=True, final_estimator__l1_ratio=0.5, final_estimator__max_iter=2000, final_estimator__random_state=42, final_estimator__selection=cyclic, final_estimator__tol=0.0001;, score=-2.195 total time=  20.6s\n",
      "[CV 4/5] END final_estimator__alpha=0.01, final_estimator__fit_intercept=True, final_estimator__l1_ratio=0.5, final_estimator__max_iter=2000, final_estimator__random_state=42, final_estimator__selection=cyclic, final_estimator__tol=0.0001;, score=-2.156 total time=  20.6s\n",
      "[CV 5/5] END final_estimator__alpha=0.01, final_estimator__fit_intercept=True, final_estimator__l1_ratio=0.5, final_estimator__max_iter=2000, final_estimator__random_state=42, final_estimator__selection=cyclic, final_estimator__tol=0.0001;, score=-2.287 total time=  17.7s\n",
      "[CV 1/5] END final_estimator__alpha=0.01, final_estimator__fit_intercept=True, final_estimator__l1_ratio=0.5, final_estimator__max_iter=2000, final_estimator__random_state=42, final_estimator__selection=cyclic, final_estimator__tol=0.001;, score=-2.187 total time=  21.6s\n",
      "[CV 2/5] END final_estimator__alpha=0.01, final_estimator__fit_intercept=True, final_estimator__l1_ratio=0.5, final_estimator__max_iter=2000, final_estimator__random_state=42, final_estimator__selection=cyclic, final_estimator__tol=0.001;, score=-2.322 total time=  19.5s\n",
      "[CV 3/5] END final_estimator__alpha=0.01, final_estimator__fit_intercept=True, final_estimator__l1_ratio=0.5, final_estimator__max_iter=2000, final_estimator__random_state=42, final_estimator__selection=cyclic, final_estimator__tol=0.001;, score=-2.206 total time=  18.1s\n",
      "[CV 4/5] END final_estimator__alpha=0.01, final_estimator__fit_intercept=True, final_estimator__l1_ratio=0.5, final_estimator__max_iter=2000, final_estimator__random_state=42, final_estimator__selection=cyclic, final_estimator__tol=0.001;, score=-2.161 total time=  17.1s\n",
      "[CV 5/5] END final_estimator__alpha=0.01, final_estimator__fit_intercept=True, final_estimator__l1_ratio=0.5, final_estimator__max_iter=2000, final_estimator__random_state=42, final_estimator__selection=cyclic, final_estimator__tol=0.001;, score=-2.291 total time=  21.0s\n",
      "[CV 1/5] END final_estimator__alpha=0.01, final_estimator__fit_intercept=True, final_estimator__l1_ratio=0.5, final_estimator__max_iter=2000, final_estimator__random_state=42, final_estimator__selection=cyclic, final_estimator__tol=0.01;, score=-2.187 total time=  22.2s\n",
      "[CV 2/5] END final_estimator__alpha=0.01, final_estimator__fit_intercept=True, final_estimator__l1_ratio=0.5, final_estimator__max_iter=2000, final_estimator__random_state=42, final_estimator__selection=cyclic, final_estimator__tol=0.01;, score=-2.328 total time=  20.2s\n",
      "[CV 3/5] END final_estimator__alpha=0.01, final_estimator__fit_intercept=True, final_estimator__l1_ratio=0.5, final_estimator__max_iter=2000, final_estimator__random_state=42, final_estimator__selection=cyclic, final_estimator__tol=0.01;, score=-2.201 total time=  17.1s\n",
      "[CV 4/5] END final_estimator__alpha=0.01, final_estimator__fit_intercept=True, final_estimator__l1_ratio=0.5, final_estimator__max_iter=2000, final_estimator__random_state=42, final_estimator__selection=cyclic, final_estimator__tol=0.01;, score=-2.149 total time=  21.4s\n",
      "[CV 5/5] END final_estimator__alpha=0.01, final_estimator__fit_intercept=True, final_estimator__l1_ratio=0.5, final_estimator__max_iter=2000, final_estimator__random_state=42, final_estimator__selection=cyclic, final_estimator__tol=0.01;, score=-2.283 total time=  22.9s\n",
      "[CV 1/5] END final_estimator__alpha=0.01, final_estimator__fit_intercept=True, final_estimator__l1_ratio=0.5, final_estimator__max_iter=2000, final_estimator__random_state=42, final_estimator__selection=random, final_estimator__tol=0.0001;, score=-2.213 total time=  23.0s\n",
      "[CV 2/5] END final_estimator__alpha=0.01, final_estimator__fit_intercept=True, final_estimator__l1_ratio=0.5, final_estimator__max_iter=2000, final_estimator__random_state=42, final_estimator__selection=random, final_estimator__tol=0.0001;, score=-2.346 total time=  19.6s\n",
      "[CV 3/5] END final_estimator__alpha=0.01, final_estimator__fit_intercept=True, final_estimator__l1_ratio=0.5, final_estimator__max_iter=2000, final_estimator__random_state=42, final_estimator__selection=random, final_estimator__tol=0.0001;, score=-2.200 total time=  22.7s\n",
      "[CV 4/5] END final_estimator__alpha=0.01, final_estimator__fit_intercept=True, final_estimator__l1_ratio=0.5, final_estimator__max_iter=2000, final_estimator__random_state=42, final_estimator__selection=random, final_estimator__tol=0.0001;, score=-2.167 total time=  19.5s\n",
      "[CV 5/5] END final_estimator__alpha=0.01, final_estimator__fit_intercept=True, final_estimator__l1_ratio=0.5, final_estimator__max_iter=2000, final_estimator__random_state=42, final_estimator__selection=random, final_estimator__tol=0.0001;, score=-2.283 total time=  22.7s\n",
      "[CV 1/5] END final_estimator__alpha=0.01, final_estimator__fit_intercept=True, final_estimator__l1_ratio=0.5, final_estimator__max_iter=2000, final_estimator__random_state=42, final_estimator__selection=random, final_estimator__tol=0.001;, score=-2.175 total time=  22.8s\n",
      "[CV 2/5] END final_estimator__alpha=0.01, final_estimator__fit_intercept=True, final_estimator__l1_ratio=0.5, final_estimator__max_iter=2000, final_estimator__random_state=42, final_estimator__selection=random, final_estimator__tol=0.001;, score=-2.350 total time=  20.6s\n",
      "[CV 3/5] END final_estimator__alpha=0.01, final_estimator__fit_intercept=True, final_estimator__l1_ratio=0.5, final_estimator__max_iter=2000, final_estimator__random_state=42, final_estimator__selection=random, final_estimator__tol=0.001;, score=-2.206 total time=  19.8s\n",
      "[CV 4/5] END final_estimator__alpha=0.01, final_estimator__fit_intercept=True, final_estimator__l1_ratio=0.5, final_estimator__max_iter=2000, final_estimator__random_state=42, final_estimator__selection=random, final_estimator__tol=0.001;, score=-2.168 total time=  21.7s\n",
      "[CV 5/5] END final_estimator__alpha=0.01, final_estimator__fit_intercept=True, final_estimator__l1_ratio=0.5, final_estimator__max_iter=2000, final_estimator__random_state=42, final_estimator__selection=random, final_estimator__tol=0.001;, score=-2.287 total time=  17.8s\n",
      "[CV 1/5] END final_estimator__alpha=0.01, final_estimator__fit_intercept=True, final_estimator__l1_ratio=0.5, final_estimator__max_iter=2000, final_estimator__random_state=42, final_estimator__selection=random, final_estimator__tol=0.01;, score=-2.185 total time=  18.5s\n",
      "[CV 2/5] END final_estimator__alpha=0.01, final_estimator__fit_intercept=True, final_estimator__l1_ratio=0.5, final_estimator__max_iter=2000, final_estimator__random_state=42, final_estimator__selection=random, final_estimator__tol=0.01;, score=-2.326 total time=  23.2s\n",
      "[CV 3/5] END final_estimator__alpha=0.01, final_estimator__fit_intercept=True, final_estimator__l1_ratio=0.5, final_estimator__max_iter=2000, final_estimator__random_state=42, final_estimator__selection=random, final_estimator__tol=0.01;, score=-2.218 total time=  20.6s\n",
      "[CV 4/5] END final_estimator__alpha=0.01, final_estimator__fit_intercept=True, final_estimator__l1_ratio=0.5, final_estimator__max_iter=2000, final_estimator__random_state=42, final_estimator__selection=random, final_estimator__tol=0.01;, score=-2.161 total time=  20.4s\n",
      "[CV 5/5] END final_estimator__alpha=0.01, final_estimator__fit_intercept=True, final_estimator__l1_ratio=0.5, final_estimator__max_iter=2000, final_estimator__random_state=42, final_estimator__selection=random, final_estimator__tol=0.01;, score=-2.281 total time=  18.8s\n",
      "[CV 1/5] END final_estimator__alpha=0.01, final_estimator__fit_intercept=True, final_estimator__l1_ratio=0.7, final_estimator__max_iter=1000, final_estimator__random_state=42, final_estimator__selection=cyclic, final_estimator__tol=0.0001;, score=-2.211 total time=  23.7s\n",
      "[CV 2/5] END final_estimator__alpha=0.01, final_estimator__fit_intercept=True, final_estimator__l1_ratio=0.7, final_estimator__max_iter=1000, final_estimator__random_state=42, final_estimator__selection=cyclic, final_estimator__tol=0.0001;, score=-2.346 total time=  20.7s\n",
      "[CV 3/5] END final_estimator__alpha=0.01, final_estimator__fit_intercept=True, final_estimator__l1_ratio=0.7, final_estimator__max_iter=1000, final_estimator__random_state=42, final_estimator__selection=cyclic, final_estimator__tol=0.0001;, score=-2.199 total time=  16.6s\n",
      "[CV 4/5] END final_estimator__alpha=0.01, final_estimator__fit_intercept=True, final_estimator__l1_ratio=0.7, final_estimator__max_iter=1000, final_estimator__random_state=42, final_estimator__selection=cyclic, final_estimator__tol=0.0001;, score=-2.150 total time=  18.5s\n",
      "[CV 5/5] END final_estimator__alpha=0.01, final_estimator__fit_intercept=True, final_estimator__l1_ratio=0.7, final_estimator__max_iter=1000, final_estimator__random_state=42, final_estimator__selection=cyclic, final_estimator__tol=0.0001;, score=-2.276 total time=  21.5s\n",
      "[CV 1/5] END final_estimator__alpha=0.01, final_estimator__fit_intercept=True, final_estimator__l1_ratio=0.7, final_estimator__max_iter=1000, final_estimator__random_state=42, final_estimator__selection=cyclic, final_estimator__tol=0.001;, score=-2.197 total time=  21.2s\n",
      "[CV 2/5] END final_estimator__alpha=0.01, final_estimator__fit_intercept=True, final_estimator__l1_ratio=0.7, final_estimator__max_iter=1000, final_estimator__random_state=42, final_estimator__selection=cyclic, final_estimator__tol=0.001;, score=-2.332 total time=  19.3s\n",
      "[CV 3/5] END final_estimator__alpha=0.01, final_estimator__fit_intercept=True, final_estimator__l1_ratio=0.7, final_estimator__max_iter=1000, final_estimator__random_state=42, final_estimator__selection=cyclic, final_estimator__tol=0.001;, score=-2.200 total time=  19.4s\n",
      "[CV 4/5] END final_estimator__alpha=0.01, final_estimator__fit_intercept=True, final_estimator__l1_ratio=0.7, final_estimator__max_iter=1000, final_estimator__random_state=42, final_estimator__selection=cyclic, final_estimator__tol=0.001;, score=-2.154 total time=  19.0s\n",
      "[CV 5/5] END final_estimator__alpha=0.01, final_estimator__fit_intercept=True, final_estimator__l1_ratio=0.7, final_estimator__max_iter=1000, final_estimator__random_state=42, final_estimator__selection=cyclic, final_estimator__tol=0.001;, score=-2.288 total time=  17.7s\n",
      "[CV 1/5] END final_estimator__alpha=0.01, final_estimator__fit_intercept=True, final_estimator__l1_ratio=0.7, final_estimator__max_iter=1000, final_estimator__random_state=42, final_estimator__selection=cyclic, final_estimator__tol=0.01;, score=-2.214 total time=  21.3s\n",
      "[CV 2/5] END final_estimator__alpha=0.01, final_estimator__fit_intercept=True, final_estimator__l1_ratio=0.7, final_estimator__max_iter=1000, final_estimator__random_state=42, final_estimator__selection=cyclic, final_estimator__tol=0.01;, score=-2.328 total time=  20.7s\n",
      "[CV 3/5] END final_estimator__alpha=0.01, final_estimator__fit_intercept=True, final_estimator__l1_ratio=0.7, final_estimator__max_iter=1000, final_estimator__random_state=42, final_estimator__selection=cyclic, final_estimator__tol=0.01;, score=-2.192 total time=  20.1s\n",
      "[CV 4/5] END final_estimator__alpha=0.01, final_estimator__fit_intercept=True, final_estimator__l1_ratio=0.7, final_estimator__max_iter=1000, final_estimator__random_state=42, final_estimator__selection=cyclic, final_estimator__tol=0.01;, score=-2.159 total time=  22.1s\n",
      "[CV 5/5] END final_estimator__alpha=0.01, final_estimator__fit_intercept=True, final_estimator__l1_ratio=0.7, final_estimator__max_iter=1000, final_estimator__random_state=42, final_estimator__selection=cyclic, final_estimator__tol=0.01;, score=-2.287 total time=  26.2s\n",
      "[CV 1/5] END final_estimator__alpha=0.01, final_estimator__fit_intercept=True, final_estimator__l1_ratio=0.7, final_estimator__max_iter=1000, final_estimator__random_state=42, final_estimator__selection=random, final_estimator__tol=0.0001;, score=-2.190 total time=  15.6s\n",
      "[CV 2/5] END final_estimator__alpha=0.01, final_estimator__fit_intercept=True, final_estimator__l1_ratio=0.7, final_estimator__max_iter=1000, final_estimator__random_state=42, final_estimator__selection=random, final_estimator__tol=0.0001;, score=-2.335 total time=  18.4s\n",
      "[CV 3/5] END final_estimator__alpha=0.01, final_estimator__fit_intercept=True, final_estimator__l1_ratio=0.7, final_estimator__max_iter=1000, final_estimator__random_state=42, final_estimator__selection=random, final_estimator__tol=0.0001;, score=-2.193 total time=  21.5s\n",
      "[CV 4/5] END final_estimator__alpha=0.01, final_estimator__fit_intercept=True, final_estimator__l1_ratio=0.7, final_estimator__max_iter=1000, final_estimator__random_state=42, final_estimator__selection=random, final_estimator__tol=0.0001;, score=-2.157 total time=  25.5s\n",
      "[CV 5/5] END final_estimator__alpha=0.01, final_estimator__fit_intercept=True, final_estimator__l1_ratio=0.7, final_estimator__max_iter=1000, final_estimator__random_state=42, final_estimator__selection=random, final_estimator__tol=0.0001;, score=-2.282 total time=  16.1s\n",
      "[CV 1/5] END final_estimator__alpha=0.01, final_estimator__fit_intercept=True, final_estimator__l1_ratio=0.7, final_estimator__max_iter=1000, final_estimator__random_state=42, final_estimator__selection=random, final_estimator__tol=0.001;, score=-2.187 total time=  17.8s\n",
      "[CV 2/5] END final_estimator__alpha=0.01, final_estimator__fit_intercept=True, final_estimator__l1_ratio=0.7, final_estimator__max_iter=1000, final_estimator__random_state=42, final_estimator__selection=random, final_estimator__tol=0.001;, score=-2.341 total time=  19.2s\n",
      "[CV 3/5] END final_estimator__alpha=0.01, final_estimator__fit_intercept=True, final_estimator__l1_ratio=0.7, final_estimator__max_iter=1000, final_estimator__random_state=42, final_estimator__selection=random, final_estimator__tol=0.001;, score=-2.182 total time=  24.6s\n",
      "[CV 4/5] END final_estimator__alpha=0.01, final_estimator__fit_intercept=True, final_estimator__l1_ratio=0.7, final_estimator__max_iter=1000, final_estimator__random_state=42, final_estimator__selection=random, final_estimator__tol=0.001;, score=-2.153 total time=  18.9s\n",
      "[CV 5/5] END final_estimator__alpha=0.01, final_estimator__fit_intercept=True, final_estimator__l1_ratio=0.7, final_estimator__max_iter=1000, final_estimator__random_state=42, final_estimator__selection=random, final_estimator__tol=0.001;, score=-2.297 total time=  18.8s\n",
      "[CV 1/5] END final_estimator__alpha=0.01, final_estimator__fit_intercept=True, final_estimator__l1_ratio=0.7, final_estimator__max_iter=1000, final_estimator__random_state=42, final_estimator__selection=random, final_estimator__tol=0.01;, score=-2.169 total time=  23.8s\n",
      "[CV 2/5] END final_estimator__alpha=0.01, final_estimator__fit_intercept=True, final_estimator__l1_ratio=0.7, final_estimator__max_iter=1000, final_estimator__random_state=42, final_estimator__selection=random, final_estimator__tol=0.01;, score=-2.333 total time=  23.4s\n",
      "[CV 3/5] END final_estimator__alpha=0.01, final_estimator__fit_intercept=True, final_estimator__l1_ratio=0.7, final_estimator__max_iter=1000, final_estimator__random_state=42, final_estimator__selection=random, final_estimator__tol=0.01;, score=-2.205 total time=  16.4s\n",
      "[CV 4/5] END final_estimator__alpha=0.01, final_estimator__fit_intercept=True, final_estimator__l1_ratio=0.7, final_estimator__max_iter=1000, final_estimator__random_state=42, final_estimator__selection=random, final_estimator__tol=0.01;, score=-2.166 total time=  21.6s\n",
      "[CV 5/5] END final_estimator__alpha=0.01, final_estimator__fit_intercept=True, final_estimator__l1_ratio=0.7, final_estimator__max_iter=1000, final_estimator__random_state=42, final_estimator__selection=random, final_estimator__tol=0.01;, score=-2.285 total time=  20.4s\n",
      "[CV 1/5] END final_estimator__alpha=0.01, final_estimator__fit_intercept=True, final_estimator__l1_ratio=0.7, final_estimator__max_iter=2000, final_estimator__random_state=42, final_estimator__selection=cyclic, final_estimator__tol=0.0001;, score=-2.189 total time=  22.6s\n",
      "[CV 2/5] END final_estimator__alpha=0.01, final_estimator__fit_intercept=True, final_estimator__l1_ratio=0.7, final_estimator__max_iter=2000, final_estimator__random_state=42, final_estimator__selection=cyclic, final_estimator__tol=0.0001;, score=-2.315 total time=  22.4s\n",
      "[CV 3/5] END final_estimator__alpha=0.01, final_estimator__fit_intercept=True, final_estimator__l1_ratio=0.7, final_estimator__max_iter=2000, final_estimator__random_state=42, final_estimator__selection=cyclic, final_estimator__tol=0.0001;, score=-2.204 total time=  20.9s\n",
      "[CV 4/5] END final_estimator__alpha=0.01, final_estimator__fit_intercept=True, final_estimator__l1_ratio=0.7, final_estimator__max_iter=2000, final_estimator__random_state=42, final_estimator__selection=cyclic, final_estimator__tol=0.0001;, score=-2.167 total time=  21.3s\n",
      "[CV 5/5] END final_estimator__alpha=0.01, final_estimator__fit_intercept=True, final_estimator__l1_ratio=0.7, final_estimator__max_iter=2000, final_estimator__random_state=42, final_estimator__selection=cyclic, final_estimator__tol=0.0001;, score=-2.279 total time=  20.4s\n",
      "[CV 1/5] END final_estimator__alpha=0.01, final_estimator__fit_intercept=True, final_estimator__l1_ratio=0.7, final_estimator__max_iter=2000, final_estimator__random_state=42, final_estimator__selection=cyclic, final_estimator__tol=0.001;, score=-2.186 total time=  17.9s\n",
      "[CV 2/5] END final_estimator__alpha=0.01, final_estimator__fit_intercept=True, final_estimator__l1_ratio=0.7, final_estimator__max_iter=2000, final_estimator__random_state=42, final_estimator__selection=cyclic, final_estimator__tol=0.001;, score=-2.342 total time=  19.4s\n",
      "[CV 3/5] END final_estimator__alpha=0.01, final_estimator__fit_intercept=True, final_estimator__l1_ratio=0.7, final_estimator__max_iter=2000, final_estimator__random_state=42, final_estimator__selection=cyclic, final_estimator__tol=0.001;, score=-2.205 total time=  22.3s\n",
      "[CV 4/5] END final_estimator__alpha=0.01, final_estimator__fit_intercept=True, final_estimator__l1_ratio=0.7, final_estimator__max_iter=2000, final_estimator__random_state=42, final_estimator__selection=cyclic, final_estimator__tol=0.001;, score=-2.151 total time=  23.8s\n",
      "[CV 5/5] END final_estimator__alpha=0.01, final_estimator__fit_intercept=True, final_estimator__l1_ratio=0.7, final_estimator__max_iter=2000, final_estimator__random_state=42, final_estimator__selection=cyclic, final_estimator__tol=0.001;, score=-2.283 total time=  18.7s\n",
      "[CV 1/5] END final_estimator__alpha=0.01, final_estimator__fit_intercept=True, final_estimator__l1_ratio=0.7, final_estimator__max_iter=2000, final_estimator__random_state=42, final_estimator__selection=cyclic, final_estimator__tol=0.01;, score=-2.199 total time=  18.9s\n",
      "[CV 2/5] END final_estimator__alpha=0.01, final_estimator__fit_intercept=True, final_estimator__l1_ratio=0.7, final_estimator__max_iter=2000, final_estimator__random_state=42, final_estimator__selection=cyclic, final_estimator__tol=0.01;, score=-2.327 total time=  21.4s\n",
      "[CV 3/5] END final_estimator__alpha=0.01, final_estimator__fit_intercept=True, final_estimator__l1_ratio=0.7, final_estimator__max_iter=2000, final_estimator__random_state=42, final_estimator__selection=cyclic, final_estimator__tol=0.01;, score=-2.221 total time=  23.7s\n",
      "[CV 4/5] END final_estimator__alpha=0.01, final_estimator__fit_intercept=True, final_estimator__l1_ratio=0.7, final_estimator__max_iter=2000, final_estimator__random_state=42, final_estimator__selection=cyclic, final_estimator__tol=0.01;, score=-2.156 total time=  19.3s\n",
      "[CV 5/5] END final_estimator__alpha=0.01, final_estimator__fit_intercept=True, final_estimator__l1_ratio=0.7, final_estimator__max_iter=2000, final_estimator__random_state=42, final_estimator__selection=cyclic, final_estimator__tol=0.01;, score=-2.281 total time=  22.5s\n",
      "[CV 1/5] END final_estimator__alpha=0.01, final_estimator__fit_intercept=True, final_estimator__l1_ratio=0.7, final_estimator__max_iter=2000, final_estimator__random_state=42, final_estimator__selection=random, final_estimator__tol=0.0001;, score=-2.186 total time=  23.6s\n",
      "[CV 2/5] END final_estimator__alpha=0.01, final_estimator__fit_intercept=True, final_estimator__l1_ratio=0.7, final_estimator__max_iter=2000, final_estimator__random_state=42, final_estimator__selection=random, final_estimator__tol=0.0001;, score=-2.331 total time=  20.6s\n",
      "[CV 3/5] END final_estimator__alpha=0.01, final_estimator__fit_intercept=True, final_estimator__l1_ratio=0.7, final_estimator__max_iter=2000, final_estimator__random_state=42, final_estimator__selection=random, final_estimator__tol=0.0001;, score=-2.199 total time=  16.6s\n",
      "[CV 4/5] END final_estimator__alpha=0.01, final_estimator__fit_intercept=True, final_estimator__l1_ratio=0.7, final_estimator__max_iter=2000, final_estimator__random_state=42, final_estimator__selection=random, final_estimator__tol=0.0001;, score=-2.173 total time=  19.9s\n",
      "[CV 5/5] END final_estimator__alpha=0.01, final_estimator__fit_intercept=True, final_estimator__l1_ratio=0.7, final_estimator__max_iter=2000, final_estimator__random_state=42, final_estimator__selection=random, final_estimator__tol=0.0001;, score=-2.306 total time=  22.6s\n",
      "[CV 1/5] END final_estimator__alpha=0.01, final_estimator__fit_intercept=True, final_estimator__l1_ratio=0.7, final_estimator__max_iter=2000, final_estimator__random_state=42, final_estimator__selection=random, final_estimator__tol=0.001;, score=-2.188 total time=  26.9s\n",
      "[CV 2/5] END final_estimator__alpha=0.01, final_estimator__fit_intercept=True, final_estimator__l1_ratio=0.7, final_estimator__max_iter=2000, final_estimator__random_state=42, final_estimator__selection=random, final_estimator__tol=0.001;, score=-2.357 total time=  19.2s\n",
      "[CV 3/5] END final_estimator__alpha=0.01, final_estimator__fit_intercept=True, final_estimator__l1_ratio=0.7, final_estimator__max_iter=2000, final_estimator__random_state=42, final_estimator__selection=random, final_estimator__tol=0.001;, score=-2.178 total time=  21.2s\n",
      "[CV 4/5] END final_estimator__alpha=0.01, final_estimator__fit_intercept=True, final_estimator__l1_ratio=0.7, final_estimator__max_iter=2000, final_estimator__random_state=42, final_estimator__selection=random, final_estimator__tol=0.001;, score=-2.165 total time=  23.6s\n",
      "[CV 5/5] END final_estimator__alpha=0.01, final_estimator__fit_intercept=True, final_estimator__l1_ratio=0.7, final_estimator__max_iter=2000, final_estimator__random_state=42, final_estimator__selection=random, final_estimator__tol=0.001;, score=-2.290 total time=  23.4s\n",
      "[CV 1/5] END final_estimator__alpha=0.01, final_estimator__fit_intercept=True, final_estimator__l1_ratio=0.7, final_estimator__max_iter=2000, final_estimator__random_state=42, final_estimator__selection=random, final_estimator__tol=0.01;, score=-2.211 total time=  21.1s\n",
      "[CV 2/5] END final_estimator__alpha=0.01, final_estimator__fit_intercept=True, final_estimator__l1_ratio=0.7, final_estimator__max_iter=2000, final_estimator__random_state=42, final_estimator__selection=random, final_estimator__tol=0.01;, score=-2.321 total time=  24.2s\n",
      "[CV 3/5] END final_estimator__alpha=0.01, final_estimator__fit_intercept=True, final_estimator__l1_ratio=0.7, final_estimator__max_iter=2000, final_estimator__random_state=42, final_estimator__selection=random, final_estimator__tol=0.01;, score=-2.235 total time=  18.4s\n",
      "[CV 4/5] END final_estimator__alpha=0.01, final_estimator__fit_intercept=True, final_estimator__l1_ratio=0.7, final_estimator__max_iter=2000, final_estimator__random_state=42, final_estimator__selection=random, final_estimator__tol=0.01;, score=-2.154 total time=  22.6s\n",
      "[CV 5/5] END final_estimator__alpha=0.01, final_estimator__fit_intercept=True, final_estimator__l1_ratio=0.7, final_estimator__max_iter=2000, final_estimator__random_state=42, final_estimator__selection=random, final_estimator__tol=0.01;, score=-2.294 total time=  19.9s\n",
      "[CV 1/5] END final_estimator__alpha=0.01, final_estimator__fit_intercept=True, final_estimator__l1_ratio=0.9, final_estimator__max_iter=1000, final_estimator__random_state=42, final_estimator__selection=cyclic, final_estimator__tol=0.0001;, score=-2.193 total time=  19.5s\n",
      "[CV 2/5] END final_estimator__alpha=0.01, final_estimator__fit_intercept=True, final_estimator__l1_ratio=0.9, final_estimator__max_iter=1000, final_estimator__random_state=42, final_estimator__selection=cyclic, final_estimator__tol=0.0001;, score=-2.329 total time=  22.4s\n",
      "[CV 3/5] END final_estimator__alpha=0.01, final_estimator__fit_intercept=True, final_estimator__l1_ratio=0.9, final_estimator__max_iter=1000, final_estimator__random_state=42, final_estimator__selection=cyclic, final_estimator__tol=0.0001;, score=-2.220 total time=  22.2s\n",
      "[CV 4/5] END final_estimator__alpha=0.01, final_estimator__fit_intercept=True, final_estimator__l1_ratio=0.9, final_estimator__max_iter=1000, final_estimator__random_state=42, final_estimator__selection=cyclic, final_estimator__tol=0.0001;, score=-2.153 total time=  20.6s\n",
      "[CV 5/5] END final_estimator__alpha=0.01, final_estimator__fit_intercept=True, final_estimator__l1_ratio=0.9, final_estimator__max_iter=1000, final_estimator__random_state=42, final_estimator__selection=cyclic, final_estimator__tol=0.0001;, score=-2.289 total time=  18.6s\n",
      "[CV 1/5] END final_estimator__alpha=0.01, final_estimator__fit_intercept=True, final_estimator__l1_ratio=0.9, final_estimator__max_iter=1000, final_estimator__random_state=42, final_estimator__selection=cyclic, final_estimator__tol=0.001;, score=-2.228 total time=  23.5s\n",
      "[CV 2/5] END final_estimator__alpha=0.01, final_estimator__fit_intercept=True, final_estimator__l1_ratio=0.9, final_estimator__max_iter=1000, final_estimator__random_state=42, final_estimator__selection=cyclic, final_estimator__tol=0.001;, score=-2.343 total time=  24.3s\n",
      "[CV 3/5] END final_estimator__alpha=0.01, final_estimator__fit_intercept=True, final_estimator__l1_ratio=0.9, final_estimator__max_iter=1000, final_estimator__random_state=42, final_estimator__selection=cyclic, final_estimator__tol=0.001;, score=-2.225 total time=  22.6s\n",
      "[CV 4/5] END final_estimator__alpha=0.01, final_estimator__fit_intercept=True, final_estimator__l1_ratio=0.9, final_estimator__max_iter=1000, final_estimator__random_state=42, final_estimator__selection=cyclic, final_estimator__tol=0.001;, score=-2.153 total time=  20.7s\n",
      "[CV 5/5] END final_estimator__alpha=0.01, final_estimator__fit_intercept=True, final_estimator__l1_ratio=0.9, final_estimator__max_iter=1000, final_estimator__random_state=42, final_estimator__selection=cyclic, final_estimator__tol=0.001;, score=-2.293 total time=  22.9s\n",
      "[CV 1/5] END final_estimator__alpha=0.01, final_estimator__fit_intercept=True, final_estimator__l1_ratio=0.9, final_estimator__max_iter=1000, final_estimator__random_state=42, final_estimator__selection=cyclic, final_estimator__tol=0.01;, score=-2.188 total time=  21.5s\n",
      "[CV 2/5] END final_estimator__alpha=0.01, final_estimator__fit_intercept=True, final_estimator__l1_ratio=0.9, final_estimator__max_iter=1000, final_estimator__random_state=42, final_estimator__selection=cyclic, final_estimator__tol=0.01;, score=-2.329 total time=  21.5s\n",
      "[CV 3/5] END final_estimator__alpha=0.01, final_estimator__fit_intercept=True, final_estimator__l1_ratio=0.9, final_estimator__max_iter=1000, final_estimator__random_state=42, final_estimator__selection=cyclic, final_estimator__tol=0.01;, score=-2.197 total time=  19.7s\n",
      "[CV 4/5] END final_estimator__alpha=0.01, final_estimator__fit_intercept=True, final_estimator__l1_ratio=0.9, final_estimator__max_iter=1000, final_estimator__random_state=42, final_estimator__selection=cyclic, final_estimator__tol=0.01;, score=-2.161 total time=  25.4s\n",
      "[CV 5/5] END final_estimator__alpha=0.01, final_estimator__fit_intercept=True, final_estimator__l1_ratio=0.9, final_estimator__max_iter=1000, final_estimator__random_state=42, final_estimator__selection=cyclic, final_estimator__tol=0.01;, score=-2.284 total time=  20.3s\n",
      "[CV 1/5] END final_estimator__alpha=0.01, final_estimator__fit_intercept=True, final_estimator__l1_ratio=0.9, final_estimator__max_iter=1000, final_estimator__random_state=42, final_estimator__selection=random, final_estimator__tol=0.0001;, score=-2.201 total time=  18.7s\n",
      "[CV 2/5] END final_estimator__alpha=0.01, final_estimator__fit_intercept=True, final_estimator__l1_ratio=0.9, final_estimator__max_iter=1000, final_estimator__random_state=42, final_estimator__selection=random, final_estimator__tol=0.0001;, score=-2.338 total time=  22.5s\n",
      "[CV 3/5] END final_estimator__alpha=0.01, final_estimator__fit_intercept=True, final_estimator__l1_ratio=0.9, final_estimator__max_iter=1000, final_estimator__random_state=42, final_estimator__selection=random, final_estimator__tol=0.0001;, score=-2.222 total time=  19.1s\n",
      "[CV 4/5] END final_estimator__alpha=0.01, final_estimator__fit_intercept=True, final_estimator__l1_ratio=0.9, final_estimator__max_iter=1000, final_estimator__random_state=42, final_estimator__selection=random, final_estimator__tol=0.0001;, score=-2.164 total time=  21.9s\n",
      "[CV 5/5] END final_estimator__alpha=0.01, final_estimator__fit_intercept=True, final_estimator__l1_ratio=0.9, final_estimator__max_iter=1000, final_estimator__random_state=42, final_estimator__selection=random, final_estimator__tol=0.0001;, score=-2.297 total time=  20.1s\n",
      "[CV 1/5] END final_estimator__alpha=0.01, final_estimator__fit_intercept=True, final_estimator__l1_ratio=0.9, final_estimator__max_iter=1000, final_estimator__random_state=42, final_estimator__selection=random, final_estimator__tol=0.001;, score=-2.215 total time=  21.3s\n",
      "[CV 2/5] END final_estimator__alpha=0.01, final_estimator__fit_intercept=True, final_estimator__l1_ratio=0.9, final_estimator__max_iter=1000, final_estimator__random_state=42, final_estimator__selection=random, final_estimator__tol=0.001;, score=-2.330 total time=  21.0s\n",
      "[CV 3/5] END final_estimator__alpha=0.01, final_estimator__fit_intercept=True, final_estimator__l1_ratio=0.9, final_estimator__max_iter=1000, final_estimator__random_state=42, final_estimator__selection=random, final_estimator__tol=0.001;, score=-2.191 total time=  21.5s\n",
      "[CV 4/5] END final_estimator__alpha=0.01, final_estimator__fit_intercept=True, final_estimator__l1_ratio=0.9, final_estimator__max_iter=1000, final_estimator__random_state=42, final_estimator__selection=random, final_estimator__tol=0.001;, score=-2.174 total time=  20.0s\n",
      "[CV 5/5] END final_estimator__alpha=0.01, final_estimator__fit_intercept=True, final_estimator__l1_ratio=0.9, final_estimator__max_iter=1000, final_estimator__random_state=42, final_estimator__selection=random, final_estimator__tol=0.001;, score=-2.295 total time=  21.4s\n",
      "[CV 1/5] END final_estimator__alpha=0.01, final_estimator__fit_intercept=True, final_estimator__l1_ratio=0.9, final_estimator__max_iter=1000, final_estimator__random_state=42, final_estimator__selection=random, final_estimator__tol=0.01;, score=-2.183 total time=  23.6s\n",
      "[CV 2/5] END final_estimator__alpha=0.01, final_estimator__fit_intercept=True, final_estimator__l1_ratio=0.9, final_estimator__max_iter=1000, final_estimator__random_state=42, final_estimator__selection=random, final_estimator__tol=0.01;, score=-2.330 total time=  20.5s\n",
      "[CV 3/5] END final_estimator__alpha=0.01, final_estimator__fit_intercept=True, final_estimator__l1_ratio=0.9, final_estimator__max_iter=1000, final_estimator__random_state=42, final_estimator__selection=random, final_estimator__tol=0.01;, score=-2.191 total time=  19.5s\n",
      "[CV 4/5] END final_estimator__alpha=0.01, final_estimator__fit_intercept=True, final_estimator__l1_ratio=0.9, final_estimator__max_iter=1000, final_estimator__random_state=42, final_estimator__selection=random, final_estimator__tol=0.01;, score=-2.175 total time=  23.9s\n",
      "[CV 5/5] END final_estimator__alpha=0.01, final_estimator__fit_intercept=True, final_estimator__l1_ratio=0.9, final_estimator__max_iter=1000, final_estimator__random_state=42, final_estimator__selection=random, final_estimator__tol=0.01;, score=-2.291 total time=  21.9s\n",
      "[CV 1/5] END final_estimator__alpha=0.01, final_estimator__fit_intercept=True, final_estimator__l1_ratio=0.9, final_estimator__max_iter=2000, final_estimator__random_state=42, final_estimator__selection=cyclic, final_estimator__tol=0.0001;, score=-2.167 total time=  23.3s\n",
      "[CV 2/5] END final_estimator__alpha=0.01, final_estimator__fit_intercept=True, final_estimator__l1_ratio=0.9, final_estimator__max_iter=2000, final_estimator__random_state=42, final_estimator__selection=cyclic, final_estimator__tol=0.0001;, score=-2.324 total time=  23.9s\n",
      "[CV 3/5] END final_estimator__alpha=0.01, final_estimator__fit_intercept=True, final_estimator__l1_ratio=0.9, final_estimator__max_iter=2000, final_estimator__random_state=42, final_estimator__selection=cyclic, final_estimator__tol=0.0001;, score=-2.199 total time=  19.2s\n",
      "[CV 4/5] END final_estimator__alpha=0.01, final_estimator__fit_intercept=True, final_estimator__l1_ratio=0.9, final_estimator__max_iter=2000, final_estimator__random_state=42, final_estimator__selection=cyclic, final_estimator__tol=0.0001;, score=-2.169 total time=  17.6s\n",
      "[CV 5/5] END final_estimator__alpha=0.01, final_estimator__fit_intercept=True, final_estimator__l1_ratio=0.9, final_estimator__max_iter=2000, final_estimator__random_state=42, final_estimator__selection=cyclic, final_estimator__tol=0.0001;, score=-2.278 total time=  21.7s\n",
      "[CV 1/5] END final_estimator__alpha=0.01, final_estimator__fit_intercept=True, final_estimator__l1_ratio=0.9, final_estimator__max_iter=2000, final_estimator__random_state=42, final_estimator__selection=cyclic, final_estimator__tol=0.001;, score=-2.193 total time=  19.3s\n",
      "[CV 2/5] END final_estimator__alpha=0.01, final_estimator__fit_intercept=True, final_estimator__l1_ratio=0.9, final_estimator__max_iter=2000, final_estimator__random_state=42, final_estimator__selection=cyclic, final_estimator__tol=0.001;, score=-2.330 total time=  21.6s\n",
      "[CV 3/5] END final_estimator__alpha=0.01, final_estimator__fit_intercept=True, final_estimator__l1_ratio=0.9, final_estimator__max_iter=2000, final_estimator__random_state=42, final_estimator__selection=cyclic, final_estimator__tol=0.001;, score=-2.193 total time=  25.1s\n",
      "[CV 4/5] END final_estimator__alpha=0.01, final_estimator__fit_intercept=True, final_estimator__l1_ratio=0.9, final_estimator__max_iter=2000, final_estimator__random_state=42, final_estimator__selection=cyclic, final_estimator__tol=0.001;, score=-2.157 total time=  21.8s\n",
      "[CV 5/5] END final_estimator__alpha=0.01, final_estimator__fit_intercept=True, final_estimator__l1_ratio=0.9, final_estimator__max_iter=2000, final_estimator__random_state=42, final_estimator__selection=cyclic, final_estimator__tol=0.001;, score=-2.290 total time=  18.9s\n",
      "[CV 1/5] END final_estimator__alpha=0.01, final_estimator__fit_intercept=True, final_estimator__l1_ratio=0.9, final_estimator__max_iter=2000, final_estimator__random_state=42, final_estimator__selection=cyclic, final_estimator__tol=0.01;, score=-2.182 total time=  26.3s\n",
      "[CV 2/5] END final_estimator__alpha=0.01, final_estimator__fit_intercept=True, final_estimator__l1_ratio=0.9, final_estimator__max_iter=2000, final_estimator__random_state=42, final_estimator__selection=cyclic, final_estimator__tol=0.01;, score=-2.332 total time=  20.5s\n",
      "[CV 3/5] END final_estimator__alpha=0.01, final_estimator__fit_intercept=True, final_estimator__l1_ratio=0.9, final_estimator__max_iter=2000, final_estimator__random_state=42, final_estimator__selection=cyclic, final_estimator__tol=0.01;, score=-2.214 total time=  24.1s\n",
      "[CV 4/5] END final_estimator__alpha=0.01, final_estimator__fit_intercept=True, final_estimator__l1_ratio=0.9, final_estimator__max_iter=2000, final_estimator__random_state=42, final_estimator__selection=cyclic, final_estimator__tol=0.01;, score=-2.180 total time=  17.4s\n",
      "[CV 5/5] END final_estimator__alpha=0.01, final_estimator__fit_intercept=True, final_estimator__l1_ratio=0.9, final_estimator__max_iter=2000, final_estimator__random_state=42, final_estimator__selection=cyclic, final_estimator__tol=0.01;, score=-2.294 total time=  21.7s\n",
      "[CV 1/5] END final_estimator__alpha=0.01, final_estimator__fit_intercept=True, final_estimator__l1_ratio=0.9, final_estimator__max_iter=2000, final_estimator__random_state=42, final_estimator__selection=random, final_estimator__tol=0.0001;, score=-2.156 total time=  22.7s\n",
      "[CV 2/5] END final_estimator__alpha=0.01, final_estimator__fit_intercept=True, final_estimator__l1_ratio=0.9, final_estimator__max_iter=2000, final_estimator__random_state=42, final_estimator__selection=random, final_estimator__tol=0.0001;, score=-2.350 total time=  20.5s\n",
      "[CV 3/5] END final_estimator__alpha=0.01, final_estimator__fit_intercept=True, final_estimator__l1_ratio=0.9, final_estimator__max_iter=2000, final_estimator__random_state=42, final_estimator__selection=random, final_estimator__tol=0.0001;, score=-2.206 total time=  19.1s\n",
      "[CV 4/5] END final_estimator__alpha=0.01, final_estimator__fit_intercept=True, final_estimator__l1_ratio=0.9, final_estimator__max_iter=2000, final_estimator__random_state=42, final_estimator__selection=random, final_estimator__tol=0.0001;, score=-2.168 total time=  25.0s\n",
      "[CV 5/5] END final_estimator__alpha=0.01, final_estimator__fit_intercept=True, final_estimator__l1_ratio=0.9, final_estimator__max_iter=2000, final_estimator__random_state=42, final_estimator__selection=random, final_estimator__tol=0.0001;, score=-2.301 total time=  20.4s\n",
      "[CV 1/5] END final_estimator__alpha=0.01, final_estimator__fit_intercept=True, final_estimator__l1_ratio=0.9, final_estimator__max_iter=2000, final_estimator__random_state=42, final_estimator__selection=random, final_estimator__tol=0.001;, score=-2.196 total time=  24.6s\n",
      "[CV 2/5] END final_estimator__alpha=0.01, final_estimator__fit_intercept=True, final_estimator__l1_ratio=0.9, final_estimator__max_iter=2000, final_estimator__random_state=42, final_estimator__selection=random, final_estimator__tol=0.001;, score=-2.341 total time=  22.7s\n",
      "[CV 3/5] END final_estimator__alpha=0.01, final_estimator__fit_intercept=True, final_estimator__l1_ratio=0.9, final_estimator__max_iter=2000, final_estimator__random_state=42, final_estimator__selection=random, final_estimator__tol=0.001;, score=-2.212 total time=  17.5s\n",
      "[CV 4/5] END final_estimator__alpha=0.01, final_estimator__fit_intercept=True, final_estimator__l1_ratio=0.9, final_estimator__max_iter=2000, final_estimator__random_state=42, final_estimator__selection=random, final_estimator__tol=0.001;, score=-2.159 total time=  22.5s\n",
      "[CV 5/5] END final_estimator__alpha=0.01, final_estimator__fit_intercept=True, final_estimator__l1_ratio=0.9, final_estimator__max_iter=2000, final_estimator__random_state=42, final_estimator__selection=random, final_estimator__tol=0.001;, score=-2.278 total time=  30.1s\n",
      "[CV 1/5] END final_estimator__alpha=0.01, final_estimator__fit_intercept=True, final_estimator__l1_ratio=0.9, final_estimator__max_iter=2000, final_estimator__random_state=42, final_estimator__selection=random, final_estimator__tol=0.01;, score=-2.173 total time=  21.6s\n",
      "[CV 2/5] END final_estimator__alpha=0.01, final_estimator__fit_intercept=True, final_estimator__l1_ratio=0.9, final_estimator__max_iter=2000, final_estimator__random_state=42, final_estimator__selection=random, final_estimator__tol=0.01;, score=-2.341 total time=  16.0s\n",
      "[CV 3/5] END final_estimator__alpha=0.01, final_estimator__fit_intercept=True, final_estimator__l1_ratio=0.9, final_estimator__max_iter=2000, final_estimator__random_state=42, final_estimator__selection=random, final_estimator__tol=0.01;, score=-2.194 total time=  22.2s\n",
      "[CV 4/5] END final_estimator__alpha=0.01, final_estimator__fit_intercept=True, final_estimator__l1_ratio=0.9, final_estimator__max_iter=2000, final_estimator__random_state=42, final_estimator__selection=random, final_estimator__tol=0.01;, score=-2.172 total time=  20.8s\n",
      "[CV 5/5] END final_estimator__alpha=0.01, final_estimator__fit_intercept=True, final_estimator__l1_ratio=0.9, final_estimator__max_iter=2000, final_estimator__random_state=42, final_estimator__selection=random, final_estimator__tol=0.01;, score=-2.276 total time=  19.7s\n"
     ]
    },
    {
     "name": "stderr",
     "output_type": "stream",
     "text": [
      "c:\\Users\\User\\.conda\\envs\\energy\\Lib\\site-packages\\sklearn\\linear_model\\_coordinate_descent.py:697: ConvergenceWarning: Objective did not converge. You might want to increase the number of iterations, check the scale of the features or consider increasing regularisation. Duality gap: 2.293e+04, tolerance: 1.615e+02\n",
      "  model = cd_fast.enet_coordinate_descent(\n"
     ]
    },
    {
     "name": "stdout",
     "output_type": "stream",
     "text": [
      "[CV 1/5] END final_estimator__alpha=0.01, final_estimator__fit_intercept=False, final_estimator__l1_ratio=0.1, final_estimator__max_iter=1000, final_estimator__random_state=42, final_estimator__selection=cyclic, final_estimator__tol=0.0001;, score=-2.200 total time=  15.4s\n"
     ]
    },
    {
     "name": "stderr",
     "output_type": "stream",
     "text": [
      "c:\\Users\\User\\.conda\\envs\\energy\\Lib\\site-packages\\sklearn\\linear_model\\_coordinate_descent.py:697: ConvergenceWarning: Objective did not converge. You might want to increase the number of iterations, check the scale of the features or consider increasing regularisation. Duality gap: 2.202e+04, tolerance: 1.598e+02\n",
      "  model = cd_fast.enet_coordinate_descent(\n"
     ]
    },
    {
     "name": "stdout",
     "output_type": "stream",
     "text": [
      "[CV 2/5] END final_estimator__alpha=0.01, final_estimator__fit_intercept=False, final_estimator__l1_ratio=0.1, final_estimator__max_iter=1000, final_estimator__random_state=42, final_estimator__selection=cyclic, final_estimator__tol=0.0001;, score=-2.327 total time=  23.7s\n"
     ]
    },
    {
     "name": "stderr",
     "output_type": "stream",
     "text": [
      "c:\\Users\\User\\.conda\\envs\\energy\\Lib\\site-packages\\sklearn\\linear_model\\_coordinate_descent.py:697: ConvergenceWarning: Objective did not converge. You might want to increase the number of iterations, check the scale of the features or consider increasing regularisation. Duality gap: 2.271e+04, tolerance: 1.608e+02\n",
      "  model = cd_fast.enet_coordinate_descent(\n"
     ]
    },
    {
     "name": "stdout",
     "output_type": "stream",
     "text": [
      "[CV 3/5] END final_estimator__alpha=0.01, final_estimator__fit_intercept=False, final_estimator__l1_ratio=0.1, final_estimator__max_iter=1000, final_estimator__random_state=42, final_estimator__selection=cyclic, final_estimator__tol=0.0001;, score=-2.187 total time=  24.1s\n"
     ]
    },
    {
     "name": "stderr",
     "output_type": "stream",
     "text": [
      "c:\\Users\\User\\.conda\\envs\\energy\\Lib\\site-packages\\sklearn\\linear_model\\_coordinate_descent.py:697: ConvergenceWarning: Objective did not converge. You might want to increase the number of iterations, check the scale of the features or consider increasing regularisation. Duality gap: 2.206e+04, tolerance: 1.614e+02\n",
      "  model = cd_fast.enet_coordinate_descent(\n"
     ]
    },
    {
     "name": "stdout",
     "output_type": "stream",
     "text": [
      "[CV 4/5] END final_estimator__alpha=0.01, final_estimator__fit_intercept=False, final_estimator__l1_ratio=0.1, final_estimator__max_iter=1000, final_estimator__random_state=42, final_estimator__selection=cyclic, final_estimator__tol=0.0001;, score=-2.183 total time=  19.3s\n"
     ]
    },
    {
     "name": "stderr",
     "output_type": "stream",
     "text": [
      "c:\\Users\\User\\.conda\\envs\\energy\\Lib\\site-packages\\sklearn\\linear_model\\_coordinate_descent.py:697: ConvergenceWarning: Objective did not converge. You might want to increase the number of iterations, check the scale of the features or consider increasing regularisation. Duality gap: 2.208e+04, tolerance: 1.609e+02\n",
      "  model = cd_fast.enet_coordinate_descent(\n"
     ]
    },
    {
     "name": "stdout",
     "output_type": "stream",
     "text": [
      "[CV 5/5] END final_estimator__alpha=0.01, final_estimator__fit_intercept=False, final_estimator__l1_ratio=0.1, final_estimator__max_iter=1000, final_estimator__random_state=42, final_estimator__selection=cyclic, final_estimator__tol=0.0001;, score=-2.286 total time=  17.0s\n"
     ]
    },
    {
     "name": "stderr",
     "output_type": "stream",
     "text": [
      "c:\\Users\\User\\.conda\\envs\\energy\\Lib\\site-packages\\sklearn\\linear_model\\_coordinate_descent.py:697: ConvergenceWarning: Objective did not converge. You might want to increase the number of iterations, check the scale of the features or consider increasing regularisation. Duality gap: 2.141e+04, tolerance: 1.615e+03\n",
      "  model = cd_fast.enet_coordinate_descent(\n"
     ]
    },
    {
     "name": "stdout",
     "output_type": "stream",
     "text": [
      "[CV 1/5] END final_estimator__alpha=0.01, final_estimator__fit_intercept=False, final_estimator__l1_ratio=0.1, final_estimator__max_iter=1000, final_estimator__random_state=42, final_estimator__selection=cyclic, final_estimator__tol=0.001;, score=-2.210 total time=  20.8s\n"
     ]
    },
    {
     "name": "stderr",
     "output_type": "stream",
     "text": [
      "c:\\Users\\User\\.conda\\envs\\energy\\Lib\\site-packages\\sklearn\\linear_model\\_coordinate_descent.py:697: ConvergenceWarning: Objective did not converge. You might want to increase the number of iterations, check the scale of the features or consider increasing regularisation. Duality gap: 2.184e+04, tolerance: 1.598e+03\n",
      "  model = cd_fast.enet_coordinate_descent(\n"
     ]
    },
    {
     "name": "stdout",
     "output_type": "stream",
     "text": [
      "[CV 2/5] END final_estimator__alpha=0.01, final_estimator__fit_intercept=False, final_estimator__l1_ratio=0.1, final_estimator__max_iter=1000, final_estimator__random_state=42, final_estimator__selection=cyclic, final_estimator__tol=0.001;, score=-2.352 total time=  22.9s\n"
     ]
    },
    {
     "name": "stderr",
     "output_type": "stream",
     "text": [
      "c:\\Users\\User\\.conda\\envs\\energy\\Lib\\site-packages\\sklearn\\linear_model\\_coordinate_descent.py:697: ConvergenceWarning: Objective did not converge. You might want to increase the number of iterations, check the scale of the features or consider increasing regularisation. Duality gap: 2.239e+04, tolerance: 1.608e+03\n",
      "  model = cd_fast.enet_coordinate_descent(\n"
     ]
    },
    {
     "name": "stdout",
     "output_type": "stream",
     "text": [
      "[CV 3/5] END final_estimator__alpha=0.01, final_estimator__fit_intercept=False, final_estimator__l1_ratio=0.1, final_estimator__max_iter=1000, final_estimator__random_state=42, final_estimator__selection=cyclic, final_estimator__tol=0.001;, score=-2.196 total time=  20.6s\n"
     ]
    },
    {
     "name": "stderr",
     "output_type": "stream",
     "text": [
      "c:\\Users\\User\\.conda\\envs\\energy\\Lib\\site-packages\\sklearn\\linear_model\\_coordinate_descent.py:697: ConvergenceWarning: Objective did not converge. You might want to increase the number of iterations, check the scale of the features or consider increasing regularisation. Duality gap: 2.250e+04, tolerance: 1.614e+03\n",
      "  model = cd_fast.enet_coordinate_descent(\n"
     ]
    },
    {
     "name": "stdout",
     "output_type": "stream",
     "text": [
      "[CV 4/5] END final_estimator__alpha=0.01, final_estimator__fit_intercept=False, final_estimator__l1_ratio=0.1, final_estimator__max_iter=1000, final_estimator__random_state=42, final_estimator__selection=cyclic, final_estimator__tol=0.001;, score=-2.168 total time=  19.2s\n"
     ]
    },
    {
     "name": "stderr",
     "output_type": "stream",
     "text": [
      "c:\\Users\\User\\.conda\\envs\\energy\\Lib\\site-packages\\sklearn\\linear_model\\_coordinate_descent.py:697: ConvergenceWarning: Objective did not converge. You might want to increase the number of iterations, check the scale of the features or consider increasing regularisation. Duality gap: 2.136e+04, tolerance: 1.609e+03\n",
      "  model = cd_fast.enet_coordinate_descent(\n"
     ]
    },
    {
     "name": "stdout",
     "output_type": "stream",
     "text": [
      "[CV 5/5] END final_estimator__alpha=0.01, final_estimator__fit_intercept=False, final_estimator__l1_ratio=0.1, final_estimator__max_iter=1000, final_estimator__random_state=42, final_estimator__selection=cyclic, final_estimator__tol=0.001;, score=-2.303 total time=  25.1s\n"
     ]
    },
    {
     "name": "stderr",
     "output_type": "stream",
     "text": [
      "c:\\Users\\User\\.conda\\envs\\energy\\Lib\\site-packages\\sklearn\\linear_model\\_coordinate_descent.py:697: ConvergenceWarning: Objective did not converge. You might want to increase the number of iterations, check the scale of the features or consider increasing regularisation. Duality gap: 2.340e+04, tolerance: 1.615e+04\n",
      "  model = cd_fast.enet_coordinate_descent(\n"
     ]
    },
    {
     "name": "stdout",
     "output_type": "stream",
     "text": [
      "[CV 1/5] END final_estimator__alpha=0.01, final_estimator__fit_intercept=False, final_estimator__l1_ratio=0.1, final_estimator__max_iter=1000, final_estimator__random_state=42, final_estimator__selection=cyclic, final_estimator__tol=0.01;, score=-2.184 total time=  23.2s\n"
     ]
    },
    {
     "name": "stderr",
     "output_type": "stream",
     "text": [
      "c:\\Users\\User\\.conda\\envs\\energy\\Lib\\site-packages\\sklearn\\linear_model\\_coordinate_descent.py:697: ConvergenceWarning: Objective did not converge. You might want to increase the number of iterations, check the scale of the features or consider increasing regularisation. Duality gap: 2.135e+04, tolerance: 1.598e+04\n",
      "  model = cd_fast.enet_coordinate_descent(\n"
     ]
    },
    {
     "name": "stdout",
     "output_type": "stream",
     "text": [
      "[CV 2/5] END final_estimator__alpha=0.01, final_estimator__fit_intercept=False, final_estimator__l1_ratio=0.1, final_estimator__max_iter=1000, final_estimator__random_state=42, final_estimator__selection=cyclic, final_estimator__tol=0.01;, score=-2.328 total time=  22.5s\n"
     ]
    },
    {
     "name": "stderr",
     "output_type": "stream",
     "text": [
      "c:\\Users\\User\\.conda\\envs\\energy\\Lib\\site-packages\\sklearn\\linear_model\\_coordinate_descent.py:697: ConvergenceWarning: Objective did not converge. You might want to increase the number of iterations, check the scale of the features or consider increasing regularisation. Duality gap: 2.269e+04, tolerance: 1.608e+04\n",
      "  model = cd_fast.enet_coordinate_descent(\n"
     ]
    },
    {
     "name": "stdout",
     "output_type": "stream",
     "text": [
      "[CV 3/5] END final_estimator__alpha=0.01, final_estimator__fit_intercept=False, final_estimator__l1_ratio=0.1, final_estimator__max_iter=1000, final_estimator__random_state=42, final_estimator__selection=cyclic, final_estimator__tol=0.01;, score=-2.217 total time=  15.8s\n"
     ]
    },
    {
     "name": "stderr",
     "output_type": "stream",
     "text": [
      "c:\\Users\\User\\.conda\\envs\\energy\\Lib\\site-packages\\sklearn\\linear_model\\_coordinate_descent.py:697: ConvergenceWarning: Objective did not converge. You might want to increase the number of iterations, check the scale of the features or consider increasing regularisation. Duality gap: 2.200e+04, tolerance: 1.614e+04\n",
      "  model = cd_fast.enet_coordinate_descent(\n"
     ]
    },
    {
     "name": "stdout",
     "output_type": "stream",
     "text": [
      "[CV 4/5] END final_estimator__alpha=0.01, final_estimator__fit_intercept=False, final_estimator__l1_ratio=0.1, final_estimator__max_iter=1000, final_estimator__random_state=42, final_estimator__selection=cyclic, final_estimator__tol=0.01;, score=-2.149 total time=  23.5s\n"
     ]
    },
    {
     "name": "stderr",
     "output_type": "stream",
     "text": [
      "c:\\Users\\User\\.conda\\envs\\energy\\Lib\\site-packages\\sklearn\\linear_model\\_coordinate_descent.py:697: ConvergenceWarning: Objective did not converge. You might want to increase the number of iterations, check the scale of the features or consider increasing regularisation. Duality gap: 2.124e+04, tolerance: 1.609e+04\n",
      "  model = cd_fast.enet_coordinate_descent(\n"
     ]
    },
    {
     "name": "stdout",
     "output_type": "stream",
     "text": [
      "[CV 5/5] END final_estimator__alpha=0.01, final_estimator__fit_intercept=False, final_estimator__l1_ratio=0.1, final_estimator__max_iter=1000, final_estimator__random_state=42, final_estimator__selection=cyclic, final_estimator__tol=0.01;, score=-2.273 total time=  22.5s\n"
     ]
    },
    {
     "name": "stderr",
     "output_type": "stream",
     "text": [
      "c:\\Users\\User\\.conda\\envs\\energy\\Lib\\site-packages\\sklearn\\linear_model\\_coordinate_descent.py:697: ConvergenceWarning: Objective did not converge. You might want to increase the number of iterations, check the scale of the features or consider increasing regularisation. Duality gap: 2.806e+04, tolerance: 1.615e+02\n",
      "  model = cd_fast.enet_coordinate_descent(\n"
     ]
    },
    {
     "name": "stdout",
     "output_type": "stream",
     "text": [
      "[CV 1/5] END final_estimator__alpha=0.01, final_estimator__fit_intercept=False, final_estimator__l1_ratio=0.1, final_estimator__max_iter=1000, final_estimator__random_state=42, final_estimator__selection=random, final_estimator__tol=0.0001;, score=-2.212 total time=  21.1s\n"
     ]
    },
    {
     "name": "stderr",
     "output_type": "stream",
     "text": [
      "c:\\Users\\User\\.conda\\envs\\energy\\Lib\\site-packages\\sklearn\\linear_model\\_coordinate_descent.py:697: ConvergenceWarning: Objective did not converge. You might want to increase the number of iterations, check the scale of the features or consider increasing regularisation. Duality gap: 2.706e+04, tolerance: 1.598e+02\n",
      "  model = cd_fast.enet_coordinate_descent(\n"
     ]
    },
    {
     "name": "stdout",
     "output_type": "stream",
     "text": [
      "[CV 2/5] END final_estimator__alpha=0.01, final_estimator__fit_intercept=False, final_estimator__l1_ratio=0.1, final_estimator__max_iter=1000, final_estimator__random_state=42, final_estimator__selection=random, final_estimator__tol=0.0001;, score=-2.332 total time=  15.5s\n"
     ]
    },
    {
     "name": "stderr",
     "output_type": "stream",
     "text": [
      "c:\\Users\\User\\.conda\\envs\\energy\\Lib\\site-packages\\sklearn\\linear_model\\_coordinate_descent.py:697: ConvergenceWarning: Objective did not converge. You might want to increase the number of iterations, check the scale of the features or consider increasing regularisation. Duality gap: 2.682e+04, tolerance: 1.608e+02\n",
      "  model = cd_fast.enet_coordinate_descent(\n"
     ]
    },
    {
     "name": "stdout",
     "output_type": "stream",
     "text": [
      "[CV 3/5] END final_estimator__alpha=0.01, final_estimator__fit_intercept=False, final_estimator__l1_ratio=0.1, final_estimator__max_iter=1000, final_estimator__random_state=42, final_estimator__selection=random, final_estimator__tol=0.0001;, score=-2.192 total time=  20.4s\n"
     ]
    },
    {
     "name": "stderr",
     "output_type": "stream",
     "text": [
      "c:\\Users\\User\\.conda\\envs\\energy\\Lib\\site-packages\\sklearn\\linear_model\\_coordinate_descent.py:697: ConvergenceWarning: Objective did not converge. You might want to increase the number of iterations, check the scale of the features or consider increasing regularisation. Duality gap: 2.746e+04, tolerance: 1.614e+02\n",
      "  model = cd_fast.enet_coordinate_descent(\n"
     ]
    },
    {
     "name": "stdout",
     "output_type": "stream",
     "text": [
      "[CV 4/5] END final_estimator__alpha=0.01, final_estimator__fit_intercept=False, final_estimator__l1_ratio=0.1, final_estimator__max_iter=1000, final_estimator__random_state=42, final_estimator__selection=random, final_estimator__tol=0.0001;, score=-2.152 total time=  21.0s\n"
     ]
    },
    {
     "name": "stderr",
     "output_type": "stream",
     "text": [
      "c:\\Users\\User\\.conda\\envs\\energy\\Lib\\site-packages\\sklearn\\linear_model\\_coordinate_descent.py:697: ConvergenceWarning: Objective did not converge. You might want to increase the number of iterations, check the scale of the features or consider increasing regularisation. Duality gap: 2.648e+04, tolerance: 1.609e+02\n",
      "  model = cd_fast.enet_coordinate_descent(\n"
     ]
    },
    {
     "name": "stdout",
     "output_type": "stream",
     "text": [
      "[CV 5/5] END final_estimator__alpha=0.01, final_estimator__fit_intercept=False, final_estimator__l1_ratio=0.1, final_estimator__max_iter=1000, final_estimator__random_state=42, final_estimator__selection=random, final_estimator__tol=0.0001;, score=-2.290 total time=  22.4s\n"
     ]
    },
    {
     "name": "stderr",
     "output_type": "stream",
     "text": [
      "c:\\Users\\User\\.conda\\envs\\energy\\Lib\\site-packages\\sklearn\\linear_model\\_coordinate_descent.py:697: ConvergenceWarning: Objective did not converge. You might want to increase the number of iterations, check the scale of the features or consider increasing regularisation. Duality gap: 2.811e+04, tolerance: 1.615e+03\n",
      "  model = cd_fast.enet_coordinate_descent(\n"
     ]
    },
    {
     "name": "stdout",
     "output_type": "stream",
     "text": [
      "[CV 1/5] END final_estimator__alpha=0.01, final_estimator__fit_intercept=False, final_estimator__l1_ratio=0.1, final_estimator__max_iter=1000, final_estimator__random_state=42, final_estimator__selection=random, final_estimator__tol=0.001;, score=-2.170 total time=  21.6s\n"
     ]
    },
    {
     "name": "stderr",
     "output_type": "stream",
     "text": [
      "c:\\Users\\User\\.conda\\envs\\energy\\Lib\\site-packages\\sklearn\\linear_model\\_coordinate_descent.py:697: ConvergenceWarning: Objective did not converge. You might want to increase the number of iterations, check the scale of the features or consider increasing regularisation. Duality gap: 2.689e+04, tolerance: 1.598e+03\n",
      "  model = cd_fast.enet_coordinate_descent(\n"
     ]
    },
    {
     "name": "stdout",
     "output_type": "stream",
     "text": [
      "[CV 2/5] END final_estimator__alpha=0.01, final_estimator__fit_intercept=False, final_estimator__l1_ratio=0.1, final_estimator__max_iter=1000, final_estimator__random_state=42, final_estimator__selection=random, final_estimator__tol=0.001;, score=-2.333 total time=  20.1s\n"
     ]
    },
    {
     "name": "stderr",
     "output_type": "stream",
     "text": [
      "c:\\Users\\User\\.conda\\envs\\energy\\Lib\\site-packages\\sklearn\\linear_model\\_coordinate_descent.py:697: ConvergenceWarning: Objective did not converge. You might want to increase the number of iterations, check the scale of the features or consider increasing regularisation. Duality gap: 2.672e+04, tolerance: 1.608e+03\n",
      "  model = cd_fast.enet_coordinate_descent(\n"
     ]
    },
    {
     "name": "stdout",
     "output_type": "stream",
     "text": [
      "[CV 3/5] END final_estimator__alpha=0.01, final_estimator__fit_intercept=False, final_estimator__l1_ratio=0.1, final_estimator__max_iter=1000, final_estimator__random_state=42, final_estimator__selection=random, final_estimator__tol=0.001;, score=-2.196 total time=  24.1s\n"
     ]
    },
    {
     "name": "stderr",
     "output_type": "stream",
     "text": [
      "c:\\Users\\User\\.conda\\envs\\energy\\Lib\\site-packages\\sklearn\\linear_model\\_coordinate_descent.py:697: ConvergenceWarning: Objective did not converge. You might want to increase the number of iterations, check the scale of the features or consider increasing regularisation. Duality gap: 2.740e+04, tolerance: 1.614e+03\n",
      "  model = cd_fast.enet_coordinate_descent(\n"
     ]
    },
    {
     "name": "stdout",
     "output_type": "stream",
     "text": [
      "[CV 4/5] END final_estimator__alpha=0.01, final_estimator__fit_intercept=False, final_estimator__l1_ratio=0.1, final_estimator__max_iter=1000, final_estimator__random_state=42, final_estimator__selection=random, final_estimator__tol=0.001;, score=-2.154 total time=  22.8s\n"
     ]
    },
    {
     "name": "stderr",
     "output_type": "stream",
     "text": [
      "c:\\Users\\User\\.conda\\envs\\energy\\Lib\\site-packages\\sklearn\\linear_model\\_coordinate_descent.py:697: ConvergenceWarning: Objective did not converge. You might want to increase the number of iterations, check the scale of the features or consider increasing regularisation. Duality gap: 2.650e+04, tolerance: 1.609e+03\n",
      "  model = cd_fast.enet_coordinate_descent(\n"
     ]
    },
    {
     "name": "stdout",
     "output_type": "stream",
     "text": [
      "[CV 5/5] END final_estimator__alpha=0.01, final_estimator__fit_intercept=False, final_estimator__l1_ratio=0.1, final_estimator__max_iter=1000, final_estimator__random_state=42, final_estimator__selection=random, final_estimator__tol=0.001;, score=-2.294 total time=  18.3s\n"
     ]
    },
    {
     "name": "stderr",
     "output_type": "stream",
     "text": [
      "c:\\Users\\User\\.conda\\envs\\energy\\Lib\\site-packages\\sklearn\\linear_model\\_coordinate_descent.py:697: ConvergenceWarning: Objective did not converge. You might want to increase the number of iterations, check the scale of the features or consider increasing regularisation. Duality gap: 2.814e+04, tolerance: 1.615e+04\n",
      "  model = cd_fast.enet_coordinate_descent(\n"
     ]
    },
    {
     "name": "stdout",
     "output_type": "stream",
     "text": [
      "[CV 1/5] END final_estimator__alpha=0.01, final_estimator__fit_intercept=False, final_estimator__l1_ratio=0.1, final_estimator__max_iter=1000, final_estimator__random_state=42, final_estimator__selection=random, final_estimator__tol=0.01;, score=-2.221 total time=  20.8s\n"
     ]
    },
    {
     "name": "stderr",
     "output_type": "stream",
     "text": [
      "c:\\Users\\User\\.conda\\envs\\energy\\Lib\\site-packages\\sklearn\\linear_model\\_coordinate_descent.py:697: ConvergenceWarning: Objective did not converge. You might want to increase the number of iterations, check the scale of the features or consider increasing regularisation. Duality gap: 2.691e+04, tolerance: 1.598e+04\n",
      "  model = cd_fast.enet_coordinate_descent(\n"
     ]
    },
    {
     "name": "stdout",
     "output_type": "stream",
     "text": [
      "[CV 2/5] END final_estimator__alpha=0.01, final_estimator__fit_intercept=False, final_estimator__l1_ratio=0.1, final_estimator__max_iter=1000, final_estimator__random_state=42, final_estimator__selection=random, final_estimator__tol=0.01;, score=-2.330 total time=  26.5s\n"
     ]
    },
    {
     "name": "stderr",
     "output_type": "stream",
     "text": [
      "c:\\Users\\User\\.conda\\envs\\energy\\Lib\\site-packages\\sklearn\\linear_model\\_coordinate_descent.py:697: ConvergenceWarning: Objective did not converge. You might want to increase the number of iterations, check the scale of the features or consider increasing regularisation. Duality gap: 2.665e+04, tolerance: 1.608e+04\n",
      "  model = cd_fast.enet_coordinate_descent(\n"
     ]
    },
    {
     "name": "stdout",
     "output_type": "stream",
     "text": [
      "[CV 3/5] END final_estimator__alpha=0.01, final_estimator__fit_intercept=False, final_estimator__l1_ratio=0.1, final_estimator__max_iter=1000, final_estimator__random_state=42, final_estimator__selection=random, final_estimator__tol=0.01;, score=-2.196 total time=  19.2s\n"
     ]
    },
    {
     "name": "stderr",
     "output_type": "stream",
     "text": [
      "c:\\Users\\User\\.conda\\envs\\energy\\Lib\\site-packages\\sklearn\\linear_model\\_coordinate_descent.py:697: ConvergenceWarning: Objective did not converge. You might want to increase the number of iterations, check the scale of the features or consider increasing regularisation. Duality gap: 2.740e+04, tolerance: 1.614e+04\n",
      "  model = cd_fast.enet_coordinate_descent(\n"
     ]
    },
    {
     "name": "stdout",
     "output_type": "stream",
     "text": [
      "[CV 4/5] END final_estimator__alpha=0.01, final_estimator__fit_intercept=False, final_estimator__l1_ratio=0.1, final_estimator__max_iter=1000, final_estimator__random_state=42, final_estimator__selection=random, final_estimator__tol=0.01;, score=-2.171 total time=  18.8s\n"
     ]
    },
    {
     "name": "stderr",
     "output_type": "stream",
     "text": [
      "c:\\Users\\User\\.conda\\envs\\energy\\Lib\\site-packages\\sklearn\\linear_model\\_coordinate_descent.py:697: ConvergenceWarning: Objective did not converge. You might want to increase the number of iterations, check the scale of the features or consider increasing regularisation. Duality gap: 2.654e+04, tolerance: 1.609e+04\n",
      "  model = cd_fast.enet_coordinate_descent(\n"
     ]
    },
    {
     "name": "stdout",
     "output_type": "stream",
     "text": [
      "[CV 5/5] END final_estimator__alpha=0.01, final_estimator__fit_intercept=False, final_estimator__l1_ratio=0.1, final_estimator__max_iter=1000, final_estimator__random_state=42, final_estimator__selection=random, final_estimator__tol=0.01;, score=-2.298 total time=  17.9s\n"
     ]
    },
    {
     "name": "stderr",
     "output_type": "stream",
     "text": [
      "c:\\Users\\User\\.conda\\envs\\energy\\Lib\\site-packages\\sklearn\\linear_model\\_coordinate_descent.py:697: ConvergenceWarning: Objective did not converge. You might want to increase the number of iterations, check the scale of the features or consider increasing regularisation. Duality gap: 4.304e+02, tolerance: 1.615e+02\n",
      "  model = cd_fast.enet_coordinate_descent(\n"
     ]
    },
    {
     "name": "stdout",
     "output_type": "stream",
     "text": [
      "[CV 1/5] END final_estimator__alpha=0.01, final_estimator__fit_intercept=False, final_estimator__l1_ratio=0.1, final_estimator__max_iter=2000, final_estimator__random_state=42, final_estimator__selection=cyclic, final_estimator__tol=0.0001;, score=-2.215 total time=  22.7s\n"
     ]
    },
    {
     "name": "stderr",
     "output_type": "stream",
     "text": [
      "c:\\Users\\User\\.conda\\envs\\energy\\Lib\\site-packages\\sklearn\\linear_model\\_coordinate_descent.py:697: ConvergenceWarning: Objective did not converge. You might want to increase the number of iterations, check the scale of the features or consider increasing regularisation. Duality gap: 4.880e+02, tolerance: 1.598e+02\n",
      "  model = cd_fast.enet_coordinate_descent(\n"
     ]
    },
    {
     "name": "stdout",
     "output_type": "stream",
     "text": [
      "[CV 2/5] END final_estimator__alpha=0.01, final_estimator__fit_intercept=False, final_estimator__l1_ratio=0.1, final_estimator__max_iter=2000, final_estimator__random_state=42, final_estimator__selection=cyclic, final_estimator__tol=0.0001;, score=-2.334 total time=  22.9s\n"
     ]
    },
    {
     "name": "stderr",
     "output_type": "stream",
     "text": [
      "c:\\Users\\User\\.conda\\envs\\energy\\Lib\\site-packages\\sklearn\\linear_model\\_coordinate_descent.py:697: ConvergenceWarning: Objective did not converge. You might want to increase the number of iterations, check the scale of the features or consider increasing regularisation. Duality gap: 2.262e+03, tolerance: 1.608e+02\n",
      "  model = cd_fast.enet_coordinate_descent(\n"
     ]
    },
    {
     "name": "stdout",
     "output_type": "stream",
     "text": [
      "[CV 3/5] END final_estimator__alpha=0.01, final_estimator__fit_intercept=False, final_estimator__l1_ratio=0.1, final_estimator__max_iter=2000, final_estimator__random_state=42, final_estimator__selection=cyclic, final_estimator__tol=0.0001;, score=-2.217 total time=  20.5s\n"
     ]
    },
    {
     "name": "stderr",
     "output_type": "stream",
     "text": [
      "c:\\Users\\User\\.conda\\envs\\energy\\Lib\\site-packages\\sklearn\\linear_model\\_coordinate_descent.py:697: ConvergenceWarning: Objective did not converge. You might want to increase the number of iterations, check the scale of the features or consider increasing regularisation. Duality gap: 8.239e+02, tolerance: 1.614e+02\n",
      "  model = cd_fast.enet_coordinate_descent(\n"
     ]
    },
    {
     "name": "stdout",
     "output_type": "stream",
     "text": [
      "[CV 4/5] END final_estimator__alpha=0.01, final_estimator__fit_intercept=False, final_estimator__l1_ratio=0.1, final_estimator__max_iter=2000, final_estimator__random_state=42, final_estimator__selection=cyclic, final_estimator__tol=0.0001;, score=-2.163 total time=  23.1s\n"
     ]
    },
    {
     "name": "stderr",
     "output_type": "stream",
     "text": [
      "c:\\Users\\User\\.conda\\envs\\energy\\Lib\\site-packages\\sklearn\\linear_model\\_coordinate_descent.py:697: ConvergenceWarning: Objective did not converge. You might want to increase the number of iterations, check the scale of the features or consider increasing regularisation. Duality gap: 8.801e+02, tolerance: 1.609e+02\n",
      "  model = cd_fast.enet_coordinate_descent(\n"
     ]
    },
    {
     "name": "stdout",
     "output_type": "stream",
     "text": [
      "[CV 5/5] END final_estimator__alpha=0.01, final_estimator__fit_intercept=False, final_estimator__l1_ratio=0.1, final_estimator__max_iter=2000, final_estimator__random_state=42, final_estimator__selection=cyclic, final_estimator__tol=0.0001;, score=-2.301 total time=  19.2s\n",
      "[CV 1/5] END final_estimator__alpha=0.01, final_estimator__fit_intercept=False, final_estimator__l1_ratio=0.1, final_estimator__max_iter=2000, final_estimator__random_state=42, final_estimator__selection=cyclic, final_estimator__tol=0.001;, score=-2.179 total time=  19.9s\n",
      "[CV 2/5] END final_estimator__alpha=0.01, final_estimator__fit_intercept=False, final_estimator__l1_ratio=0.1, final_estimator__max_iter=2000, final_estimator__random_state=42, final_estimator__selection=cyclic, final_estimator__tol=0.001;, score=-2.319 total time=  23.7s\n"
     ]
    },
    {
     "name": "stderr",
     "output_type": "stream",
     "text": [
      "c:\\Users\\User\\.conda\\envs\\energy\\Lib\\site-packages\\sklearn\\linear_model\\_coordinate_descent.py:697: ConvergenceWarning: Objective did not converge. You might want to increase the number of iterations, check the scale of the features or consider increasing regularisation. Duality gap: 2.156e+03, tolerance: 1.608e+03\n",
      "  model = cd_fast.enet_coordinate_descent(\n"
     ]
    },
    {
     "name": "stdout",
     "output_type": "stream",
     "text": [
      "[CV 3/5] END final_estimator__alpha=0.01, final_estimator__fit_intercept=False, final_estimator__l1_ratio=0.1, final_estimator__max_iter=2000, final_estimator__random_state=42, final_estimator__selection=cyclic, final_estimator__tol=0.001;, score=-2.196 total time=  18.9s\n",
      "[CV 4/5] END final_estimator__alpha=0.01, final_estimator__fit_intercept=False, final_estimator__l1_ratio=0.1, final_estimator__max_iter=2000, final_estimator__random_state=42, final_estimator__selection=cyclic, final_estimator__tol=0.001;, score=-2.166 total time=  23.2s\n",
      "[CV 5/5] END final_estimator__alpha=0.01, final_estimator__fit_intercept=False, final_estimator__l1_ratio=0.1, final_estimator__max_iter=2000, final_estimator__random_state=42, final_estimator__selection=cyclic, final_estimator__tol=0.001;, score=-2.281 total time=  22.0s\n",
      "[CV 1/5] END final_estimator__alpha=0.01, final_estimator__fit_intercept=False, final_estimator__l1_ratio=0.1, final_estimator__max_iter=2000, final_estimator__random_state=42, final_estimator__selection=cyclic, final_estimator__tol=0.01;, score=-2.193 total time=  17.7s\n",
      "[CV 2/5] END final_estimator__alpha=0.01, final_estimator__fit_intercept=False, final_estimator__l1_ratio=0.1, final_estimator__max_iter=2000, final_estimator__random_state=42, final_estimator__selection=cyclic, final_estimator__tol=0.01;, score=-2.350 total time=  19.1s\n",
      "[CV 3/5] END final_estimator__alpha=0.01, final_estimator__fit_intercept=False, final_estimator__l1_ratio=0.1, final_estimator__max_iter=2000, final_estimator__random_state=42, final_estimator__selection=cyclic, final_estimator__tol=0.01;, score=-2.180 total time=  24.3s\n",
      "[CV 4/5] END final_estimator__alpha=0.01, final_estimator__fit_intercept=False, final_estimator__l1_ratio=0.1, final_estimator__max_iter=2000, final_estimator__random_state=42, final_estimator__selection=cyclic, final_estimator__tol=0.01;, score=-2.159 total time=  21.5s\n",
      "[CV 5/5] END final_estimator__alpha=0.01, final_estimator__fit_intercept=False, final_estimator__l1_ratio=0.1, final_estimator__max_iter=2000, final_estimator__random_state=42, final_estimator__selection=cyclic, final_estimator__tol=0.01;, score=-2.301 total time=  18.3s\n"
     ]
    },
    {
     "name": "stderr",
     "output_type": "stream",
     "text": [
      "c:\\Users\\User\\.conda\\envs\\energy\\Lib\\site-packages\\sklearn\\linear_model\\_coordinate_descent.py:697: ConvergenceWarning: Objective did not converge. You might want to increase the number of iterations, check the scale of the features or consider increasing regularisation. Duality gap: 2.320e+04, tolerance: 1.615e+02\n",
      "  model = cd_fast.enet_coordinate_descent(\n"
     ]
    },
    {
     "name": "stdout",
     "output_type": "stream",
     "text": [
      "[CV 1/5] END final_estimator__alpha=0.01, final_estimator__fit_intercept=False, final_estimator__l1_ratio=0.1, final_estimator__max_iter=2000, final_estimator__random_state=42, final_estimator__selection=random, final_estimator__tol=0.0001;, score=-2.209 total time=  22.3s\n"
     ]
    },
    {
     "name": "stderr",
     "output_type": "stream",
     "text": [
      "c:\\Users\\User\\.conda\\envs\\energy\\Lib\\site-packages\\sklearn\\linear_model\\_coordinate_descent.py:697: ConvergenceWarning: Objective did not converge. You might want to increase the number of iterations, check the scale of the features or consider increasing regularisation. Duality gap: 2.222e+04, tolerance: 1.598e+02\n",
      "  model = cd_fast.enet_coordinate_descent(\n"
     ]
    },
    {
     "name": "stdout",
     "output_type": "stream",
     "text": [
      "[CV 2/5] END final_estimator__alpha=0.01, final_estimator__fit_intercept=False, final_estimator__l1_ratio=0.1, final_estimator__max_iter=2000, final_estimator__random_state=42, final_estimator__selection=random, final_estimator__tol=0.0001;, score=-2.320 total time=  23.1s\n"
     ]
    },
    {
     "name": "stderr",
     "output_type": "stream",
     "text": [
      "c:\\Users\\User\\.conda\\envs\\energy\\Lib\\site-packages\\sklearn\\linear_model\\_coordinate_descent.py:697: ConvergenceWarning: Objective did not converge. You might want to increase the number of iterations, check the scale of the features or consider increasing regularisation. Duality gap: 2.237e+04, tolerance: 1.608e+02\n",
      "  model = cd_fast.enet_coordinate_descent(\n"
     ]
    },
    {
     "name": "stdout",
     "output_type": "stream",
     "text": [
      "[CV 3/5] END final_estimator__alpha=0.01, final_estimator__fit_intercept=False, final_estimator__l1_ratio=0.1, final_estimator__max_iter=2000, final_estimator__random_state=42, final_estimator__selection=random, final_estimator__tol=0.0001;, score=-2.196 total time=  17.4s\n"
     ]
    },
    {
     "name": "stderr",
     "output_type": "stream",
     "text": [
      "c:\\Users\\User\\.conda\\envs\\energy\\Lib\\site-packages\\sklearn\\linear_model\\_coordinate_descent.py:697: ConvergenceWarning: Objective did not converge. You might want to increase the number of iterations, check the scale of the features or consider increasing regularisation. Duality gap: 2.272e+04, tolerance: 1.614e+02\n",
      "  model = cd_fast.enet_coordinate_descent(\n"
     ]
    },
    {
     "name": "stdout",
     "output_type": "stream",
     "text": [
      "[CV 4/5] END final_estimator__alpha=0.01, final_estimator__fit_intercept=False, final_estimator__l1_ratio=0.1, final_estimator__max_iter=2000, final_estimator__random_state=42, final_estimator__selection=random, final_estimator__tol=0.0001;, score=-2.161 total time=  20.4s\n"
     ]
    },
    {
     "name": "stderr",
     "output_type": "stream",
     "text": [
      "c:\\Users\\User\\.conda\\envs\\energy\\Lib\\site-packages\\sklearn\\linear_model\\_coordinate_descent.py:697: ConvergenceWarning: Objective did not converge. You might want to increase the number of iterations, check the scale of the features or consider increasing regularisation. Duality gap: 2.207e+04, tolerance: 1.609e+02\n",
      "  model = cd_fast.enet_coordinate_descent(\n"
     ]
    },
    {
     "name": "stdout",
     "output_type": "stream",
     "text": [
      "[CV 5/5] END final_estimator__alpha=0.01, final_estimator__fit_intercept=False, final_estimator__l1_ratio=0.1, final_estimator__max_iter=2000, final_estimator__random_state=42, final_estimator__selection=random, final_estimator__tol=0.0001;, score=-2.288 total time=  22.7s\n"
     ]
    },
    {
     "name": "stderr",
     "output_type": "stream",
     "text": [
      "c:\\Users\\User\\.conda\\envs\\energy\\Lib\\site-packages\\sklearn\\linear_model\\_coordinate_descent.py:697: ConvergenceWarning: Objective did not converge. You might want to increase the number of iterations, check the scale of the features or consider increasing regularisation. Duality gap: 2.282e+04, tolerance: 1.615e+03\n",
      "  model = cd_fast.enet_coordinate_descent(\n"
     ]
    },
    {
     "name": "stdout",
     "output_type": "stream",
     "text": [
      "[CV 1/5] END final_estimator__alpha=0.01, final_estimator__fit_intercept=False, final_estimator__l1_ratio=0.1, final_estimator__max_iter=2000, final_estimator__random_state=42, final_estimator__selection=random, final_estimator__tol=0.001;, score=-2.187 total time=  23.6s\n"
     ]
    },
    {
     "name": "stderr",
     "output_type": "stream",
     "text": [
      "c:\\Users\\User\\.conda\\envs\\energy\\Lib\\site-packages\\sklearn\\linear_model\\_coordinate_descent.py:697: ConvergenceWarning: Objective did not converge. You might want to increase the number of iterations, check the scale of the features or consider increasing regularisation. Duality gap: 2.246e+04, tolerance: 1.598e+03\n",
      "  model = cd_fast.enet_coordinate_descent(\n"
     ]
    },
    {
     "name": "stdout",
     "output_type": "stream",
     "text": [
      "[CV 2/5] END final_estimator__alpha=0.01, final_estimator__fit_intercept=False, final_estimator__l1_ratio=0.1, final_estimator__max_iter=2000, final_estimator__random_state=42, final_estimator__selection=random, final_estimator__tol=0.001;, score=-2.334 total time=  21.2s\n"
     ]
    },
    {
     "name": "stderr",
     "output_type": "stream",
     "text": [
      "c:\\Users\\User\\.conda\\envs\\energy\\Lib\\site-packages\\sklearn\\linear_model\\_coordinate_descent.py:697: ConvergenceWarning: Objective did not converge. You might want to increase the number of iterations, check the scale of the features or consider increasing regularisation. Duality gap: 2.211e+04, tolerance: 1.608e+03\n",
      "  model = cd_fast.enet_coordinate_descent(\n"
     ]
    },
    {
     "name": "stdout",
     "output_type": "stream",
     "text": [
      "[CV 3/5] END final_estimator__alpha=0.01, final_estimator__fit_intercept=False, final_estimator__l1_ratio=0.1, final_estimator__max_iter=2000, final_estimator__random_state=42, final_estimator__selection=random, final_estimator__tol=0.001;, score=-2.192 total time=  16.5s\n"
     ]
    },
    {
     "name": "stderr",
     "output_type": "stream",
     "text": [
      "c:\\Users\\User\\.conda\\envs\\energy\\Lib\\site-packages\\sklearn\\linear_model\\_coordinate_descent.py:697: ConvergenceWarning: Objective did not converge. You might want to increase the number of iterations, check the scale of the features or consider increasing regularisation. Duality gap: 2.264e+04, tolerance: 1.614e+03\n",
      "  model = cd_fast.enet_coordinate_descent(\n"
     ]
    },
    {
     "name": "stdout",
     "output_type": "stream",
     "text": [
      "[CV 4/5] END final_estimator__alpha=0.01, final_estimator__fit_intercept=False, final_estimator__l1_ratio=0.1, final_estimator__max_iter=2000, final_estimator__random_state=42, final_estimator__selection=random, final_estimator__tol=0.001;, score=-2.156 total time=  21.1s\n"
     ]
    },
    {
     "name": "stderr",
     "output_type": "stream",
     "text": [
      "c:\\Users\\User\\.conda\\envs\\energy\\Lib\\site-packages\\sklearn\\linear_model\\_coordinate_descent.py:697: ConvergenceWarning: Objective did not converge. You might want to increase the number of iterations, check the scale of the features or consider increasing regularisation. Duality gap: 2.166e+04, tolerance: 1.609e+03\n",
      "  model = cd_fast.enet_coordinate_descent(\n"
     ]
    },
    {
     "name": "stdout",
     "output_type": "stream",
     "text": [
      "[CV 5/5] END final_estimator__alpha=0.01, final_estimator__fit_intercept=False, final_estimator__l1_ratio=0.1, final_estimator__max_iter=2000, final_estimator__random_state=42, final_estimator__selection=random, final_estimator__tol=0.001;, score=-2.301 total time=  19.8s\n"
     ]
    },
    {
     "name": "stderr",
     "output_type": "stream",
     "text": [
      "c:\\Users\\User\\.conda\\envs\\energy\\Lib\\site-packages\\sklearn\\linear_model\\_coordinate_descent.py:697: ConvergenceWarning: Objective did not converge. You might want to increase the number of iterations, check the scale of the features or consider increasing regularisation. Duality gap: 2.324e+04, tolerance: 1.615e+04\n",
      "  model = cd_fast.enet_coordinate_descent(\n"
     ]
    },
    {
     "name": "stdout",
     "output_type": "stream",
     "text": [
      "[CV 1/5] END final_estimator__alpha=0.01, final_estimator__fit_intercept=False, final_estimator__l1_ratio=0.1, final_estimator__max_iter=2000, final_estimator__random_state=42, final_estimator__selection=random, final_estimator__tol=0.01;, score=-2.195 total time=  18.9s\n"
     ]
    },
    {
     "name": "stderr",
     "output_type": "stream",
     "text": [
      "c:\\Users\\User\\.conda\\envs\\energy\\Lib\\site-packages\\sklearn\\linear_model\\_coordinate_descent.py:697: ConvergenceWarning: Objective did not converge. You might want to increase the number of iterations, check the scale of the features or consider increasing regularisation. Duality gap: 2.214e+04, tolerance: 1.598e+04\n",
      "  model = cd_fast.enet_coordinate_descent(\n"
     ]
    },
    {
     "name": "stdout",
     "output_type": "stream",
     "text": [
      "[CV 2/5] END final_estimator__alpha=0.01, final_estimator__fit_intercept=False, final_estimator__l1_ratio=0.1, final_estimator__max_iter=2000, final_estimator__random_state=42, final_estimator__selection=random, final_estimator__tol=0.01;, score=-2.348 total time=  21.9s\n"
     ]
    },
    {
     "name": "stderr",
     "output_type": "stream",
     "text": [
      "c:\\Users\\User\\.conda\\envs\\energy\\Lib\\site-packages\\sklearn\\linear_model\\_coordinate_descent.py:697: ConvergenceWarning: Objective did not converge. You might want to increase the number of iterations, check the scale of the features or consider increasing regularisation. Duality gap: 2.219e+04, tolerance: 1.608e+04\n",
      "  model = cd_fast.enet_coordinate_descent(\n"
     ]
    },
    {
     "name": "stdout",
     "output_type": "stream",
     "text": [
      "[CV 3/5] END final_estimator__alpha=0.01, final_estimator__fit_intercept=False, final_estimator__l1_ratio=0.1, final_estimator__max_iter=2000, final_estimator__random_state=42, final_estimator__selection=random, final_estimator__tol=0.01;, score=-2.210 total time=  19.5s\n"
     ]
    },
    {
     "name": "stderr",
     "output_type": "stream",
     "text": [
      "c:\\Users\\User\\.conda\\envs\\energy\\Lib\\site-packages\\sklearn\\linear_model\\_coordinate_descent.py:697: ConvergenceWarning: Objective did not converge. You might want to increase the number of iterations, check the scale of the features or consider increasing regularisation. Duality gap: 2.271e+04, tolerance: 1.614e+04\n",
      "  model = cd_fast.enet_coordinate_descent(\n"
     ]
    },
    {
     "name": "stdout",
     "output_type": "stream",
     "text": [
      "[CV 4/5] END final_estimator__alpha=0.01, final_estimator__fit_intercept=False, final_estimator__l1_ratio=0.1, final_estimator__max_iter=2000, final_estimator__random_state=42, final_estimator__selection=random, final_estimator__tol=0.01;, score=-2.162 total time=  24.1s\n"
     ]
    },
    {
     "name": "stderr",
     "output_type": "stream",
     "text": [
      "c:\\Users\\User\\.conda\\envs\\energy\\Lib\\site-packages\\sklearn\\linear_model\\_coordinate_descent.py:697: ConvergenceWarning: Objective did not converge. You might want to increase the number of iterations, check the scale of the features or consider increasing regularisation. Duality gap: 2.176e+04, tolerance: 1.609e+04\n",
      "  model = cd_fast.enet_coordinate_descent(\n"
     ]
    },
    {
     "name": "stdout",
     "output_type": "stream",
     "text": [
      "[CV 5/5] END final_estimator__alpha=0.01, final_estimator__fit_intercept=False, final_estimator__l1_ratio=0.1, final_estimator__max_iter=2000, final_estimator__random_state=42, final_estimator__selection=random, final_estimator__tol=0.01;, score=-2.280 total time=  18.6s\n"
     ]
    },
    {
     "name": "stderr",
     "output_type": "stream",
     "text": [
      "c:\\Users\\User\\.conda\\envs\\energy\\Lib\\site-packages\\sklearn\\linear_model\\_coordinate_descent.py:697: ConvergenceWarning: Objective did not converge. You might want to increase the number of iterations, check the scale of the features or consider increasing regularisation. Duality gap: 1.499e+04, tolerance: 1.615e+02\n",
      "  model = cd_fast.enet_coordinate_descent(\n"
     ]
    },
    {
     "name": "stdout",
     "output_type": "stream",
     "text": [
      "[CV 1/5] END final_estimator__alpha=0.01, final_estimator__fit_intercept=False, final_estimator__l1_ratio=0.3, final_estimator__max_iter=1000, final_estimator__random_state=42, final_estimator__selection=cyclic, final_estimator__tol=0.0001;, score=-2.207 total time=  18.8s\n"
     ]
    },
    {
     "name": "stderr",
     "output_type": "stream",
     "text": [
      "c:\\Users\\User\\.conda\\envs\\energy\\Lib\\site-packages\\sklearn\\linear_model\\_coordinate_descent.py:697: ConvergenceWarning: Objective did not converge. You might want to increase the number of iterations, check the scale of the features or consider increasing regularisation. Duality gap: 1.409e+04, tolerance: 1.598e+02\n",
      "  model = cd_fast.enet_coordinate_descent(\n"
     ]
    },
    {
     "name": "stdout",
     "output_type": "stream",
     "text": [
      "[CV 2/5] END final_estimator__alpha=0.01, final_estimator__fit_intercept=False, final_estimator__l1_ratio=0.3, final_estimator__max_iter=1000, final_estimator__random_state=42, final_estimator__selection=cyclic, final_estimator__tol=0.0001;, score=-2.352 total time=  21.9s\n"
     ]
    },
    {
     "name": "stderr",
     "output_type": "stream",
     "text": [
      "c:\\Users\\User\\.conda\\envs\\energy\\Lib\\site-packages\\sklearn\\linear_model\\_coordinate_descent.py:697: ConvergenceWarning: Objective did not converge. You might want to increase the number of iterations, check the scale of the features or consider increasing regularisation. Duality gap: 1.501e+04, tolerance: 1.608e+02\n",
      "  model = cd_fast.enet_coordinate_descent(\n"
     ]
    },
    {
     "name": "stdout",
     "output_type": "stream",
     "text": [
      "[CV 3/5] END final_estimator__alpha=0.01, final_estimator__fit_intercept=False, final_estimator__l1_ratio=0.3, final_estimator__max_iter=1000, final_estimator__random_state=42, final_estimator__selection=cyclic, final_estimator__tol=0.0001;, score=-2.203 total time=  21.3s\n"
     ]
    },
    {
     "name": "stderr",
     "output_type": "stream",
     "text": [
      "c:\\Users\\User\\.conda\\envs\\energy\\Lib\\site-packages\\sklearn\\linear_model\\_coordinate_descent.py:697: ConvergenceWarning: Objective did not converge. You might want to increase the number of iterations, check the scale of the features or consider increasing regularisation. Duality gap: 1.308e+04, tolerance: 1.614e+02\n",
      "  model = cd_fast.enet_coordinate_descent(\n"
     ]
    },
    {
     "name": "stdout",
     "output_type": "stream",
     "text": [
      "[CV 4/5] END final_estimator__alpha=0.01, final_estimator__fit_intercept=False, final_estimator__l1_ratio=0.3, final_estimator__max_iter=1000, final_estimator__random_state=42, final_estimator__selection=cyclic, final_estimator__tol=0.0001;, score=-2.157 total time=  22.0s\n"
     ]
    },
    {
     "name": "stderr",
     "output_type": "stream",
     "text": [
      "c:\\Users\\User\\.conda\\envs\\energy\\Lib\\site-packages\\sklearn\\linear_model\\_coordinate_descent.py:697: ConvergenceWarning: Objective did not converge. You might want to increase the number of iterations, check the scale of the features or consider increasing regularisation. Duality gap: 1.465e+04, tolerance: 1.609e+02\n",
      "  model = cd_fast.enet_coordinate_descent(\n"
     ]
    },
    {
     "name": "stdout",
     "output_type": "stream",
     "text": [
      "[CV 5/5] END final_estimator__alpha=0.01, final_estimator__fit_intercept=False, final_estimator__l1_ratio=0.3, final_estimator__max_iter=1000, final_estimator__random_state=42, final_estimator__selection=cyclic, final_estimator__tol=0.0001;, score=-2.301 total time=  20.3s\n"
     ]
    },
    {
     "name": "stderr",
     "output_type": "stream",
     "text": [
      "c:\\Users\\User\\.conda\\envs\\energy\\Lib\\site-packages\\sklearn\\linear_model\\_coordinate_descent.py:697: ConvergenceWarning: Objective did not converge. You might want to increase the number of iterations, check the scale of the features or consider increasing regularisation. Duality gap: 1.359e+04, tolerance: 1.615e+03\n",
      "  model = cd_fast.enet_coordinate_descent(\n"
     ]
    },
    {
     "name": "stdout",
     "output_type": "stream",
     "text": [
      "[CV 1/5] END final_estimator__alpha=0.01, final_estimator__fit_intercept=False, final_estimator__l1_ratio=0.3, final_estimator__max_iter=1000, final_estimator__random_state=42, final_estimator__selection=cyclic, final_estimator__tol=0.001;, score=-2.216 total time=  20.9s\n"
     ]
    },
    {
     "name": "stderr",
     "output_type": "stream",
     "text": [
      "c:\\Users\\User\\.conda\\envs\\energy\\Lib\\site-packages\\sklearn\\linear_model\\_coordinate_descent.py:697: ConvergenceWarning: Objective did not converge. You might want to increase the number of iterations, check the scale of the features or consider increasing regularisation. Duality gap: 1.097e+04, tolerance: 1.598e+03\n",
      "  model = cd_fast.enet_coordinate_descent(\n"
     ]
    },
    {
     "name": "stdout",
     "output_type": "stream",
     "text": [
      "[CV 2/5] END final_estimator__alpha=0.01, final_estimator__fit_intercept=False, final_estimator__l1_ratio=0.3, final_estimator__max_iter=1000, final_estimator__random_state=42, final_estimator__selection=cyclic, final_estimator__tol=0.001;, score=-2.345 total time=  22.4s\n"
     ]
    },
    {
     "name": "stderr",
     "output_type": "stream",
     "text": [
      "c:\\Users\\User\\.conda\\envs\\energy\\Lib\\site-packages\\sklearn\\linear_model\\_coordinate_descent.py:697: ConvergenceWarning: Objective did not converge. You might want to increase the number of iterations, check the scale of the features or consider increasing regularisation. Duality gap: 1.466e+04, tolerance: 1.608e+03\n",
      "  model = cd_fast.enet_coordinate_descent(\n"
     ]
    },
    {
     "name": "stdout",
     "output_type": "stream",
     "text": [
      "[CV 3/5] END final_estimator__alpha=0.01, final_estimator__fit_intercept=False, final_estimator__l1_ratio=0.3, final_estimator__max_iter=1000, final_estimator__random_state=42, final_estimator__selection=cyclic, final_estimator__tol=0.001;, score=-2.184 total time=  20.5s\n"
     ]
    },
    {
     "name": "stderr",
     "output_type": "stream",
     "text": [
      "c:\\Users\\User\\.conda\\envs\\energy\\Lib\\site-packages\\sklearn\\linear_model\\_coordinate_descent.py:697: ConvergenceWarning: Objective did not converge. You might want to increase the number of iterations, check the scale of the features or consider increasing regularisation. Duality gap: 1.298e+04, tolerance: 1.614e+03\n",
      "  model = cd_fast.enet_coordinate_descent(\n"
     ]
    },
    {
     "name": "stdout",
     "output_type": "stream",
     "text": [
      "[CV 4/5] END final_estimator__alpha=0.01, final_estimator__fit_intercept=False, final_estimator__l1_ratio=0.3, final_estimator__max_iter=1000, final_estimator__random_state=42, final_estimator__selection=cyclic, final_estimator__tol=0.001;, score=-2.146 total time=  19.4s\n"
     ]
    },
    {
     "name": "stderr",
     "output_type": "stream",
     "text": [
      "c:\\Users\\User\\.conda\\envs\\energy\\Lib\\site-packages\\sklearn\\linear_model\\_coordinate_descent.py:697: ConvergenceWarning: Objective did not converge. You might want to increase the number of iterations, check the scale of the features or consider increasing regularisation. Duality gap: 1.369e+04, tolerance: 1.609e+03\n",
      "  model = cd_fast.enet_coordinate_descent(\n"
     ]
    },
    {
     "name": "stdout",
     "output_type": "stream",
     "text": [
      "[CV 5/5] END final_estimator__alpha=0.01, final_estimator__fit_intercept=False, final_estimator__l1_ratio=0.3, final_estimator__max_iter=1000, final_estimator__random_state=42, final_estimator__selection=cyclic, final_estimator__tol=0.001;, score=-2.285 total time=  23.2s\n",
      "[CV 1/5] END final_estimator__alpha=0.01, final_estimator__fit_intercept=False, final_estimator__l1_ratio=0.3, final_estimator__max_iter=1000, final_estimator__random_state=42, final_estimator__selection=cyclic, final_estimator__tol=0.01;, score=-2.199 total time=  20.7s\n",
      "[CV 2/5] END final_estimator__alpha=0.01, final_estimator__fit_intercept=False, final_estimator__l1_ratio=0.3, final_estimator__max_iter=1000, final_estimator__random_state=42, final_estimator__selection=cyclic, final_estimator__tol=0.01;, score=-2.335 total time=  22.5s\n",
      "[CV 3/5] END final_estimator__alpha=0.01, final_estimator__fit_intercept=False, final_estimator__l1_ratio=0.3, final_estimator__max_iter=1000, final_estimator__random_state=42, final_estimator__selection=cyclic, final_estimator__tol=0.01;, score=-2.194 total time=  20.0s\n",
      "[CV 4/5] END final_estimator__alpha=0.01, final_estimator__fit_intercept=False, final_estimator__l1_ratio=0.3, final_estimator__max_iter=1000, final_estimator__random_state=42, final_estimator__selection=cyclic, final_estimator__tol=0.01;, score=-2.157 total time=  19.4s\n",
      "[CV 5/5] END final_estimator__alpha=0.01, final_estimator__fit_intercept=False, final_estimator__l1_ratio=0.3, final_estimator__max_iter=1000, final_estimator__random_state=42, final_estimator__selection=cyclic, final_estimator__tol=0.01;, score=-2.293 total time=  17.3s\n"
     ]
    },
    {
     "name": "stderr",
     "output_type": "stream",
     "text": [
      "c:\\Users\\User\\.conda\\envs\\energy\\Lib\\site-packages\\sklearn\\linear_model\\_coordinate_descent.py:697: ConvergenceWarning: Objective did not converge. You might want to increase the number of iterations, check the scale of the features or consider increasing regularisation. Duality gap: 2.566e+04, tolerance: 1.615e+02\n",
      "  model = cd_fast.enet_coordinate_descent(\n"
     ]
    },
    {
     "name": "stdout",
     "output_type": "stream",
     "text": [
      "[CV 1/5] END final_estimator__alpha=0.01, final_estimator__fit_intercept=False, final_estimator__l1_ratio=0.3, final_estimator__max_iter=1000, final_estimator__random_state=42, final_estimator__selection=random, final_estimator__tol=0.0001;, score=-2.192 total time=  23.1s\n"
     ]
    },
    {
     "name": "stderr",
     "output_type": "stream",
     "text": [
      "c:\\Users\\User\\.conda\\envs\\energy\\Lib\\site-packages\\sklearn\\linear_model\\_coordinate_descent.py:697: ConvergenceWarning: Objective did not converge. You might want to increase the number of iterations, check the scale of the features or consider increasing regularisation. Duality gap: 2.478e+04, tolerance: 1.598e+02\n",
      "  model = cd_fast.enet_coordinate_descent(\n"
     ]
    },
    {
     "name": "stdout",
     "output_type": "stream",
     "text": [
      "[CV 2/5] END final_estimator__alpha=0.01, final_estimator__fit_intercept=False, final_estimator__l1_ratio=0.3, final_estimator__max_iter=1000, final_estimator__random_state=42, final_estimator__selection=random, final_estimator__tol=0.0001;, score=-2.333 total time=  20.0s\n"
     ]
    },
    {
     "name": "stderr",
     "output_type": "stream",
     "text": [
      "c:\\Users\\User\\.conda\\envs\\energy\\Lib\\site-packages\\sklearn\\linear_model\\_coordinate_descent.py:697: ConvergenceWarning: Objective did not converge. You might want to increase the number of iterations, check the scale of the features or consider increasing regularisation. Duality gap: 2.422e+04, tolerance: 1.608e+02\n",
      "  model = cd_fast.enet_coordinate_descent(\n"
     ]
    },
    {
     "name": "stdout",
     "output_type": "stream",
     "text": [
      "[CV 3/5] END final_estimator__alpha=0.01, final_estimator__fit_intercept=False, final_estimator__l1_ratio=0.3, final_estimator__max_iter=1000, final_estimator__random_state=42, final_estimator__selection=random, final_estimator__tol=0.0001;, score=-2.193 total time=  23.5s\n"
     ]
    },
    {
     "name": "stderr",
     "output_type": "stream",
     "text": [
      "c:\\Users\\User\\.conda\\envs\\energy\\Lib\\site-packages\\sklearn\\linear_model\\_coordinate_descent.py:697: ConvergenceWarning: Objective did not converge. You might want to increase the number of iterations, check the scale of the features or consider increasing regularisation. Duality gap: 2.497e+04, tolerance: 1.614e+02\n",
      "  model = cd_fast.enet_coordinate_descent(\n"
     ]
    },
    {
     "name": "stdout",
     "output_type": "stream",
     "text": [
      "[CV 4/5] END final_estimator__alpha=0.01, final_estimator__fit_intercept=False, final_estimator__l1_ratio=0.3, final_estimator__max_iter=1000, final_estimator__random_state=42, final_estimator__selection=random, final_estimator__tol=0.0001;, score=-2.154 total time=  25.8s\n"
     ]
    },
    {
     "name": "stderr",
     "output_type": "stream",
     "text": [
      "c:\\Users\\User\\.conda\\envs\\energy\\Lib\\site-packages\\sklearn\\linear_model\\_coordinate_descent.py:697: ConvergenceWarning: Objective did not converge. You might want to increase the number of iterations, check the scale of the features or consider increasing regularisation. Duality gap: 2.403e+04, tolerance: 1.609e+02\n",
      "  model = cd_fast.enet_coordinate_descent(\n"
     ]
    },
    {
     "name": "stdout",
     "output_type": "stream",
     "text": [
      "[CV 5/5] END final_estimator__alpha=0.01, final_estimator__fit_intercept=False, final_estimator__l1_ratio=0.3, final_estimator__max_iter=1000, final_estimator__random_state=42, final_estimator__selection=random, final_estimator__tol=0.0001;, score=-2.289 total time=  20.4s\n"
     ]
    },
    {
     "name": "stderr",
     "output_type": "stream",
     "text": [
      "c:\\Users\\User\\.conda\\envs\\energy\\Lib\\site-packages\\sklearn\\linear_model\\_coordinate_descent.py:697: ConvergenceWarning: Objective did not converge. You might want to increase the number of iterations, check the scale of the features or consider increasing regularisation. Duality gap: 2.591e+04, tolerance: 1.615e+03\n",
      "  model = cd_fast.enet_coordinate_descent(\n"
     ]
    },
    {
     "name": "stdout",
     "output_type": "stream",
     "text": [
      "[CV 1/5] END final_estimator__alpha=0.01, final_estimator__fit_intercept=False, final_estimator__l1_ratio=0.3, final_estimator__max_iter=1000, final_estimator__random_state=42, final_estimator__selection=random, final_estimator__tol=0.001;, score=-2.167 total time=  20.1s\n"
     ]
    },
    {
     "name": "stderr",
     "output_type": "stream",
     "text": [
      "c:\\Users\\User\\.conda\\envs\\energy\\Lib\\site-packages\\sklearn\\linear_model\\_coordinate_descent.py:697: ConvergenceWarning: Objective did not converge. You might want to increase the number of iterations, check the scale of the features or consider increasing regularisation. Duality gap: 2.478e+04, tolerance: 1.598e+03\n",
      "  model = cd_fast.enet_coordinate_descent(\n"
     ]
    },
    {
     "name": "stdout",
     "output_type": "stream",
     "text": [
      "[CV 2/5] END final_estimator__alpha=0.01, final_estimator__fit_intercept=False, final_estimator__l1_ratio=0.3, final_estimator__max_iter=1000, final_estimator__random_state=42, final_estimator__selection=random, final_estimator__tol=0.001;, score=-2.326 total time=  23.8s\n"
     ]
    },
    {
     "name": "stderr",
     "output_type": "stream",
     "text": [
      "c:\\Users\\User\\.conda\\envs\\energy\\Lib\\site-packages\\sklearn\\linear_model\\_coordinate_descent.py:697: ConvergenceWarning: Objective did not converge. You might want to increase the number of iterations, check the scale of the features or consider increasing regularisation. Duality gap: 2.422e+04, tolerance: 1.608e+03\n",
      "  model = cd_fast.enet_coordinate_descent(\n"
     ]
    },
    {
     "name": "stdout",
     "output_type": "stream",
     "text": [
      "[CV 3/5] END final_estimator__alpha=0.01, final_estimator__fit_intercept=False, final_estimator__l1_ratio=0.3, final_estimator__max_iter=1000, final_estimator__random_state=42, final_estimator__selection=random, final_estimator__tol=0.001;, score=-2.234 total time=  24.9s\n"
     ]
    },
    {
     "name": "stderr",
     "output_type": "stream",
     "text": [
      "c:\\Users\\User\\.conda\\envs\\energy\\Lib\\site-packages\\sklearn\\linear_model\\_coordinate_descent.py:697: ConvergenceWarning: Objective did not converge. You might want to increase the number of iterations, check the scale of the features or consider increasing regularisation. Duality gap: 2.505e+04, tolerance: 1.614e+03\n",
      "  model = cd_fast.enet_coordinate_descent(\n"
     ]
    },
    {
     "name": "stdout",
     "output_type": "stream",
     "text": [
      "[CV 4/5] END final_estimator__alpha=0.01, final_estimator__fit_intercept=False, final_estimator__l1_ratio=0.3, final_estimator__max_iter=1000, final_estimator__random_state=42, final_estimator__selection=random, final_estimator__tol=0.001;, score=-2.156 total time=  19.8s\n"
     ]
    },
    {
     "name": "stderr",
     "output_type": "stream",
     "text": [
      "c:\\Users\\User\\.conda\\envs\\energy\\Lib\\site-packages\\sklearn\\linear_model\\_coordinate_descent.py:697: ConvergenceWarning: Objective did not converge. You might want to increase the number of iterations, check the scale of the features or consider increasing regularisation. Duality gap: 2.411e+04, tolerance: 1.609e+03\n",
      "  model = cd_fast.enet_coordinate_descent(\n"
     ]
    },
    {
     "name": "stdout",
     "output_type": "stream",
     "text": [
      "[CV 5/5] END final_estimator__alpha=0.01, final_estimator__fit_intercept=False, final_estimator__l1_ratio=0.3, final_estimator__max_iter=1000, final_estimator__random_state=42, final_estimator__selection=random, final_estimator__tol=0.001;, score=-2.295 total time=  17.3s\n"
     ]
    },
    {
     "name": "stderr",
     "output_type": "stream",
     "text": [
      "c:\\Users\\User\\.conda\\envs\\energy\\Lib\\site-packages\\sklearn\\linear_model\\_coordinate_descent.py:697: ConvergenceWarning: Objective did not converge. You might want to increase the number of iterations, check the scale of the features or consider increasing regularisation. Duality gap: 2.584e+04, tolerance: 1.615e+04\n",
      "  model = cd_fast.enet_coordinate_descent(\n"
     ]
    },
    {
     "name": "stdout",
     "output_type": "stream",
     "text": [
      "[CV 1/5] END final_estimator__alpha=0.01, final_estimator__fit_intercept=False, final_estimator__l1_ratio=0.3, final_estimator__max_iter=1000, final_estimator__random_state=42, final_estimator__selection=random, final_estimator__tol=0.01;, score=-2.215 total time=  23.5s\n"
     ]
    },
    {
     "name": "stderr",
     "output_type": "stream",
     "text": [
      "c:\\Users\\User\\.conda\\envs\\energy\\Lib\\site-packages\\sklearn\\linear_model\\_coordinate_descent.py:697: ConvergenceWarning: Objective did not converge. You might want to increase the number of iterations, check the scale of the features or consider increasing regularisation. Duality gap: 2.485e+04, tolerance: 1.598e+04\n",
      "  model = cd_fast.enet_coordinate_descent(\n"
     ]
    },
    {
     "name": "stdout",
     "output_type": "stream",
     "text": [
      "[CV 2/5] END final_estimator__alpha=0.01, final_estimator__fit_intercept=False, final_estimator__l1_ratio=0.3, final_estimator__max_iter=1000, final_estimator__random_state=42, final_estimator__selection=random, final_estimator__tol=0.01;, score=-2.351 total time=  18.5s\n"
     ]
    },
    {
     "name": "stderr",
     "output_type": "stream",
     "text": [
      "c:\\Users\\User\\.conda\\envs\\energy\\Lib\\site-packages\\sklearn\\linear_model\\_coordinate_descent.py:697: ConvergenceWarning: Objective did not converge. You might want to increase the number of iterations, check the scale of the features or consider increasing regularisation. Duality gap: 2.446e+04, tolerance: 1.608e+04\n",
      "  model = cd_fast.enet_coordinate_descent(\n"
     ]
    },
    {
     "name": "stdout",
     "output_type": "stream",
     "text": [
      "[CV 3/5] END final_estimator__alpha=0.01, final_estimator__fit_intercept=False, final_estimator__l1_ratio=0.3, final_estimator__max_iter=1000, final_estimator__random_state=42, final_estimator__selection=random, final_estimator__tol=0.01;, score=-2.225 total time=  21.4s\n"
     ]
    },
    {
     "name": "stderr",
     "output_type": "stream",
     "text": [
      "c:\\Users\\User\\.conda\\envs\\energy\\Lib\\site-packages\\sklearn\\linear_model\\_coordinate_descent.py:697: ConvergenceWarning: Objective did not converge. You might want to increase the number of iterations, check the scale of the features or consider increasing regularisation. Duality gap: 2.518e+04, tolerance: 1.614e+04\n",
      "  model = cd_fast.enet_coordinate_descent(\n"
     ]
    },
    {
     "name": "stdout",
     "output_type": "stream",
     "text": [
      "[CV 4/5] END final_estimator__alpha=0.01, final_estimator__fit_intercept=False, final_estimator__l1_ratio=0.3, final_estimator__max_iter=1000, final_estimator__random_state=42, final_estimator__selection=random, final_estimator__tol=0.01;, score=-2.161 total time=  19.7s\n"
     ]
    },
    {
     "name": "stderr",
     "output_type": "stream",
     "text": [
      "c:\\Users\\User\\.conda\\envs\\energy\\Lib\\site-packages\\sklearn\\linear_model\\_coordinate_descent.py:697: ConvergenceWarning: Objective did not converge. You might want to increase the number of iterations, check the scale of the features or consider increasing regularisation. Duality gap: 2.418e+04, tolerance: 1.609e+04\n",
      "  model = cd_fast.enet_coordinate_descent(\n"
     ]
    },
    {
     "name": "stdout",
     "output_type": "stream",
     "text": [
      "[CV 5/5] END final_estimator__alpha=0.01, final_estimator__fit_intercept=False, final_estimator__l1_ratio=0.3, final_estimator__max_iter=1000, final_estimator__random_state=42, final_estimator__selection=random, final_estimator__tol=0.01;, score=-2.293 total time=  20.1s\n",
      "[CV 1/5] END final_estimator__alpha=0.01, final_estimator__fit_intercept=False, final_estimator__l1_ratio=0.3, final_estimator__max_iter=2000, final_estimator__random_state=42, final_estimator__selection=cyclic, final_estimator__tol=0.0001;, score=-2.179 total time=  24.4s\n",
      "[CV 2/5] END final_estimator__alpha=0.01, final_estimator__fit_intercept=False, final_estimator__l1_ratio=0.3, final_estimator__max_iter=2000, final_estimator__random_state=42, final_estimator__selection=cyclic, final_estimator__tol=0.0001;, score=-2.330 total time=  24.9s\n"
     ]
    },
    {
     "name": "stderr",
     "output_type": "stream",
     "text": [
      "c:\\Users\\User\\.conda\\envs\\energy\\Lib\\site-packages\\sklearn\\linear_model\\_coordinate_descent.py:697: ConvergenceWarning: Objective did not converge. You might want to increase the number of iterations, check the scale of the features or consider increasing regularisation. Duality gap: 1.801e+02, tolerance: 1.608e+02\n",
      "  model = cd_fast.enet_coordinate_descent(\n"
     ]
    },
    {
     "name": "stdout",
     "output_type": "stream",
     "text": [
      "[CV 3/5] END final_estimator__alpha=0.01, final_estimator__fit_intercept=False, final_estimator__l1_ratio=0.3, final_estimator__max_iter=2000, final_estimator__random_state=42, final_estimator__selection=cyclic, final_estimator__tol=0.0001;, score=-2.210 total time=  18.2s\n",
      "[CV 4/5] END final_estimator__alpha=0.01, final_estimator__fit_intercept=False, final_estimator__l1_ratio=0.3, final_estimator__max_iter=2000, final_estimator__random_state=42, final_estimator__selection=cyclic, final_estimator__tol=0.0001;, score=-2.168 total time=  21.2s\n",
      "[CV 5/5] END final_estimator__alpha=0.01, final_estimator__fit_intercept=False, final_estimator__l1_ratio=0.3, final_estimator__max_iter=2000, final_estimator__random_state=42, final_estimator__selection=cyclic, final_estimator__tol=0.0001;, score=-2.286 total time=  23.1s\n",
      "[CV 1/5] END final_estimator__alpha=0.01, final_estimator__fit_intercept=False, final_estimator__l1_ratio=0.3, final_estimator__max_iter=2000, final_estimator__random_state=42, final_estimator__selection=cyclic, final_estimator__tol=0.001;, score=-2.213 total time=  20.3s\n",
      "[CV 2/5] END final_estimator__alpha=0.01, final_estimator__fit_intercept=False, final_estimator__l1_ratio=0.3, final_estimator__max_iter=2000, final_estimator__random_state=42, final_estimator__selection=cyclic, final_estimator__tol=0.001;, score=-2.321 total time=  21.9s\n",
      "[CV 3/5] END final_estimator__alpha=0.01, final_estimator__fit_intercept=False, final_estimator__l1_ratio=0.3, final_estimator__max_iter=2000, final_estimator__random_state=42, final_estimator__selection=cyclic, final_estimator__tol=0.001;, score=-2.192 total time=  24.0s\n",
      "[CV 4/5] END final_estimator__alpha=0.01, final_estimator__fit_intercept=False, final_estimator__l1_ratio=0.3, final_estimator__max_iter=2000, final_estimator__random_state=42, final_estimator__selection=cyclic, final_estimator__tol=0.001;, score=-2.165 total time=  24.7s\n",
      "[CV 5/5] END final_estimator__alpha=0.01, final_estimator__fit_intercept=False, final_estimator__l1_ratio=0.3, final_estimator__max_iter=2000, final_estimator__random_state=42, final_estimator__selection=cyclic, final_estimator__tol=0.001;, score=-2.277 total time=  32.6s\n",
      "[CV 1/5] END final_estimator__alpha=0.01, final_estimator__fit_intercept=False, final_estimator__l1_ratio=0.3, final_estimator__max_iter=2000, final_estimator__random_state=42, final_estimator__selection=cyclic, final_estimator__tol=0.01;, score=-2.189 total time=  22.5s\n",
      "[CV 2/5] END final_estimator__alpha=0.01, final_estimator__fit_intercept=False, final_estimator__l1_ratio=0.3, final_estimator__max_iter=2000, final_estimator__random_state=42, final_estimator__selection=cyclic, final_estimator__tol=0.01;, score=-2.354 total time=  23.6s\n",
      "[CV 3/5] END final_estimator__alpha=0.01, final_estimator__fit_intercept=False, final_estimator__l1_ratio=0.3, final_estimator__max_iter=2000, final_estimator__random_state=42, final_estimator__selection=cyclic, final_estimator__tol=0.01;, score=-2.187 total time=  27.2s\n",
      "[CV 4/5] END final_estimator__alpha=0.01, final_estimator__fit_intercept=False, final_estimator__l1_ratio=0.3, final_estimator__max_iter=2000, final_estimator__random_state=42, final_estimator__selection=cyclic, final_estimator__tol=0.01;, score=-2.152 total time=  23.9s\n",
      "[CV 5/5] END final_estimator__alpha=0.01, final_estimator__fit_intercept=False, final_estimator__l1_ratio=0.3, final_estimator__max_iter=2000, final_estimator__random_state=42, final_estimator__selection=cyclic, final_estimator__tol=0.01;, score=-2.282 total time=  26.6s\n"
     ]
    },
    {
     "name": "stderr",
     "output_type": "stream",
     "text": [
      "c:\\Users\\User\\.conda\\envs\\energy\\Lib\\site-packages\\sklearn\\linear_model\\_coordinate_descent.py:697: ConvergenceWarning: Objective did not converge. You might want to increase the number of iterations, check the scale of the features or consider increasing regularisation. Duality gap: 1.015e+04, tolerance: 1.615e+02\n",
      "  model = cd_fast.enet_coordinate_descent(\n"
     ]
    },
    {
     "name": "stdout",
     "output_type": "stream",
     "text": [
      "[CV 1/5] END final_estimator__alpha=0.01, final_estimator__fit_intercept=False, final_estimator__l1_ratio=0.3, final_estimator__max_iter=2000, final_estimator__random_state=42, final_estimator__selection=random, final_estimator__tol=0.0001;, score=-2.183 total time=  21.8s\n"
     ]
    },
    {
     "name": "stderr",
     "output_type": "stream",
     "text": [
      "c:\\Users\\User\\.conda\\envs\\energy\\Lib\\site-packages\\sklearn\\linear_model\\_coordinate_descent.py:697: ConvergenceWarning: Objective did not converge. You might want to increase the number of iterations, check the scale of the features or consider increasing regularisation. Duality gap: 8.706e+03, tolerance: 1.598e+02\n",
      "  model = cd_fast.enet_coordinate_descent(\n"
     ]
    },
    {
     "name": "stdout",
     "output_type": "stream",
     "text": [
      "[CV 2/5] END final_estimator__alpha=0.01, final_estimator__fit_intercept=False, final_estimator__l1_ratio=0.3, final_estimator__max_iter=2000, final_estimator__random_state=42, final_estimator__selection=random, final_estimator__tol=0.0001;, score=-2.326 total time=  25.9s\n"
     ]
    },
    {
     "name": "stderr",
     "output_type": "stream",
     "text": [
      "c:\\Users\\User\\.conda\\envs\\energy\\Lib\\site-packages\\sklearn\\linear_model\\_coordinate_descent.py:697: ConvergenceWarning: Objective did not converge. You might want to increase the number of iterations, check the scale of the features or consider increasing regularisation. Duality gap: 9.470e+03, tolerance: 1.608e+02\n",
      "  model = cd_fast.enet_coordinate_descent(\n"
     ]
    },
    {
     "name": "stdout",
     "output_type": "stream",
     "text": [
      "[CV 3/5] END final_estimator__alpha=0.01, final_estimator__fit_intercept=False, final_estimator__l1_ratio=0.3, final_estimator__max_iter=2000, final_estimator__random_state=42, final_estimator__selection=random, final_estimator__tol=0.0001;, score=-2.225 total time=  28.9s\n"
     ]
    },
    {
     "name": "stderr",
     "output_type": "stream",
     "text": [
      "c:\\Users\\User\\.conda\\envs\\energy\\Lib\\site-packages\\sklearn\\linear_model\\_coordinate_descent.py:697: ConvergenceWarning: Objective did not converge. You might want to increase the number of iterations, check the scale of the features or consider increasing regularisation. Duality gap: 8.434e+03, tolerance: 1.614e+02\n",
      "  model = cd_fast.enet_coordinate_descent(\n"
     ]
    },
    {
     "name": "stdout",
     "output_type": "stream",
     "text": [
      "[CV 4/5] END final_estimator__alpha=0.01, final_estimator__fit_intercept=False, final_estimator__l1_ratio=0.3, final_estimator__max_iter=2000, final_estimator__random_state=42, final_estimator__selection=random, final_estimator__tol=0.0001;, score=-2.163 total time=  23.9s\n"
     ]
    },
    {
     "name": "stderr",
     "output_type": "stream",
     "text": [
      "c:\\Users\\User\\.conda\\envs\\energy\\Lib\\site-packages\\sklearn\\linear_model\\_coordinate_descent.py:697: ConvergenceWarning: Objective did not converge. You might want to increase the number of iterations, check the scale of the features or consider increasing regularisation. Duality gap: 8.397e+03, tolerance: 1.609e+02\n",
      "  model = cd_fast.enet_coordinate_descent(\n"
     ]
    },
    {
     "name": "stdout",
     "output_type": "stream",
     "text": [
      "[CV 5/5] END final_estimator__alpha=0.01, final_estimator__fit_intercept=False, final_estimator__l1_ratio=0.3, final_estimator__max_iter=2000, final_estimator__random_state=42, final_estimator__selection=random, final_estimator__tol=0.0001;, score=-2.279 total time=  25.3s\n"
     ]
    },
    {
     "name": "stderr",
     "output_type": "stream",
     "text": [
      "c:\\Users\\User\\.conda\\envs\\energy\\Lib\\site-packages\\sklearn\\linear_model\\_coordinate_descent.py:697: ConvergenceWarning: Objective did not converge. You might want to increase the number of iterations, check the scale of the features or consider increasing regularisation. Duality gap: 9.092e+03, tolerance: 1.615e+03\n",
      "  model = cd_fast.enet_coordinate_descent(\n"
     ]
    },
    {
     "name": "stdout",
     "output_type": "stream",
     "text": [
      "[CV 1/5] END final_estimator__alpha=0.01, final_estimator__fit_intercept=False, final_estimator__l1_ratio=0.3, final_estimator__max_iter=2000, final_estimator__random_state=42, final_estimator__selection=random, final_estimator__tol=0.001;, score=-2.201 total time=  25.6s\n"
     ]
    },
    {
     "name": "stderr",
     "output_type": "stream",
     "text": [
      "c:\\Users\\User\\.conda\\envs\\energy\\Lib\\site-packages\\sklearn\\linear_model\\_coordinate_descent.py:697: ConvergenceWarning: Objective did not converge. You might want to increase the number of iterations, check the scale of the features or consider increasing regularisation. Duality gap: 1.082e+04, tolerance: 1.598e+03\n",
      "  model = cd_fast.enet_coordinate_descent(\n"
     ]
    },
    {
     "name": "stdout",
     "output_type": "stream",
     "text": [
      "[CV 2/5] END final_estimator__alpha=0.01, final_estimator__fit_intercept=False, final_estimator__l1_ratio=0.3, final_estimator__max_iter=2000, final_estimator__random_state=42, final_estimator__selection=random, final_estimator__tol=0.001;, score=-2.340 total time=  29.8s\n"
     ]
    },
    {
     "name": "stderr",
     "output_type": "stream",
     "text": [
      "c:\\Users\\User\\.conda\\envs\\energy\\Lib\\site-packages\\sklearn\\linear_model\\_coordinate_descent.py:697: ConvergenceWarning: Objective did not converge. You might want to increase the number of iterations, check the scale of the features or consider increasing regularisation. Duality gap: 9.290e+03, tolerance: 1.608e+03\n",
      "  model = cd_fast.enet_coordinate_descent(\n"
     ]
    },
    {
     "name": "stdout",
     "output_type": "stream",
     "text": [
      "[CV 3/5] END final_estimator__alpha=0.01, final_estimator__fit_intercept=False, final_estimator__l1_ratio=0.3, final_estimator__max_iter=2000, final_estimator__random_state=42, final_estimator__selection=random, final_estimator__tol=0.001;, score=-2.201 total time=  23.9s\n"
     ]
    },
    {
     "name": "stderr",
     "output_type": "stream",
     "text": [
      "c:\\Users\\User\\.conda\\envs\\energy\\Lib\\site-packages\\sklearn\\linear_model\\_coordinate_descent.py:697: ConvergenceWarning: Objective did not converge. You might want to increase the number of iterations, check the scale of the features or consider increasing regularisation. Duality gap: 8.997e+03, tolerance: 1.614e+03\n",
      "  model = cd_fast.enet_coordinate_descent(\n"
     ]
    },
    {
     "name": "stdout",
     "output_type": "stream",
     "text": [
      "[CV 4/5] END final_estimator__alpha=0.01, final_estimator__fit_intercept=False, final_estimator__l1_ratio=0.3, final_estimator__max_iter=2000, final_estimator__random_state=42, final_estimator__selection=random, final_estimator__tol=0.001;, score=-2.162 total time=  22.8s\n"
     ]
    },
    {
     "name": "stderr",
     "output_type": "stream",
     "text": [
      "c:\\Users\\User\\.conda\\envs\\energy\\Lib\\site-packages\\sklearn\\linear_model\\_coordinate_descent.py:697: ConvergenceWarning: Objective did not converge. You might want to increase the number of iterations, check the scale of the features or consider increasing regularisation. Duality gap: 8.803e+03, tolerance: 1.609e+03\n",
      "  model = cd_fast.enet_coordinate_descent(\n"
     ]
    },
    {
     "name": "stdout",
     "output_type": "stream",
     "text": [
      "[CV 5/5] END final_estimator__alpha=0.01, final_estimator__fit_intercept=False, final_estimator__l1_ratio=0.3, final_estimator__max_iter=2000, final_estimator__random_state=42, final_estimator__selection=random, final_estimator__tol=0.001;, score=-2.286 total time=  21.9s\n",
      "[CV 1/5] END final_estimator__alpha=0.01, final_estimator__fit_intercept=False, final_estimator__l1_ratio=0.3, final_estimator__max_iter=2000, final_estimator__random_state=42, final_estimator__selection=random, final_estimator__tol=0.01;, score=-2.211 total time=  22.0s\n",
      "[CV 2/5] END final_estimator__alpha=0.01, final_estimator__fit_intercept=False, final_estimator__l1_ratio=0.3, final_estimator__max_iter=2000, final_estimator__random_state=42, final_estimator__selection=random, final_estimator__tol=0.01;, score=-2.335 total time=  27.8s\n",
      "[CV 3/5] END final_estimator__alpha=0.01, final_estimator__fit_intercept=False, final_estimator__l1_ratio=0.3, final_estimator__max_iter=2000, final_estimator__random_state=42, final_estimator__selection=random, final_estimator__tol=0.01;, score=-2.183 total time=  31.3s\n",
      "[CV 4/5] END final_estimator__alpha=0.01, final_estimator__fit_intercept=False, final_estimator__l1_ratio=0.3, final_estimator__max_iter=2000, final_estimator__random_state=42, final_estimator__selection=random, final_estimator__tol=0.01;, score=-2.170 total time=  30.2s\n",
      "[CV 5/5] END final_estimator__alpha=0.01, final_estimator__fit_intercept=False, final_estimator__l1_ratio=0.3, final_estimator__max_iter=2000, final_estimator__random_state=42, final_estimator__selection=random, final_estimator__tol=0.01;, score=-2.285 total time=  27.1s\n"
     ]
    },
    {
     "name": "stderr",
     "output_type": "stream",
     "text": [
      "c:\\Users\\User\\.conda\\envs\\energy\\Lib\\site-packages\\sklearn\\linear_model\\_coordinate_descent.py:697: ConvergenceWarning: Objective did not converge. You might want to increase the number of iterations, check the scale of the features or consider increasing regularisation. Duality gap: 7.591e+03, tolerance: 1.615e+02\n",
      "  model = cd_fast.enet_coordinate_descent(\n"
     ]
    },
    {
     "name": "stdout",
     "output_type": "stream",
     "text": [
      "[CV 1/5] END final_estimator__alpha=0.01, final_estimator__fit_intercept=False, final_estimator__l1_ratio=0.5, final_estimator__max_iter=1000, final_estimator__random_state=42, final_estimator__selection=cyclic, final_estimator__tol=0.0001;, score=-2.198 total time=  27.3s\n"
     ]
    },
    {
     "name": "stderr",
     "output_type": "stream",
     "text": [
      "c:\\Users\\User\\.conda\\envs\\energy\\Lib\\site-packages\\sklearn\\linear_model\\_coordinate_descent.py:697: ConvergenceWarning: Objective did not converge. You might want to increase the number of iterations, check the scale of the features or consider increasing regularisation. Duality gap: 9.250e+03, tolerance: 1.598e+02\n",
      "  model = cd_fast.enet_coordinate_descent(\n"
     ]
    },
    {
     "name": "stdout",
     "output_type": "stream",
     "text": [
      "[CV 2/5] END final_estimator__alpha=0.01, final_estimator__fit_intercept=False, final_estimator__l1_ratio=0.5, final_estimator__max_iter=1000, final_estimator__random_state=42, final_estimator__selection=cyclic, final_estimator__tol=0.0001;, score=-2.351 total time=  27.2s\n"
     ]
    },
    {
     "name": "stderr",
     "output_type": "stream",
     "text": [
      "c:\\Users\\User\\.conda\\envs\\energy\\Lib\\site-packages\\sklearn\\linear_model\\_coordinate_descent.py:697: ConvergenceWarning: Objective did not converge. You might want to increase the number of iterations, check the scale of the features or consider increasing regularisation. Duality gap: 1.119e+04, tolerance: 1.608e+02\n",
      "  model = cd_fast.enet_coordinate_descent(\n"
     ]
    },
    {
     "name": "stdout",
     "output_type": "stream",
     "text": [
      "[CV 3/5] END final_estimator__alpha=0.01, final_estimator__fit_intercept=False, final_estimator__l1_ratio=0.5, final_estimator__max_iter=1000, final_estimator__random_state=42, final_estimator__selection=cyclic, final_estimator__tol=0.0001;, score=-2.188 total time=  28.0s\n"
     ]
    },
    {
     "name": "stderr",
     "output_type": "stream",
     "text": [
      "c:\\Users\\User\\.conda\\envs\\energy\\Lib\\site-packages\\sklearn\\linear_model\\_coordinate_descent.py:697: ConvergenceWarning: Objective did not converge. You might want to increase the number of iterations, check the scale of the features or consider increasing regularisation. Duality gap: 9.049e+03, tolerance: 1.614e+02\n",
      "  model = cd_fast.enet_coordinate_descent(\n"
     ]
    },
    {
     "name": "stdout",
     "output_type": "stream",
     "text": [
      "[CV 4/5] END final_estimator__alpha=0.01, final_estimator__fit_intercept=False, final_estimator__l1_ratio=0.5, final_estimator__max_iter=1000, final_estimator__random_state=42, final_estimator__selection=cyclic, final_estimator__tol=0.0001;, score=-2.182 total time=  30.3s\n"
     ]
    },
    {
     "name": "stderr",
     "output_type": "stream",
     "text": [
      "c:\\Users\\User\\.conda\\envs\\energy\\Lib\\site-packages\\sklearn\\linear_model\\_coordinate_descent.py:697: ConvergenceWarning: Objective did not converge. You might want to increase the number of iterations, check the scale of the features or consider increasing regularisation. Duality gap: 6.652e+03, tolerance: 1.609e+02\n",
      "  model = cd_fast.enet_coordinate_descent(\n"
     ]
    },
    {
     "name": "stdout",
     "output_type": "stream",
     "text": [
      "[CV 5/5] END final_estimator__alpha=0.01, final_estimator__fit_intercept=False, final_estimator__l1_ratio=0.5, final_estimator__max_iter=1000, final_estimator__random_state=42, final_estimator__selection=cyclic, final_estimator__tol=0.0001;, score=-2.300 total time=  28.7s\n"
     ]
    },
    {
     "name": "stderr",
     "output_type": "stream",
     "text": [
      "c:\\Users\\User\\.conda\\envs\\energy\\Lib\\site-packages\\sklearn\\linear_model\\_coordinate_descent.py:697: ConvergenceWarning: Objective did not converge. You might want to increase the number of iterations, check the scale of the features or consider increasing regularisation. Duality gap: 8.093e+03, tolerance: 1.615e+03\n",
      "  model = cd_fast.enet_coordinate_descent(\n"
     ]
    },
    {
     "name": "stdout",
     "output_type": "stream",
     "text": [
      "[CV 1/5] END final_estimator__alpha=0.01, final_estimator__fit_intercept=False, final_estimator__l1_ratio=0.5, final_estimator__max_iter=1000, final_estimator__random_state=42, final_estimator__selection=cyclic, final_estimator__tol=0.001;, score=-2.221 total time=  19.1s\n"
     ]
    },
    {
     "name": "stderr",
     "output_type": "stream",
     "text": [
      "c:\\Users\\User\\.conda\\envs\\energy\\Lib\\site-packages\\sklearn\\linear_model\\_coordinate_descent.py:697: ConvergenceWarning: Objective did not converge. You might want to increase the number of iterations, check the scale of the features or consider increasing regularisation. Duality gap: 8.064e+03, tolerance: 1.598e+03\n",
      "  model = cd_fast.enet_coordinate_descent(\n"
     ]
    },
    {
     "name": "stdout",
     "output_type": "stream",
     "text": [
      "[CV 2/5] END final_estimator__alpha=0.01, final_estimator__fit_intercept=False, final_estimator__l1_ratio=0.5, final_estimator__max_iter=1000, final_estimator__random_state=42, final_estimator__selection=cyclic, final_estimator__tol=0.001;, score=-2.327 total time=  26.7s\n"
     ]
    },
    {
     "name": "stderr",
     "output_type": "stream",
     "text": [
      "c:\\Users\\User\\.conda\\envs\\energy\\Lib\\site-packages\\sklearn\\linear_model\\_coordinate_descent.py:697: ConvergenceWarning: Objective did not converge. You might want to increase the number of iterations, check the scale of the features or consider increasing regularisation. Duality gap: 1.062e+04, tolerance: 1.608e+03\n",
      "  model = cd_fast.enet_coordinate_descent(\n"
     ]
    },
    {
     "name": "stdout",
     "output_type": "stream",
     "text": [
      "[CV 3/5] END final_estimator__alpha=0.01, final_estimator__fit_intercept=False, final_estimator__l1_ratio=0.5, final_estimator__max_iter=1000, final_estimator__random_state=42, final_estimator__selection=cyclic, final_estimator__tol=0.001;, score=-2.226 total time=  19.9s\n"
     ]
    },
    {
     "name": "stderr",
     "output_type": "stream",
     "text": [
      "c:\\Users\\User\\.conda\\envs\\energy\\Lib\\site-packages\\sklearn\\linear_model\\_coordinate_descent.py:697: ConvergenceWarning: Objective did not converge. You might want to increase the number of iterations, check the scale of the features or consider increasing regularisation. Duality gap: 9.773e+03, tolerance: 1.614e+03\n",
      "  model = cd_fast.enet_coordinate_descent(\n"
     ]
    },
    {
     "name": "stdout",
     "output_type": "stream",
     "text": [
      "[CV 4/5] END final_estimator__alpha=0.01, final_estimator__fit_intercept=False, final_estimator__l1_ratio=0.5, final_estimator__max_iter=1000, final_estimator__random_state=42, final_estimator__selection=cyclic, final_estimator__tol=0.001;, score=-2.146 total time=  20.7s\n"
     ]
    },
    {
     "name": "stderr",
     "output_type": "stream",
     "text": [
      "c:\\Users\\User\\.conda\\envs\\energy\\Lib\\site-packages\\sklearn\\linear_model\\_coordinate_descent.py:697: ConvergenceWarning: Objective did not converge. You might want to increase the number of iterations, check the scale of the features or consider increasing regularisation. Duality gap: 9.604e+03, tolerance: 1.609e+03\n",
      "  model = cd_fast.enet_coordinate_descent(\n"
     ]
    },
    {
     "name": "stdout",
     "output_type": "stream",
     "text": [
      "[CV 5/5] END final_estimator__alpha=0.01, final_estimator__fit_intercept=False, final_estimator__l1_ratio=0.5, final_estimator__max_iter=1000, final_estimator__random_state=42, final_estimator__selection=cyclic, final_estimator__tol=0.001;, score=-2.281 total time=  24.0s\n",
      "[CV 1/5] END final_estimator__alpha=0.01, final_estimator__fit_intercept=False, final_estimator__l1_ratio=0.5, final_estimator__max_iter=1000, final_estimator__random_state=42, final_estimator__selection=cyclic, final_estimator__tol=0.01;, score=-2.191 total time=  27.0s\n",
      "[CV 2/5] END final_estimator__alpha=0.01, final_estimator__fit_intercept=False, final_estimator__l1_ratio=0.5, final_estimator__max_iter=1000, final_estimator__random_state=42, final_estimator__selection=cyclic, final_estimator__tol=0.01;, score=-2.340 total time=  17.6s\n",
      "[CV 3/5] END final_estimator__alpha=0.01, final_estimator__fit_intercept=False, final_estimator__l1_ratio=0.5, final_estimator__max_iter=1000, final_estimator__random_state=42, final_estimator__selection=cyclic, final_estimator__tol=0.01;, score=-2.206 total time=  23.4s\n",
      "[CV 4/5] END final_estimator__alpha=0.01, final_estimator__fit_intercept=False, final_estimator__l1_ratio=0.5, final_estimator__max_iter=1000, final_estimator__random_state=42, final_estimator__selection=cyclic, final_estimator__tol=0.01;, score=-2.165 total time=  23.7s\n",
      "[CV 5/5] END final_estimator__alpha=0.01, final_estimator__fit_intercept=False, final_estimator__l1_ratio=0.5, final_estimator__max_iter=1000, final_estimator__random_state=42, final_estimator__selection=cyclic, final_estimator__tol=0.01;, score=-2.289 total time=  30.4s\n"
     ]
    },
    {
     "ename": "KeyboardInterrupt",
     "evalue": "",
     "output_type": "error",
     "traceback": [
      "\u001b[1;31m---------------------------------------------------------------------------\u001b[0m",
      "\u001b[1;31mKeyboardInterrupt\u001b[0m                         Traceback (most recent call last)",
      "Cell \u001b[1;32mIn[30], line 208\u001b[0m\n\u001b[0;32m    199\u001b[0m \u001b[38;5;28;01melse\u001b[39;00m:\n\u001b[0;32m    200\u001b[0m     grid_search_meta \u001b[38;5;241m=\u001b[39m GridSearchCV(\n\u001b[0;32m    201\u001b[0m         estimator\u001b[38;5;241m=\u001b[39mstacking_regressor,\n\u001b[0;32m    202\u001b[0m         param_grid\u001b[38;5;241m=\u001b[39mparam_grid_meta,\n\u001b[1;32m   (...)\u001b[0m\n\u001b[0;32m    206\u001b[0m         verbose\u001b[38;5;241m=\u001b[39mVERBOSE\n\u001b[0;32m    207\u001b[0m     )\n\u001b[1;32m--> 208\u001b[0m     \u001b[43mgrid_search_meta\u001b[49m\u001b[38;5;241;43m.\u001b[39;49m\u001b[43mfit\u001b[49m\u001b[43m(\u001b[49m\u001b[43mX_train\u001b[49m\u001b[43m,\u001b[49m\u001b[43m \u001b[49m\u001b[43my_train\u001b[49m\u001b[43m)\u001b[49m\n\u001b[0;32m    209\u001b[0m     best_stacking \u001b[38;5;241m=\u001b[39m grid_search_meta\u001b[38;5;241m.\u001b[39mbest_estimator_\n\u001b[0;32m    210\u001b[0m     best_params_meta \u001b[38;5;241m=\u001b[39m grid_search_meta\u001b[38;5;241m.\u001b[39mbest_params_\n",
      "File \u001b[1;32mc:\\Users\\User\\.conda\\envs\\energy\\Lib\\site-packages\\sklearn\\base.py:1473\u001b[0m, in \u001b[0;36m_fit_context.<locals>.decorator.<locals>.wrapper\u001b[1;34m(estimator, *args, **kwargs)\u001b[0m\n\u001b[0;32m   1466\u001b[0m     estimator\u001b[38;5;241m.\u001b[39m_validate_params()\n\u001b[0;32m   1468\u001b[0m \u001b[38;5;28;01mwith\u001b[39;00m config_context(\n\u001b[0;32m   1469\u001b[0m     skip_parameter_validation\u001b[38;5;241m=\u001b[39m(\n\u001b[0;32m   1470\u001b[0m         prefer_skip_nested_validation \u001b[38;5;129;01mor\u001b[39;00m global_skip_validation\n\u001b[0;32m   1471\u001b[0m     )\n\u001b[0;32m   1472\u001b[0m ):\n\u001b[1;32m-> 1473\u001b[0m     \u001b[38;5;28;01mreturn\u001b[39;00m \u001b[43mfit_method\u001b[49m\u001b[43m(\u001b[49m\u001b[43mestimator\u001b[49m\u001b[43m,\u001b[49m\u001b[43m \u001b[49m\u001b[38;5;241;43m*\u001b[39;49m\u001b[43margs\u001b[49m\u001b[43m,\u001b[49m\u001b[43m \u001b[49m\u001b[38;5;241;43m*\u001b[39;49m\u001b[38;5;241;43m*\u001b[39;49m\u001b[43mkwargs\u001b[49m\u001b[43m)\u001b[49m\n",
      "File \u001b[1;32mc:\\Users\\User\\.conda\\envs\\energy\\Lib\\site-packages\\sklearn\\model_selection\\_search.py:1019\u001b[0m, in \u001b[0;36mBaseSearchCV.fit\u001b[1;34m(self, X, y, **params)\u001b[0m\n\u001b[0;32m   1013\u001b[0m     results \u001b[38;5;241m=\u001b[39m \u001b[38;5;28mself\u001b[39m\u001b[38;5;241m.\u001b[39m_format_results(\n\u001b[0;32m   1014\u001b[0m         all_candidate_params, n_splits, all_out, all_more_results\n\u001b[0;32m   1015\u001b[0m     )\n\u001b[0;32m   1017\u001b[0m     \u001b[38;5;28;01mreturn\u001b[39;00m results\n\u001b[1;32m-> 1019\u001b[0m \u001b[38;5;28;43mself\u001b[39;49m\u001b[38;5;241;43m.\u001b[39;49m\u001b[43m_run_search\u001b[49m\u001b[43m(\u001b[49m\u001b[43mevaluate_candidates\u001b[49m\u001b[43m)\u001b[49m\n\u001b[0;32m   1021\u001b[0m \u001b[38;5;66;03m# multimetric is determined here because in the case of a callable\u001b[39;00m\n\u001b[0;32m   1022\u001b[0m \u001b[38;5;66;03m# self.scoring the return type is only known after calling\u001b[39;00m\n\u001b[0;32m   1023\u001b[0m first_test_score \u001b[38;5;241m=\u001b[39m all_out[\u001b[38;5;241m0\u001b[39m][\u001b[38;5;124m\"\u001b[39m\u001b[38;5;124mtest_scores\u001b[39m\u001b[38;5;124m\"\u001b[39m]\n",
      "File \u001b[1;32mc:\\Users\\User\\.conda\\envs\\energy\\Lib\\site-packages\\sklearn\\model_selection\\_search.py:1573\u001b[0m, in \u001b[0;36mGridSearchCV._run_search\u001b[1;34m(self, evaluate_candidates)\u001b[0m\n\u001b[0;32m   1571\u001b[0m \u001b[38;5;28;01mdef\u001b[39;00m \u001b[38;5;21m_run_search\u001b[39m(\u001b[38;5;28mself\u001b[39m, evaluate_candidates):\n\u001b[0;32m   1572\u001b[0m \u001b[38;5;250m    \u001b[39m\u001b[38;5;124;03m\"\"\"Search all candidates in param_grid\"\"\"\u001b[39;00m\n\u001b[1;32m-> 1573\u001b[0m     \u001b[43mevaluate_candidates\u001b[49m\u001b[43m(\u001b[49m\u001b[43mParameterGrid\u001b[49m\u001b[43m(\u001b[49m\u001b[38;5;28;43mself\u001b[39;49m\u001b[38;5;241;43m.\u001b[39;49m\u001b[43mparam_grid\u001b[49m\u001b[43m)\u001b[49m\u001b[43m)\u001b[49m\n",
      "File \u001b[1;32mc:\\Users\\User\\.conda\\envs\\energy\\Lib\\site-packages\\sklearn\\model_selection\\_search.py:965\u001b[0m, in \u001b[0;36mBaseSearchCV.fit.<locals>.evaluate_candidates\u001b[1;34m(candidate_params, cv, more_results)\u001b[0m\n\u001b[0;32m    957\u001b[0m \u001b[38;5;28;01mif\u001b[39;00m \u001b[38;5;28mself\u001b[39m\u001b[38;5;241m.\u001b[39mverbose \u001b[38;5;241m>\u001b[39m \u001b[38;5;241m0\u001b[39m:\n\u001b[0;32m    958\u001b[0m     \u001b[38;5;28mprint\u001b[39m(\n\u001b[0;32m    959\u001b[0m         \u001b[38;5;124m\"\u001b[39m\u001b[38;5;124mFitting \u001b[39m\u001b[38;5;132;01m{0}\u001b[39;00m\u001b[38;5;124m folds for each of \u001b[39m\u001b[38;5;132;01m{1}\u001b[39;00m\u001b[38;5;124m candidates,\u001b[39m\u001b[38;5;124m\"\u001b[39m\n\u001b[0;32m    960\u001b[0m         \u001b[38;5;124m\"\u001b[39m\u001b[38;5;124m totalling \u001b[39m\u001b[38;5;132;01m{2}\u001b[39;00m\u001b[38;5;124m fits\u001b[39m\u001b[38;5;124m\"\u001b[39m\u001b[38;5;241m.\u001b[39mformat(\n\u001b[0;32m    961\u001b[0m             n_splits, n_candidates, n_candidates \u001b[38;5;241m*\u001b[39m n_splits\n\u001b[0;32m    962\u001b[0m         )\n\u001b[0;32m    963\u001b[0m     )\n\u001b[1;32m--> 965\u001b[0m out \u001b[38;5;241m=\u001b[39m \u001b[43mparallel\u001b[49m\u001b[43m(\u001b[49m\n\u001b[0;32m    966\u001b[0m \u001b[43m    \u001b[49m\u001b[43mdelayed\u001b[49m\u001b[43m(\u001b[49m\u001b[43m_fit_and_score\u001b[49m\u001b[43m)\u001b[49m\u001b[43m(\u001b[49m\n\u001b[0;32m    967\u001b[0m \u001b[43m        \u001b[49m\u001b[43mclone\u001b[49m\u001b[43m(\u001b[49m\u001b[43mbase_estimator\u001b[49m\u001b[43m)\u001b[49m\u001b[43m,\u001b[49m\n\u001b[0;32m    968\u001b[0m \u001b[43m        \u001b[49m\u001b[43mX\u001b[49m\u001b[43m,\u001b[49m\n\u001b[0;32m    969\u001b[0m \u001b[43m        \u001b[49m\u001b[43my\u001b[49m\u001b[43m,\u001b[49m\n\u001b[0;32m    970\u001b[0m \u001b[43m        \u001b[49m\u001b[43mtrain\u001b[49m\u001b[38;5;241;43m=\u001b[39;49m\u001b[43mtrain\u001b[49m\u001b[43m,\u001b[49m\n\u001b[0;32m    971\u001b[0m \u001b[43m        \u001b[49m\u001b[43mtest\u001b[49m\u001b[38;5;241;43m=\u001b[39;49m\u001b[43mtest\u001b[49m\u001b[43m,\u001b[49m\n\u001b[0;32m    972\u001b[0m \u001b[43m        \u001b[49m\u001b[43mparameters\u001b[49m\u001b[38;5;241;43m=\u001b[39;49m\u001b[43mparameters\u001b[49m\u001b[43m,\u001b[49m\n\u001b[0;32m    973\u001b[0m \u001b[43m        \u001b[49m\u001b[43msplit_progress\u001b[49m\u001b[38;5;241;43m=\u001b[39;49m\u001b[43m(\u001b[49m\u001b[43msplit_idx\u001b[49m\u001b[43m,\u001b[49m\u001b[43m \u001b[49m\u001b[43mn_splits\u001b[49m\u001b[43m)\u001b[49m\u001b[43m,\u001b[49m\n\u001b[0;32m    974\u001b[0m \u001b[43m        \u001b[49m\u001b[43mcandidate_progress\u001b[49m\u001b[38;5;241;43m=\u001b[39;49m\u001b[43m(\u001b[49m\u001b[43mcand_idx\u001b[49m\u001b[43m,\u001b[49m\u001b[43m \u001b[49m\u001b[43mn_candidates\u001b[49m\u001b[43m)\u001b[49m\u001b[43m,\u001b[49m\n\u001b[0;32m    975\u001b[0m \u001b[43m        \u001b[49m\u001b[38;5;241;43m*\u001b[39;49m\u001b[38;5;241;43m*\u001b[39;49m\u001b[43mfit_and_score_kwargs\u001b[49m\u001b[43m,\u001b[49m\n\u001b[0;32m    976\u001b[0m \u001b[43m    \u001b[49m\u001b[43m)\u001b[49m\n\u001b[0;32m    977\u001b[0m \u001b[43m    \u001b[49m\u001b[38;5;28;43;01mfor\u001b[39;49;00m\u001b[43m \u001b[49m\u001b[43m(\u001b[49m\u001b[43mcand_idx\u001b[49m\u001b[43m,\u001b[49m\u001b[43m \u001b[49m\u001b[43mparameters\u001b[49m\u001b[43m)\u001b[49m\u001b[43m,\u001b[49m\u001b[43m \u001b[49m\u001b[43m(\u001b[49m\u001b[43msplit_idx\u001b[49m\u001b[43m,\u001b[49m\u001b[43m \u001b[49m\u001b[43m(\u001b[49m\u001b[43mtrain\u001b[49m\u001b[43m,\u001b[49m\u001b[43m \u001b[49m\u001b[43mtest\u001b[49m\u001b[43m)\u001b[49m\u001b[43m)\u001b[49m\u001b[43m \u001b[49m\u001b[38;5;129;43;01min\u001b[39;49;00m\u001b[43m \u001b[49m\u001b[43mproduct\u001b[49m\u001b[43m(\u001b[49m\n\u001b[0;32m    978\u001b[0m \u001b[43m        \u001b[49m\u001b[38;5;28;43menumerate\u001b[39;49m\u001b[43m(\u001b[49m\u001b[43mcandidate_params\u001b[49m\u001b[43m)\u001b[49m\u001b[43m,\u001b[49m\n\u001b[0;32m    979\u001b[0m \u001b[43m        \u001b[49m\u001b[38;5;28;43menumerate\u001b[39;49m\u001b[43m(\u001b[49m\u001b[43mcv\u001b[49m\u001b[38;5;241;43m.\u001b[39;49m\u001b[43msplit\u001b[49m\u001b[43m(\u001b[49m\u001b[43mX\u001b[49m\u001b[43m,\u001b[49m\u001b[43m \u001b[49m\u001b[43my\u001b[49m\u001b[43m,\u001b[49m\u001b[43m \u001b[49m\u001b[38;5;241;43m*\u001b[39;49m\u001b[38;5;241;43m*\u001b[39;49m\u001b[43mrouted_params\u001b[49m\u001b[38;5;241;43m.\u001b[39;49m\u001b[43msplitter\u001b[49m\u001b[38;5;241;43m.\u001b[39;49m\u001b[43msplit\u001b[49m\u001b[43m)\u001b[49m\u001b[43m)\u001b[49m\u001b[43m,\u001b[49m\n\u001b[0;32m    980\u001b[0m \u001b[43m    \u001b[49m\u001b[43m)\u001b[49m\n\u001b[0;32m    981\u001b[0m \u001b[43m\u001b[49m\u001b[43m)\u001b[49m\n\u001b[0;32m    983\u001b[0m \u001b[38;5;28;01mif\u001b[39;00m \u001b[38;5;28mlen\u001b[39m(out) \u001b[38;5;241m<\u001b[39m \u001b[38;5;241m1\u001b[39m:\n\u001b[0;32m    984\u001b[0m     \u001b[38;5;28;01mraise\u001b[39;00m \u001b[38;5;167;01mValueError\u001b[39;00m(\n\u001b[0;32m    985\u001b[0m         \u001b[38;5;124m\"\u001b[39m\u001b[38;5;124mNo fits were performed. \u001b[39m\u001b[38;5;124m\"\u001b[39m\n\u001b[0;32m    986\u001b[0m         \u001b[38;5;124m\"\u001b[39m\u001b[38;5;124mWas the CV iterator empty? \u001b[39m\u001b[38;5;124m\"\u001b[39m\n\u001b[0;32m    987\u001b[0m         \u001b[38;5;124m\"\u001b[39m\u001b[38;5;124mWere there no candidates?\u001b[39m\u001b[38;5;124m\"\u001b[39m\n\u001b[0;32m    988\u001b[0m     )\n",
      "File \u001b[1;32mc:\\Users\\User\\.conda\\envs\\energy\\Lib\\site-packages\\sklearn\\utils\\parallel.py:74\u001b[0m, in \u001b[0;36mParallel.__call__\u001b[1;34m(self, iterable)\u001b[0m\n\u001b[0;32m     69\u001b[0m config \u001b[38;5;241m=\u001b[39m get_config()\n\u001b[0;32m     70\u001b[0m iterable_with_config \u001b[38;5;241m=\u001b[39m (\n\u001b[0;32m     71\u001b[0m     (_with_config(delayed_func, config), args, kwargs)\n\u001b[0;32m     72\u001b[0m     \u001b[38;5;28;01mfor\u001b[39;00m delayed_func, args, kwargs \u001b[38;5;129;01min\u001b[39;00m iterable\n\u001b[0;32m     73\u001b[0m )\n\u001b[1;32m---> 74\u001b[0m \u001b[38;5;28;01mreturn\u001b[39;00m \u001b[38;5;28;43msuper\u001b[39;49m\u001b[43m(\u001b[49m\u001b[43m)\u001b[49m\u001b[38;5;241;43m.\u001b[39;49m\u001b[38;5;21;43m__call__\u001b[39;49m\u001b[43m(\u001b[49m\u001b[43miterable_with_config\u001b[49m\u001b[43m)\u001b[49m\n",
      "File \u001b[1;32mc:\\Users\\User\\.conda\\envs\\energy\\Lib\\site-packages\\joblib\\parallel.py:1918\u001b[0m, in \u001b[0;36mParallel.__call__\u001b[1;34m(self, iterable)\u001b[0m\n\u001b[0;32m   1916\u001b[0m     output \u001b[38;5;241m=\u001b[39m \u001b[38;5;28mself\u001b[39m\u001b[38;5;241m.\u001b[39m_get_sequential_output(iterable)\n\u001b[0;32m   1917\u001b[0m     \u001b[38;5;28mnext\u001b[39m(output)\n\u001b[1;32m-> 1918\u001b[0m     \u001b[38;5;28;01mreturn\u001b[39;00m output \u001b[38;5;28;01mif\u001b[39;00m \u001b[38;5;28mself\u001b[39m\u001b[38;5;241m.\u001b[39mreturn_generator \u001b[38;5;28;01melse\u001b[39;00m \u001b[38;5;28mlist\u001b[39m(output)\n\u001b[0;32m   1920\u001b[0m \u001b[38;5;66;03m# Let's create an ID that uniquely identifies the current call. If the\u001b[39;00m\n\u001b[0;32m   1921\u001b[0m \u001b[38;5;66;03m# call is interrupted early and that the same instance is immediately\u001b[39;00m\n\u001b[0;32m   1922\u001b[0m \u001b[38;5;66;03m# re-used, this id will be used to prevent workers that were\u001b[39;00m\n\u001b[0;32m   1923\u001b[0m \u001b[38;5;66;03m# concurrently finalizing a task from the previous call to run the\u001b[39;00m\n\u001b[0;32m   1924\u001b[0m \u001b[38;5;66;03m# callback.\u001b[39;00m\n\u001b[0;32m   1925\u001b[0m \u001b[38;5;28;01mwith\u001b[39;00m \u001b[38;5;28mself\u001b[39m\u001b[38;5;241m.\u001b[39m_lock:\n",
      "File \u001b[1;32mc:\\Users\\User\\.conda\\envs\\energy\\Lib\\site-packages\\joblib\\parallel.py:1847\u001b[0m, in \u001b[0;36mParallel._get_sequential_output\u001b[1;34m(self, iterable)\u001b[0m\n\u001b[0;32m   1845\u001b[0m \u001b[38;5;28mself\u001b[39m\u001b[38;5;241m.\u001b[39mn_dispatched_batches \u001b[38;5;241m+\u001b[39m\u001b[38;5;241m=\u001b[39m \u001b[38;5;241m1\u001b[39m\n\u001b[0;32m   1846\u001b[0m \u001b[38;5;28mself\u001b[39m\u001b[38;5;241m.\u001b[39mn_dispatched_tasks \u001b[38;5;241m+\u001b[39m\u001b[38;5;241m=\u001b[39m \u001b[38;5;241m1\u001b[39m\n\u001b[1;32m-> 1847\u001b[0m res \u001b[38;5;241m=\u001b[39m \u001b[43mfunc\u001b[49m\u001b[43m(\u001b[49m\u001b[38;5;241;43m*\u001b[39;49m\u001b[43margs\u001b[49m\u001b[43m,\u001b[49m\u001b[43m \u001b[49m\u001b[38;5;241;43m*\u001b[39;49m\u001b[38;5;241;43m*\u001b[39;49m\u001b[43mkwargs\u001b[49m\u001b[43m)\u001b[49m\n\u001b[0;32m   1848\u001b[0m \u001b[38;5;28mself\u001b[39m\u001b[38;5;241m.\u001b[39mn_completed_tasks \u001b[38;5;241m+\u001b[39m\u001b[38;5;241m=\u001b[39m \u001b[38;5;241m1\u001b[39m\n\u001b[0;32m   1849\u001b[0m \u001b[38;5;28mself\u001b[39m\u001b[38;5;241m.\u001b[39mprint_progress()\n",
      "File \u001b[1;32mc:\\Users\\User\\.conda\\envs\\energy\\Lib\\site-packages\\sklearn\\utils\\parallel.py:136\u001b[0m, in \u001b[0;36m_FuncWrapper.__call__\u001b[1;34m(self, *args, **kwargs)\u001b[0m\n\u001b[0;32m    134\u001b[0m     config \u001b[38;5;241m=\u001b[39m {}\n\u001b[0;32m    135\u001b[0m \u001b[38;5;28;01mwith\u001b[39;00m config_context(\u001b[38;5;241m*\u001b[39m\u001b[38;5;241m*\u001b[39mconfig):\n\u001b[1;32m--> 136\u001b[0m     \u001b[38;5;28;01mreturn\u001b[39;00m \u001b[38;5;28;43mself\u001b[39;49m\u001b[38;5;241;43m.\u001b[39;49m\u001b[43mfunction\u001b[49m\u001b[43m(\u001b[49m\u001b[38;5;241;43m*\u001b[39;49m\u001b[43margs\u001b[49m\u001b[43m,\u001b[49m\u001b[43m \u001b[49m\u001b[38;5;241;43m*\u001b[39;49m\u001b[38;5;241;43m*\u001b[39;49m\u001b[43mkwargs\u001b[49m\u001b[43m)\u001b[49m\n",
      "File \u001b[1;32mc:\\Users\\User\\.conda\\envs\\energy\\Lib\\site-packages\\sklearn\\model_selection\\_validation.py:888\u001b[0m, in \u001b[0;36m_fit_and_score\u001b[1;34m(estimator, X, y, scorer, train, test, verbose, parameters, fit_params, score_params, return_train_score, return_parameters, return_n_test_samples, return_times, return_estimator, split_progress, candidate_progress, error_score)\u001b[0m\n\u001b[0;32m    886\u001b[0m         estimator\u001b[38;5;241m.\u001b[39mfit(X_train, \u001b[38;5;241m*\u001b[39m\u001b[38;5;241m*\u001b[39mfit_params)\n\u001b[0;32m    887\u001b[0m     \u001b[38;5;28;01melse\u001b[39;00m:\n\u001b[1;32m--> 888\u001b[0m         \u001b[43mestimator\u001b[49m\u001b[38;5;241;43m.\u001b[39;49m\u001b[43mfit\u001b[49m\u001b[43m(\u001b[49m\u001b[43mX_train\u001b[49m\u001b[43m,\u001b[49m\u001b[43m \u001b[49m\u001b[43my_train\u001b[49m\u001b[43m,\u001b[49m\u001b[43m \u001b[49m\u001b[38;5;241;43m*\u001b[39;49m\u001b[38;5;241;43m*\u001b[39;49m\u001b[43mfit_params\u001b[49m\u001b[43m)\u001b[49m\n\u001b[0;32m    890\u001b[0m \u001b[38;5;28;01mexcept\u001b[39;00m \u001b[38;5;167;01mException\u001b[39;00m:\n\u001b[0;32m    891\u001b[0m     \u001b[38;5;66;03m# Note fit time as time until error\u001b[39;00m\n\u001b[0;32m    892\u001b[0m     fit_time \u001b[38;5;241m=\u001b[39m time\u001b[38;5;241m.\u001b[39mtime() \u001b[38;5;241m-\u001b[39m start_time\n",
      "File \u001b[1;32mc:\\Users\\User\\.conda\\envs\\energy\\Lib\\site-packages\\sklearn\\ensemble\\_stacking.py:971\u001b[0m, in \u001b[0;36mStackingRegressor.fit\u001b[1;34m(self, X, y, sample_weight)\u001b[0m\n\u001b[0;32m    969\u001b[0m _raise_for_unsupported_routing(\u001b[38;5;28mself\u001b[39m, \u001b[38;5;124m\"\u001b[39m\u001b[38;5;124mfit\u001b[39m\u001b[38;5;124m\"\u001b[39m, sample_weight\u001b[38;5;241m=\u001b[39msample_weight)\n\u001b[0;32m    970\u001b[0m y \u001b[38;5;241m=\u001b[39m column_or_1d(y, warn\u001b[38;5;241m=\u001b[39m\u001b[38;5;28;01mTrue\u001b[39;00m)\n\u001b[1;32m--> 971\u001b[0m \u001b[38;5;28;01mreturn\u001b[39;00m \u001b[38;5;28;43msuper\u001b[39;49m\u001b[43m(\u001b[49m\u001b[43m)\u001b[49m\u001b[38;5;241;43m.\u001b[39;49m\u001b[43mfit\u001b[49m\u001b[43m(\u001b[49m\u001b[43mX\u001b[49m\u001b[43m,\u001b[49m\u001b[43m \u001b[49m\u001b[43my\u001b[49m\u001b[43m,\u001b[49m\u001b[43m \u001b[49m\u001b[43msample_weight\u001b[49m\u001b[43m)\u001b[49m\n",
      "File \u001b[1;32mc:\\Users\\User\\.conda\\envs\\energy\\Lib\\site-packages\\sklearn\\base.py:1473\u001b[0m, in \u001b[0;36m_fit_context.<locals>.decorator.<locals>.wrapper\u001b[1;34m(estimator, *args, **kwargs)\u001b[0m\n\u001b[0;32m   1466\u001b[0m     estimator\u001b[38;5;241m.\u001b[39m_validate_params()\n\u001b[0;32m   1468\u001b[0m \u001b[38;5;28;01mwith\u001b[39;00m config_context(\n\u001b[0;32m   1469\u001b[0m     skip_parameter_validation\u001b[38;5;241m=\u001b[39m(\n\u001b[0;32m   1470\u001b[0m         prefer_skip_nested_validation \u001b[38;5;129;01mor\u001b[39;00m global_skip_validation\n\u001b[0;32m   1471\u001b[0m     )\n\u001b[0;32m   1472\u001b[0m ):\n\u001b[1;32m-> 1473\u001b[0m     \u001b[38;5;28;01mreturn\u001b[39;00m \u001b[43mfit_method\u001b[49m\u001b[43m(\u001b[49m\u001b[43mestimator\u001b[49m\u001b[43m,\u001b[49m\u001b[43m \u001b[49m\u001b[38;5;241;43m*\u001b[39;49m\u001b[43margs\u001b[49m\u001b[43m,\u001b[49m\u001b[43m \u001b[49m\u001b[38;5;241;43m*\u001b[39;49m\u001b[38;5;241;43m*\u001b[39;49m\u001b[43mkwargs\u001b[49m\u001b[43m)\u001b[49m\n",
      "File \u001b[1;32mc:\\Users\\User\\.conda\\envs\\energy\\Lib\\site-packages\\sklearn\\ensemble\\_stacking.py:264\u001b[0m, in \u001b[0;36m_BaseStacking.fit\u001b[1;34m(self, X, y, sample_weight)\u001b[0m\n\u001b[0;32m    261\u001b[0m     \u001b[38;5;28;01mif\u001b[39;00m \u001b[38;5;28mhasattr\u001b[39m(cv, \u001b[38;5;124m\"\u001b[39m\u001b[38;5;124mrandom_state\u001b[39m\u001b[38;5;124m\"\u001b[39m) \u001b[38;5;129;01mand\u001b[39;00m cv\u001b[38;5;241m.\u001b[39mrandom_state \u001b[38;5;129;01mis\u001b[39;00m \u001b[38;5;28;01mNone\u001b[39;00m:\n\u001b[0;32m    262\u001b[0m         cv\u001b[38;5;241m.\u001b[39mrandom_state \u001b[38;5;241m=\u001b[39m np\u001b[38;5;241m.\u001b[39mrandom\u001b[38;5;241m.\u001b[39mRandomState()\n\u001b[1;32m--> 264\u001b[0m     predictions \u001b[38;5;241m=\u001b[39m \u001b[43mParallel\u001b[49m\u001b[43m(\u001b[49m\u001b[43mn_jobs\u001b[49m\u001b[38;5;241;43m=\u001b[39;49m\u001b[38;5;28;43mself\u001b[39;49m\u001b[38;5;241;43m.\u001b[39;49m\u001b[43mn_jobs\u001b[49m\u001b[43m)\u001b[49m\u001b[43m(\u001b[49m\n\u001b[0;32m    265\u001b[0m \u001b[43m        \u001b[49m\u001b[43mdelayed\u001b[49m\u001b[43m(\u001b[49m\u001b[43mcross_val_predict\u001b[49m\u001b[43m)\u001b[49m\u001b[43m(\u001b[49m\n\u001b[0;32m    266\u001b[0m \u001b[43m            \u001b[49m\u001b[43mclone\u001b[49m\u001b[43m(\u001b[49m\u001b[43mest\u001b[49m\u001b[43m)\u001b[49m\u001b[43m,\u001b[49m\n\u001b[0;32m    267\u001b[0m \u001b[43m            \u001b[49m\u001b[43mX\u001b[49m\u001b[43m,\u001b[49m\n\u001b[0;32m    268\u001b[0m \u001b[43m            \u001b[49m\u001b[43my\u001b[49m\u001b[43m,\u001b[49m\n\u001b[0;32m    269\u001b[0m \u001b[43m            \u001b[49m\u001b[43mcv\u001b[49m\u001b[38;5;241;43m=\u001b[39;49m\u001b[43mdeepcopy\u001b[49m\u001b[43m(\u001b[49m\u001b[43mcv\u001b[49m\u001b[43m)\u001b[49m\u001b[43m,\u001b[49m\n\u001b[0;32m    270\u001b[0m \u001b[43m            \u001b[49m\u001b[43mmethod\u001b[49m\u001b[38;5;241;43m=\u001b[39;49m\u001b[43mmeth\u001b[49m\u001b[43m,\u001b[49m\n\u001b[0;32m    271\u001b[0m \u001b[43m            \u001b[49m\u001b[43mn_jobs\u001b[49m\u001b[38;5;241;43m=\u001b[39;49m\u001b[38;5;28;43mself\u001b[39;49m\u001b[38;5;241;43m.\u001b[39;49m\u001b[43mn_jobs\u001b[49m\u001b[43m,\u001b[49m\n\u001b[0;32m    272\u001b[0m \u001b[43m            \u001b[49m\u001b[43mparams\u001b[49m\u001b[38;5;241;43m=\u001b[39;49m\u001b[43mfit_params\u001b[49m\u001b[43m,\u001b[49m\n\u001b[0;32m    273\u001b[0m \u001b[43m            \u001b[49m\u001b[43mverbose\u001b[49m\u001b[38;5;241;43m=\u001b[39;49m\u001b[38;5;28;43mself\u001b[39;49m\u001b[38;5;241;43m.\u001b[39;49m\u001b[43mverbose\u001b[49m\u001b[43m,\u001b[49m\n\u001b[0;32m    274\u001b[0m \u001b[43m        \u001b[49m\u001b[43m)\u001b[49m\n\u001b[0;32m    275\u001b[0m \u001b[43m        \u001b[49m\u001b[38;5;28;43;01mfor\u001b[39;49;00m\u001b[43m \u001b[49m\u001b[43mest\u001b[49m\u001b[43m,\u001b[49m\u001b[43m \u001b[49m\u001b[43mmeth\u001b[49m\u001b[43m \u001b[49m\u001b[38;5;129;43;01min\u001b[39;49;00m\u001b[43m \u001b[49m\u001b[38;5;28;43mzip\u001b[39;49m\u001b[43m(\u001b[49m\u001b[43mall_estimators\u001b[49m\u001b[43m,\u001b[49m\u001b[43m \u001b[49m\u001b[38;5;28;43mself\u001b[39;49m\u001b[38;5;241;43m.\u001b[39;49m\u001b[43mstack_method_\u001b[49m\u001b[43m)\u001b[49m\n\u001b[0;32m    276\u001b[0m \u001b[43m        \u001b[49m\u001b[38;5;28;43;01mif\u001b[39;49;00m\u001b[43m \u001b[49m\u001b[43mest\u001b[49m\u001b[43m \u001b[49m\u001b[38;5;241;43m!=\u001b[39;49m\u001b[43m \u001b[49m\u001b[38;5;124;43m\"\u001b[39;49m\u001b[38;5;124;43mdrop\u001b[39;49m\u001b[38;5;124;43m\"\u001b[39;49m\n\u001b[0;32m    277\u001b[0m \u001b[43m    \u001b[49m\u001b[43m)\u001b[49m\n\u001b[0;32m    279\u001b[0m \u001b[38;5;66;03m# Only not None or not 'drop' estimators will be used in transform.\u001b[39;00m\n\u001b[0;32m    280\u001b[0m \u001b[38;5;66;03m# Remove the None from the method as well.\u001b[39;00m\n\u001b[0;32m    281\u001b[0m \u001b[38;5;28mself\u001b[39m\u001b[38;5;241m.\u001b[39mstack_method_ \u001b[38;5;241m=\u001b[39m [\n\u001b[0;32m    282\u001b[0m     meth\n\u001b[0;32m    283\u001b[0m     \u001b[38;5;28;01mfor\u001b[39;00m (meth, est) \u001b[38;5;129;01min\u001b[39;00m \u001b[38;5;28mzip\u001b[39m(\u001b[38;5;28mself\u001b[39m\u001b[38;5;241m.\u001b[39mstack_method_, all_estimators)\n\u001b[0;32m    284\u001b[0m     \u001b[38;5;28;01mif\u001b[39;00m est \u001b[38;5;241m!=\u001b[39m \u001b[38;5;124m\"\u001b[39m\u001b[38;5;124mdrop\u001b[39m\u001b[38;5;124m\"\u001b[39m\n\u001b[0;32m    285\u001b[0m ]\n",
      "File \u001b[1;32mc:\\Users\\User\\.conda\\envs\\energy\\Lib\\site-packages\\sklearn\\utils\\parallel.py:74\u001b[0m, in \u001b[0;36mParallel.__call__\u001b[1;34m(self, iterable)\u001b[0m\n\u001b[0;32m     69\u001b[0m config \u001b[38;5;241m=\u001b[39m get_config()\n\u001b[0;32m     70\u001b[0m iterable_with_config \u001b[38;5;241m=\u001b[39m (\n\u001b[0;32m     71\u001b[0m     (_with_config(delayed_func, config), args, kwargs)\n\u001b[0;32m     72\u001b[0m     \u001b[38;5;28;01mfor\u001b[39;00m delayed_func, args, kwargs \u001b[38;5;129;01min\u001b[39;00m iterable\n\u001b[0;32m     73\u001b[0m )\n\u001b[1;32m---> 74\u001b[0m \u001b[38;5;28;01mreturn\u001b[39;00m \u001b[38;5;28;43msuper\u001b[39;49m\u001b[43m(\u001b[49m\u001b[43m)\u001b[49m\u001b[38;5;241;43m.\u001b[39;49m\u001b[38;5;21;43m__call__\u001b[39;49m\u001b[43m(\u001b[49m\u001b[43miterable_with_config\u001b[49m\u001b[43m)\u001b[49m\n",
      "File \u001b[1;32mc:\\Users\\User\\.conda\\envs\\energy\\Lib\\site-packages\\joblib\\parallel.py:2007\u001b[0m, in \u001b[0;36mParallel.__call__\u001b[1;34m(self, iterable)\u001b[0m\n\u001b[0;32m   2001\u001b[0m \u001b[38;5;66;03m# The first item from the output is blank, but it makes the interpreter\u001b[39;00m\n\u001b[0;32m   2002\u001b[0m \u001b[38;5;66;03m# progress until it enters the Try/Except block of the generator and\u001b[39;00m\n\u001b[0;32m   2003\u001b[0m \u001b[38;5;66;03m# reaches the first `yield` statement. This starts the asynchronous\u001b[39;00m\n\u001b[0;32m   2004\u001b[0m \u001b[38;5;66;03m# dispatch of the tasks to the workers.\u001b[39;00m\n\u001b[0;32m   2005\u001b[0m \u001b[38;5;28mnext\u001b[39m(output)\n\u001b[1;32m-> 2007\u001b[0m \u001b[38;5;28;01mreturn\u001b[39;00m output \u001b[38;5;28;01mif\u001b[39;00m \u001b[38;5;28mself\u001b[39m\u001b[38;5;241m.\u001b[39mreturn_generator \u001b[38;5;28;01melse\u001b[39;00m \u001b[38;5;28mlist\u001b[39m(output)\n",
      "File \u001b[1;32mc:\\Users\\User\\.conda\\envs\\energy\\Lib\\site-packages\\joblib\\parallel.py:1650\u001b[0m, in \u001b[0;36mParallel._get_outputs\u001b[1;34m(self, iterator, pre_dispatch)\u001b[0m\n\u001b[0;32m   1647\u001b[0m     \u001b[38;5;28;01myield\u001b[39;00m\n\u001b[0;32m   1649\u001b[0m     \u001b[38;5;28;01mwith\u001b[39;00m \u001b[38;5;28mself\u001b[39m\u001b[38;5;241m.\u001b[39m_backend\u001b[38;5;241m.\u001b[39mretrieval_context():\n\u001b[1;32m-> 1650\u001b[0m         \u001b[38;5;28;01myield from\u001b[39;00m \u001b[38;5;28mself\u001b[39m\u001b[38;5;241m.\u001b[39m_retrieve()\n\u001b[0;32m   1652\u001b[0m \u001b[38;5;28;01mexcept\u001b[39;00m \u001b[38;5;167;01mGeneratorExit\u001b[39;00m:\n\u001b[0;32m   1653\u001b[0m     \u001b[38;5;66;03m# The generator has been garbage collected before being fully\u001b[39;00m\n\u001b[0;32m   1654\u001b[0m     \u001b[38;5;66;03m# consumed. This aborts the remaining tasks if possible and warn\u001b[39;00m\n\u001b[0;32m   1655\u001b[0m     \u001b[38;5;66;03m# the user if necessary.\u001b[39;00m\n\u001b[0;32m   1656\u001b[0m     \u001b[38;5;28mself\u001b[39m\u001b[38;5;241m.\u001b[39m_exception \u001b[38;5;241m=\u001b[39m \u001b[38;5;28;01mTrue\u001b[39;00m\n",
      "File \u001b[1;32mc:\\Users\\User\\.conda\\envs\\energy\\Lib\\site-packages\\joblib\\parallel.py:1762\u001b[0m, in \u001b[0;36mParallel._retrieve\u001b[1;34m(self)\u001b[0m\n\u001b[0;32m   1757\u001b[0m \u001b[38;5;66;03m# If the next job is not ready for retrieval yet, we just wait for\u001b[39;00m\n\u001b[0;32m   1758\u001b[0m \u001b[38;5;66;03m# async callbacks to progress.\u001b[39;00m\n\u001b[0;32m   1759\u001b[0m \u001b[38;5;28;01mif\u001b[39;00m ((\u001b[38;5;28mlen\u001b[39m(\u001b[38;5;28mself\u001b[39m\u001b[38;5;241m.\u001b[39m_jobs) \u001b[38;5;241m==\u001b[39m \u001b[38;5;241m0\u001b[39m) \u001b[38;5;129;01mor\u001b[39;00m\n\u001b[0;32m   1760\u001b[0m     (\u001b[38;5;28mself\u001b[39m\u001b[38;5;241m.\u001b[39m_jobs[\u001b[38;5;241m0\u001b[39m]\u001b[38;5;241m.\u001b[39mget_status(\n\u001b[0;32m   1761\u001b[0m         timeout\u001b[38;5;241m=\u001b[39m\u001b[38;5;28mself\u001b[39m\u001b[38;5;241m.\u001b[39mtimeout) \u001b[38;5;241m==\u001b[39m TASK_PENDING)):\n\u001b[1;32m-> 1762\u001b[0m     time\u001b[38;5;241m.\u001b[39msleep(\u001b[38;5;241m0.01\u001b[39m)\n\u001b[0;32m   1763\u001b[0m     \u001b[38;5;28;01mcontinue\u001b[39;00m\n\u001b[0;32m   1765\u001b[0m \u001b[38;5;66;03m# We need to be careful: the job list can be filling up as\u001b[39;00m\n\u001b[0;32m   1766\u001b[0m \u001b[38;5;66;03m# we empty it and Python list are not thread-safe by\u001b[39;00m\n\u001b[0;32m   1767\u001b[0m \u001b[38;5;66;03m# default hence the use of the lock\u001b[39;00m\n",
      "\u001b[1;31mKeyboardInterrupt\u001b[0m: "
     ]
    }
   ],
   "source": [
    "# Helper function to load hyperparameters from JSON if available\n",
    "NUM_JOBS = 8\n",
    "VERBOSE = 3\n",
    "\n",
    "# Load data\n",
    "data_type = 'slope_removed'\n",
    "data = pd.read_pickle(f'data/{data_type}/train.pkl')\n",
    "test_data = pd.read_pickle(f'data/{data_type}/test.pkl')\n",
    "\n",
    "# Store and drop the ID column\n",
    "test_ids = test_data['ID']\n",
    "test_data = test_data.drop('ID', axis=1)\n",
    "data = data.drop('ID', axis=1)\n",
    "\n",
    "# One-hot encode train and test data with drop_first=True\n",
    "data = pd.get_dummies(data, drop_first=True)\n",
    "test_data = pd.get_dummies(test_data, drop_first=True)\n",
    "\n",
    "# Ensure both train and test have the same columns after one-hot encoding\n",
    "# Align the test data to have the same columns as training data\n",
    "test_data = test_data.reindex(columns=data.columns.drop('target'), fill_value=0)\n",
    "\n",
    "# Define features and target\n",
    "X = data.drop('target', axis=1)\n",
    "y = data['target']\n",
    "\n",
    "# Stratify based on 'work_hours_1' by using it in initial train/test split\n",
    "# This ensures that the distribution of 'work_hours_1' is maintained\n",
    "X_train, X_val, y_train, y_val = train_test_split(\n",
    "    X,\n",
    "    y,\n",
    "    test_size=0.1,\n",
    "    stratify=data['work_hours_1'],\n",
    "    random_state=42\n",
    ")\n",
    "\n",
    "# Define hyperparameter grids with regularization\n",
    "param_grid_lgb = {\n",
    "    'num_leaves': [31, 50, 70, 100],\n",
    "    'max_depth': [-1, 10, 20, 50],\n",
    "    'learning_rate': [0.01, 0.05, 0.1],\n",
    "    'n_estimators': [100, 500],\n",
    "    'reg_alpha': [0, 0.1, 1, 10],\n",
    "    'reg_lambda': [0, 0.1, 1, 10]\n",
    "}\n",
    "\n",
    "param_grid_svr = {\n",
    "    'kernel': ['rbf', 'linear'],\n",
    "    'C': [0.1, 1, 10, 100],\n",
    "    'gamma': ['scale', 'auto'],\n",
    "    'epsilon': [0.1, 0.2, 0.5, 1],\n",
    "}\n",
    "\n",
    "param_grid_mlp = {\n",
    "    'hidden_layer_sizes': [(50, 50), (100, 100), (100, 50, 100), (100, 100, 100), (100, 100, 100, 100)],\n",
    "    'activation': ['relu', 'tanh'],\n",
    "    'solver': ['adam'],\n",
    "    'alpha': [0.0001, 0.001, 0.01],\n",
    "    'learning_rate': ['constant', 'adaptive'],\n",
    "    'max_iter': [500, 1000, 2000],\n",
    "    'early_stopping': [True],\n",
    "}\n",
    "\n",
    "param_grid_knn = {\n",
    "    'n_neighbors': [3, 5, 7],\n",
    "    'weights': ['uniform', 'distance'],\n",
    "    'p': [1, 2],\n",
    "}\n",
    "\n",
    "# Initialize GridSearchCV for each model with KFold CV\n",
    "cv = KFold(n_splits=5, shuffle=True, random_state=42)\n",
    "\n",
    "# Optimize LightGBM Regressor\n",
    "print(\"Optimizing LightGBM Regressor...\")\n",
    "best_params_lgb = load_hyperparams('lgb', data_type)\n",
    "\n",
    "model_lgb = lgb.LGBMRegressor(verbose=-1, **best_params_lgb)\n",
    "\n",
    "if not best_params_lgb:\n",
    "    model_lgb = lgb.LGBMRegressor(verbose=-1)\n",
    "    grid_search_lgb = GridSearchCV(\n",
    "        estimator=model_lgb,\n",
    "        param_grid=param_grid_lgb,\n",
    "        scoring='neg_mean_absolute_error',\n",
    "        cv=cv,\n",
    "        n_jobs=NUM_JOBS,\n",
    "        verbose=VERBOSE\n",
    "    )\n",
    "    grid_search_lgb.fit(X_train, y_train)\n",
    "    best_lgb = grid_search_lgb.best_estimator_\n",
    "    best_params_lgb = grid_search_lgb.best_params_\n",
    "    save_hyperparams('lgb', data_type, best_params_lgb)\n",
    "    model_lgb = best_lgb\n",
    "\n",
    "# Optimize SVR\n",
    "print(\"Optimizing SVR...\")\n",
    "best_params_svr = load_hyperparams('svr', data_type)\n",
    "\n",
    "model_svr = SVR(**best_params_svr)\n",
    "\n",
    "if not best_params_svr:\n",
    "    grid_search_svr = GridSearchCV(\n",
    "        estimator=model_svr,\n",
    "        param_grid=param_grid_svr,\n",
    "        scoring='neg_mean_absolute_error',\n",
    "        cv=cv,\n",
    "        n_jobs=NUM_JOBS,\n",
    "        verbose=VERBOSE\n",
    "    )\n",
    "    grid_search_svr.fit(X_train, y_train)\n",
    "    best_svr = grid_search_svr.best_estimator_\n",
    "    best_params_svr = grid_search_svr.best_params_\n",
    "    save_hyperparams('svr', data_type, best_params_svr)\n",
    "    model_svr = best_svr\n",
    "\n",
    "# Optimize MLP Regressor\n",
    "print(\"Optimizing MLP Regressor...\")\n",
    "best_params_mlp = load_hyperparams('mlp', data_type)\n",
    "\n",
    "model_mlp = MLPRegressor(**best_params_mlp)\n",
    "\n",
    "if not best_params_mlp:\n",
    "    grid_search_mlp = GridSearchCV(\n",
    "        estimator=model_mlp,\n",
    "        param_grid=param_grid_mlp,\n",
    "        scoring='neg_mean_absolute_error',\n",
    "        cv=cv,\n",
    "        n_jobs=NUM_JOBS,\n",
    "        verbose=VERBOSE\n",
    "    )\n",
    "    grid_search_mlp.fit(X_train, y_train)\n",
    "    best_mlp = grid_search_mlp.best_estimator_\n",
    "    best_params_mlp = grid_search_mlp.best_params_\n",
    "    save_hyperparams('mlp', data_type, best_params_mlp)\n",
    "    model_mlp = best_mlp\n",
    "    \n",
    "# Optimize KNN Regressor\n",
    "print(\"Optimizing KNN Regressor...\")\n",
    "best_params_knn = load_hyperparams('knn', data_type)\n",
    "\n",
    "model_knn = KNeighborsRegressor(**best_params_knn)\n",
    "\n",
    "if not best_params_knn:\n",
    "    grid_search_knn = GridSearchCV(\n",
    "        estimator=model_knn,\n",
    "        param_grid=param_grid_knn,\n",
    "        scoring='neg_mean_absolute_error',\n",
    "        cv=cv,\n",
    "        n_jobs=NUM_JOBS,\n",
    "        verbose=VERBOSE\n",
    "    )\n",
    "    grid_search_knn.fit(X_train, y_train)\n",
    "    best_knn = grid_search_knn.best_estimator_\n",
    "    best_params_knn = grid_search_knn.best_params_\n",
    "    save_hyperparams('knn', data_type, best_params_knn)\n",
    "    model_knn = best_knn\n",
    "\n",
    "# Build estimators with optimized models\n",
    "estimators = [\n",
    "    ('lgb', model_lgb),\n",
    "    ('svr', model_svr),\n",
    "    ('mlp', model_mlp),\n",
    "    ('knn', model_knn),\n",
    "]\n",
    "\n",
    "# Update param_grid_meta for ElasticNet\n",
    "param_grid_meta = {\n",
    "    'final_estimator__alpha': [0.0001, 0.001, 0.01, 0.1, 1.0],\n",
    "    'final_estimator__l1_ratio': [0.1, 0.3, 0.5, 0.7, 0.9],\n",
    "    'final_estimator__fit_intercept': [True, False],\n",
    "    'final_estimator__max_iter': [1000, 2000],\n",
    "    'final_estimator__tol': [1e-4, 1e-3, 1e-2],\n",
    "    'final_estimator__selection': ['cyclic', 'random'],\n",
    "    'final_estimator__random_state': [42]\n",
    "}\n",
    "\n",
    "# Initialize stacking regressor with ElasticNet\n",
    "stacking_regressor = StackingRegressor(\n",
    "    estimators=estimators,\n",
    "    final_estimator=ElasticNet(),\n",
    "    passthrough=True,\n",
    "    n_jobs=NUM_JOBS\n",
    ")\n",
    "\n",
    "# Optimize meta-estimator\n",
    "print(\"Optimizing meta-estimator...\")\n",
    "best_params_meta = load_hyperparams('lr', data_type)\n",
    "\n",
    "if best_params_meta:\n",
    "    meta_estimator = ElasticNet(**best_params_meta)\n",
    "    stacking_regressor = StackingRegressor(\n",
    "        estimators=estimators,\n",
    "        final_estimator=meta_estimator,\n",
    "        passthrough=True,\n",
    "        n_jobs=NUM_JOBS\n",
    "    )\n",
    "    print(\"Fitting the final model on all data...\")\n",
    "    stacking_regressor.fit(X, y)\n",
    "else:\n",
    "    grid_search_meta = GridSearchCV(\n",
    "        estimator=stacking_regressor,\n",
    "        param_grid=param_grid_meta,\n",
    "        scoring='neg_mean_absolute_error',\n",
    "        cv=cv,\n",
    "        n_jobs=1,\n",
    "        verbose=VERBOSE\n",
    "    )\n",
    "    grid_search_meta.fit(X_train, y_train)\n",
    "    best_stacking = grid_search_meta.best_estimator_\n",
    "    best_params_meta = grid_search_meta.best_params_\n",
    "    best_params_meta = {k.replace('final_estimator__', ''): v for k, v in best_params_meta.items()}\n",
    "    save_hyperparams('lr', data_type, best_params_meta)\n",
    "    stacking_regressor = best_stacking\n",
    "\n",
    "# Calculate MAE on validation set\n",
    "if best_params_meta:\n",
    "    print(\"Calculating MAE on validation set...\")\n",
    "    # if 'best_stacking' in locals():\n",
    "    #     y_val_pred = best_stacking.predict(X_val)\n",
    "    # else:\n",
    "    y_val_pred = stacking_regressor.predict(X_val)\n",
    "    mae_val = mean_absolute_error(y_val, y_val_pred)\n",
    "    print(f'Validation MAE: {mae_val}')\n",
    "\n",
    "# Save the final stacked model\n",
    "with open('final_model.pkl', 'wb') as f:\n",
    "    pickle.dump(stacking_regressor, f)\n",
    "    print(\"Final stacked model saved to 'final_model.pkl'.\")\n",
    "\n",
    "# Generate predictions on test data\n",
    "print(\"Generating predictions on test data...\")\n",
    "predictions = stacking_regressor.predict(test_data)\n",
    "\n",
    "# Save predictions to CSV\n",
    "output_filepath = f'predictions/tuned_{data_type}.csv'\n",
    "pd.DataFrame({'ID': test_ids, 'target': predictions}).to_csv(output_filepath, index=False)\n",
    "print(f'Predictions saved to {output_filepath}')"
   ]
  },
  {
   "cell_type": "code",
   "execution_count": 20,
   "metadata": {},
   "outputs": [
    {
     "name": "stdout",
     "output_type": "stream",
     "text": [
      "source_1_temperature     float32\n",
      "source_2_temperature     float32\n",
      "source_3_temperature     float32\n",
      "source_4_temperature     float32\n",
      "mean_room_temperature    float32\n",
      "outside_temperature      float32\n",
      "hour_sin                 float32\n",
      "hour_cos                 float32\n",
      "holiday_1                   bool\n",
      "work_hours_1                bool\n",
      "dtype: object\n"
     ]
    }
   ],
   "source": [
    "# print dtypes\n",
    "print(X.dtypes)"
   ]
  }
 ],
 "metadata": {
  "kernelspec": {
   "display_name": "energy",
   "language": "python",
   "name": "python3"
  },
  "language_info": {
   "codemirror_mode": {
    "name": "ipython",
    "version": 3
   },
   "file_extension": ".py",
   "mimetype": "text/x-python",
   "name": "python",
   "nbconvert_exporter": "python",
   "pygments_lexer": "ipython3",
   "version": "3.11.10"
  }
 },
 "nbformat": 4,
 "nbformat_minor": 2
}
