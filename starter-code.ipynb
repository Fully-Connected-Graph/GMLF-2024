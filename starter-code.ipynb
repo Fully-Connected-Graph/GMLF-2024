{
 "cells": [
  {
   "cell_type": "markdown",
   "id": "beefac68",
   "metadata": {},
   "source": [
    "# Energy Demand Forecast [ML Fortnight 2024]\n",
    "\n",
    "This is the starter notebook for the \"Energy Demand Forecast [ML Fortnight 2024]\" competition. In this competition, you will be predicting the energy demand for the next 14 days based on historical data.\n",
    "\n",
    "This notebook assumes the data is located in the `data/` directory and is named as follows:\n",
    "- `train.csv`: This is the training data that you will use to train your model.\n",
    "- `test.csv`: This is the test data on which you will apply your model to predict the energy demand for the next 14 days.\n",
    "- `sample_submission.csv`: This is the format for the submission file that you will submit."
   ]
  },
  {
   "cell_type": "code",
   "execution_count": null,
   "id": "8a9fd5bf",
   "metadata": {
    "_cell_guid": "b1076dfc-b9ad-4769-8c92-a6c4dae69d19",
    "_uuid": "8f2839f25d086af736a60e9eeb907d3b93b6e0e5",
    "execution": {
     "iopub.execute_input": "2024-11-24T22:46:47.276063Z",
     "iopub.status.busy": "2024-11-24T22:46:47.275680Z",
     "iopub.status.idle": "2024-11-24T22:46:48.175702Z",
     "shell.execute_reply": "2024-11-24T22:46:48.174417Z"
    },
    "papermill": {
     "duration": 0.908542,
     "end_time": "2024-11-24T22:46:48.178237",
     "exception": false,
     "start_time": "2024-11-24T22:46:47.269695",
     "status": "completed"
    },
    "tags": []
   },
   "outputs": [
    {
     "name": "stdout",
     "output_type": "stream",
     "text": [
      "/kaggle/input/building-energy-demand-forecasting/sample_submission.csv\n",
      "/kaggle/input/building-energy-demand-forecasting/train.csv\n",
      "/kaggle/input/building-energy-demand-forecasting/test.csv\n"
     ]
    }
   ],
   "source": [
    "import os            # handle os stuff\n",
    "\n",
    "import numpy as np   # linear algebra\n",
    "import pandas as pd  # data processing, CSV file I/O (e.g. pd.read_csv)\n",
    "\n",
    "for dirname, _, filenames in os.walk('./data'):\n",
    "    for filename in filenames:\n",
    "        print(os.path.join(dirname, filename))"
   ]
  },
  {
   "cell_type": "markdown",
   "id": "cd612c84",
   "metadata": {
    "papermill": {
     "duration": 0.003635,
     "end_time": "2024-11-24T22:46:48.186089",
     "exception": false,
     "start_time": "2024-11-24T22:46:48.182454",
     "status": "completed"
    },
    "tags": []
   },
   "source": [
    "Let's load these files, and see what every one of them includes. The `train` file includes features:\n",
    "- `measurement_time`: timestamp\n",
    "- `source_1_temperature` to `source_4_temperature`: Temperatures from various energy sources.\n",
    "- `mean_room_temperature`: Average temperature within the building.\n",
    "- `sun_radiation_east`, `west`, `south`, `north`, `perpendicular`: Solar radiation levels from different directions.\n",
    "- `outside_temperature`: Temperature outside the building.\n",
    "- `wind_speed`: Speed of the wind.\n",
    "- `wind_direction`: Direction of the wind.\n",
    "- `clouds`: Cloud coverage.\n",
    "\n",
    "and the `target` column. You use this data to train your models."
   ]
  },
  {
   "cell_type": "code",
   "execution_count": null,
   "id": "f501b3ec",
   "metadata": {
    "execution": {
     "iopub.execute_input": "2024-11-24T22:46:48.196238Z",
     "iopub.status.busy": "2024-11-24T22:46:48.194892Z",
     "iopub.status.idle": "2024-11-24T22:46:48.282835Z",
     "shell.execute_reply": "2024-11-24T22:46:48.281759Z"
    },
    "papermill": {
     "duration": 0.095233,
     "end_time": "2024-11-24T22:46:48.285046",
     "exception": false,
     "start_time": "2024-11-24T22:46:48.189813",
     "status": "completed"
    },
    "tags": []
   },
   "outputs": [
    {
     "data": {
      "text/html": [
       "<div>\n",
       "<style scoped>\n",
       "    .dataframe tbody tr th:only-of-type {\n",
       "        vertical-align: middle;\n",
       "    }\n",
       "\n",
       "    .dataframe tbody tr th {\n",
       "        vertical-align: top;\n",
       "    }\n",
       "\n",
       "    .dataframe thead th {\n",
       "        text-align: right;\n",
       "    }\n",
       "</style>\n",
       "<table border=\"1\" class=\"dataframe\">\n",
       "  <thead>\n",
       "    <tr style=\"text-align: right;\">\n",
       "      <th></th>\n",
       "      <th>measurement_time</th>\n",
       "      <th>target</th>\n",
       "      <th>source_1_temperature</th>\n",
       "      <th>source_2_temperature</th>\n",
       "      <th>source_3_temperature</th>\n",
       "      <th>source_4_temperature</th>\n",
       "      <th>mean_room_temperature</th>\n",
       "      <th>sun_radiation_east</th>\n",
       "      <th>sun_radiation_west</th>\n",
       "      <th>sun_radiation_south</th>\n",
       "      <th>sun_radiation_north</th>\n",
       "      <th>sun_radiation_perpendicular</th>\n",
       "      <th>outside_temperature</th>\n",
       "      <th>wind_speed</th>\n",
       "      <th>wind_direction</th>\n",
       "      <th>clouds</th>\n",
       "    </tr>\n",
       "    <tr>\n",
       "      <th>ID</th>\n",
       "      <th></th>\n",
       "      <th></th>\n",
       "      <th></th>\n",
       "      <th></th>\n",
       "      <th></th>\n",
       "      <th></th>\n",
       "      <th></th>\n",
       "      <th></th>\n",
       "      <th></th>\n",
       "      <th></th>\n",
       "      <th></th>\n",
       "      <th></th>\n",
       "      <th></th>\n",
       "      <th></th>\n",
       "      <th></th>\n",
       "      <th></th>\n",
       "    </tr>\n",
       "  </thead>\n",
       "  <tbody>\n",
       "    <tr>\n",
       "      <th>0</th>\n",
       "      <td>2023-11-01 00:00:00</td>\n",
       "      <td>3.400000</td>\n",
       "      <td>27.600000</td>\n",
       "      <td>18.799999</td>\n",
       "      <td>19.750000</td>\n",
       "      <td>21.100000</td>\n",
       "      <td>20.129892</td>\n",
       "      <td>0.0</td>\n",
       "      <td>0.0</td>\n",
       "      <td>0.0</td>\n",
       "      <td>0.0</td>\n",
       "      <td>0.0</td>\n",
       "      <td>8.97</td>\n",
       "      <td>2.06</td>\n",
       "      <td>140.0</td>\n",
       "      <td>20.0</td>\n",
       "    </tr>\n",
       "    <tr>\n",
       "      <th>1</th>\n",
       "      <td>2023-11-01 01:00:00</td>\n",
       "      <td>2.933333</td>\n",
       "      <td>28.400000</td>\n",
       "      <td>18.933333</td>\n",
       "      <td>19.833333</td>\n",
       "      <td>21.033333</td>\n",
       "      <td>20.052919</td>\n",
       "      <td>0.0</td>\n",
       "      <td>0.0</td>\n",
       "      <td>0.0</td>\n",
       "      <td>0.0</td>\n",
       "      <td>0.0</td>\n",
       "      <td>9.19</td>\n",
       "      <td>2.06</td>\n",
       "      <td>110.0</td>\n",
       "      <td>100.0</td>\n",
       "    </tr>\n",
       "    <tr>\n",
       "      <th>2</th>\n",
       "      <td>2023-11-01 02:00:00</td>\n",
       "      <td>7.166667</td>\n",
       "      <td>29.400000</td>\n",
       "      <td>19.000000</td>\n",
       "      <td>19.799999</td>\n",
       "      <td>21.000000</td>\n",
       "      <td>19.992375</td>\n",
       "      <td>0.0</td>\n",
       "      <td>0.0</td>\n",
       "      <td>0.0</td>\n",
       "      <td>0.0</td>\n",
       "      <td>0.0</td>\n",
       "      <td>9.42</td>\n",
       "      <td>2.57</td>\n",
       "      <td>140.0</td>\n",
       "      <td>20.0</td>\n",
       "    </tr>\n",
       "    <tr>\n",
       "      <th>3</th>\n",
       "      <td>2023-11-01 03:00:00</td>\n",
       "      <td>10.500000</td>\n",
       "      <td>30.100000</td>\n",
       "      <td>19.033333</td>\n",
       "      <td>19.933333</td>\n",
       "      <td>24.600000</td>\n",
       "      <td>19.941565</td>\n",
       "      <td>0.0</td>\n",
       "      <td>0.0</td>\n",
       "      <td>0.0</td>\n",
       "      <td>0.0</td>\n",
       "      <td>0.0</td>\n",
       "      <td>9.19</td>\n",
       "      <td>2.57</td>\n",
       "      <td>150.0</td>\n",
       "      <td>100.0</td>\n",
       "    </tr>\n",
       "    <tr>\n",
       "      <th>4</th>\n",
       "      <td>2023-11-01 04:00:00</td>\n",
       "      <td>8.733334</td>\n",
       "      <td>31.866666</td>\n",
       "      <td>19.100000</td>\n",
       "      <td>20.000000</td>\n",
       "      <td>24.700000</td>\n",
       "      <td>19.924502</td>\n",
       "      <td>0.0</td>\n",
       "      <td>0.0</td>\n",
       "      <td>0.0</td>\n",
       "      <td>0.0</td>\n",
       "      <td>0.0</td>\n",
       "      <td>9.99</td>\n",
       "      <td>2.57</td>\n",
       "      <td>160.0</td>\n",
       "      <td>100.0</td>\n",
       "    </tr>\n",
       "  </tbody>\n",
       "</table>\n",
       "</div>"
      ],
      "text/plain": [
       "       measurement_time     target  source_1_temperature  \\\n",
       "ID                                                         \n",
       "0   2023-11-01 00:00:00   3.400000             27.600000   \n",
       "1   2023-11-01 01:00:00   2.933333             28.400000   \n",
       "2   2023-11-01 02:00:00   7.166667             29.400000   \n",
       "3   2023-11-01 03:00:00  10.500000             30.100000   \n",
       "4   2023-11-01 04:00:00   8.733334             31.866666   \n",
       "\n",
       "    source_2_temperature  source_3_temperature  source_4_temperature  \\\n",
       "ID                                                                     \n",
       "0              18.799999             19.750000             21.100000   \n",
       "1              18.933333             19.833333             21.033333   \n",
       "2              19.000000             19.799999             21.000000   \n",
       "3              19.033333             19.933333             24.600000   \n",
       "4              19.100000             20.000000             24.700000   \n",
       "\n",
       "    mean_room_temperature  sun_radiation_east  sun_radiation_west  \\\n",
       "ID                                                                  \n",
       "0               20.129892                 0.0                 0.0   \n",
       "1               20.052919                 0.0                 0.0   \n",
       "2               19.992375                 0.0                 0.0   \n",
       "3               19.941565                 0.0                 0.0   \n",
       "4               19.924502                 0.0                 0.0   \n",
       "\n",
       "    sun_radiation_south  sun_radiation_north  sun_radiation_perpendicular  \\\n",
       "ID                                                                          \n",
       "0                   0.0                  0.0                          0.0   \n",
       "1                   0.0                  0.0                          0.0   \n",
       "2                   0.0                  0.0                          0.0   \n",
       "3                   0.0                  0.0                          0.0   \n",
       "4                   0.0                  0.0                          0.0   \n",
       "\n",
       "    outside_temperature  wind_speed  wind_direction  clouds  \n",
       "ID                                                           \n",
       "0                  8.97        2.06           140.0    20.0  \n",
       "1                  9.19        2.06           110.0   100.0  \n",
       "2                  9.42        2.57           140.0    20.0  \n",
       "3                  9.19        2.57           150.0   100.0  \n",
       "4                  9.99        2.57           160.0   100.0  "
      ]
     },
     "execution_count": 2,
     "metadata": {},
     "output_type": "execute_result"
    }
   ],
   "source": [
    "train = pd.read_csv(\"data/train.csv\", index_col=\"ID\")\n",
    "train.head()"
   ]
  },
  {
   "cell_type": "markdown",
   "id": "fe6864a4",
   "metadata": {
    "papermill": {
     "duration": 0.004011,
     "end_time": "2024-11-24T22:46:48.293406",
     "exception": false,
     "start_time": "2024-11-24T22:46:48.289395",
     "status": "completed"
    },
    "tags": []
   },
   "source": [
    "The `test` file is exactly the same as `train` file, but it excludes the `target` column. And you use your model on this data to get the predictions. You have to upload these predictions to Kaggle, by which you will be evaluated."
   ]
  },
  {
   "cell_type": "code",
   "execution_count": null,
   "id": "60af9e29",
   "metadata": {
    "execution": {
     "iopub.execute_input": "2024-11-24T22:46:48.303502Z",
     "iopub.status.busy": "2024-11-24T22:46:48.303067Z",
     "iopub.status.idle": "2024-11-24T22:46:48.335773Z",
     "shell.execute_reply": "2024-11-24T22:46:48.334724Z"
    },
    "papermill": {
     "duration": 0.040586,
     "end_time": "2024-11-24T22:46:48.338129",
     "exception": false,
     "start_time": "2024-11-24T22:46:48.297543",
     "status": "completed"
    },
    "tags": []
   },
   "outputs": [
    {
     "data": {
      "text/html": [
       "<div>\n",
       "<style scoped>\n",
       "    .dataframe tbody tr th:only-of-type {\n",
       "        vertical-align: middle;\n",
       "    }\n",
       "\n",
       "    .dataframe tbody tr th {\n",
       "        vertical-align: top;\n",
       "    }\n",
       "\n",
       "    .dataframe thead th {\n",
       "        text-align: right;\n",
       "    }\n",
       "</style>\n",
       "<table border=\"1\" class=\"dataframe\">\n",
       "  <thead>\n",
       "    <tr style=\"text-align: right;\">\n",
       "      <th></th>\n",
       "      <th>measurement_time</th>\n",
       "      <th>source_1_temperature</th>\n",
       "      <th>source_2_temperature</th>\n",
       "      <th>source_3_temperature</th>\n",
       "      <th>source_4_temperature</th>\n",
       "      <th>mean_room_temperature</th>\n",
       "      <th>sun_radiation_east</th>\n",
       "      <th>sun_radiation_west</th>\n",
       "      <th>sun_radiation_south</th>\n",
       "      <th>sun_radiation_north</th>\n",
       "      <th>sun_radiation_perpendicular</th>\n",
       "      <th>outside_temperature</th>\n",
       "      <th>wind_speed</th>\n",
       "      <th>wind_direction</th>\n",
       "      <th>clouds</th>\n",
       "    </tr>\n",
       "    <tr>\n",
       "      <th>ID</th>\n",
       "      <th></th>\n",
       "      <th></th>\n",
       "      <th></th>\n",
       "      <th></th>\n",
       "      <th></th>\n",
       "      <th></th>\n",
       "      <th></th>\n",
       "      <th></th>\n",
       "      <th></th>\n",
       "      <th></th>\n",
       "      <th></th>\n",
       "      <th></th>\n",
       "      <th></th>\n",
       "      <th></th>\n",
       "      <th></th>\n",
       "    </tr>\n",
       "  </thead>\n",
       "  <tbody>\n",
       "    <tr>\n",
       "      <th>7047</th>\n",
       "      <td>2024-08-20 15:00:00</td>\n",
       "      <td>40.349999</td>\n",
       "      <td>16.625000</td>\n",
       "      <td>16.325000</td>\n",
       "      <td>18.650000</td>\n",
       "      <td>21.171070</td>\n",
       "      <td>114.935484</td>\n",
       "      <td>622.645161</td>\n",
       "      <td>565.741935</td>\n",
       "      <td>115.774194</td>\n",
       "      <td>814.483871</td>\n",
       "      <td>23.43</td>\n",
       "      <td>6.17</td>\n",
       "      <td>200.0</td>\n",
       "      <td>20.0</td>\n",
       "    </tr>\n",
       "    <tr>\n",
       "      <th>7048</th>\n",
       "      <td>2024-08-20 16:00:00</td>\n",
       "      <td>39.500000</td>\n",
       "      <td>19.333333</td>\n",
       "      <td>17.966667</td>\n",
       "      <td>19.033333</td>\n",
       "      <td>21.464404</td>\n",
       "      <td>97.774194</td>\n",
       "      <td>735.258065</td>\n",
       "      <td>406.677419</td>\n",
       "      <td>99.612903</td>\n",
       "      <td>766.774194</td>\n",
       "      <td>19.10</td>\n",
       "      <td>5.66</td>\n",
       "      <td>210.0</td>\n",
       "      <td>40.0</td>\n",
       "    </tr>\n",
       "    <tr>\n",
       "      <th>7049</th>\n",
       "      <td>2024-08-20 17:00:00</td>\n",
       "      <td>37.600001</td>\n",
       "      <td>19.566667</td>\n",
       "      <td>18.775000</td>\n",
       "      <td>19.150001</td>\n",
       "      <td>21.561250</td>\n",
       "      <td>76.612903</td>\n",
       "      <td>749.064516</td>\n",
       "      <td>226.290323</td>\n",
       "      <td>81.967742</td>\n",
       "      <td>681.032258</td>\n",
       "      <td>19.23</td>\n",
       "      <td>2.06</td>\n",
       "      <td>230.0</td>\n",
       "      <td>20.0</td>\n",
       "    </tr>\n",
       "    <tr>\n",
       "      <th>7050</th>\n",
       "      <td>2024-08-20 18:00:00</td>\n",
       "      <td>37.299999</td>\n",
       "      <td>19.350000</td>\n",
       "      <td>19.350000</td>\n",
       "      <td>19.050000</td>\n",
       "      <td>21.498269</td>\n",
       "      <td>52.967742</td>\n",
       "      <td>616.451613</td>\n",
       "      <td>67.612903</td>\n",
       "      <td>70.387097</td>\n",
       "      <td>524.322581</td>\n",
       "      <td>18.83</td>\n",
       "      <td>3.60</td>\n",
       "      <td>220.0</td>\n",
       "      <td>20.0</td>\n",
       "    </tr>\n",
       "    <tr>\n",
       "      <th>7051</th>\n",
       "      <td>2024-08-20 19:00:00</td>\n",
       "      <td>33.025001</td>\n",
       "      <td>19.066667</td>\n",
       "      <td>19.750000</td>\n",
       "      <td>19.175001</td>\n",
       "      <td>21.417638</td>\n",
       "      <td>25.161290</td>\n",
       "      <td>301.096774</td>\n",
       "      <td>26.838710</td>\n",
       "      <td>88.903226</td>\n",
       "      <td>249.935484</td>\n",
       "      <td>18.12</td>\n",
       "      <td>2.57</td>\n",
       "      <td>220.0</td>\n",
       "      <td>20.0</td>\n",
       "    </tr>\n",
       "  </tbody>\n",
       "</table>\n",
       "</div>"
      ],
      "text/plain": [
       "         measurement_time  source_1_temperature  source_2_temperature  \\\n",
       "ID                                                                      \n",
       "7047  2024-08-20 15:00:00             40.349999             16.625000   \n",
       "7048  2024-08-20 16:00:00             39.500000             19.333333   \n",
       "7049  2024-08-20 17:00:00             37.600001             19.566667   \n",
       "7050  2024-08-20 18:00:00             37.299999             19.350000   \n",
       "7051  2024-08-20 19:00:00             33.025001             19.066667   \n",
       "\n",
       "      source_3_temperature  source_4_temperature  mean_room_temperature  \\\n",
       "ID                                                                        \n",
       "7047             16.325000             18.650000              21.171070   \n",
       "7048             17.966667             19.033333              21.464404   \n",
       "7049             18.775000             19.150001              21.561250   \n",
       "7050             19.350000             19.050000              21.498269   \n",
       "7051             19.750000             19.175001              21.417638   \n",
       "\n",
       "      sun_radiation_east  sun_radiation_west  sun_radiation_south  \\\n",
       "ID                                                                  \n",
       "7047          114.935484          622.645161           565.741935   \n",
       "7048           97.774194          735.258065           406.677419   \n",
       "7049           76.612903          749.064516           226.290323   \n",
       "7050           52.967742          616.451613            67.612903   \n",
       "7051           25.161290          301.096774            26.838710   \n",
       "\n",
       "      sun_radiation_north  sun_radiation_perpendicular  outside_temperature  \\\n",
       "ID                                                                            \n",
       "7047           115.774194                   814.483871                23.43   \n",
       "7048            99.612903                   766.774194                19.10   \n",
       "7049            81.967742                   681.032258                19.23   \n",
       "7050            70.387097                   524.322581                18.83   \n",
       "7051            88.903226                   249.935484                18.12   \n",
       "\n",
       "      wind_speed  wind_direction  clouds  \n",
       "ID                                        \n",
       "7047        6.17           200.0    20.0  \n",
       "7048        5.66           210.0    40.0  \n",
       "7049        2.06           230.0    20.0  \n",
       "7050        3.60           220.0    20.0  \n",
       "7051        2.57           220.0    20.0  "
      ]
     },
     "execution_count": 3,
     "metadata": {},
     "output_type": "execute_result"
    }
   ],
   "source": [
    "test = pd.read_csv(\"data/test.csv\", index_col=\"ID\")\n",
    "test.head()"
   ]
  },
  {
   "cell_type": "markdown",
   "id": "8e700bab",
   "metadata": {
    "papermill": {
     "duration": 0.004124,
     "end_time": "2024-11-24T22:46:48.346632",
     "exception": false,
     "start_time": "2024-11-24T22:46:48.342508",
     "status": "completed"
    },
    "tags": []
   },
   "source": [
    "Making the model is your task, but here is a simple example of how you do that."
   ]
  },
  {
   "cell_type": "code",
   "execution_count": 4,
   "id": "afd046e7",
   "metadata": {
    "execution": {
     "iopub.execute_input": "2024-11-24T22:46:48.356486Z",
     "iopub.status.busy": "2024-11-24T22:46:48.356118Z",
     "iopub.status.idle": "2024-11-24T22:46:48.364066Z",
     "shell.execute_reply": "2024-11-24T22:46:48.362919Z"
    },
    "papermill": {
     "duration": 0.015457,
     "end_time": "2024-11-24T22:46:48.366231",
     "exception": false,
     "start_time": "2024-11-24T22:46:48.350774",
     "status": "completed"
    },
    "tags": []
   },
   "outputs": [],
   "source": [
    "X = train.drop(columns=[\"target\"])\n",
    "y = train[\"target\"]"
   ]
  },
  {
   "cell_type": "code",
   "execution_count": 5,
   "id": "8780b509",
   "metadata": {
    "execution": {
     "iopub.execute_input": "2024-11-24T22:46:48.378060Z",
     "iopub.status.busy": "2024-11-24T22:46:48.377361Z",
     "iopub.status.idle": "2024-11-24T22:46:49.636109Z",
     "shell.execute_reply": "2024-11-24T22:46:49.635051Z"
    },
    "papermill": {
     "duration": 1.267475,
     "end_time": "2024-11-24T22:46:49.638237",
     "exception": false,
     "start_time": "2024-11-24T22:46:48.370762",
     "status": "completed"
    },
    "tags": []
   },
   "outputs": [
    {
     "data": {
      "text/html": [
       "<style>#sk-container-id-1 {color: black;background-color: white;}#sk-container-id-1 pre{padding: 0;}#sk-container-id-1 div.sk-toggleable {background-color: white;}#sk-container-id-1 label.sk-toggleable__label {cursor: pointer;display: block;width: 100%;margin-bottom: 0;padding: 0.3em;box-sizing: border-box;text-align: center;}#sk-container-id-1 label.sk-toggleable__label-arrow:before {content: \"▸\";float: left;margin-right: 0.25em;color: #696969;}#sk-container-id-1 label.sk-toggleable__label-arrow:hover:before {color: black;}#sk-container-id-1 div.sk-estimator:hover label.sk-toggleable__label-arrow:before {color: black;}#sk-container-id-1 div.sk-toggleable__content {max-height: 0;max-width: 0;overflow: hidden;text-align: left;background-color: #f0f8ff;}#sk-container-id-1 div.sk-toggleable__content pre {margin: 0.2em;color: black;border-radius: 0.25em;background-color: #f0f8ff;}#sk-container-id-1 input.sk-toggleable__control:checked~div.sk-toggleable__content {max-height: 200px;max-width: 100%;overflow: auto;}#sk-container-id-1 input.sk-toggleable__control:checked~label.sk-toggleable__label-arrow:before {content: \"▾\";}#sk-container-id-1 div.sk-estimator input.sk-toggleable__control:checked~label.sk-toggleable__label {background-color: #d4ebff;}#sk-container-id-1 div.sk-label input.sk-toggleable__control:checked~label.sk-toggleable__label {background-color: #d4ebff;}#sk-container-id-1 input.sk-hidden--visually {border: 0;clip: rect(1px 1px 1px 1px);clip: rect(1px, 1px, 1px, 1px);height: 1px;margin: -1px;overflow: hidden;padding: 0;position: absolute;width: 1px;}#sk-container-id-1 div.sk-estimator {font-family: monospace;background-color: #f0f8ff;border: 1px dotted black;border-radius: 0.25em;box-sizing: border-box;margin-bottom: 0.5em;}#sk-container-id-1 div.sk-estimator:hover {background-color: #d4ebff;}#sk-container-id-1 div.sk-parallel-item::after {content: \"\";width: 100%;border-bottom: 1px solid gray;flex-grow: 1;}#sk-container-id-1 div.sk-label:hover label.sk-toggleable__label {background-color: #d4ebff;}#sk-container-id-1 div.sk-serial::before {content: \"\";position: absolute;border-left: 1px solid gray;box-sizing: border-box;top: 0;bottom: 0;left: 50%;z-index: 0;}#sk-container-id-1 div.sk-serial {display: flex;flex-direction: column;align-items: center;background-color: white;padding-right: 0.2em;padding-left: 0.2em;position: relative;}#sk-container-id-1 div.sk-item {position: relative;z-index: 1;}#sk-container-id-1 div.sk-parallel {display: flex;align-items: stretch;justify-content: center;background-color: white;position: relative;}#sk-container-id-1 div.sk-item::before, #sk-container-id-1 div.sk-parallel-item::before {content: \"\";position: absolute;border-left: 1px solid gray;box-sizing: border-box;top: 0;bottom: 0;left: 50%;z-index: -1;}#sk-container-id-1 div.sk-parallel-item {display: flex;flex-direction: column;z-index: 1;position: relative;background-color: white;}#sk-container-id-1 div.sk-parallel-item:first-child::after {align-self: flex-end;width: 50%;}#sk-container-id-1 div.sk-parallel-item:last-child::after {align-self: flex-start;width: 50%;}#sk-container-id-1 div.sk-parallel-item:only-child::after {width: 0;}#sk-container-id-1 div.sk-dashed-wrapped {border: 1px dashed gray;margin: 0 0.4em 0.5em 0.4em;box-sizing: border-box;padding-bottom: 0.4em;background-color: white;}#sk-container-id-1 div.sk-label label {font-family: monospace;font-weight: bold;display: inline-block;line-height: 1.2em;}#sk-container-id-1 div.sk-label-container {text-align: center;}#sk-container-id-1 div.sk-container {/* jupyter's `normalize.less` sets `[hidden] { display: none; }` but bootstrap.min.css set `[hidden] { display: none !important; }` so we also need the `!important` here to be able to override the default hidden behavior on the sphinx rendered scikit-learn.org. See: https://github.com/scikit-learn/scikit-learn/issues/21755 */display: inline-block !important;position: relative;}#sk-container-id-1 div.sk-text-repr-fallback {display: none;}</style><div id=\"sk-container-id-1\" class=\"sk-top-container\"><div class=\"sk-text-repr-fallback\"><pre>DummyRegressor()</pre><b>In a Jupyter environment, please rerun this cell to show the HTML representation or trust the notebook. <br />On GitHub, the HTML representation is unable to render, please try loading this page with nbviewer.org.</b></div><div class=\"sk-container\" hidden><div class=\"sk-item\"><div class=\"sk-estimator sk-toggleable\"><input class=\"sk-toggleable__control sk-hidden--visually\" id=\"sk-estimator-id-1\" type=\"checkbox\" checked><label for=\"sk-estimator-id-1\" class=\"sk-toggleable__label sk-toggleable__label-arrow\">DummyRegressor</label><div class=\"sk-toggleable__content\"><pre>DummyRegressor()</pre></div></div></div></div></div>"
      ],
      "text/plain": [
       "DummyRegressor()"
      ]
     },
     "execution_count": 5,
     "metadata": {},
     "output_type": "execute_result"
    }
   ],
   "source": [
    "# Load and train a Dummy model\n",
    "from sklearn.dummy import DummyRegressor\n",
    "\n",
    "model = DummyRegressor()\n",
    "model.fit(X, y)"
   ]
  },
  {
   "cell_type": "markdown",
   "id": "84987f60",
   "metadata": {
    "papermill": {
     "duration": 0.004363,
     "end_time": "2024-11-24T22:46:49.647327",
     "exception": false,
     "start_time": "2024-11-24T22:46:49.642964",
     "status": "completed"
    },
    "tags": []
   },
   "source": [
    "Let's use this trained dummy model to make predictions on the test set"
   ]
  },
  {
   "cell_type": "code",
   "execution_count": 6,
   "id": "638cfd7d",
   "metadata": {
    "execution": {
     "iopub.execute_input": "2024-11-24T22:46:49.658075Z",
     "iopub.status.busy": "2024-11-24T22:46:49.657543Z",
     "iopub.status.idle": "2024-11-24T22:46:49.662733Z",
     "shell.execute_reply": "2024-11-24T22:46:49.661841Z"
    },
    "papermill": {
     "duration": 0.013096,
     "end_time": "2024-11-24T22:46:49.664970",
     "exception": false,
     "start_time": "2024-11-24T22:46:49.651874",
     "status": "completed"
    },
    "tags": []
   },
   "outputs": [],
   "source": [
    "X_test = test\n",
    "\n",
    "test_predictions = model.predict(X_test)"
   ]
  },
  {
   "cell_type": "code",
   "execution_count": 7,
   "id": "1ad2279f",
   "metadata": {
    "execution": {
     "iopub.execute_input": "2024-11-24T22:46:49.676761Z",
     "iopub.status.busy": "2024-11-24T22:46:49.675720Z",
     "iopub.status.idle": "2024-11-24T22:46:49.684622Z",
     "shell.execute_reply": "2024-11-24T22:46:49.683611Z"
    },
    "papermill": {
     "duration": 0.016931,
     "end_time": "2024-11-24T22:46:49.686829",
     "exception": false,
     "start_time": "2024-11-24T22:46:49.669898",
     "status": "completed"
    },
    "tags": []
   },
   "outputs": [
    {
     "data": {
      "text/plain": [
       "array([13.90299228, 13.90299228, 13.90299228, ..., 13.90299228,\n",
       "       13.90299228, 13.90299228])"
      ]
     },
     "execution_count": 7,
     "metadata": {},
     "output_type": "execute_result"
    }
   ],
   "source": [
    "# let's see what the predictions look like\n",
    "test_predictions"
   ]
  },
  {
   "cell_type": "markdown",
   "id": "d83e3306",
   "metadata": {
    "papermill": {
     "duration": 0.004415,
     "end_time": "2024-11-24T22:46:49.696067",
     "exception": false,
     "start_time": "2024-11-24T22:46:49.691652",
     "status": "completed"
    },
    "tags": []
   },
   "source": [
    "These predictions are fine, but not in the acceptable format. They are in the numpy array (see above). But we need it to format it similar to the `sample_submission` file."
   ]
  },
  {
   "cell_type": "code",
   "execution_count": null,
   "id": "7ae693b4",
   "metadata": {
    "execution": {
     "iopub.execute_input": "2024-11-24T22:46:49.706644Z",
     "iopub.status.busy": "2024-11-24T22:46:49.706251Z",
     "iopub.status.idle": "2024-11-24T22:46:49.721809Z",
     "shell.execute_reply": "2024-11-24T22:46:49.720652Z"
    },
    "papermill": {
     "duration": 0.023476,
     "end_time": "2024-11-24T22:46:49.724126",
     "exception": false,
     "start_time": "2024-11-24T22:46:49.700650",
     "status": "completed"
    },
    "tags": []
   },
   "outputs": [
    {
     "data": {
      "text/html": [
       "<div>\n",
       "<style scoped>\n",
       "    .dataframe tbody tr th:only-of-type {\n",
       "        vertical-align: middle;\n",
       "    }\n",
       "\n",
       "    .dataframe tbody tr th {\n",
       "        vertical-align: top;\n",
       "    }\n",
       "\n",
       "    .dataframe thead th {\n",
       "        text-align: right;\n",
       "    }\n",
       "</style>\n",
       "<table border=\"1\" class=\"dataframe\">\n",
       "  <thead>\n",
       "    <tr style=\"text-align: right;\">\n",
       "      <th></th>\n",
       "      <th>target</th>\n",
       "    </tr>\n",
       "    <tr>\n",
       "      <th>ID</th>\n",
       "      <th></th>\n",
       "    </tr>\n",
       "  </thead>\n",
       "  <tbody>\n",
       "    <tr>\n",
       "      <th>7047</th>\n",
       "      <td>13.9</td>\n",
       "    </tr>\n",
       "    <tr>\n",
       "      <th>7048</th>\n",
       "      <td>13.9</td>\n",
       "    </tr>\n",
       "    <tr>\n",
       "      <th>7049</th>\n",
       "      <td>13.9</td>\n",
       "    </tr>\n",
       "    <tr>\n",
       "      <th>7050</th>\n",
       "      <td>13.9</td>\n",
       "    </tr>\n",
       "    <tr>\n",
       "      <th>7051</th>\n",
       "      <td>13.9</td>\n",
       "    </tr>\n",
       "  </tbody>\n",
       "</table>\n",
       "</div>"
      ],
      "text/plain": [
       "      target\n",
       "ID          \n",
       "7047    13.9\n",
       "7048    13.9\n",
       "7049    13.9\n",
       "7050    13.9\n",
       "7051    13.9"
      ]
     },
     "execution_count": 8,
     "metadata": {},
     "output_type": "execute_result"
    }
   ],
   "source": [
    "sample_submission = pd.read_csv(\"data/sample_submission.csv\", index_col=\"ID\")\n",
    "sample_submission.head()"
   ]
  },
  {
   "cell_type": "markdown",
   "id": "9f6c920f",
   "metadata": {
    "papermill": {
     "duration": 0.004544,
     "end_time": "2024-11-24T22:46:49.733667",
     "exception": false,
     "start_time": "2024-11-24T22:46:49.729123",
     "status": "completed"
    },
    "tags": []
   },
   "source": [
    "Let's copy the sample file and replace the values, like follows:"
   ]
  },
  {
   "cell_type": "code",
   "execution_count": 9,
   "id": "62edea97",
   "metadata": {
    "execution": {
     "iopub.execute_input": "2024-11-24T22:46:49.745293Z",
     "iopub.status.busy": "2024-11-24T22:46:49.744438Z",
     "iopub.status.idle": "2024-11-24T22:46:49.755864Z",
     "shell.execute_reply": "2024-11-24T22:46:49.754657Z"
    },
    "papermill": {
     "duration": 0.019651,
     "end_time": "2024-11-24T22:46:49.758127",
     "exception": false,
     "start_time": "2024-11-24T22:46:49.738476",
     "status": "completed"
    },
    "tags": []
   },
   "outputs": [
    {
     "data": {
      "text/html": [
       "<div>\n",
       "<style scoped>\n",
       "    .dataframe tbody tr th:only-of-type {\n",
       "        vertical-align: middle;\n",
       "    }\n",
       "\n",
       "    .dataframe tbody tr th {\n",
       "        vertical-align: top;\n",
       "    }\n",
       "\n",
       "    .dataframe thead th {\n",
       "        text-align: right;\n",
       "    }\n",
       "</style>\n",
       "<table border=\"1\" class=\"dataframe\">\n",
       "  <thead>\n",
       "    <tr style=\"text-align: right;\">\n",
       "      <th></th>\n",
       "      <th>target</th>\n",
       "    </tr>\n",
       "    <tr>\n",
       "      <th>ID</th>\n",
       "      <th></th>\n",
       "    </tr>\n",
       "  </thead>\n",
       "  <tbody>\n",
       "    <tr>\n",
       "      <th>7047</th>\n",
       "      <td>13.902992</td>\n",
       "    </tr>\n",
       "    <tr>\n",
       "      <th>7048</th>\n",
       "      <td>13.902992</td>\n",
       "    </tr>\n",
       "    <tr>\n",
       "      <th>7049</th>\n",
       "      <td>13.902992</td>\n",
       "    </tr>\n",
       "    <tr>\n",
       "      <th>7050</th>\n",
       "      <td>13.902992</td>\n",
       "    </tr>\n",
       "    <tr>\n",
       "      <th>7051</th>\n",
       "      <td>13.902992</td>\n",
       "    </tr>\n",
       "    <tr>\n",
       "      <th>...</th>\n",
       "      <td>...</td>\n",
       "    </tr>\n",
       "    <tr>\n",
       "      <th>8804</th>\n",
       "      <td>13.902992</td>\n",
       "    </tr>\n",
       "    <tr>\n",
       "      <th>8805</th>\n",
       "      <td>13.902992</td>\n",
       "    </tr>\n",
       "    <tr>\n",
       "      <th>8806</th>\n",
       "      <td>13.902992</td>\n",
       "    </tr>\n",
       "    <tr>\n",
       "      <th>8807</th>\n",
       "      <td>13.902992</td>\n",
       "    </tr>\n",
       "    <tr>\n",
       "      <th>8808</th>\n",
       "      <td>13.902992</td>\n",
       "    </tr>\n",
       "  </tbody>\n",
       "</table>\n",
       "<p>1762 rows × 1 columns</p>\n",
       "</div>"
      ],
      "text/plain": [
       "         target\n",
       "ID             \n",
       "7047  13.902992\n",
       "7048  13.902992\n",
       "7049  13.902992\n",
       "7050  13.902992\n",
       "7051  13.902992\n",
       "...         ...\n",
       "8804  13.902992\n",
       "8805  13.902992\n",
       "8806  13.902992\n",
       "8807  13.902992\n",
       "8808  13.902992\n",
       "\n",
       "[1762 rows x 1 columns]"
      ]
     },
     "execution_count": 9,
     "metadata": {},
     "output_type": "execute_result"
    }
   ],
   "source": [
    "test_submission = sample_submission.copy()\n",
    "test_submission[\"target\"] = test_predictions\n",
    "\n",
    "test_submission"
   ]
  },
  {
   "cell_type": "markdown",
   "id": "e079bee9",
   "metadata": {
    "papermill": {
     "duration": 0.004614,
     "end_time": "2024-11-24T22:46:49.767839",
     "exception": false,
     "start_time": "2024-11-24T22:46:49.763225",
     "status": "completed"
    },
    "tags": []
   },
   "source": [
    "Your submission file has two columns: an ID column and a target column. The ID field comes from the test data. The prediction column will use the name of the target field."
   ]
  },
  {
   "cell_type": "code",
   "execution_count": null,
   "id": "14b58bd8",
   "metadata": {
    "execution": {
     "iopub.execute_input": "2024-11-24T22:46:49.779023Z",
     "iopub.status.busy": "2024-11-24T22:46:49.778624Z",
     "iopub.status.idle": "2024-11-24T22:46:50.959870Z",
     "shell.execute_reply": "2024-11-24T22:46:50.958687Z"
    },
    "papermill": {
     "duration": 1.189679,
     "end_time": "2024-11-24T22:46:50.962284",
     "exception": false,
     "start_time": "2024-11-24T22:46:49.772605",
     "status": "completed"
    },
    "tags": []
   },
   "outputs": [
    {
     "name": "stdout",
     "output_type": "stream",
     "text": [
      "ID,target\r\n",
      "7047,13.902992283983563\r\n",
      "7048,13.902992283983563\r\n",
      "7049,13.902992283983563\r\n",
      "7050,13.902992283983563\r\n",
      "7051,13.902992283983563\r\n",
      "7052,13.902992283983563\r\n",
      "7053,13.902992283983563\r\n",
      "7054,13.902992283983563\r\n",
      "7055,13.902992283983563\r\n"
     ]
    }
   ],
   "source": [
    "# Write to a file\n",
    "test_submission.to_csv(\"submission.csv\")"
   ]
  },
  {
   "cell_type": "markdown",
   "id": "d220cb89",
   "metadata": {},
   "source": [
    "Finally, upload this `submission.csv` file to the Kaggle competition page (top right button) and see how you did! 🚀"
   ]
  },
  {
   "cell_type": "code",
   "execution_count": null,
   "id": "c96ccf2a",
   "metadata": {
    "papermill": {
     "duration": 0.00468,
     "end_time": "2024-11-24T22:46:50.972278",
     "exception": false,
     "start_time": "2024-11-24T22:46:50.967598",
     "status": "completed"
    },
    "tags": []
   },
   "outputs": [],
   "source": []
  }
 ],
 "metadata": {
  "kaggle": {
   "accelerator": "none",
   "dataSources": [
    {
     "databundleVersionId": 10213431,
     "sourceId": 87740,
     "sourceType": "competition"
    }
   ],
   "dockerImageVersionId": 30786,
   "isGpuEnabled": false,
   "isInternetEnabled": true,
   "language": "python",
   "sourceType": "notebook"
  },
  "kernelspec": {
   "display_name": "Python 3",
   "language": "python",
   "name": "python3"
  },
  "language_info": {
   "codemirror_mode": {
    "name": "ipython",
    "version": 3
   },
   "file_extension": ".py",
   "mimetype": "text/x-python",
   "name": "python",
   "nbconvert_exporter": "python",
   "pygments_lexer": "ipython3",
   "version": "3.10.14"
  },
  "papermill": {
   "default_parameters": {},
   "duration": 6.995348,
   "end_time": "2024-11-24T22:46:51.598650",
   "environment_variables": {},
   "exception": null,
   "input_path": "__notebook__.ipynb",
   "output_path": "__notebook__.ipynb",
   "parameters": {},
   "start_time": "2024-11-24T22:46:44.603302",
   "version": "2.6.0"
  }
 },
 "nbformat": 4,
 "nbformat_minor": 5
}
